{
 "cells": [
  {
   "cell_type": "code",
   "execution_count": 1,
   "metadata": {
    "_cell_guid": "b1076dfc-b9ad-4769-8c92-a6c4dae69d19",
    "_uuid": "8f2839f25d086af736a60e9eeb907d3b93b6e0e5",
    "execution": {
     "iopub.execute_input": "2021-07-20T04:09:08.172576Z",
     "iopub.status.busy": "2021-07-20T04:09:08.171781Z",
     "iopub.status.idle": "2021-07-20T04:09:08.189499Z",
     "shell.execute_reply": "2021-07-20T04:09:08.188778Z",
     "shell.execute_reply.started": "2021-07-20T04:09:08.172364Z"
    }
   },
   "outputs": [
    {
     "name": "stdout",
     "output_type": "stream",
     "text": [
      "/kaggle/input/bike-sharing-demand/sampleSubmission.csv\n",
      "/kaggle/input/bike-sharing-demand/train.csv\n",
      "/kaggle/input/bike-sharing-demand/test.csv\n"
     ]
    }
   ],
   "source": [
    "# This Python 3 environment comes with many helpful analytics libraries installed\n",
    "# It is defined by the kaggle/python Docker image: https://github.com/kaggle/docker-python\n",
    "# For example, here's several helpful packages to load\n",
    "\n",
    "import numpy as np # linear algebra\n",
    "import pandas as pd # data processing, CSV file I/O (e.g. pd.read_csv)\n",
    "\n",
    "# Input data files are available in the read-only \"../input/\" directory\n",
    "# For example, running this (by clicking run or pressing Shift+Enter) will list all files under the input directory\n",
    "\n",
    "import os\n",
    "for dirname, _, filenames in os.walk('/kaggle/input'):\n",
    "    for filename in filenames:\n",
    "        print(os.path.join(dirname, filename))\n",
    "\n",
    "# You can write up to 20GB to the current directory (/kaggle/working/) that gets preserved as output when you create a version using \"Save & Run All\" \n",
    "# You can also write temporary files to /kaggle/temp/, but they won't be saved outside of the current session"
   ]
  },
  {
   "cell_type": "code",
   "execution_count": 2,
   "metadata": {
    "execution": {
     "iopub.execute_input": "2021-07-20T04:09:08.317513Z",
     "iopub.status.busy": "2021-07-20T04:09:08.317158Z",
     "iopub.status.idle": "2021-07-20T04:09:08.786232Z",
     "shell.execute_reply": "2021-07-20T04:09:08.785543Z",
     "shell.execute_reply.started": "2021-07-20T04:09:08.317482Z"
    }
   },
   "outputs": [],
   "source": [
    "import matplotlib.pyplot as plt\n",
    "import seaborn as sns\n",
    "## train 데이터 셋 , test 데이터 셋\n",
    "## train 은 학습을 위한 데이터 셋\n",
    "## test 은 예측을 위한 데이터 셋(평가)\n",
    "## parse_dates : datetime 컬럼을 시간형으로 불러올 수 있음\n",
    "train = pd.read_csv(\"/kaggle/input/bike-sharing-demand/train.csv\", parse_dates=['datetime'])\n",
    "test = pd.read_csv(\"/kaggle/input/bike-sharing-demand/test.csv\", parse_dates=['datetime'])\n",
    "sub = pd.read_csv(\"/kaggle/input/bike-sharing-demand/sampleSubmission.csv\")"
   ]
  },
  {
   "cell_type": "code",
   "execution_count": 3,
   "metadata": {
    "execution": {
     "iopub.execute_input": "2021-07-20T04:09:08.787760Z",
     "iopub.status.busy": "2021-07-20T04:09:08.787348Z",
     "iopub.status.idle": "2021-07-20T04:09:08.792320Z",
     "shell.execute_reply": "2021-07-20T04:09:08.791617Z",
     "shell.execute_reply.started": "2021-07-20T04:09:08.787732Z"
    }
   },
   "outputs": [],
   "source": [
    "new_tr = train.copy()\n",
    "new_test = test.copy()"
   ]
  },
  {
   "cell_type": "code",
   "execution_count": 4,
   "metadata": {
    "execution": {
     "iopub.execute_input": "2021-07-20T04:09:08.794152Z",
     "iopub.status.busy": "2021-07-20T04:09:08.793759Z",
     "iopub.status.idle": "2021-07-20T04:09:08.820166Z",
     "shell.execute_reply": "2021-07-20T04:09:08.819335Z",
     "shell.execute_reply.started": "2021-07-20T04:09:08.794123Z"
    }
   },
   "outputs": [],
   "source": [
    "## 더미변수, 파생변수 생성\n",
    "new_tr['year'] = new_tr['datetime'].dt.year\n",
    "new_tr['month'] = new_tr['datetime'].dt.month\n",
    "new_tr['day'] = new_tr['datetime'].dt.day\n",
    "new_tr['hour'] = new_tr['datetime'].dt.hour\n",
    "new_tr['minute'] = new_tr['datetime'].dt.minute\n",
    "new_tr['second'] = new_tr['datetime'].dt.second\n",
    "new_tr['dayofweek'] = new_tr['datetime'].dt.dayofweek"
   ]
  },
  {
   "cell_type": "code",
   "execution_count": 5,
   "metadata": {
    "execution": {
     "iopub.execute_input": "2021-07-20T04:09:08.821703Z",
     "iopub.status.busy": "2021-07-20T04:09:08.821400Z",
     "iopub.status.idle": "2021-07-20T04:09:08.858274Z",
     "shell.execute_reply": "2021-07-20T04:09:08.857241Z",
     "shell.execute_reply.started": "2021-07-20T04:09:08.821677Z"
    }
   },
   "outputs": [
    {
     "data": {
      "text/html": [
       "<div>\n",
       "<style scoped>\n",
       "    .dataframe tbody tr th:only-of-type {\n",
       "        vertical-align: middle;\n",
       "    }\n",
       "\n",
       "    .dataframe tbody tr th {\n",
       "        vertical-align: top;\n",
       "    }\n",
       "\n",
       "    .dataframe thead th {\n",
       "        text-align: right;\n",
       "    }\n",
       "</style>\n",
       "<table border=\"1\" class=\"dataframe\">\n",
       "  <thead>\n",
       "    <tr style=\"text-align: right;\">\n",
       "      <th></th>\n",
       "      <th>datetime</th>\n",
       "      <th>year</th>\n",
       "      <th>month</th>\n",
       "      <th>day</th>\n",
       "      <th>hour</th>\n",
       "      <th>dayofweek</th>\n",
       "    </tr>\n",
       "  </thead>\n",
       "  <tbody>\n",
       "    <tr>\n",
       "      <th>0</th>\n",
       "      <td>2011-01-20 00:00:00</td>\n",
       "      <td>2011</td>\n",
       "      <td>1</td>\n",
       "      <td>20</td>\n",
       "      <td>0</td>\n",
       "      <td>3</td>\n",
       "    </tr>\n",
       "    <tr>\n",
       "      <th>1</th>\n",
       "      <td>2011-01-20 01:00:00</td>\n",
       "      <td>2011</td>\n",
       "      <td>1</td>\n",
       "      <td>20</td>\n",
       "      <td>1</td>\n",
       "      <td>3</td>\n",
       "    </tr>\n",
       "    <tr>\n",
       "      <th>2</th>\n",
       "      <td>2011-01-20 02:00:00</td>\n",
       "      <td>2011</td>\n",
       "      <td>1</td>\n",
       "      <td>20</td>\n",
       "      <td>2</td>\n",
       "      <td>3</td>\n",
       "    </tr>\n",
       "    <tr>\n",
       "      <th>3</th>\n",
       "      <td>2011-01-20 03:00:00</td>\n",
       "      <td>2011</td>\n",
       "      <td>1</td>\n",
       "      <td>20</td>\n",
       "      <td>3</td>\n",
       "      <td>3</td>\n",
       "    </tr>\n",
       "    <tr>\n",
       "      <th>4</th>\n",
       "      <td>2011-01-20 04:00:00</td>\n",
       "      <td>2011</td>\n",
       "      <td>1</td>\n",
       "      <td>20</td>\n",
       "      <td>4</td>\n",
       "      <td>3</td>\n",
       "    </tr>\n",
       "    <tr>\n",
       "      <th>...</th>\n",
       "      <td>...</td>\n",
       "      <td>...</td>\n",
       "      <td>...</td>\n",
       "      <td>...</td>\n",
       "      <td>...</td>\n",
       "      <td>...</td>\n",
       "    </tr>\n",
       "    <tr>\n",
       "      <th>6488</th>\n",
       "      <td>2012-12-31 19:00:00</td>\n",
       "      <td>2012</td>\n",
       "      <td>12</td>\n",
       "      <td>31</td>\n",
       "      <td>19</td>\n",
       "      <td>0</td>\n",
       "    </tr>\n",
       "    <tr>\n",
       "      <th>6489</th>\n",
       "      <td>2012-12-31 20:00:00</td>\n",
       "      <td>2012</td>\n",
       "      <td>12</td>\n",
       "      <td>31</td>\n",
       "      <td>20</td>\n",
       "      <td>0</td>\n",
       "    </tr>\n",
       "    <tr>\n",
       "      <th>6490</th>\n",
       "      <td>2012-12-31 21:00:00</td>\n",
       "      <td>2012</td>\n",
       "      <td>12</td>\n",
       "      <td>31</td>\n",
       "      <td>21</td>\n",
       "      <td>0</td>\n",
       "    </tr>\n",
       "    <tr>\n",
       "      <th>6491</th>\n",
       "      <td>2012-12-31 22:00:00</td>\n",
       "      <td>2012</td>\n",
       "      <td>12</td>\n",
       "      <td>31</td>\n",
       "      <td>22</td>\n",
       "      <td>0</td>\n",
       "    </tr>\n",
       "    <tr>\n",
       "      <th>6492</th>\n",
       "      <td>2012-12-31 23:00:00</td>\n",
       "      <td>2012</td>\n",
       "      <td>12</td>\n",
       "      <td>31</td>\n",
       "      <td>23</td>\n",
       "      <td>0</td>\n",
       "    </tr>\n",
       "  </tbody>\n",
       "</table>\n",
       "<p>6493 rows × 6 columns</p>\n",
       "</div>"
      ],
      "text/plain": [
       "                datetime  year  month  day  hour  dayofweek\n",
       "0    2011-01-20 00:00:00  2011      1   20     0          3\n",
       "1    2011-01-20 01:00:00  2011      1   20     1          3\n",
       "2    2011-01-20 02:00:00  2011      1   20     2          3\n",
       "3    2011-01-20 03:00:00  2011      1   20     3          3\n",
       "4    2011-01-20 04:00:00  2011      1   20     4          3\n",
       "...                  ...   ...    ...  ...   ...        ...\n",
       "6488 2012-12-31 19:00:00  2012     12   31    19          0\n",
       "6489 2012-12-31 20:00:00  2012     12   31    20          0\n",
       "6490 2012-12-31 21:00:00  2012     12   31    21          0\n",
       "6491 2012-12-31 22:00:00  2012     12   31    22          0\n",
       "6492 2012-12-31 23:00:00  2012     12   31    23          0\n",
       "\n",
       "[6493 rows x 6 columns]"
      ]
     },
     "execution_count": 5,
     "metadata": {},
     "output_type": "execute_result"
    }
   ],
   "source": [
    "new_test['year'] = new_test['datetime'].dt.year\n",
    "new_test['month'] = new_test['datetime'].dt.month\n",
    "new_test['day'] = new_test['datetime'].dt.day\n",
    "new_test['hour'] = new_test['datetime'].dt.hour\n",
    "new_test['minute'] = new_test['datetime'].dt.minute\n",
    "new_test['second'] = new_test['datetime'].dt.second\n",
    "new_test['dayofweek'] = new_test['datetime'].dt.dayofweek\n",
    "new_test[  ['datetime', 'year', 'month', 'day', 'hour', 'dayofweek']   ]"
   ]
  },
  {
   "cell_type": "code",
   "execution_count": 6,
   "metadata": {
    "execution": {
     "iopub.execute_input": "2021-07-20T04:09:08.934306Z",
     "iopub.status.busy": "2021-07-20T04:09:08.933943Z",
     "iopub.status.idle": "2021-07-20T04:09:08.951072Z",
     "shell.execute_reply": "2021-07-20T04:09:08.950386Z",
     "shell.execute_reply.started": "2021-07-20T04:09:08.934272Z"
    }
   },
   "outputs": [
    {
     "name": "stdout",
     "output_type": "stream",
     "text": [
      "   season  holiday  workingday  weather  temp   atemp  humidity  windspeed  \\\n",
      "0       1        0           0        1  9.84  14.395        81        0.0   \n",
      "1       1        0           0        1  9.02  13.635        80        0.0   \n",
      "2       1        0           0        1  9.02  13.635        80        0.0   \n",
      "3       1        0           0        1  9.84  14.395        75        0.0   \n",
      "4       1        0           0        1  9.84  14.395        75        0.0   \n",
      "\n",
      "   year  hour  dayofweek  \n",
      "0  2011     0          5  \n",
      "1  2011     1          5  \n",
      "2  2011     2          5  \n",
      "3  2011     3          5  \n",
      "4  2011     4          5  \n"
     ]
    }
   ],
   "source": [
    "feature_names = [ 'season', 'holiday', 'workingday', 'weather', \n",
    "                  'temp', 'atemp', 'humidity', 'windspeed', \n",
    "                  \"year\", \"hour\", \"dayofweek\"]  # 공통 변수\n",
    "\n",
    "X_train = new_tr[feature_names]  # 학습용 데이터 변수 선택\n",
    "print(X_train.head())"
   ]
  },
  {
   "cell_type": "code",
   "execution_count": 7,
   "metadata": {
    "execution": {
     "iopub.execute_input": "2021-07-20T04:09:09.121274Z",
     "iopub.status.busy": "2021-07-20T04:09:09.120654Z",
     "iopub.status.idle": "2021-07-20T04:09:09.303823Z",
     "shell.execute_reply": "2021-07-20T04:09:09.303133Z",
     "shell.execute_reply.started": "2021-07-20T04:09:09.121241Z"
    }
   },
   "outputs": [
    {
     "data": {
      "text/plain": [
       "(array([4284., 2337., 1686., 1067.,  633.,  426.,  233.,  116.,   85.,\n",
       "          19.]),\n",
       " array([  1. ,  98.6, 196.2, 293.8, 391.4, 489. , 586.6, 684.2, 781.8,\n",
       "        879.4, 977. ]),\n",
       " <BarContainer object of 10 artists>)"
      ]
     },
     "execution_count": 7,
     "metadata": {},
     "output_type": "execute_result"
    },
    {
     "data": {
      "image/png": "[encoded data removed]",
      "text/plain": [
       "<Figure size 432x288 with 1 Axes>"
      ]
     },
     "metadata": {
      "needs_background": "light"
     },
     "output_type": "display_data"
    }
   ],
   "source": [
    "plt.hist(new_tr['count'])"
   ]
  },
  {
   "cell_type": "code",
   "execution_count": 8,
   "metadata": {
    "execution": {
     "iopub.execute_input": "2021-07-20T04:09:09.305262Z",
     "iopub.status.busy": "2021-07-20T04:09:09.304874Z",
     "iopub.status.idle": "2021-07-20T04:09:09.323408Z",
     "shell.execute_reply": "2021-07-20T04:09:09.322537Z",
     "shell.execute_reply.started": "2021-07-20T04:09:09.305234Z"
    }
   },
   "outputs": [
    {
     "data": {
      "text/html": [
       "<div>\n",
       "<style scoped>\n",
       "    .dataframe tbody tr th:only-of-type {\n",
       "        vertical-align: middle;\n",
       "    }\n",
       "\n",
       "    .dataframe tbody tr th {\n",
       "        vertical-align: top;\n",
       "    }\n",
       "\n",
       "    .dataframe thead th {\n",
       "        text-align: right;\n",
       "    }\n",
       "</style>\n",
       "<table border=\"1\" class=\"dataframe\">\n",
       "  <thead>\n",
       "    <tr style=\"text-align: right;\">\n",
       "      <th></th>\n",
       "      <th>season</th>\n",
       "      <th>holiday</th>\n",
       "      <th>workingday</th>\n",
       "      <th>weather</th>\n",
       "      <th>temp</th>\n",
       "      <th>atemp</th>\n",
       "      <th>humidity</th>\n",
       "      <th>windspeed</th>\n",
       "      <th>year</th>\n",
       "      <th>hour</th>\n",
       "      <th>dayofweek</th>\n",
       "    </tr>\n",
       "  </thead>\n",
       "  <tbody>\n",
       "    <tr>\n",
       "      <th>0</th>\n",
       "      <td>1</td>\n",
       "      <td>0</td>\n",
       "      <td>1</td>\n",
       "      <td>1</td>\n",
       "      <td>10.66</td>\n",
       "      <td>11.365</td>\n",
       "      <td>56</td>\n",
       "      <td>26.0027</td>\n",
       "      <td>2011</td>\n",
       "      <td>0</td>\n",
       "      <td>3</td>\n",
       "    </tr>\n",
       "    <tr>\n",
       "      <th>1</th>\n",
       "      <td>1</td>\n",
       "      <td>0</td>\n",
       "      <td>1</td>\n",
       "      <td>1</td>\n",
       "      <td>10.66</td>\n",
       "      <td>13.635</td>\n",
       "      <td>56</td>\n",
       "      <td>0.0000</td>\n",
       "      <td>2011</td>\n",
       "      <td>1</td>\n",
       "      <td>3</td>\n",
       "    </tr>\n",
       "    <tr>\n",
       "      <th>2</th>\n",
       "      <td>1</td>\n",
       "      <td>0</td>\n",
       "      <td>1</td>\n",
       "      <td>1</td>\n",
       "      <td>10.66</td>\n",
       "      <td>13.635</td>\n",
       "      <td>56</td>\n",
       "      <td>0.0000</td>\n",
       "      <td>2011</td>\n",
       "      <td>2</td>\n",
       "      <td>3</td>\n",
       "    </tr>\n",
       "    <tr>\n",
       "      <th>3</th>\n",
       "      <td>1</td>\n",
       "      <td>0</td>\n",
       "      <td>1</td>\n",
       "      <td>1</td>\n",
       "      <td>10.66</td>\n",
       "      <td>12.880</td>\n",
       "      <td>56</td>\n",
       "      <td>11.0014</td>\n",
       "      <td>2011</td>\n",
       "      <td>3</td>\n",
       "      <td>3</td>\n",
       "    </tr>\n",
       "    <tr>\n",
       "      <th>4</th>\n",
       "      <td>1</td>\n",
       "      <td>0</td>\n",
       "      <td>1</td>\n",
       "      <td>1</td>\n",
       "      <td>10.66</td>\n",
       "      <td>12.880</td>\n",
       "      <td>56</td>\n",
       "      <td>11.0014</td>\n",
       "      <td>2011</td>\n",
       "      <td>4</td>\n",
       "      <td>3</td>\n",
       "    </tr>\n",
       "  </tbody>\n",
       "</table>\n",
       "</div>"
      ],
      "text/plain": [
       "   season  holiday  workingday  weather   temp   atemp  humidity  windspeed  \\\n",
       "0       1        0           1        1  10.66  11.365        56    26.0027   \n",
       "1       1        0           1        1  10.66  13.635        56     0.0000   \n",
       "2       1        0           1        1  10.66  13.635        56     0.0000   \n",
       "3       1        0           1        1  10.66  12.880        56    11.0014   \n",
       "4       1        0           1        1  10.66  12.880        56    11.0014   \n",
       "\n",
       "   year  hour  dayofweek  \n",
       "0  2011     0          3  \n",
       "1  2011     1          3  \n",
       "2  2011     2          3  \n",
       "3  2011     3          3  \n",
       "4  2011     4          3  "
      ]
     },
     "execution_count": 8,
     "metadata": {},
     "output_type": "execute_result"
    }
   ],
   "source": [
    "new_tr['log_count'] = np.log1p(new_tr['count'] )\n",
    "label_name = 'log_count'                # 렌탈 대수 (종속변수)\n",
    "y_train = new_tr[label_name]        # 렌탈 대수 변수 값 선택\n",
    "X_test = new_test[feature_names]    # 테스트 데이터의 변수 선택\n",
    "X_test.head()                       # 테스트 데이터 선택된 내용 보기"
   ]
  },
  {
   "cell_type": "code",
   "execution_count": 9,
   "metadata": {
    "execution": {
     "iopub.execute_input": "2021-07-20T04:09:09.436077Z",
     "iopub.status.busy": "2021-07-20T04:09:09.435715Z",
     "iopub.status.idle": "2021-07-20T04:09:10.332724Z",
     "shell.execute_reply": "2021-07-20T04:09:10.331749Z",
     "shell.execute_reply.started": "2021-07-20T04:09:09.436046Z"
    }
   },
   "outputs": [
    {
     "data": {
      "text/html": [
       "<style type='text/css'>\n",
       ".datatable table.frame { margin-bottom: 0; }\n",
       ".datatable table.frame thead { border-bottom: none; }\n",
       ".datatable table.frame tr.coltypes td {  color: #FFFFFF;  line-height: 6px;  padding: 0 0.5em;}\n",
       ".datatable .bool    { background: #DDDD99; }\n",
       ".datatable .object  { background: #565656; }\n",
       ".datatable .int     { background: #5D9E5D; }\n",
       ".datatable .float   { background: #4040CC; }\n",
       ".datatable .str     { background: #CC4040; }\n",
       ".datatable .time    { background: #40CC40; }\n",
       ".datatable .row_index {  background: var(--jp-border-color3);  border-right: 1px solid var(--jp-border-color0);  color: var(--jp-ui-font-color3);  font-size: 9px;}\n",
       ".datatable .frame tbody td { text-align: left; }\n",
       ".datatable .frame tr.coltypes .row_index {  background: var(--jp-border-color0);}\n",
       ".datatable th:nth-child(2) { padding-left: 12px; }\n",
       ".datatable .hellipsis {  color: var(--jp-cell-editor-border-color);}\n",
       ".datatable .vellipsis {  background: var(--jp-layout-color0);  color: var(--jp-cell-editor-border-color);}\n",
       ".datatable .na {  color: var(--jp-cell-editor-border-color);  font-size: 80%;}\n",
       ".datatable .sp {  opacity: 0.25;}\n",
       ".datatable .footer { font-size: 9px; }\n",
       ".datatable .frame_dimensions {  background: var(--jp-border-color3);  border-top: 1px solid var(--jp-border-color0);  color: var(--jp-ui-font-color3);  display: inline-block;  opacity: 0.6;  padding: 1px 10px 1px 5px;}\n",
       "</style>\n"
      ],
      "text/plain": [
       "<IPython.core.display.HTML object>"
      ]
     },
     "metadata": {},
     "output_type": "display_data"
    }
   ],
   "source": [
    "from sklearn.model_selection import cross_val_score\n",
    "## 앙상블\n",
    "from sklearn.ensemble import RandomForestRegressor\n",
    "## 그레디언트 부스팅 모델\n",
    "import xgboost as xgb\n",
    "import lightgbm as lgb\n",
    "import numpy as np\n",
    "import time"
   ]
  },
  {
   "cell_type": "code",
   "execution_count": 10,
   "metadata": {
    "execution": {
     "iopub.execute_input": "2021-07-20T04:09:10.334389Z",
     "iopub.status.busy": "2021-07-20T04:09:10.334120Z",
     "iopub.status.idle": "2021-07-20T04:09:10.339016Z",
     "shell.execute_reply": "2021-07-20T04:09:10.337978Z",
     "shell.execute_reply.started": "2021-07-20T04:09:10.334363Z"
    }
   },
   "outputs": [],
   "source": [
    "model_list = [\"RandomForestRegressor\",  \"xgb_basic\", \"lightgbm-model1\", \"lightgbm-model2\"]\n",
    "model_score = []\n",
    "model_time = []"
   ]
  },
  {
   "cell_type": "code",
   "execution_count": 11,
   "metadata": {
    "execution": {
     "iopub.execute_input": "2021-07-20T04:09:10.340788Z",
     "iopub.status.busy": "2021-07-20T04:09:10.340479Z",
     "iopub.status.idle": "2021-07-20T04:09:30.491560Z",
     "shell.execute_reply": "2021-07-20T04:09:30.490606Z",
     "shell.execute_reply.started": "2021-07-20T04:09:10.340761Z"
    }
   },
   "outputs": [
    {
     "name": "stdout",
     "output_type": "stream",
     "text": [
      "20.138360738754272\n",
      "RandomForestRegressor Score : 0.23269844834539466\n"
     ]
    }
   ],
   "source": [
    "now_time = time.time()\n",
    "model_RF = RandomForestRegressor(random_state=30)\n",
    "model_RF.fit(X_train, y_train)\n",
    "score = cross_val_score(model_RF, X_train, y_train, cv=5, scoring=\"neg_mean_squared_error\")\n",
    "m_score = np.abs(score.mean())  # 절대값\n",
    "model_score.append(m_score)\n",
    "pro_time = time.time() - now_time\n",
    "model_time.append(pro_time)\n",
    "print(pro_time)  # 걸린 시간\n",
    "print(\"RandomForestRegressor Score : {}\".format(m_score))  # 점수"
   ]
  },
  {
   "cell_type": "code",
   "execution_count": 12,
   "metadata": {
    "execution": {
     "iopub.execute_input": "2021-07-20T04:09:30.493058Z",
     "iopub.status.busy": "2021-07-20T04:09:30.492800Z",
     "iopub.status.idle": "2021-07-20T04:09:31.339314Z",
     "shell.execute_reply": "2021-07-20T04:09:31.338551Z",
     "shell.execute_reply.started": "2021-07-20T04:09:30.493033Z"
    }
   },
   "outputs": [
    {
     "name": "stdout",
     "output_type": "stream",
     "text": [
      "[04:09:30] WARNING: ../src/objective/regression_obj.cu:171: reg:linear is now deprecated in favor of reg:squarederror.\n",
      "[04:09:30] WARNING: ../src/objective/regression_obj.cu:171: reg:linear is now deprecated in favor of reg:squarederror.\n",
      "[04:09:30] WARNING: ../src/objective/regression_obj.cu:171: reg:linear is now deprecated in favor of reg:squarederror.\n",
      "[04:09:30] WARNING: ../src/objective/regression_obj.cu:171: reg:linear is now deprecated in favor of reg:squarederror.\n",
      "[04:09:31] WARNING: ../src/objective/regression_obj.cu:171: reg:linear is now deprecated in favor of reg:squarederror.\n",
      "[04:09:31] WARNING: ../src/objective/regression_obj.cu:171: reg:linear is now deprecated in favor of reg:squarederror.\n",
      "0.8397138118743896\n",
      "Xgboost Score : 0.30084686102127745\n"
     ]
    }
   ],
   "source": [
    "# data_dmatrix = xgb.DMatrix(data=X_train,label=y_train)\n",
    "now_time = time.time()\n",
    "xg_reg = xgb.XGBRegressor(objective ='reg:linear',\n",
    "            colsample_bytree = 0.3, # 각나무마다 사용하는 feature 비율\n",
    "            learning_rate = 0.1,\n",
    "            max_depth = 3,\n",
    "            alpha = 0.1,\n",
    "            n_estimators = 100)  # n_estimators=100\n",
    "xg_reg.fit(X_train, y_train)\n",
    "score = cross_val_score(xg_reg, X_train, y_train, cv=5, scoring=\"neg_mean_squared_error\")\n",
    "m_score = np.abs(score.mean())  # 절대값\n",
    "model_score.append(m_score)\n",
    "pro_time = time.time() - now_time\n",
    "model_time.append(pro_time)\n",
    "print(pro_time)  # 걸린 시간\n",
    "print(\"Xgboost Score : {}\".format(m_score))  # 점수"
   ]
  },
  {
   "cell_type": "code",
   "execution_count": 13,
   "metadata": {
    "execution": {
     "iopub.execute_input": "2021-07-20T04:09:31.341605Z",
     "iopub.status.busy": "2021-07-20T04:09:31.341027Z",
     "iopub.status.idle": "2021-07-20T04:09:31.347111Z",
     "shell.execute_reply": "2021-07-20T04:09:31.346436Z",
     "shell.execute_reply.started": "2021-07-20T04:09:31.341566Z"
    }
   },
   "outputs": [
    {
     "data": {
      "text/plain": [
       "(['RandomForestRegressor', 'xgb_basic', 'lightgbm-model1', 'lightgbm-model2'],\n",
       " [0.23269844834539466, 0.30084686102127745])"
      ]
     },
     "execution_count": 13,
     "metadata": {},
     "output_type": "execute_result"
    }
   ],
   "source": [
    "model_list, model_score"
   ]
  },
  {
   "cell_type": "code",
   "execution_count": 14,
   "metadata": {
    "execution": {
     "iopub.execute_input": "2021-07-20T04:09:31.349171Z",
     "iopub.status.busy": "2021-07-20T04:09:31.348648Z",
     "iopub.status.idle": "2021-07-20T04:09:32.096898Z",
     "shell.execute_reply": "2021-07-20T04:09:32.096037Z",
     "shell.execute_reply.started": "2021-07-20T04:09:31.349136Z"
    }
   },
   "outputs": [
    {
     "name": "stdout",
     "output_type": "stream",
     "text": [
      "0.7367153167724609\n",
      "LightGBM Score : 0.1835259588783745\n"
     ]
    }
   ],
   "source": [
    "import lightgbm as lgb\n",
    "now_time = time.time()\n",
    "m_lgbm1 = lgb.LGBMRegressor()\n",
    "m_lgbm1.fit(X_train, y_train)\n",
    "score = cross_val_score(m_lgbm1, X_train, y_train,\n",
    "                        cv=5, scoring=\"neg_mean_squared_error\")\n",
    "m_score = np.abs(score.mean())  # 절대값\n",
    "model_score.append(m_score)\n",
    "pro_time = time.time() - now_time\n",
    "model_time.append(pro_time)\n",
    "print(pro_time)  # 걸린 시간\n",
    "print(\"LightGBM Score : {}\".format(m_score))  # 점수"
   ]
  },
  {
   "cell_type": "code",
   "execution_count": 15,
   "metadata": {
    "execution": {
     "iopub.execute_input": "2021-07-20T04:09:32.098920Z",
     "iopub.status.busy": "2021-07-20T04:09:32.098324Z",
     "iopub.status.idle": "2021-07-20T04:09:44.582695Z",
     "shell.execute_reply": "2021-07-20T04:09:44.580934Z",
     "shell.execute_reply.started": "2021-07-20T04:09:32.098882Z"
    }
   },
   "outputs": [
    {
     "name": "stdout",
     "output_type": "stream",
     "text": [
      "12.472906351089478\n",
      "LightGBM Score : 0.17314083367257482\n"
     ]
    }
   ],
   "source": [
    "hyperparameters = {'boosting_type': 'gbdt',\n",
    "                   'colsample_bytree': 0.7250136792694301,\n",
    "                   'is_unbalance': False,\n",
    "                   'learning_rate': 0.013227664889528229,\n",
    "                   'min_child_samples': 20,\n",
    "                   'num_leaves': 56,\n",
    "                   'reg_alpha': 0.7543896477745794,\n",
    "                   'reg_lambda': 0.07152751159655985,\n",
    "                   'subsample_for_bin': 240000,\n",
    "                   'subsample': 0.5233384321711397,\n",
    "                   'n_estimators': 1093}\n",
    "now_time = time.time()\n",
    "m_lgbm2 = lgb.LGBMRegressor(**hyperparameters)\n",
    "m_lgbm2.fit(X_train, y_train)\n",
    "score = cross_val_score(m_lgbm2, X_train, y_train,\n",
    "                        cv=5, scoring=\"neg_mean_squared_error\")\n",
    "m_score = np.abs(score.mean())  # 절대값\n",
    "model_score.append(m_score)\n",
    "pro_time = time.time() - now_time\n",
    "model_time.append(pro_time)\n",
    "print(pro_time)  # 걸린 시간\n",
    "print(\"LightGBM Score : {}\".format(m_score))  # 점수"
   ]
  },
  {
   "cell_type": "code",
   "execution_count": 16,
   "metadata": {
    "execution": {
     "iopub.execute_input": "2021-07-20T04:09:44.584595Z",
     "iopub.status.busy": "2021-07-20T04:09:44.583988Z",
     "iopub.status.idle": "2021-07-20T04:09:44.598506Z",
     "shell.execute_reply": "2021-07-20T04:09:44.597242Z",
     "shell.execute_reply.started": "2021-07-20T04:09:44.584556Z"
    }
   },
   "outputs": [
    {
     "data": {
      "text/html": [
       "<div>\n",
       "<style scoped>\n",
       "    .dataframe tbody tr th:only-of-type {\n",
       "        vertical-align: middle;\n",
       "    }\n",
       "\n",
       "    .dataframe tbody tr th {\n",
       "        vertical-align: top;\n",
       "    }\n",
       "\n",
       "    .dataframe thead th {\n",
       "        text-align: right;\n",
       "    }\n",
       "</style>\n",
       "<table border=\"1\" class=\"dataframe\">\n",
       "  <thead>\n",
       "    <tr style=\"text-align: right;\">\n",
       "      <th></th>\n",
       "      <th>model_name</th>\n",
       "      <th>score</th>\n",
       "      <th>time</th>\n",
       "    </tr>\n",
       "  </thead>\n",
       "  <tbody>\n",
       "    <tr>\n",
       "      <th>0</th>\n",
       "      <td>RandomForestRegressor</td>\n",
       "      <td>0.232698</td>\n",
       "      <td>20.138361</td>\n",
       "    </tr>\n",
       "    <tr>\n",
       "      <th>1</th>\n",
       "      <td>xgb_basic</td>\n",
       "      <td>0.300847</td>\n",
       "      <td>0.839714</td>\n",
       "    </tr>\n",
       "    <tr>\n",
       "      <th>2</th>\n",
       "      <td>lightgbm-model1</td>\n",
       "      <td>0.183526</td>\n",
       "      <td>0.736715</td>\n",
       "    </tr>\n",
       "    <tr>\n",
       "      <th>3</th>\n",
       "      <td>lightgbm-model2</td>\n",
       "      <td>0.173141</td>\n",
       "      <td>12.472906</td>\n",
       "    </tr>\n",
       "  </tbody>\n",
       "</table>\n",
       "</div>"
      ],
      "text/plain": [
       "              model_name     score       time\n",
       "0  RandomForestRegressor  0.232698  20.138361\n",
       "1              xgb_basic  0.300847   0.839714\n",
       "2        lightgbm-model1  0.183526   0.736715\n",
       "3        lightgbm-model2  0.173141  12.472906"
      ]
     },
     "execution_count": 16,
     "metadata": {},
     "output_type": "execute_result"
    }
   ],
   "source": [
    "import pandas as pd\n",
    "dat = pd.DataFrame( {'model_name':model_list, 'score': model_score, 'time': model_time})\n",
    "dat"
   ]
  },
  {
   "cell_type": "code",
   "execution_count": 17,
   "metadata": {
    "execution": {
     "iopub.execute_input": "2021-07-20T04:09:44.600337Z",
     "iopub.status.busy": "2021-07-20T04:09:44.599915Z",
     "iopub.status.idle": "2021-07-20T04:09:44.930197Z",
     "shell.execute_reply": "2021-07-20T04:09:44.929199Z",
     "shell.execute_reply.started": "2021-07-20T04:09:44.600291Z"
    }
   },
   "outputs": [
    {
     "data": {
      "text/plain": [
       "<AxesSubplot:>"
      ]
     },
     "execution_count": 17,
     "metadata": {},
     "output_type": "execute_result"
    },
    {
     "data": {
      "image/png": "[encoded data removed]",
      "text/plain": [
       "<Figure size 864x1080 with 2 Axes>"
      ]
     },
     "metadata": {
      "needs_background": "light"
     },
     "output_type": "display_data"
    }
   ],
   "source": [
    "plt.figure(figsize=(12,15))  ##전체 그래프 크기 지정\n",
    "plt.subplot(2,1,1)\n",
    "sns.barplot(x=model_score , y=model_list, data=dat)\n",
    "plt.subplot(2,1,2)\n",
    "sns.barplot(x=model_time , y=model_list, data=dat)"
   ]
  },
  {
   "cell_type": "code",
   "execution_count": 18,
   "metadata": {
    "execution": {
     "iopub.execute_input": "2021-07-20T04:09:44.932365Z",
     "iopub.status.busy": "2021-07-20T04:09:44.932051Z",
     "iopub.status.idle": "2021-07-20T04:09:51.356875Z",
     "shell.execute_reply": "2021-07-20T04:09:51.355787Z",
     "shell.execute_reply.started": "2021-07-20T04:09:44.932334Z"
    }
   },
   "outputs": [],
   "source": [
    "# 최종 모델 선택 및 제출\n",
    "model_RF = RandomForestRegressor(random_state=30)\n",
    "model_RF.fit(X_train, y_train)\n",
    "pred1 = model_RF.predict(X_test)\n",
    "\n",
    "# 최종 모델 선택 및 제출\n",
    "m_lgbm2 = lgb.LGBMRegressor(**hyperparameters)\n",
    "m_lgbm2.fit(X_train, y_train)\n",
    "pred2 = m_lgbm2.predict(X_test)\n",
    "\n",
    "sub['count'] = np.expm1(pred1) * 0.2 + np.expm1(pred2) * 0.8 \n",
    "sub.to_csv(\"sub_v07_lgbm_rf_add.csv\", index=False)"
   ]
  },
  {
   "cell_type": "code",
   "execution_count": null,
   "metadata": {},
   "outputs": [],
   "source": []
  }
 ],
 "metadata": {
  "kernelspec": {
   "display_name": "Python 3",
   "language": "python",
   "name": "python3"
  },
  "language_info": {
   "codemirror_mode": {
    "name": "ipython",
    "version": 3
   },
   "file_extension": ".py",
   "mimetype": "text/x-python",
   "name": "python",
   "nbconvert_exporter": "python",
   "pygments_lexer": "ipython3",
   "version": "3.8.3"
  }
 },
 "nbformat": 4,
 "nbformat_minor": 4
}
