{
 "cells": [
  {
   "cell_type": "code",
   "execution_count": null,
   "metadata": {
    "_cell_guid": "b1076dfc-b9ad-4769-8c92-a6c4dae69d19",
    "_uuid": "8f2839f25d086af736a60e9eeb907d3b93b6e0e5",
    "execution": {
     "iopub.execute_input": "2021-06-28T05:59:48.128301Z",
     "iopub.status.busy": "2021-06-28T05:59:48.127871Z",
     "iopub.status.idle": "2021-06-28T05:59:48.13977Z",
     "shell.execute_reply": "2021-06-28T05:59:48.138702Z",
     "shell.execute_reply.started": "2021-06-28T05:59:48.128269Z"
    }
   },
   "outputs": [],
   "source": [
    "# This Python 3 environment comes with many helpful analytics libraries installed\n",
    "# It is defined by the kaggle/python Docker image: https://github.com/kaggle/docker-python\n",
    "# For example, here's several helpful packages to load\n",
    "\n",
    "import numpy as np # linear algebra\n",
    "import pandas as pd # data processing, CSV file I/O (e.g. pd.read_csv)\n",
    "\n",
    "# Input data files are available in the read-only \"../input/\" directory\n",
    "# For example, running this (by clicking run or pressing Shift+Enter) will list all files under the input directory\n",
    "\n",
    "import os\n",
    "for dirname, _, filenames in os.walk('/kaggle/input'):\n",
    "    for filename in filenames:\n",
    "        print(os.path.join(dirname, filename))\n",
    "\n",
    "# You can write up to 20GB to the current directory (/kaggle/working/) that gets preserved as output when you create a version using \"Save & Run All\" \n",
    "# You can also write temporary files to /kaggle/temp/, but they won't be saved outside of the current session"
   ]
  },
  {
   "cell_type": "code",
   "execution_count": null,
   "metadata": {
    "execution": {
     "iopub.execute_input": "2021-06-28T05:59:48.784043Z",
     "iopub.status.busy": "2021-06-28T05:59:48.783641Z",
     "iopub.status.idle": "2021-06-28T05:59:48.788526Z",
     "shell.execute_reply": "2021-06-28T05:59:48.787491Z",
     "shell.execute_reply.started": "2021-06-28T05:59:48.784009Z"
    }
   },
   "outputs": [],
   "source": [
    "import matplotlib.pyplot as plt\n",
    "import seaborn as sns"
   ]
  },
  {
   "cell_type": "code",
   "execution_count": null,
   "metadata": {
    "execution": {
     "iopub.execute_input": "2021-06-28T05:59:49.396379Z",
     "iopub.status.busy": "2021-06-28T05:59:49.395973Z",
     "iopub.status.idle": "2021-06-28T05:59:49.417648Z",
     "shell.execute_reply": "2021-06-28T05:59:49.416301Z",
     "shell.execute_reply.started": "2021-06-28T05:59:49.396345Z"
    }
   },
   "outputs": [],
   "source": [
    "train = pd.read_csv(\"/kaggle/input/titanic/train.csv\")\n",
    "test = pd.read_csv(\"/kaggle/input/titanic/test.csv\")\n",
    "\n",
    "train.shape, test.shape"
   ]
  },
  {
   "cell_type": "code",
   "execution_count": null,
   "metadata": {
    "execution": {
     "iopub.execute_input": "2021-06-28T05:59:50.088853Z",
     "iopub.status.busy": "2021-06-28T05:59:50.0884Z",
     "iopub.status.idle": "2021-06-28T05:59:50.09671Z",
     "shell.execute_reply": "2021-06-28T05:59:50.095499Z",
     "shell.execute_reply.started": "2021-06-28T05:59:50.088814Z"
    }
   },
   "outputs": [],
   "source": [
    "train.columns"
   ]
  },
  {
   "cell_type": "code",
   "execution_count": null,
   "metadata": {
    "execution": {
     "iopub.execute_input": "2021-06-28T05:59:50.309567Z",
     "iopub.status.busy": "2021-06-28T05:59:50.309148Z",
     "iopub.status.idle": "2021-06-28T05:59:50.317446Z",
     "shell.execute_reply": "2021-06-28T05:59:50.315891Z",
     "shell.execute_reply.started": "2021-06-28T05:59:50.309531Z"
    }
   },
   "outputs": [],
   "source": [
    "test.columns"
   ]
  },
  {
   "cell_type": "code",
   "execution_count": null,
   "metadata": {
    "execution": {
     "iopub.execute_input": "2021-06-28T05:59:50.67222Z",
     "iopub.status.busy": "2021-06-28T05:59:50.671795Z",
     "iopub.status.idle": "2021-06-28T05:59:50.691871Z",
     "shell.execute_reply": "2021-06-28T05:59:50.690702Z",
     "shell.execute_reply.started": "2021-06-28T05:59:50.672183Z"
    }
   },
   "outputs": [],
   "source": [
    "train.head()"
   ]
  },
  {
   "cell_type": "code",
   "execution_count": null,
   "metadata": {
    "execution": {
     "iopub.execute_input": "2021-06-28T05:59:51.290767Z",
     "iopub.status.busy": "2021-06-28T05:59:51.290308Z",
     "iopub.status.idle": "2021-06-28T05:59:51.301248Z",
     "shell.execute_reply": "2021-06-28T05:59:51.300038Z",
     "shell.execute_reply.started": "2021-06-28T05:59:51.290725Z"
    }
   },
   "outputs": [],
   "source": [
    "train.isnull().sum()"
   ]
  },
  {
   "cell_type": "code",
   "execution_count": null,
   "metadata": {
    "execution": {
     "iopub.execute_input": "2021-06-28T05:59:51.909623Z",
     "iopub.status.busy": "2021-06-28T05:59:51.909232Z",
     "iopub.status.idle": "2021-06-28T05:59:51.920032Z",
     "shell.execute_reply": "2021-06-28T05:59:51.919007Z",
     "shell.execute_reply.started": "2021-06-28T05:59:51.909592Z"
    }
   },
   "outputs": [],
   "source": [
    "test.isnull().sum()"
   ]
  },
  {
   "cell_type": "code",
   "execution_count": null,
   "metadata": {
    "execution": {
     "iopub.execute_input": "2021-06-28T05:59:52.607167Z",
     "iopub.status.busy": "2021-06-28T05:59:52.606692Z",
     "iopub.status.idle": "2021-06-28T05:59:52.614791Z",
     "shell.execute_reply": "2021-06-28T05:59:52.613647Z",
     "shell.execute_reply.started": "2021-06-28T05:59:52.607103Z"
    }
   },
   "outputs": [],
   "source": [
    "train[\"Embarked\"].unique()"
   ]
  },
  {
   "cell_type": "markdown",
   "metadata": {},
   "source": [
    "### value_counts(): 각각의 값의 개수를 확인"
   ]
  },
  {
   "cell_type": "code",
   "execution_count": null,
   "metadata": {
    "execution": {
     "iopub.execute_input": "2021-06-28T05:59:53.956079Z",
     "iopub.status.busy": "2021-06-28T05:59:53.955689Z",
     "iopub.status.idle": "2021-06-28T05:59:53.965081Z",
     "shell.execute_reply": "2021-06-28T05:59:53.964267Z",
     "shell.execute_reply.started": "2021-06-28T05:59:53.956048Z"
    }
   },
   "outputs": [],
   "source": [
    "train.Embarked.value_counts()"
   ]
  },
  {
   "cell_type": "code",
   "execution_count": null,
   "metadata": {
    "execution": {
     "iopub.execute_input": "2021-06-28T05:59:54.611336Z",
     "iopub.status.busy": "2021-06-28T05:59:54.610467Z",
     "iopub.status.idle": "2021-06-28T05:59:54.620484Z",
     "shell.execute_reply": "2021-06-28T05:59:54.619458Z",
     "shell.execute_reply.started": "2021-06-28T05:59:54.611286Z"
    }
   },
   "outputs": [],
   "source": [
    "train['Embarked'] = train['Embarked'].fillna('S')\n",
    "train['Embarked'].isnull().sum()"
   ]
  },
  {
   "cell_type": "code",
   "execution_count": null,
   "metadata": {
    "execution": {
     "iopub.execute_input": "2021-06-28T05:59:55.381495Z",
     "iopub.status.busy": "2021-06-28T05:59:55.381015Z",
     "iopub.status.idle": "2021-06-28T05:59:55.391458Z",
     "shell.execute_reply": "2021-06-28T05:59:55.39045Z",
     "shell.execute_reply.started": "2021-06-28T05:59:55.38145Z"
    }
   },
   "outputs": [],
   "source": [
    "train['Embarked'] = train['Embarked'].map({'S':0, 'C':1, \"Q\":2}).astype(int) ##자료형 변경\n",
    "test['Embarked'] = test['Embarked'].map({'S':0, 'C':1, \"Q\":2}).astype(int) ##자료형 변경"
   ]
  },
  {
   "cell_type": "code",
   "execution_count": null,
   "metadata": {
    "execution": {
     "iopub.execute_input": "2021-06-28T05:59:56.221523Z",
     "iopub.status.busy": "2021-06-28T05:59:56.221063Z",
     "iopub.status.idle": "2021-06-28T05:59:56.230691Z",
     "shell.execute_reply": "2021-06-28T05:59:56.229741Z",
     "shell.execute_reply.started": "2021-06-28T05:59:56.221485Z"
    }
   },
   "outputs": [],
   "source": [
    "train['Sex'] = train['Sex'].map({'male':0, 'female':1}).astype(int)\n",
    "test['Sex'] = test['Sex'].map({'male':0, 'female':1}).astype(int)"
   ]
  },
  {
   "cell_type": "code",
   "execution_count": null,
   "metadata": {
    "execution": {
     "iopub.execute_input": "2021-06-28T05:59:56.811625Z",
     "iopub.status.busy": "2021-06-28T05:59:56.811198Z",
     "iopub.status.idle": "2021-06-28T05:59:56.830359Z",
     "shell.execute_reply": "2021-06-28T05:59:56.829348Z",
     "shell.execute_reply.started": "2021-06-28T05:59:56.811585Z"
    }
   },
   "outputs": [],
   "source": [
    "train.head()"
   ]
  },
  {
   "cell_type": "code",
   "execution_count": null,
   "metadata": {
    "execution": {
     "iopub.execute_input": "2021-06-28T05:59:57.177218Z",
     "iopub.status.busy": "2021-06-28T05:59:57.176737Z",
     "iopub.status.idle": "2021-06-28T05:59:57.196512Z",
     "shell.execute_reply": "2021-06-28T05:59:57.195236Z",
     "shell.execute_reply.started": "2021-06-28T05:59:57.17718Z"
    }
   },
   "outputs": [],
   "source": [
    "test.head()"
   ]
  },
  {
   "cell_type": "code",
   "execution_count": null,
   "metadata": {
    "execution": {
     "iopub.execute_input": "2021-06-28T05:59:57.605365Z",
     "iopub.status.busy": "2021-06-28T05:59:57.604914Z",
     "iopub.status.idle": "2021-06-28T05:59:57.643196Z",
     "shell.execute_reply": "2021-06-28T05:59:57.642115Z",
     "shell.execute_reply.started": "2021-06-28T05:59:57.605316Z"
    }
   },
   "outputs": [],
   "source": [
    "train[\"Title\"] = train.Name.str.extract('([A-Za-z]+)\\.', expand=False)\n",
    "test[\"Title\"] = test.Name.str.extract('([A-Za-z]+)\\.', expand=False)\n",
    "\n",
    "pd.crosstab(test['Title'], train['Sex'])"
   ]
  },
  {
   "cell_type": "code",
   "execution_count": null,
   "metadata": {
    "execution": {
     "iopub.execute_input": "2021-06-28T05:59:58.23328Z",
     "iopub.status.busy": "2021-06-28T05:59:58.232834Z",
     "iopub.status.idle": "2021-06-28T05:59:58.254816Z",
     "shell.execute_reply": "2021-06-28T05:59:58.25358Z",
     "shell.execute_reply.started": "2021-06-28T05:59:58.233239Z"
    }
   },
   "outputs": [],
   "source": [
    "train['Title'] = train['Title'].replace(['Lady', 'Countess','Capt', 'Col',\\\n",
    " \t'Don', 'Dr', 'Major', 'Rev', 'Sir', 'Jonkheer', 'Dona'], 'Rare')\n",
    "train['Title'] = train['Title'].replace('Mlle', 'Miss')\n",
    "train['Title'] = train['Title'].replace('Ms', 'Miss')\n",
    "train['Title'] = train['Title'].replace('Mme', 'Mrs')\n",
    "test['Title'] = test['Title'].replace(['Lady', 'Countess','Capt', 'Col',\\\n",
    " \t'Don', 'Dr', 'Major', 'Rev', 'Sir', 'Jonkheer', 'Dona'], 'Rare')\n",
    "test['Title'] = test['Title'].replace('Mlle', 'Miss')\n",
    "test['Title'] = test['Title'].replace('Ms', 'Miss')\n",
    "test['Title'] = test['Title'].replace('Mme', 'Mrs')"
   ]
  },
  {
   "cell_type": "code",
   "execution_count": null,
   "metadata": {
    "execution": {
     "iopub.execute_input": "2021-06-28T05:59:59.923828Z",
     "iopub.status.busy": "2021-06-28T05:59:59.923435Z",
     "iopub.status.idle": "2021-06-28T05:59:59.947045Z",
     "shell.execute_reply": "2021-06-28T05:59:59.946049Z",
     "shell.execute_reply.started": "2021-06-28T05:59:59.923795Z"
    }
   },
   "outputs": [],
   "source": [
    "title_mapping = {\"Mr\": 1, \"Miss\": 2, \"Mrs\": 3, \"Master\": 4, \"Rare\": 5}\n",
    "all_df = [train, test]\n",
    "for dataset in all_df:\n",
    "    dataset['Title'] = dataset['Title'].map(title_mapping)\n",
    "    dataset['Title'] = dataset['Title'].fillna(0)\n",
    "train.head()"
   ]
  },
  {
   "cell_type": "code",
   "execution_count": null,
   "metadata": {
    "execution": {
     "iopub.execute_input": "2021-06-28T06:00:00.507156Z",
     "iopub.status.busy": "2021-06-28T06:00:00.506705Z",
     "iopub.status.idle": "2021-06-28T06:00:00.528611Z",
     "shell.execute_reply": "2021-06-28T06:00:00.527537Z",
     "shell.execute_reply.started": "2021-06-28T06:00:00.507097Z"
    }
   },
   "outputs": [],
   "source": [
    "train.head()"
   ]
  },
  {
   "cell_type": "code",
   "execution_count": null,
   "metadata": {
    "execution": {
     "iopub.execute_input": "2021-06-28T06:00:32.881828Z",
     "iopub.status.busy": "2021-06-28T06:00:32.881435Z",
     "iopub.status.idle": "2021-06-28T06:00:32.898819Z",
     "shell.execute_reply": "2021-06-28T06:00:32.897746Z",
     "shell.execute_reply.started": "2021-06-28T06:00:32.88179Z"
    }
   },
   "outputs": [],
   "source": [
    "### 2개 컬럼 선택 - Pclass, SibSp\n",
    "sel = ['Pclass','SibSp','Parch','Embarked','Sex','Title']\n",
    "\n",
    "X_train = train[sel]\n",
    "y_train = train['Survived']\n",
    "\n",
    "X_test = test[sel]\n",
    "\n",
    "X_train.head(), y_train.head(), X_test.head()"
   ]
  },
  {
   "cell_type": "code",
   "execution_count": null,
   "metadata": {
    "execution": {
     "iopub.execute_input": "2021-06-28T06:00:33.348247Z",
     "iopub.status.busy": "2021-06-28T06:00:33.347774Z",
     "iopub.status.idle": "2021-06-28T06:00:33.361052Z",
     "shell.execute_reply": "2021-06-28T06:00:33.360053Z",
     "shell.execute_reply.started": "2021-06-28T06:00:33.348206Z"
    }
   },
   "outputs": [],
   "source": [
    "from sklearn.tree import DecisionTreeClassifier\n",
    "\n",
    "tree = DecisionTreeClassifier() ### 01 머신러닝 모델 객체 만들기\n",
    "tree.fit(X_train, y_train) ### 02 머신러닝 모델 훈련시키기\n",
    "pred = tree.predict(X_test) ### 03 훈련시킨 모델로 예측하기\n"
   ]
  },
  {
   "cell_type": "code",
   "execution_count": null,
   "metadata": {
    "execution": {
     "iopub.execute_input": "2021-06-28T06:00:35.728411Z",
     "iopub.status.busy": "2021-06-28T06:00:35.727767Z",
     "iopub.status.idle": "2021-06-28T06:00:35.741529Z",
     "shell.execute_reply": "2021-06-28T06:00:35.740488Z",
     "shell.execute_reply.started": "2021-06-28T06:00:35.728353Z"
    }
   },
   "outputs": [],
   "source": [
    "sub = pd.read_csv(\"/kaggle/input/titanic/gender_submission.csv\")\n",
    "sub['Survived'] = pred\n",
    "sub.to_csv(\"eight_sub.csv\", index=False)"
   ]
  },
  {
   "cell_type": "code",
   "execution_count": null,
   "metadata": {
    "execution": {
     "iopub.execute_input": "2021-06-28T06:00:36.604449Z",
     "iopub.status.busy": "2021-06-28T06:00:36.603761Z",
     "iopub.status.idle": "2021-06-28T06:00:36.617606Z",
     "shell.execute_reply": "2021-06-28T06:00:36.616402Z",
     "shell.execute_reply.started": "2021-06-28T06:00:36.604394Z"
    }
   },
   "outputs": [],
   "source": [
    "sub"
   ]
  },
  {
   "cell_type": "code",
   "execution_count": null,
   "metadata": {},
   "outputs": [],
   "source": []
  }
 ],
 "metadata": {
  "kernelspec": {
   "display_name": "Python 3",
   "language": "python",
   "name": "python3"
  },
  "language_info": {
   "codemirror_mode": {
    "name": "ipython",
    "version": 3
   },
   "file_extension": ".py",
   "mimetype": "text/x-python",
   "name": "python",
   "nbconvert_exporter": "python",
   "pygments_lexer": "ipython3",
   "version": "3.8.3"
  }
 },
 "nbformat": 4,
 "nbformat_minor": 4
}
