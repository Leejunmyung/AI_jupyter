{
 "cells": [
  {
   "cell_type": "code",
   "execution_count": 42,
   "metadata": {
    "_cell_guid": "b1076dfc-b9ad-4769-8c92-a6c4dae69d19",
    "_uuid": "8f2839f25d086af736a60e9eeb907d3b93b6e0e5",
    "execution": {
     "iopub.execute_input": "2021-06-28T05:08:51.082630Z",
     "iopub.status.busy": "2021-06-28T05:08:51.082247Z",
     "iopub.status.idle": "2021-06-28T05:08:51.092343Z",
     "shell.execute_reply": "2021-06-28T05:08:51.091215Z",
     "shell.execute_reply.started": "2021-06-28T05:08:51.082601Z"
    }
   },
   "outputs": [
    {
     "name": "stdout",
     "output_type": "stream",
     "text": [
      "/kaggle/input/titanic/train.csv\n",
      "/kaggle/input/titanic/test.csv\n",
      "/kaggle/input/titanic/gender_submission.csv\n"
     ]
    }
   ],
   "source": [
    "# This Python 3 environment comes with many helpful analytics libraries installed\n",
    "# It is defined by the kaggle/python Docker image: https://github.com/kaggle/docker-python\n",
    "# For example, here's several helpful packages to load\n",
    "\n",
    "import numpy as np # linear algebra\n",
    "import pandas as pd # data processing, CSV file I/O (e.g. pd.read_csv)\n",
    "\n",
    "# Input data files are available in the read-only \"../input/\" directory\n",
    "# For example, running this (by clicking run or pressing Shift+Enter) will list all files under the input directory\n",
    "\n",
    "import os\n",
    "for dirname, _, filenames in os.walk('/kaggle/input'):\n",
    "    for filename in filenames:\n",
    "        print(os.path.join(dirname, filename))\n",
    "\n",
    "# You can write up to 20GB to the current directory (/kaggle/working/) that gets preserved as output when you create a version using \"Save & Run All\" \n",
    "# You can also write temporary files to /kaggle/temp/, but they won't be saved outside of the current session"
   ]
  },
  {
   "cell_type": "code",
   "execution_count": 43,
   "metadata": {
    "execution": {
     "iopub.execute_input": "2021-06-28T05:08:51.757371Z",
     "iopub.status.busy": "2021-06-28T05:08:51.756945Z",
     "iopub.status.idle": "2021-06-28T05:08:51.762363Z",
     "shell.execute_reply": "2021-06-28T05:08:51.760866Z",
     "shell.execute_reply.started": "2021-06-28T05:08:51.757337Z"
    }
   },
   "outputs": [],
   "source": [
    "import matplotlib.pyplot as plt\n",
    "import seaborn as sns"
   ]
  },
  {
   "cell_type": "code",
   "execution_count": 44,
   "metadata": {
    "execution": {
     "iopub.execute_input": "2021-06-28T05:08:52.866359Z",
     "iopub.status.busy": "2021-06-28T05:08:52.865945Z",
     "iopub.status.idle": "2021-06-28T05:08:52.885212Z",
     "shell.execute_reply": "2021-06-28T05:08:52.884375Z",
     "shell.execute_reply.started": "2021-06-28T05:08:52.866326Z"
    }
   },
   "outputs": [
    {
     "data": {
      "text/plain": [
       "((891, 12), (418, 11))"
      ]
     },
     "execution_count": 44,
     "metadata": {},
     "output_type": "execute_result"
    }
   ],
   "source": [
    "train = pd.read_csv(\"/kaggle/input/titanic/train.csv\")\n",
    "test = pd.read_csv(\"/kaggle/input/titanic/test.csv\")\n",
    "\n",
    "train.shape, test.shape"
   ]
  },
  {
   "cell_type": "code",
   "execution_count": 45,
   "metadata": {
    "execution": {
     "iopub.execute_input": "2021-06-28T05:08:54.222652Z",
     "iopub.status.busy": "2021-06-28T05:08:54.221911Z",
     "iopub.status.idle": "2021-06-28T05:08:54.230937Z",
     "shell.execute_reply": "2021-06-28T05:08:54.229778Z",
     "shell.execute_reply.started": "2021-06-28T05:08:54.222592Z"
    }
   },
   "outputs": [
    {
     "data": {
      "text/plain": [
       "Index(['PassengerId', 'Survived', 'Pclass', 'Name', 'Sex', 'Age', 'SibSp',\n",
       "       'Parch', 'Ticket', 'Fare', 'Cabin', 'Embarked'],\n",
       "      dtype='object')"
      ]
     },
     "execution_count": 45,
     "metadata": {},
     "output_type": "execute_result"
    }
   ],
   "source": [
    "train.columns"
   ]
  },
  {
   "cell_type": "code",
   "execution_count": 46,
   "metadata": {
    "execution": {
     "iopub.execute_input": "2021-06-28T05:08:55.655252Z",
     "iopub.status.busy": "2021-06-28T05:08:55.654586Z",
     "iopub.status.idle": "2021-06-28T05:08:55.663090Z",
     "shell.execute_reply": "2021-06-28T05:08:55.662126Z",
     "shell.execute_reply.started": "2021-06-28T05:08:55.655197Z"
    }
   },
   "outputs": [
    {
     "data": {
      "text/plain": [
       "Index(['PassengerId', 'Pclass', 'Name', 'Sex', 'Age', 'SibSp', 'Parch',\n",
       "       'Ticket', 'Fare', 'Cabin', 'Embarked'],\n",
       "      dtype='object')"
      ]
     },
     "execution_count": 46,
     "metadata": {},
     "output_type": "execute_result"
    }
   ],
   "source": [
    "test.columns"
   ]
  },
  {
   "cell_type": "code",
   "execution_count": 47,
   "metadata": {
    "execution": {
     "iopub.execute_input": "2021-06-28T05:08:58.636123Z",
     "iopub.status.busy": "2021-06-28T05:08:58.635694Z",
     "iopub.status.idle": "2021-06-28T05:08:58.654325Z",
     "shell.execute_reply": "2021-06-28T05:08:58.653355Z",
     "shell.execute_reply.started": "2021-06-28T05:08:58.636077Z"
    }
   },
   "outputs": [
    {
     "data": {
      "text/html": [
       "<div>\n",
       "<style scoped>\n",
       "    .dataframe tbody tr th:only-of-type {\n",
       "        vertical-align: middle;\n",
       "    }\n",
       "\n",
       "    .dataframe tbody tr th {\n",
       "        vertical-align: top;\n",
       "    }\n",
       "\n",
       "    .dataframe thead th {\n",
       "        text-align: right;\n",
       "    }\n",
       "</style>\n",
       "<table border=\"1\" class=\"dataframe\">\n",
       "  <thead>\n",
       "    <tr style=\"text-align: right;\">\n",
       "      <th></th>\n",
       "      <th>PassengerId</th>\n",
       "      <th>Survived</th>\n",
       "      <th>Pclass</th>\n",
       "      <th>Name</th>\n",
       "      <th>Sex</th>\n",
       "      <th>Age</th>\n",
       "      <th>SibSp</th>\n",
       "      <th>Parch</th>\n",
       "      <th>Ticket</th>\n",
       "      <th>Fare</th>\n",
       "      <th>Cabin</th>\n",
       "      <th>Embarked</th>\n",
       "    </tr>\n",
       "  </thead>\n",
       "  <tbody>\n",
       "    <tr>\n",
       "      <th>0</th>\n",
       "      <td>1</td>\n",
       "      <td>0</td>\n",
       "      <td>3</td>\n",
       "      <td>Braund, Mr. Owen Harris</td>\n",
       "      <td>male</td>\n",
       "      <td>22.0</td>\n",
       "      <td>1</td>\n",
       "      <td>0</td>\n",
       "      <td>A/5 21171</td>\n",
       "      <td>7.2500</td>\n",
       "      <td>NaN</td>\n",
       "      <td>S</td>\n",
       "    </tr>\n",
       "    <tr>\n",
       "      <th>1</th>\n",
       "      <td>2</td>\n",
       "      <td>1</td>\n",
       "      <td>1</td>\n",
       "      <td>Cumings, Mrs. John Bradley (Florence Briggs Th...</td>\n",
       "      <td>female</td>\n",
       "      <td>38.0</td>\n",
       "      <td>1</td>\n",
       "      <td>0</td>\n",
       "      <td>PC 17599</td>\n",
       "      <td>71.2833</td>\n",
       "      <td>C85</td>\n",
       "      <td>C</td>\n",
       "    </tr>\n",
       "    <tr>\n",
       "      <th>2</th>\n",
       "      <td>3</td>\n",
       "      <td>1</td>\n",
       "      <td>3</td>\n",
       "      <td>Heikkinen, Miss. Laina</td>\n",
       "      <td>female</td>\n",
       "      <td>26.0</td>\n",
       "      <td>0</td>\n",
       "      <td>0</td>\n",
       "      <td>STON/O2. 3101282</td>\n",
       "      <td>7.9250</td>\n",
       "      <td>NaN</td>\n",
       "      <td>S</td>\n",
       "    </tr>\n",
       "    <tr>\n",
       "      <th>3</th>\n",
       "      <td>4</td>\n",
       "      <td>1</td>\n",
       "      <td>1</td>\n",
       "      <td>Futrelle, Mrs. Jacques Heath (Lily May Peel)</td>\n",
       "      <td>female</td>\n",
       "      <td>35.0</td>\n",
       "      <td>1</td>\n",
       "      <td>0</td>\n",
       "      <td>113803</td>\n",
       "      <td>53.1000</td>\n",
       "      <td>C123</td>\n",
       "      <td>S</td>\n",
       "    </tr>\n",
       "    <tr>\n",
       "      <th>4</th>\n",
       "      <td>5</td>\n",
       "      <td>0</td>\n",
       "      <td>3</td>\n",
       "      <td>Allen, Mr. William Henry</td>\n",
       "      <td>male</td>\n",
       "      <td>35.0</td>\n",
       "      <td>0</td>\n",
       "      <td>0</td>\n",
       "      <td>373450</td>\n",
       "      <td>8.0500</td>\n",
       "      <td>NaN</td>\n",
       "      <td>S</td>\n",
       "    </tr>\n",
       "  </tbody>\n",
       "</table>\n",
       "</div>"
      ],
      "text/plain": [
       "   PassengerId  Survived  Pclass  \\\n",
       "0            1         0       3   \n",
       "1            2         1       1   \n",
       "2            3         1       3   \n",
       "3            4         1       1   \n",
       "4            5         0       3   \n",
       "\n",
       "                                                Name     Sex   Age  SibSp  \\\n",
       "0                            Braund, Mr. Owen Harris    male  22.0      1   \n",
       "1  Cumings, Mrs. John Bradley (Florence Briggs Th...  female  38.0      1   \n",
       "2                             Heikkinen, Miss. Laina  female  26.0      0   \n",
       "3       Futrelle, Mrs. Jacques Heath (Lily May Peel)  female  35.0      1   \n",
       "4                           Allen, Mr. William Henry    male  35.0      0   \n",
       "\n",
       "   Parch            Ticket     Fare Cabin Embarked  \n",
       "0      0         A/5 21171   7.2500   NaN        S  \n",
       "1      0          PC 17599  71.2833   C85        C  \n",
       "2      0  STON/O2. 3101282   7.9250   NaN        S  \n",
       "3      0            113803  53.1000  C123        S  \n",
       "4      0            373450   8.0500   NaN        S  "
      ]
     },
     "execution_count": 47,
     "metadata": {},
     "output_type": "execute_result"
    }
   ],
   "source": [
    "train.head()"
   ]
  },
  {
   "cell_type": "code",
   "execution_count": 48,
   "metadata": {
    "execution": {
     "iopub.execute_input": "2021-06-28T05:09:02.514186Z",
     "iopub.status.busy": "2021-06-28T05:09:02.513694Z",
     "iopub.status.idle": "2021-06-28T05:09:02.525574Z",
     "shell.execute_reply": "2021-06-28T05:09:02.524436Z",
     "shell.execute_reply.started": "2021-06-28T05:09:02.514127Z"
    }
   },
   "outputs": [
    {
     "data": {
      "text/plain": [
       "PassengerId      0\n",
       "Survived         0\n",
       "Pclass           0\n",
       "Name             0\n",
       "Sex              0\n",
       "Age            177\n",
       "SibSp            0\n",
       "Parch            0\n",
       "Ticket           0\n",
       "Fare             0\n",
       "Cabin          687\n",
       "Embarked         2\n",
       "dtype: int64"
      ]
     },
     "execution_count": 48,
     "metadata": {},
     "output_type": "execute_result"
    }
   ],
   "source": [
    "train.isnull().sum()"
   ]
  },
  {
   "cell_type": "code",
   "execution_count": 50,
   "metadata": {
    "execution": {
     "iopub.execute_input": "2021-06-28T05:10:52.890145Z",
     "iopub.status.busy": "2021-06-28T05:10:52.889536Z",
     "iopub.status.idle": "2021-06-28T05:10:52.900624Z",
     "shell.execute_reply": "2021-06-28T05:10:52.899628Z",
     "shell.execute_reply.started": "2021-06-28T05:10:52.890079Z"
    }
   },
   "outputs": [
    {
     "data": {
      "text/plain": [
       "PassengerId      0\n",
       "Pclass           0\n",
       "Name             0\n",
       "Sex              0\n",
       "Age             86\n",
       "SibSp            0\n",
       "Parch            0\n",
       "Ticket           0\n",
       "Fare             1\n",
       "Cabin          327\n",
       "Embarked         0\n",
       "dtype: int64"
      ]
     },
     "execution_count": 50,
     "metadata": {},
     "output_type": "execute_result"
    }
   ],
   "source": [
    "test.isnull().sum()"
   ]
  },
  {
   "cell_type": "code",
   "execution_count": 52,
   "metadata": {
    "execution": {
     "iopub.execute_input": "2021-06-28T05:11:16.753928Z",
     "iopub.status.busy": "2021-06-28T05:11:16.753499Z",
     "iopub.status.idle": "2021-06-28T05:11:16.761565Z",
     "shell.execute_reply": "2021-06-28T05:11:16.760442Z",
     "shell.execute_reply.started": "2021-06-28T05:11:16.753888Z"
    }
   },
   "outputs": [
    {
     "data": {
      "text/plain": [
       "array(['S', 'C', 'Q', nan], dtype=object)"
      ]
     },
     "execution_count": 52,
     "metadata": {},
     "output_type": "execute_result"
    }
   ],
   "source": [
    "train[\"Embarked\"].unique()"
   ]
  },
  {
   "cell_type": "markdown",
   "metadata": {},
   "source": [
    "### value_counts(): 각각의 값의 개수를 확인"
   ]
  },
  {
   "cell_type": "code",
   "execution_count": 54,
   "metadata": {
    "execution": {
     "iopub.execute_input": "2021-06-28T05:13:18.383345Z",
     "iopub.status.busy": "2021-06-28T05:13:18.382899Z",
     "iopub.status.idle": "2021-06-28T05:13:18.394167Z",
     "shell.execute_reply": "2021-06-28T05:13:18.393159Z",
     "shell.execute_reply.started": "2021-06-28T05:13:18.383310Z"
    }
   },
   "outputs": [
    {
     "data": {
      "text/plain": [
       "S    644\n",
       "C    168\n",
       "Q     77\n",
       "Name: Embarked, dtype: int64"
      ]
     },
     "execution_count": 54,
     "metadata": {},
     "output_type": "execute_result"
    }
   ],
   "source": [
    "train.Embarked.value_counts()"
   ]
  },
  {
   "cell_type": "code",
   "execution_count": 55,
   "metadata": {
    "execution": {
     "iopub.execute_input": "2021-06-28T05:14:35.701817Z",
     "iopub.status.busy": "2021-06-28T05:14:35.701398Z",
     "iopub.status.idle": "2021-06-28T05:14:35.711829Z",
     "shell.execute_reply": "2021-06-28T05:14:35.710746Z",
     "shell.execute_reply.started": "2021-06-28T05:14:35.701778Z"
    }
   },
   "outputs": [
    {
     "data": {
      "text/plain": [
       "0"
      ]
     },
     "execution_count": 55,
     "metadata": {},
     "output_type": "execute_result"
    }
   ],
   "source": [
    "train['Embarked'] = train['Embarked'].fillna('S')\n",
    "train['Embarked'].isnull().sum()"
   ]
  },
  {
   "cell_type": "code",
   "execution_count": 49,
   "metadata": {
    "execution": {
     "iopub.execute_input": "2021-06-28T05:09:19.465665Z",
     "iopub.status.busy": "2021-06-28T05:09:19.465228Z",
     "iopub.status.idle": "2021-06-28T05:09:19.481807Z",
     "shell.execute_reply": "2021-06-28T05:09:19.480780Z",
     "shell.execute_reply.started": "2021-06-28T05:09:19.465628Z"
    }
   },
   "outputs": [
    {
     "data": {
      "text/plain": [
       "(   Pclass  SibSp Embarked\n",
       " 0       3      1        S\n",
       " 1       1      1        C\n",
       " 2       3      0        S\n",
       " 3       1      1        S\n",
       " 4       3      0        S,\n",
       " 0    0\n",
       " 1    1\n",
       " 2    1\n",
       " 3    1\n",
       " 4    0\n",
       " Name: Survived, dtype: int64,\n",
       "    Pclass  SibSp Embarked\n",
       " 0       3      0        Q\n",
       " 1       3      1        S\n",
       " 2       2      0        Q\n",
       " 3       3      0        S\n",
       " 4       3      1        S)"
      ]
     },
     "execution_count": 49,
     "metadata": {},
     "output_type": "execute_result"
    }
   ],
   "source": [
    "### 2개 컬럼 선택 - Pclass, SibSp\n",
    "sel = ['Pclass','SibSp','Embarked']\n",
    "\n",
    "X_train = train[sel]\n",
    "y_train = train['Survived']\n",
    "\n",
    "X_test = test[sel]\n",
    "\n",
    "X_train.head(), y_train.head(), X_test.head()"
   ]
  },
  {
   "cell_type": "code",
   "execution_count": null,
   "metadata": {
    "execution": {
     "iopub.execute_input": "2021-06-28T05:04:39.590166Z",
     "iopub.status.busy": "2021-06-28T05:04:39.589745Z",
     "iopub.status.idle": "2021-06-28T05:04:39.600687Z",
     "shell.execute_reply": "2021-06-28T05:04:39.599591Z",
     "shell.execute_reply.started": "2021-06-28T05:04:39.590131Z"
    }
   },
   "outputs": [],
   "source": [
    "from sklearn.tree import DecisionTreeClassifier\n",
    "\n",
    "tree = DecisionTreeClassifier() ### 01 머신러닝 모델 객체 만들기\n",
    "tree.fit(X_train, y_train) ### 02 머신러닝 모델 훈련시키기\n",
    "pred = tree.predict(X_test) ### 03 훈련시킨 모델로 예측하기\n"
   ]
  },
  {
   "cell_type": "code",
   "execution_count": null,
   "metadata": {
    "execution": {
     "iopub.execute_input": "2021-06-28T05:04:40.609161Z",
     "iopub.status.busy": "2021-06-28T05:04:40.608688Z",
     "iopub.status.idle": "2021-06-28T05:04:40.623776Z",
     "shell.execute_reply": "2021-06-28T05:04:40.621928Z",
     "shell.execute_reply.started": "2021-06-28T05:04:40.609098Z"
    }
   },
   "outputs": [],
   "source": [
    "sub = pd.read_csv(\"/kaggle/input/titanic/gender_submission.csv\")\n",
    "sub['Survived'] = pred\n",
    "sub.to_csv(\"first_sub.csv\", index=False)"
   ]
  },
  {
   "cell_type": "code",
   "execution_count": null,
   "metadata": {
    "execution": {
     "iopub.execute_input": "2021-06-28T05:04:41.800977Z",
     "iopub.status.busy": "2021-06-28T05:04:41.800576Z",
     "iopub.status.idle": "2021-06-28T05:04:41.815931Z",
     "shell.execute_reply": "2021-06-28T05:04:41.815123Z",
     "shell.execute_reply.started": "2021-06-28T05:04:41.800942Z"
    }
   },
   "outputs": [],
   "source": [
    "sub"
   ]
  },
  {
   "cell_type": "code",
   "execution_count": null,
   "metadata": {},
   "outputs": [],
   "source": []
  }
 ],
 "metadata": {
  "kernelspec": {
   "display_name": "Python 3",
   "language": "python",
   "name": "python3"
  },
  "language_info": {
   "codemirror_mode": {
    "name": "ipython",
    "version": 3
   },
   "file_extension": ".py",
   "mimetype": "text/x-python",
   "name": "python",
   "nbconvert_exporter": "python",
   "pygments_lexer": "ipython3",
   "version": "3.8.3"
  }
 },
 "nbformat": 4,
 "nbformat_minor": 4
}
