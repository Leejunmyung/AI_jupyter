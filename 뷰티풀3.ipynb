{
 "cells": [
  {
   "cell_type": "code",
   "execution_count": 1,
   "metadata": {},
   "outputs": [],
   "source": [
    "from urllib.request import urlopen\n",
    "from bs4 import BeautifulSoup"
   ]
  },
  {
   "cell_type": "code",
   "execution_count": 2,
   "metadata": {},
   "outputs": [],
   "source": [
    "my_stock = ['삼성전자', '카카오', '유한양행', 'NAVER','SK하이닉스','현대차']\n",
    "my_stock_code = ['005930','035720', '000100', '035420','000660','005380']"
   ]
  },
  {
   "cell_type": "code",
   "execution_count": 3,
   "metadata": {},
   "outputs": [
    {
     "data": {
      "text/plain": [
       "<title>유한양행 : 네이버 금융</title>"
      ]
     },
     "execution_count": 3,
     "metadata": {},
     "output_type": "execute_result"
    }
   ],
   "source": [
    "chk_url = 'https://finance.naver.com/item/main.nhn?code=000100'\n",
    "page = urlopen(chk_url)\n",
    "soup = BeautifulSoup(page, 'lxml')\n",
    "soup.title\n"
   ]
  },
  {
   "cell_type": "code",
   "execution_count": 65,
   "metadata": {},
   "outputs": [
    {
     "data": {
      "text/plain": [
       "<tr>\n",
       "<td class=\"first\">\n",
       "<span class=\"sptxt sp_txt2\">전일</span>\n",
       "<em>\n",
       "<span class=\"blind\">391,000</span>\n",
       "<span class=\"no3\">3</span><span class=\"no9\">9</span><span class=\"no1\">1</span><span class=\"shim\">,</span><span class=\"no0\">0</span><span class=\"no0\">0</span><span class=\"no0\">0</span>\n",
       "</em>\n",
       "</td>\n",
       "<td>\n",
       "<span class=\"sptxt sp_txt4\">고가</span>\n",
       "<em class=\"no_down\">\n",
       "<span class=\"blind\">389,500</span><span class=\"no3\">3</span><span class=\"no8\">8</span><span class=\"no9\">9</span><span class=\"shim\">,</span><span class=\"no5\">5</span><span class=\"no0\">0</span><span class=\"no0\">0</span>\n",
       "</em>\n",
       "<span class=\"sptxt sp_txt6\">(상한가</span>\n",
       "<em class=\"no_cha\">\n",
       "<span class=\"blind\">508,000</span><span class=\"no5\">5</span><span class=\"no0\">0</span><span class=\"no8\">8</span><span class=\"shim\">,</span><span class=\"no0\">0</span><span class=\"no0\">0</span><span class=\"no0\">0</span>\n",
       "</em>\n",
       "<span class=\"sptxt sp_txt8\">)</span>\n",
       "</td>\n",
       "<td>\n",
       "<span class=\"sptxt sp_txt9\">거래량</span>\n",
       "<em>\n",
       "<span class=\"blind\">180,119</span>\n",
       "<span class=\"no1\">1</span><span class=\"no8\">8</span><span class=\"no0\">0</span><span class=\"shim\">,</span><span class=\"no1\">1</span><span class=\"no1\">1</span><span class=\"no9\">9</span>\n",
       "</em>\n",
       "</td>\n",
       "</tr>"
      ]
     },
     "execution_count": 65,
     "metadata": {},
     "output_type": "execute_result"
    }
   ],
   "source": [
    "today = soup.find('p', class_='no_today').find('span', class_='blind').text\n",
    "now = soup.find('table', class_='no_info').find('tr')\n",
    "#table > tbody > tr:nth-child(1) > td:nth-child(3) > em\n",
    "#chart_area > div.rate_info > table > tbody > tr:nth-child(1) > td:nth-child(3)\n",
    "#chart_area > div.rate_info\n",
    "now"
   ]
  },
  {
   "cell_type": "code",
   "execution_count": 108,
   "metadata": {},
   "outputs": [
    {
     "data": {
      "text/plain": [
       "'391,000'"
      ]
     },
     "execution_count": 108,
     "metadata": {},
     "output_type": "execute_result"
    }
   ],
   "source": [
    "one = soup.select_one('#chart_area > div.rate_info > table.no_info > tr > td:nth-child(1) > em > span.blind').text\n",
    "one\n",
    "#table > tbody > tr:nth-child(1) > td:nth-child(3)\n",
    "#table > tbody > tr:nth-child(1)\n",
    "#chart_area > div.rate_info > table.no_info > tr:nth-child(3) > td:nth-child(3) > em > span.blind'"
   ]
  },
  {
   "cell_type": "code",
   "execution_count": 37,
   "metadata": {},
   "outputs": [],
   "source": [
    "base_url = 'https://finance.naver.com/item/main.nhn?code='"
   ]
  },
  {
   "cell_type": "code",
   "execution_count": 39,
   "metadata": {},
   "outputs": [
    {
     "name": "stdout",
     "output_type": "stream",
     "text": [
      "삼성전자 80,900\n",
      "카카오 143,500\n",
      "유한양행 63,100\n",
      "NAVER 388,500\n"
     ]
    }
   ],
   "source": [
    "cnt = 0\n",
    "for code in my_stock_code:\n",
    "    all_url = base_url + code\n",
    "    page = urlopen(all_url)\n",
    "    soup = BeautifulSoup(page, 'lxml')\n",
    "    \n",
    "    price = soup.select_one('div > p.no_today > em > span.blind').text\n",
    "    print(my_stock[cnt], price)\n",
    "    cnt += 1"
   ]
  },
  {
   "cell_type": "code",
   "execution_count": 116,
   "metadata": {},
   "outputs": [
    {
     "name": "stdout",
     "output_type": "stream",
     "text": [
      "종목  현재가  거래대금  전일가\n",
      "삼성전자 80,800 6,416,339 81,800\n",
      "카카오 147,500 2,517,194 143,000\n",
      "유한양행 63,100 119,132 63,800\n",
      "NAVER 392,500 302,282 391,000\n"
     ]
    }
   ],
   "source": [
    "from urllib.request import urlopen\n",
    "from bs4 import BeautifulSoup\n",
    "cnt = 0\n",
    "print('종목','','현재가','','거래대금','','전일가')\n",
    "for code in my_stock_code:\n",
    "    all_url = base_url + code\n",
    "    page = urlopen(all_url)\n",
    "    soup = BeautifulSoup(page, 'lxml')\n",
    "    yesterday = soup.select_one('#chart_area > div.rate_info > table.no_info > tr > td:nth-child(1) > em > span.blind').text\n",
    "    price = soup.select_one('div > p.no_today > em > span.blind').text\n",
    "    trade = soup.select_one('#chart_area > div.rate_info > table.no_info > tr:nth-child(3) > td:nth-child(3) > em > span.blind').text\n",
    "    print(my_stock[cnt], price, trade, yesterday)\n",
    "    cnt += 1"
   ]
  },
  {
   "cell_type": "code",
   "execution_count": null,
   "metadata": {},
   "outputs": [],
   "source": []
  }
 ],
 "metadata": {
  "kernelspec": {
   "display_name": "Python 3",
   "language": "python",
   "name": "python3"
  },
  "language_info": {
   "codemirror_mode": {
    "name": "ipython",
    "version": 3
   },
   "file_extension": ".py",
   "mimetype": "text/x-python",
   "name": "python",
   "nbconvert_exporter": "python",
   "pygments_lexer": "ipython3",
   "version": "3.8.3"
  }
 },
 "nbformat": 4,
 "nbformat_minor": 4
}
