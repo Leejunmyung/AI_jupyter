{
 "cells": [
  {
   "cell_type": "code",
   "execution_count": 5,
   "metadata": {},
   "outputs": [],
   "source": [
    "from urllib.request import urlopen\n",
    "from bs4 import BeautifulSoup"
   ]
  },
  {
   "cell_type": "code",
   "execution_count": 6,
   "metadata": {},
   "outputs": [],
   "source": [
    "url = \"http://finance.naver.com/sise/\""
   ]
  },
  {
   "cell_type": "code",
   "execution_count": 7,
   "metadata": {},
   "outputs": [],
   "source": [
    "page = urlopen(url)\n",
    "page\n",
    "soup = BeautifulSoup(page, \"html.parser\")"
   ]
  },
  {
   "cell_type": "code",
   "execution_count": 8,
   "metadata": {},
   "outputs": [
    {
     "data": {
      "text/plain": [
       "[<span class=\"num\" id=\"KOSDAQ_now\">997.86</span>]"
      ]
     },
     "execution_count": 8,
     "metadata": {},
     "output_type": "execute_result"
    }
   ],
   "source": [
    "soup.find_all('span', id='KOSDAQ_now')"
   ]
  },
  {
   "cell_type": "code",
   "execution_count": 9,
   "metadata": {},
   "outputs": [
    {
     "data": {
      "text/plain": [
       "[<span class=\"num\" id=\"KOSPI_now\">3,254.49</span>]"
      ]
     },
     "execution_count": 9,
     "metadata": {},
     "output_type": "execute_result"
    }
   ],
   "source": [
    "soup.find_all('span', id='KOSPI_now')"
   ]
  },
  {
   "cell_type": "code",
   "execution_count": 10,
   "metadata": {},
   "outputs": [
    {
     "data": {
      "text/plain": [
       "[<span class=\"num\" id=\"KPI200_now\">433.58</span>]"
      ]
     },
     "execution_count": 10,
     "metadata": {},
     "output_type": "execute_result"
    }
   ],
   "source": [
    "soup.find_all('span', id='KPI200_now')"
   ]
  },
  {
   "cell_type": "code",
   "execution_count": 11,
   "metadata": {},
   "outputs": [
    {
     "name": "stdout",
     "output_type": "stream",
     "text": [
      "현재 코스닥지수 : 997.86\n",
      "현재 코스피지수 : 3,254.49\n",
      "현재 코스피200지수 : 433.58\n"
     ]
    }
   ],
   "source": [
    "kosdaq = soup.find('span', id='KOSDAQ_now') # 코스닥\n",
    "kospi = soup.find('span', id='KOSPI_now') # 코스피\n",
    "kpi200 = soup.find('span', id='KPI200_now') # 코스피200\n",
    "print(\"현재 코스닥지수 : {}\".format(kosdaq.get_text() ) )\n",
    "print(\"현재 코스피지수 : {}\".format(kospi.get_text() ) )\n",
    "print(\"현재 코스피200지수 : {}\".format(kpi200.get_text()) )"
   ]
  },
  {
   "cell_type": "code",
   "execution_count": 12,
   "metadata": {},
   "outputs": [
    {
     "name": "stdout",
     "output_type": "stream",
     "text": [
      "-1,038억 -190억 -849억\n"
     ]
    }
   ],
   "source": [
    "kospi_trend_total = soup.find(\"div\", id=\"tab_sel1_panel\").find(\"dl\", class_=\"trend\").find(\"dd\", class_=\"total\").find(\"a\", class_=\"dn\").text\n",
    "kospi_trend_profit = soup.find(\"div\", id=\"tab_sel1_panel\").find(\"dl\", class_=\"trend\").find(\"dd\", class_=\"profit\").find(\"a\", class_=\"dn\").text\n",
    "kospi_trend_loss = soup.find(\"div\", id=\"tab_sel1_panel\").find(\"dl\", class_=\"trend\").find(\"dd\", class_=\"loss\").find(\"a\", class_=\"dn\").text\n",
    "print(kospi_trend_total, kospi_trend_profit, kospi_trend_loss)"
   ]
  },
  {
   "cell_type": "code",
   "execution_count": 16,
   "metadata": {},
   "outputs": [
    {
     "name": "stdout",
     "output_type": "stream",
     "text": [
      " 차익 -190억 \n",
      " 비차익 -849억 \n",
      " 전체 -1,038억 \n"
     ]
    }
   ],
   "source": [
    "soup_p = soup.find(\"div\", id='tab_sel3_risefall').find(\"dl\", class_=\"trend\").find(\"dd\", class_=\"profit\").text\n",
    "print( soup_p.replace(\"\\n\", \" \") )\n",
    "soup_p = soup.find(\"div\", id='tab_sel3_risefall').find(\"dd\", class_=\"loss\").text\n",
    "print( soup_p.replace(\"\\n\", \" \") )\n",
    "soup_p = soup.find(\"div\", id='tab_sel3_risefall').find(\"dd\", class_=\"total\").text\n",
    "print( soup_p.replace(\"\\n\", \" \") )"
   ]
  },
  {
   "cell_type": "code",
   "execution_count": null,
   "metadata": {},
   "outputs": [],
   "source": []
  }
 ],
 "metadata": {
  "kernelspec": {
   "display_name": "Python 3",
   "language": "python",
   "name": "python3"
  },
  "language_info": {
   "codemirror_mode": {
    "name": "ipython",
    "version": 3
   },
   "file_extension": ".py",
   "mimetype": "text/x-python",
   "name": "python",
   "nbconvert_exporter": "python",
   "pygments_lexer": "ipython3",
   "version": "3.8.3"
  }
 },
 "nbformat": 4,
 "nbformat_minor": 4
}
