{
 "cells": [
  {
   "cell_type": "code",
   "execution_count": 1,
   "metadata": {},
   "outputs": [],
   "source": [
    "import plotly\n",
    "import plotly.express as px\n",
    "\n",
    "import cufflinks as cf\n",
    "import pandas as pd\n",
    "\n",
    "import numpy as np\n",
    "import sys\n",
    "import seaborn as sns\n",
    "import matplotlib\n",
    "import matplotlib.pyplot as plt\n",
    "import matplotlib.animation as animation"
   ]
  },
  {
   "cell_type": "code",
   "execution_count": 2,
   "metadata": {},
   "outputs": [
    {
     "data": {
      "text/html": [
       "        <script type=\"text/javascript\">\n",
       "        window.PlotlyConfig = {MathJaxConfig: 'local'};\n",
       "        if (window.MathJax) {MathJax.Hub.Config({SVG: {font: \"STIX-Web\"}});}\n",
       "        if (typeof require !== 'undefined') {\n",
       "        require.undef(\"plotly\");\n",
       "        requirejs.config({\n",
       "            paths: {\n",
       "                'plotly': ['https://cdn.plot.ly/plotly-2.2.0.min']\n",
       "            }\n",
       "        });\n",
       "        require(['plotly'], function(Plotly) {\n",
       "            window._Plotly = Plotly;\n",
       "        });\n",
       "        }\n",
       "        </script>\n",
       "        "
      ]
     },
     "metadata": {},
     "output_type": "display_data"
    },
    {
     "data": {
      "text/html": [
       "        <script type=\"text/javascript\">\n",
       "        window.PlotlyConfig = {MathJaxConfig: 'local'};\n",
       "        if (window.MathJax) {MathJax.Hub.Config({SVG: {font: \"STIX-Web\"}});}\n",
       "        if (typeof require !== 'undefined') {\n",
       "        require.undef(\"plotly\");\n",
       "        requirejs.config({\n",
       "            paths: {\n",
       "                'plotly': ['https://cdn.plot.ly/plotly-2.2.0.min']\n",
       "            }\n",
       "        });\n",
       "        require(['plotly'], function(Plotly) {\n",
       "            window._Plotly = Plotly;\n",
       "        });\n",
       "        }\n",
       "        </script>\n",
       "        "
      ]
     },
     "metadata": {},
     "output_type": "display_data"
    }
   ],
   "source": [
    "from plotly.offline import download_plotlyjs,init_notebook_mode,plot,iplot\n",
    "init_notebook_mode(connected=True)\n",
    "cf.go_offline()"
   ]
  },
  {
   "cell_type": "code",
   "execution_count": 3,
   "metadata": {},
   "outputs": [],
   "source": [
    "disaster = pd.read_csv(\"./number-of-deaths-from-natural-disasters.csv\")"
   ]
  },
  {
   "cell_type": "code",
   "execution_count": 4,
   "metadata": {},
   "outputs": [
    {
     "data": {
      "text/html": [
       "<div>\n",
       "<style scoped>\n",
       "    .dataframe tbody tr th:only-of-type {\n",
       "        vertical-align: middle;\n",
       "    }\n",
       "\n",
       "    .dataframe tbody tr th {\n",
       "        vertical-align: top;\n",
       "    }\n",
       "\n",
       "    .dataframe thead th {\n",
       "        text-align: right;\n",
       "    }\n",
       "</style>\n",
       "<table border=\"1\" class=\"dataframe\">\n",
       "  <thead>\n",
       "    <tr style=\"text-align: right;\">\n",
       "      <th></th>\n",
       "      <th>Entity</th>\n",
       "      <th>Code</th>\n",
       "      <th>Year</th>\n",
       "      <th>Total deaths (EMDAT (2020))</th>\n",
       "    </tr>\n",
       "  </thead>\n",
       "  <tbody>\n",
       "    <tr>\n",
       "      <th>0</th>\n",
       "      <td>All natural disasters</td>\n",
       "      <td>NaN</td>\n",
       "      <td>1900</td>\n",
       "      <td>1267330</td>\n",
       "    </tr>\n",
       "    <tr>\n",
       "      <th>1</th>\n",
       "      <td>All natural disasters</td>\n",
       "      <td>NaN</td>\n",
       "      <td>1901</td>\n",
       "      <td>18</td>\n",
       "    </tr>\n",
       "    <tr>\n",
       "      <th>2</th>\n",
       "      <td>All natural disasters</td>\n",
       "      <td>NaN</td>\n",
       "      <td>1902</td>\n",
       "      <td>46037</td>\n",
       "    </tr>\n",
       "  </tbody>\n",
       "</table>\n",
       "</div>"
      ],
      "text/plain": [
       "                  Entity  Code  Year  Total deaths (EMDAT (2020))\n",
       "0  All natural disasters   NaN  1900                      1267330\n",
       "1  All natural disasters   NaN  1901                           18\n",
       "2  All natural disasters   NaN  1902                        46037"
      ]
     },
     "execution_count": 4,
     "metadata": {},
     "output_type": "execute_result"
    }
   ],
   "source": [
    "disaster.head(3)"
   ]
  },
  {
   "cell_type": "code",
   "execution_count": 5,
   "metadata": {},
   "outputs": [
    {
     "data": {
      "text/plain": [
       "Entity                           0\n",
       "Code                           756\n",
       "Year                             0\n",
       "Total deaths (EMDAT (2020))      0\n",
       "dtype: int64"
      ]
     },
     "execution_count": 5,
     "metadata": {},
     "output_type": "execute_result"
    }
   ],
   "source": [
    "disaster.isnull().sum()"
   ]
  },
  {
   "cell_type": "code",
   "execution_count": 6,
   "metadata": {},
   "outputs": [
    {
     "data": {
      "text/plain": [
       "(756, 4)"
      ]
     },
     "execution_count": 6,
     "metadata": {},
     "output_type": "execute_result"
    }
   ],
   "source": [
    "disaster.shape"
   ]
  },
  {
   "cell_type": "code",
   "execution_count": 7,
   "metadata": {},
   "outputs": [
    {
     "name": "stdout",
     "output_type": "stream",
     "text": [
      "<class 'pandas.core.frame.DataFrame'>\n",
      "RangeIndex: 756 entries, 0 to 755\n",
      "Data columns (total 4 columns):\n",
      " #   Column                       Non-Null Count  Dtype  \n",
      "---  ------                       --------------  -----  \n",
      " 0   Entity                       756 non-null    object \n",
      " 1   Code                         0 non-null      float64\n",
      " 2   Year                         756 non-null    int64  \n",
      " 3   Total deaths (EMDAT (2020))  756 non-null    int64  \n",
      "dtypes: float64(1), int64(2), object(1)\n",
      "memory usage: 23.8+ KB\n"
     ]
    }
   ],
   "source": [
    "disaster.info()"
   ]
  },
  {
   "cell_type": "code",
   "execution_count": 8,
   "metadata": {},
   "outputs": [
    {
     "data": {
      "text/html": [
       "<div>\n",
       "<style scoped>\n",
       "    .dataframe tbody tr th:only-of-type {\n",
       "        vertical-align: middle;\n",
       "    }\n",
       "\n",
       "    .dataframe tbody tr th {\n",
       "        vertical-align: top;\n",
       "    }\n",
       "\n",
       "    .dataframe thead th {\n",
       "        text-align: right;\n",
       "    }\n",
       "</style>\n",
       "<table border=\"1\" class=\"dataframe\">\n",
       "  <thead>\n",
       "    <tr style=\"text-align: right;\">\n",
       "      <th></th>\n",
       "      <th>Entity</th>\n",
       "      <th>Year</th>\n",
       "      <th>Total deaths (EMDAT (2020))</th>\n",
       "    </tr>\n",
       "  </thead>\n",
       "  <tbody>\n",
       "    <tr>\n",
       "      <th>0</th>\n",
       "      <td>All natural disasters</td>\n",
       "      <td>1900</td>\n",
       "      <td>1267330</td>\n",
       "    </tr>\n",
       "    <tr>\n",
       "      <th>1</th>\n",
       "      <td>All natural disasters</td>\n",
       "      <td>1901</td>\n",
       "      <td>18</td>\n",
       "    </tr>\n",
       "    <tr>\n",
       "      <th>2</th>\n",
       "      <td>All natural disasters</td>\n",
       "      <td>1902</td>\n",
       "      <td>46037</td>\n",
       "    </tr>\n",
       "    <tr>\n",
       "      <th>3</th>\n",
       "      <td>All natural disasters</td>\n",
       "      <td>1903</td>\n",
       "      <td>6506</td>\n",
       "    </tr>\n",
       "    <tr>\n",
       "      <th>4</th>\n",
       "      <td>All natural disasters</td>\n",
       "      <td>1904</td>\n",
       "      <td>0</td>\n",
       "    </tr>\n",
       "    <tr>\n",
       "      <th>...</th>\n",
       "      <td>...</td>\n",
       "      <td>...</td>\n",
       "      <td>...</td>\n",
       "    </tr>\n",
       "    <tr>\n",
       "      <th>751</th>\n",
       "      <td>Wildfire</td>\n",
       "      <td>2015</td>\n",
       "      <td>67</td>\n",
       "    </tr>\n",
       "    <tr>\n",
       "      <th>752</th>\n",
       "      <td>Wildfire</td>\n",
       "      <td>2016</td>\n",
       "      <td>39</td>\n",
       "    </tr>\n",
       "    <tr>\n",
       "      <th>753</th>\n",
       "      <td>Wildfire</td>\n",
       "      <td>2017</td>\n",
       "      <td>167</td>\n",
       "    </tr>\n",
       "    <tr>\n",
       "      <th>754</th>\n",
       "      <td>Wildfire</td>\n",
       "      <td>2018</td>\n",
       "      <td>247</td>\n",
       "    </tr>\n",
       "    <tr>\n",
       "      <th>755</th>\n",
       "      <td>Wildfire</td>\n",
       "      <td>2019</td>\n",
       "      <td>116</td>\n",
       "    </tr>\n",
       "  </tbody>\n",
       "</table>\n",
       "<p>756 rows × 3 columns</p>\n",
       "</div>"
      ],
      "text/plain": [
       "                    Entity  Year  Total deaths (EMDAT (2020))\n",
       "0    All natural disasters  1900                      1267330\n",
       "1    All natural disasters  1901                           18\n",
       "2    All natural disasters  1902                        46037\n",
       "3    All natural disasters  1903                         6506\n",
       "4    All natural disasters  1904                            0\n",
       "..                     ...   ...                          ...\n",
       "751               Wildfire  2015                           67\n",
       "752               Wildfire  2016                           39\n",
       "753               Wildfire  2017                          167\n",
       "754               Wildfire  2018                          247\n",
       "755               Wildfire  2019                          116\n",
       "\n",
       "[756 rows x 3 columns]"
      ]
     },
     "execution_count": 8,
     "metadata": {},
     "output_type": "execute_result"
    }
   ],
   "source": [
    "disaster = disaster.drop('Code',axis=1)\n",
    "disaster"
   ]
  },
  {
   "cell_type": "code",
   "execution_count": 9,
   "metadata": {},
   "outputs": [],
   "source": [
    "disaster.rename(columns={'Total deaths (EMDAT (2020))':'Death'}, inplace=True)"
   ]
  },
  {
   "cell_type": "code",
   "execution_count": 10,
   "metadata": {},
   "outputs": [
    {
     "data": {
      "text/plain": [
       "Index(['Entity', 'Year', 'Death'], dtype='object')"
      ]
     },
     "execution_count": 10,
     "metadata": {},
     "output_type": "execute_result"
    }
   ],
   "source": [
    "disaster.columns"
   ]
  },
  {
   "cell_type": "code",
   "execution_count": 11,
   "metadata": {},
   "outputs": [],
   "source": [
    "all_disaster = disaster[disaster['Entity'] == 'All natural disasters']"
   ]
  },
  {
   "cell_type": "code",
   "execution_count": 12,
   "metadata": {},
   "outputs": [
    {
     "data": {
      "application/vnd.plotly.v1+json": {
       "config": {
        "linkText": "Export to plot.ly",
        "plotlyServerURL": "https://plot.ly",
        "showLink": true
       },
       "data": [
        {
         "line": {
          "color": "rgba(255, 153, 51, 1.0)",
          "dash": "solid",
          "shape": "linear",
          "width": 1.3
         },
         "mode": "lines",
         "name": "Death",
         "text": "",
         "type": "scatter",
         "x": [
          1900,
          1901,
          1902,
          1903,
          1904,
          1905,
          1906,
          1907,
          1908,
          1909,
          1910,
          1911,
          1912,
          1913,
          1914,
          1915,
          1916,
          1917,
          1918,
          1919,
          1920,
          1921,
          1922,
          1923,
          1924,
          1925,
          1926,
          1927,
          1928,
          1929,
          1930,
          1931,
          1932,
          1933,
          1934,
          1935,
          1936,
          1937,
          1938,
          1939,
          1940,
          1941,
          1942,
          1943,
          1944,
          1945,
          1946,
          1947,
          1948,
          1949,
          1950,
          1951,
          1952,
          1953,
          1954,
          1955,
          1956,
          1957,
          1958,
          1959,
          1960,
          1961,
          1962,
          1963,
          1964,
          1965,
          1966,
          1967,
          1968,
          1969,
          1970,
          1971,
          1972,
          1973,
          1974,
          1975,
          1976,
          1977,
          1978,
          1979,
          1980,
          1981,
          1982,
          1983,
          1984,
          1985,
          1986,
          1987,
          1988,
          1989,
          1990,
          1991,
          1992,
          1993,
          1994,
          1995,
          1996,
          1997,
          1998,
          1999,
          2000,
          2001,
          2002,
          2003,
          2004,
          2005,
          2006,
          2007,
          2008,
          2009,
          2010,
          2011,
          2012,
          2013,
          2014,
          2015,
          2016,
          2017,
          2018,
          2019
         ],
         "y": [
          1267330,
          18,
          46037,
          6506,
          0,
          22758,
          42970,
          25641,
          75033,
          11484,
          88233,
          102408,
          52093,
          882,
          289,
          32167,
          300,
          23507,
          11413,
          5500,
          704224,
          1200000,
          101243,
          155701,
          3009,
          5832,
          4852,
          215160,
          3004895,
          8377,
          10572,
          3706227,
          73280,
          34296,
          21087,
          270817,
          5301,
          12025,
          2225,
          563178,
          21523,
          10195,
          1608235,
          1910322,
          15906,
          10376,
          35490,
          7371,
          120131,
          120370,
          6728,
          15042,
          8965,
          12475,
          41872,
          6026,
          7737,
          10603,
          3950,
          2013242,
          39188,
          17341,
          17370,
          36746,
          12275,
          1564701,
          16981,
          6966,
          21284,
          8167,
          386568,
          15773,
          20010,
          110555,
          86004,
          14858,
          280073,
          21222,
          35036,
          6855,
          21404,
          117200,
          11061,
          460342,
          9257,
          54378,
          7303,
          18941,
          42248,
          10741,
          50934,
          159025,
          12236,
          21170,
          13085,
          22738,
          14708,
          19450,
          49741,
          70593,
          9687,
          30978,
          12580,
          110036,
          241527,
          89657,
          23491,
          16938,
          235332,
          11142,
          317757,
          30969,
          9732,
          21696,
          7959,
          22861,
          8681,
          7341,
          10809,
          11719
         ]
        }
       ],
       "layout": {
        "legend": {
         "bgcolor": "#F5F6F9",
         "font": {
          "color": "#4D5663"
         }
        },
        "paper_bgcolor": "#F5F6F9",
        "plot_bgcolor": "#F5F6F9",
        "template": {
         "data": {
          "bar": [
           {
            "error_x": {
             "color": "#2a3f5f"
            },
            "error_y": {
             "color": "#2a3f5f"
            },
            "marker": {
             "line": {
              "color": "#E5ECF6",
              "width": 0.5
             },
             "pattern": {
              "fillmode": "overlay",
              "size": 10,
              "solidity": 0.2
             }
            },
            "type": "bar"
           }
          ],
          "barpolar": [
           {
            "marker": {
             "line": {
              "color": "#E5ECF6",
              "width": 0.5
             },
             "pattern": {
              "fillmode": "overlay",
              "size": 10,
              "solidity": 0.2
             }
            },
            "type": "barpolar"
           }
          ],
          "carpet": [
           {
            "aaxis": {
             "endlinecolor": "#2a3f5f",
             "gridcolor": "white",
             "linecolor": "white",
             "minorgridcolor": "white",
             "startlinecolor": "#2a3f5f"
            },
            "baxis": {
             "endlinecolor": "#2a3f5f",
             "gridcolor": "white",
             "linecolor": "white",
             "minorgridcolor": "white",
             "startlinecolor": "#2a3f5f"
            },
            "type": "carpet"
           }
          ],
          "choropleth": [
           {
            "colorbar": {
             "outlinewidth": 0,
             "ticks": ""
            },
            "type": "choropleth"
           }
          ],
          "contour": [
           {
            "colorbar": {
             "outlinewidth": 0,
             "ticks": ""
            },
            "colorscale": [
             [
              0,
              "#0d0887"
             ],
             [
              0.1111111111111111,
              "#46039f"
             ],
             [
              0.2222222222222222,
              "#7201a8"
             ],
             [
              0.3333333333333333,
              "#9c179e"
             ],
             [
              0.4444444444444444,
              "#bd3786"
             ],
             [
              0.5555555555555556,
              "#d8576b"
             ],
             [
              0.6666666666666666,
              "#ed7953"
             ],
             [
              0.7777777777777778,
              "#fb9f3a"
             ],
             [
              0.8888888888888888,
              "#fdca26"
             ],
             [
              1,
              "#f0f921"
             ]
            ],
            "type": "contour"
           }
          ],
          "contourcarpet": [
           {
            "colorbar": {
             "outlinewidth": 0,
             "ticks": ""
            },
            "type": "contourcarpet"
           }
          ],
          "heatmap": [
           {
            "colorbar": {
             "outlinewidth": 0,
             "ticks": ""
            },
            "colorscale": [
             [
              0,
              "#0d0887"
             ],
             [
              0.1111111111111111,
              "#46039f"
             ],
             [
              0.2222222222222222,
              "#7201a8"
             ],
             [
              0.3333333333333333,
              "#9c179e"
             ],
             [
              0.4444444444444444,
              "#bd3786"
             ],
             [
              0.5555555555555556,
              "#d8576b"
             ],
             [
              0.6666666666666666,
              "#ed7953"
             ],
             [
              0.7777777777777778,
              "#fb9f3a"
             ],
             [
              0.8888888888888888,
              "#fdca26"
             ],
             [
              1,
              "#f0f921"
             ]
            ],
            "type": "heatmap"
           }
          ],
          "heatmapgl": [
           {
            "colorbar": {
             "outlinewidth": 0,
             "ticks": ""
            },
            "colorscale": [
             [
              0,
              "#0d0887"
             ],
             [
              0.1111111111111111,
              "#46039f"
             ],
             [
              0.2222222222222222,
              "#7201a8"
             ],
             [
              0.3333333333333333,
              "#9c179e"
             ],
             [
              0.4444444444444444,
              "#bd3786"
             ],
             [
              0.5555555555555556,
              "#d8576b"
             ],
             [
              0.6666666666666666,
              "#ed7953"
             ],
             [
              0.7777777777777778,
              "#fb9f3a"
             ],
             [
              0.8888888888888888,
              "#fdca26"
             ],
             [
              1,
              "#f0f921"
             ]
            ],
            "type": "heatmapgl"
           }
          ],
          "histogram": [
           {
            "marker": {
             "pattern": {
              "fillmode": "overlay",
              "size": 10,
              "solidity": 0.2
             }
            },
            "type": "histogram"
           }
          ],
          "histogram2d": [
           {
            "colorbar": {
             "outlinewidth": 0,
             "ticks": ""
            },
            "colorscale": [
             [
              0,
              "#0d0887"
             ],
             [
              0.1111111111111111,
              "#46039f"
             ],
             [
              0.2222222222222222,
              "#7201a8"
             ],
             [
              0.3333333333333333,
              "#9c179e"
             ],
             [
              0.4444444444444444,
              "#bd3786"
             ],
             [
              0.5555555555555556,
              "#d8576b"
             ],
             [
              0.6666666666666666,
              "#ed7953"
             ],
             [
              0.7777777777777778,
              "#fb9f3a"
             ],
             [
              0.8888888888888888,
              "#fdca26"
             ],
             [
              1,
              "#f0f921"
             ]
            ],
            "type": "histogram2d"
           }
          ],
          "histogram2dcontour": [
           {
            "colorbar": {
             "outlinewidth": 0,
             "ticks": ""
            },
            "colorscale": [
             [
              0,
              "#0d0887"
             ],
             [
              0.1111111111111111,
              "#46039f"
             ],
             [
              0.2222222222222222,
              "#7201a8"
             ],
             [
              0.3333333333333333,
              "#9c179e"
             ],
             [
              0.4444444444444444,
              "#bd3786"
             ],
             [
              0.5555555555555556,
              "#d8576b"
             ],
             [
              0.6666666666666666,
              "#ed7953"
             ],
             [
              0.7777777777777778,
              "#fb9f3a"
             ],
             [
              0.8888888888888888,
              "#fdca26"
             ],
             [
              1,
              "#f0f921"
             ]
            ],
            "type": "histogram2dcontour"
           }
          ],
          "mesh3d": [
           {
            "colorbar": {
             "outlinewidth": 0,
             "ticks": ""
            },
            "type": "mesh3d"
           }
          ],
          "parcoords": [
           {
            "line": {
             "colorbar": {
              "outlinewidth": 0,
              "ticks": ""
             }
            },
            "type": "parcoords"
           }
          ],
          "pie": [
           {
            "automargin": true,
            "type": "pie"
           }
          ],
          "scatter": [
           {
            "marker": {
             "colorbar": {
              "outlinewidth": 0,
              "ticks": ""
             }
            },
            "type": "scatter"
           }
          ],
          "scatter3d": [
           {
            "line": {
             "colorbar": {
              "outlinewidth": 0,
              "ticks": ""
             }
            },
            "marker": {
             "colorbar": {
              "outlinewidth": 0,
              "ticks": ""
             }
            },
            "type": "scatter3d"
           }
          ],
          "scattercarpet": [
           {
            "marker": {
             "colorbar": {
              "outlinewidth": 0,
              "ticks": ""
             }
            },
            "type": "scattercarpet"
           }
          ],
          "scattergeo": [
           {
            "marker": {
             "colorbar": {
              "outlinewidth": 0,
              "ticks": ""
             }
            },
            "type": "scattergeo"
           }
          ],
          "scattergl": [
           {
            "marker": {
             "colorbar": {
              "outlinewidth": 0,
              "ticks": ""
             }
            },
            "type": "scattergl"
           }
          ],
          "scattermapbox": [
           {
            "marker": {
             "colorbar": {
              "outlinewidth": 0,
              "ticks": ""
             }
            },
            "type": "scattermapbox"
           }
          ],
          "scatterpolar": [
           {
            "marker": {
             "colorbar": {
              "outlinewidth": 0,
              "ticks": ""
             }
            },
            "type": "scatterpolar"
           }
          ],
          "scatterpolargl": [
           {
            "marker": {
             "colorbar": {
              "outlinewidth": 0,
              "ticks": ""
             }
            },
            "type": "scatterpolargl"
           }
          ],
          "scatterternary": [
           {
            "marker": {
             "colorbar": {
              "outlinewidth": 0,
              "ticks": ""
             }
            },
            "type": "scatterternary"
           }
          ],
          "surface": [
           {
            "colorbar": {
             "outlinewidth": 0,
             "ticks": ""
            },
            "colorscale": [
             [
              0,
              "#0d0887"
             ],
             [
              0.1111111111111111,
              "#46039f"
             ],
             [
              0.2222222222222222,
              "#7201a8"
             ],
             [
              0.3333333333333333,
              "#9c179e"
             ],
             [
              0.4444444444444444,
              "#bd3786"
             ],
             [
              0.5555555555555556,
              "#d8576b"
             ],
             [
              0.6666666666666666,
              "#ed7953"
             ],
             [
              0.7777777777777778,
              "#fb9f3a"
             ],
             [
              0.8888888888888888,
              "#fdca26"
             ],
             [
              1,
              "#f0f921"
             ]
            ],
            "type": "surface"
           }
          ],
          "table": [
           {
            "cells": {
             "fill": {
              "color": "#EBF0F8"
             },
             "line": {
              "color": "white"
             }
            },
            "header": {
             "fill": {
              "color": "#C8D4E3"
             },
             "line": {
              "color": "white"
             }
            },
            "type": "table"
           }
          ]
         },
         "layout": {
          "annotationdefaults": {
           "arrowcolor": "#2a3f5f",
           "arrowhead": 0,
           "arrowwidth": 1
          },
          "autotypenumbers": "strict",
          "coloraxis": {
           "colorbar": {
            "outlinewidth": 0,
            "ticks": ""
           }
          },
          "colorscale": {
           "diverging": [
            [
             0,
             "#8e0152"
            ],
            [
             0.1,
             "#c51b7d"
            ],
            [
             0.2,
             "#de77ae"
            ],
            [
             0.3,
             "#f1b6da"
            ],
            [
             0.4,
             "#fde0ef"
            ],
            [
             0.5,
             "#f7f7f7"
            ],
            [
             0.6,
             "#e6f5d0"
            ],
            [
             0.7,
             "#b8e186"
            ],
            [
             0.8,
             "#7fbc41"
            ],
            [
             0.9,
             "#4d9221"
            ],
            [
             1,
             "#276419"
            ]
           ],
           "sequential": [
            [
             0,
             "#0d0887"
            ],
            [
             0.1111111111111111,
             "#46039f"
            ],
            [
             0.2222222222222222,
             "#7201a8"
            ],
            [
             0.3333333333333333,
             "#9c179e"
            ],
            [
             0.4444444444444444,
             "#bd3786"
            ],
            [
             0.5555555555555556,
             "#d8576b"
            ],
            [
             0.6666666666666666,
             "#ed7953"
            ],
            [
             0.7777777777777778,
             "#fb9f3a"
            ],
            [
             0.8888888888888888,
             "#fdca26"
            ],
            [
             1,
             "#f0f921"
            ]
           ],
           "sequentialminus": [
            [
             0,
             "#0d0887"
            ],
            [
             0.1111111111111111,
             "#46039f"
            ],
            [
             0.2222222222222222,
             "#7201a8"
            ],
            [
             0.3333333333333333,
             "#9c179e"
            ],
            [
             0.4444444444444444,
             "#bd3786"
            ],
            [
             0.5555555555555556,
             "#d8576b"
            ],
            [
             0.6666666666666666,
             "#ed7953"
            ],
            [
             0.7777777777777778,
             "#fb9f3a"
            ],
            [
             0.8888888888888888,
             "#fdca26"
            ],
            [
             1,
             "#f0f921"
            ]
           ]
          },
          "colorway": [
           "#636efa",
           "#EF553B",
           "#00cc96",
           "#ab63fa",
           "#FFA15A",
           "#19d3f3",
           "#FF6692",
           "#B6E880",
           "#FF97FF",
           "#FECB52"
          ],
          "font": {
           "color": "#2a3f5f"
          },
          "geo": {
           "bgcolor": "white",
           "lakecolor": "white",
           "landcolor": "#E5ECF6",
           "showlakes": true,
           "showland": true,
           "subunitcolor": "white"
          },
          "hoverlabel": {
           "align": "left"
          },
          "hovermode": "closest",
          "mapbox": {
           "style": "light"
          },
          "paper_bgcolor": "white",
          "plot_bgcolor": "#E5ECF6",
          "polar": {
           "angularaxis": {
            "gridcolor": "white",
            "linecolor": "white",
            "ticks": ""
           },
           "bgcolor": "#E5ECF6",
           "radialaxis": {
            "gridcolor": "white",
            "linecolor": "white",
            "ticks": ""
           }
          },
          "scene": {
           "xaxis": {
            "backgroundcolor": "#E5ECF6",
            "gridcolor": "white",
            "gridwidth": 2,
            "linecolor": "white",
            "showbackground": true,
            "ticks": "",
            "zerolinecolor": "white"
           },
           "yaxis": {
            "backgroundcolor": "#E5ECF6",
            "gridcolor": "white",
            "gridwidth": 2,
            "linecolor": "white",
            "showbackground": true,
            "ticks": "",
            "zerolinecolor": "white"
           },
           "zaxis": {
            "backgroundcolor": "#E5ECF6",
            "gridcolor": "white",
            "gridwidth": 2,
            "linecolor": "white",
            "showbackground": true,
            "ticks": "",
            "zerolinecolor": "white"
           }
          },
          "shapedefaults": {
           "line": {
            "color": "#2a3f5f"
           }
          },
          "ternary": {
           "aaxis": {
            "gridcolor": "white",
            "linecolor": "white",
            "ticks": ""
           },
           "baxis": {
            "gridcolor": "white",
            "linecolor": "white",
            "ticks": ""
           },
           "bgcolor": "#E5ECF6",
           "caxis": {
            "gridcolor": "white",
            "linecolor": "white",
            "ticks": ""
           }
          },
          "title": {
           "x": 0.05
          },
          "xaxis": {
           "automargin": true,
           "gridcolor": "white",
           "linecolor": "white",
           "ticks": "",
           "title": {
            "standoff": 15
           },
           "zerolinecolor": "white",
           "zerolinewidth": 2
          },
          "yaxis": {
           "automargin": true,
           "gridcolor": "white",
           "linecolor": "white",
           "ticks": "",
           "title": {
            "standoff": 15
           },
           "zerolinecolor": "white",
           "zerolinewidth": 2
          }
         }
        },
        "title": {
         "font": {
          "color": "#4D5663"
         },
         "text": "모든 종류의 자연재해로 인한 인명피해 (1900-2019)"
        },
        "xaxis": {
         "gridcolor": "#E1E5ED",
         "showgrid": true,
         "tickfont": {
          "color": "#4D5663"
         },
         "title": {
          "font": {
           "color": "#4D5663"
          },
          "text": ""
         },
         "zerolinecolor": "#E1E5ED"
        },
        "yaxis": {
         "gridcolor": "#E1E5ED",
         "showgrid": true,
         "tickfont": {
          "color": "#4D5663"
         },
         "title": {
          "font": {
           "color": "#4D5663"
          },
          "text": ""
         },
         "zerolinecolor": "#E1E5ED"
        }
       }
      },
      "text/html": [
       "<div>                            <div id=\"e5ba692a-a7cc-4012-a6c4-5793e7f58be5\" class=\"plotly-graph-div\" style=\"height:525px; width:100%;\"></div>            <script type=\"text/javascript\">                require([\"plotly\"], function(Plotly) {                    window.PLOTLYENV=window.PLOTLYENV || {};\n",
       "                    window.PLOTLYENV.BASE_URL='https://plot.ly';                                    if (document.getElementById(\"e5ba692a-a7cc-4012-a6c4-5793e7f58be5\")) {                    Plotly.newPlot(                        \"e5ba692a-a7cc-4012-a6c4-5793e7f58be5\",                        [{\"line\":{\"color\":\"rgba(255, 153, 51, 1.0)\",\"dash\":\"solid\",\"shape\":\"linear\",\"width\":1.3},\"mode\":\"lines\",\"name\":\"Death\",\"text\":\"\",\"type\":\"scatter\",\"x\":[1900,1901,1902,1903,1904,1905,1906,1907,1908,1909,1910,1911,1912,1913,1914,1915,1916,1917,1918,1919,1920,1921,1922,1923,1924,1925,1926,1927,1928,1929,1930,1931,1932,1933,1934,1935,1936,1937,1938,1939,1940,1941,1942,1943,1944,1945,1946,1947,1948,1949,1950,1951,1952,1953,1954,1955,1956,1957,1958,1959,1960,1961,1962,1963,1964,1965,1966,1967,1968,1969,1970,1971,1972,1973,1974,1975,1976,1977,1978,1979,1980,1981,1982,1983,1984,1985,1986,1987,1988,1989,1990,1991,1992,1993,1994,1995,1996,1997,1998,1999,2000,2001,2002,2003,2004,2005,2006,2007,2008,2009,2010,2011,2012,2013,2014,2015,2016,2017,2018,2019],\"y\":[1267330,18,46037,6506,0,22758,42970,25641,75033,11484,88233,102408,52093,882,289,32167,300,23507,11413,5500,704224,1200000,101243,155701,3009,5832,4852,215160,3004895,8377,10572,3706227,73280,34296,21087,270817,5301,12025,2225,563178,21523,10195,1608235,1910322,15906,10376,35490,7371,120131,120370,6728,15042,8965,12475,41872,6026,7737,10603,3950,2013242,39188,17341,17370,36746,12275,1564701,16981,6966,21284,8167,386568,15773,20010,110555,86004,14858,280073,21222,35036,6855,21404,117200,11061,460342,9257,54378,7303,18941,42248,10741,50934,159025,12236,21170,13085,22738,14708,19450,49741,70593,9687,30978,12580,110036,241527,89657,23491,16938,235332,11142,317757,30969,9732,21696,7959,22861,8681,7341,10809,11719]}],                        {\"legend\":{\"bgcolor\":\"#F5F6F9\",\"font\":{\"color\":\"#4D5663\"}},\"paper_bgcolor\":\"#F5F6F9\",\"plot_bgcolor\":\"#F5F6F9\",\"template\":{\"data\":{\"bar\":[{\"error_x\":{\"color\":\"#2a3f5f\"},\"error_y\":{\"color\":\"#2a3f5f\"},\"marker\":{\"line\":{\"color\":\"#E5ECF6\",\"width\":0.5},\"pattern\":{\"fillmode\":\"overlay\",\"size\":10,\"solidity\":0.2}},\"type\":\"bar\"}],\"barpolar\":[{\"marker\":{\"line\":{\"color\":\"#E5ECF6\",\"width\":0.5},\"pattern\":{\"fillmode\":\"overlay\",\"size\":10,\"solidity\":0.2}},\"type\":\"barpolar\"}],\"carpet\":[{\"aaxis\":{\"endlinecolor\":\"#2a3f5f\",\"gridcolor\":\"white\",\"linecolor\":\"white\",\"minorgridcolor\":\"white\",\"startlinecolor\":\"#2a3f5f\"},\"baxis\":{\"endlinecolor\":\"#2a3f5f\",\"gridcolor\":\"white\",\"linecolor\":\"white\",\"minorgridcolor\":\"white\",\"startlinecolor\":\"#2a3f5f\"},\"type\":\"carpet\"}],\"choropleth\":[{\"colorbar\":{\"outlinewidth\":0,\"ticks\":\"\"},\"type\":\"choropleth\"}],\"contour\":[{\"colorbar\":{\"outlinewidth\":0,\"ticks\":\"\"},\"colorscale\":[[0.0,\"#0d0887\"],[0.1111111111111111,\"#46039f\"],[0.2222222222222222,\"#7201a8\"],[0.3333333333333333,\"#9c179e\"],[0.4444444444444444,\"#bd3786\"],[0.5555555555555556,\"#d8576b\"],[0.6666666666666666,\"#ed7953\"],[0.7777777777777778,\"#fb9f3a\"],[0.8888888888888888,\"#fdca26\"],[1.0,\"#f0f921\"]],\"type\":\"contour\"}],\"contourcarpet\":[{\"colorbar\":{\"outlinewidth\":0,\"ticks\":\"\"},\"type\":\"contourcarpet\"}],\"heatmap\":[{\"colorbar\":{\"outlinewidth\":0,\"ticks\":\"\"},\"colorscale\":[[0.0,\"#0d0887\"],[0.1111111111111111,\"#46039f\"],[0.2222222222222222,\"#7201a8\"],[0.3333333333333333,\"#9c179e\"],[0.4444444444444444,\"#bd3786\"],[0.5555555555555556,\"#d8576b\"],[0.6666666666666666,\"#ed7953\"],[0.7777777777777778,\"#fb9f3a\"],[0.8888888888888888,\"#fdca26\"],[1.0,\"#f0f921\"]],\"type\":\"heatmap\"}],\"heatmapgl\":[{\"colorbar\":{\"outlinewidth\":0,\"ticks\":\"\"},\"colorscale\":[[0.0,\"#0d0887\"],[0.1111111111111111,\"#46039f\"],[0.2222222222222222,\"#7201a8\"],[0.3333333333333333,\"#9c179e\"],[0.4444444444444444,\"#bd3786\"],[0.5555555555555556,\"#d8576b\"],[0.6666666666666666,\"#ed7953\"],[0.7777777777777778,\"#fb9f3a\"],[0.8888888888888888,\"#fdca26\"],[1.0,\"#f0f921\"]],\"type\":\"heatmapgl\"}],\"histogram\":[{\"marker\":{\"pattern\":{\"fillmode\":\"overlay\",\"size\":10,\"solidity\":0.2}},\"type\":\"histogram\"}],\"histogram2d\":[{\"colorbar\":{\"outlinewidth\":0,\"ticks\":\"\"},\"colorscale\":[[0.0,\"#0d0887\"],[0.1111111111111111,\"#46039f\"],[0.2222222222222222,\"#7201a8\"],[0.3333333333333333,\"#9c179e\"],[0.4444444444444444,\"#bd3786\"],[0.5555555555555556,\"#d8576b\"],[0.6666666666666666,\"#ed7953\"],[0.7777777777777778,\"#fb9f3a\"],[0.8888888888888888,\"#fdca26\"],[1.0,\"#f0f921\"]],\"type\":\"histogram2d\"}],\"histogram2dcontour\":[{\"colorbar\":{\"outlinewidth\":0,\"ticks\":\"\"},\"colorscale\":[[0.0,\"#0d0887\"],[0.1111111111111111,\"#46039f\"],[0.2222222222222222,\"#7201a8\"],[0.3333333333333333,\"#9c179e\"],[0.4444444444444444,\"#bd3786\"],[0.5555555555555556,\"#d8576b\"],[0.6666666666666666,\"#ed7953\"],[0.7777777777777778,\"#fb9f3a\"],[0.8888888888888888,\"#fdca26\"],[1.0,\"#f0f921\"]],\"type\":\"histogram2dcontour\"}],\"mesh3d\":[{\"colorbar\":{\"outlinewidth\":0,\"ticks\":\"\"},\"type\":\"mesh3d\"}],\"parcoords\":[{\"line\":{\"colorbar\":{\"outlinewidth\":0,\"ticks\":\"\"}},\"type\":\"parcoords\"}],\"pie\":[{\"automargin\":true,\"type\":\"pie\"}],\"scatter\":[{\"marker\":{\"colorbar\":{\"outlinewidth\":0,\"ticks\":\"\"}},\"type\":\"scatter\"}],\"scatter3d\":[{\"line\":{\"colorbar\":{\"outlinewidth\":0,\"ticks\":\"\"}},\"marker\":{\"colorbar\":{\"outlinewidth\":0,\"ticks\":\"\"}},\"type\":\"scatter3d\"}],\"scattercarpet\":[{\"marker\":{\"colorbar\":{\"outlinewidth\":0,\"ticks\":\"\"}},\"type\":\"scattercarpet\"}],\"scattergeo\":[{\"marker\":{\"colorbar\":{\"outlinewidth\":0,\"ticks\":\"\"}},\"type\":\"scattergeo\"}],\"scattergl\":[{\"marker\":{\"colorbar\":{\"outlinewidth\":0,\"ticks\":\"\"}},\"type\":\"scattergl\"}],\"scattermapbox\":[{\"marker\":{\"colorbar\":{\"outlinewidth\":0,\"ticks\":\"\"}},\"type\":\"scattermapbox\"}],\"scatterpolar\":[{\"marker\":{\"colorbar\":{\"outlinewidth\":0,\"ticks\":\"\"}},\"type\":\"scatterpolar\"}],\"scatterpolargl\":[{\"marker\":{\"colorbar\":{\"outlinewidth\":0,\"ticks\":\"\"}},\"type\":\"scatterpolargl\"}],\"scatterternary\":[{\"marker\":{\"colorbar\":{\"outlinewidth\":0,\"ticks\":\"\"}},\"type\":\"scatterternary\"}],\"surface\":[{\"colorbar\":{\"outlinewidth\":0,\"ticks\":\"\"},\"colorscale\":[[0.0,\"#0d0887\"],[0.1111111111111111,\"#46039f\"],[0.2222222222222222,\"#7201a8\"],[0.3333333333333333,\"#9c179e\"],[0.4444444444444444,\"#bd3786\"],[0.5555555555555556,\"#d8576b\"],[0.6666666666666666,\"#ed7953\"],[0.7777777777777778,\"#fb9f3a\"],[0.8888888888888888,\"#fdca26\"],[1.0,\"#f0f921\"]],\"type\":\"surface\"}],\"table\":[{\"cells\":{\"fill\":{\"color\":\"#EBF0F8\"},\"line\":{\"color\":\"white\"}},\"header\":{\"fill\":{\"color\":\"#C8D4E3\"},\"line\":{\"color\":\"white\"}},\"type\":\"table\"}]},\"layout\":{\"annotationdefaults\":{\"arrowcolor\":\"#2a3f5f\",\"arrowhead\":0,\"arrowwidth\":1},\"autotypenumbers\":\"strict\",\"coloraxis\":{\"colorbar\":{\"outlinewidth\":0,\"ticks\":\"\"}},\"colorscale\":{\"diverging\":[[0,\"#8e0152\"],[0.1,\"#c51b7d\"],[0.2,\"#de77ae\"],[0.3,\"#f1b6da\"],[0.4,\"#fde0ef\"],[0.5,\"#f7f7f7\"],[0.6,\"#e6f5d0\"],[0.7,\"#b8e186\"],[0.8,\"#7fbc41\"],[0.9,\"#4d9221\"],[1,\"#276419\"]],\"sequential\":[[0.0,\"#0d0887\"],[0.1111111111111111,\"#46039f\"],[0.2222222222222222,\"#7201a8\"],[0.3333333333333333,\"#9c179e\"],[0.4444444444444444,\"#bd3786\"],[0.5555555555555556,\"#d8576b\"],[0.6666666666666666,\"#ed7953\"],[0.7777777777777778,\"#fb9f3a\"],[0.8888888888888888,\"#fdca26\"],[1.0,\"#f0f921\"]],\"sequentialminus\":[[0.0,\"#0d0887\"],[0.1111111111111111,\"#46039f\"],[0.2222222222222222,\"#7201a8\"],[0.3333333333333333,\"#9c179e\"],[0.4444444444444444,\"#bd3786\"],[0.5555555555555556,\"#d8576b\"],[0.6666666666666666,\"#ed7953\"],[0.7777777777777778,\"#fb9f3a\"],[0.8888888888888888,\"#fdca26\"],[1.0,\"#f0f921\"]]},\"colorway\":[\"#636efa\",\"#EF553B\",\"#00cc96\",\"#ab63fa\",\"#FFA15A\",\"#19d3f3\",\"#FF6692\",\"#B6E880\",\"#FF97FF\",\"#FECB52\"],\"font\":{\"color\":\"#2a3f5f\"},\"geo\":{\"bgcolor\":\"white\",\"lakecolor\":\"white\",\"landcolor\":\"#E5ECF6\",\"showlakes\":true,\"showland\":true,\"subunitcolor\":\"white\"},\"hoverlabel\":{\"align\":\"left\"},\"hovermode\":\"closest\",\"mapbox\":{\"style\":\"light\"},\"paper_bgcolor\":\"white\",\"plot_bgcolor\":\"#E5ECF6\",\"polar\":{\"angularaxis\":{\"gridcolor\":\"white\",\"linecolor\":\"white\",\"ticks\":\"\"},\"bgcolor\":\"#E5ECF6\",\"radialaxis\":{\"gridcolor\":\"white\",\"linecolor\":\"white\",\"ticks\":\"\"}},\"scene\":{\"xaxis\":{\"backgroundcolor\":\"#E5ECF6\",\"gridcolor\":\"white\",\"gridwidth\":2,\"linecolor\":\"white\",\"showbackground\":true,\"ticks\":\"\",\"zerolinecolor\":\"white\"},\"yaxis\":{\"backgroundcolor\":\"#E5ECF6\",\"gridcolor\":\"white\",\"gridwidth\":2,\"linecolor\":\"white\",\"showbackground\":true,\"ticks\":\"\",\"zerolinecolor\":\"white\"},\"zaxis\":{\"backgroundcolor\":\"#E5ECF6\",\"gridcolor\":\"white\",\"gridwidth\":2,\"linecolor\":\"white\",\"showbackground\":true,\"ticks\":\"\",\"zerolinecolor\":\"white\"}},\"shapedefaults\":{\"line\":{\"color\":\"#2a3f5f\"}},\"ternary\":{\"aaxis\":{\"gridcolor\":\"white\",\"linecolor\":\"white\",\"ticks\":\"\"},\"baxis\":{\"gridcolor\":\"white\",\"linecolor\":\"white\",\"ticks\":\"\"},\"bgcolor\":\"#E5ECF6\",\"caxis\":{\"gridcolor\":\"white\",\"linecolor\":\"white\",\"ticks\":\"\"}},\"title\":{\"x\":0.05},\"xaxis\":{\"automargin\":true,\"gridcolor\":\"white\",\"linecolor\":\"white\",\"ticks\":\"\",\"title\":{\"standoff\":15},\"zerolinecolor\":\"white\",\"zerolinewidth\":2},\"yaxis\":{\"automargin\":true,\"gridcolor\":\"white\",\"linecolor\":\"white\",\"ticks\":\"\",\"title\":{\"standoff\":15},\"zerolinecolor\":\"white\",\"zerolinewidth\":2}}},\"title\":{\"font\":{\"color\":\"#4D5663\"},\"text\":\"\\ubaa8\\ub4e0 \\uc885\\ub958\\uc758 \\uc790\\uc5f0\\uc7ac\\ud574\\ub85c \\uc778\\ud55c \\uc778\\uba85\\ud53c\\ud574 (1900-2019)\"},\"xaxis\":{\"gridcolor\":\"#E1E5ED\",\"showgrid\":true,\"tickfont\":{\"color\":\"#4D5663\"},\"title\":{\"font\":{\"color\":\"#4D5663\"},\"text\":\"\"},\"zerolinecolor\":\"#E1E5ED\"},\"yaxis\":{\"gridcolor\":\"#E1E5ED\",\"showgrid\":true,\"tickfont\":{\"color\":\"#4D5663\"},\"title\":{\"font\":{\"color\":\"#4D5663\"},\"text\":\"\"},\"zerolinecolor\":\"#E1E5ED\"}},                        {\"showLink\": true, \"linkText\": \"Export to plot.ly\", \"plotlyServerURL\": \"https://plot.ly\", \"responsive\": true}                    ).then(function(){\n",
       "                            \n",
       "var gd = document.getElementById('e5ba692a-a7cc-4012-a6c4-5793e7f58be5');\n",
       "var x = new MutationObserver(function (mutations, observer) {{\n",
       "        var display = window.getComputedStyle(gd).display;\n",
       "        if (!display || display === 'none') {{\n",
       "            console.log([gd, 'removed!']);\n",
       "            Plotly.purge(gd);\n",
       "            observer.disconnect();\n",
       "        }}\n",
       "}});\n",
       "\n",
       "// Listen for the removal of the full notebook cells\n",
       "var notebookContainer = gd.closest('#notebook-container');\n",
       "if (notebookContainer) {{\n",
       "    x.observe(notebookContainer, {childList: true});\n",
       "}}\n",
       "\n",
       "// Listen for the clearing of the current output cell\n",
       "var outputEl = gd.closest('.output');\n",
       "if (outputEl) {{\n",
       "    x.observe(outputEl, {childList: true});\n",
       "}}\n",
       "\n",
       "                        })                };                });            </script>        </div>"
      ]
     },
     "metadata": {},
     "output_type": "display_data"
    }
   ],
   "source": [
    "all_disaster.iplot(kind='line', x='Year', y= 'Death',\n",
    "                  title = '모든 종류의 자연재해로 인한 인명피해 (1900-2019)')"
   ]
  },
  {
   "cell_type": "code",
   "execution_count": 13,
   "metadata": {},
   "outputs": [
    {
     "name": "stdout",
     "output_type": "stream",
     "text": [
      "Extreme weather        113\n",
      "Earthquake             113\n",
      "Flood                   91\n",
      "Landslide               81\n",
      "Extreme temperature     57\n",
      "Volcanic activity       56\n",
      "Wildfire                50\n",
      "Drought                 42\n",
      "Mass movement (dry)     33\n",
      "Name: Entity, dtype: int64\n"
     ]
    },
    {
     "data": {
      "text/html": [
       "<div>\n",
       "<style scoped>\n",
       "    .dataframe tbody tr th:only-of-type {\n",
       "        vertical-align: middle;\n",
       "    }\n",
       "\n",
       "    .dataframe tbody tr th {\n",
       "        vertical-align: top;\n",
       "    }\n",
       "\n",
       "    .dataframe thead th {\n",
       "        text-align: right;\n",
       "    }\n",
       "</style>\n",
       "<table border=\"1\" class=\"dataframe\">\n",
       "  <thead>\n",
       "    <tr style=\"text-align: right;\">\n",
       "      <th></th>\n",
       "      <th>Entity</th>\n",
       "      <th>Year</th>\n",
       "      <th>Death</th>\n",
       "    </tr>\n",
       "  </thead>\n",
       "  <tbody>\n",
       "    <tr>\n",
       "      <th>120</th>\n",
       "      <td>Drought</td>\n",
       "      <td>1900</td>\n",
       "      <td>1261000</td>\n",
       "    </tr>\n",
       "    <tr>\n",
       "      <th>121</th>\n",
       "      <td>Drought</td>\n",
       "      <td>1910</td>\n",
       "      <td>85000</td>\n",
       "    </tr>\n",
       "    <tr>\n",
       "      <th>122</th>\n",
       "      <td>Drought</td>\n",
       "      <td>1920</td>\n",
       "      <td>524000</td>\n",
       "    </tr>\n",
       "    <tr>\n",
       "      <th>123</th>\n",
       "      <td>Drought</td>\n",
       "      <td>1921</td>\n",
       "      <td>1200000</td>\n",
       "    </tr>\n",
       "    <tr>\n",
       "      <th>124</th>\n",
       "      <td>Drought</td>\n",
       "      <td>1928</td>\n",
       "      <td>3000000</td>\n",
       "    </tr>\n",
       "    <tr>\n",
       "      <th>...</th>\n",
       "      <td>...</td>\n",
       "      <td>...</td>\n",
       "      <td>...</td>\n",
       "    </tr>\n",
       "    <tr>\n",
       "      <th>751</th>\n",
       "      <td>Wildfire</td>\n",
       "      <td>2015</td>\n",
       "      <td>67</td>\n",
       "    </tr>\n",
       "    <tr>\n",
       "      <th>752</th>\n",
       "      <td>Wildfire</td>\n",
       "      <td>2016</td>\n",
       "      <td>39</td>\n",
       "    </tr>\n",
       "    <tr>\n",
       "      <th>753</th>\n",
       "      <td>Wildfire</td>\n",
       "      <td>2017</td>\n",
       "      <td>167</td>\n",
       "    </tr>\n",
       "    <tr>\n",
       "      <th>754</th>\n",
       "      <td>Wildfire</td>\n",
       "      <td>2018</td>\n",
       "      <td>247</td>\n",
       "    </tr>\n",
       "    <tr>\n",
       "      <th>755</th>\n",
       "      <td>Wildfire</td>\n",
       "      <td>2019</td>\n",
       "      <td>116</td>\n",
       "    </tr>\n",
       "  </tbody>\n",
       "</table>\n",
       "<p>636 rows × 3 columns</p>\n",
       "</div>"
      ],
      "text/plain": [
       "       Entity  Year    Death\n",
       "120   Drought  1900  1261000\n",
       "121   Drought  1910    85000\n",
       "122   Drought  1920   524000\n",
       "123   Drought  1921  1200000\n",
       "124   Drought  1928  3000000\n",
       "..        ...   ...      ...\n",
       "751  Wildfire  2015       67\n",
       "752  Wildfire  2016       39\n",
       "753  Wildfire  2017      167\n",
       "754  Wildfire  2018      247\n",
       "755  Wildfire  2019      116\n",
       "\n",
       "[636 rows x 3 columns]"
      ]
     },
     "execution_count": 13,
     "metadata": {},
     "output_type": "execute_result"
    }
   ],
   "source": [
    "d1= disaster[disaster['Entity'] != 'All natural disasters']\n",
    "print(d1['Entity'].value_counts())\n",
    "d1"
   ]
  },
  {
   "cell_type": "markdown",
   "metadata": {},
   "source": [
    "### 1900 - 2019 자연재해 종류와 그에따른 인명피해"
   ]
  },
  {
   "cell_type": "code",
   "execution_count": 14,
   "metadata": {},
   "outputs": [
    {
     "data": {
      "application/vnd.plotly.v1+json": {
       "config": {
        "plotlyServerURL": "https://plot.ly"
       },
       "data": [
        {
         "hovertemplate": "<b>%{hovertext}</b><br><br>Entity=%{y}<br>Year=%{x}<br>Death=%{marker.size}<extra></extra>",
         "hovertext": [
          "Drought",
          "Drought",
          "Drought",
          "Drought",
          "Drought",
          "Drought",
          "Drought",
          "Drought",
          "Drought",
          "Drought",
          "Drought",
          "Drought",
          "Drought",
          "Drought",
          "Drought",
          "Drought",
          "Drought",
          "Drought",
          "Drought",
          "Drought",
          "Drought",
          "Drought",
          "Drought",
          "Drought",
          "Drought",
          "Drought",
          "Drought",
          "Drought",
          "Drought",
          "Drought",
          "Drought",
          "Drought",
          "Drought",
          "Drought",
          "Drought",
          "Drought",
          "Drought",
          "Drought",
          "Drought",
          "Drought",
          "Drought",
          "Drought"
         ],
         "legendgroup": "Drought",
         "marker": {
          "color": "#636efa",
          "size": [
           1261000,
           85000,
           524000,
           1200000,
           3000000,
           20000,
           1500000,
           1900000,
           30000,
           50,
           1502000,
           8000,
           600,
           100000,
           19000,
           63,
           18,
           103000,
           280,
           450520,
           230,
           84,
           1317,
           1600,
           237,
           2000,
           732,
           20,
           361,
           80,
           99,
           588,
           9,
           80,
           149,
           134,
           8,
           20000,
           35,
           0,
           0,
           77
          ],
          "sizemode": "area",
          "sizeref": 1480,
          "symbol": "circle"
         },
         "mode": "markers",
         "name": "Drought",
         "orientation": "h",
         "showlegend": true,
         "type": "scatter",
         "x": [
          1900,
          1910,
          1920,
          1921,
          1928,
          1940,
          1942,
          1943,
          1946,
          1964,
          1965,
          1966,
          1967,
          1973,
          1974,
          1978,
          1979,
          1981,
          1982,
          1983,
          1984,
          1986,
          1987,
          1988,
          1989,
          1991,
          1997,
          1998,
          1999,
          2000,
          2001,
          2002,
          2003,
          2004,
          2005,
          2006,
          2008,
          2010,
          2015,
          2017,
          2018,
          2019
         ],
         "xaxis": "x",
         "y": [
          "Drought",
          "Drought",
          "Drought",
          "Drought",
          "Drought",
          "Drought",
          "Drought",
          "Drought",
          "Drought",
          "Drought",
          "Drought",
          "Drought",
          "Drought",
          "Drought",
          "Drought",
          "Drought",
          "Drought",
          "Drought",
          "Drought",
          "Drought",
          "Drought",
          "Drought",
          "Drought",
          "Drought",
          "Drought",
          "Drought",
          "Drought",
          "Drought",
          "Drought",
          "Drought",
          "Drought",
          "Drought",
          "Drought",
          "Drought",
          "Drought",
          "Drought",
          "Drought",
          "Drought",
          "Drought",
          "Drought",
          "Drought",
          "Drought"
         ],
         "yaxis": "y"
        },
        {
         "hovertemplate": "<b>%{hovertext}</b><br><br>Entity=%{y}<br>Year=%{x}<br>Death=%{marker.size}<extra></extra>",
         "hovertext": [
          "Earthquake",
          "Earthquake",
          "Earthquake",
          "Earthquake",
          "Earthquake",
          "Earthquake",
          "Earthquake",
          "Earthquake",
          "Earthquake",
          "Earthquake",
          "Earthquake",
          "Earthquake",
          "Earthquake",
          "Earthquake",
          "Earthquake",
          "Earthquake",
          "Earthquake",
          "Earthquake",
          "Earthquake",
          "Earthquake",
          "Earthquake",
          "Earthquake",
          "Earthquake",
          "Earthquake",
          "Earthquake",
          "Earthquake",
          "Earthquake",
          "Earthquake",
          "Earthquake",
          "Earthquake",
          "Earthquake",
          "Earthquake",
          "Earthquake",
          "Earthquake",
          "Earthquake",
          "Earthquake",
          "Earthquake",
          "Earthquake",
          "Earthquake",
          "Earthquake",
          "Earthquake",
          "Earthquake",
          "Earthquake",
          "Earthquake",
          "Earthquake",
          "Earthquake",
          "Earthquake",
          "Earthquake",
          "Earthquake",
          "Earthquake",
          "Earthquake",
          "Earthquake",
          "Earthquake",
          "Earthquake",
          "Earthquake",
          "Earthquake",
          "Earthquake",
          "Earthquake",
          "Earthquake",
          "Earthquake",
          "Earthquake",
          "Earthquake",
          "Earthquake",
          "Earthquake",
          "Earthquake",
          "Earthquake",
          "Earthquake",
          "Earthquake",
          "Earthquake",
          "Earthquake",
          "Earthquake",
          "Earthquake",
          "Earthquake",
          "Earthquake",
          "Earthquake",
          "Earthquake",
          "Earthquake",
          "Earthquake",
          "Earthquake",
          "Earthquake",
          "Earthquake",
          "Earthquake",
          "Earthquake",
          "Earthquake",
          "Earthquake",
          "Earthquake",
          "Earthquake",
          "Earthquake",
          "Earthquake",
          "Earthquake",
          "Earthquake",
          "Earthquake",
          "Earthquake",
          "Earthquake",
          "Earthquake",
          "Earthquake",
          "Earthquake",
          "Earthquake",
          "Earthquake",
          "Earthquake",
          "Earthquake",
          "Earthquake",
          "Earthquake",
          "Earthquake",
          "Earthquake",
          "Earthquake",
          "Earthquake",
          "Earthquake",
          "Earthquake",
          "Earthquake",
          "Earthquake",
          "Earthquake",
          "Earthquake"
         ],
         "legendgroup": "Earthquake",
         "marker": {
          "color": "#EF553B",
          "size": [
           18,
           6747,
           6000,
           22500,
           31966,
           25641,
           75000,
           5146,
           1762,
           923,
           150,
           149,
           29986,
           19450,
           10379,
           180000,
           1100,
           152362,
           767,
           5013,
           12,
           206142,
           635,
           3317,
           5081,
           1537,
           70006,
           16180,
           15496,
           66110,
           26,
           166,
           63094,
           1275,
           189,
           7235,
           4332,
           14984,
           5961,
           5153,
           633,
           115618,
           6486,
           1833,
           1554,
           2432,
           2717,
           3344,
           959,
           763,
           6993,
           227,
           103,
           19395,
           60,
           12209,
           1700,
           335,
           683,
           2752,
           1013,
           10858,
           3353,
           78599,
           1107,
           15170,
           552,
           24808,
           12632,
           276994,
           3098,
           25162,
           2100,
           7730,
           4206,
           2120,
           2148,
           57,
           9853,
           1181,
           5160,
           27049,
           650,
           42853,
           2454,
           4033,
           10088,
           1242,
           7739,
           576,
           3159,
           9573,
           21869,
           217,
           21348,
           1639,
           29617,
           227290,
           76241,
           6692,
           780,
           87918,
           1893,
           226733,
           20946,
           711,
           1120,
           774,
           9550,
           1311,
           861,
           4321,
           259
          ],
          "sizemode": "area",
          "sizeref": 1480,
          "symbol": "circle"
         },
         "mode": "markers",
         "name": "Earthquake",
         "orientation": "h",
         "showlegend": true,
         "type": "scatter",
         "x": [
          1901,
          1902,
          1903,
          1905,
          1906,
          1907,
          1908,
          1909,
          1910,
          1912,
          1913,
          1914,
          1915,
          1917,
          1918,
          1920,
          1922,
          1923,
          1924,
          1925,
          1926,
          1927,
          1928,
          1929,
          1930,
          1931,
          1932,
          1933,
          1934,
          1935,
          1936,
          1938,
          1939,
          1940,
          1941,
          1942,
          1943,
          1944,
          1945,
          1946,
          1947,
          1948,
          1949,
          1950,
          1951,
          1952,
          1953,
          1954,
          1955,
          1956,
          1957,
          1958,
          1959,
          1960,
          1961,
          1962,
          1963,
          1964,
          1965,
          1966,
          1967,
          1968,
          1969,
          1970,
          1971,
          1972,
          1973,
          1974,
          1975,
          1976,
          1977,
          1978,
          1979,
          1980,
          1981,
          1982,
          1983,
          1984,
          1985,
          1986,
          1987,
          1988,
          1989,
          1990,
          1991,
          1992,
          1993,
          1994,
          1995,
          1996,
          1997,
          1998,
          1999,
          2000,
          2001,
          2002,
          2003,
          2004,
          2005,
          2006,
          2007,
          2008,
          2009,
          2010,
          2011,
          2012,
          2013,
          2014,
          2015,
          2016,
          2017,
          2018,
          2019
         ],
         "xaxis": "x",
         "y": [
          "Earthquake",
          "Earthquake",
          "Earthquake",
          "Earthquake",
          "Earthquake",
          "Earthquake",
          "Earthquake",
          "Earthquake",
          "Earthquake",
          "Earthquake",
          "Earthquake",
          "Earthquake",
          "Earthquake",
          "Earthquake",
          "Earthquake",
          "Earthquake",
          "Earthquake",
          "Earthquake",
          "Earthquake",
          "Earthquake",
          "Earthquake",
          "Earthquake",
          "Earthquake",
          "Earthquake",
          "Earthquake",
          "Earthquake",
          "Earthquake",
          "Earthquake",
          "Earthquake",
          "Earthquake",
          "Earthquake",
          "Earthquake",
          "Earthquake",
          "Earthquake",
          "Earthquake",
          "Earthquake",
          "Earthquake",
          "Earthquake",
          "Earthquake",
          "Earthquake",
          "Earthquake",
          "Earthquake",
          "Earthquake",
          "Earthquake",
          "Earthquake",
          "Earthquake",
          "Earthquake",
          "Earthquake",
          "Earthquake",
          "Earthquake",
          "Earthquake",
          "Earthquake",
          "Earthquake",
          "Earthquake",
          "Earthquake",
          "Earthquake",
          "Earthquake",
          "Earthquake",
          "Earthquake",
          "Earthquake",
          "Earthquake",
          "Earthquake",
          "Earthquake",
          "Earthquake",
          "Earthquake",
          "Earthquake",
          "Earthquake",
          "Earthquake",
          "Earthquake",
          "Earthquake",
          "Earthquake",
          "Earthquake",
          "Earthquake",
          "Earthquake",
          "Earthquake",
          "Earthquake",
          "Earthquake",
          "Earthquake",
          "Earthquake",
          "Earthquake",
          "Earthquake",
          "Earthquake",
          "Earthquake",
          "Earthquake",
          "Earthquake",
          "Earthquake",
          "Earthquake",
          "Earthquake",
          "Earthquake",
          "Earthquake",
          "Earthquake",
          "Earthquake",
          "Earthquake",
          "Earthquake",
          "Earthquake",
          "Earthquake",
          "Earthquake",
          "Earthquake",
          "Earthquake",
          "Earthquake",
          "Earthquake",
          "Earthquake",
          "Earthquake",
          "Earthquake",
          "Earthquake",
          "Earthquake",
          "Earthquake",
          "Earthquake",
          "Earthquake",
          "Earthquake",
          "Earthquake",
          "Earthquake",
          "Earthquake"
         ],
         "yaxis": "y"
        },
        {
         "hovertemplate": "<b>%{hovertext}</b><br><br>Entity=%{y}<br>Year=%{x}<br>Death=%{marker.size}<extra></extra>",
         "hovertext": [
          "Extreme temperature",
          "Extreme temperature",
          "Extreme temperature",
          "Extreme temperature",
          "Extreme temperature",
          "Extreme temperature",
          "Extreme temperature",
          "Extreme temperature",
          "Extreme temperature",
          "Extreme temperature",
          "Extreme temperature",
          "Extreme temperature",
          "Extreme temperature",
          "Extreme temperature",
          "Extreme temperature",
          "Extreme temperature",
          "Extreme temperature",
          "Extreme temperature",
          "Extreme temperature",
          "Extreme temperature",
          "Extreme temperature",
          "Extreme temperature",
          "Extreme temperature",
          "Extreme temperature",
          "Extreme temperature",
          "Extreme temperature",
          "Extreme temperature",
          "Extreme temperature",
          "Extreme temperature",
          "Extreme temperature",
          "Extreme temperature",
          "Extreme temperature",
          "Extreme temperature",
          "Extreme temperature",
          "Extreme temperature",
          "Extreme temperature",
          "Extreme temperature",
          "Extreme temperature",
          "Extreme temperature",
          "Extreme temperature",
          "Extreme temperature",
          "Extreme temperature",
          "Extreme temperature",
          "Extreme temperature",
          "Extreme temperature",
          "Extreme temperature",
          "Extreme temperature",
          "Extreme temperature",
          "Extreme temperature",
          "Extreme temperature",
          "Extreme temperature",
          "Extreme temperature",
          "Extreme temperature",
          "Extreme temperature",
          "Extreme temperature",
          "Extreme temperature",
          "Extreme temperature"
         ],
         "legendgroup": "Extreme temperature",
         "marker": {
          "color": "#00cc96",
          "size": [
           1693,
           69,
           669,
           107,
           651,
           400,
           50,
           162,
           100,
           262,
           153,
           400,
           110,
           283,
           140,
           150,
           470,
           1389,
           300,
           400,
           205,
           290,
           456,
           50,
           1220,
           644,
           381,
           979,
           835,
           388,
           106,
           341,
           1730,
           300,
           604,
           3269,
           771,
           941,
           1787,
           3369,
           74698,
           255,
           1550,
           4826,
           1086,
           1688,
           1386,
           57188,
           435,
           1834,
           1821,
           1168,
           7425,
           490,
           133,
           536,
           2908
          ],
          "sizemode": "area",
          "sizeref": 1480,
          "symbol": "circle"
         },
         "mode": "markers",
         "name": "Extreme temperature",
         "orientation": "h",
         "showlegend": true,
         "type": "scatter",
         "x": [
          1936,
          1951,
          1953,
          1955,
          1958,
          1961,
          1962,
          1963,
          1965,
          1966,
          1968,
          1971,
          1972,
          1973,
          1975,
          1978,
          1979,
          1980,
          1981,
          1982,
          1983,
          1984,
          1985,
          1986,
          1987,
          1988,
          1989,
          1990,
          1991,
          1992,
          1993,
          1994,
          1995,
          1996,
          1997,
          1998,
          1999,
          2000,
          2001,
          2002,
          2003,
          2004,
          2005,
          2006,
          2007,
          2008,
          2009,
          2010,
          2011,
          2012,
          2013,
          2014,
          2015,
          2016,
          2017,
          2018,
          2019
         ],
         "xaxis": "x",
         "y": [
          "Extreme temperature",
          "Extreme temperature",
          "Extreme temperature",
          "Extreme temperature",
          "Extreme temperature",
          "Extreme temperature",
          "Extreme temperature",
          "Extreme temperature",
          "Extreme temperature",
          "Extreme temperature",
          "Extreme temperature",
          "Extreme temperature",
          "Extreme temperature",
          "Extreme temperature",
          "Extreme temperature",
          "Extreme temperature",
          "Extreme temperature",
          "Extreme temperature",
          "Extreme temperature",
          "Extreme temperature",
          "Extreme temperature",
          "Extreme temperature",
          "Extreme temperature",
          "Extreme temperature",
          "Extreme temperature",
          "Extreme temperature",
          "Extreme temperature",
          "Extreme temperature",
          "Extreme temperature",
          "Extreme temperature",
          "Extreme temperature",
          "Extreme temperature",
          "Extreme temperature",
          "Extreme temperature",
          "Extreme temperature",
          "Extreme temperature",
          "Extreme temperature",
          "Extreme temperature",
          "Extreme temperature",
          "Extreme temperature",
          "Extreme temperature",
          "Extreme temperature",
          "Extreme temperature",
          "Extreme temperature",
          "Extreme temperature",
          "Extreme temperature",
          "Extreme temperature",
          "Extreme temperature",
          "Extreme temperature",
          "Extreme temperature",
          "Extreme temperature",
          "Extreme temperature",
          "Extreme temperature",
          "Extreme temperature",
          "Extreme temperature",
          "Extreme temperature",
          "Extreme temperature"
         ],
         "yaxis": "y"
        },
        {
         "hovertemplate": "<b>%{hovertext}</b><br><br>Entity=%{y}<br>Year=%{x}<br>Death=%{marker.size}<extra></extra>",
         "hovertext": [
          "Extreme weather",
          "Extreme weather",
          "Extreme weather",
          "Extreme weather",
          "Extreme weather",
          "Extreme weather",
          "Extreme weather",
          "Extreme weather",
          "Extreme weather",
          "Extreme weather",
          "Extreme weather",
          "Extreme weather",
          "Extreme weather",
          "Extreme weather",
          "Extreme weather",
          "Extreme weather",
          "Extreme weather",
          "Extreme weather",
          "Extreme weather",
          "Extreme weather",
          "Extreme weather",
          "Extreme weather",
          "Extreme weather",
          "Extreme weather",
          "Extreme weather",
          "Extreme weather",
          "Extreme weather",
          "Extreme weather",
          "Extreme weather",
          "Extreme weather",
          "Extreme weather",
          "Extreme weather",
          "Extreme weather",
          "Extreme weather",
          "Extreme weather",
          "Extreme weather",
          "Extreme weather",
          "Extreme weather",
          "Extreme weather",
          "Extreme weather",
          "Extreme weather",
          "Extreme weather",
          "Extreme weather",
          "Extreme weather",
          "Extreme weather",
          "Extreme weather",
          "Extreme weather",
          "Extreme weather",
          "Extreme weather",
          "Extreme weather",
          "Extreme weather",
          "Extreme weather",
          "Extreme weather",
          "Extreme weather",
          "Extreme weather",
          "Extreme weather",
          "Extreme weather",
          "Extreme weather",
          "Extreme weather",
          "Extreme weather",
          "Extreme weather",
          "Extreme weather",
          "Extreme weather",
          "Extreme weather",
          "Extreme weather",
          "Extreme weather",
          "Extreme weather",
          "Extreme weather",
          "Extreme weather",
          "Extreme weather",
          "Extreme weather",
          "Extreme weather",
          "Extreme weather",
          "Extreme weather",
          "Extreme weather",
          "Extreme weather",
          "Extreme weather",
          "Extreme weather",
          "Extreme weather",
          "Extreme weather",
          "Extreme weather",
          "Extreme weather",
          "Extreme weather",
          "Extreme weather",
          "Extreme weather",
          "Extreme weather",
          "Extreme weather",
          "Extreme weather",
          "Extreme weather",
          "Extreme weather",
          "Extreme weather",
          "Extreme weather",
          "Extreme weather",
          "Extreme weather",
          "Extreme weather",
          "Extreme weather",
          "Extreme weather",
          "Extreme weather",
          "Extreme weather",
          "Extreme weather",
          "Extreme weather",
          "Extreme weather",
          "Extreme weather",
          "Extreme weather",
          "Extreme weather",
          "Extreme weather",
          "Extreme weather",
          "Extreme weather",
          "Extreme weather",
          "Extreme weather",
          "Extreme weather",
          "Extreme weather",
          "Extreme weather"
         ],
         "legendgroup": "Extreme weather",
         "marker": {
          "color": "#ab63fa",
          "size": [
           6000,
           600,
           163,
           240,
           10298,
           713,
           30,
           1000,
           51170,
           732,
           2125,
           300,
           4057,
           34,
           500,
           224,
           100000,
           3139,
           2242,
           819,
           3568,
           5772,
           4224,
           4082,
           3200,
           3244,
           63,
           5091,
           62707,
           3309,
           11231,
           905,
           3,
           123,
           5006,
           101000,
           5000,
           726,
           4415,
           337,
           4738,
           2971,
           2804,
           873,
           2861,
           6277,
           1814,
           2969,
           3895,
           3114,
           1139,
           2620,
           9695,
           9164,
           12852,
           1860,
           29965,
           10655,
           59932,
           2327,
           2255,
           1669,
           3252,
           304495,
           10811,
           1427,
           4344,
           11861,
           1041,
           1763,
           15298,
           3676,
           2623,
           1379,
           3790,
           2782,
           3656,
           5468,
           17165,
           1939,
           2900,
           3335,
           4256,
           4604,
           146297,
           1342,
           2965,
           4239,
           3763,
           4581,
           6150,
           24935,
           12270,
           1354,
           1911,
           1382,
           1049,
           6547,
           5251,
           4329,
           6035,
           140985,
           3287,
           1564,
           3103,
           3105,
           8603,
           1424,
           1270,
           1760,
           1014,
           1666,
           2519
          ],
          "sizemode": "area",
          "sizeref": 1480,
          "symbol": "circle"
         },
         "mode": "markers",
         "name": "Extreme weather",
         "orientation": "h",
         "showlegend": true,
         "type": "scatter",
         "x": [
          1900,
          1902,
          1903,
          1905,
          1906,
          1909,
          1910,
          1911,
          1912,
          1913,
          1915,
          1916,
          1917,
          1918,
          1919,
          1920,
          1922,
          1923,
          1924,
          1925,
          1926,
          1927,
          1928,
          1930,
          1931,
          1932,
          1933,
          1934,
          1935,
          1936,
          1937,
          1938,
          1939,
          1940,
          1941,
          1942,
          1943,
          1944,
          1945,
          1946,
          1947,
          1948,
          1949,
          1950,
          1951,
          1952,
          1953,
          1954,
          1955,
          1956,
          1957,
          1958,
          1959,
          1960,
          1961,
          1962,
          1963,
          1964,
          1965,
          1966,
          1967,
          1968,
          1969,
          1970,
          1971,
          1972,
          1973,
          1974,
          1975,
          1976,
          1977,
          1978,
          1979,
          1980,
          1981,
          1982,
          1983,
          1984,
          1985,
          1986,
          1987,
          1988,
          1989,
          1990,
          1991,
          1992,
          1993,
          1994,
          1995,
          1996,
          1997,
          1998,
          1999,
          2000,
          2001,
          2002,
          2003,
          2004,
          2005,
          2006,
          2007,
          2008,
          2009,
          2010,
          2011,
          2012,
          2013,
          2014,
          2015,
          2016,
          2017,
          2018,
          2019
         ],
         "xaxis": "x",
         "y": [
          "Extreme weather",
          "Extreme weather",
          "Extreme weather",
          "Extreme weather",
          "Extreme weather",
          "Extreme weather",
          "Extreme weather",
          "Extreme weather",
          "Extreme weather",
          "Extreme weather",
          "Extreme weather",
          "Extreme weather",
          "Extreme weather",
          "Extreme weather",
          "Extreme weather",
          "Extreme weather",
          "Extreme weather",
          "Extreme weather",
          "Extreme weather",
          "Extreme weather",
          "Extreme weather",
          "Extreme weather",
          "Extreme weather",
          "Extreme weather",
          "Extreme weather",
          "Extreme weather",
          "Extreme weather",
          "Extreme weather",
          "Extreme weather",
          "Extreme weather",
          "Extreme weather",
          "Extreme weather",
          "Extreme weather",
          "Extreme weather",
          "Extreme weather",
          "Extreme weather",
          "Extreme weather",
          "Extreme weather",
          "Extreme weather",
          "Extreme weather",
          "Extreme weather",
          "Extreme weather",
          "Extreme weather",
          "Extreme weather",
          "Extreme weather",
          "Extreme weather",
          "Extreme weather",
          "Extreme weather",
          "Extreme weather",
          "Extreme weather",
          "Extreme weather",
          "Extreme weather",
          "Extreme weather",
          "Extreme weather",
          "Extreme weather",
          "Extreme weather",
          "Extreme weather",
          "Extreme weather",
          "Extreme weather",
          "Extreme weather",
          "Extreme weather",
          "Extreme weather",
          "Extreme weather",
          "Extreme weather",
          "Extreme weather",
          "Extreme weather",
          "Extreme weather",
          "Extreme weather",
          "Extreme weather",
          "Extreme weather",
          "Extreme weather",
          "Extreme weather",
          "Extreme weather",
          "Extreme weather",
          "Extreme weather",
          "Extreme weather",
          "Extreme weather",
          "Extreme weather",
          "Extreme weather",
          "Extreme weather",
          "Extreme weather",
          "Extreme weather",
          "Extreme weather",
          "Extreme weather",
          "Extreme weather",
          "Extreme weather",
          "Extreme weather",
          "Extreme weather",
          "Extreme weather",
          "Extreme weather",
          "Extreme weather",
          "Extreme weather",
          "Extreme weather",
          "Extreme weather",
          "Extreme weather",
          "Extreme weather",
          "Extreme weather",
          "Extreme weather",
          "Extreme weather",
          "Extreme weather",
          "Extreme weather",
          "Extreme weather",
          "Extreme weather",
          "Extreme weather",
          "Extreme weather",
          "Extreme weather",
          "Extreme weather",
          "Extreme weather",
          "Extreme weather",
          "Extreme weather",
          "Extreme weather",
          "Extreme weather",
          "Extreme weather"
         ],
         "yaxis": "y"
        },
        {
         "hovertemplate": "<b>%{hovertext}</b><br><br>Entity=%{y}<br>Year=%{x}<br>Death=%{marker.size}<extra></extra>",
         "hovertext": [
          "Flood",
          "Flood",
          "Flood",
          "Flood",
          "Flood",
          "Flood",
          "Flood",
          "Flood",
          "Flood",
          "Flood",
          "Flood",
          "Flood",
          "Flood",
          "Flood",
          "Flood",
          "Flood",
          "Flood",
          "Flood",
          "Flood",
          "Flood",
          "Flood",
          "Flood",
          "Flood",
          "Flood",
          "Flood",
          "Flood",
          "Flood",
          "Flood",
          "Flood",
          "Flood",
          "Flood",
          "Flood",
          "Flood",
          "Flood",
          "Flood",
          "Flood",
          "Flood",
          "Flood",
          "Flood",
          "Flood",
          "Flood",
          "Flood",
          "Flood",
          "Flood",
          "Flood",
          "Flood",
          "Flood",
          "Flood",
          "Flood",
          "Flood",
          "Flood",
          "Flood",
          "Flood",
          "Flood",
          "Flood",
          "Flood",
          "Flood",
          "Flood",
          "Flood",
          "Flood",
          "Flood",
          "Flood",
          "Flood",
          "Flood",
          "Flood",
          "Flood",
          "Flood",
          "Flood",
          "Flood",
          "Flood",
          "Flood",
          "Flood",
          "Flood",
          "Flood",
          "Flood",
          "Flood",
          "Flood",
          "Flood",
          "Flood",
          "Flood",
          "Flood",
          "Flood",
          "Flood",
          "Flood",
          "Flood",
          "Flood",
          "Flood",
          "Flood",
          "Flood",
          "Flood",
          "Flood"
         ],
         "legendgroup": "Flood",
         "marker": {
          "color": "#FFA15A",
          "size": [
           300,
           250,
           6,
           72,
           1379,
           100000,
           1000,
           3246,
           36,
           3700000,
           18053,
           142000,
           200,
           248,
           954,
           500010,
           125,
           990,
           2000,
           917,
           97000,
           3808,
           5666,
           199,
           7125,
           34436,
           584,
           3613,
           2471,
           400,
           2003396,
           10577,
           3863,
           1180,
           1031,
           1123,
           1401,
           1923,
           2446,
           7306,
           1544,
           3246,
           2404,
           2548,
           1835,
           29431,
           848,
           960,
           2568,
           5897,
           1038,
           10466,
           5283,
           4648,
           2082,
           2930,
           4376,
           1782,
           6766,
           8504,
           4716,
           2251,
           5852,
           5315,
           6150,
           6771,
           7956,
           8047,
           7685,
           10653,
           34807,
           6025,
           5014,
           4236,
           3910,
           6982,
           5754,
           5843,
           8607,
           4007,
           3627,
           8356,
           6163,
           3544,
           9836,
           3532,
           3495,
           4720,
           3086,
           2869,
           5100
          ],
          "sizemode": "area",
          "sizeref": 1480,
          "symbol": "circle"
         },
         "mode": "markers",
         "name": "Flood",
         "orientation": "h",
         "showlegend": true,
         "type": "scatter",
         "x": [
          1900,
          1903,
          1906,
          1909,
          1910,
          1911,
          1926,
          1927,
          1928,
          1931,
          1933,
          1935,
          1936,
          1937,
          1938,
          1939,
          1940,
          1943,
          1947,
          1948,
          1949,
          1950,
          1951,
          1952,
          1953,
          1954,
          1955,
          1956,
          1957,
          1958,
          1959,
          1960,
          1961,
          1962,
          1963,
          1964,
          1965,
          1966,
          1967,
          1968,
          1969,
          1970,
          1971,
          1972,
          1973,
          1974,
          1975,
          1976,
          1977,
          1978,
          1979,
          1980,
          1981,
          1982,
          1983,
          1984,
          1985,
          1986,
          1987,
          1988,
          1989,
          1990,
          1991,
          1992,
          1993,
          1994,
          1995,
          1996,
          1997,
          1998,
          1999,
          2000,
          2001,
          2002,
          2003,
          2004,
          2005,
          2006,
          2007,
          2008,
          2009,
          2010,
          2011,
          2012,
          2013,
          2014,
          2015,
          2016,
          2017,
          2018,
          2019
         ],
         "xaxis": "x",
         "y": [
          "Flood",
          "Flood",
          "Flood",
          "Flood",
          "Flood",
          "Flood",
          "Flood",
          "Flood",
          "Flood",
          "Flood",
          "Flood",
          "Flood",
          "Flood",
          "Flood",
          "Flood",
          "Flood",
          "Flood",
          "Flood",
          "Flood",
          "Flood",
          "Flood",
          "Flood",
          "Flood",
          "Flood",
          "Flood",
          "Flood",
          "Flood",
          "Flood",
          "Flood",
          "Flood",
          "Flood",
          "Flood",
          "Flood",
          "Flood",
          "Flood",
          "Flood",
          "Flood",
          "Flood",
          "Flood",
          "Flood",
          "Flood",
          "Flood",
          "Flood",
          "Flood",
          "Flood",
          "Flood",
          "Flood",
          "Flood",
          "Flood",
          "Flood",
          "Flood",
          "Flood",
          "Flood",
          "Flood",
          "Flood",
          "Flood",
          "Flood",
          "Flood",
          "Flood",
          "Flood",
          "Flood",
          "Flood",
          "Flood",
          "Flood",
          "Flood",
          "Flood",
          "Flood",
          "Flood",
          "Flood",
          "Flood",
          "Flood",
          "Flood",
          "Flood",
          "Flood",
          "Flood",
          "Flood",
          "Flood",
          "Flood",
          "Flood",
          "Flood",
          "Flood",
          "Flood",
          "Flood",
          "Flood",
          "Flood",
          "Flood",
          "Flood",
          "Flood",
          "Flood",
          "Flood",
          "Flood"
         ],
         "yaxis": "y"
        },
        {
         "hovertemplate": "<b>%{hovertext}</b><br><br>Entity=%{y}<br>Year=%{x}<br>Death=%{marker.size}<extra></extra>",
         "hovertext": [
          "Landslide",
          "Landslide",
          "Landslide",
          "Landslide",
          "Landslide",
          "Landslide",
          "Landslide",
          "Landslide",
          "Landslide",
          "Landslide",
          "Landslide",
          "Landslide",
          "Landslide",
          "Landslide",
          "Landslide",
          "Landslide",
          "Landslide",
          "Landslide",
          "Landslide",
          "Landslide",
          "Landslide",
          "Landslide",
          "Landslide",
          "Landslide",
          "Landslide",
          "Landslide",
          "Landslide",
          "Landslide",
          "Landslide",
          "Landslide",
          "Landslide",
          "Landslide",
          "Landslide",
          "Landslide",
          "Landslide",
          "Landslide",
          "Landslide",
          "Landslide",
          "Landslide",
          "Landslide",
          "Landslide",
          "Landslide",
          "Landslide",
          "Landslide",
          "Landslide",
          "Landslide",
          "Landslide",
          "Landslide",
          "Landslide",
          "Landslide",
          "Landslide",
          "Landslide",
          "Landslide",
          "Landslide",
          "Landslide",
          "Landslide",
          "Landslide",
          "Landslide",
          "Landslide",
          "Landslide",
          "Landslide",
          "Landslide",
          "Landslide",
          "Landslide",
          "Landslide",
          "Landslide",
          "Landslide",
          "Landslide",
          "Landslide",
          "Landslide",
          "Landslide",
          "Landslide",
          "Landslide",
          "Landslide",
          "Landslide",
          "Landslide",
          "Landslide",
          "Landslide",
          "Landslide",
          "Landslide",
          "Landslide"
         ],
         "legendgroup": "Landslide",
         "marker": {
          "color": "#19d3f3",
          "size": [
           53,
           100,
           200,
           128,
           40,
           190,
           30,
           500,
           73,
           200,
           5000,
           525,
           12000,
           130,
           92,
           28,
           1086,
           478,
           236,
           52,
           48,
           52,
           166,
           71,
           2033,
           108,
           204,
           604,
           590,
           1196,
           18,
           186,
           1020,
           755,
           3541,
           904,
           195,
           315,
           40,
           86,
           338,
           300,
           421,
           640,
           1159,
           228,
           377,
           501,
           1204,
           952,
           445,
           98,
           728,
           712,
           1418,
           307,
           1521,
           1155,
           801,
           1141,
           445,
           1012,
           786,
           1100,
           706,
           313,
           664,
           1638,
           271,
           504,
           723,
           3427,
           309,
           501,
           235,
           943,
           1006,
           361,
           2080,
           275,
           719
          ],
          "sizemode": "area",
          "sizeref": 1480,
          "symbol": "circle"
         },
         "mode": "markers",
         "name": "Landslide",
         "orientation": "h",
         "showlegend": true,
         "type": "scatter",
         "x": [
          1909,
          1922,
          1923,
          1926,
          1930,
          1931,
          1932,
          1934,
          1936,
          1938,
          1941,
          1948,
          1949,
          1950,
          1951,
          1952,
          1954,
          1955,
          1956,
          1958,
          1959,
          1960,
          1961,
          1962,
          1963,
          1964,
          1965,
          1966,
          1967,
          1968,
          1969,
          1970,
          1971,
          1972,
          1973,
          1974,
          1975,
          1976,
          1977,
          1978,
          1979,
          1980,
          1981,
          1982,
          1983,
          1984,
          1985,
          1986,
          1987,
          1988,
          1989,
          1990,
          1991,
          1992,
          1993,
          1994,
          1995,
          1996,
          1997,
          1998,
          1999,
          2000,
          2001,
          2002,
          2003,
          2004,
          2005,
          2006,
          2007,
          2008,
          2009,
          2010,
          2011,
          2012,
          2013,
          2014,
          2015,
          2016,
          2017,
          2018,
          2019
         ],
         "xaxis": "x",
         "y": [
          "Landslide",
          "Landslide",
          "Landslide",
          "Landslide",
          "Landslide",
          "Landslide",
          "Landslide",
          "Landslide",
          "Landslide",
          "Landslide",
          "Landslide",
          "Landslide",
          "Landslide",
          "Landslide",
          "Landslide",
          "Landslide",
          "Landslide",
          "Landslide",
          "Landslide",
          "Landslide",
          "Landslide",
          "Landslide",
          "Landslide",
          "Landslide",
          "Landslide",
          "Landslide",
          "Landslide",
          "Landslide",
          "Landslide",
          "Landslide",
          "Landslide",
          "Landslide",
          "Landslide",
          "Landslide",
          "Landslide",
          "Landslide",
          "Landslide",
          "Landslide",
          "Landslide",
          "Landslide",
          "Landslide",
          "Landslide",
          "Landslide",
          "Landslide",
          "Landslide",
          "Landslide",
          "Landslide",
          "Landslide",
          "Landslide",
          "Landslide",
          "Landslide",
          "Landslide",
          "Landslide",
          "Landslide",
          "Landslide",
          "Landslide",
          "Landslide",
          "Landslide",
          "Landslide",
          "Landslide",
          "Landslide",
          "Landslide",
          "Landslide",
          "Landslide",
          "Landslide",
          "Landslide",
          "Landslide",
          "Landslide",
          "Landslide",
          "Landslide",
          "Landslide",
          "Landslide",
          "Landslide",
          "Landslide",
          "Landslide",
          "Landslide",
          "Landslide",
          "Landslide",
          "Landslide",
          "Landslide",
          "Landslide"
         ],
         "yaxis": "y"
        },
        {
         "hovertemplate": "<b>%{hovertext}</b><br><br>Entity=%{y}<br>Year=%{x}<br>Death=%{marker.size}<extra></extra>",
         "hovertext": [
          "Mass movement (dry)",
          "Mass movement (dry)",
          "Mass movement (dry)",
          "Mass movement (dry)",
          "Mass movement (dry)",
          "Mass movement (dry)",
          "Mass movement (dry)",
          "Mass movement (dry)",
          "Mass movement (dry)",
          "Mass movement (dry)",
          "Mass movement (dry)",
          "Mass movement (dry)",
          "Mass movement (dry)",
          "Mass movement (dry)",
          "Mass movement (dry)",
          "Mass movement (dry)",
          "Mass movement (dry)",
          "Mass movement (dry)",
          "Mass movement (dry)",
          "Mass movement (dry)",
          "Mass movement (dry)",
          "Mass movement (dry)",
          "Mass movement (dry)",
          "Mass movement (dry)",
          "Mass movement (dry)",
          "Mass movement (dry)",
          "Mass movement (dry)",
          "Mass movement (dry)",
          "Mass movement (dry)",
          "Mass movement (dry)",
          "Mass movement (dry)",
          "Mass movement (dry)",
          "Mass movement (dry)"
         ],
         "legendgroup": "Mass movement (dry)",
         "marker": {
          "color": "#FF6692",
          "size": [
           76,
           18,
           33,
           62,
           56,
           40,
           3,
           2000,
           150,
           26,
           42,
           31,
           50,
           59,
           466,
           300,
           183,
           157,
           55,
           116,
           86,
           323,
           341,
           11,
           60,
           44,
           11,
           120,
           36,
           16,
           46,
           13,
           17
          ],
          "sizemode": "area",
          "sizeref": 1480,
          "symbol": "circle"
         },
         "mode": "markers",
         "name": "Mass movement (dry)",
         "orientation": "h",
         "showlegend": true,
         "type": "scatter",
         "x": [
          1903,
          1905,
          1908,
          1910,
          1915,
          1937,
          1955,
          1962,
          1963,
          1965,
          1970,
          1971,
          1980,
          1982,
          1983,
          1985,
          1987,
          1988,
          1989,
          1990,
          1991,
          1992,
          1993,
          2000,
          2002,
          2004,
          2006,
          2008,
          2009,
          2012,
          2013,
          2015,
          2018
         ],
         "xaxis": "x",
         "y": [
          "Mass movement (dry)",
          "Mass movement (dry)",
          "Mass movement (dry)",
          "Mass movement (dry)",
          "Mass movement (dry)",
          "Mass movement (dry)",
          "Mass movement (dry)",
          "Mass movement (dry)",
          "Mass movement (dry)",
          "Mass movement (dry)",
          "Mass movement (dry)",
          "Mass movement (dry)",
          "Mass movement (dry)",
          "Mass movement (dry)",
          "Mass movement (dry)",
          "Mass movement (dry)",
          "Mass movement (dry)",
          "Mass movement (dry)",
          "Mass movement (dry)",
          "Mass movement (dry)",
          "Mass movement (dry)",
          "Mass movement (dry)",
          "Mass movement (dry)",
          "Mass movement (dry)",
          "Mass movement (dry)",
          "Mass movement (dry)",
          "Mass movement (dry)",
          "Mass movement (dry)",
          "Mass movement (dry)",
          "Mass movement (dry)",
          "Mass movement (dry)",
          "Mass movement (dry)",
          "Mass movement (dry)"
         ],
         "yaxis": "y"
        },
        {
         "hovertemplate": "<b>%{hovertext}</b><br><br>Entity=%{y}<br>Year=%{x}<br>Death=%{marker.size}<extra></extra>",
         "hovertext": [
          "Volcanic activity",
          "Volcanic activity",
          "Volcanic activity",
          "Volcanic activity",
          "Volcanic activity",
          "Volcanic activity",
          "Volcanic activity",
          "Volcanic activity",
          "Volcanic activity",
          "Volcanic activity",
          "Volcanic activity",
          "Volcanic activity",
          "Volcanic activity",
          "Volcanic activity",
          "Volcanic activity",
          "Volcanic activity",
          "Volcanic activity",
          "Volcanic activity",
          "Volcanic activity",
          "Volcanic activity",
          "Volcanic activity",
          "Volcanic activity",
          "Volcanic activity",
          "Volcanic activity",
          "Volcanic activity",
          "Volcanic activity",
          "Volcanic activity",
          "Volcanic activity",
          "Volcanic activity",
          "Volcanic activity",
          "Volcanic activity",
          "Volcanic activity",
          "Volcanic activity",
          "Volcanic activity",
          "Volcanic activity",
          "Volcanic activity",
          "Volcanic activity",
          "Volcanic activity",
          "Volcanic activity",
          "Volcanic activity",
          "Volcanic activity",
          "Volcanic activity",
          "Volcanic activity",
          "Volcanic activity",
          "Volcanic activity",
          "Volcanic activity",
          "Volcanic activity",
          "Volcanic activity",
          "Volcanic activity",
          "Volcanic activity",
          "Volcanic activity",
          "Volcanic activity",
          "Volcanic activity",
          "Volcanic activity",
          "Volcanic activity",
          "Volcanic activity"
         ],
         "legendgroup": "Volcanic activity",
         "marker": {
          "color": "#B6E880",
          "size": [
           30,
           38690,
           17,
           700,
           5500,
           1335,
           140,
           5000,
           144,
           5000,
           1369,
           1300,
           506,
           26,
           100,
           2000,
           84,
           4800,
           29,
           150,
           37,
           1705,
           4,
           355,
           1088,
           90,
           2,
           41,
           215,
           268,
           90,
           192,
           130,
           37,
           21800,
           1746,
           7,
           33,
           683,
           1,
           99,
           101,
           4,
           53,
           200,
           2,
           3,
           5,
           11,
           16,
           323,
           3,
           102,
           0,
           878,
           21
          ],
          "sizemode": "area",
          "sizeref": 1480,
          "symbol": "circle"
         },
         "mode": "markers",
         "name": "Volcanic activity",
         "orientation": "h",
         "showlegend": true,
         "type": "scatter",
         "x": [
          1900,
          1902,
          1903,
          1906,
          1909,
          1911,
          1914,
          1919,
          1926,
          1929,
          1930,
          1931,
          1937,
          1944,
          1948,
          1949,
          1950,
          1951,
          1952,
          1953,
          1954,
          1963,
          1964,
          1965,
          1966,
          1968,
          1975,
          1976,
          1977,
          1979,
          1980,
          1981,
          1982,
          1984,
          1985,
          1986,
          1988,
          1990,
          1991,
          1992,
          1993,
          1994,
          1996,
          1997,
          2002,
          2004,
          2005,
          2006,
          2007,
          2008,
          2010,
          2011,
          2014,
          2017,
          2018,
          2019
         ],
         "xaxis": "x",
         "y": [
          "Volcanic activity",
          "Volcanic activity",
          "Volcanic activity",
          "Volcanic activity",
          "Volcanic activity",
          "Volcanic activity",
          "Volcanic activity",
          "Volcanic activity",
          "Volcanic activity",
          "Volcanic activity",
          "Volcanic activity",
          "Volcanic activity",
          "Volcanic activity",
          "Volcanic activity",
          "Volcanic activity",
          "Volcanic activity",
          "Volcanic activity",
          "Volcanic activity",
          "Volcanic activity",
          "Volcanic activity",
          "Volcanic activity",
          "Volcanic activity",
          "Volcanic activity",
          "Volcanic activity",
          "Volcanic activity",
          "Volcanic activity",
          "Volcanic activity",
          "Volcanic activity",
          "Volcanic activity",
          "Volcanic activity",
          "Volcanic activity",
          "Volcanic activity",
          "Volcanic activity",
          "Volcanic activity",
          "Volcanic activity",
          "Volcanic activity",
          "Volcanic activity",
          "Volcanic activity",
          "Volcanic activity",
          "Volcanic activity",
          "Volcanic activity",
          "Volcanic activity",
          "Volcanic activity",
          "Volcanic activity",
          "Volcanic activity",
          "Volcanic activity",
          "Volcanic activity",
          "Volcanic activity",
          "Volcanic activity",
          "Volcanic activity",
          "Volcanic activity",
          "Volcanic activity",
          "Volcanic activity",
          "Volcanic activity",
          "Volcanic activity",
          "Volcanic activity"
         ],
         "yaxis": "y"
        },
        {
         "hovertemplate": "<b>%{hovertext}</b><br><br>Entity=%{y}<br>Year=%{x}<br>Death=%{marker.size}<extra></extra>",
         "hovertext": [
          "Wildfire",
          "Wildfire",
          "Wildfire",
          "Wildfire",
          "Wildfire",
          "Wildfire",
          "Wildfire",
          "Wildfire",
          "Wildfire",
          "Wildfire",
          "Wildfire",
          "Wildfire",
          "Wildfire",
          "Wildfire",
          "Wildfire",
          "Wildfire",
          "Wildfire",
          "Wildfire",
          "Wildfire",
          "Wildfire",
          "Wildfire",
          "Wildfire",
          "Wildfire",
          "Wildfire",
          "Wildfire",
          "Wildfire",
          "Wildfire",
          "Wildfire",
          "Wildfire",
          "Wildfire",
          "Wildfire",
          "Wildfire",
          "Wildfire",
          "Wildfire",
          "Wildfire",
          "Wildfire",
          "Wildfire",
          "Wildfire",
          "Wildfire",
          "Wildfire",
          "Wildfire",
          "Wildfire",
          "Wildfire",
          "Wildfire",
          "Wildfire",
          "Wildfire",
          "Wildfire",
          "Wildfire",
          "Wildfire",
          "Wildfire"
         ],
         "legendgroup": "Wildfire",
         "marker": {
          "color": "#FF97FF",
          "size": [
           73,
           1000,
           43,
           60,
           71,
           170,
           80,
           11,
           25,
           62,
           12,
           3,
           2,
           8,
           2,
           106,
           17,
           51,
           20,
           191,
           1,
           90,
           122,
           3,
           84,
           29,
           45,
           266,
           150,
           70,
           47,
           33,
           6,
           47,
           14,
           45,
           13,
           148,
           86,
           190,
           166,
           10,
           21,
           35,
           16,
           67,
           39,
           167,
           247,
           116
          ],
          "sizemode": "area",
          "sizeref": 1480,
          "symbol": "circle"
         },
         "mode": "markers",
         "name": "Wildfire",
         "orientation": "h",
         "showlegend": true,
         "type": "scatter",
         "x": [
          1911,
          1918,
          1922,
          1929,
          1939,
          1944,
          1949,
          1956,
          1966,
          1967,
          1968,
          1977,
          1978,
          1981,
          1982,
          1983,
          1984,
          1985,
          1986,
          1987,
          1989,
          1991,
          1992,
          1993,
          1994,
          1995,
          1996,
          1997,
          1998,
          1999,
          2000,
          2001,
          2002,
          2003,
          2004,
          2005,
          2006,
          2007,
          2008,
          2009,
          2010,
          2011,
          2012,
          2013,
          2014,
          2015,
          2016,
          2017,
          2018,
          2019
         ],
         "xaxis": "x",
         "y": [
          "Wildfire",
          "Wildfire",
          "Wildfire",
          "Wildfire",
          "Wildfire",
          "Wildfire",
          "Wildfire",
          "Wildfire",
          "Wildfire",
          "Wildfire",
          "Wildfire",
          "Wildfire",
          "Wildfire",
          "Wildfire",
          "Wildfire",
          "Wildfire",
          "Wildfire",
          "Wildfire",
          "Wildfire",
          "Wildfire",
          "Wildfire",
          "Wildfire",
          "Wildfire",
          "Wildfire",
          "Wildfire",
          "Wildfire",
          "Wildfire",
          "Wildfire",
          "Wildfire",
          "Wildfire",
          "Wildfire",
          "Wildfire",
          "Wildfire",
          "Wildfire",
          "Wildfire",
          "Wildfire",
          "Wildfire",
          "Wildfire",
          "Wildfire",
          "Wildfire",
          "Wildfire",
          "Wildfire",
          "Wildfire",
          "Wildfire",
          "Wildfire",
          "Wildfire",
          "Wildfire",
          "Wildfire",
          "Wildfire",
          "Wildfire"
         ],
         "yaxis": "y"
        }
       ],
       "layout": {
        "legend": {
         "itemsizing": "constant",
         "title": {
          "text": "Entity"
         },
         "tracegroupgap": 0
        },
        "template": {
         "data": {
          "bar": [
           {
            "error_x": {
             "color": "#2a3f5f"
            },
            "error_y": {
             "color": "#2a3f5f"
            },
            "marker": {
             "line": {
              "color": "#E5ECF6",
              "width": 0.5
             },
             "pattern": {
              "fillmode": "overlay",
              "size": 10,
              "solidity": 0.2
             }
            },
            "type": "bar"
           }
          ],
          "barpolar": [
           {
            "marker": {
             "line": {
              "color": "#E5ECF6",
              "width": 0.5
             },
             "pattern": {
              "fillmode": "overlay",
              "size": 10,
              "solidity": 0.2
             }
            },
            "type": "barpolar"
           }
          ],
          "carpet": [
           {
            "aaxis": {
             "endlinecolor": "#2a3f5f",
             "gridcolor": "white",
             "linecolor": "white",
             "minorgridcolor": "white",
             "startlinecolor": "#2a3f5f"
            },
            "baxis": {
             "endlinecolor": "#2a3f5f",
             "gridcolor": "white",
             "linecolor": "white",
             "minorgridcolor": "white",
             "startlinecolor": "#2a3f5f"
            },
            "type": "carpet"
           }
          ],
          "choropleth": [
           {
            "colorbar": {
             "outlinewidth": 0,
             "ticks": ""
            },
            "type": "choropleth"
           }
          ],
          "contour": [
           {
            "colorbar": {
             "outlinewidth": 0,
             "ticks": ""
            },
            "colorscale": [
             [
              0,
              "#0d0887"
             ],
             [
              0.1111111111111111,
              "#46039f"
             ],
             [
              0.2222222222222222,
              "#7201a8"
             ],
             [
              0.3333333333333333,
              "#9c179e"
             ],
             [
              0.4444444444444444,
              "#bd3786"
             ],
             [
              0.5555555555555556,
              "#d8576b"
             ],
             [
              0.6666666666666666,
              "#ed7953"
             ],
             [
              0.7777777777777778,
              "#fb9f3a"
             ],
             [
              0.8888888888888888,
              "#fdca26"
             ],
             [
              1,
              "#f0f921"
             ]
            ],
            "type": "contour"
           }
          ],
          "contourcarpet": [
           {
            "colorbar": {
             "outlinewidth": 0,
             "ticks": ""
            },
            "type": "contourcarpet"
           }
          ],
          "heatmap": [
           {
            "colorbar": {
             "outlinewidth": 0,
             "ticks": ""
            },
            "colorscale": [
             [
              0,
              "#0d0887"
             ],
             [
              0.1111111111111111,
              "#46039f"
             ],
             [
              0.2222222222222222,
              "#7201a8"
             ],
             [
              0.3333333333333333,
              "#9c179e"
             ],
             [
              0.4444444444444444,
              "#bd3786"
             ],
             [
              0.5555555555555556,
              "#d8576b"
             ],
             [
              0.6666666666666666,
              "#ed7953"
             ],
             [
              0.7777777777777778,
              "#fb9f3a"
             ],
             [
              0.8888888888888888,
              "#fdca26"
             ],
             [
              1,
              "#f0f921"
             ]
            ],
            "type": "heatmap"
           }
          ],
          "heatmapgl": [
           {
            "colorbar": {
             "outlinewidth": 0,
             "ticks": ""
            },
            "colorscale": [
             [
              0,
              "#0d0887"
             ],
             [
              0.1111111111111111,
              "#46039f"
             ],
             [
              0.2222222222222222,
              "#7201a8"
             ],
             [
              0.3333333333333333,
              "#9c179e"
             ],
             [
              0.4444444444444444,
              "#bd3786"
             ],
             [
              0.5555555555555556,
              "#d8576b"
             ],
             [
              0.6666666666666666,
              "#ed7953"
             ],
             [
              0.7777777777777778,
              "#fb9f3a"
             ],
             [
              0.8888888888888888,
              "#fdca26"
             ],
             [
              1,
              "#f0f921"
             ]
            ],
            "type": "heatmapgl"
           }
          ],
          "histogram": [
           {
            "marker": {
             "pattern": {
              "fillmode": "overlay",
              "size": 10,
              "solidity": 0.2
             }
            },
            "type": "histogram"
           }
          ],
          "histogram2d": [
           {
            "colorbar": {
             "outlinewidth": 0,
             "ticks": ""
            },
            "colorscale": [
             [
              0,
              "#0d0887"
             ],
             [
              0.1111111111111111,
              "#46039f"
             ],
             [
              0.2222222222222222,
              "#7201a8"
             ],
             [
              0.3333333333333333,
              "#9c179e"
             ],
             [
              0.4444444444444444,
              "#bd3786"
             ],
             [
              0.5555555555555556,
              "#d8576b"
             ],
             [
              0.6666666666666666,
              "#ed7953"
             ],
             [
              0.7777777777777778,
              "#fb9f3a"
             ],
             [
              0.8888888888888888,
              "#fdca26"
             ],
             [
              1,
              "#f0f921"
             ]
            ],
            "type": "histogram2d"
           }
          ],
          "histogram2dcontour": [
           {
            "colorbar": {
             "outlinewidth": 0,
             "ticks": ""
            },
            "colorscale": [
             [
              0,
              "#0d0887"
             ],
             [
              0.1111111111111111,
              "#46039f"
             ],
             [
              0.2222222222222222,
              "#7201a8"
             ],
             [
              0.3333333333333333,
              "#9c179e"
             ],
             [
              0.4444444444444444,
              "#bd3786"
             ],
             [
              0.5555555555555556,
              "#d8576b"
             ],
             [
              0.6666666666666666,
              "#ed7953"
             ],
             [
              0.7777777777777778,
              "#fb9f3a"
             ],
             [
              0.8888888888888888,
              "#fdca26"
             ],
             [
              1,
              "#f0f921"
             ]
            ],
            "type": "histogram2dcontour"
           }
          ],
          "mesh3d": [
           {
            "colorbar": {
             "outlinewidth": 0,
             "ticks": ""
            },
            "type": "mesh3d"
           }
          ],
          "parcoords": [
           {
            "line": {
             "colorbar": {
              "outlinewidth": 0,
              "ticks": ""
             }
            },
            "type": "parcoords"
           }
          ],
          "pie": [
           {
            "automargin": true,
            "type": "pie"
           }
          ],
          "scatter": [
           {
            "marker": {
             "colorbar": {
              "outlinewidth": 0,
              "ticks": ""
             }
            },
            "type": "scatter"
           }
          ],
          "scatter3d": [
           {
            "line": {
             "colorbar": {
              "outlinewidth": 0,
              "ticks": ""
             }
            },
            "marker": {
             "colorbar": {
              "outlinewidth": 0,
              "ticks": ""
             }
            },
            "type": "scatter3d"
           }
          ],
          "scattercarpet": [
           {
            "marker": {
             "colorbar": {
              "outlinewidth": 0,
              "ticks": ""
             }
            },
            "type": "scattercarpet"
           }
          ],
          "scattergeo": [
           {
            "marker": {
             "colorbar": {
              "outlinewidth": 0,
              "ticks": ""
             }
            },
            "type": "scattergeo"
           }
          ],
          "scattergl": [
           {
            "marker": {
             "colorbar": {
              "outlinewidth": 0,
              "ticks": ""
             }
            },
            "type": "scattergl"
           }
          ],
          "scattermapbox": [
           {
            "marker": {
             "colorbar": {
              "outlinewidth": 0,
              "ticks": ""
             }
            },
            "type": "scattermapbox"
           }
          ],
          "scatterpolar": [
           {
            "marker": {
             "colorbar": {
              "outlinewidth": 0,
              "ticks": ""
             }
            },
            "type": "scatterpolar"
           }
          ],
          "scatterpolargl": [
           {
            "marker": {
             "colorbar": {
              "outlinewidth": 0,
              "ticks": ""
             }
            },
            "type": "scatterpolargl"
           }
          ],
          "scatterternary": [
           {
            "marker": {
             "colorbar": {
              "outlinewidth": 0,
              "ticks": ""
             }
            },
            "type": "scatterternary"
           }
          ],
          "surface": [
           {
            "colorbar": {
             "outlinewidth": 0,
             "ticks": ""
            },
            "colorscale": [
             [
              0,
              "#0d0887"
             ],
             [
              0.1111111111111111,
              "#46039f"
             ],
             [
              0.2222222222222222,
              "#7201a8"
             ],
             [
              0.3333333333333333,
              "#9c179e"
             ],
             [
              0.4444444444444444,
              "#bd3786"
             ],
             [
              0.5555555555555556,
              "#d8576b"
             ],
             [
              0.6666666666666666,
              "#ed7953"
             ],
             [
              0.7777777777777778,
              "#fb9f3a"
             ],
             [
              0.8888888888888888,
              "#fdca26"
             ],
             [
              1,
              "#f0f921"
             ]
            ],
            "type": "surface"
           }
          ],
          "table": [
           {
            "cells": {
             "fill": {
              "color": "#EBF0F8"
             },
             "line": {
              "color": "white"
             }
            },
            "header": {
             "fill": {
              "color": "#C8D4E3"
             },
             "line": {
              "color": "white"
             }
            },
            "type": "table"
           }
          ]
         },
         "layout": {
          "annotationdefaults": {
           "arrowcolor": "#2a3f5f",
           "arrowhead": 0,
           "arrowwidth": 1
          },
          "autotypenumbers": "strict",
          "coloraxis": {
           "colorbar": {
            "outlinewidth": 0,
            "ticks": ""
           }
          },
          "colorscale": {
           "diverging": [
            [
             0,
             "#8e0152"
            ],
            [
             0.1,
             "#c51b7d"
            ],
            [
             0.2,
             "#de77ae"
            ],
            [
             0.3,
             "#f1b6da"
            ],
            [
             0.4,
             "#fde0ef"
            ],
            [
             0.5,
             "#f7f7f7"
            ],
            [
             0.6,
             "#e6f5d0"
            ],
            [
             0.7,
             "#b8e186"
            ],
            [
             0.8,
             "#7fbc41"
            ],
            [
             0.9,
             "#4d9221"
            ],
            [
             1,
             "#276419"
            ]
           ],
           "sequential": [
            [
             0,
             "#0d0887"
            ],
            [
             0.1111111111111111,
             "#46039f"
            ],
            [
             0.2222222222222222,
             "#7201a8"
            ],
            [
             0.3333333333333333,
             "#9c179e"
            ],
            [
             0.4444444444444444,
             "#bd3786"
            ],
            [
             0.5555555555555556,
             "#d8576b"
            ],
            [
             0.6666666666666666,
             "#ed7953"
            ],
            [
             0.7777777777777778,
             "#fb9f3a"
            ],
            [
             0.8888888888888888,
             "#fdca26"
            ],
            [
             1,
             "#f0f921"
            ]
           ],
           "sequentialminus": [
            [
             0,
             "#0d0887"
            ],
            [
             0.1111111111111111,
             "#46039f"
            ],
            [
             0.2222222222222222,
             "#7201a8"
            ],
            [
             0.3333333333333333,
             "#9c179e"
            ],
            [
             0.4444444444444444,
             "#bd3786"
            ],
            [
             0.5555555555555556,
             "#d8576b"
            ],
            [
             0.6666666666666666,
             "#ed7953"
            ],
            [
             0.7777777777777778,
             "#fb9f3a"
            ],
            [
             0.8888888888888888,
             "#fdca26"
            ],
            [
             1,
             "#f0f921"
            ]
           ]
          },
          "colorway": [
           "#636efa",
           "#EF553B",
           "#00cc96",
           "#ab63fa",
           "#FFA15A",
           "#19d3f3",
           "#FF6692",
           "#B6E880",
           "#FF97FF",
           "#FECB52"
          ],
          "font": {
           "color": "#2a3f5f"
          },
          "geo": {
           "bgcolor": "white",
           "lakecolor": "white",
           "landcolor": "#E5ECF6",
           "showlakes": true,
           "showland": true,
           "subunitcolor": "white"
          },
          "hoverlabel": {
           "align": "left"
          },
          "hovermode": "closest",
          "mapbox": {
           "style": "light"
          },
          "paper_bgcolor": "white",
          "plot_bgcolor": "#E5ECF6",
          "polar": {
           "angularaxis": {
            "gridcolor": "white",
            "linecolor": "white",
            "ticks": ""
           },
           "bgcolor": "#E5ECF6",
           "radialaxis": {
            "gridcolor": "white",
            "linecolor": "white",
            "ticks": ""
           }
          },
          "scene": {
           "xaxis": {
            "backgroundcolor": "#E5ECF6",
            "gridcolor": "white",
            "gridwidth": 2,
            "linecolor": "white",
            "showbackground": true,
            "ticks": "",
            "zerolinecolor": "white"
           },
           "yaxis": {
            "backgroundcolor": "#E5ECF6",
            "gridcolor": "white",
            "gridwidth": 2,
            "linecolor": "white",
            "showbackground": true,
            "ticks": "",
            "zerolinecolor": "white"
           },
           "zaxis": {
            "backgroundcolor": "#E5ECF6",
            "gridcolor": "white",
            "gridwidth": 2,
            "linecolor": "white",
            "showbackground": true,
            "ticks": "",
            "zerolinecolor": "white"
           }
          },
          "shapedefaults": {
           "line": {
            "color": "#2a3f5f"
           }
          },
          "ternary": {
           "aaxis": {
            "gridcolor": "white",
            "linecolor": "white",
            "ticks": ""
           },
           "baxis": {
            "gridcolor": "white",
            "linecolor": "white",
            "ticks": ""
           },
           "bgcolor": "#E5ECF6",
           "caxis": {
            "gridcolor": "white",
            "linecolor": "white",
            "ticks": ""
           }
          },
          "title": {
           "x": 0.05
          },
          "xaxis": {
           "automargin": true,
           "gridcolor": "white",
           "linecolor": "white",
           "ticks": "",
           "title": {
            "standoff": 15
           },
           "zerolinecolor": "white",
           "zerolinewidth": 2
          },
          "yaxis": {
           "automargin": true,
           "gridcolor": "white",
           "linecolor": "white",
           "ticks": "",
           "title": {
            "standoff": 15
           },
           "zerolinecolor": "white",
           "zerolinewidth": 2
          }
         }
        },
        "title": {
         "text": "자연재해 종류와 그에 따른 인명피해(1900~2019)"
        },
        "xaxis": {
         "anchor": "y",
         "domain": [
          0,
          1
         ],
         "title": {
          "text": "Year"
         }
        },
        "yaxis": {
         "anchor": "x",
         "categoryarray": [
          "Wildfire",
          "Volcanic activity",
          "Mass movement (dry)",
          "Landslide",
          "Flood",
          "Extreme weather",
          "Extreme temperature",
          "Earthquake",
          "Drought"
         ],
         "categoryorder": "array",
         "domain": [
          0,
          1
         ],
         "title": {
          "text": "Entity"
         }
        }
       }
      },
      "text/html": [
       "<div>                            <div id=\"def8cd04-cf7f-4f3f-bd42-40c276938502\" class=\"plotly-graph-div\" style=\"height:525px; width:100%;\"></div>            <script type=\"text/javascript\">                require([\"plotly\"], function(Plotly) {                    window.PLOTLYENV=window.PLOTLYENV || {};                                    if (document.getElementById(\"def8cd04-cf7f-4f3f-bd42-40c276938502\")) {                    Plotly.newPlot(                        \"def8cd04-cf7f-4f3f-bd42-40c276938502\",                        [{\"hovertemplate\":\"<b>%{hovertext}</b><br><br>Entity=%{y}<br>Year=%{x}<br>Death=%{marker.size}<extra></extra>\",\"hovertext\":[\"Drought\",\"Drought\",\"Drought\",\"Drought\",\"Drought\",\"Drought\",\"Drought\",\"Drought\",\"Drought\",\"Drought\",\"Drought\",\"Drought\",\"Drought\",\"Drought\",\"Drought\",\"Drought\",\"Drought\",\"Drought\",\"Drought\",\"Drought\",\"Drought\",\"Drought\",\"Drought\",\"Drought\",\"Drought\",\"Drought\",\"Drought\",\"Drought\",\"Drought\",\"Drought\",\"Drought\",\"Drought\",\"Drought\",\"Drought\",\"Drought\",\"Drought\",\"Drought\",\"Drought\",\"Drought\",\"Drought\",\"Drought\",\"Drought\"],\"legendgroup\":\"Drought\",\"marker\":{\"color\":\"#636efa\",\"size\":[1261000,85000,524000,1200000,3000000,20000,1500000,1900000,30000,50,1502000,8000,600,100000,19000,63,18,103000,280,450520,230,84,1317,1600,237,2000,732,20,361,80,99,588,9,80,149,134,8,20000,35,0,0,77],\"sizemode\":\"area\",\"sizeref\":1480.0,\"symbol\":\"circle\"},\"mode\":\"markers\",\"name\":\"Drought\",\"orientation\":\"h\",\"showlegend\":true,\"type\":\"scatter\",\"x\":[1900,1910,1920,1921,1928,1940,1942,1943,1946,1964,1965,1966,1967,1973,1974,1978,1979,1981,1982,1983,1984,1986,1987,1988,1989,1991,1997,1998,1999,2000,2001,2002,2003,2004,2005,2006,2008,2010,2015,2017,2018,2019],\"xaxis\":\"x\",\"y\":[\"Drought\",\"Drought\",\"Drought\",\"Drought\",\"Drought\",\"Drought\",\"Drought\",\"Drought\",\"Drought\",\"Drought\",\"Drought\",\"Drought\",\"Drought\",\"Drought\",\"Drought\",\"Drought\",\"Drought\",\"Drought\",\"Drought\",\"Drought\",\"Drought\",\"Drought\",\"Drought\",\"Drought\",\"Drought\",\"Drought\",\"Drought\",\"Drought\",\"Drought\",\"Drought\",\"Drought\",\"Drought\",\"Drought\",\"Drought\",\"Drought\",\"Drought\",\"Drought\",\"Drought\",\"Drought\",\"Drought\",\"Drought\",\"Drought\"],\"yaxis\":\"y\"},{\"hovertemplate\":\"<b>%{hovertext}</b><br><br>Entity=%{y}<br>Year=%{x}<br>Death=%{marker.size}<extra></extra>\",\"hovertext\":[\"Earthquake\",\"Earthquake\",\"Earthquake\",\"Earthquake\",\"Earthquake\",\"Earthquake\",\"Earthquake\",\"Earthquake\",\"Earthquake\",\"Earthquake\",\"Earthquake\",\"Earthquake\",\"Earthquake\",\"Earthquake\",\"Earthquake\",\"Earthquake\",\"Earthquake\",\"Earthquake\",\"Earthquake\",\"Earthquake\",\"Earthquake\",\"Earthquake\",\"Earthquake\",\"Earthquake\",\"Earthquake\",\"Earthquake\",\"Earthquake\",\"Earthquake\",\"Earthquake\",\"Earthquake\",\"Earthquake\",\"Earthquake\",\"Earthquake\",\"Earthquake\",\"Earthquake\",\"Earthquake\",\"Earthquake\",\"Earthquake\",\"Earthquake\",\"Earthquake\",\"Earthquake\",\"Earthquake\",\"Earthquake\",\"Earthquake\",\"Earthquake\",\"Earthquake\",\"Earthquake\",\"Earthquake\",\"Earthquake\",\"Earthquake\",\"Earthquake\",\"Earthquake\",\"Earthquake\",\"Earthquake\",\"Earthquake\",\"Earthquake\",\"Earthquake\",\"Earthquake\",\"Earthquake\",\"Earthquake\",\"Earthquake\",\"Earthquake\",\"Earthquake\",\"Earthquake\",\"Earthquake\",\"Earthquake\",\"Earthquake\",\"Earthquake\",\"Earthquake\",\"Earthquake\",\"Earthquake\",\"Earthquake\",\"Earthquake\",\"Earthquake\",\"Earthquake\",\"Earthquake\",\"Earthquake\",\"Earthquake\",\"Earthquake\",\"Earthquake\",\"Earthquake\",\"Earthquake\",\"Earthquake\",\"Earthquake\",\"Earthquake\",\"Earthquake\",\"Earthquake\",\"Earthquake\",\"Earthquake\",\"Earthquake\",\"Earthquake\",\"Earthquake\",\"Earthquake\",\"Earthquake\",\"Earthquake\",\"Earthquake\",\"Earthquake\",\"Earthquake\",\"Earthquake\",\"Earthquake\",\"Earthquake\",\"Earthquake\",\"Earthquake\",\"Earthquake\",\"Earthquake\",\"Earthquake\",\"Earthquake\",\"Earthquake\",\"Earthquake\",\"Earthquake\",\"Earthquake\",\"Earthquake\",\"Earthquake\"],\"legendgroup\":\"Earthquake\",\"marker\":{\"color\":\"#EF553B\",\"size\":[18,6747,6000,22500,31966,25641,75000,5146,1762,923,150,149,29986,19450,10379,180000,1100,152362,767,5013,12,206142,635,3317,5081,1537,70006,16180,15496,66110,26,166,63094,1275,189,7235,4332,14984,5961,5153,633,115618,6486,1833,1554,2432,2717,3344,959,763,6993,227,103,19395,60,12209,1700,335,683,2752,1013,10858,3353,78599,1107,15170,552,24808,12632,276994,3098,25162,2100,7730,4206,2120,2148,57,9853,1181,5160,27049,650,42853,2454,4033,10088,1242,7739,576,3159,9573,21869,217,21348,1639,29617,227290,76241,6692,780,87918,1893,226733,20946,711,1120,774,9550,1311,861,4321,259],\"sizemode\":\"area\",\"sizeref\":1480.0,\"symbol\":\"circle\"},\"mode\":\"markers\",\"name\":\"Earthquake\",\"orientation\":\"h\",\"showlegend\":true,\"type\":\"scatter\",\"x\":[1901,1902,1903,1905,1906,1907,1908,1909,1910,1912,1913,1914,1915,1917,1918,1920,1922,1923,1924,1925,1926,1927,1928,1929,1930,1931,1932,1933,1934,1935,1936,1938,1939,1940,1941,1942,1943,1944,1945,1946,1947,1948,1949,1950,1951,1952,1953,1954,1955,1956,1957,1958,1959,1960,1961,1962,1963,1964,1965,1966,1967,1968,1969,1970,1971,1972,1973,1974,1975,1976,1977,1978,1979,1980,1981,1982,1983,1984,1985,1986,1987,1988,1989,1990,1991,1992,1993,1994,1995,1996,1997,1998,1999,2000,2001,2002,2003,2004,2005,2006,2007,2008,2009,2010,2011,2012,2013,2014,2015,2016,2017,2018,2019],\"xaxis\":\"x\",\"y\":[\"Earthquake\",\"Earthquake\",\"Earthquake\",\"Earthquake\",\"Earthquake\",\"Earthquake\",\"Earthquake\",\"Earthquake\",\"Earthquake\",\"Earthquake\",\"Earthquake\",\"Earthquake\",\"Earthquake\",\"Earthquake\",\"Earthquake\",\"Earthquake\",\"Earthquake\",\"Earthquake\",\"Earthquake\",\"Earthquake\",\"Earthquake\",\"Earthquake\",\"Earthquake\",\"Earthquake\",\"Earthquake\",\"Earthquake\",\"Earthquake\",\"Earthquake\",\"Earthquake\",\"Earthquake\",\"Earthquake\",\"Earthquake\",\"Earthquake\",\"Earthquake\",\"Earthquake\",\"Earthquake\",\"Earthquake\",\"Earthquake\",\"Earthquake\",\"Earthquake\",\"Earthquake\",\"Earthquake\",\"Earthquake\",\"Earthquake\",\"Earthquake\",\"Earthquake\",\"Earthquake\",\"Earthquake\",\"Earthquake\",\"Earthquake\",\"Earthquake\",\"Earthquake\",\"Earthquake\",\"Earthquake\",\"Earthquake\",\"Earthquake\",\"Earthquake\",\"Earthquake\",\"Earthquake\",\"Earthquake\",\"Earthquake\",\"Earthquake\",\"Earthquake\",\"Earthquake\",\"Earthquake\",\"Earthquake\",\"Earthquake\",\"Earthquake\",\"Earthquake\",\"Earthquake\",\"Earthquake\",\"Earthquake\",\"Earthquake\",\"Earthquake\",\"Earthquake\",\"Earthquake\",\"Earthquake\",\"Earthquake\",\"Earthquake\",\"Earthquake\",\"Earthquake\",\"Earthquake\",\"Earthquake\",\"Earthquake\",\"Earthquake\",\"Earthquake\",\"Earthquake\",\"Earthquake\",\"Earthquake\",\"Earthquake\",\"Earthquake\",\"Earthquake\",\"Earthquake\",\"Earthquake\",\"Earthquake\",\"Earthquake\",\"Earthquake\",\"Earthquake\",\"Earthquake\",\"Earthquake\",\"Earthquake\",\"Earthquake\",\"Earthquake\",\"Earthquake\",\"Earthquake\",\"Earthquake\",\"Earthquake\",\"Earthquake\",\"Earthquake\",\"Earthquake\",\"Earthquake\",\"Earthquake\",\"Earthquake\"],\"yaxis\":\"y\"},{\"hovertemplate\":\"<b>%{hovertext}</b><br><br>Entity=%{y}<br>Year=%{x}<br>Death=%{marker.size}<extra></extra>\",\"hovertext\":[\"Extreme temperature\",\"Extreme temperature\",\"Extreme temperature\",\"Extreme temperature\",\"Extreme temperature\",\"Extreme temperature\",\"Extreme temperature\",\"Extreme temperature\",\"Extreme temperature\",\"Extreme temperature\",\"Extreme temperature\",\"Extreme temperature\",\"Extreme temperature\",\"Extreme temperature\",\"Extreme temperature\",\"Extreme temperature\",\"Extreme temperature\",\"Extreme temperature\",\"Extreme temperature\",\"Extreme temperature\",\"Extreme temperature\",\"Extreme temperature\",\"Extreme temperature\",\"Extreme temperature\",\"Extreme temperature\",\"Extreme temperature\",\"Extreme temperature\",\"Extreme temperature\",\"Extreme temperature\",\"Extreme temperature\",\"Extreme temperature\",\"Extreme temperature\",\"Extreme temperature\",\"Extreme temperature\",\"Extreme temperature\",\"Extreme temperature\",\"Extreme temperature\",\"Extreme temperature\",\"Extreme temperature\",\"Extreme temperature\",\"Extreme temperature\",\"Extreme temperature\",\"Extreme temperature\",\"Extreme temperature\",\"Extreme temperature\",\"Extreme temperature\",\"Extreme temperature\",\"Extreme temperature\",\"Extreme temperature\",\"Extreme temperature\",\"Extreme temperature\",\"Extreme temperature\",\"Extreme temperature\",\"Extreme temperature\",\"Extreme temperature\",\"Extreme temperature\",\"Extreme temperature\"],\"legendgroup\":\"Extreme temperature\",\"marker\":{\"color\":\"#00cc96\",\"size\":[1693,69,669,107,651,400,50,162,100,262,153,400,110,283,140,150,470,1389,300,400,205,290,456,50,1220,644,381,979,835,388,106,341,1730,300,604,3269,771,941,1787,3369,74698,255,1550,4826,1086,1688,1386,57188,435,1834,1821,1168,7425,490,133,536,2908],\"sizemode\":\"area\",\"sizeref\":1480.0,\"symbol\":\"circle\"},\"mode\":\"markers\",\"name\":\"Extreme temperature\",\"orientation\":\"h\",\"showlegend\":true,\"type\":\"scatter\",\"x\":[1936,1951,1953,1955,1958,1961,1962,1963,1965,1966,1968,1971,1972,1973,1975,1978,1979,1980,1981,1982,1983,1984,1985,1986,1987,1988,1989,1990,1991,1992,1993,1994,1995,1996,1997,1998,1999,2000,2001,2002,2003,2004,2005,2006,2007,2008,2009,2010,2011,2012,2013,2014,2015,2016,2017,2018,2019],\"xaxis\":\"x\",\"y\":[\"Extreme temperature\",\"Extreme temperature\",\"Extreme temperature\",\"Extreme temperature\",\"Extreme temperature\",\"Extreme temperature\",\"Extreme temperature\",\"Extreme temperature\",\"Extreme temperature\",\"Extreme temperature\",\"Extreme temperature\",\"Extreme temperature\",\"Extreme temperature\",\"Extreme temperature\",\"Extreme temperature\",\"Extreme temperature\",\"Extreme temperature\",\"Extreme temperature\",\"Extreme temperature\",\"Extreme temperature\",\"Extreme temperature\",\"Extreme temperature\",\"Extreme temperature\",\"Extreme temperature\",\"Extreme temperature\",\"Extreme temperature\",\"Extreme temperature\",\"Extreme temperature\",\"Extreme temperature\",\"Extreme temperature\",\"Extreme temperature\",\"Extreme temperature\",\"Extreme temperature\",\"Extreme temperature\",\"Extreme temperature\",\"Extreme temperature\",\"Extreme temperature\",\"Extreme temperature\",\"Extreme temperature\",\"Extreme temperature\",\"Extreme temperature\",\"Extreme temperature\",\"Extreme temperature\",\"Extreme temperature\",\"Extreme temperature\",\"Extreme temperature\",\"Extreme temperature\",\"Extreme temperature\",\"Extreme temperature\",\"Extreme temperature\",\"Extreme temperature\",\"Extreme temperature\",\"Extreme temperature\",\"Extreme temperature\",\"Extreme temperature\",\"Extreme temperature\",\"Extreme temperature\"],\"yaxis\":\"y\"},{\"hovertemplate\":\"<b>%{hovertext}</b><br><br>Entity=%{y}<br>Year=%{x}<br>Death=%{marker.size}<extra></extra>\",\"hovertext\":[\"Extreme weather\",\"Extreme weather\",\"Extreme weather\",\"Extreme weather\",\"Extreme weather\",\"Extreme weather\",\"Extreme weather\",\"Extreme weather\",\"Extreme weather\",\"Extreme weather\",\"Extreme weather\",\"Extreme weather\",\"Extreme weather\",\"Extreme weather\",\"Extreme weather\",\"Extreme weather\",\"Extreme weather\",\"Extreme weather\",\"Extreme weather\",\"Extreme weather\",\"Extreme weather\",\"Extreme weather\",\"Extreme weather\",\"Extreme weather\",\"Extreme weather\",\"Extreme weather\",\"Extreme weather\",\"Extreme weather\",\"Extreme weather\",\"Extreme weather\",\"Extreme weather\",\"Extreme weather\",\"Extreme weather\",\"Extreme weather\",\"Extreme weather\",\"Extreme weather\",\"Extreme weather\",\"Extreme weather\",\"Extreme weather\",\"Extreme weather\",\"Extreme weather\",\"Extreme weather\",\"Extreme weather\",\"Extreme weather\",\"Extreme weather\",\"Extreme weather\",\"Extreme weather\",\"Extreme weather\",\"Extreme weather\",\"Extreme weather\",\"Extreme weather\",\"Extreme weather\",\"Extreme weather\",\"Extreme weather\",\"Extreme weather\",\"Extreme weather\",\"Extreme weather\",\"Extreme weather\",\"Extreme weather\",\"Extreme weather\",\"Extreme weather\",\"Extreme weather\",\"Extreme weather\",\"Extreme weather\",\"Extreme weather\",\"Extreme weather\",\"Extreme weather\",\"Extreme weather\",\"Extreme weather\",\"Extreme weather\",\"Extreme weather\",\"Extreme weather\",\"Extreme weather\",\"Extreme weather\",\"Extreme weather\",\"Extreme weather\",\"Extreme weather\",\"Extreme weather\",\"Extreme weather\",\"Extreme weather\",\"Extreme weather\",\"Extreme weather\",\"Extreme weather\",\"Extreme weather\",\"Extreme weather\",\"Extreme weather\",\"Extreme weather\",\"Extreme weather\",\"Extreme weather\",\"Extreme weather\",\"Extreme weather\",\"Extreme weather\",\"Extreme weather\",\"Extreme weather\",\"Extreme weather\",\"Extreme weather\",\"Extreme weather\",\"Extreme weather\",\"Extreme weather\",\"Extreme weather\",\"Extreme weather\",\"Extreme weather\",\"Extreme weather\",\"Extreme weather\",\"Extreme weather\",\"Extreme weather\",\"Extreme weather\",\"Extreme weather\",\"Extreme weather\",\"Extreme weather\",\"Extreme weather\",\"Extreme weather\",\"Extreme weather\"],\"legendgroup\":\"Extreme weather\",\"marker\":{\"color\":\"#ab63fa\",\"size\":[6000,600,163,240,10298,713,30,1000,51170,732,2125,300,4057,34,500,224,100000,3139,2242,819,3568,5772,4224,4082,3200,3244,63,5091,62707,3309,11231,905,3,123,5006,101000,5000,726,4415,337,4738,2971,2804,873,2861,6277,1814,2969,3895,3114,1139,2620,9695,9164,12852,1860,29965,10655,59932,2327,2255,1669,3252,304495,10811,1427,4344,11861,1041,1763,15298,3676,2623,1379,3790,2782,3656,5468,17165,1939,2900,3335,4256,4604,146297,1342,2965,4239,3763,4581,6150,24935,12270,1354,1911,1382,1049,6547,5251,4329,6035,140985,3287,1564,3103,3105,8603,1424,1270,1760,1014,1666,2519],\"sizemode\":\"area\",\"sizeref\":1480.0,\"symbol\":\"circle\"},\"mode\":\"markers\",\"name\":\"Extreme weather\",\"orientation\":\"h\",\"showlegend\":true,\"type\":\"scatter\",\"x\":[1900,1902,1903,1905,1906,1909,1910,1911,1912,1913,1915,1916,1917,1918,1919,1920,1922,1923,1924,1925,1926,1927,1928,1930,1931,1932,1933,1934,1935,1936,1937,1938,1939,1940,1941,1942,1943,1944,1945,1946,1947,1948,1949,1950,1951,1952,1953,1954,1955,1956,1957,1958,1959,1960,1961,1962,1963,1964,1965,1966,1967,1968,1969,1970,1971,1972,1973,1974,1975,1976,1977,1978,1979,1980,1981,1982,1983,1984,1985,1986,1987,1988,1989,1990,1991,1992,1993,1994,1995,1996,1997,1998,1999,2000,2001,2002,2003,2004,2005,2006,2007,2008,2009,2010,2011,2012,2013,2014,2015,2016,2017,2018,2019],\"xaxis\":\"x\",\"y\":[\"Extreme weather\",\"Extreme weather\",\"Extreme weather\",\"Extreme weather\",\"Extreme weather\",\"Extreme weather\",\"Extreme weather\",\"Extreme weather\",\"Extreme weather\",\"Extreme weather\",\"Extreme weather\",\"Extreme weather\",\"Extreme weather\",\"Extreme weather\",\"Extreme weather\",\"Extreme weather\",\"Extreme weather\",\"Extreme weather\",\"Extreme weather\",\"Extreme weather\",\"Extreme weather\",\"Extreme weather\",\"Extreme weather\",\"Extreme weather\",\"Extreme weather\",\"Extreme weather\",\"Extreme weather\",\"Extreme weather\",\"Extreme weather\",\"Extreme weather\",\"Extreme weather\",\"Extreme weather\",\"Extreme weather\",\"Extreme weather\",\"Extreme weather\",\"Extreme weather\",\"Extreme weather\",\"Extreme weather\",\"Extreme weather\",\"Extreme weather\",\"Extreme weather\",\"Extreme weather\",\"Extreme weather\",\"Extreme weather\",\"Extreme weather\",\"Extreme weather\",\"Extreme weather\",\"Extreme weather\",\"Extreme weather\",\"Extreme weather\",\"Extreme weather\",\"Extreme weather\",\"Extreme weather\",\"Extreme weather\",\"Extreme weather\",\"Extreme weather\",\"Extreme weather\",\"Extreme weather\",\"Extreme weather\",\"Extreme weather\",\"Extreme weather\",\"Extreme weather\",\"Extreme weather\",\"Extreme weather\",\"Extreme weather\",\"Extreme weather\",\"Extreme weather\",\"Extreme weather\",\"Extreme weather\",\"Extreme weather\",\"Extreme weather\",\"Extreme weather\",\"Extreme weather\",\"Extreme weather\",\"Extreme weather\",\"Extreme weather\",\"Extreme weather\",\"Extreme weather\",\"Extreme weather\",\"Extreme weather\",\"Extreme weather\",\"Extreme weather\",\"Extreme weather\",\"Extreme weather\",\"Extreme weather\",\"Extreme weather\",\"Extreme weather\",\"Extreme weather\",\"Extreme weather\",\"Extreme weather\",\"Extreme weather\",\"Extreme weather\",\"Extreme weather\",\"Extreme weather\",\"Extreme weather\",\"Extreme weather\",\"Extreme weather\",\"Extreme weather\",\"Extreme weather\",\"Extreme weather\",\"Extreme weather\",\"Extreme weather\",\"Extreme weather\",\"Extreme weather\",\"Extreme weather\",\"Extreme weather\",\"Extreme weather\",\"Extreme weather\",\"Extreme weather\",\"Extreme weather\",\"Extreme weather\",\"Extreme weather\",\"Extreme weather\"],\"yaxis\":\"y\"},{\"hovertemplate\":\"<b>%{hovertext}</b><br><br>Entity=%{y}<br>Year=%{x}<br>Death=%{marker.size}<extra></extra>\",\"hovertext\":[\"Flood\",\"Flood\",\"Flood\",\"Flood\",\"Flood\",\"Flood\",\"Flood\",\"Flood\",\"Flood\",\"Flood\",\"Flood\",\"Flood\",\"Flood\",\"Flood\",\"Flood\",\"Flood\",\"Flood\",\"Flood\",\"Flood\",\"Flood\",\"Flood\",\"Flood\",\"Flood\",\"Flood\",\"Flood\",\"Flood\",\"Flood\",\"Flood\",\"Flood\",\"Flood\",\"Flood\",\"Flood\",\"Flood\",\"Flood\",\"Flood\",\"Flood\",\"Flood\",\"Flood\",\"Flood\",\"Flood\",\"Flood\",\"Flood\",\"Flood\",\"Flood\",\"Flood\",\"Flood\",\"Flood\",\"Flood\",\"Flood\",\"Flood\",\"Flood\",\"Flood\",\"Flood\",\"Flood\",\"Flood\",\"Flood\",\"Flood\",\"Flood\",\"Flood\",\"Flood\",\"Flood\",\"Flood\",\"Flood\",\"Flood\",\"Flood\",\"Flood\",\"Flood\",\"Flood\",\"Flood\",\"Flood\",\"Flood\",\"Flood\",\"Flood\",\"Flood\",\"Flood\",\"Flood\",\"Flood\",\"Flood\",\"Flood\",\"Flood\",\"Flood\",\"Flood\",\"Flood\",\"Flood\",\"Flood\",\"Flood\",\"Flood\",\"Flood\",\"Flood\",\"Flood\",\"Flood\"],\"legendgroup\":\"Flood\",\"marker\":{\"color\":\"#FFA15A\",\"size\":[300,250,6,72,1379,100000,1000,3246,36,3700000,18053,142000,200,248,954,500010,125,990,2000,917,97000,3808,5666,199,7125,34436,584,3613,2471,400,2003396,10577,3863,1180,1031,1123,1401,1923,2446,7306,1544,3246,2404,2548,1835,29431,848,960,2568,5897,1038,10466,5283,4648,2082,2930,4376,1782,6766,8504,4716,2251,5852,5315,6150,6771,7956,8047,7685,10653,34807,6025,5014,4236,3910,6982,5754,5843,8607,4007,3627,8356,6163,3544,9836,3532,3495,4720,3086,2869,5100],\"sizemode\":\"area\",\"sizeref\":1480.0,\"symbol\":\"circle\"},\"mode\":\"markers\",\"name\":\"Flood\",\"orientation\":\"h\",\"showlegend\":true,\"type\":\"scatter\",\"x\":[1900,1903,1906,1909,1910,1911,1926,1927,1928,1931,1933,1935,1936,1937,1938,1939,1940,1943,1947,1948,1949,1950,1951,1952,1953,1954,1955,1956,1957,1958,1959,1960,1961,1962,1963,1964,1965,1966,1967,1968,1969,1970,1971,1972,1973,1974,1975,1976,1977,1978,1979,1980,1981,1982,1983,1984,1985,1986,1987,1988,1989,1990,1991,1992,1993,1994,1995,1996,1997,1998,1999,2000,2001,2002,2003,2004,2005,2006,2007,2008,2009,2010,2011,2012,2013,2014,2015,2016,2017,2018,2019],\"xaxis\":\"x\",\"y\":[\"Flood\",\"Flood\",\"Flood\",\"Flood\",\"Flood\",\"Flood\",\"Flood\",\"Flood\",\"Flood\",\"Flood\",\"Flood\",\"Flood\",\"Flood\",\"Flood\",\"Flood\",\"Flood\",\"Flood\",\"Flood\",\"Flood\",\"Flood\",\"Flood\",\"Flood\",\"Flood\",\"Flood\",\"Flood\",\"Flood\",\"Flood\",\"Flood\",\"Flood\",\"Flood\",\"Flood\",\"Flood\",\"Flood\",\"Flood\",\"Flood\",\"Flood\",\"Flood\",\"Flood\",\"Flood\",\"Flood\",\"Flood\",\"Flood\",\"Flood\",\"Flood\",\"Flood\",\"Flood\",\"Flood\",\"Flood\",\"Flood\",\"Flood\",\"Flood\",\"Flood\",\"Flood\",\"Flood\",\"Flood\",\"Flood\",\"Flood\",\"Flood\",\"Flood\",\"Flood\",\"Flood\",\"Flood\",\"Flood\",\"Flood\",\"Flood\",\"Flood\",\"Flood\",\"Flood\",\"Flood\",\"Flood\",\"Flood\",\"Flood\",\"Flood\",\"Flood\",\"Flood\",\"Flood\",\"Flood\",\"Flood\",\"Flood\",\"Flood\",\"Flood\",\"Flood\",\"Flood\",\"Flood\",\"Flood\",\"Flood\",\"Flood\",\"Flood\",\"Flood\",\"Flood\",\"Flood\"],\"yaxis\":\"y\"},{\"hovertemplate\":\"<b>%{hovertext}</b><br><br>Entity=%{y}<br>Year=%{x}<br>Death=%{marker.size}<extra></extra>\",\"hovertext\":[\"Landslide\",\"Landslide\",\"Landslide\",\"Landslide\",\"Landslide\",\"Landslide\",\"Landslide\",\"Landslide\",\"Landslide\",\"Landslide\",\"Landslide\",\"Landslide\",\"Landslide\",\"Landslide\",\"Landslide\",\"Landslide\",\"Landslide\",\"Landslide\",\"Landslide\",\"Landslide\",\"Landslide\",\"Landslide\",\"Landslide\",\"Landslide\",\"Landslide\",\"Landslide\",\"Landslide\",\"Landslide\",\"Landslide\",\"Landslide\",\"Landslide\",\"Landslide\",\"Landslide\",\"Landslide\",\"Landslide\",\"Landslide\",\"Landslide\",\"Landslide\",\"Landslide\",\"Landslide\",\"Landslide\",\"Landslide\",\"Landslide\",\"Landslide\",\"Landslide\",\"Landslide\",\"Landslide\",\"Landslide\",\"Landslide\",\"Landslide\",\"Landslide\",\"Landslide\",\"Landslide\",\"Landslide\",\"Landslide\",\"Landslide\",\"Landslide\",\"Landslide\",\"Landslide\",\"Landslide\",\"Landslide\",\"Landslide\",\"Landslide\",\"Landslide\",\"Landslide\",\"Landslide\",\"Landslide\",\"Landslide\",\"Landslide\",\"Landslide\",\"Landslide\",\"Landslide\",\"Landslide\",\"Landslide\",\"Landslide\",\"Landslide\",\"Landslide\",\"Landslide\",\"Landslide\",\"Landslide\",\"Landslide\"],\"legendgroup\":\"Landslide\",\"marker\":{\"color\":\"#19d3f3\",\"size\":[53,100,200,128,40,190,30,500,73,200,5000,525,12000,130,92,28,1086,478,236,52,48,52,166,71,2033,108,204,604,590,1196,18,186,1020,755,3541,904,195,315,40,86,338,300,421,640,1159,228,377,501,1204,952,445,98,728,712,1418,307,1521,1155,801,1141,445,1012,786,1100,706,313,664,1638,271,504,723,3427,309,501,235,943,1006,361,2080,275,719],\"sizemode\":\"area\",\"sizeref\":1480.0,\"symbol\":\"circle\"},\"mode\":\"markers\",\"name\":\"Landslide\",\"orientation\":\"h\",\"showlegend\":true,\"type\":\"scatter\",\"x\":[1909,1922,1923,1926,1930,1931,1932,1934,1936,1938,1941,1948,1949,1950,1951,1952,1954,1955,1956,1958,1959,1960,1961,1962,1963,1964,1965,1966,1967,1968,1969,1970,1971,1972,1973,1974,1975,1976,1977,1978,1979,1980,1981,1982,1983,1984,1985,1986,1987,1988,1989,1990,1991,1992,1993,1994,1995,1996,1997,1998,1999,2000,2001,2002,2003,2004,2005,2006,2007,2008,2009,2010,2011,2012,2013,2014,2015,2016,2017,2018,2019],\"xaxis\":\"x\",\"y\":[\"Landslide\",\"Landslide\",\"Landslide\",\"Landslide\",\"Landslide\",\"Landslide\",\"Landslide\",\"Landslide\",\"Landslide\",\"Landslide\",\"Landslide\",\"Landslide\",\"Landslide\",\"Landslide\",\"Landslide\",\"Landslide\",\"Landslide\",\"Landslide\",\"Landslide\",\"Landslide\",\"Landslide\",\"Landslide\",\"Landslide\",\"Landslide\",\"Landslide\",\"Landslide\",\"Landslide\",\"Landslide\",\"Landslide\",\"Landslide\",\"Landslide\",\"Landslide\",\"Landslide\",\"Landslide\",\"Landslide\",\"Landslide\",\"Landslide\",\"Landslide\",\"Landslide\",\"Landslide\",\"Landslide\",\"Landslide\",\"Landslide\",\"Landslide\",\"Landslide\",\"Landslide\",\"Landslide\",\"Landslide\",\"Landslide\",\"Landslide\",\"Landslide\",\"Landslide\",\"Landslide\",\"Landslide\",\"Landslide\",\"Landslide\",\"Landslide\",\"Landslide\",\"Landslide\",\"Landslide\",\"Landslide\",\"Landslide\",\"Landslide\",\"Landslide\",\"Landslide\",\"Landslide\",\"Landslide\",\"Landslide\",\"Landslide\",\"Landslide\",\"Landslide\",\"Landslide\",\"Landslide\",\"Landslide\",\"Landslide\",\"Landslide\",\"Landslide\",\"Landslide\",\"Landslide\",\"Landslide\",\"Landslide\"],\"yaxis\":\"y\"},{\"hovertemplate\":\"<b>%{hovertext}</b><br><br>Entity=%{y}<br>Year=%{x}<br>Death=%{marker.size}<extra></extra>\",\"hovertext\":[\"Mass movement (dry)\",\"Mass movement (dry)\",\"Mass movement (dry)\",\"Mass movement (dry)\",\"Mass movement (dry)\",\"Mass movement (dry)\",\"Mass movement (dry)\",\"Mass movement (dry)\",\"Mass movement (dry)\",\"Mass movement (dry)\",\"Mass movement (dry)\",\"Mass movement (dry)\",\"Mass movement (dry)\",\"Mass movement (dry)\",\"Mass movement (dry)\",\"Mass movement (dry)\",\"Mass movement (dry)\",\"Mass movement (dry)\",\"Mass movement (dry)\",\"Mass movement (dry)\",\"Mass movement (dry)\",\"Mass movement (dry)\",\"Mass movement (dry)\",\"Mass movement (dry)\",\"Mass movement (dry)\",\"Mass movement (dry)\",\"Mass movement (dry)\",\"Mass movement (dry)\",\"Mass movement (dry)\",\"Mass movement (dry)\",\"Mass movement (dry)\",\"Mass movement (dry)\",\"Mass movement (dry)\"],\"legendgroup\":\"Mass movement (dry)\",\"marker\":{\"color\":\"#FF6692\",\"size\":[76,18,33,62,56,40,3,2000,150,26,42,31,50,59,466,300,183,157,55,116,86,323,341,11,60,44,11,120,36,16,46,13,17],\"sizemode\":\"area\",\"sizeref\":1480.0,\"symbol\":\"circle\"},\"mode\":\"markers\",\"name\":\"Mass movement (dry)\",\"orientation\":\"h\",\"showlegend\":true,\"type\":\"scatter\",\"x\":[1903,1905,1908,1910,1915,1937,1955,1962,1963,1965,1970,1971,1980,1982,1983,1985,1987,1988,1989,1990,1991,1992,1993,2000,2002,2004,2006,2008,2009,2012,2013,2015,2018],\"xaxis\":\"x\",\"y\":[\"Mass movement (dry)\",\"Mass movement (dry)\",\"Mass movement (dry)\",\"Mass movement (dry)\",\"Mass movement (dry)\",\"Mass movement (dry)\",\"Mass movement (dry)\",\"Mass movement (dry)\",\"Mass movement (dry)\",\"Mass movement (dry)\",\"Mass movement (dry)\",\"Mass movement (dry)\",\"Mass movement (dry)\",\"Mass movement (dry)\",\"Mass movement (dry)\",\"Mass movement (dry)\",\"Mass movement (dry)\",\"Mass movement (dry)\",\"Mass movement (dry)\",\"Mass movement (dry)\",\"Mass movement (dry)\",\"Mass movement (dry)\",\"Mass movement (dry)\",\"Mass movement (dry)\",\"Mass movement (dry)\",\"Mass movement (dry)\",\"Mass movement (dry)\",\"Mass movement (dry)\",\"Mass movement (dry)\",\"Mass movement (dry)\",\"Mass movement (dry)\",\"Mass movement (dry)\",\"Mass movement (dry)\"],\"yaxis\":\"y\"},{\"hovertemplate\":\"<b>%{hovertext}</b><br><br>Entity=%{y}<br>Year=%{x}<br>Death=%{marker.size}<extra></extra>\",\"hovertext\":[\"Volcanic activity\",\"Volcanic activity\",\"Volcanic activity\",\"Volcanic activity\",\"Volcanic activity\",\"Volcanic activity\",\"Volcanic activity\",\"Volcanic activity\",\"Volcanic activity\",\"Volcanic activity\",\"Volcanic activity\",\"Volcanic activity\",\"Volcanic activity\",\"Volcanic activity\",\"Volcanic activity\",\"Volcanic activity\",\"Volcanic activity\",\"Volcanic activity\",\"Volcanic activity\",\"Volcanic activity\",\"Volcanic activity\",\"Volcanic activity\",\"Volcanic activity\",\"Volcanic activity\",\"Volcanic activity\",\"Volcanic activity\",\"Volcanic activity\",\"Volcanic activity\",\"Volcanic activity\",\"Volcanic activity\",\"Volcanic activity\",\"Volcanic activity\",\"Volcanic activity\",\"Volcanic activity\",\"Volcanic activity\",\"Volcanic activity\",\"Volcanic activity\",\"Volcanic activity\",\"Volcanic activity\",\"Volcanic activity\",\"Volcanic activity\",\"Volcanic activity\",\"Volcanic activity\",\"Volcanic activity\",\"Volcanic activity\",\"Volcanic activity\",\"Volcanic activity\",\"Volcanic activity\",\"Volcanic activity\",\"Volcanic activity\",\"Volcanic activity\",\"Volcanic activity\",\"Volcanic activity\",\"Volcanic activity\",\"Volcanic activity\",\"Volcanic activity\"],\"legendgroup\":\"Volcanic activity\",\"marker\":{\"color\":\"#B6E880\",\"size\":[30,38690,17,700,5500,1335,140,5000,144,5000,1369,1300,506,26,100,2000,84,4800,29,150,37,1705,4,355,1088,90,2,41,215,268,90,192,130,37,21800,1746,7,33,683,1,99,101,4,53,200,2,3,5,11,16,323,3,102,0,878,21],\"sizemode\":\"area\",\"sizeref\":1480.0,\"symbol\":\"circle\"},\"mode\":\"markers\",\"name\":\"Volcanic activity\",\"orientation\":\"h\",\"showlegend\":true,\"type\":\"scatter\",\"x\":[1900,1902,1903,1906,1909,1911,1914,1919,1926,1929,1930,1931,1937,1944,1948,1949,1950,1951,1952,1953,1954,1963,1964,1965,1966,1968,1975,1976,1977,1979,1980,1981,1982,1984,1985,1986,1988,1990,1991,1992,1993,1994,1996,1997,2002,2004,2005,2006,2007,2008,2010,2011,2014,2017,2018,2019],\"xaxis\":\"x\",\"y\":[\"Volcanic activity\",\"Volcanic activity\",\"Volcanic activity\",\"Volcanic activity\",\"Volcanic activity\",\"Volcanic activity\",\"Volcanic activity\",\"Volcanic activity\",\"Volcanic activity\",\"Volcanic activity\",\"Volcanic activity\",\"Volcanic activity\",\"Volcanic activity\",\"Volcanic activity\",\"Volcanic activity\",\"Volcanic activity\",\"Volcanic activity\",\"Volcanic activity\",\"Volcanic activity\",\"Volcanic activity\",\"Volcanic activity\",\"Volcanic activity\",\"Volcanic activity\",\"Volcanic activity\",\"Volcanic activity\",\"Volcanic activity\",\"Volcanic activity\",\"Volcanic activity\",\"Volcanic activity\",\"Volcanic activity\",\"Volcanic activity\",\"Volcanic activity\",\"Volcanic activity\",\"Volcanic activity\",\"Volcanic activity\",\"Volcanic activity\",\"Volcanic activity\",\"Volcanic activity\",\"Volcanic activity\",\"Volcanic activity\",\"Volcanic activity\",\"Volcanic activity\",\"Volcanic activity\",\"Volcanic activity\",\"Volcanic activity\",\"Volcanic activity\",\"Volcanic activity\",\"Volcanic activity\",\"Volcanic activity\",\"Volcanic activity\",\"Volcanic activity\",\"Volcanic activity\",\"Volcanic activity\",\"Volcanic activity\",\"Volcanic activity\",\"Volcanic activity\"],\"yaxis\":\"y\"},{\"hovertemplate\":\"<b>%{hovertext}</b><br><br>Entity=%{y}<br>Year=%{x}<br>Death=%{marker.size}<extra></extra>\",\"hovertext\":[\"Wildfire\",\"Wildfire\",\"Wildfire\",\"Wildfire\",\"Wildfire\",\"Wildfire\",\"Wildfire\",\"Wildfire\",\"Wildfire\",\"Wildfire\",\"Wildfire\",\"Wildfire\",\"Wildfire\",\"Wildfire\",\"Wildfire\",\"Wildfire\",\"Wildfire\",\"Wildfire\",\"Wildfire\",\"Wildfire\",\"Wildfire\",\"Wildfire\",\"Wildfire\",\"Wildfire\",\"Wildfire\",\"Wildfire\",\"Wildfire\",\"Wildfire\",\"Wildfire\",\"Wildfire\",\"Wildfire\",\"Wildfire\",\"Wildfire\",\"Wildfire\",\"Wildfire\",\"Wildfire\",\"Wildfire\",\"Wildfire\",\"Wildfire\",\"Wildfire\",\"Wildfire\",\"Wildfire\",\"Wildfire\",\"Wildfire\",\"Wildfire\",\"Wildfire\",\"Wildfire\",\"Wildfire\",\"Wildfire\",\"Wildfire\"],\"legendgroup\":\"Wildfire\",\"marker\":{\"color\":\"#FF97FF\",\"size\":[73,1000,43,60,71,170,80,11,25,62,12,3,2,8,2,106,17,51,20,191,1,90,122,3,84,29,45,266,150,70,47,33,6,47,14,45,13,148,86,190,166,10,21,35,16,67,39,167,247,116],\"sizemode\":\"area\",\"sizeref\":1480.0,\"symbol\":\"circle\"},\"mode\":\"markers\",\"name\":\"Wildfire\",\"orientation\":\"h\",\"showlegend\":true,\"type\":\"scatter\",\"x\":[1911,1918,1922,1929,1939,1944,1949,1956,1966,1967,1968,1977,1978,1981,1982,1983,1984,1985,1986,1987,1989,1991,1992,1993,1994,1995,1996,1997,1998,1999,2000,2001,2002,2003,2004,2005,2006,2007,2008,2009,2010,2011,2012,2013,2014,2015,2016,2017,2018,2019],\"xaxis\":\"x\",\"y\":[\"Wildfire\",\"Wildfire\",\"Wildfire\",\"Wildfire\",\"Wildfire\",\"Wildfire\",\"Wildfire\",\"Wildfire\",\"Wildfire\",\"Wildfire\",\"Wildfire\",\"Wildfire\",\"Wildfire\",\"Wildfire\",\"Wildfire\",\"Wildfire\",\"Wildfire\",\"Wildfire\",\"Wildfire\",\"Wildfire\",\"Wildfire\",\"Wildfire\",\"Wildfire\",\"Wildfire\",\"Wildfire\",\"Wildfire\",\"Wildfire\",\"Wildfire\",\"Wildfire\",\"Wildfire\",\"Wildfire\",\"Wildfire\",\"Wildfire\",\"Wildfire\",\"Wildfire\",\"Wildfire\",\"Wildfire\",\"Wildfire\",\"Wildfire\",\"Wildfire\",\"Wildfire\",\"Wildfire\",\"Wildfire\",\"Wildfire\",\"Wildfire\",\"Wildfire\",\"Wildfire\",\"Wildfire\",\"Wildfire\",\"Wildfire\"],\"yaxis\":\"y\"}],                        {\"legend\":{\"itemsizing\":\"constant\",\"title\":{\"text\":\"Entity\"},\"tracegroupgap\":0},\"template\":{\"data\":{\"bar\":[{\"error_x\":{\"color\":\"#2a3f5f\"},\"error_y\":{\"color\":\"#2a3f5f\"},\"marker\":{\"line\":{\"color\":\"#E5ECF6\",\"width\":0.5},\"pattern\":{\"fillmode\":\"overlay\",\"size\":10,\"solidity\":0.2}},\"type\":\"bar\"}],\"barpolar\":[{\"marker\":{\"line\":{\"color\":\"#E5ECF6\",\"width\":0.5},\"pattern\":{\"fillmode\":\"overlay\",\"size\":10,\"solidity\":0.2}},\"type\":\"barpolar\"}],\"carpet\":[{\"aaxis\":{\"endlinecolor\":\"#2a3f5f\",\"gridcolor\":\"white\",\"linecolor\":\"white\",\"minorgridcolor\":\"white\",\"startlinecolor\":\"#2a3f5f\"},\"baxis\":{\"endlinecolor\":\"#2a3f5f\",\"gridcolor\":\"white\",\"linecolor\":\"white\",\"minorgridcolor\":\"white\",\"startlinecolor\":\"#2a3f5f\"},\"type\":\"carpet\"}],\"choropleth\":[{\"colorbar\":{\"outlinewidth\":0,\"ticks\":\"\"},\"type\":\"choropleth\"}],\"contour\":[{\"colorbar\":{\"outlinewidth\":0,\"ticks\":\"\"},\"colorscale\":[[0.0,\"#0d0887\"],[0.1111111111111111,\"#46039f\"],[0.2222222222222222,\"#7201a8\"],[0.3333333333333333,\"#9c179e\"],[0.4444444444444444,\"#bd3786\"],[0.5555555555555556,\"#d8576b\"],[0.6666666666666666,\"#ed7953\"],[0.7777777777777778,\"#fb9f3a\"],[0.8888888888888888,\"#fdca26\"],[1.0,\"#f0f921\"]],\"type\":\"contour\"}],\"contourcarpet\":[{\"colorbar\":{\"outlinewidth\":0,\"ticks\":\"\"},\"type\":\"contourcarpet\"}],\"heatmap\":[{\"colorbar\":{\"outlinewidth\":0,\"ticks\":\"\"},\"colorscale\":[[0.0,\"#0d0887\"],[0.1111111111111111,\"#46039f\"],[0.2222222222222222,\"#7201a8\"],[0.3333333333333333,\"#9c179e\"],[0.4444444444444444,\"#bd3786\"],[0.5555555555555556,\"#d8576b\"],[0.6666666666666666,\"#ed7953\"],[0.7777777777777778,\"#fb9f3a\"],[0.8888888888888888,\"#fdca26\"],[1.0,\"#f0f921\"]],\"type\":\"heatmap\"}],\"heatmapgl\":[{\"colorbar\":{\"outlinewidth\":0,\"ticks\":\"\"},\"colorscale\":[[0.0,\"#0d0887\"],[0.1111111111111111,\"#46039f\"],[0.2222222222222222,\"#7201a8\"],[0.3333333333333333,\"#9c179e\"],[0.4444444444444444,\"#bd3786\"],[0.5555555555555556,\"#d8576b\"],[0.6666666666666666,\"#ed7953\"],[0.7777777777777778,\"#fb9f3a\"],[0.8888888888888888,\"#fdca26\"],[1.0,\"#f0f921\"]],\"type\":\"heatmapgl\"}],\"histogram\":[{\"marker\":{\"pattern\":{\"fillmode\":\"overlay\",\"size\":10,\"solidity\":0.2}},\"type\":\"histogram\"}],\"histogram2d\":[{\"colorbar\":{\"outlinewidth\":0,\"ticks\":\"\"},\"colorscale\":[[0.0,\"#0d0887\"],[0.1111111111111111,\"#46039f\"],[0.2222222222222222,\"#7201a8\"],[0.3333333333333333,\"#9c179e\"],[0.4444444444444444,\"#bd3786\"],[0.5555555555555556,\"#d8576b\"],[0.6666666666666666,\"#ed7953\"],[0.7777777777777778,\"#fb9f3a\"],[0.8888888888888888,\"#fdca26\"],[1.0,\"#f0f921\"]],\"type\":\"histogram2d\"}],\"histogram2dcontour\":[{\"colorbar\":{\"outlinewidth\":0,\"ticks\":\"\"},\"colorscale\":[[0.0,\"#0d0887\"],[0.1111111111111111,\"#46039f\"],[0.2222222222222222,\"#7201a8\"],[0.3333333333333333,\"#9c179e\"],[0.4444444444444444,\"#bd3786\"],[0.5555555555555556,\"#d8576b\"],[0.6666666666666666,\"#ed7953\"],[0.7777777777777778,\"#fb9f3a\"],[0.8888888888888888,\"#fdca26\"],[1.0,\"#f0f921\"]],\"type\":\"histogram2dcontour\"}],\"mesh3d\":[{\"colorbar\":{\"outlinewidth\":0,\"ticks\":\"\"},\"type\":\"mesh3d\"}],\"parcoords\":[{\"line\":{\"colorbar\":{\"outlinewidth\":0,\"ticks\":\"\"}},\"type\":\"parcoords\"}],\"pie\":[{\"automargin\":true,\"type\":\"pie\"}],\"scatter\":[{\"marker\":{\"colorbar\":{\"outlinewidth\":0,\"ticks\":\"\"}},\"type\":\"scatter\"}],\"scatter3d\":[{\"line\":{\"colorbar\":{\"outlinewidth\":0,\"ticks\":\"\"}},\"marker\":{\"colorbar\":{\"outlinewidth\":0,\"ticks\":\"\"}},\"type\":\"scatter3d\"}],\"scattercarpet\":[{\"marker\":{\"colorbar\":{\"outlinewidth\":0,\"ticks\":\"\"}},\"type\":\"scattercarpet\"}],\"scattergeo\":[{\"marker\":{\"colorbar\":{\"outlinewidth\":0,\"ticks\":\"\"}},\"type\":\"scattergeo\"}],\"scattergl\":[{\"marker\":{\"colorbar\":{\"outlinewidth\":0,\"ticks\":\"\"}},\"type\":\"scattergl\"}],\"scattermapbox\":[{\"marker\":{\"colorbar\":{\"outlinewidth\":0,\"ticks\":\"\"}},\"type\":\"scattermapbox\"}],\"scatterpolar\":[{\"marker\":{\"colorbar\":{\"outlinewidth\":0,\"ticks\":\"\"}},\"type\":\"scatterpolar\"}],\"scatterpolargl\":[{\"marker\":{\"colorbar\":{\"outlinewidth\":0,\"ticks\":\"\"}},\"type\":\"scatterpolargl\"}],\"scatterternary\":[{\"marker\":{\"colorbar\":{\"outlinewidth\":0,\"ticks\":\"\"}},\"type\":\"scatterternary\"}],\"surface\":[{\"colorbar\":{\"outlinewidth\":0,\"ticks\":\"\"},\"colorscale\":[[0.0,\"#0d0887\"],[0.1111111111111111,\"#46039f\"],[0.2222222222222222,\"#7201a8\"],[0.3333333333333333,\"#9c179e\"],[0.4444444444444444,\"#bd3786\"],[0.5555555555555556,\"#d8576b\"],[0.6666666666666666,\"#ed7953\"],[0.7777777777777778,\"#fb9f3a\"],[0.8888888888888888,\"#fdca26\"],[1.0,\"#f0f921\"]],\"type\":\"surface\"}],\"table\":[{\"cells\":{\"fill\":{\"color\":\"#EBF0F8\"},\"line\":{\"color\":\"white\"}},\"header\":{\"fill\":{\"color\":\"#C8D4E3\"},\"line\":{\"color\":\"white\"}},\"type\":\"table\"}]},\"layout\":{\"annotationdefaults\":{\"arrowcolor\":\"#2a3f5f\",\"arrowhead\":0,\"arrowwidth\":1},\"autotypenumbers\":\"strict\",\"coloraxis\":{\"colorbar\":{\"outlinewidth\":0,\"ticks\":\"\"}},\"colorscale\":{\"diverging\":[[0,\"#8e0152\"],[0.1,\"#c51b7d\"],[0.2,\"#de77ae\"],[0.3,\"#f1b6da\"],[0.4,\"#fde0ef\"],[0.5,\"#f7f7f7\"],[0.6,\"#e6f5d0\"],[0.7,\"#b8e186\"],[0.8,\"#7fbc41\"],[0.9,\"#4d9221\"],[1,\"#276419\"]],\"sequential\":[[0.0,\"#0d0887\"],[0.1111111111111111,\"#46039f\"],[0.2222222222222222,\"#7201a8\"],[0.3333333333333333,\"#9c179e\"],[0.4444444444444444,\"#bd3786\"],[0.5555555555555556,\"#d8576b\"],[0.6666666666666666,\"#ed7953\"],[0.7777777777777778,\"#fb9f3a\"],[0.8888888888888888,\"#fdca26\"],[1.0,\"#f0f921\"]],\"sequentialminus\":[[0.0,\"#0d0887\"],[0.1111111111111111,\"#46039f\"],[0.2222222222222222,\"#7201a8\"],[0.3333333333333333,\"#9c179e\"],[0.4444444444444444,\"#bd3786\"],[0.5555555555555556,\"#d8576b\"],[0.6666666666666666,\"#ed7953\"],[0.7777777777777778,\"#fb9f3a\"],[0.8888888888888888,\"#fdca26\"],[1.0,\"#f0f921\"]]},\"colorway\":[\"#636efa\",\"#EF553B\",\"#00cc96\",\"#ab63fa\",\"#FFA15A\",\"#19d3f3\",\"#FF6692\",\"#B6E880\",\"#FF97FF\",\"#FECB52\"],\"font\":{\"color\":\"#2a3f5f\"},\"geo\":{\"bgcolor\":\"white\",\"lakecolor\":\"white\",\"landcolor\":\"#E5ECF6\",\"showlakes\":true,\"showland\":true,\"subunitcolor\":\"white\"},\"hoverlabel\":{\"align\":\"left\"},\"hovermode\":\"closest\",\"mapbox\":{\"style\":\"light\"},\"paper_bgcolor\":\"white\",\"plot_bgcolor\":\"#E5ECF6\",\"polar\":{\"angularaxis\":{\"gridcolor\":\"white\",\"linecolor\":\"white\",\"ticks\":\"\"},\"bgcolor\":\"#E5ECF6\",\"radialaxis\":{\"gridcolor\":\"white\",\"linecolor\":\"white\",\"ticks\":\"\"}},\"scene\":{\"xaxis\":{\"backgroundcolor\":\"#E5ECF6\",\"gridcolor\":\"white\",\"gridwidth\":2,\"linecolor\":\"white\",\"showbackground\":true,\"ticks\":\"\",\"zerolinecolor\":\"white\"},\"yaxis\":{\"backgroundcolor\":\"#E5ECF6\",\"gridcolor\":\"white\",\"gridwidth\":2,\"linecolor\":\"white\",\"showbackground\":true,\"ticks\":\"\",\"zerolinecolor\":\"white\"},\"zaxis\":{\"backgroundcolor\":\"#E5ECF6\",\"gridcolor\":\"white\",\"gridwidth\":2,\"linecolor\":\"white\",\"showbackground\":true,\"ticks\":\"\",\"zerolinecolor\":\"white\"}},\"shapedefaults\":{\"line\":{\"color\":\"#2a3f5f\"}},\"ternary\":{\"aaxis\":{\"gridcolor\":\"white\",\"linecolor\":\"white\",\"ticks\":\"\"},\"baxis\":{\"gridcolor\":\"white\",\"linecolor\":\"white\",\"ticks\":\"\"},\"bgcolor\":\"#E5ECF6\",\"caxis\":{\"gridcolor\":\"white\",\"linecolor\":\"white\",\"ticks\":\"\"}},\"title\":{\"x\":0.05},\"xaxis\":{\"automargin\":true,\"gridcolor\":\"white\",\"linecolor\":\"white\",\"ticks\":\"\",\"title\":{\"standoff\":15},\"zerolinecolor\":\"white\",\"zerolinewidth\":2},\"yaxis\":{\"automargin\":true,\"gridcolor\":\"white\",\"linecolor\":\"white\",\"ticks\":\"\",\"title\":{\"standoff\":15},\"zerolinecolor\":\"white\",\"zerolinewidth\":2}}},\"title\":{\"text\":\"\\uc790\\uc5f0\\uc7ac\\ud574 \\uc885\\ub958\\uc640 \\uadf8\\uc5d0 \\ub530\\ub978 \\uc778\\uba85\\ud53c\\ud574(1900~2019)\"},\"xaxis\":{\"anchor\":\"y\",\"domain\":[0.0,1.0],\"title\":{\"text\":\"Year\"}},\"yaxis\":{\"anchor\":\"x\",\"categoryarray\":[\"Wildfire\",\"Volcanic activity\",\"Mass movement (dry)\",\"Landslide\",\"Flood\",\"Extreme weather\",\"Extreme temperature\",\"Earthquake\",\"Drought\"],\"categoryorder\":\"array\",\"domain\":[0.0,1.0],\"title\":{\"text\":\"Entity\"}}},                        {\"responsive\": true}                    ).then(function(){\n",
       "                            \n",
       "var gd = document.getElementById('def8cd04-cf7f-4f3f-bd42-40c276938502');\n",
       "var x = new MutationObserver(function (mutations, observer) {{\n",
       "        var display = window.getComputedStyle(gd).display;\n",
       "        if (!display || display === 'none') {{\n",
       "            console.log([gd, 'removed!']);\n",
       "            Plotly.purge(gd);\n",
       "            observer.disconnect();\n",
       "        }}\n",
       "}});\n",
       "\n",
       "// Listen for the removal of the full notebook cells\n",
       "var notebookContainer = gd.closest('#notebook-container');\n",
       "if (notebookContainer) {{\n",
       "    x.observe(notebookContainer, {childList: true});\n",
       "}}\n",
       "\n",
       "// Listen for the clearing of the current output cell\n",
       "var outputEl = gd.closest('.output');\n",
       "if (outputEl) {{\n",
       "    x.observe(outputEl, {childList: true});\n",
       "}}\n",
       "\n",
       "                        })                };                });            </script>        </div>"
      ]
     },
     "metadata": {},
     "output_type": "display_data"
    }
   ],
   "source": [
    "fig = px.scatter(d1, x='Year', y='Entity', color='Entity', hover_name='Entity', size='Death', size_max=50,\n",
    "                title=\"자연재해 종류와 그에 따른 인명피해(1900~2019)\")\n",
    "fig.show()"
   ]
  },
  {
   "cell_type": "code",
   "execution_count": 15,
   "metadata": {
    "scrolled": false
   },
   "outputs": [
    {
     "data": {
      "application/vnd.plotly.v1+json": {
       "config": {
        "plotlyServerURL": "https://plot.ly"
       },
       "data": [
        {
         "hovertemplate": "<b>%{hovertext}</b><br><br>Entity=Drought<br>Year=%{x}<br>Death=%{y}<extra></extra>",
         "hovertext": [
          "Drought",
          "Drought",
          "Drought",
          "Drought",
          "Drought",
          "Drought",
          "Drought",
          "Drought",
          "Drought",
          "Drought",
          "Drought",
          "Drought",
          "Drought",
          "Drought",
          "Drought",
          "Drought",
          "Drought",
          "Drought",
          "Drought",
          "Drought",
          "Drought",
          "Drought",
          "Drought",
          "Drought",
          "Drought",
          "Drought",
          "Drought",
          "Drought",
          "Drought",
          "Drought",
          "Drought",
          "Drought",
          "Drought",
          "Drought",
          "Drought",
          "Drought",
          "Drought",
          "Drought",
          "Drought",
          "Drought",
          "Drought",
          "Drought"
         ],
         "legendgroup": "Drought",
         "line": {
          "color": "#636efa",
          "dash": "solid"
         },
         "mode": "lines",
         "name": "Drought",
         "orientation": "v",
         "showlegend": true,
         "type": "scatter",
         "x": [
          1900,
          1910,
          1920,
          1921,
          1928,
          1940,
          1942,
          1943,
          1946,
          1964,
          1965,
          1966,
          1967,
          1973,
          1974,
          1978,
          1979,
          1981,
          1982,
          1983,
          1984,
          1986,
          1987,
          1988,
          1989,
          1991,
          1997,
          1998,
          1999,
          2000,
          2001,
          2002,
          2003,
          2004,
          2005,
          2006,
          2008,
          2010,
          2015,
          2017,
          2018,
          2019
         ],
         "xaxis": "x",
         "y": [
          1261000,
          85000,
          524000,
          1200000,
          3000000,
          20000,
          1500000,
          1900000,
          30000,
          50,
          1502000,
          8000,
          600,
          100000,
          19000,
          63,
          18,
          103000,
          280,
          450520,
          230,
          84,
          1317,
          1600,
          237,
          2000,
          732,
          20,
          361,
          80,
          99,
          588,
          9,
          80,
          149,
          134,
          8,
          20000,
          35,
          0,
          0,
          77
         ],
         "yaxis": "y"
        },
        {
         "hovertemplate": "<b>%{hovertext}</b><br><br>Entity=Earthquake<br>Year=%{x}<br>Death=%{y}<extra></extra>",
         "hovertext": [
          "Earthquake",
          "Earthquake",
          "Earthquake",
          "Earthquake",
          "Earthquake",
          "Earthquake",
          "Earthquake",
          "Earthquake",
          "Earthquake",
          "Earthquake",
          "Earthquake",
          "Earthquake",
          "Earthquake",
          "Earthquake",
          "Earthquake",
          "Earthquake",
          "Earthquake",
          "Earthquake",
          "Earthquake",
          "Earthquake",
          "Earthquake",
          "Earthquake",
          "Earthquake",
          "Earthquake",
          "Earthquake",
          "Earthquake",
          "Earthquake",
          "Earthquake",
          "Earthquake",
          "Earthquake",
          "Earthquake",
          "Earthquake",
          "Earthquake",
          "Earthquake",
          "Earthquake",
          "Earthquake",
          "Earthquake",
          "Earthquake",
          "Earthquake",
          "Earthquake",
          "Earthquake",
          "Earthquake",
          "Earthquake",
          "Earthquake",
          "Earthquake",
          "Earthquake",
          "Earthquake",
          "Earthquake",
          "Earthquake",
          "Earthquake",
          "Earthquake",
          "Earthquake",
          "Earthquake",
          "Earthquake",
          "Earthquake",
          "Earthquake",
          "Earthquake",
          "Earthquake",
          "Earthquake",
          "Earthquake",
          "Earthquake",
          "Earthquake",
          "Earthquake",
          "Earthquake",
          "Earthquake",
          "Earthquake",
          "Earthquake",
          "Earthquake",
          "Earthquake",
          "Earthquake",
          "Earthquake",
          "Earthquake",
          "Earthquake",
          "Earthquake",
          "Earthquake",
          "Earthquake",
          "Earthquake",
          "Earthquake",
          "Earthquake",
          "Earthquake",
          "Earthquake",
          "Earthquake",
          "Earthquake",
          "Earthquake",
          "Earthquake",
          "Earthquake",
          "Earthquake",
          "Earthquake",
          "Earthquake",
          "Earthquake",
          "Earthquake",
          "Earthquake",
          "Earthquake",
          "Earthquake",
          "Earthquake",
          "Earthquake",
          "Earthquake",
          "Earthquake",
          "Earthquake",
          "Earthquake",
          "Earthquake",
          "Earthquake",
          "Earthquake",
          "Earthquake",
          "Earthquake",
          "Earthquake",
          "Earthquake",
          "Earthquake",
          "Earthquake",
          "Earthquake",
          "Earthquake",
          "Earthquake",
          "Earthquake"
         ],
         "legendgroup": "Earthquake",
         "line": {
          "color": "#EF553B",
          "dash": "solid"
         },
         "mode": "lines",
         "name": "Earthquake",
         "orientation": "v",
         "showlegend": true,
         "type": "scatter",
         "x": [
          1901,
          1902,
          1903,
          1905,
          1906,
          1907,
          1908,
          1909,
          1910,
          1912,
          1913,
          1914,
          1915,
          1917,
          1918,
          1920,
          1922,
          1923,
          1924,
          1925,
          1926,
          1927,
          1928,
          1929,
          1930,
          1931,
          1932,
          1933,
          1934,
          1935,
          1936,
          1938,
          1939,
          1940,
          1941,
          1942,
          1943,
          1944,
          1945,
          1946,
          1947,
          1948,
          1949,
          1950,
          1951,
          1952,
          1953,
          1954,
          1955,
          1956,
          1957,
          1958,
          1959,
          1960,
          1961,
          1962,
          1963,
          1964,
          1965,
          1966,
          1967,
          1968,
          1969,
          1970,
          1971,
          1972,
          1973,
          1974,
          1975,
          1976,
          1977,
          1978,
          1979,
          1980,
          1981,
          1982,
          1983,
          1984,
          1985,
          1986,
          1987,
          1988,
          1989,
          1990,
          1991,
          1992,
          1993,
          1994,
          1995,
          1996,
          1997,
          1998,
          1999,
          2000,
          2001,
          2002,
          2003,
          2004,
          2005,
          2006,
          2007,
          2008,
          2009,
          2010,
          2011,
          2012,
          2013,
          2014,
          2015,
          2016,
          2017,
          2018,
          2019
         ],
         "xaxis": "x",
         "y": [
          18,
          6747,
          6000,
          22500,
          31966,
          25641,
          75000,
          5146,
          1762,
          923,
          150,
          149,
          29986,
          19450,
          10379,
          180000,
          1100,
          152362,
          767,
          5013,
          12,
          206142,
          635,
          3317,
          5081,
          1537,
          70006,
          16180,
          15496,
          66110,
          26,
          166,
          63094,
          1275,
          189,
          7235,
          4332,
          14984,
          5961,
          5153,
          633,
          115618,
          6486,
          1833,
          1554,
          2432,
          2717,
          3344,
          959,
          763,
          6993,
          227,
          103,
          19395,
          60,
          12209,
          1700,
          335,
          683,
          2752,
          1013,
          10858,
          3353,
          78599,
          1107,
          15170,
          552,
          24808,
          12632,
          276994,
          3098,
          25162,
          2100,
          7730,
          4206,
          2120,
          2148,
          57,
          9853,
          1181,
          5160,
          27049,
          650,
          42853,
          2454,
          4033,
          10088,
          1242,
          7739,
          576,
          3159,
          9573,
          21869,
          217,
          21348,
          1639,
          29617,
          227290,
          76241,
          6692,
          780,
          87918,
          1893,
          226733,
          20946,
          711,
          1120,
          774,
          9550,
          1311,
          861,
          4321,
          259
         ],
         "yaxis": "y"
        },
        {
         "hovertemplate": "<b>%{hovertext}</b><br><br>Entity=Extreme temperature<br>Year=%{x}<br>Death=%{y}<extra></extra>",
         "hovertext": [
          "Extreme temperature",
          "Extreme temperature",
          "Extreme temperature",
          "Extreme temperature",
          "Extreme temperature",
          "Extreme temperature",
          "Extreme temperature",
          "Extreme temperature",
          "Extreme temperature",
          "Extreme temperature",
          "Extreme temperature",
          "Extreme temperature",
          "Extreme temperature",
          "Extreme temperature",
          "Extreme temperature",
          "Extreme temperature",
          "Extreme temperature",
          "Extreme temperature",
          "Extreme temperature",
          "Extreme temperature",
          "Extreme temperature",
          "Extreme temperature",
          "Extreme temperature",
          "Extreme temperature",
          "Extreme temperature",
          "Extreme temperature",
          "Extreme temperature",
          "Extreme temperature",
          "Extreme temperature",
          "Extreme temperature",
          "Extreme temperature",
          "Extreme temperature",
          "Extreme temperature",
          "Extreme temperature",
          "Extreme temperature",
          "Extreme temperature",
          "Extreme temperature",
          "Extreme temperature",
          "Extreme temperature",
          "Extreme temperature",
          "Extreme temperature",
          "Extreme temperature",
          "Extreme temperature",
          "Extreme temperature",
          "Extreme temperature",
          "Extreme temperature",
          "Extreme temperature",
          "Extreme temperature",
          "Extreme temperature",
          "Extreme temperature",
          "Extreme temperature",
          "Extreme temperature",
          "Extreme temperature",
          "Extreme temperature",
          "Extreme temperature",
          "Extreme temperature",
          "Extreme temperature"
         ],
         "legendgroup": "Extreme temperature",
         "line": {
          "color": "#00cc96",
          "dash": "solid"
         },
         "mode": "lines",
         "name": "Extreme temperature",
         "orientation": "v",
         "showlegend": true,
         "type": "scatter",
         "x": [
          1936,
          1951,
          1953,
          1955,
          1958,
          1961,
          1962,
          1963,
          1965,
          1966,
          1968,
          1971,
          1972,
          1973,
          1975,
          1978,
          1979,
          1980,
          1981,
          1982,
          1983,
          1984,
          1985,
          1986,
          1987,
          1988,
          1989,
          1990,
          1991,
          1992,
          1993,
          1994,
          1995,
          1996,
          1997,
          1998,
          1999,
          2000,
          2001,
          2002,
          2003,
          2004,
          2005,
          2006,
          2007,
          2008,
          2009,
          2010,
          2011,
          2012,
          2013,
          2014,
          2015,
          2016,
          2017,
          2018,
          2019
         ],
         "xaxis": "x",
         "y": [
          1693,
          69,
          669,
          107,
          651,
          400,
          50,
          162,
          100,
          262,
          153,
          400,
          110,
          283,
          140,
          150,
          470,
          1389,
          300,
          400,
          205,
          290,
          456,
          50,
          1220,
          644,
          381,
          979,
          835,
          388,
          106,
          341,
          1730,
          300,
          604,
          3269,
          771,
          941,
          1787,
          3369,
          74698,
          255,
          1550,
          4826,
          1086,
          1688,
          1386,
          57188,
          435,
          1834,
          1821,
          1168,
          7425,
          490,
          133,
          536,
          2908
         ],
         "yaxis": "y"
        },
        {
         "hovertemplate": "<b>%{hovertext}</b><br><br>Entity=Extreme weather<br>Year=%{x}<br>Death=%{y}<extra></extra>",
         "hovertext": [
          "Extreme weather",
          "Extreme weather",
          "Extreme weather",
          "Extreme weather",
          "Extreme weather",
          "Extreme weather",
          "Extreme weather",
          "Extreme weather",
          "Extreme weather",
          "Extreme weather",
          "Extreme weather",
          "Extreme weather",
          "Extreme weather",
          "Extreme weather",
          "Extreme weather",
          "Extreme weather",
          "Extreme weather",
          "Extreme weather",
          "Extreme weather",
          "Extreme weather",
          "Extreme weather",
          "Extreme weather",
          "Extreme weather",
          "Extreme weather",
          "Extreme weather",
          "Extreme weather",
          "Extreme weather",
          "Extreme weather",
          "Extreme weather",
          "Extreme weather",
          "Extreme weather",
          "Extreme weather",
          "Extreme weather",
          "Extreme weather",
          "Extreme weather",
          "Extreme weather",
          "Extreme weather",
          "Extreme weather",
          "Extreme weather",
          "Extreme weather",
          "Extreme weather",
          "Extreme weather",
          "Extreme weather",
          "Extreme weather",
          "Extreme weather",
          "Extreme weather",
          "Extreme weather",
          "Extreme weather",
          "Extreme weather",
          "Extreme weather",
          "Extreme weather",
          "Extreme weather",
          "Extreme weather",
          "Extreme weather",
          "Extreme weather",
          "Extreme weather",
          "Extreme weather",
          "Extreme weather",
          "Extreme weather",
          "Extreme weather",
          "Extreme weather",
          "Extreme weather",
          "Extreme weather",
          "Extreme weather",
          "Extreme weather",
          "Extreme weather",
          "Extreme weather",
          "Extreme weather",
          "Extreme weather",
          "Extreme weather",
          "Extreme weather",
          "Extreme weather",
          "Extreme weather",
          "Extreme weather",
          "Extreme weather",
          "Extreme weather",
          "Extreme weather",
          "Extreme weather",
          "Extreme weather",
          "Extreme weather",
          "Extreme weather",
          "Extreme weather",
          "Extreme weather",
          "Extreme weather",
          "Extreme weather",
          "Extreme weather",
          "Extreme weather",
          "Extreme weather",
          "Extreme weather",
          "Extreme weather",
          "Extreme weather",
          "Extreme weather",
          "Extreme weather",
          "Extreme weather",
          "Extreme weather",
          "Extreme weather",
          "Extreme weather",
          "Extreme weather",
          "Extreme weather",
          "Extreme weather",
          "Extreme weather",
          "Extreme weather",
          "Extreme weather",
          "Extreme weather",
          "Extreme weather",
          "Extreme weather",
          "Extreme weather",
          "Extreme weather",
          "Extreme weather",
          "Extreme weather",
          "Extreme weather",
          "Extreme weather",
          "Extreme weather"
         ],
         "legendgroup": "Extreme weather",
         "line": {
          "color": "#ab63fa",
          "dash": "solid"
         },
         "mode": "lines",
         "name": "Extreme weather",
         "orientation": "v",
         "showlegend": true,
         "type": "scatter",
         "x": [
          1900,
          1902,
          1903,
          1905,
          1906,
          1909,
          1910,
          1911,
          1912,
          1913,
          1915,
          1916,
          1917,
          1918,
          1919,
          1920,
          1922,
          1923,
          1924,
          1925,
          1926,
          1927,
          1928,
          1930,
          1931,
          1932,
          1933,
          1934,
          1935,
          1936,
          1937,
          1938,
          1939,
          1940,
          1941,
          1942,
          1943,
          1944,
          1945,
          1946,
          1947,
          1948,
          1949,
          1950,
          1951,
          1952,
          1953,
          1954,
          1955,
          1956,
          1957,
          1958,
          1959,
          1960,
          1961,
          1962,
          1963,
          1964,
          1965,
          1966,
          1967,
          1968,
          1969,
          1970,
          1971,
          1972,
          1973,
          1974,
          1975,
          1976,
          1977,
          1978,
          1979,
          1980,
          1981,
          1982,
          1983,
          1984,
          1985,
          1986,
          1987,
          1988,
          1989,
          1990,
          1991,
          1992,
          1993,
          1994,
          1995,
          1996,
          1997,
          1998,
          1999,
          2000,
          2001,
          2002,
          2003,
          2004,
          2005,
          2006,
          2007,
          2008,
          2009,
          2010,
          2011,
          2012,
          2013,
          2014,
          2015,
          2016,
          2017,
          2018,
          2019
         ],
         "xaxis": "x",
         "y": [
          6000,
          600,
          163,
          240,
          10298,
          713,
          30,
          1000,
          51170,
          732,
          2125,
          300,
          4057,
          34,
          500,
          224,
          100000,
          3139,
          2242,
          819,
          3568,
          5772,
          4224,
          4082,
          3200,
          3244,
          63,
          5091,
          62707,
          3309,
          11231,
          905,
          3,
          123,
          5006,
          101000,
          5000,
          726,
          4415,
          337,
          4738,
          2971,
          2804,
          873,
          2861,
          6277,
          1814,
          2969,
          3895,
          3114,
          1139,
          2620,
          9695,
          9164,
          12852,
          1860,
          29965,
          10655,
          59932,
          2327,
          2255,
          1669,
          3252,
          304495,
          10811,
          1427,
          4344,
          11861,
          1041,
          1763,
          15298,
          3676,
          2623,
          1379,
          3790,
          2782,
          3656,
          5468,
          17165,
          1939,
          2900,
          3335,
          4256,
          4604,
          146297,
          1342,
          2965,
          4239,
          3763,
          4581,
          6150,
          24935,
          12270,
          1354,
          1911,
          1382,
          1049,
          6547,
          5251,
          4329,
          6035,
          140985,
          3287,
          1564,
          3103,
          3105,
          8603,
          1424,
          1270,
          1760,
          1014,
          1666,
          2519
         ],
         "yaxis": "y"
        },
        {
         "hovertemplate": "<b>%{hovertext}</b><br><br>Entity=Flood<br>Year=%{x}<br>Death=%{y}<extra></extra>",
         "hovertext": [
          "Flood",
          "Flood",
          "Flood",
          "Flood",
          "Flood",
          "Flood",
          "Flood",
          "Flood",
          "Flood",
          "Flood",
          "Flood",
          "Flood",
          "Flood",
          "Flood",
          "Flood",
          "Flood",
          "Flood",
          "Flood",
          "Flood",
          "Flood",
          "Flood",
          "Flood",
          "Flood",
          "Flood",
          "Flood",
          "Flood",
          "Flood",
          "Flood",
          "Flood",
          "Flood",
          "Flood",
          "Flood",
          "Flood",
          "Flood",
          "Flood",
          "Flood",
          "Flood",
          "Flood",
          "Flood",
          "Flood",
          "Flood",
          "Flood",
          "Flood",
          "Flood",
          "Flood",
          "Flood",
          "Flood",
          "Flood",
          "Flood",
          "Flood",
          "Flood",
          "Flood",
          "Flood",
          "Flood",
          "Flood",
          "Flood",
          "Flood",
          "Flood",
          "Flood",
          "Flood",
          "Flood",
          "Flood",
          "Flood",
          "Flood",
          "Flood",
          "Flood",
          "Flood",
          "Flood",
          "Flood",
          "Flood",
          "Flood",
          "Flood",
          "Flood",
          "Flood",
          "Flood",
          "Flood",
          "Flood",
          "Flood",
          "Flood",
          "Flood",
          "Flood",
          "Flood",
          "Flood",
          "Flood",
          "Flood",
          "Flood",
          "Flood",
          "Flood",
          "Flood",
          "Flood",
          "Flood"
         ],
         "legendgroup": "Flood",
         "line": {
          "color": "#FFA15A",
          "dash": "solid"
         },
         "mode": "lines",
         "name": "Flood",
         "orientation": "v",
         "showlegend": true,
         "type": "scatter",
         "x": [
          1900,
          1903,
          1906,
          1909,
          1910,
          1911,
          1926,
          1927,
          1928,
          1931,
          1933,
          1935,
          1936,
          1937,
          1938,
          1939,
          1940,
          1943,
          1947,
          1948,
          1949,
          1950,
          1951,
          1952,
          1953,
          1954,
          1955,
          1956,
          1957,
          1958,
          1959,
          1960,
          1961,
          1962,
          1963,
          1964,
          1965,
          1966,
          1967,
          1968,
          1969,
          1970,
          1971,
          1972,
          1973,
          1974,
          1975,
          1976,
          1977,
          1978,
          1979,
          1980,
          1981,
          1982,
          1983,
          1984,
          1985,
          1986,
          1987,
          1988,
          1989,
          1990,
          1991,
          1992,
          1993,
          1994,
          1995,
          1996,
          1997,
          1998,
          1999,
          2000,
          2001,
          2002,
          2003,
          2004,
          2005,
          2006,
          2007,
          2008,
          2009,
          2010,
          2011,
          2012,
          2013,
          2014,
          2015,
          2016,
          2017,
          2018,
          2019
         ],
         "xaxis": "x",
         "y": [
          300,
          250,
          6,
          72,
          1379,
          100000,
          1000,
          3246,
          36,
          3700000,
          18053,
          142000,
          200,
          248,
          954,
          500010,
          125,
          990,
          2000,
          917,
          97000,
          3808,
          5666,
          199,
          7125,
          34436,
          584,
          3613,
          2471,
          400,
          2003396,
          10577,
          3863,
          1180,
          1031,
          1123,
          1401,
          1923,
          2446,
          7306,
          1544,
          3246,
          2404,
          2548,
          1835,
          29431,
          848,
          960,
          2568,
          5897,
          1038,
          10466,
          5283,
          4648,
          2082,
          2930,
          4376,
          1782,
          6766,
          8504,
          4716,
          2251,
          5852,
          5315,
          6150,
          6771,
          7956,
          8047,
          7685,
          10653,
          34807,
          6025,
          5014,
          4236,
          3910,
          6982,
          5754,
          5843,
          8607,
          4007,
          3627,
          8356,
          6163,
          3544,
          9836,
          3532,
          3495,
          4720,
          3086,
          2869,
          5100
         ],
         "yaxis": "y"
        },
        {
         "hovertemplate": "<b>%{hovertext}</b><br><br>Entity=Landslide<br>Year=%{x}<br>Death=%{y}<extra></extra>",
         "hovertext": [
          "Landslide",
          "Landslide",
          "Landslide",
          "Landslide",
          "Landslide",
          "Landslide",
          "Landslide",
          "Landslide",
          "Landslide",
          "Landslide",
          "Landslide",
          "Landslide",
          "Landslide",
          "Landslide",
          "Landslide",
          "Landslide",
          "Landslide",
          "Landslide",
          "Landslide",
          "Landslide",
          "Landslide",
          "Landslide",
          "Landslide",
          "Landslide",
          "Landslide",
          "Landslide",
          "Landslide",
          "Landslide",
          "Landslide",
          "Landslide",
          "Landslide",
          "Landslide",
          "Landslide",
          "Landslide",
          "Landslide",
          "Landslide",
          "Landslide",
          "Landslide",
          "Landslide",
          "Landslide",
          "Landslide",
          "Landslide",
          "Landslide",
          "Landslide",
          "Landslide",
          "Landslide",
          "Landslide",
          "Landslide",
          "Landslide",
          "Landslide",
          "Landslide",
          "Landslide",
          "Landslide",
          "Landslide",
          "Landslide",
          "Landslide",
          "Landslide",
          "Landslide",
          "Landslide",
          "Landslide",
          "Landslide",
          "Landslide",
          "Landslide",
          "Landslide",
          "Landslide",
          "Landslide",
          "Landslide",
          "Landslide",
          "Landslide",
          "Landslide",
          "Landslide",
          "Landslide",
          "Landslide",
          "Landslide",
          "Landslide",
          "Landslide",
          "Landslide",
          "Landslide",
          "Landslide",
          "Landslide",
          "Landslide"
         ],
         "legendgroup": "Landslide",
         "line": {
          "color": "#19d3f3",
          "dash": "solid"
         },
         "mode": "lines",
         "name": "Landslide",
         "orientation": "v",
         "showlegend": true,
         "type": "scatter",
         "x": [
          1909,
          1922,
          1923,
          1926,
          1930,
          1931,
          1932,
          1934,
          1936,
          1938,
          1941,
          1948,
          1949,
          1950,
          1951,
          1952,
          1954,
          1955,
          1956,
          1958,
          1959,
          1960,
          1961,
          1962,
          1963,
          1964,
          1965,
          1966,
          1967,
          1968,
          1969,
          1970,
          1971,
          1972,
          1973,
          1974,
          1975,
          1976,
          1977,
          1978,
          1979,
          1980,
          1981,
          1982,
          1983,
          1984,
          1985,
          1986,
          1987,
          1988,
          1989,
          1990,
          1991,
          1992,
          1993,
          1994,
          1995,
          1996,
          1997,
          1998,
          1999,
          2000,
          2001,
          2002,
          2003,
          2004,
          2005,
          2006,
          2007,
          2008,
          2009,
          2010,
          2011,
          2012,
          2013,
          2014,
          2015,
          2016,
          2017,
          2018,
          2019
         ],
         "xaxis": "x",
         "y": [
          53,
          100,
          200,
          128,
          40,
          190,
          30,
          500,
          73,
          200,
          5000,
          525,
          12000,
          130,
          92,
          28,
          1086,
          478,
          236,
          52,
          48,
          52,
          166,
          71,
          2033,
          108,
          204,
          604,
          590,
          1196,
          18,
          186,
          1020,
          755,
          3541,
          904,
          195,
          315,
          40,
          86,
          338,
          300,
          421,
          640,
          1159,
          228,
          377,
          501,
          1204,
          952,
          445,
          98,
          728,
          712,
          1418,
          307,
          1521,
          1155,
          801,
          1141,
          445,
          1012,
          786,
          1100,
          706,
          313,
          664,
          1638,
          271,
          504,
          723,
          3427,
          309,
          501,
          235,
          943,
          1006,
          361,
          2080,
          275,
          719
         ],
         "yaxis": "y"
        },
        {
         "hovertemplate": "<b>%{hovertext}</b><br><br>Entity=Mass movement (dry)<br>Year=%{x}<br>Death=%{y}<extra></extra>",
         "hovertext": [
          "Mass movement (dry)",
          "Mass movement (dry)",
          "Mass movement (dry)",
          "Mass movement (dry)",
          "Mass movement (dry)",
          "Mass movement (dry)",
          "Mass movement (dry)",
          "Mass movement (dry)",
          "Mass movement (dry)",
          "Mass movement (dry)",
          "Mass movement (dry)",
          "Mass movement (dry)",
          "Mass movement (dry)",
          "Mass movement (dry)",
          "Mass movement (dry)",
          "Mass movement (dry)",
          "Mass movement (dry)",
          "Mass movement (dry)",
          "Mass movement (dry)",
          "Mass movement (dry)",
          "Mass movement (dry)",
          "Mass movement (dry)",
          "Mass movement (dry)",
          "Mass movement (dry)",
          "Mass movement (dry)",
          "Mass movement (dry)",
          "Mass movement (dry)",
          "Mass movement (dry)",
          "Mass movement (dry)",
          "Mass movement (dry)",
          "Mass movement (dry)",
          "Mass movement (dry)",
          "Mass movement (dry)"
         ],
         "legendgroup": "Mass movement (dry)",
         "line": {
          "color": "#FF6692",
          "dash": "solid"
         },
         "mode": "lines",
         "name": "Mass movement (dry)",
         "orientation": "v",
         "showlegend": true,
         "type": "scatter",
         "x": [
          1903,
          1905,
          1908,
          1910,
          1915,
          1937,
          1955,
          1962,
          1963,
          1965,
          1970,
          1971,
          1980,
          1982,
          1983,
          1985,
          1987,
          1988,
          1989,
          1990,
          1991,
          1992,
          1993,
          2000,
          2002,
          2004,
          2006,
          2008,
          2009,
          2012,
          2013,
          2015,
          2018
         ],
         "xaxis": "x",
         "y": [
          76,
          18,
          33,
          62,
          56,
          40,
          3,
          2000,
          150,
          26,
          42,
          31,
          50,
          59,
          466,
          300,
          183,
          157,
          55,
          116,
          86,
          323,
          341,
          11,
          60,
          44,
          11,
          120,
          36,
          16,
          46,
          13,
          17
         ],
         "yaxis": "y"
        },
        {
         "hovertemplate": "<b>%{hovertext}</b><br><br>Entity=Volcanic activity<br>Year=%{x}<br>Death=%{y}<extra></extra>",
         "hovertext": [
          "Volcanic activity",
          "Volcanic activity",
          "Volcanic activity",
          "Volcanic activity",
          "Volcanic activity",
          "Volcanic activity",
          "Volcanic activity",
          "Volcanic activity",
          "Volcanic activity",
          "Volcanic activity",
          "Volcanic activity",
          "Volcanic activity",
          "Volcanic activity",
          "Volcanic activity",
          "Volcanic activity",
          "Volcanic activity",
          "Volcanic activity",
          "Volcanic activity",
          "Volcanic activity",
          "Volcanic activity",
          "Volcanic activity",
          "Volcanic activity",
          "Volcanic activity",
          "Volcanic activity",
          "Volcanic activity",
          "Volcanic activity",
          "Volcanic activity",
          "Volcanic activity",
          "Volcanic activity",
          "Volcanic activity",
          "Volcanic activity",
          "Volcanic activity",
          "Volcanic activity",
          "Volcanic activity",
          "Volcanic activity",
          "Volcanic activity",
          "Volcanic activity",
          "Volcanic activity",
          "Volcanic activity",
          "Volcanic activity",
          "Volcanic activity",
          "Volcanic activity",
          "Volcanic activity",
          "Volcanic activity",
          "Volcanic activity",
          "Volcanic activity",
          "Volcanic activity",
          "Volcanic activity",
          "Volcanic activity",
          "Volcanic activity",
          "Volcanic activity",
          "Volcanic activity",
          "Volcanic activity",
          "Volcanic activity",
          "Volcanic activity",
          "Volcanic activity"
         ],
         "legendgroup": "Volcanic activity",
         "line": {
          "color": "#B6E880",
          "dash": "solid"
         },
         "mode": "lines",
         "name": "Volcanic activity",
         "orientation": "v",
         "showlegend": true,
         "type": "scatter",
         "x": [
          1900,
          1902,
          1903,
          1906,
          1909,
          1911,
          1914,
          1919,
          1926,
          1929,
          1930,
          1931,
          1937,
          1944,
          1948,
          1949,
          1950,
          1951,
          1952,
          1953,
          1954,
          1963,
          1964,
          1965,
          1966,
          1968,
          1975,
          1976,
          1977,
          1979,
          1980,
          1981,
          1982,
          1984,
          1985,
          1986,
          1988,
          1990,
          1991,
          1992,
          1993,
          1994,
          1996,
          1997,
          2002,
          2004,
          2005,
          2006,
          2007,
          2008,
          2010,
          2011,
          2014,
          2017,
          2018,
          2019
         ],
         "xaxis": "x",
         "y": [
          30,
          38690,
          17,
          700,
          5500,
          1335,
          140,
          5000,
          144,
          5000,
          1369,
          1300,
          506,
          26,
          100,
          2000,
          84,
          4800,
          29,
          150,
          37,
          1705,
          4,
          355,
          1088,
          90,
          2,
          41,
          215,
          268,
          90,
          192,
          130,
          37,
          21800,
          1746,
          7,
          33,
          683,
          1,
          99,
          101,
          4,
          53,
          200,
          2,
          3,
          5,
          11,
          16,
          323,
          3,
          102,
          0,
          878,
          21
         ],
         "yaxis": "y"
        },
        {
         "hovertemplate": "<b>%{hovertext}</b><br><br>Entity=Wildfire<br>Year=%{x}<br>Death=%{y}<extra></extra>",
         "hovertext": [
          "Wildfire",
          "Wildfire",
          "Wildfire",
          "Wildfire",
          "Wildfire",
          "Wildfire",
          "Wildfire",
          "Wildfire",
          "Wildfire",
          "Wildfire",
          "Wildfire",
          "Wildfire",
          "Wildfire",
          "Wildfire",
          "Wildfire",
          "Wildfire",
          "Wildfire",
          "Wildfire",
          "Wildfire",
          "Wildfire",
          "Wildfire",
          "Wildfire",
          "Wildfire",
          "Wildfire",
          "Wildfire",
          "Wildfire",
          "Wildfire",
          "Wildfire",
          "Wildfire",
          "Wildfire",
          "Wildfire",
          "Wildfire",
          "Wildfire",
          "Wildfire",
          "Wildfire",
          "Wildfire",
          "Wildfire",
          "Wildfire",
          "Wildfire",
          "Wildfire",
          "Wildfire",
          "Wildfire",
          "Wildfire",
          "Wildfire",
          "Wildfire",
          "Wildfire",
          "Wildfire",
          "Wildfire",
          "Wildfire",
          "Wildfire"
         ],
         "legendgroup": "Wildfire",
         "line": {
          "color": "#FF97FF",
          "dash": "solid"
         },
         "mode": "lines",
         "name": "Wildfire",
         "orientation": "v",
         "showlegend": true,
         "type": "scatter",
         "x": [
          1911,
          1918,
          1922,
          1929,
          1939,
          1944,
          1949,
          1956,
          1966,
          1967,
          1968,
          1977,
          1978,
          1981,
          1982,
          1983,
          1984,
          1985,
          1986,
          1987,
          1989,
          1991,
          1992,
          1993,
          1994,
          1995,
          1996,
          1997,
          1998,
          1999,
          2000,
          2001,
          2002,
          2003,
          2004,
          2005,
          2006,
          2007,
          2008,
          2009,
          2010,
          2011,
          2012,
          2013,
          2014,
          2015,
          2016,
          2017,
          2018,
          2019
         ],
         "xaxis": "x",
         "y": [
          73,
          1000,
          43,
          60,
          71,
          170,
          80,
          11,
          25,
          62,
          12,
          3,
          2,
          8,
          2,
          106,
          17,
          51,
          20,
          191,
          1,
          90,
          122,
          3,
          84,
          29,
          45,
          266,
          150,
          70,
          47,
          33,
          6,
          47,
          14,
          45,
          13,
          148,
          86,
          190,
          166,
          10,
          21,
          35,
          16,
          67,
          39,
          167,
          247,
          116
         ],
         "yaxis": "y"
        }
       ],
       "layout": {
        "legend": {
         "title": {
          "text": "Entity"
         },
         "tracegroupgap": 0
        },
        "template": {
         "data": {
          "bar": [
           {
            "error_x": {
             "color": "#2a3f5f"
            },
            "error_y": {
             "color": "#2a3f5f"
            },
            "marker": {
             "line": {
              "color": "#E5ECF6",
              "width": 0.5
             },
             "pattern": {
              "fillmode": "overlay",
              "size": 10,
              "solidity": 0.2
             }
            },
            "type": "bar"
           }
          ],
          "barpolar": [
           {
            "marker": {
             "line": {
              "color": "#E5ECF6",
              "width": 0.5
             },
             "pattern": {
              "fillmode": "overlay",
              "size": 10,
              "solidity": 0.2
             }
            },
            "type": "barpolar"
           }
          ],
          "carpet": [
           {
            "aaxis": {
             "endlinecolor": "#2a3f5f",
             "gridcolor": "white",
             "linecolor": "white",
             "minorgridcolor": "white",
             "startlinecolor": "#2a3f5f"
            },
            "baxis": {
             "endlinecolor": "#2a3f5f",
             "gridcolor": "white",
             "linecolor": "white",
             "minorgridcolor": "white",
             "startlinecolor": "#2a3f5f"
            },
            "type": "carpet"
           }
          ],
          "choropleth": [
           {
            "colorbar": {
             "outlinewidth": 0,
             "ticks": ""
            },
            "type": "choropleth"
           }
          ],
          "contour": [
           {
            "colorbar": {
             "outlinewidth": 0,
             "ticks": ""
            },
            "colorscale": [
             [
              0,
              "#0d0887"
             ],
             [
              0.1111111111111111,
              "#46039f"
             ],
             [
              0.2222222222222222,
              "#7201a8"
             ],
             [
              0.3333333333333333,
              "#9c179e"
             ],
             [
              0.4444444444444444,
              "#bd3786"
             ],
             [
              0.5555555555555556,
              "#d8576b"
             ],
             [
              0.6666666666666666,
              "#ed7953"
             ],
             [
              0.7777777777777778,
              "#fb9f3a"
             ],
             [
              0.8888888888888888,
              "#fdca26"
             ],
             [
              1,
              "#f0f921"
             ]
            ],
            "type": "contour"
           }
          ],
          "contourcarpet": [
           {
            "colorbar": {
             "outlinewidth": 0,
             "ticks": ""
            },
            "type": "contourcarpet"
           }
          ],
          "heatmap": [
           {
            "colorbar": {
             "outlinewidth": 0,
             "ticks": ""
            },
            "colorscale": [
             [
              0,
              "#0d0887"
             ],
             [
              0.1111111111111111,
              "#46039f"
             ],
             [
              0.2222222222222222,
              "#7201a8"
             ],
             [
              0.3333333333333333,
              "#9c179e"
             ],
             [
              0.4444444444444444,
              "#bd3786"
             ],
             [
              0.5555555555555556,
              "#d8576b"
             ],
             [
              0.6666666666666666,
              "#ed7953"
             ],
             [
              0.7777777777777778,
              "#fb9f3a"
             ],
             [
              0.8888888888888888,
              "#fdca26"
             ],
             [
              1,
              "#f0f921"
             ]
            ],
            "type": "heatmap"
           }
          ],
          "heatmapgl": [
           {
            "colorbar": {
             "outlinewidth": 0,
             "ticks": ""
            },
            "colorscale": [
             [
              0,
              "#0d0887"
             ],
             [
              0.1111111111111111,
              "#46039f"
             ],
             [
              0.2222222222222222,
              "#7201a8"
             ],
             [
              0.3333333333333333,
              "#9c179e"
             ],
             [
              0.4444444444444444,
              "#bd3786"
             ],
             [
              0.5555555555555556,
              "#d8576b"
             ],
             [
              0.6666666666666666,
              "#ed7953"
             ],
             [
              0.7777777777777778,
              "#fb9f3a"
             ],
             [
              0.8888888888888888,
              "#fdca26"
             ],
             [
              1,
              "#f0f921"
             ]
            ],
            "type": "heatmapgl"
           }
          ],
          "histogram": [
           {
            "marker": {
             "pattern": {
              "fillmode": "overlay",
              "size": 10,
              "solidity": 0.2
             }
            },
            "type": "histogram"
           }
          ],
          "histogram2d": [
           {
            "colorbar": {
             "outlinewidth": 0,
             "ticks": ""
            },
            "colorscale": [
             [
              0,
              "#0d0887"
             ],
             [
              0.1111111111111111,
              "#46039f"
             ],
             [
              0.2222222222222222,
              "#7201a8"
             ],
             [
              0.3333333333333333,
              "#9c179e"
             ],
             [
              0.4444444444444444,
              "#bd3786"
             ],
             [
              0.5555555555555556,
              "#d8576b"
             ],
             [
              0.6666666666666666,
              "#ed7953"
             ],
             [
              0.7777777777777778,
              "#fb9f3a"
             ],
             [
              0.8888888888888888,
              "#fdca26"
             ],
             [
              1,
              "#f0f921"
             ]
            ],
            "type": "histogram2d"
           }
          ],
          "histogram2dcontour": [
           {
            "colorbar": {
             "outlinewidth": 0,
             "ticks": ""
            },
            "colorscale": [
             [
              0,
              "#0d0887"
             ],
             [
              0.1111111111111111,
              "#46039f"
             ],
             [
              0.2222222222222222,
              "#7201a8"
             ],
             [
              0.3333333333333333,
              "#9c179e"
             ],
             [
              0.4444444444444444,
              "#bd3786"
             ],
             [
              0.5555555555555556,
              "#d8576b"
             ],
             [
              0.6666666666666666,
              "#ed7953"
             ],
             [
              0.7777777777777778,
              "#fb9f3a"
             ],
             [
              0.8888888888888888,
              "#fdca26"
             ],
             [
              1,
              "#f0f921"
             ]
            ],
            "type": "histogram2dcontour"
           }
          ],
          "mesh3d": [
           {
            "colorbar": {
             "outlinewidth": 0,
             "ticks": ""
            },
            "type": "mesh3d"
           }
          ],
          "parcoords": [
           {
            "line": {
             "colorbar": {
              "outlinewidth": 0,
              "ticks": ""
             }
            },
            "type": "parcoords"
           }
          ],
          "pie": [
           {
            "automargin": true,
            "type": "pie"
           }
          ],
          "scatter": [
           {
            "marker": {
             "colorbar": {
              "outlinewidth": 0,
              "ticks": ""
             }
            },
            "type": "scatter"
           }
          ],
          "scatter3d": [
           {
            "line": {
             "colorbar": {
              "outlinewidth": 0,
              "ticks": ""
             }
            },
            "marker": {
             "colorbar": {
              "outlinewidth": 0,
              "ticks": ""
             }
            },
            "type": "scatter3d"
           }
          ],
          "scattercarpet": [
           {
            "marker": {
             "colorbar": {
              "outlinewidth": 0,
              "ticks": ""
             }
            },
            "type": "scattercarpet"
           }
          ],
          "scattergeo": [
           {
            "marker": {
             "colorbar": {
              "outlinewidth": 0,
              "ticks": ""
             }
            },
            "type": "scattergeo"
           }
          ],
          "scattergl": [
           {
            "marker": {
             "colorbar": {
              "outlinewidth": 0,
              "ticks": ""
             }
            },
            "type": "scattergl"
           }
          ],
          "scattermapbox": [
           {
            "marker": {
             "colorbar": {
              "outlinewidth": 0,
              "ticks": ""
             }
            },
            "type": "scattermapbox"
           }
          ],
          "scatterpolar": [
           {
            "marker": {
             "colorbar": {
              "outlinewidth": 0,
              "ticks": ""
             }
            },
            "type": "scatterpolar"
           }
          ],
          "scatterpolargl": [
           {
            "marker": {
             "colorbar": {
              "outlinewidth": 0,
              "ticks": ""
             }
            },
            "type": "scatterpolargl"
           }
          ],
          "scatterternary": [
           {
            "marker": {
             "colorbar": {
              "outlinewidth": 0,
              "ticks": ""
             }
            },
            "type": "scatterternary"
           }
          ],
          "surface": [
           {
            "colorbar": {
             "outlinewidth": 0,
             "ticks": ""
            },
            "colorscale": [
             [
              0,
              "#0d0887"
             ],
             [
              0.1111111111111111,
              "#46039f"
             ],
             [
              0.2222222222222222,
              "#7201a8"
             ],
             [
              0.3333333333333333,
              "#9c179e"
             ],
             [
              0.4444444444444444,
              "#bd3786"
             ],
             [
              0.5555555555555556,
              "#d8576b"
             ],
             [
              0.6666666666666666,
              "#ed7953"
             ],
             [
              0.7777777777777778,
              "#fb9f3a"
             ],
             [
              0.8888888888888888,
              "#fdca26"
             ],
             [
              1,
              "#f0f921"
             ]
            ],
            "type": "surface"
           }
          ],
          "table": [
           {
            "cells": {
             "fill": {
              "color": "#EBF0F8"
             },
             "line": {
              "color": "white"
             }
            },
            "header": {
             "fill": {
              "color": "#C8D4E3"
             },
             "line": {
              "color": "white"
             }
            },
            "type": "table"
           }
          ]
         },
         "layout": {
          "annotationdefaults": {
           "arrowcolor": "#2a3f5f",
           "arrowhead": 0,
           "arrowwidth": 1
          },
          "autotypenumbers": "strict",
          "coloraxis": {
           "colorbar": {
            "outlinewidth": 0,
            "ticks": ""
           }
          },
          "colorscale": {
           "diverging": [
            [
             0,
             "#8e0152"
            ],
            [
             0.1,
             "#c51b7d"
            ],
            [
             0.2,
             "#de77ae"
            ],
            [
             0.3,
             "#f1b6da"
            ],
            [
             0.4,
             "#fde0ef"
            ],
            [
             0.5,
             "#f7f7f7"
            ],
            [
             0.6,
             "#e6f5d0"
            ],
            [
             0.7,
             "#b8e186"
            ],
            [
             0.8,
             "#7fbc41"
            ],
            [
             0.9,
             "#4d9221"
            ],
            [
             1,
             "#276419"
            ]
           ],
           "sequential": [
            [
             0,
             "#0d0887"
            ],
            [
             0.1111111111111111,
             "#46039f"
            ],
            [
             0.2222222222222222,
             "#7201a8"
            ],
            [
             0.3333333333333333,
             "#9c179e"
            ],
            [
             0.4444444444444444,
             "#bd3786"
            ],
            [
             0.5555555555555556,
             "#d8576b"
            ],
            [
             0.6666666666666666,
             "#ed7953"
            ],
            [
             0.7777777777777778,
             "#fb9f3a"
            ],
            [
             0.8888888888888888,
             "#fdca26"
            ],
            [
             1,
             "#f0f921"
            ]
           ],
           "sequentialminus": [
            [
             0,
             "#0d0887"
            ],
            [
             0.1111111111111111,
             "#46039f"
            ],
            [
             0.2222222222222222,
             "#7201a8"
            ],
            [
             0.3333333333333333,
             "#9c179e"
            ],
            [
             0.4444444444444444,
             "#bd3786"
            ],
            [
             0.5555555555555556,
             "#d8576b"
            ],
            [
             0.6666666666666666,
             "#ed7953"
            ],
            [
             0.7777777777777778,
             "#fb9f3a"
            ],
            [
             0.8888888888888888,
             "#fdca26"
            ],
            [
             1,
             "#f0f921"
            ]
           ]
          },
          "colorway": [
           "#636efa",
           "#EF553B",
           "#00cc96",
           "#ab63fa",
           "#FFA15A",
           "#19d3f3",
           "#FF6692",
           "#B6E880",
           "#FF97FF",
           "#FECB52"
          ],
          "font": {
           "color": "#2a3f5f"
          },
          "geo": {
           "bgcolor": "white",
           "lakecolor": "white",
           "landcolor": "#E5ECF6",
           "showlakes": true,
           "showland": true,
           "subunitcolor": "white"
          },
          "hoverlabel": {
           "align": "left"
          },
          "hovermode": "closest",
          "mapbox": {
           "style": "light"
          },
          "paper_bgcolor": "white",
          "plot_bgcolor": "#E5ECF6",
          "polar": {
           "angularaxis": {
            "gridcolor": "white",
            "linecolor": "white",
            "ticks": ""
           },
           "bgcolor": "#E5ECF6",
           "radialaxis": {
            "gridcolor": "white",
            "linecolor": "white",
            "ticks": ""
           }
          },
          "scene": {
           "xaxis": {
            "backgroundcolor": "#E5ECF6",
            "gridcolor": "white",
            "gridwidth": 2,
            "linecolor": "white",
            "showbackground": true,
            "ticks": "",
            "zerolinecolor": "white"
           },
           "yaxis": {
            "backgroundcolor": "#E5ECF6",
            "gridcolor": "white",
            "gridwidth": 2,
            "linecolor": "white",
            "showbackground": true,
            "ticks": "",
            "zerolinecolor": "white"
           },
           "zaxis": {
            "backgroundcolor": "#E5ECF6",
            "gridcolor": "white",
            "gridwidth": 2,
            "linecolor": "white",
            "showbackground": true,
            "ticks": "",
            "zerolinecolor": "white"
           }
          },
          "shapedefaults": {
           "line": {
            "color": "#2a3f5f"
           }
          },
          "ternary": {
           "aaxis": {
            "gridcolor": "white",
            "linecolor": "white",
            "ticks": ""
           },
           "baxis": {
            "gridcolor": "white",
            "linecolor": "white",
            "ticks": ""
           },
           "bgcolor": "#E5ECF6",
           "caxis": {
            "gridcolor": "white",
            "linecolor": "white",
            "ticks": ""
           }
          },
          "title": {
           "x": 0.05
          },
          "xaxis": {
           "automargin": true,
           "gridcolor": "white",
           "linecolor": "white",
           "ticks": "",
           "title": {
            "standoff": 15
           },
           "zerolinecolor": "white",
           "zerolinewidth": 2
          },
          "yaxis": {
           "automargin": true,
           "gridcolor": "white",
           "linecolor": "white",
           "ticks": "",
           "title": {
            "standoff": 15
           },
           "zerolinecolor": "white",
           "zerolinewidth": 2
          }
         }
        },
        "title": {
         "text": "자연재해 종류와 그에 따른 인명피해(1900~2019)"
        },
        "xaxis": {
         "anchor": "y",
         "domain": [
          0,
          1
         ],
         "title": {
          "text": "Year"
         }
        },
        "yaxis": {
         "anchor": "x",
         "domain": [
          0,
          1
         ],
         "title": {
          "text": "Death"
         }
        }
       }
      },
      "text/html": [
       "<div>                            <div id=\"f652150e-bf17-4cb8-a908-1553b42166ca\" class=\"plotly-graph-div\" style=\"height:525px; width:100%;\"></div>            <script type=\"text/javascript\">                require([\"plotly\"], function(Plotly) {                    window.PLOTLYENV=window.PLOTLYENV || {};                                    if (document.getElementById(\"f652150e-bf17-4cb8-a908-1553b42166ca\")) {                    Plotly.newPlot(                        \"f652150e-bf17-4cb8-a908-1553b42166ca\",                        [{\"hovertemplate\":\"<b>%{hovertext}</b><br><br>Entity=Drought<br>Year=%{x}<br>Death=%{y}<extra></extra>\",\"hovertext\":[\"Drought\",\"Drought\",\"Drought\",\"Drought\",\"Drought\",\"Drought\",\"Drought\",\"Drought\",\"Drought\",\"Drought\",\"Drought\",\"Drought\",\"Drought\",\"Drought\",\"Drought\",\"Drought\",\"Drought\",\"Drought\",\"Drought\",\"Drought\",\"Drought\",\"Drought\",\"Drought\",\"Drought\",\"Drought\",\"Drought\",\"Drought\",\"Drought\",\"Drought\",\"Drought\",\"Drought\",\"Drought\",\"Drought\",\"Drought\",\"Drought\",\"Drought\",\"Drought\",\"Drought\",\"Drought\",\"Drought\",\"Drought\",\"Drought\"],\"legendgroup\":\"Drought\",\"line\":{\"color\":\"#636efa\",\"dash\":\"solid\"},\"mode\":\"lines\",\"name\":\"Drought\",\"orientation\":\"v\",\"showlegend\":true,\"type\":\"scatter\",\"x\":[1900,1910,1920,1921,1928,1940,1942,1943,1946,1964,1965,1966,1967,1973,1974,1978,1979,1981,1982,1983,1984,1986,1987,1988,1989,1991,1997,1998,1999,2000,2001,2002,2003,2004,2005,2006,2008,2010,2015,2017,2018,2019],\"xaxis\":\"x\",\"y\":[1261000,85000,524000,1200000,3000000,20000,1500000,1900000,30000,50,1502000,8000,600,100000,19000,63,18,103000,280,450520,230,84,1317,1600,237,2000,732,20,361,80,99,588,9,80,149,134,8,20000,35,0,0,77],\"yaxis\":\"y\"},{\"hovertemplate\":\"<b>%{hovertext}</b><br><br>Entity=Earthquake<br>Year=%{x}<br>Death=%{y}<extra></extra>\",\"hovertext\":[\"Earthquake\",\"Earthquake\",\"Earthquake\",\"Earthquake\",\"Earthquake\",\"Earthquake\",\"Earthquake\",\"Earthquake\",\"Earthquake\",\"Earthquake\",\"Earthquake\",\"Earthquake\",\"Earthquake\",\"Earthquake\",\"Earthquake\",\"Earthquake\",\"Earthquake\",\"Earthquake\",\"Earthquake\",\"Earthquake\",\"Earthquake\",\"Earthquake\",\"Earthquake\",\"Earthquake\",\"Earthquake\",\"Earthquake\",\"Earthquake\",\"Earthquake\",\"Earthquake\",\"Earthquake\",\"Earthquake\",\"Earthquake\",\"Earthquake\",\"Earthquake\",\"Earthquake\",\"Earthquake\",\"Earthquake\",\"Earthquake\",\"Earthquake\",\"Earthquake\",\"Earthquake\",\"Earthquake\",\"Earthquake\",\"Earthquake\",\"Earthquake\",\"Earthquake\",\"Earthquake\",\"Earthquake\",\"Earthquake\",\"Earthquake\",\"Earthquake\",\"Earthquake\",\"Earthquake\",\"Earthquake\",\"Earthquake\",\"Earthquake\",\"Earthquake\",\"Earthquake\",\"Earthquake\",\"Earthquake\",\"Earthquake\",\"Earthquake\",\"Earthquake\",\"Earthquake\",\"Earthquake\",\"Earthquake\",\"Earthquake\",\"Earthquake\",\"Earthquake\",\"Earthquake\",\"Earthquake\",\"Earthquake\",\"Earthquake\",\"Earthquake\",\"Earthquake\",\"Earthquake\",\"Earthquake\",\"Earthquake\",\"Earthquake\",\"Earthquake\",\"Earthquake\",\"Earthquake\",\"Earthquake\",\"Earthquake\",\"Earthquake\",\"Earthquake\",\"Earthquake\",\"Earthquake\",\"Earthquake\",\"Earthquake\",\"Earthquake\",\"Earthquake\",\"Earthquake\",\"Earthquake\",\"Earthquake\",\"Earthquake\",\"Earthquake\",\"Earthquake\",\"Earthquake\",\"Earthquake\",\"Earthquake\",\"Earthquake\",\"Earthquake\",\"Earthquake\",\"Earthquake\",\"Earthquake\",\"Earthquake\",\"Earthquake\",\"Earthquake\",\"Earthquake\",\"Earthquake\",\"Earthquake\",\"Earthquake\"],\"legendgroup\":\"Earthquake\",\"line\":{\"color\":\"#EF553B\",\"dash\":\"solid\"},\"mode\":\"lines\",\"name\":\"Earthquake\",\"orientation\":\"v\",\"showlegend\":true,\"type\":\"scatter\",\"x\":[1901,1902,1903,1905,1906,1907,1908,1909,1910,1912,1913,1914,1915,1917,1918,1920,1922,1923,1924,1925,1926,1927,1928,1929,1930,1931,1932,1933,1934,1935,1936,1938,1939,1940,1941,1942,1943,1944,1945,1946,1947,1948,1949,1950,1951,1952,1953,1954,1955,1956,1957,1958,1959,1960,1961,1962,1963,1964,1965,1966,1967,1968,1969,1970,1971,1972,1973,1974,1975,1976,1977,1978,1979,1980,1981,1982,1983,1984,1985,1986,1987,1988,1989,1990,1991,1992,1993,1994,1995,1996,1997,1998,1999,2000,2001,2002,2003,2004,2005,2006,2007,2008,2009,2010,2011,2012,2013,2014,2015,2016,2017,2018,2019],\"xaxis\":\"x\",\"y\":[18,6747,6000,22500,31966,25641,75000,5146,1762,923,150,149,29986,19450,10379,180000,1100,152362,767,5013,12,206142,635,3317,5081,1537,70006,16180,15496,66110,26,166,63094,1275,189,7235,4332,14984,5961,5153,633,115618,6486,1833,1554,2432,2717,3344,959,763,6993,227,103,19395,60,12209,1700,335,683,2752,1013,10858,3353,78599,1107,15170,552,24808,12632,276994,3098,25162,2100,7730,4206,2120,2148,57,9853,1181,5160,27049,650,42853,2454,4033,10088,1242,7739,576,3159,9573,21869,217,21348,1639,29617,227290,76241,6692,780,87918,1893,226733,20946,711,1120,774,9550,1311,861,4321,259],\"yaxis\":\"y\"},{\"hovertemplate\":\"<b>%{hovertext}</b><br><br>Entity=Extreme temperature<br>Year=%{x}<br>Death=%{y}<extra></extra>\",\"hovertext\":[\"Extreme temperature\",\"Extreme temperature\",\"Extreme temperature\",\"Extreme temperature\",\"Extreme temperature\",\"Extreme temperature\",\"Extreme temperature\",\"Extreme temperature\",\"Extreme temperature\",\"Extreme temperature\",\"Extreme temperature\",\"Extreme temperature\",\"Extreme temperature\",\"Extreme temperature\",\"Extreme temperature\",\"Extreme temperature\",\"Extreme temperature\",\"Extreme temperature\",\"Extreme temperature\",\"Extreme temperature\",\"Extreme temperature\",\"Extreme temperature\",\"Extreme temperature\",\"Extreme temperature\",\"Extreme temperature\",\"Extreme temperature\",\"Extreme temperature\",\"Extreme temperature\",\"Extreme temperature\",\"Extreme temperature\",\"Extreme temperature\",\"Extreme temperature\",\"Extreme temperature\",\"Extreme temperature\",\"Extreme temperature\",\"Extreme temperature\",\"Extreme temperature\",\"Extreme temperature\",\"Extreme temperature\",\"Extreme temperature\",\"Extreme temperature\",\"Extreme temperature\",\"Extreme temperature\",\"Extreme temperature\",\"Extreme temperature\",\"Extreme temperature\",\"Extreme temperature\",\"Extreme temperature\",\"Extreme temperature\",\"Extreme temperature\",\"Extreme temperature\",\"Extreme temperature\",\"Extreme temperature\",\"Extreme temperature\",\"Extreme temperature\",\"Extreme temperature\",\"Extreme temperature\"],\"legendgroup\":\"Extreme temperature\",\"line\":{\"color\":\"#00cc96\",\"dash\":\"solid\"},\"mode\":\"lines\",\"name\":\"Extreme temperature\",\"orientation\":\"v\",\"showlegend\":true,\"type\":\"scatter\",\"x\":[1936,1951,1953,1955,1958,1961,1962,1963,1965,1966,1968,1971,1972,1973,1975,1978,1979,1980,1981,1982,1983,1984,1985,1986,1987,1988,1989,1990,1991,1992,1993,1994,1995,1996,1997,1998,1999,2000,2001,2002,2003,2004,2005,2006,2007,2008,2009,2010,2011,2012,2013,2014,2015,2016,2017,2018,2019],\"xaxis\":\"x\",\"y\":[1693,69,669,107,651,400,50,162,100,262,153,400,110,283,140,150,470,1389,300,400,205,290,456,50,1220,644,381,979,835,388,106,341,1730,300,604,3269,771,941,1787,3369,74698,255,1550,4826,1086,1688,1386,57188,435,1834,1821,1168,7425,490,133,536,2908],\"yaxis\":\"y\"},{\"hovertemplate\":\"<b>%{hovertext}</b><br><br>Entity=Extreme weather<br>Year=%{x}<br>Death=%{y}<extra></extra>\",\"hovertext\":[\"Extreme weather\",\"Extreme weather\",\"Extreme weather\",\"Extreme weather\",\"Extreme weather\",\"Extreme weather\",\"Extreme weather\",\"Extreme weather\",\"Extreme weather\",\"Extreme weather\",\"Extreme weather\",\"Extreme weather\",\"Extreme weather\",\"Extreme weather\",\"Extreme weather\",\"Extreme weather\",\"Extreme weather\",\"Extreme weather\",\"Extreme weather\",\"Extreme weather\",\"Extreme weather\",\"Extreme weather\",\"Extreme weather\",\"Extreme weather\",\"Extreme weather\",\"Extreme weather\",\"Extreme weather\",\"Extreme weather\",\"Extreme weather\",\"Extreme weather\",\"Extreme weather\",\"Extreme weather\",\"Extreme weather\",\"Extreme weather\",\"Extreme weather\",\"Extreme weather\",\"Extreme weather\",\"Extreme weather\",\"Extreme weather\",\"Extreme weather\",\"Extreme weather\",\"Extreme weather\",\"Extreme weather\",\"Extreme weather\",\"Extreme weather\",\"Extreme weather\",\"Extreme weather\",\"Extreme weather\",\"Extreme weather\",\"Extreme weather\",\"Extreme weather\",\"Extreme weather\",\"Extreme weather\",\"Extreme weather\",\"Extreme weather\",\"Extreme weather\",\"Extreme weather\",\"Extreme weather\",\"Extreme weather\",\"Extreme weather\",\"Extreme weather\",\"Extreme weather\",\"Extreme weather\",\"Extreme weather\",\"Extreme weather\",\"Extreme weather\",\"Extreme weather\",\"Extreme weather\",\"Extreme weather\",\"Extreme weather\",\"Extreme weather\",\"Extreme weather\",\"Extreme weather\",\"Extreme weather\",\"Extreme weather\",\"Extreme weather\",\"Extreme weather\",\"Extreme weather\",\"Extreme weather\",\"Extreme weather\",\"Extreme weather\",\"Extreme weather\",\"Extreme weather\",\"Extreme weather\",\"Extreme weather\",\"Extreme weather\",\"Extreme weather\",\"Extreme weather\",\"Extreme weather\",\"Extreme weather\",\"Extreme weather\",\"Extreme weather\",\"Extreme weather\",\"Extreme weather\",\"Extreme weather\",\"Extreme weather\",\"Extreme weather\",\"Extreme weather\",\"Extreme weather\",\"Extreme weather\",\"Extreme weather\",\"Extreme weather\",\"Extreme weather\",\"Extreme weather\",\"Extreme weather\",\"Extreme weather\",\"Extreme weather\",\"Extreme weather\",\"Extreme weather\",\"Extreme weather\",\"Extreme weather\",\"Extreme weather\",\"Extreme weather\"],\"legendgroup\":\"Extreme weather\",\"line\":{\"color\":\"#ab63fa\",\"dash\":\"solid\"},\"mode\":\"lines\",\"name\":\"Extreme weather\",\"orientation\":\"v\",\"showlegend\":true,\"type\":\"scatter\",\"x\":[1900,1902,1903,1905,1906,1909,1910,1911,1912,1913,1915,1916,1917,1918,1919,1920,1922,1923,1924,1925,1926,1927,1928,1930,1931,1932,1933,1934,1935,1936,1937,1938,1939,1940,1941,1942,1943,1944,1945,1946,1947,1948,1949,1950,1951,1952,1953,1954,1955,1956,1957,1958,1959,1960,1961,1962,1963,1964,1965,1966,1967,1968,1969,1970,1971,1972,1973,1974,1975,1976,1977,1978,1979,1980,1981,1982,1983,1984,1985,1986,1987,1988,1989,1990,1991,1992,1993,1994,1995,1996,1997,1998,1999,2000,2001,2002,2003,2004,2005,2006,2007,2008,2009,2010,2011,2012,2013,2014,2015,2016,2017,2018,2019],\"xaxis\":\"x\",\"y\":[6000,600,163,240,10298,713,30,1000,51170,732,2125,300,4057,34,500,224,100000,3139,2242,819,3568,5772,4224,4082,3200,3244,63,5091,62707,3309,11231,905,3,123,5006,101000,5000,726,4415,337,4738,2971,2804,873,2861,6277,1814,2969,3895,3114,1139,2620,9695,9164,12852,1860,29965,10655,59932,2327,2255,1669,3252,304495,10811,1427,4344,11861,1041,1763,15298,3676,2623,1379,3790,2782,3656,5468,17165,1939,2900,3335,4256,4604,146297,1342,2965,4239,3763,4581,6150,24935,12270,1354,1911,1382,1049,6547,5251,4329,6035,140985,3287,1564,3103,3105,8603,1424,1270,1760,1014,1666,2519],\"yaxis\":\"y\"},{\"hovertemplate\":\"<b>%{hovertext}</b><br><br>Entity=Flood<br>Year=%{x}<br>Death=%{y}<extra></extra>\",\"hovertext\":[\"Flood\",\"Flood\",\"Flood\",\"Flood\",\"Flood\",\"Flood\",\"Flood\",\"Flood\",\"Flood\",\"Flood\",\"Flood\",\"Flood\",\"Flood\",\"Flood\",\"Flood\",\"Flood\",\"Flood\",\"Flood\",\"Flood\",\"Flood\",\"Flood\",\"Flood\",\"Flood\",\"Flood\",\"Flood\",\"Flood\",\"Flood\",\"Flood\",\"Flood\",\"Flood\",\"Flood\",\"Flood\",\"Flood\",\"Flood\",\"Flood\",\"Flood\",\"Flood\",\"Flood\",\"Flood\",\"Flood\",\"Flood\",\"Flood\",\"Flood\",\"Flood\",\"Flood\",\"Flood\",\"Flood\",\"Flood\",\"Flood\",\"Flood\",\"Flood\",\"Flood\",\"Flood\",\"Flood\",\"Flood\",\"Flood\",\"Flood\",\"Flood\",\"Flood\",\"Flood\",\"Flood\",\"Flood\",\"Flood\",\"Flood\",\"Flood\",\"Flood\",\"Flood\",\"Flood\",\"Flood\",\"Flood\",\"Flood\",\"Flood\",\"Flood\",\"Flood\",\"Flood\",\"Flood\",\"Flood\",\"Flood\",\"Flood\",\"Flood\",\"Flood\",\"Flood\",\"Flood\",\"Flood\",\"Flood\",\"Flood\",\"Flood\",\"Flood\",\"Flood\",\"Flood\",\"Flood\"],\"legendgroup\":\"Flood\",\"line\":{\"color\":\"#FFA15A\",\"dash\":\"solid\"},\"mode\":\"lines\",\"name\":\"Flood\",\"orientation\":\"v\",\"showlegend\":true,\"type\":\"scatter\",\"x\":[1900,1903,1906,1909,1910,1911,1926,1927,1928,1931,1933,1935,1936,1937,1938,1939,1940,1943,1947,1948,1949,1950,1951,1952,1953,1954,1955,1956,1957,1958,1959,1960,1961,1962,1963,1964,1965,1966,1967,1968,1969,1970,1971,1972,1973,1974,1975,1976,1977,1978,1979,1980,1981,1982,1983,1984,1985,1986,1987,1988,1989,1990,1991,1992,1993,1994,1995,1996,1997,1998,1999,2000,2001,2002,2003,2004,2005,2006,2007,2008,2009,2010,2011,2012,2013,2014,2015,2016,2017,2018,2019],\"xaxis\":\"x\",\"y\":[300,250,6,72,1379,100000,1000,3246,36,3700000,18053,142000,200,248,954,500010,125,990,2000,917,97000,3808,5666,199,7125,34436,584,3613,2471,400,2003396,10577,3863,1180,1031,1123,1401,1923,2446,7306,1544,3246,2404,2548,1835,29431,848,960,2568,5897,1038,10466,5283,4648,2082,2930,4376,1782,6766,8504,4716,2251,5852,5315,6150,6771,7956,8047,7685,10653,34807,6025,5014,4236,3910,6982,5754,5843,8607,4007,3627,8356,6163,3544,9836,3532,3495,4720,3086,2869,5100],\"yaxis\":\"y\"},{\"hovertemplate\":\"<b>%{hovertext}</b><br><br>Entity=Landslide<br>Year=%{x}<br>Death=%{y}<extra></extra>\",\"hovertext\":[\"Landslide\",\"Landslide\",\"Landslide\",\"Landslide\",\"Landslide\",\"Landslide\",\"Landslide\",\"Landslide\",\"Landslide\",\"Landslide\",\"Landslide\",\"Landslide\",\"Landslide\",\"Landslide\",\"Landslide\",\"Landslide\",\"Landslide\",\"Landslide\",\"Landslide\",\"Landslide\",\"Landslide\",\"Landslide\",\"Landslide\",\"Landslide\",\"Landslide\",\"Landslide\",\"Landslide\",\"Landslide\",\"Landslide\",\"Landslide\",\"Landslide\",\"Landslide\",\"Landslide\",\"Landslide\",\"Landslide\",\"Landslide\",\"Landslide\",\"Landslide\",\"Landslide\",\"Landslide\",\"Landslide\",\"Landslide\",\"Landslide\",\"Landslide\",\"Landslide\",\"Landslide\",\"Landslide\",\"Landslide\",\"Landslide\",\"Landslide\",\"Landslide\",\"Landslide\",\"Landslide\",\"Landslide\",\"Landslide\",\"Landslide\",\"Landslide\",\"Landslide\",\"Landslide\",\"Landslide\",\"Landslide\",\"Landslide\",\"Landslide\",\"Landslide\",\"Landslide\",\"Landslide\",\"Landslide\",\"Landslide\",\"Landslide\",\"Landslide\",\"Landslide\",\"Landslide\",\"Landslide\",\"Landslide\",\"Landslide\",\"Landslide\",\"Landslide\",\"Landslide\",\"Landslide\",\"Landslide\",\"Landslide\"],\"legendgroup\":\"Landslide\",\"line\":{\"color\":\"#19d3f3\",\"dash\":\"solid\"},\"mode\":\"lines\",\"name\":\"Landslide\",\"orientation\":\"v\",\"showlegend\":true,\"type\":\"scatter\",\"x\":[1909,1922,1923,1926,1930,1931,1932,1934,1936,1938,1941,1948,1949,1950,1951,1952,1954,1955,1956,1958,1959,1960,1961,1962,1963,1964,1965,1966,1967,1968,1969,1970,1971,1972,1973,1974,1975,1976,1977,1978,1979,1980,1981,1982,1983,1984,1985,1986,1987,1988,1989,1990,1991,1992,1993,1994,1995,1996,1997,1998,1999,2000,2001,2002,2003,2004,2005,2006,2007,2008,2009,2010,2011,2012,2013,2014,2015,2016,2017,2018,2019],\"xaxis\":\"x\",\"y\":[53,100,200,128,40,190,30,500,73,200,5000,525,12000,130,92,28,1086,478,236,52,48,52,166,71,2033,108,204,604,590,1196,18,186,1020,755,3541,904,195,315,40,86,338,300,421,640,1159,228,377,501,1204,952,445,98,728,712,1418,307,1521,1155,801,1141,445,1012,786,1100,706,313,664,1638,271,504,723,3427,309,501,235,943,1006,361,2080,275,719],\"yaxis\":\"y\"},{\"hovertemplate\":\"<b>%{hovertext}</b><br><br>Entity=Mass movement (dry)<br>Year=%{x}<br>Death=%{y}<extra></extra>\",\"hovertext\":[\"Mass movement (dry)\",\"Mass movement (dry)\",\"Mass movement (dry)\",\"Mass movement (dry)\",\"Mass movement (dry)\",\"Mass movement (dry)\",\"Mass movement (dry)\",\"Mass movement (dry)\",\"Mass movement (dry)\",\"Mass movement (dry)\",\"Mass movement (dry)\",\"Mass movement (dry)\",\"Mass movement (dry)\",\"Mass movement (dry)\",\"Mass movement (dry)\",\"Mass movement (dry)\",\"Mass movement (dry)\",\"Mass movement (dry)\",\"Mass movement (dry)\",\"Mass movement (dry)\",\"Mass movement (dry)\",\"Mass movement (dry)\",\"Mass movement (dry)\",\"Mass movement (dry)\",\"Mass movement (dry)\",\"Mass movement (dry)\",\"Mass movement (dry)\",\"Mass movement (dry)\",\"Mass movement (dry)\",\"Mass movement (dry)\",\"Mass movement (dry)\",\"Mass movement (dry)\",\"Mass movement (dry)\"],\"legendgroup\":\"Mass movement (dry)\",\"line\":{\"color\":\"#FF6692\",\"dash\":\"solid\"},\"mode\":\"lines\",\"name\":\"Mass movement (dry)\",\"orientation\":\"v\",\"showlegend\":true,\"type\":\"scatter\",\"x\":[1903,1905,1908,1910,1915,1937,1955,1962,1963,1965,1970,1971,1980,1982,1983,1985,1987,1988,1989,1990,1991,1992,1993,2000,2002,2004,2006,2008,2009,2012,2013,2015,2018],\"xaxis\":\"x\",\"y\":[76,18,33,62,56,40,3,2000,150,26,42,31,50,59,466,300,183,157,55,116,86,323,341,11,60,44,11,120,36,16,46,13,17],\"yaxis\":\"y\"},{\"hovertemplate\":\"<b>%{hovertext}</b><br><br>Entity=Volcanic activity<br>Year=%{x}<br>Death=%{y}<extra></extra>\",\"hovertext\":[\"Volcanic activity\",\"Volcanic activity\",\"Volcanic activity\",\"Volcanic activity\",\"Volcanic activity\",\"Volcanic activity\",\"Volcanic activity\",\"Volcanic activity\",\"Volcanic activity\",\"Volcanic activity\",\"Volcanic activity\",\"Volcanic activity\",\"Volcanic activity\",\"Volcanic activity\",\"Volcanic activity\",\"Volcanic activity\",\"Volcanic activity\",\"Volcanic activity\",\"Volcanic activity\",\"Volcanic activity\",\"Volcanic activity\",\"Volcanic activity\",\"Volcanic activity\",\"Volcanic activity\",\"Volcanic activity\",\"Volcanic activity\",\"Volcanic activity\",\"Volcanic activity\",\"Volcanic activity\",\"Volcanic activity\",\"Volcanic activity\",\"Volcanic activity\",\"Volcanic activity\",\"Volcanic activity\",\"Volcanic activity\",\"Volcanic activity\",\"Volcanic activity\",\"Volcanic activity\",\"Volcanic activity\",\"Volcanic activity\",\"Volcanic activity\",\"Volcanic activity\",\"Volcanic activity\",\"Volcanic activity\",\"Volcanic activity\",\"Volcanic activity\",\"Volcanic activity\",\"Volcanic activity\",\"Volcanic activity\",\"Volcanic activity\",\"Volcanic activity\",\"Volcanic activity\",\"Volcanic activity\",\"Volcanic activity\",\"Volcanic activity\",\"Volcanic activity\"],\"legendgroup\":\"Volcanic activity\",\"line\":{\"color\":\"#B6E880\",\"dash\":\"solid\"},\"mode\":\"lines\",\"name\":\"Volcanic activity\",\"orientation\":\"v\",\"showlegend\":true,\"type\":\"scatter\",\"x\":[1900,1902,1903,1906,1909,1911,1914,1919,1926,1929,1930,1931,1937,1944,1948,1949,1950,1951,1952,1953,1954,1963,1964,1965,1966,1968,1975,1976,1977,1979,1980,1981,1982,1984,1985,1986,1988,1990,1991,1992,1993,1994,1996,1997,2002,2004,2005,2006,2007,2008,2010,2011,2014,2017,2018,2019],\"xaxis\":\"x\",\"y\":[30,38690,17,700,5500,1335,140,5000,144,5000,1369,1300,506,26,100,2000,84,4800,29,150,37,1705,4,355,1088,90,2,41,215,268,90,192,130,37,21800,1746,7,33,683,1,99,101,4,53,200,2,3,5,11,16,323,3,102,0,878,21],\"yaxis\":\"y\"},{\"hovertemplate\":\"<b>%{hovertext}</b><br><br>Entity=Wildfire<br>Year=%{x}<br>Death=%{y}<extra></extra>\",\"hovertext\":[\"Wildfire\",\"Wildfire\",\"Wildfire\",\"Wildfire\",\"Wildfire\",\"Wildfire\",\"Wildfire\",\"Wildfire\",\"Wildfire\",\"Wildfire\",\"Wildfire\",\"Wildfire\",\"Wildfire\",\"Wildfire\",\"Wildfire\",\"Wildfire\",\"Wildfire\",\"Wildfire\",\"Wildfire\",\"Wildfire\",\"Wildfire\",\"Wildfire\",\"Wildfire\",\"Wildfire\",\"Wildfire\",\"Wildfire\",\"Wildfire\",\"Wildfire\",\"Wildfire\",\"Wildfire\",\"Wildfire\",\"Wildfire\",\"Wildfire\",\"Wildfire\",\"Wildfire\",\"Wildfire\",\"Wildfire\",\"Wildfire\",\"Wildfire\",\"Wildfire\",\"Wildfire\",\"Wildfire\",\"Wildfire\",\"Wildfire\",\"Wildfire\",\"Wildfire\",\"Wildfire\",\"Wildfire\",\"Wildfire\",\"Wildfire\"],\"legendgroup\":\"Wildfire\",\"line\":{\"color\":\"#FF97FF\",\"dash\":\"solid\"},\"mode\":\"lines\",\"name\":\"Wildfire\",\"orientation\":\"v\",\"showlegend\":true,\"type\":\"scatter\",\"x\":[1911,1918,1922,1929,1939,1944,1949,1956,1966,1967,1968,1977,1978,1981,1982,1983,1984,1985,1986,1987,1989,1991,1992,1993,1994,1995,1996,1997,1998,1999,2000,2001,2002,2003,2004,2005,2006,2007,2008,2009,2010,2011,2012,2013,2014,2015,2016,2017,2018,2019],\"xaxis\":\"x\",\"y\":[73,1000,43,60,71,170,80,11,25,62,12,3,2,8,2,106,17,51,20,191,1,90,122,3,84,29,45,266,150,70,47,33,6,47,14,45,13,148,86,190,166,10,21,35,16,67,39,167,247,116],\"yaxis\":\"y\"}],                        {\"legend\":{\"title\":{\"text\":\"Entity\"},\"tracegroupgap\":0},\"template\":{\"data\":{\"bar\":[{\"error_x\":{\"color\":\"#2a3f5f\"},\"error_y\":{\"color\":\"#2a3f5f\"},\"marker\":{\"line\":{\"color\":\"#E5ECF6\",\"width\":0.5},\"pattern\":{\"fillmode\":\"overlay\",\"size\":10,\"solidity\":0.2}},\"type\":\"bar\"}],\"barpolar\":[{\"marker\":{\"line\":{\"color\":\"#E5ECF6\",\"width\":0.5},\"pattern\":{\"fillmode\":\"overlay\",\"size\":10,\"solidity\":0.2}},\"type\":\"barpolar\"}],\"carpet\":[{\"aaxis\":{\"endlinecolor\":\"#2a3f5f\",\"gridcolor\":\"white\",\"linecolor\":\"white\",\"minorgridcolor\":\"white\",\"startlinecolor\":\"#2a3f5f\"},\"baxis\":{\"endlinecolor\":\"#2a3f5f\",\"gridcolor\":\"white\",\"linecolor\":\"white\",\"minorgridcolor\":\"white\",\"startlinecolor\":\"#2a3f5f\"},\"type\":\"carpet\"}],\"choropleth\":[{\"colorbar\":{\"outlinewidth\":0,\"ticks\":\"\"},\"type\":\"choropleth\"}],\"contour\":[{\"colorbar\":{\"outlinewidth\":0,\"ticks\":\"\"},\"colorscale\":[[0.0,\"#0d0887\"],[0.1111111111111111,\"#46039f\"],[0.2222222222222222,\"#7201a8\"],[0.3333333333333333,\"#9c179e\"],[0.4444444444444444,\"#bd3786\"],[0.5555555555555556,\"#d8576b\"],[0.6666666666666666,\"#ed7953\"],[0.7777777777777778,\"#fb9f3a\"],[0.8888888888888888,\"#fdca26\"],[1.0,\"#f0f921\"]],\"type\":\"contour\"}],\"contourcarpet\":[{\"colorbar\":{\"outlinewidth\":0,\"ticks\":\"\"},\"type\":\"contourcarpet\"}],\"heatmap\":[{\"colorbar\":{\"outlinewidth\":0,\"ticks\":\"\"},\"colorscale\":[[0.0,\"#0d0887\"],[0.1111111111111111,\"#46039f\"],[0.2222222222222222,\"#7201a8\"],[0.3333333333333333,\"#9c179e\"],[0.4444444444444444,\"#bd3786\"],[0.5555555555555556,\"#d8576b\"],[0.6666666666666666,\"#ed7953\"],[0.7777777777777778,\"#fb9f3a\"],[0.8888888888888888,\"#fdca26\"],[1.0,\"#f0f921\"]],\"type\":\"heatmap\"}],\"heatmapgl\":[{\"colorbar\":{\"outlinewidth\":0,\"ticks\":\"\"},\"colorscale\":[[0.0,\"#0d0887\"],[0.1111111111111111,\"#46039f\"],[0.2222222222222222,\"#7201a8\"],[0.3333333333333333,\"#9c179e\"],[0.4444444444444444,\"#bd3786\"],[0.5555555555555556,\"#d8576b\"],[0.6666666666666666,\"#ed7953\"],[0.7777777777777778,\"#fb9f3a\"],[0.8888888888888888,\"#fdca26\"],[1.0,\"#f0f921\"]],\"type\":\"heatmapgl\"}],\"histogram\":[{\"marker\":{\"pattern\":{\"fillmode\":\"overlay\",\"size\":10,\"solidity\":0.2}},\"type\":\"histogram\"}],\"histogram2d\":[{\"colorbar\":{\"outlinewidth\":0,\"ticks\":\"\"},\"colorscale\":[[0.0,\"#0d0887\"],[0.1111111111111111,\"#46039f\"],[0.2222222222222222,\"#7201a8\"],[0.3333333333333333,\"#9c179e\"],[0.4444444444444444,\"#bd3786\"],[0.5555555555555556,\"#d8576b\"],[0.6666666666666666,\"#ed7953\"],[0.7777777777777778,\"#fb9f3a\"],[0.8888888888888888,\"#fdca26\"],[1.0,\"#f0f921\"]],\"type\":\"histogram2d\"}],\"histogram2dcontour\":[{\"colorbar\":{\"outlinewidth\":0,\"ticks\":\"\"},\"colorscale\":[[0.0,\"#0d0887\"],[0.1111111111111111,\"#46039f\"],[0.2222222222222222,\"#7201a8\"],[0.3333333333333333,\"#9c179e\"],[0.4444444444444444,\"#bd3786\"],[0.5555555555555556,\"#d8576b\"],[0.6666666666666666,\"#ed7953\"],[0.7777777777777778,\"#fb9f3a\"],[0.8888888888888888,\"#fdca26\"],[1.0,\"#f0f921\"]],\"type\":\"histogram2dcontour\"}],\"mesh3d\":[{\"colorbar\":{\"outlinewidth\":0,\"ticks\":\"\"},\"type\":\"mesh3d\"}],\"parcoords\":[{\"line\":{\"colorbar\":{\"outlinewidth\":0,\"ticks\":\"\"}},\"type\":\"parcoords\"}],\"pie\":[{\"automargin\":true,\"type\":\"pie\"}],\"scatter\":[{\"marker\":{\"colorbar\":{\"outlinewidth\":0,\"ticks\":\"\"}},\"type\":\"scatter\"}],\"scatter3d\":[{\"line\":{\"colorbar\":{\"outlinewidth\":0,\"ticks\":\"\"}},\"marker\":{\"colorbar\":{\"outlinewidth\":0,\"ticks\":\"\"}},\"type\":\"scatter3d\"}],\"scattercarpet\":[{\"marker\":{\"colorbar\":{\"outlinewidth\":0,\"ticks\":\"\"}},\"type\":\"scattercarpet\"}],\"scattergeo\":[{\"marker\":{\"colorbar\":{\"outlinewidth\":0,\"ticks\":\"\"}},\"type\":\"scattergeo\"}],\"scattergl\":[{\"marker\":{\"colorbar\":{\"outlinewidth\":0,\"ticks\":\"\"}},\"type\":\"scattergl\"}],\"scattermapbox\":[{\"marker\":{\"colorbar\":{\"outlinewidth\":0,\"ticks\":\"\"}},\"type\":\"scattermapbox\"}],\"scatterpolar\":[{\"marker\":{\"colorbar\":{\"outlinewidth\":0,\"ticks\":\"\"}},\"type\":\"scatterpolar\"}],\"scatterpolargl\":[{\"marker\":{\"colorbar\":{\"outlinewidth\":0,\"ticks\":\"\"}},\"type\":\"scatterpolargl\"}],\"scatterternary\":[{\"marker\":{\"colorbar\":{\"outlinewidth\":0,\"ticks\":\"\"}},\"type\":\"scatterternary\"}],\"surface\":[{\"colorbar\":{\"outlinewidth\":0,\"ticks\":\"\"},\"colorscale\":[[0.0,\"#0d0887\"],[0.1111111111111111,\"#46039f\"],[0.2222222222222222,\"#7201a8\"],[0.3333333333333333,\"#9c179e\"],[0.4444444444444444,\"#bd3786\"],[0.5555555555555556,\"#d8576b\"],[0.6666666666666666,\"#ed7953\"],[0.7777777777777778,\"#fb9f3a\"],[0.8888888888888888,\"#fdca26\"],[1.0,\"#f0f921\"]],\"type\":\"surface\"}],\"table\":[{\"cells\":{\"fill\":{\"color\":\"#EBF0F8\"},\"line\":{\"color\":\"white\"}},\"header\":{\"fill\":{\"color\":\"#C8D4E3\"},\"line\":{\"color\":\"white\"}},\"type\":\"table\"}]},\"layout\":{\"annotationdefaults\":{\"arrowcolor\":\"#2a3f5f\",\"arrowhead\":0,\"arrowwidth\":1},\"autotypenumbers\":\"strict\",\"coloraxis\":{\"colorbar\":{\"outlinewidth\":0,\"ticks\":\"\"}},\"colorscale\":{\"diverging\":[[0,\"#8e0152\"],[0.1,\"#c51b7d\"],[0.2,\"#de77ae\"],[0.3,\"#f1b6da\"],[0.4,\"#fde0ef\"],[0.5,\"#f7f7f7\"],[0.6,\"#e6f5d0\"],[0.7,\"#b8e186\"],[0.8,\"#7fbc41\"],[0.9,\"#4d9221\"],[1,\"#276419\"]],\"sequential\":[[0.0,\"#0d0887\"],[0.1111111111111111,\"#46039f\"],[0.2222222222222222,\"#7201a8\"],[0.3333333333333333,\"#9c179e\"],[0.4444444444444444,\"#bd3786\"],[0.5555555555555556,\"#d8576b\"],[0.6666666666666666,\"#ed7953\"],[0.7777777777777778,\"#fb9f3a\"],[0.8888888888888888,\"#fdca26\"],[1.0,\"#f0f921\"]],\"sequentialminus\":[[0.0,\"#0d0887\"],[0.1111111111111111,\"#46039f\"],[0.2222222222222222,\"#7201a8\"],[0.3333333333333333,\"#9c179e\"],[0.4444444444444444,\"#bd3786\"],[0.5555555555555556,\"#d8576b\"],[0.6666666666666666,\"#ed7953\"],[0.7777777777777778,\"#fb9f3a\"],[0.8888888888888888,\"#fdca26\"],[1.0,\"#f0f921\"]]},\"colorway\":[\"#636efa\",\"#EF553B\",\"#00cc96\",\"#ab63fa\",\"#FFA15A\",\"#19d3f3\",\"#FF6692\",\"#B6E880\",\"#FF97FF\",\"#FECB52\"],\"font\":{\"color\":\"#2a3f5f\"},\"geo\":{\"bgcolor\":\"white\",\"lakecolor\":\"white\",\"landcolor\":\"#E5ECF6\",\"showlakes\":true,\"showland\":true,\"subunitcolor\":\"white\"},\"hoverlabel\":{\"align\":\"left\"},\"hovermode\":\"closest\",\"mapbox\":{\"style\":\"light\"},\"paper_bgcolor\":\"white\",\"plot_bgcolor\":\"#E5ECF6\",\"polar\":{\"angularaxis\":{\"gridcolor\":\"white\",\"linecolor\":\"white\",\"ticks\":\"\"},\"bgcolor\":\"#E5ECF6\",\"radialaxis\":{\"gridcolor\":\"white\",\"linecolor\":\"white\",\"ticks\":\"\"}},\"scene\":{\"xaxis\":{\"backgroundcolor\":\"#E5ECF6\",\"gridcolor\":\"white\",\"gridwidth\":2,\"linecolor\":\"white\",\"showbackground\":true,\"ticks\":\"\",\"zerolinecolor\":\"white\"},\"yaxis\":{\"backgroundcolor\":\"#E5ECF6\",\"gridcolor\":\"white\",\"gridwidth\":2,\"linecolor\":\"white\",\"showbackground\":true,\"ticks\":\"\",\"zerolinecolor\":\"white\"},\"zaxis\":{\"backgroundcolor\":\"#E5ECF6\",\"gridcolor\":\"white\",\"gridwidth\":2,\"linecolor\":\"white\",\"showbackground\":true,\"ticks\":\"\",\"zerolinecolor\":\"white\"}},\"shapedefaults\":{\"line\":{\"color\":\"#2a3f5f\"}},\"ternary\":{\"aaxis\":{\"gridcolor\":\"white\",\"linecolor\":\"white\",\"ticks\":\"\"},\"baxis\":{\"gridcolor\":\"white\",\"linecolor\":\"white\",\"ticks\":\"\"},\"bgcolor\":\"#E5ECF6\",\"caxis\":{\"gridcolor\":\"white\",\"linecolor\":\"white\",\"ticks\":\"\"}},\"title\":{\"x\":0.05},\"xaxis\":{\"automargin\":true,\"gridcolor\":\"white\",\"linecolor\":\"white\",\"ticks\":\"\",\"title\":{\"standoff\":15},\"zerolinecolor\":\"white\",\"zerolinewidth\":2},\"yaxis\":{\"automargin\":true,\"gridcolor\":\"white\",\"linecolor\":\"white\",\"ticks\":\"\",\"title\":{\"standoff\":15},\"zerolinecolor\":\"white\",\"zerolinewidth\":2}}},\"title\":{\"text\":\"\\uc790\\uc5f0\\uc7ac\\ud574 \\uc885\\ub958\\uc640 \\uadf8\\uc5d0 \\ub530\\ub978 \\uc778\\uba85\\ud53c\\ud574(1900~2019)\"},\"xaxis\":{\"anchor\":\"y\",\"domain\":[0.0,1.0],\"title\":{\"text\":\"Year\"}},\"yaxis\":{\"anchor\":\"x\",\"domain\":[0.0,1.0],\"title\":{\"text\":\"Death\"}}},                        {\"responsive\": true}                    ).then(function(){\n",
       "                            \n",
       "var gd = document.getElementById('f652150e-bf17-4cb8-a908-1553b42166ca');\n",
       "var x = new MutationObserver(function (mutations, observer) {{\n",
       "        var display = window.getComputedStyle(gd).display;\n",
       "        if (!display || display === 'none') {{\n",
       "            console.log([gd, 'removed!']);\n",
       "            Plotly.purge(gd);\n",
       "            observer.disconnect();\n",
       "        }}\n",
       "}});\n",
       "\n",
       "// Listen for the removal of the full notebook cells\n",
       "var notebookContainer = gd.closest('#notebook-container');\n",
       "if (notebookContainer) {{\n",
       "    x.observe(notebookContainer, {childList: true});\n",
       "}}\n",
       "\n",
       "// Listen for the clearing of the current output cell\n",
       "var outputEl = gd.closest('.output');\n",
       "if (outputEl) {{\n",
       "    x.observe(outputEl, {childList: true});\n",
       "}}\n",
       "\n",
       "                        })                };                });            </script>        </div>"
      ]
     },
     "metadata": {},
     "output_type": "display_data"
    }
   ],
   "source": [
    "fig = px.line(d1, x='Year', y='Death', color='Entity', hover_name='Entity',\n",
    "             title=\"자연재해 종류와 그에 따른 인명피해(1900~2019)\")\n",
    "fig.show()"
   ]
  },
  {
   "cell_type": "code",
   "execution_count": null,
   "metadata": {},
   "outputs": [],
   "source": []
  }
 ],
 "metadata": {
  "kernelspec": {
   "display_name": "Python 3",
   "language": "python",
   "name": "python3"
  },
  "language_info": {
   "codemirror_mode": {
    "name": "ipython",
    "version": 3
   },
   "file_extension": ".py",
   "mimetype": "text/x-python",
   "name": "python",
   "nbconvert_exporter": "python",
   "pygments_lexer": "ipython3",
   "version": "3.8.5"
  }
 },
 "nbformat": 4,
 "nbformat_minor": 5
}
