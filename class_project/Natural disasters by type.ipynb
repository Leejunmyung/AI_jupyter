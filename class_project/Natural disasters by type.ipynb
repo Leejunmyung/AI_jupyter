{
 "cells": [
  {
   "cell_type": "code",
   "execution_count": 1,
   "metadata": {},
   "outputs": [],
   "source": [
    "import plotly\n",
    "import plotly.express as px\n",
    "\n",
    "import cufflinks as cf\n",
    "import pandas as pd\n",
    "\n",
    "import numpy as np\n",
    "import sys\n",
    "import seaborn as sns\n",
    "import matplotlib\n",
    "import matplotlib.pyplot as plt\n",
    "import matplotlib.animation as animation"
   ]
  },
  {
   "cell_type": "code",
   "execution_count": 2,
   "metadata": {},
   "outputs": [
    {
     "data": {
      "text/html": [
       "        <script type=\"text/javascript\">\n",
       "        window.PlotlyConfig = {MathJaxConfig: 'local'};\n",
       "        if (window.MathJax) {MathJax.Hub.Config({SVG: {font: \"STIX-Web\"}});}\n",
       "        if (typeof require !== 'undefined') {\n",
       "        require.undef(\"plotly\");\n",
       "        requirejs.config({\n",
       "            paths: {\n",
       "                'plotly': ['https://cdn.plot.ly/plotly-2.2.0.min']\n",
       "            }\n",
       "        });\n",
       "        require(['plotly'], function(Plotly) {\n",
       "            window._Plotly = Plotly;\n",
       "        });\n",
       "        }\n",
       "        </script>\n",
       "        "
      ]
     },
     "metadata": {},
     "output_type": "display_data"
    },
    {
     "data": {
      "text/html": [
       "        <script type=\"text/javascript\">\n",
       "        window.PlotlyConfig = {MathJaxConfig: 'local'};\n",
       "        if (window.MathJax) {MathJax.Hub.Config({SVG: {font: \"STIX-Web\"}});}\n",
       "        if (typeof require !== 'undefined') {\n",
       "        require.undef(\"plotly\");\n",
       "        requirejs.config({\n",
       "            paths: {\n",
       "                'plotly': ['https://cdn.plot.ly/plotly-2.2.0.min']\n",
       "            }\n",
       "        });\n",
       "        require(['plotly'], function(Plotly) {\n",
       "            window._Plotly = Plotly;\n",
       "        });\n",
       "        }\n",
       "        </script>\n",
       "        "
      ]
     },
     "metadata": {},
     "output_type": "display_data"
    }
   ],
   "source": [
    "from plotly.offline import download_plotlyjs,init_notebook_mode,plot,iplot\n",
    "init_notebook_mode(connected=True)\n",
    "cf.go_offline()"
   ]
  },
  {
   "cell_type": "code",
   "execution_count": 3,
   "metadata": {},
   "outputs": [],
   "source": [
    "disaster = pd.read_csv(\"./자연재해빈도.csv\")"
   ]
  },
  {
   "cell_type": "code",
   "execution_count": 4,
   "metadata": {
    "scrolled": true
   },
   "outputs": [
    {
     "data": {
      "text/html": [
       "<div>\n",
       "<style scoped>\n",
       "    .dataframe tbody tr th:only-of-type {\n",
       "        vertical-align: middle;\n",
       "    }\n",
       "\n",
       "    .dataframe tbody tr th {\n",
       "        vertical-align: top;\n",
       "    }\n",
       "\n",
       "    .dataframe thead th {\n",
       "        text-align: right;\n",
       "    }\n",
       "</style>\n",
       "<table border=\"1\" class=\"dataframe\">\n",
       "  <thead>\n",
       "    <tr style=\"text-align: right;\">\n",
       "      <th></th>\n",
       "      <th>Entity</th>\n",
       "      <th>Code</th>\n",
       "      <th>Year</th>\n",
       "      <th>Number of disasters (EMDAT (2020))</th>\n",
       "    </tr>\n",
       "  </thead>\n",
       "  <tbody>\n",
       "    <tr>\n",
       "      <th>0</th>\n",
       "      <td>All natural disasters</td>\n",
       "      <td>NaN</td>\n",
       "      <td>1900</td>\n",
       "      <td>5</td>\n",
       "    </tr>\n",
       "    <tr>\n",
       "      <th>1</th>\n",
       "      <td>All natural disasters</td>\n",
       "      <td>NaN</td>\n",
       "      <td>1901</td>\n",
       "      <td>2</td>\n",
       "    </tr>\n",
       "    <tr>\n",
       "      <th>2</th>\n",
       "      <td>All natural disasters</td>\n",
       "      <td>NaN</td>\n",
       "      <td>1902</td>\n",
       "      <td>9</td>\n",
       "    </tr>\n",
       "  </tbody>\n",
       "</table>\n",
       "</div>"
      ],
      "text/plain": [
       "                  Entity  Code  Year  Number of disasters (EMDAT (2020))\n",
       "0  All natural disasters   NaN  1900                                   5\n",
       "1  All natural disasters   NaN  1901                                   2\n",
       "2  All natural disasters   NaN  1902                                   9"
      ]
     },
     "execution_count": 4,
     "metadata": {},
     "output_type": "execute_result"
    }
   ],
   "source": [
    "disaster.head(3)"
   ]
  },
  {
   "cell_type": "code",
   "execution_count": 5,
   "metadata": {},
   "outputs": [
    {
     "data": {
      "text/plain": [
       "Entity                                  0\n",
       "Code                                  837\n",
       "Year                                    0\n",
       "Number of disasters (EMDAT (2020))      0\n",
       "dtype: int64"
      ]
     },
     "execution_count": 5,
     "metadata": {},
     "output_type": "execute_result"
    }
   ],
   "source": [
    "disaster.isnull().sum()"
   ]
  },
  {
   "cell_type": "code",
   "execution_count": 6,
   "metadata": {},
   "outputs": [
    {
     "data": {
      "text/html": [
       "<div>\n",
       "<style scoped>\n",
       "    .dataframe tbody tr th:only-of-type {\n",
       "        vertical-align: middle;\n",
       "    }\n",
       "\n",
       "    .dataframe tbody tr th {\n",
       "        vertical-align: top;\n",
       "    }\n",
       "\n",
       "    .dataframe thead th {\n",
       "        text-align: right;\n",
       "    }\n",
       "</style>\n",
       "<table border=\"1\" class=\"dataframe\">\n",
       "  <thead>\n",
       "    <tr style=\"text-align: right;\">\n",
       "      <th></th>\n",
       "      <th>Entity</th>\n",
       "      <th>Year</th>\n",
       "      <th>Number of disasters (EMDAT (2020))</th>\n",
       "    </tr>\n",
       "  </thead>\n",
       "  <tbody>\n",
       "    <tr>\n",
       "      <th>0</th>\n",
       "      <td>All natural disasters</td>\n",
       "      <td>1900</td>\n",
       "      <td>5</td>\n",
       "    </tr>\n",
       "    <tr>\n",
       "      <th>1</th>\n",
       "      <td>All natural disasters</td>\n",
       "      <td>1901</td>\n",
       "      <td>2</td>\n",
       "    </tr>\n",
       "    <tr>\n",
       "      <th>2</th>\n",
       "      <td>All natural disasters</td>\n",
       "      <td>1902</td>\n",
       "      <td>9</td>\n",
       "    </tr>\n",
       "    <tr>\n",
       "      <th>3</th>\n",
       "      <td>All natural disasters</td>\n",
       "      <td>1903</td>\n",
       "      <td>8</td>\n",
       "    </tr>\n",
       "    <tr>\n",
       "      <th>4</th>\n",
       "      <td>All natural disasters</td>\n",
       "      <td>1904</td>\n",
       "      <td>2</td>\n",
       "    </tr>\n",
       "    <tr>\n",
       "      <th>...</th>\n",
       "      <td>...</td>\n",
       "      <td>...</td>\n",
       "      <td>...</td>\n",
       "    </tr>\n",
       "    <tr>\n",
       "      <th>832</th>\n",
       "      <td>Wildfire</td>\n",
       "      <td>2015</td>\n",
       "      <td>12</td>\n",
       "    </tr>\n",
       "    <tr>\n",
       "      <th>833</th>\n",
       "      <td>Wildfire</td>\n",
       "      <td>2016</td>\n",
       "      <td>10</td>\n",
       "    </tr>\n",
       "    <tr>\n",
       "      <th>834</th>\n",
       "      <td>Wildfire</td>\n",
       "      <td>2017</td>\n",
       "      <td>13</td>\n",
       "    </tr>\n",
       "    <tr>\n",
       "      <th>835</th>\n",
       "      <td>Wildfire</td>\n",
       "      <td>2018</td>\n",
       "      <td>10</td>\n",
       "    </tr>\n",
       "    <tr>\n",
       "      <th>836</th>\n",
       "      <td>Wildfire</td>\n",
       "      <td>2019</td>\n",
       "      <td>13</td>\n",
       "    </tr>\n",
       "  </tbody>\n",
       "</table>\n",
       "<p>837 rows × 3 columns</p>\n",
       "</div>"
      ],
      "text/plain": [
       "                    Entity  Year  Number of disasters (EMDAT (2020))\n",
       "0    All natural disasters  1900                                   5\n",
       "1    All natural disasters  1901                                   2\n",
       "2    All natural disasters  1902                                   9\n",
       "3    All natural disasters  1903                                   8\n",
       "4    All natural disasters  1904                                   2\n",
       "..                     ...   ...                                 ...\n",
       "832               Wildfire  2015                                  12\n",
       "833               Wildfire  2016                                  10\n",
       "834               Wildfire  2017                                  13\n",
       "835               Wildfire  2018                                  10\n",
       "836               Wildfire  2019                                  13\n",
       "\n",
       "[837 rows x 3 columns]"
      ]
     },
     "execution_count": 6,
     "metadata": {},
     "output_type": "execute_result"
    }
   ],
   "source": [
    "disaster = disaster.drop('Code',axis=1)\n",
    "disaster"
   ]
  },
  {
   "cell_type": "code",
   "execution_count": 9,
   "metadata": {},
   "outputs": [],
   "source": [
    "disaster.rename(columns={'Number of disasters (EMDAT (2020))':'Disasters'}, inplace=True)"
   ]
  },
  {
   "cell_type": "code",
   "execution_count": 10,
   "metadata": {},
   "outputs": [
    {
     "data": {
      "text/plain": [
       "Index(['Entity', 'Year', 'Disasters'], dtype='object')"
      ]
     },
     "execution_count": 10,
     "metadata": {},
     "output_type": "execute_result"
    }
   ],
   "source": [
    "disaster.columns"
   ]
  },
  {
   "cell_type": "code",
   "execution_count": 11,
   "metadata": {},
   "outputs": [],
   "source": [
    "all_disaster = disaster[disaster['Entity'] == 'All natural disasters']"
   ]
  },
  {
   "cell_type": "code",
   "execution_count": 12,
   "metadata": {},
   "outputs": [
    {
     "data": {
      "application/vnd.plotly.v1+json": {
       "config": {
        "linkText": "Export to plot.ly",
        "plotlyServerURL": "https://plot.ly",
        "showLink": true
       },
       "data": [
        {
         "line": {
          "color": "rgba(255, 153, 51, 1.0)",
          "dash": "solid",
          "shape": "linear",
          "width": 1.3
         },
         "mode": "lines",
         "name": "Disasters",
         "text": "",
         "type": "scatter",
         "x": [
          1900,
          1901,
          1902,
          1903,
          1904,
          1905,
          1906,
          1907,
          1908,
          1909,
          1910,
          1911,
          1912,
          1913,
          1914,
          1915,
          1916,
          1917,
          1918,
          1919,
          1920,
          1921,
          1922,
          1923,
          1924,
          1925,
          1926,
          1927,
          1928,
          1929,
          1930,
          1931,
          1932,
          1933,
          1934,
          1935,
          1936,
          1937,
          1938,
          1939,
          1940,
          1941,
          1942,
          1943,
          1944,
          1945,
          1946,
          1947,
          1948,
          1949,
          1950,
          1951,
          1952,
          1953,
          1954,
          1955,
          1956,
          1957,
          1958,
          1959,
          1960,
          1961,
          1962,
          1963,
          1964,
          1965,
          1966,
          1967,
          1968,
          1969,
          1970,
          1971,
          1972,
          1973,
          1974,
          1975,
          1976,
          1977,
          1978,
          1979,
          1980,
          1981,
          1982,
          1983,
          1984,
          1985,
          1986,
          1987,
          1988,
          1989,
          1990,
          1991,
          1992,
          1993,
          1994,
          1995,
          1996,
          1997,
          1998,
          1999,
          2000,
          2001,
          2002,
          2003,
          2004,
          2005,
          2006,
          2007,
          2008,
          2009,
          2010,
          2011,
          2012,
          2013,
          2014,
          2015,
          2016,
          2017,
          2018,
          2019
         ],
         "y": [
          5,
          2,
          9,
          8,
          2,
          4,
          17,
          5,
          4,
          11,
          15,
          5,
          7,
          5,
          6,
          7,
          2,
          6,
          7,
          4,
          7,
          2,
          6,
          12,
          4,
          6,
          15,
          12,
          17,
          6,
          14,
          12,
          8,
          10,
          9,
          11,
          11,
          7,
          7,
          11,
          17,
          5,
          9,
          12,
          12,
          12,
          15,
          12,
          23,
          20,
          23,
          27,
          24,
          34,
          33,
          30,
          36,
          29,
          23,
          33,
          40,
          28,
          28,
          41,
          60,
          61,
          80,
          70,
          77,
          62,
          77,
          61,
          63,
          60,
          68,
          63,
          91,
          121,
          115,
          120,
          133,
          138,
          153,
          205,
          146,
          165,
          150,
          191,
          200,
          172,
          278,
          228,
          204,
          260,
          246,
          248,
          227,
          261,
          288,
          337,
          411,
          376,
          421,
          360,
          350,
          432,
          401,
          414,
          352,
          344,
          393,
          334,
          346,
          332,
          320,
          380,
          325,
          276,
          282,
          361
         ]
        }
       ],
       "layout": {
        "legend": {
         "bgcolor": "#F5F6F9",
         "font": {
          "color": "#4D5663"
         }
        },
        "paper_bgcolor": "#F5F6F9",
        "plot_bgcolor": "#F5F6F9",
        "template": {
         "data": {
          "bar": [
           {
            "error_x": {
             "color": "#2a3f5f"
            },
            "error_y": {
             "color": "#2a3f5f"
            },
            "marker": {
             "line": {
              "color": "#E5ECF6",
              "width": 0.5
             },
             "pattern": {
              "fillmode": "overlay",
              "size": 10,
              "solidity": 0.2
             }
            },
            "type": "bar"
           }
          ],
          "barpolar": [
           {
            "marker": {
             "line": {
              "color": "#E5ECF6",
              "width": 0.5
             },
             "pattern": {
              "fillmode": "overlay",
              "size": 10,
              "solidity": 0.2
             }
            },
            "type": "barpolar"
           }
          ],
          "carpet": [
           {
            "aaxis": {
             "endlinecolor": "#2a3f5f",
             "gridcolor": "white",
             "linecolor": "white",
             "minorgridcolor": "white",
             "startlinecolor": "#2a3f5f"
            },
            "baxis": {
             "endlinecolor": "#2a3f5f",
             "gridcolor": "white",
             "linecolor": "white",
             "minorgridcolor": "white",
             "startlinecolor": "#2a3f5f"
            },
            "type": "carpet"
           }
          ],
          "choropleth": [
           {
            "colorbar": {
             "outlinewidth": 0,
             "ticks": ""
            },
            "type": "choropleth"
           }
          ],
          "contour": [
           {
            "colorbar": {
             "outlinewidth": 0,
             "ticks": ""
            },
            "colorscale": [
             [
              0,
              "#0d0887"
             ],
             [
              0.1111111111111111,
              "#46039f"
             ],
             [
              0.2222222222222222,
              "#7201a8"
             ],
             [
              0.3333333333333333,
              "#9c179e"
             ],
             [
              0.4444444444444444,
              "#bd3786"
             ],
             [
              0.5555555555555556,
              "#d8576b"
             ],
             [
              0.6666666666666666,
              "#ed7953"
             ],
             [
              0.7777777777777778,
              "#fb9f3a"
             ],
             [
              0.8888888888888888,
              "#fdca26"
             ],
             [
              1,
              "#f0f921"
             ]
            ],
            "type": "contour"
           }
          ],
          "contourcarpet": [
           {
            "colorbar": {
             "outlinewidth": 0,
             "ticks": ""
            },
            "type": "contourcarpet"
           }
          ],
          "heatmap": [
           {
            "colorbar": {
             "outlinewidth": 0,
             "ticks": ""
            },
            "colorscale": [
             [
              0,
              "#0d0887"
             ],
             [
              0.1111111111111111,
              "#46039f"
             ],
             [
              0.2222222222222222,
              "#7201a8"
             ],
             [
              0.3333333333333333,
              "#9c179e"
             ],
             [
              0.4444444444444444,
              "#bd3786"
             ],
             [
              0.5555555555555556,
              "#d8576b"
             ],
             [
              0.6666666666666666,
              "#ed7953"
             ],
             [
              0.7777777777777778,
              "#fb9f3a"
             ],
             [
              0.8888888888888888,
              "#fdca26"
             ],
             [
              1,
              "#f0f921"
             ]
            ],
            "type": "heatmap"
           }
          ],
          "heatmapgl": [
           {
            "colorbar": {
             "outlinewidth": 0,
             "ticks": ""
            },
            "colorscale": [
             [
              0,
              "#0d0887"
             ],
             [
              0.1111111111111111,
              "#46039f"
             ],
             [
              0.2222222222222222,
              "#7201a8"
             ],
             [
              0.3333333333333333,
              "#9c179e"
             ],
             [
              0.4444444444444444,
              "#bd3786"
             ],
             [
              0.5555555555555556,
              "#d8576b"
             ],
             [
              0.6666666666666666,
              "#ed7953"
             ],
             [
              0.7777777777777778,
              "#fb9f3a"
             ],
             [
              0.8888888888888888,
              "#fdca26"
             ],
             [
              1,
              "#f0f921"
             ]
            ],
            "type": "heatmapgl"
           }
          ],
          "histogram": [
           {
            "marker": {
             "pattern": {
              "fillmode": "overlay",
              "size": 10,
              "solidity": 0.2
             }
            },
            "type": "histogram"
           }
          ],
          "histogram2d": [
           {
            "colorbar": {
             "outlinewidth": 0,
             "ticks": ""
            },
            "colorscale": [
             [
              0,
              "#0d0887"
             ],
             [
              0.1111111111111111,
              "#46039f"
             ],
             [
              0.2222222222222222,
              "#7201a8"
             ],
             [
              0.3333333333333333,
              "#9c179e"
             ],
             [
              0.4444444444444444,
              "#bd3786"
             ],
             [
              0.5555555555555556,
              "#d8576b"
             ],
             [
              0.6666666666666666,
              "#ed7953"
             ],
             [
              0.7777777777777778,
              "#fb9f3a"
             ],
             [
              0.8888888888888888,
              "#fdca26"
             ],
             [
              1,
              "#f0f921"
             ]
            ],
            "type": "histogram2d"
           }
          ],
          "histogram2dcontour": [
           {
            "colorbar": {
             "outlinewidth": 0,
             "ticks": ""
            },
            "colorscale": [
             [
              0,
              "#0d0887"
             ],
             [
              0.1111111111111111,
              "#46039f"
             ],
             [
              0.2222222222222222,
              "#7201a8"
             ],
             [
              0.3333333333333333,
              "#9c179e"
             ],
             [
              0.4444444444444444,
              "#bd3786"
             ],
             [
              0.5555555555555556,
              "#d8576b"
             ],
             [
              0.6666666666666666,
              "#ed7953"
             ],
             [
              0.7777777777777778,
              "#fb9f3a"
             ],
             [
              0.8888888888888888,
              "#fdca26"
             ],
             [
              1,
              "#f0f921"
             ]
            ],
            "type": "histogram2dcontour"
           }
          ],
          "mesh3d": [
           {
            "colorbar": {
             "outlinewidth": 0,
             "ticks": ""
            },
            "type": "mesh3d"
           }
          ],
          "parcoords": [
           {
            "line": {
             "colorbar": {
              "outlinewidth": 0,
              "ticks": ""
             }
            },
            "type": "parcoords"
           }
          ],
          "pie": [
           {
            "automargin": true,
            "type": "pie"
           }
          ],
          "scatter": [
           {
            "marker": {
             "colorbar": {
              "outlinewidth": 0,
              "ticks": ""
             }
            },
            "type": "scatter"
           }
          ],
          "scatter3d": [
           {
            "line": {
             "colorbar": {
              "outlinewidth": 0,
              "ticks": ""
             }
            },
            "marker": {
             "colorbar": {
              "outlinewidth": 0,
              "ticks": ""
             }
            },
            "type": "scatter3d"
           }
          ],
          "scattercarpet": [
           {
            "marker": {
             "colorbar": {
              "outlinewidth": 0,
              "ticks": ""
             }
            },
            "type": "scattercarpet"
           }
          ],
          "scattergeo": [
           {
            "marker": {
             "colorbar": {
              "outlinewidth": 0,
              "ticks": ""
             }
            },
            "type": "scattergeo"
           }
          ],
          "scattergl": [
           {
            "marker": {
             "colorbar": {
              "outlinewidth": 0,
              "ticks": ""
             }
            },
            "type": "scattergl"
           }
          ],
          "scattermapbox": [
           {
            "marker": {
             "colorbar": {
              "outlinewidth": 0,
              "ticks": ""
             }
            },
            "type": "scattermapbox"
           }
          ],
          "scatterpolar": [
           {
            "marker": {
             "colorbar": {
              "outlinewidth": 0,
              "ticks": ""
             }
            },
            "type": "scatterpolar"
           }
          ],
          "scatterpolargl": [
           {
            "marker": {
             "colorbar": {
              "outlinewidth": 0,
              "ticks": ""
             }
            },
            "type": "scatterpolargl"
           }
          ],
          "scatterternary": [
           {
            "marker": {
             "colorbar": {
              "outlinewidth": 0,
              "ticks": ""
             }
            },
            "type": "scatterternary"
           }
          ],
          "surface": [
           {
            "colorbar": {
             "outlinewidth": 0,
             "ticks": ""
            },
            "colorscale": [
             [
              0,
              "#0d0887"
             ],
             [
              0.1111111111111111,
              "#46039f"
             ],
             [
              0.2222222222222222,
              "#7201a8"
             ],
             [
              0.3333333333333333,
              "#9c179e"
             ],
             [
              0.4444444444444444,
              "#bd3786"
             ],
             [
              0.5555555555555556,
              "#d8576b"
             ],
             [
              0.6666666666666666,
              "#ed7953"
             ],
             [
              0.7777777777777778,
              "#fb9f3a"
             ],
             [
              0.8888888888888888,
              "#fdca26"
             ],
             [
              1,
              "#f0f921"
             ]
            ],
            "type": "surface"
           }
          ],
          "table": [
           {
            "cells": {
             "fill": {
              "color": "#EBF0F8"
             },
             "line": {
              "color": "white"
             }
            },
            "header": {
             "fill": {
              "color": "#C8D4E3"
             },
             "line": {
              "color": "white"
             }
            },
            "type": "table"
           }
          ]
         },
         "layout": {
          "annotationdefaults": {
           "arrowcolor": "#2a3f5f",
           "arrowhead": 0,
           "arrowwidth": 1
          },
          "autotypenumbers": "strict",
          "coloraxis": {
           "colorbar": {
            "outlinewidth": 0,
            "ticks": ""
           }
          },
          "colorscale": {
           "diverging": [
            [
             0,
             "#8e0152"
            ],
            [
             0.1,
             "#c51b7d"
            ],
            [
             0.2,
             "#de77ae"
            ],
            [
             0.3,
             "#f1b6da"
            ],
            [
             0.4,
             "#fde0ef"
            ],
            [
             0.5,
             "#f7f7f7"
            ],
            [
             0.6,
             "#e6f5d0"
            ],
            [
             0.7,
             "#b8e186"
            ],
            [
             0.8,
             "#7fbc41"
            ],
            [
             0.9,
             "#4d9221"
            ],
            [
             1,
             "#276419"
            ]
           ],
           "sequential": [
            [
             0,
             "#0d0887"
            ],
            [
             0.1111111111111111,
             "#46039f"
            ],
            [
             0.2222222222222222,
             "#7201a8"
            ],
            [
             0.3333333333333333,
             "#9c179e"
            ],
            [
             0.4444444444444444,
             "#bd3786"
            ],
            [
             0.5555555555555556,
             "#d8576b"
            ],
            [
             0.6666666666666666,
             "#ed7953"
            ],
            [
             0.7777777777777778,
             "#fb9f3a"
            ],
            [
             0.8888888888888888,
             "#fdca26"
            ],
            [
             1,
             "#f0f921"
            ]
           ],
           "sequentialminus": [
            [
             0,
             "#0d0887"
            ],
            [
             0.1111111111111111,
             "#46039f"
            ],
            [
             0.2222222222222222,
             "#7201a8"
            ],
            [
             0.3333333333333333,
             "#9c179e"
            ],
            [
             0.4444444444444444,
             "#bd3786"
            ],
            [
             0.5555555555555556,
             "#d8576b"
            ],
            [
             0.6666666666666666,
             "#ed7953"
            ],
            [
             0.7777777777777778,
             "#fb9f3a"
            ],
            [
             0.8888888888888888,
             "#fdca26"
            ],
            [
             1,
             "#f0f921"
            ]
           ]
          },
          "colorway": [
           "#636efa",
           "#EF553B",
           "#00cc96",
           "#ab63fa",
           "#FFA15A",
           "#19d3f3",
           "#FF6692",
           "#B6E880",
           "#FF97FF",
           "#FECB52"
          ],
          "font": {
           "color": "#2a3f5f"
          },
          "geo": {
           "bgcolor": "white",
           "lakecolor": "white",
           "landcolor": "#E5ECF6",
           "showlakes": true,
           "showland": true,
           "subunitcolor": "white"
          },
          "hoverlabel": {
           "align": "left"
          },
          "hovermode": "closest",
          "mapbox": {
           "style": "light"
          },
          "paper_bgcolor": "white",
          "plot_bgcolor": "#E5ECF6",
          "polar": {
           "angularaxis": {
            "gridcolor": "white",
            "linecolor": "white",
            "ticks": ""
           },
           "bgcolor": "#E5ECF6",
           "radialaxis": {
            "gridcolor": "white",
            "linecolor": "white",
            "ticks": ""
           }
          },
          "scene": {
           "xaxis": {
            "backgroundcolor": "#E5ECF6",
            "gridcolor": "white",
            "gridwidth": 2,
            "linecolor": "white",
            "showbackground": true,
            "ticks": "",
            "zerolinecolor": "white"
           },
           "yaxis": {
            "backgroundcolor": "#E5ECF6",
            "gridcolor": "white",
            "gridwidth": 2,
            "linecolor": "white",
            "showbackground": true,
            "ticks": "",
            "zerolinecolor": "white"
           },
           "zaxis": {
            "backgroundcolor": "#E5ECF6",
            "gridcolor": "white",
            "gridwidth": 2,
            "linecolor": "white",
            "showbackground": true,
            "ticks": "",
            "zerolinecolor": "white"
           }
          },
          "shapedefaults": {
           "line": {
            "color": "#2a3f5f"
           }
          },
          "ternary": {
           "aaxis": {
            "gridcolor": "white",
            "linecolor": "white",
            "ticks": ""
           },
           "baxis": {
            "gridcolor": "white",
            "linecolor": "white",
            "ticks": ""
           },
           "bgcolor": "#E5ECF6",
           "caxis": {
            "gridcolor": "white",
            "linecolor": "white",
            "ticks": ""
           }
          },
          "title": {
           "x": 0.05
          },
          "xaxis": {
           "automargin": true,
           "gridcolor": "white",
           "linecolor": "white",
           "ticks": "",
           "title": {
            "standoff": 15
           },
           "zerolinecolor": "white",
           "zerolinewidth": 2
          },
          "yaxis": {
           "automargin": true,
           "gridcolor": "white",
           "linecolor": "white",
           "ticks": "",
           "title": {
            "standoff": 15
           },
           "zerolinecolor": "white",
           "zerolinewidth": 2
          }
         }
        },
        "title": {
         "font": {
          "color": "#4D5663"
         },
         "text": "모든 종류의 자연재해 빈도수"
        },
        "xaxis": {
         "gridcolor": "#E1E5ED",
         "showgrid": true,
         "tickfont": {
          "color": "#4D5663"
         },
         "title": {
          "font": {
           "color": "#4D5663"
          },
          "text": ""
         },
         "zerolinecolor": "#E1E5ED"
        },
        "yaxis": {
         "gridcolor": "#E1E5ED",
         "showgrid": true,
         "tickfont": {
          "color": "#4D5663"
         },
         "title": {
          "font": {
           "color": "#4D5663"
          },
          "text": ""
         },
         "zerolinecolor": "#E1E5ED"
        }
       }
      },
      "text/html": [
       "<div>                            <div id=\"6a3e484f-bdd6-4f4d-87e2-1e73cc511297\" class=\"plotly-graph-div\" style=\"height:525px; width:100%;\"></div>            <script type=\"text/javascript\">                require([\"plotly\"], function(Plotly) {                    window.PLOTLYENV=window.PLOTLYENV || {};\n",
       "                    window.PLOTLYENV.BASE_URL='https://plot.ly';                                    if (document.getElementById(\"6a3e484f-bdd6-4f4d-87e2-1e73cc511297\")) {                    Plotly.newPlot(                        \"6a3e484f-bdd6-4f4d-87e2-1e73cc511297\",                        [{\"line\":{\"color\":\"rgba(255, 153, 51, 1.0)\",\"dash\":\"solid\",\"shape\":\"linear\",\"width\":1.3},\"mode\":\"lines\",\"name\":\"Disasters\",\"text\":\"\",\"type\":\"scatter\",\"x\":[1900,1901,1902,1903,1904,1905,1906,1907,1908,1909,1910,1911,1912,1913,1914,1915,1916,1917,1918,1919,1920,1921,1922,1923,1924,1925,1926,1927,1928,1929,1930,1931,1932,1933,1934,1935,1936,1937,1938,1939,1940,1941,1942,1943,1944,1945,1946,1947,1948,1949,1950,1951,1952,1953,1954,1955,1956,1957,1958,1959,1960,1961,1962,1963,1964,1965,1966,1967,1968,1969,1970,1971,1972,1973,1974,1975,1976,1977,1978,1979,1980,1981,1982,1983,1984,1985,1986,1987,1988,1989,1990,1991,1992,1993,1994,1995,1996,1997,1998,1999,2000,2001,2002,2003,2004,2005,2006,2007,2008,2009,2010,2011,2012,2013,2014,2015,2016,2017,2018,2019],\"y\":[5,2,9,8,2,4,17,5,4,11,15,5,7,5,6,7,2,6,7,4,7,2,6,12,4,6,15,12,17,6,14,12,8,10,9,11,11,7,7,11,17,5,9,12,12,12,15,12,23,20,23,27,24,34,33,30,36,29,23,33,40,28,28,41,60,61,80,70,77,62,77,61,63,60,68,63,91,121,115,120,133,138,153,205,146,165,150,191,200,172,278,228,204,260,246,248,227,261,288,337,411,376,421,360,350,432,401,414,352,344,393,334,346,332,320,380,325,276,282,361]}],                        {\"legend\":{\"bgcolor\":\"#F5F6F9\",\"font\":{\"color\":\"#4D5663\"}},\"paper_bgcolor\":\"#F5F6F9\",\"plot_bgcolor\":\"#F5F6F9\",\"template\":{\"data\":{\"bar\":[{\"error_x\":{\"color\":\"#2a3f5f\"},\"error_y\":{\"color\":\"#2a3f5f\"},\"marker\":{\"line\":{\"color\":\"#E5ECF6\",\"width\":0.5},\"pattern\":{\"fillmode\":\"overlay\",\"size\":10,\"solidity\":0.2}},\"type\":\"bar\"}],\"barpolar\":[{\"marker\":{\"line\":{\"color\":\"#E5ECF6\",\"width\":0.5},\"pattern\":{\"fillmode\":\"overlay\",\"size\":10,\"solidity\":0.2}},\"type\":\"barpolar\"}],\"carpet\":[{\"aaxis\":{\"endlinecolor\":\"#2a3f5f\",\"gridcolor\":\"white\",\"linecolor\":\"white\",\"minorgridcolor\":\"white\",\"startlinecolor\":\"#2a3f5f\"},\"baxis\":{\"endlinecolor\":\"#2a3f5f\",\"gridcolor\":\"white\",\"linecolor\":\"white\",\"minorgridcolor\":\"white\",\"startlinecolor\":\"#2a3f5f\"},\"type\":\"carpet\"}],\"choropleth\":[{\"colorbar\":{\"outlinewidth\":0,\"ticks\":\"\"},\"type\":\"choropleth\"}],\"contour\":[{\"colorbar\":{\"outlinewidth\":0,\"ticks\":\"\"},\"colorscale\":[[0.0,\"#0d0887\"],[0.1111111111111111,\"#46039f\"],[0.2222222222222222,\"#7201a8\"],[0.3333333333333333,\"#9c179e\"],[0.4444444444444444,\"#bd3786\"],[0.5555555555555556,\"#d8576b\"],[0.6666666666666666,\"#ed7953\"],[0.7777777777777778,\"#fb9f3a\"],[0.8888888888888888,\"#fdca26\"],[1.0,\"#f0f921\"]],\"type\":\"contour\"}],\"contourcarpet\":[{\"colorbar\":{\"outlinewidth\":0,\"ticks\":\"\"},\"type\":\"contourcarpet\"}],\"heatmap\":[{\"colorbar\":{\"outlinewidth\":0,\"ticks\":\"\"},\"colorscale\":[[0.0,\"#0d0887\"],[0.1111111111111111,\"#46039f\"],[0.2222222222222222,\"#7201a8\"],[0.3333333333333333,\"#9c179e\"],[0.4444444444444444,\"#bd3786\"],[0.5555555555555556,\"#d8576b\"],[0.6666666666666666,\"#ed7953\"],[0.7777777777777778,\"#fb9f3a\"],[0.8888888888888888,\"#fdca26\"],[1.0,\"#f0f921\"]],\"type\":\"heatmap\"}],\"heatmapgl\":[{\"colorbar\":{\"outlinewidth\":0,\"ticks\":\"\"},\"colorscale\":[[0.0,\"#0d0887\"],[0.1111111111111111,\"#46039f\"],[0.2222222222222222,\"#7201a8\"],[0.3333333333333333,\"#9c179e\"],[0.4444444444444444,\"#bd3786\"],[0.5555555555555556,\"#d8576b\"],[0.6666666666666666,\"#ed7953\"],[0.7777777777777778,\"#fb9f3a\"],[0.8888888888888888,\"#fdca26\"],[1.0,\"#f0f921\"]],\"type\":\"heatmapgl\"}],\"histogram\":[{\"marker\":{\"pattern\":{\"fillmode\":\"overlay\",\"size\":10,\"solidity\":0.2}},\"type\":\"histogram\"}],\"histogram2d\":[{\"colorbar\":{\"outlinewidth\":0,\"ticks\":\"\"},\"colorscale\":[[0.0,\"#0d0887\"],[0.1111111111111111,\"#46039f\"],[0.2222222222222222,\"#7201a8\"],[0.3333333333333333,\"#9c179e\"],[0.4444444444444444,\"#bd3786\"],[0.5555555555555556,\"#d8576b\"],[0.6666666666666666,\"#ed7953\"],[0.7777777777777778,\"#fb9f3a\"],[0.8888888888888888,\"#fdca26\"],[1.0,\"#f0f921\"]],\"type\":\"histogram2d\"}],\"histogram2dcontour\":[{\"colorbar\":{\"outlinewidth\":0,\"ticks\":\"\"},\"colorscale\":[[0.0,\"#0d0887\"],[0.1111111111111111,\"#46039f\"],[0.2222222222222222,\"#7201a8\"],[0.3333333333333333,\"#9c179e\"],[0.4444444444444444,\"#bd3786\"],[0.5555555555555556,\"#d8576b\"],[0.6666666666666666,\"#ed7953\"],[0.7777777777777778,\"#fb9f3a\"],[0.8888888888888888,\"#fdca26\"],[1.0,\"#f0f921\"]],\"type\":\"histogram2dcontour\"}],\"mesh3d\":[{\"colorbar\":{\"outlinewidth\":0,\"ticks\":\"\"},\"type\":\"mesh3d\"}],\"parcoords\":[{\"line\":{\"colorbar\":{\"outlinewidth\":0,\"ticks\":\"\"}},\"type\":\"parcoords\"}],\"pie\":[{\"automargin\":true,\"type\":\"pie\"}],\"scatter\":[{\"marker\":{\"colorbar\":{\"outlinewidth\":0,\"ticks\":\"\"}},\"type\":\"scatter\"}],\"scatter3d\":[{\"line\":{\"colorbar\":{\"outlinewidth\":0,\"ticks\":\"\"}},\"marker\":{\"colorbar\":{\"outlinewidth\":0,\"ticks\":\"\"}},\"type\":\"scatter3d\"}],\"scattercarpet\":[{\"marker\":{\"colorbar\":{\"outlinewidth\":0,\"ticks\":\"\"}},\"type\":\"scattercarpet\"}],\"scattergeo\":[{\"marker\":{\"colorbar\":{\"outlinewidth\":0,\"ticks\":\"\"}},\"type\":\"scattergeo\"}],\"scattergl\":[{\"marker\":{\"colorbar\":{\"outlinewidth\":0,\"ticks\":\"\"}},\"type\":\"scattergl\"}],\"scattermapbox\":[{\"marker\":{\"colorbar\":{\"outlinewidth\":0,\"ticks\":\"\"}},\"type\":\"scattermapbox\"}],\"scatterpolar\":[{\"marker\":{\"colorbar\":{\"outlinewidth\":0,\"ticks\":\"\"}},\"type\":\"scatterpolar\"}],\"scatterpolargl\":[{\"marker\":{\"colorbar\":{\"outlinewidth\":0,\"ticks\":\"\"}},\"type\":\"scatterpolargl\"}],\"scatterternary\":[{\"marker\":{\"colorbar\":{\"outlinewidth\":0,\"ticks\":\"\"}},\"type\":\"scatterternary\"}],\"surface\":[{\"colorbar\":{\"outlinewidth\":0,\"ticks\":\"\"},\"colorscale\":[[0.0,\"#0d0887\"],[0.1111111111111111,\"#46039f\"],[0.2222222222222222,\"#7201a8\"],[0.3333333333333333,\"#9c179e\"],[0.4444444444444444,\"#bd3786\"],[0.5555555555555556,\"#d8576b\"],[0.6666666666666666,\"#ed7953\"],[0.7777777777777778,\"#fb9f3a\"],[0.8888888888888888,\"#fdca26\"],[1.0,\"#f0f921\"]],\"type\":\"surface\"}],\"table\":[{\"cells\":{\"fill\":{\"color\":\"#EBF0F8\"},\"line\":{\"color\":\"white\"}},\"header\":{\"fill\":{\"color\":\"#C8D4E3\"},\"line\":{\"color\":\"white\"}},\"type\":\"table\"}]},\"layout\":{\"annotationdefaults\":{\"arrowcolor\":\"#2a3f5f\",\"arrowhead\":0,\"arrowwidth\":1},\"autotypenumbers\":\"strict\",\"coloraxis\":{\"colorbar\":{\"outlinewidth\":0,\"ticks\":\"\"}},\"colorscale\":{\"diverging\":[[0,\"#8e0152\"],[0.1,\"#c51b7d\"],[0.2,\"#de77ae\"],[0.3,\"#f1b6da\"],[0.4,\"#fde0ef\"],[0.5,\"#f7f7f7\"],[0.6,\"#e6f5d0\"],[0.7,\"#b8e186\"],[0.8,\"#7fbc41\"],[0.9,\"#4d9221\"],[1,\"#276419\"]],\"sequential\":[[0.0,\"#0d0887\"],[0.1111111111111111,\"#46039f\"],[0.2222222222222222,\"#7201a8\"],[0.3333333333333333,\"#9c179e\"],[0.4444444444444444,\"#bd3786\"],[0.5555555555555556,\"#d8576b\"],[0.6666666666666666,\"#ed7953\"],[0.7777777777777778,\"#fb9f3a\"],[0.8888888888888888,\"#fdca26\"],[1.0,\"#f0f921\"]],\"sequentialminus\":[[0.0,\"#0d0887\"],[0.1111111111111111,\"#46039f\"],[0.2222222222222222,\"#7201a8\"],[0.3333333333333333,\"#9c179e\"],[0.4444444444444444,\"#bd3786\"],[0.5555555555555556,\"#d8576b\"],[0.6666666666666666,\"#ed7953\"],[0.7777777777777778,\"#fb9f3a\"],[0.8888888888888888,\"#fdca26\"],[1.0,\"#f0f921\"]]},\"colorway\":[\"#636efa\",\"#EF553B\",\"#00cc96\",\"#ab63fa\",\"#FFA15A\",\"#19d3f3\",\"#FF6692\",\"#B6E880\",\"#FF97FF\",\"#FECB52\"],\"font\":{\"color\":\"#2a3f5f\"},\"geo\":{\"bgcolor\":\"white\",\"lakecolor\":\"white\",\"landcolor\":\"#E5ECF6\",\"showlakes\":true,\"showland\":true,\"subunitcolor\":\"white\"},\"hoverlabel\":{\"align\":\"left\"},\"hovermode\":\"closest\",\"mapbox\":{\"style\":\"light\"},\"paper_bgcolor\":\"white\",\"plot_bgcolor\":\"#E5ECF6\",\"polar\":{\"angularaxis\":{\"gridcolor\":\"white\",\"linecolor\":\"white\",\"ticks\":\"\"},\"bgcolor\":\"#E5ECF6\",\"radialaxis\":{\"gridcolor\":\"white\",\"linecolor\":\"white\",\"ticks\":\"\"}},\"scene\":{\"xaxis\":{\"backgroundcolor\":\"#E5ECF6\",\"gridcolor\":\"white\",\"gridwidth\":2,\"linecolor\":\"white\",\"showbackground\":true,\"ticks\":\"\",\"zerolinecolor\":\"white\"},\"yaxis\":{\"backgroundcolor\":\"#E5ECF6\",\"gridcolor\":\"white\",\"gridwidth\":2,\"linecolor\":\"white\",\"showbackground\":true,\"ticks\":\"\",\"zerolinecolor\":\"white\"},\"zaxis\":{\"backgroundcolor\":\"#E5ECF6\",\"gridcolor\":\"white\",\"gridwidth\":2,\"linecolor\":\"white\",\"showbackground\":true,\"ticks\":\"\",\"zerolinecolor\":\"white\"}},\"shapedefaults\":{\"line\":{\"color\":\"#2a3f5f\"}},\"ternary\":{\"aaxis\":{\"gridcolor\":\"white\",\"linecolor\":\"white\",\"ticks\":\"\"},\"baxis\":{\"gridcolor\":\"white\",\"linecolor\":\"white\",\"ticks\":\"\"},\"bgcolor\":\"#E5ECF6\",\"caxis\":{\"gridcolor\":\"white\",\"linecolor\":\"white\",\"ticks\":\"\"}},\"title\":{\"x\":0.05},\"xaxis\":{\"automargin\":true,\"gridcolor\":\"white\",\"linecolor\":\"white\",\"ticks\":\"\",\"title\":{\"standoff\":15},\"zerolinecolor\":\"white\",\"zerolinewidth\":2},\"yaxis\":{\"automargin\":true,\"gridcolor\":\"white\",\"linecolor\":\"white\",\"ticks\":\"\",\"title\":{\"standoff\":15},\"zerolinecolor\":\"white\",\"zerolinewidth\":2}}},\"title\":{\"font\":{\"color\":\"#4D5663\"},\"text\":\"\\ubaa8\\ub4e0 \\uc885\\ub958\\uc758 \\uc790\\uc5f0\\uc7ac\\ud574 \\ube48\\ub3c4\\uc218\"},\"xaxis\":{\"gridcolor\":\"#E1E5ED\",\"showgrid\":true,\"tickfont\":{\"color\":\"#4D5663\"},\"title\":{\"font\":{\"color\":\"#4D5663\"},\"text\":\"\"},\"zerolinecolor\":\"#E1E5ED\"},\"yaxis\":{\"gridcolor\":\"#E1E5ED\",\"showgrid\":true,\"tickfont\":{\"color\":\"#4D5663\"},\"title\":{\"font\":{\"color\":\"#4D5663\"},\"text\":\"\"},\"zerolinecolor\":\"#E1E5ED\"}},                        {\"showLink\": true, \"linkText\": \"Export to plot.ly\", \"plotlyServerURL\": \"https://plot.ly\", \"responsive\": true}                    ).then(function(){\n",
       "                            \n",
       "var gd = document.getElementById('6a3e484f-bdd6-4f4d-87e2-1e73cc511297');\n",
       "var x = new MutationObserver(function (mutations, observer) {{\n",
       "        var display = window.getComputedStyle(gd).display;\n",
       "        if (!display || display === 'none') {{\n",
       "            console.log([gd, 'removed!']);\n",
       "            Plotly.purge(gd);\n",
       "            observer.disconnect();\n",
       "        }}\n",
       "}});\n",
       "\n",
       "// Listen for the removal of the full notebook cells\n",
       "var notebookContainer = gd.closest('#notebook-container');\n",
       "if (notebookContainer) {{\n",
       "    x.observe(notebookContainer, {childList: true});\n",
       "}}\n",
       "\n",
       "// Listen for the clearing of the current output cell\n",
       "var outputEl = gd.closest('.output');\n",
       "if (outputEl) {{\n",
       "    x.observe(outputEl, {childList: true});\n",
       "}}\n",
       "\n",
       "                        })                };                });            </script>        </div>"
      ]
     },
     "metadata": {},
     "output_type": "display_data"
    }
   ],
   "source": [
    "all_disaster.iplot(kind='line', x='Year', y= 'Disasters',\n",
    "                  title = '모든 종류의 자연재해 빈도수')"
   ]
  },
  {
   "cell_type": "code",
   "execution_count": 13,
   "metadata": {},
   "outputs": [
    {
     "name": "stdout",
     "output_type": "stream",
     "text": [
      "Earthquake             116\n",
      "Extreme weather        116\n",
      "Flood                   96\n",
      "Landslide               81\n",
      "Volcanic activity       79\n",
      "Drought                 74\n",
      "Wildfire                63\n",
      "Extreme temperature     58\n",
      "Mass movement (dry)     33\n",
      "Impact                   1\n",
      "Name: Entity, dtype: int64\n"
     ]
    },
    {
     "data": {
      "text/html": [
       "<div>\n",
       "<style scoped>\n",
       "    .dataframe tbody tr th:only-of-type {\n",
       "        vertical-align: middle;\n",
       "    }\n",
       "\n",
       "    .dataframe tbody tr th {\n",
       "        vertical-align: top;\n",
       "    }\n",
       "\n",
       "    .dataframe thead th {\n",
       "        text-align: right;\n",
       "    }\n",
       "</style>\n",
       "<table border=\"1\" class=\"dataframe\">\n",
       "  <thead>\n",
       "    <tr style=\"text-align: right;\">\n",
       "      <th></th>\n",
       "      <th>Entity</th>\n",
       "      <th>Year</th>\n",
       "      <th>Disasters</th>\n",
       "    </tr>\n",
       "  </thead>\n",
       "  <tbody>\n",
       "    <tr>\n",
       "      <th>120</th>\n",
       "      <td>Drought</td>\n",
       "      <td>1900</td>\n",
       "      <td>2</td>\n",
       "    </tr>\n",
       "    <tr>\n",
       "      <th>121</th>\n",
       "      <td>Drought</td>\n",
       "      <td>1903</td>\n",
       "      <td>1</td>\n",
       "    </tr>\n",
       "    <tr>\n",
       "      <th>122</th>\n",
       "      <td>Drought</td>\n",
       "      <td>1906</td>\n",
       "      <td>1</td>\n",
       "    </tr>\n",
       "    <tr>\n",
       "      <th>123</th>\n",
       "      <td>Drought</td>\n",
       "      <td>1910</td>\n",
       "      <td>9</td>\n",
       "    </tr>\n",
       "    <tr>\n",
       "      <th>124</th>\n",
       "      <td>Drought</td>\n",
       "      <td>1919</td>\n",
       "      <td>1</td>\n",
       "    </tr>\n",
       "    <tr>\n",
       "      <th>...</th>\n",
       "      <td>...</td>\n",
       "      <td>...</td>\n",
       "      <td>...</td>\n",
       "    </tr>\n",
       "    <tr>\n",
       "      <th>832</th>\n",
       "      <td>Wildfire</td>\n",
       "      <td>2015</td>\n",
       "      <td>12</td>\n",
       "    </tr>\n",
       "    <tr>\n",
       "      <th>833</th>\n",
       "      <td>Wildfire</td>\n",
       "      <td>2016</td>\n",
       "      <td>10</td>\n",
       "    </tr>\n",
       "    <tr>\n",
       "      <th>834</th>\n",
       "      <td>Wildfire</td>\n",
       "      <td>2017</td>\n",
       "      <td>13</td>\n",
       "    </tr>\n",
       "    <tr>\n",
       "      <th>835</th>\n",
       "      <td>Wildfire</td>\n",
       "      <td>2018</td>\n",
       "      <td>10</td>\n",
       "    </tr>\n",
       "    <tr>\n",
       "      <th>836</th>\n",
       "      <td>Wildfire</td>\n",
       "      <td>2019</td>\n",
       "      <td>13</td>\n",
       "    </tr>\n",
       "  </tbody>\n",
       "</table>\n",
       "<p>717 rows × 3 columns</p>\n",
       "</div>"
      ],
      "text/plain": [
       "       Entity  Year  Disasters\n",
       "120   Drought  1900          2\n",
       "121   Drought  1903          1\n",
       "122   Drought  1906          1\n",
       "123   Drought  1910          9\n",
       "124   Drought  1919          1\n",
       "..        ...   ...        ...\n",
       "832  Wildfire  2015         12\n",
       "833  Wildfire  2016         10\n",
       "834  Wildfire  2017         13\n",
       "835  Wildfire  2018         10\n",
       "836  Wildfire  2019         13\n",
       "\n",
       "[717 rows x 3 columns]"
      ]
     },
     "execution_count": 13,
     "metadata": {},
     "output_type": "execute_result"
    }
   ],
   "source": [
    "d1= disaster[disaster['Entity'] != 'All natural disasters']\n",
    "print(d1['Entity'].value_counts())\n",
    "d1"
   ]
  },
  {
   "cell_type": "code",
   "execution_count": 18,
   "metadata": {},
   "outputs": [
    {
     "data": {
      "application/vnd.plotly.v1+json": {
       "config": {
        "plotlyServerURL": "https://plot.ly"
       },
       "data": [
        {
         "hovertemplate": "<b>%{hovertext}</b><br><br>Entity=%{y}<br>Year=%{x}<br>Disasters=%{marker.size}<extra></extra>",
         "hovertext": [
          "Drought",
          "Drought",
          "Drought",
          "Drought",
          "Drought",
          "Drought",
          "Drought",
          "Drought",
          "Drought",
          "Drought",
          "Drought",
          "Drought",
          "Drought",
          "Drought",
          "Drought",
          "Drought",
          "Drought",
          "Drought",
          "Drought",
          "Drought",
          "Drought",
          "Drought",
          "Drought",
          "Drought",
          "Drought",
          "Drought",
          "Drought",
          "Drought",
          "Drought",
          "Drought",
          "Drought",
          "Drought",
          "Drought",
          "Drought",
          "Drought",
          "Drought",
          "Drought",
          "Drought",
          "Drought",
          "Drought",
          "Drought",
          "Drought",
          "Drought",
          "Drought",
          "Drought",
          "Drought",
          "Drought",
          "Drought",
          "Drought",
          "Drought",
          "Drought",
          "Drought",
          "Drought",
          "Drought",
          "Drought",
          "Drought",
          "Drought",
          "Drought",
          "Drought",
          "Drought",
          "Drought",
          "Drought",
          "Drought",
          "Drought",
          "Drought",
          "Drought",
          "Drought",
          "Drought",
          "Drought",
          "Drought",
          "Drought",
          "Drought",
          "Drought",
          "Drought"
         ],
         "legendgroup": "Drought",
         "marker": {
          "color": "#636efa",
          "size": [
           2,
           1,
           1,
           9,
           1,
           2,
           1,
           1,
           1,
           1,
           9,
           1,
           1,
           1,
           1,
           1,
           1,
           1,
           7,
           7,
           9,
           5,
           7,
           10,
           2,
           7,
           7,
           2,
           4,
           1,
           6,
           16,
           9,
           11,
           14,
           13,
           13,
           32,
           8,
           3,
           4,
           15,
           17,
           7,
           12,
           18,
           12,
           9,
           13,
           6,
           6,
           18,
           20,
           23,
           27,
           22,
           25,
           14,
           11,
           20,
           9,
           11,
           16,
           18,
           17,
           17,
           21,
           9,
           18,
           28,
           15,
           7,
           13,
           15
          ],
          "sizemode": "area",
          "sizeref": 0.0904,
          "symbol": "circle"
         },
         "mode": "markers",
         "name": "Drought",
         "orientation": "h",
         "showlegend": true,
         "type": "scatter",
         "x": [
          1900,
          1903,
          1906,
          1910,
          1919,
          1920,
          1921,
          1928,
          1931,
          1933,
          1940,
          1942,
          1943,
          1946,
          1947,
          1960,
          1961,
          1963,
          1964,
          1965,
          1966,
          1967,
          1968,
          1969,
          1970,
          1971,
          1972,
          1973,
          1974,
          1975,
          1976,
          1977,
          1978,
          1979,
          1980,
          1981,
          1982,
          1983,
          1984,
          1985,
          1986,
          1987,
          1988,
          1989,
          1990,
          1991,
          1992,
          1993,
          1994,
          1995,
          1996,
          1997,
          1998,
          1999,
          2000,
          2001,
          2002,
          2003,
          2004,
          2005,
          2006,
          2007,
          2008,
          2009,
          2010,
          2011,
          2012,
          2013,
          2014,
          2015,
          2016,
          2017,
          2018,
          2019
         ],
         "xaxis": "x",
         "y": [
          "Drought",
          "Drought",
          "Drought",
          "Drought",
          "Drought",
          "Drought",
          "Drought",
          "Drought",
          "Drought",
          "Drought",
          "Drought",
          "Drought",
          "Drought",
          "Drought",
          "Drought",
          "Drought",
          "Drought",
          "Drought",
          "Drought",
          "Drought",
          "Drought",
          "Drought",
          "Drought",
          "Drought",
          "Drought",
          "Drought",
          "Drought",
          "Drought",
          "Drought",
          "Drought",
          "Drought",
          "Drought",
          "Drought",
          "Drought",
          "Drought",
          "Drought",
          "Drought",
          "Drought",
          "Drought",
          "Drought",
          "Drought",
          "Drought",
          "Drought",
          "Drought",
          "Drought",
          "Drought",
          "Drought",
          "Drought",
          "Drought",
          "Drought",
          "Drought",
          "Drought",
          "Drought",
          "Drought",
          "Drought",
          "Drought",
          "Drought",
          "Drought",
          "Drought",
          "Drought",
          "Drought",
          "Drought",
          "Drought",
          "Drought",
          "Drought",
          "Drought",
          "Drought",
          "Drought",
          "Drought",
          "Drought",
          "Drought",
          "Drought",
          "Drought",
          "Drought"
         ],
         "yaxis": "y"
        },
        {
         "hovertemplate": "<b>%{hovertext}</b><br><br>Entity=%{y}<br>Year=%{x}<br>Disasters=%{marker.size}<extra></extra>",
         "hovertext": [
          "Earthquake",
          "Earthquake",
          "Earthquake",
          "Earthquake",
          "Earthquake",
          "Earthquake",
          "Earthquake",
          "Earthquake",
          "Earthquake",
          "Earthquake",
          "Earthquake",
          "Earthquake",
          "Earthquake",
          "Earthquake",
          "Earthquake",
          "Earthquake",
          "Earthquake",
          "Earthquake",
          "Earthquake",
          "Earthquake",
          "Earthquake",
          "Earthquake",
          "Earthquake",
          "Earthquake",
          "Earthquake",
          "Earthquake",
          "Earthquake",
          "Earthquake",
          "Earthquake",
          "Earthquake",
          "Earthquake",
          "Earthquake",
          "Earthquake",
          "Earthquake",
          "Earthquake",
          "Earthquake",
          "Earthquake",
          "Earthquake",
          "Earthquake",
          "Earthquake",
          "Earthquake",
          "Earthquake",
          "Earthquake",
          "Earthquake",
          "Earthquake",
          "Earthquake",
          "Earthquake",
          "Earthquake",
          "Earthquake",
          "Earthquake",
          "Earthquake",
          "Earthquake",
          "Earthquake",
          "Earthquake",
          "Earthquake",
          "Earthquake",
          "Earthquake",
          "Earthquake",
          "Earthquake",
          "Earthquake",
          "Earthquake",
          "Earthquake",
          "Earthquake",
          "Earthquake",
          "Earthquake",
          "Earthquake",
          "Earthquake",
          "Earthquake",
          "Earthquake",
          "Earthquake",
          "Earthquake",
          "Earthquake",
          "Earthquake",
          "Earthquake",
          "Earthquake",
          "Earthquake",
          "Earthquake",
          "Earthquake",
          "Earthquake",
          "Earthquake",
          "Earthquake",
          "Earthquake",
          "Earthquake",
          "Earthquake",
          "Earthquake",
          "Earthquake",
          "Earthquake",
          "Earthquake",
          "Earthquake",
          "Earthquake",
          "Earthquake",
          "Earthquake",
          "Earthquake",
          "Earthquake",
          "Earthquake",
          "Earthquake",
          "Earthquake",
          "Earthquake",
          "Earthquake",
          "Earthquake",
          "Earthquake",
          "Earthquake",
          "Earthquake",
          "Earthquake",
          "Earthquake",
          "Earthquake",
          "Earthquake",
          "Earthquake",
          "Earthquake",
          "Earthquake",
          "Earthquake",
          "Earthquake",
          "Earthquake",
          "Earthquake",
          "Earthquake",
          "Earthquake"
         ],
         "legendgroup": "Earthquake",
         "marker": {
          "color": "#EF553B",
          "size": [
           2,
           3,
           1,
           1,
           2,
           10,
           5,
           3,
           3,
           3,
           2,
           4,
           4,
           3,
           1,
           3,
           5,
           3,
           1,
           2,
           5,
           2,
           2,
           1,
           6,
           7,
           2,
           7,
           4,
           2,
           4,
           4,
           3,
           2,
           2,
           6,
           4,
           2,
           5,
           5,
           4,
           4,
           8,
           2,
           5,
           6,
           4,
           3,
           8,
           7,
           5,
           4,
           6,
           8,
           4,
           3,
           9,
           2,
           3,
           3,
           7,
           7,
           11,
           10,
           14,
           8,
           11,
           5,
           5,
           4,
           4,
           4,
           20,
           14,
           9,
           25,
           24,
           17,
           18,
           25,
           13,
           22,
           21,
           19,
           18,
           19,
           43,
           29,
           25,
           20,
           25,
           26,
           13,
           23,
           30,
           33,
           30,
           25,
           37,
           40,
           42,
           25,
           24,
           21,
           23,
           22,
           24,
           30,
           27,
           29,
           26,
           23,
           30,
           19,
           20,
           32
          ],
          "sizemode": "area",
          "sizeref": 0.0904,
          "symbol": "circle"
         },
         "mode": "markers",
         "name": "Earthquake",
         "orientation": "h",
         "showlegend": true,
         "type": "scatter",
         "x": [
          1901,
          1902,
          1903,
          1904,
          1905,
          1906,
          1907,
          1908,
          1909,
          1910,
          1912,
          1913,
          1914,
          1915,
          1916,
          1917,
          1918,
          1920,
          1921,
          1922,
          1923,
          1924,
          1925,
          1926,
          1927,
          1928,
          1929,
          1930,
          1931,
          1932,
          1933,
          1934,
          1935,
          1936,
          1938,
          1939,
          1940,
          1941,
          1942,
          1943,
          1944,
          1945,
          1946,
          1947,
          1948,
          1949,
          1950,
          1951,
          1952,
          1953,
          1954,
          1955,
          1956,
          1957,
          1958,
          1959,
          1960,
          1961,
          1962,
          1963,
          1964,
          1965,
          1966,
          1967,
          1968,
          1969,
          1970,
          1971,
          1972,
          1973,
          1974,
          1975,
          1976,
          1977,
          1978,
          1979,
          1980,
          1981,
          1982,
          1983,
          1984,
          1985,
          1986,
          1987,
          1988,
          1989,
          1990,
          1991,
          1992,
          1993,
          1994,
          1995,
          1996,
          1997,
          1998,
          1999,
          2000,
          2001,
          2002,
          2003,
          2004,
          2005,
          2006,
          2007,
          2008,
          2009,
          2010,
          2011,
          2012,
          2013,
          2014,
          2015,
          2016,
          2017,
          2018,
          2019
         ],
         "xaxis": "x",
         "y": [
          "Earthquake",
          "Earthquake",
          "Earthquake",
          "Earthquake",
          "Earthquake",
          "Earthquake",
          "Earthquake",
          "Earthquake",
          "Earthquake",
          "Earthquake",
          "Earthquake",
          "Earthquake",
          "Earthquake",
          "Earthquake",
          "Earthquake",
          "Earthquake",
          "Earthquake",
          "Earthquake",
          "Earthquake",
          "Earthquake",
          "Earthquake",
          "Earthquake",
          "Earthquake",
          "Earthquake",
          "Earthquake",
          "Earthquake",
          "Earthquake",
          "Earthquake",
          "Earthquake",
          "Earthquake",
          "Earthquake",
          "Earthquake",
          "Earthquake",
          "Earthquake",
          "Earthquake",
          "Earthquake",
          "Earthquake",
          "Earthquake",
          "Earthquake",
          "Earthquake",
          "Earthquake",
          "Earthquake",
          "Earthquake",
          "Earthquake",
          "Earthquake",
          "Earthquake",
          "Earthquake",
          "Earthquake",
          "Earthquake",
          "Earthquake",
          "Earthquake",
          "Earthquake",
          "Earthquake",
          "Earthquake",
          "Earthquake",
          "Earthquake",
          "Earthquake",
          "Earthquake",
          "Earthquake",
          "Earthquake",
          "Earthquake",
          "Earthquake",
          "Earthquake",
          "Earthquake",
          "Earthquake",
          "Earthquake",
          "Earthquake",
          "Earthquake",
          "Earthquake",
          "Earthquake",
          "Earthquake",
          "Earthquake",
          "Earthquake",
          "Earthquake",
          "Earthquake",
          "Earthquake",
          "Earthquake",
          "Earthquake",
          "Earthquake",
          "Earthquake",
          "Earthquake",
          "Earthquake",
          "Earthquake",
          "Earthquake",
          "Earthquake",
          "Earthquake",
          "Earthquake",
          "Earthquake",
          "Earthquake",
          "Earthquake",
          "Earthquake",
          "Earthquake",
          "Earthquake",
          "Earthquake",
          "Earthquake",
          "Earthquake",
          "Earthquake",
          "Earthquake",
          "Earthquake",
          "Earthquake",
          "Earthquake",
          "Earthquake",
          "Earthquake",
          "Earthquake",
          "Earthquake",
          "Earthquake",
          "Earthquake",
          "Earthquake",
          "Earthquake",
          "Earthquake",
          "Earthquake",
          "Earthquake",
          "Earthquake",
          "Earthquake",
          "Earthquake",
          "Earthquake"
         ],
         "yaxis": "y"
        },
        {
         "hovertemplate": "<b>%{hovertext}</b><br><br>Entity=%{y}<br>Year=%{x}<br>Disasters=%{marker.size}<extra></extra>",
         "hovertext": [
          "Extreme temperature",
          "Extreme temperature",
          "Extreme temperature",
          "Extreme temperature",
          "Extreme temperature",
          "Extreme temperature",
          "Extreme temperature",
          "Extreme temperature",
          "Extreme temperature",
          "Extreme temperature",
          "Extreme temperature",
          "Extreme temperature",
          "Extreme temperature",
          "Extreme temperature",
          "Extreme temperature",
          "Extreme temperature",
          "Extreme temperature",
          "Extreme temperature",
          "Extreme temperature",
          "Extreme temperature",
          "Extreme temperature",
          "Extreme temperature",
          "Extreme temperature",
          "Extreme temperature",
          "Extreme temperature",
          "Extreme temperature",
          "Extreme temperature",
          "Extreme temperature",
          "Extreme temperature",
          "Extreme temperature",
          "Extreme temperature",
          "Extreme temperature",
          "Extreme temperature",
          "Extreme temperature",
          "Extreme temperature",
          "Extreme temperature",
          "Extreme temperature",
          "Extreme temperature",
          "Extreme temperature",
          "Extreme temperature",
          "Extreme temperature",
          "Extreme temperature",
          "Extreme temperature",
          "Extreme temperature",
          "Extreme temperature",
          "Extreme temperature",
          "Extreme temperature",
          "Extreme temperature",
          "Extreme temperature",
          "Extreme temperature",
          "Extreme temperature",
          "Extreme temperature",
          "Extreme temperature",
          "Extreme temperature",
          "Extreme temperature",
          "Extreme temperature",
          "Extreme temperature",
          "Extreme temperature"
         ],
         "legendgroup": "Extreme temperature",
         "marker": {
          "color": "#00cc96",
          "size": [
           2,
           2,
           3,
           1,
           2,
           1,
           1,
           2,
           1,
           2,
           2,
           1,
           2,
           3,
           3,
           1,
           1,
           4,
           3,
           2,
           3,
           2,
           1,
           8,
           2,
           6,
           6,
           5,
           13,
           8,
           7,
           4,
           9,
           13,
           5,
           13,
           12,
           8,
           31,
           23,
           15,
           25,
           16,
           30,
           24,
           25,
           10,
           25,
           29,
           16,
           51,
           14,
           17,
           12,
           12,
           11,
           25,
           20
          ],
          "sizemode": "area",
          "sizeref": 0.0904,
          "symbol": "circle"
         },
         "mode": "markers",
         "name": "Extreme temperature",
         "orientation": "h",
         "showlegend": true,
         "type": "scatter",
         "x": [
          1936,
          1951,
          1953,
          1955,
          1958,
          1961,
          1962,
          1963,
          1965,
          1966,
          1968,
          1971,
          1972,
          1973,
          1975,
          1977,
          1978,
          1979,
          1980,
          1981,
          1982,
          1983,
          1984,
          1985,
          1986,
          1987,
          1988,
          1989,
          1990,
          1991,
          1992,
          1993,
          1994,
          1995,
          1996,
          1997,
          1998,
          1999,
          2000,
          2001,
          2002,
          2003,
          2004,
          2005,
          2006,
          2007,
          2008,
          2009,
          2010,
          2011,
          2012,
          2013,
          2014,
          2015,
          2016,
          2017,
          2018,
          2019
         ],
         "xaxis": "x",
         "y": [
          "Extreme temperature",
          "Extreme temperature",
          "Extreme temperature",
          "Extreme temperature",
          "Extreme temperature",
          "Extreme temperature",
          "Extreme temperature",
          "Extreme temperature",
          "Extreme temperature",
          "Extreme temperature",
          "Extreme temperature",
          "Extreme temperature",
          "Extreme temperature",
          "Extreme temperature",
          "Extreme temperature",
          "Extreme temperature",
          "Extreme temperature",
          "Extreme temperature",
          "Extreme temperature",
          "Extreme temperature",
          "Extreme temperature",
          "Extreme temperature",
          "Extreme temperature",
          "Extreme temperature",
          "Extreme temperature",
          "Extreme temperature",
          "Extreme temperature",
          "Extreme temperature",
          "Extreme temperature",
          "Extreme temperature",
          "Extreme temperature",
          "Extreme temperature",
          "Extreme temperature",
          "Extreme temperature",
          "Extreme temperature",
          "Extreme temperature",
          "Extreme temperature",
          "Extreme temperature",
          "Extreme temperature",
          "Extreme temperature",
          "Extreme temperature",
          "Extreme temperature",
          "Extreme temperature",
          "Extreme temperature",
          "Extreme temperature",
          "Extreme temperature",
          "Extreme temperature",
          "Extreme temperature",
          "Extreme temperature",
          "Extreme temperature",
          "Extreme temperature",
          "Extreme temperature",
          "Extreme temperature",
          "Extreme temperature",
          "Extreme temperature",
          "Extreme temperature",
          "Extreme temperature",
          "Extreme temperature"
         ],
         "yaxis": "y"
        },
        {
         "hovertemplate": "<b>%{hovertext}</b><br><br>Entity=%{y}<br>Year=%{x}<br>Disasters=%{marker.size}<extra></extra>",
         "hovertext": [
          "Extreme weather",
          "Extreme weather",
          "Extreme weather",
          "Extreme weather",
          "Extreme weather",
          "Extreme weather",
          "Extreme weather",
          "Extreme weather",
          "Extreme weather",
          "Extreme weather",
          "Extreme weather",
          "Extreme weather",
          "Extreme weather",
          "Extreme weather",
          "Extreme weather",
          "Extreme weather",
          "Extreme weather",
          "Extreme weather",
          "Extreme weather",
          "Extreme weather",
          "Extreme weather",
          "Extreme weather",
          "Extreme weather",
          "Extreme weather",
          "Extreme weather",
          "Extreme weather",
          "Extreme weather",
          "Extreme weather",
          "Extreme weather",
          "Extreme weather",
          "Extreme weather",
          "Extreme weather",
          "Extreme weather",
          "Extreme weather",
          "Extreme weather",
          "Extreme weather",
          "Extreme weather",
          "Extreme weather",
          "Extreme weather",
          "Extreme weather",
          "Extreme weather",
          "Extreme weather",
          "Extreme weather",
          "Extreme weather",
          "Extreme weather",
          "Extreme weather",
          "Extreme weather",
          "Extreme weather",
          "Extreme weather",
          "Extreme weather",
          "Extreme weather",
          "Extreme weather",
          "Extreme weather",
          "Extreme weather",
          "Extreme weather",
          "Extreme weather",
          "Extreme weather",
          "Extreme weather",
          "Extreme weather",
          "Extreme weather",
          "Extreme weather",
          "Extreme weather",
          "Extreme weather",
          "Extreme weather",
          "Extreme weather",
          "Extreme weather",
          "Extreme weather",
          "Extreme weather",
          "Extreme weather",
          "Extreme weather",
          "Extreme weather",
          "Extreme weather",
          "Extreme weather",
          "Extreme weather",
          "Extreme weather",
          "Extreme weather",
          "Extreme weather",
          "Extreme weather",
          "Extreme weather",
          "Extreme weather",
          "Extreme weather",
          "Extreme weather",
          "Extreme weather",
          "Extreme weather",
          "Extreme weather",
          "Extreme weather",
          "Extreme weather",
          "Extreme weather",
          "Extreme weather",
          "Extreme weather",
          "Extreme weather",
          "Extreme weather",
          "Extreme weather",
          "Extreme weather",
          "Extreme weather",
          "Extreme weather",
          "Extreme weather",
          "Extreme weather",
          "Extreme weather",
          "Extreme weather",
          "Extreme weather",
          "Extreme weather",
          "Extreme weather",
          "Extreme weather",
          "Extreme weather",
          "Extreme weather",
          "Extreme weather",
          "Extreme weather",
          "Extreme weather",
          "Extreme weather",
          "Extreme weather",
          "Extreme weather",
          "Extreme weather",
          "Extreme weather",
          "Extreme weather",
          "Extreme weather"
         ],
         "legendgroup": "Extreme weather",
         "marker": {
          "color": "#ab63fa",
          "size": [
           1,
           1,
           2,
           1,
           1,
           3,
           5,
           1,
           2,
           5,
           1,
           1,
           2,
           1,
           2,
           1,
           2,
           1,
           2,
           6,
           2,
           3,
           7,
           4,
           7,
           2,
           4,
           4,
           5,
           3,
           4,
           7,
           5,
           3,
           2,
           2,
           3,
           2,
           3,
           3,
           5,
           7,
           5,
           7,
           10,
           8,
           7,
           11,
           10,
           11,
           10,
           19,
           14,
           9,
           13,
           16,
           20,
           14,
           13,
           21,
           22,
           19,
           28,
           25,
           25,
           25,
           24,
           22,
           26,
           22,
           28,
           28,
           36,
           32,
           42,
           31,
           42,
           50,
           52,
           59,
           57,
           51,
           56,
           58,
           60,
           73,
           137,
           66,
           76,
           108,
           81,
           81,
           77,
           79,
           88,
           106,
           102,
           105,
           122,
           86,
           124,
           130,
           76,
           105,
           111,
           87,
           94,
           84,
           90,
           105,
           99,
           118,
           84,
           85,
           84,
           85
          ],
          "sizemode": "area",
          "sizeref": 0.0904,
          "symbol": "circle"
         },
         "mode": "markers",
         "name": "Extreme weather",
         "orientation": "h",
         "showlegend": true,
         "type": "scatter",
         "x": [
          1900,
          1902,
          1903,
          1904,
          1905,
          1906,
          1909,
          1910,
          1911,
          1912,
          1913,
          1914,
          1915,
          1916,
          1917,
          1918,
          1919,
          1920,
          1922,
          1923,
          1924,
          1925,
          1926,
          1927,
          1928,
          1929,
          1930,
          1931,
          1932,
          1933,
          1934,
          1935,
          1936,
          1937,
          1938,
          1939,
          1940,
          1941,
          1942,
          1943,
          1944,
          1945,
          1946,
          1947,
          1948,
          1949,
          1950,
          1951,
          1952,
          1953,
          1954,
          1955,
          1956,
          1957,
          1958,
          1959,
          1960,
          1961,
          1962,
          1963,
          1964,
          1965,
          1966,
          1967,
          1968,
          1969,
          1970,
          1971,
          1972,
          1973,
          1974,
          1975,
          1976,
          1977,
          1978,
          1979,
          1980,
          1981,
          1982,
          1983,
          1984,
          1985,
          1986,
          1987,
          1988,
          1989,
          1990,
          1991,
          1992,
          1993,
          1994,
          1995,
          1996,
          1997,
          1998,
          1999,
          2000,
          2001,
          2002,
          2003,
          2004,
          2005,
          2006,
          2007,
          2008,
          2009,
          2010,
          2011,
          2012,
          2013,
          2014,
          2015,
          2016,
          2017,
          2018,
          2019
         ],
         "xaxis": "x",
         "y": [
          "Extreme weather",
          "Extreme weather",
          "Extreme weather",
          "Extreme weather",
          "Extreme weather",
          "Extreme weather",
          "Extreme weather",
          "Extreme weather",
          "Extreme weather",
          "Extreme weather",
          "Extreme weather",
          "Extreme weather",
          "Extreme weather",
          "Extreme weather",
          "Extreme weather",
          "Extreme weather",
          "Extreme weather",
          "Extreme weather",
          "Extreme weather",
          "Extreme weather",
          "Extreme weather",
          "Extreme weather",
          "Extreme weather",
          "Extreme weather",
          "Extreme weather",
          "Extreme weather",
          "Extreme weather",
          "Extreme weather",
          "Extreme weather",
          "Extreme weather",
          "Extreme weather",
          "Extreme weather",
          "Extreme weather",
          "Extreme weather",
          "Extreme weather",
          "Extreme weather",
          "Extreme weather",
          "Extreme weather",
          "Extreme weather",
          "Extreme weather",
          "Extreme weather",
          "Extreme weather",
          "Extreme weather",
          "Extreme weather",
          "Extreme weather",
          "Extreme weather",
          "Extreme weather",
          "Extreme weather",
          "Extreme weather",
          "Extreme weather",
          "Extreme weather",
          "Extreme weather",
          "Extreme weather",
          "Extreme weather",
          "Extreme weather",
          "Extreme weather",
          "Extreme weather",
          "Extreme weather",
          "Extreme weather",
          "Extreme weather",
          "Extreme weather",
          "Extreme weather",
          "Extreme weather",
          "Extreme weather",
          "Extreme weather",
          "Extreme weather",
          "Extreme weather",
          "Extreme weather",
          "Extreme weather",
          "Extreme weather",
          "Extreme weather",
          "Extreme weather",
          "Extreme weather",
          "Extreme weather",
          "Extreme weather",
          "Extreme weather",
          "Extreme weather",
          "Extreme weather",
          "Extreme weather",
          "Extreme weather",
          "Extreme weather",
          "Extreme weather",
          "Extreme weather",
          "Extreme weather",
          "Extreme weather",
          "Extreme weather",
          "Extreme weather",
          "Extreme weather",
          "Extreme weather",
          "Extreme weather",
          "Extreme weather",
          "Extreme weather",
          "Extreme weather",
          "Extreme weather",
          "Extreme weather",
          "Extreme weather",
          "Extreme weather",
          "Extreme weather",
          "Extreme weather",
          "Extreme weather",
          "Extreme weather",
          "Extreme weather",
          "Extreme weather",
          "Extreme weather",
          "Extreme weather",
          "Extreme weather",
          "Extreme weather",
          "Extreme weather",
          "Extreme weather",
          "Extreme weather",
          "Extreme weather",
          "Extreme weather",
          "Extreme weather",
          "Extreme weather",
          "Extreme weather",
          "Extreme weather"
         ],
         "yaxis": "y"
        },
        {
         "hovertemplate": "<b>%{hovertext}</b><br><br>Entity=%{y}<br>Year=%{x}<br>Disasters=%{marker.size}<extra></extra>",
         "hovertext": [
          "Flood",
          "Flood",
          "Flood",
          "Flood",
          "Flood",
          "Flood",
          "Flood",
          "Flood",
          "Flood",
          "Flood",
          "Flood",
          "Flood",
          "Flood",
          "Flood",
          "Flood",
          "Flood",
          "Flood",
          "Flood",
          "Flood",
          "Flood",
          "Flood",
          "Flood",
          "Flood",
          "Flood",
          "Flood",
          "Flood",
          "Flood",
          "Flood",
          "Flood",
          "Flood",
          "Flood",
          "Flood",
          "Flood",
          "Flood",
          "Flood",
          "Flood",
          "Flood",
          "Flood",
          "Flood",
          "Flood",
          "Flood",
          "Flood",
          "Flood",
          "Flood",
          "Flood",
          "Flood",
          "Flood",
          "Flood",
          "Flood",
          "Flood",
          "Flood",
          "Flood",
          "Flood",
          "Flood",
          "Flood",
          "Flood",
          "Flood",
          "Flood",
          "Flood",
          "Flood",
          "Flood",
          "Flood",
          "Flood",
          "Flood",
          "Flood",
          "Flood",
          "Flood",
          "Flood",
          "Flood",
          "Flood",
          "Flood",
          "Flood",
          "Flood",
          "Flood",
          "Flood",
          "Flood",
          "Flood",
          "Flood",
          "Flood",
          "Flood",
          "Flood",
          "Flood",
          "Flood",
          "Flood",
          "Flood",
          "Flood",
          "Flood",
          "Flood",
          "Flood",
          "Flood",
          "Flood",
          "Flood",
          "Flood",
          "Flood",
          "Flood",
          "Flood"
         ],
         "legendgroup": "Flood",
         "marker": {
          "color": "#FFA15A",
          "size": [
           1,
           2,
           2,
           1,
           1,
           1,
           1,
           1,
           1,
           1,
           4,
           2,
           2,
           1,
           1,
           2,
           1,
           1,
           2,
           2,
           2,
           1,
           2,
           1,
           5,
           2,
           10,
           7,
           4,
           12,
           9,
           3,
           9,
           11,
           3,
           13,
           7,
           8,
           8,
           8,
           22,
           19,
           23,
           26,
           20,
           14,
           31,
           15,
           15,
           20,
           19,
           17,
           17,
           48,
           47,
           34,
           39,
           43,
           48,
           49,
           47,
           58,
           50,
           68,
           76,
           46,
           60,
           77,
           59,
           84,
           88,
           94,
           92,
           95,
           94,
           122,
           157,
           157,
           172,
           158,
           128,
           193,
           226,
           218,
           165,
           151,
           184,
           156,
           136,
           149,
           135,
           160,
           161,
           114,
           109,
           170
          ],
          "sizemode": "area",
          "sizeref": 0.0904,
          "symbol": "circle"
         },
         "mode": "markers",
         "name": "Flood",
         "orientation": "h",
         "showlegend": true,
         "type": "scatter",
         "x": [
          1900,
          1903,
          1906,
          1909,
          1910,
          1911,
          1915,
          1917,
          1920,
          1925,
          1926,
          1927,
          1928,
          1930,
          1931,
          1933,
          1935,
          1936,
          1937,
          1938,
          1939,
          1940,
          1943,
          1947,
          1948,
          1949,
          1950,
          1951,
          1952,
          1953,
          1954,
          1955,
          1956,
          1957,
          1958,
          1959,
          1960,
          1961,
          1962,
          1963,
          1964,
          1965,
          1966,
          1967,
          1968,
          1969,
          1970,
          1971,
          1972,
          1973,
          1974,
          1975,
          1976,
          1977,
          1978,
          1979,
          1980,
          1981,
          1982,
          1983,
          1984,
          1985,
          1986,
          1987,
          1988,
          1989,
          1990,
          1991,
          1992,
          1993,
          1994,
          1995,
          1996,
          1997,
          1998,
          1999,
          2000,
          2001,
          2002,
          2003,
          2004,
          2005,
          2006,
          2007,
          2008,
          2009,
          2010,
          2011,
          2012,
          2013,
          2014,
          2015,
          2016,
          2017,
          2018,
          2019
         ],
         "xaxis": "x",
         "y": [
          "Flood",
          "Flood",
          "Flood",
          "Flood",
          "Flood",
          "Flood",
          "Flood",
          "Flood",
          "Flood",
          "Flood",
          "Flood",
          "Flood",
          "Flood",
          "Flood",
          "Flood",
          "Flood",
          "Flood",
          "Flood",
          "Flood",
          "Flood",
          "Flood",
          "Flood",
          "Flood",
          "Flood",
          "Flood",
          "Flood",
          "Flood",
          "Flood",
          "Flood",
          "Flood",
          "Flood",
          "Flood",
          "Flood",
          "Flood",
          "Flood",
          "Flood",
          "Flood",
          "Flood",
          "Flood",
          "Flood",
          "Flood",
          "Flood",
          "Flood",
          "Flood",
          "Flood",
          "Flood",
          "Flood",
          "Flood",
          "Flood",
          "Flood",
          "Flood",
          "Flood",
          "Flood",
          "Flood",
          "Flood",
          "Flood",
          "Flood",
          "Flood",
          "Flood",
          "Flood",
          "Flood",
          "Flood",
          "Flood",
          "Flood",
          "Flood",
          "Flood",
          "Flood",
          "Flood",
          "Flood",
          "Flood",
          "Flood",
          "Flood",
          "Flood",
          "Flood",
          "Flood",
          "Flood",
          "Flood",
          "Flood",
          "Flood",
          "Flood",
          "Flood",
          "Flood",
          "Flood",
          "Flood",
          "Flood",
          "Flood",
          "Flood",
          "Flood",
          "Flood",
          "Flood",
          "Flood",
          "Flood",
          "Flood",
          "Flood",
          "Flood",
          "Flood"
         ],
         "yaxis": "y"
        },
        {
         "hovertemplate": "<b>%{hovertext}</b><br><br>Entity=%{y}<br>Year=%{x}<br>Disasters=%{marker.size}<extra></extra>",
         "hovertext": [
          "Impact"
         ],
         "legendgroup": "Impact",
         "marker": {
          "color": "#19d3f3",
          "size": [
           1
          ],
          "sizemode": "area",
          "sizeref": 0.0904,
          "symbol": "circle"
         },
         "mode": "markers",
         "name": "Impact",
         "orientation": "h",
         "showlegend": true,
         "type": "scatter",
         "x": [
          2013
         ],
         "xaxis": "x",
         "y": [
          "Impact"
         ],
         "yaxis": "y"
        },
        {
         "hovertemplate": "<b>%{hovertext}</b><br><br>Entity=%{y}<br>Year=%{x}<br>Disasters=%{marker.size}<extra></extra>",
         "hovertext": [
          "Landslide",
          "Landslide",
          "Landslide",
          "Landslide",
          "Landslide",
          "Landslide",
          "Landslide",
          "Landslide",
          "Landslide",
          "Landslide",
          "Landslide",
          "Landslide",
          "Landslide",
          "Landslide",
          "Landslide",
          "Landslide",
          "Landslide",
          "Landslide",
          "Landslide",
          "Landslide",
          "Landslide",
          "Landslide",
          "Landslide",
          "Landslide",
          "Landslide",
          "Landslide",
          "Landslide",
          "Landslide",
          "Landslide",
          "Landslide",
          "Landslide",
          "Landslide",
          "Landslide",
          "Landslide",
          "Landslide",
          "Landslide",
          "Landslide",
          "Landslide",
          "Landslide",
          "Landslide",
          "Landslide",
          "Landslide",
          "Landslide",
          "Landslide",
          "Landslide",
          "Landslide",
          "Landslide",
          "Landslide",
          "Landslide",
          "Landslide",
          "Landslide",
          "Landslide",
          "Landslide",
          "Landslide",
          "Landslide",
          "Landslide",
          "Landslide",
          "Landslide",
          "Landslide",
          "Landslide",
          "Landslide",
          "Landslide",
          "Landslide",
          "Landslide",
          "Landslide",
          "Landslide",
          "Landslide",
          "Landslide",
          "Landslide",
          "Landslide",
          "Landslide",
          "Landslide",
          "Landslide",
          "Landslide",
          "Landslide",
          "Landslide",
          "Landslide",
          "Landslide",
          "Landslide",
          "Landslide",
          "Landslide"
         ],
         "legendgroup": "Landslide",
         "marker": {
          "color": "#FF6692",
          "size": [
           1,
           1,
           1,
           2,
           1,
           1,
           1,
           1,
           1,
           1,
           1,
           2,
           1,
           1,
           1,
           1,
           8,
           2,
           5,
           1,
           1,
           2,
           2,
           2,
           2,
           1,
           5,
           4,
           2,
           4,
           1,
           5,
           5,
           5,
           5,
           10,
           5,
           6,
           3,
           2,
           7,
           4,
           8,
           11,
           15,
           6,
           6,
           9,
           13,
           15,
           15,
           4,
           9,
           7,
           22,
           11,
           16,
           24,
           13,
           22,
           18,
           28,
           24,
           20,
           21,
           15,
           13,
           20,
           10,
           12,
           29,
           32,
           17,
           13,
           11,
           15,
           20,
           13,
           25,
           13,
           22
          ],
          "sizemode": "area",
          "sizeref": 0.0904,
          "symbol": "circle"
         },
         "mode": "markers",
         "name": "Landslide",
         "orientation": "h",
         "showlegend": true,
         "type": "scatter",
         "x": [
          1909,
          1922,
          1923,
          1926,
          1930,
          1931,
          1932,
          1934,
          1936,
          1938,
          1941,
          1948,
          1949,
          1950,
          1951,
          1952,
          1954,
          1955,
          1956,
          1958,
          1959,
          1960,
          1961,
          1962,
          1963,
          1964,
          1965,
          1966,
          1967,
          1968,
          1969,
          1970,
          1971,
          1972,
          1973,
          1974,
          1975,
          1976,
          1977,
          1978,
          1979,
          1980,
          1981,
          1982,
          1983,
          1984,
          1985,
          1986,
          1987,
          1988,
          1989,
          1990,
          1991,
          1992,
          1993,
          1994,
          1995,
          1996,
          1997,
          1998,
          1999,
          2000,
          2001,
          2002,
          2003,
          2004,
          2005,
          2006,
          2007,
          2008,
          2009,
          2010,
          2011,
          2012,
          2013,
          2014,
          2015,
          2016,
          2017,
          2018,
          2019
         ],
         "xaxis": "x",
         "y": [
          "Landslide",
          "Landslide",
          "Landslide",
          "Landslide",
          "Landslide",
          "Landslide",
          "Landslide",
          "Landslide",
          "Landslide",
          "Landslide",
          "Landslide",
          "Landslide",
          "Landslide",
          "Landslide",
          "Landslide",
          "Landslide",
          "Landslide",
          "Landslide",
          "Landslide",
          "Landslide",
          "Landslide",
          "Landslide",
          "Landslide",
          "Landslide",
          "Landslide",
          "Landslide",
          "Landslide",
          "Landslide",
          "Landslide",
          "Landslide",
          "Landslide",
          "Landslide",
          "Landslide",
          "Landslide",
          "Landslide",
          "Landslide",
          "Landslide",
          "Landslide",
          "Landslide",
          "Landslide",
          "Landslide",
          "Landslide",
          "Landslide",
          "Landslide",
          "Landslide",
          "Landslide",
          "Landslide",
          "Landslide",
          "Landslide",
          "Landslide",
          "Landslide",
          "Landslide",
          "Landslide",
          "Landslide",
          "Landslide",
          "Landslide",
          "Landslide",
          "Landslide",
          "Landslide",
          "Landslide",
          "Landslide",
          "Landslide",
          "Landslide",
          "Landslide",
          "Landslide",
          "Landslide",
          "Landslide",
          "Landslide",
          "Landslide",
          "Landslide",
          "Landslide",
          "Landslide",
          "Landslide",
          "Landslide",
          "Landslide",
          "Landslide",
          "Landslide",
          "Landslide",
          "Landslide",
          "Landslide",
          "Landslide"
         ],
         "yaxis": "y"
        },
        {
         "hovertemplate": "<b>%{hovertext}</b><br><br>Entity=%{y}<br>Year=%{x}<br>Disasters=%{marker.size}<extra></extra>",
         "hovertext": [
          "Mass movement (dry)",
          "Mass movement (dry)",
          "Mass movement (dry)",
          "Mass movement (dry)",
          "Mass movement (dry)",
          "Mass movement (dry)",
          "Mass movement (dry)",
          "Mass movement (dry)",
          "Mass movement (dry)",
          "Mass movement (dry)",
          "Mass movement (dry)",
          "Mass movement (dry)",
          "Mass movement (dry)",
          "Mass movement (dry)",
          "Mass movement (dry)",
          "Mass movement (dry)",
          "Mass movement (dry)",
          "Mass movement (dry)",
          "Mass movement (dry)",
          "Mass movement (dry)",
          "Mass movement (dry)",
          "Mass movement (dry)",
          "Mass movement (dry)",
          "Mass movement (dry)",
          "Mass movement (dry)",
          "Mass movement (dry)",
          "Mass movement (dry)",
          "Mass movement (dry)",
          "Mass movement (dry)",
          "Mass movement (dry)",
          "Mass movement (dry)",
          "Mass movement (dry)",
          "Mass movement (dry)"
         ],
         "legendgroup": "Mass movement (dry)",
         "marker": {
          "color": "#B6E880",
          "size": [
           1,
           1,
           1,
           1,
           1,
           1,
           1,
           1,
           1,
           1,
           1,
           1,
           1,
           2,
           4,
           2,
           2,
           3,
           3,
           3,
           3,
           5,
           5,
           1,
           1,
           1,
           1,
           3,
           1,
           1,
           1,
           1,
           1
          ],
          "sizemode": "area",
          "sizeref": 0.0904,
          "symbol": "circle"
         },
         "mode": "markers",
         "name": "Mass movement (dry)",
         "orientation": "h",
         "showlegend": true,
         "type": "scatter",
         "x": [
          1903,
          1905,
          1908,
          1910,
          1915,
          1937,
          1955,
          1962,
          1963,
          1965,
          1970,
          1971,
          1980,
          1982,
          1983,
          1985,
          1987,
          1988,
          1989,
          1990,
          1991,
          1992,
          1993,
          2000,
          2002,
          2004,
          2006,
          2008,
          2009,
          2012,
          2013,
          2015,
          2018
         ],
         "xaxis": "x",
         "y": [
          "Mass movement (dry)",
          "Mass movement (dry)",
          "Mass movement (dry)",
          "Mass movement (dry)",
          "Mass movement (dry)",
          "Mass movement (dry)",
          "Mass movement (dry)",
          "Mass movement (dry)",
          "Mass movement (dry)",
          "Mass movement (dry)",
          "Mass movement (dry)",
          "Mass movement (dry)",
          "Mass movement (dry)",
          "Mass movement (dry)",
          "Mass movement (dry)",
          "Mass movement (dry)",
          "Mass movement (dry)",
          "Mass movement (dry)",
          "Mass movement (dry)",
          "Mass movement (dry)",
          "Mass movement (dry)",
          "Mass movement (dry)",
          "Mass movement (dry)",
          "Mass movement (dry)",
          "Mass movement (dry)",
          "Mass movement (dry)",
          "Mass movement (dry)",
          "Mass movement (dry)",
          "Mass movement (dry)",
          "Mass movement (dry)",
          "Mass movement (dry)",
          "Mass movement (dry)",
          "Mass movement (dry)"
         ],
         "yaxis": "y"
        },
        {
         "hovertemplate": "<b>%{hovertext}</b><br><br>Entity=%{y}<br>Year=%{x}<br>Disasters=%{marker.size}<extra></extra>",
         "hovertext": [
          "Volcanic activity",
          "Volcanic activity",
          "Volcanic activity",
          "Volcanic activity",
          "Volcanic activity",
          "Volcanic activity",
          "Volcanic activity",
          "Volcanic activity",
          "Volcanic activity",
          "Volcanic activity",
          "Volcanic activity",
          "Volcanic activity",
          "Volcanic activity",
          "Volcanic activity",
          "Volcanic activity",
          "Volcanic activity",
          "Volcanic activity",
          "Volcanic activity",
          "Volcanic activity",
          "Volcanic activity",
          "Volcanic activity",
          "Volcanic activity",
          "Volcanic activity",
          "Volcanic activity",
          "Volcanic activity",
          "Volcanic activity",
          "Volcanic activity",
          "Volcanic activity",
          "Volcanic activity",
          "Volcanic activity",
          "Volcanic activity",
          "Volcanic activity",
          "Volcanic activity",
          "Volcanic activity",
          "Volcanic activity",
          "Volcanic activity",
          "Volcanic activity",
          "Volcanic activity",
          "Volcanic activity",
          "Volcanic activity",
          "Volcanic activity",
          "Volcanic activity",
          "Volcanic activity",
          "Volcanic activity",
          "Volcanic activity",
          "Volcanic activity",
          "Volcanic activity",
          "Volcanic activity",
          "Volcanic activity",
          "Volcanic activity",
          "Volcanic activity",
          "Volcanic activity",
          "Volcanic activity",
          "Volcanic activity",
          "Volcanic activity",
          "Volcanic activity",
          "Volcanic activity",
          "Volcanic activity",
          "Volcanic activity",
          "Volcanic activity",
          "Volcanic activity",
          "Volcanic activity",
          "Volcanic activity",
          "Volcanic activity",
          "Volcanic activity",
          "Volcanic activity",
          "Volcanic activity",
          "Volcanic activity",
          "Volcanic activity",
          "Volcanic activity",
          "Volcanic activity",
          "Volcanic activity",
          "Volcanic activity",
          "Volcanic activity",
          "Volcanic activity",
          "Volcanic activity",
          "Volcanic activity",
          "Volcanic activity",
          "Volcanic activity"
         ],
         "legendgroup": "Volcanic activity",
         "marker": {
          "color": "#FF97FF",
          "size": [
           1,
           5,
           1,
           1,
           1,
           1,
           1,
           1,
           1,
           1,
           1,
           1,
           1,
           1,
           1,
           1,
           1,
           1,
           2,
           1,
           3,
           1,
           1,
           1,
           1,
           1,
           1,
           3,
           1,
           1,
           2,
           2,
           2,
           3,
           1,
           3,
           5,
           5,
           2,
           4,
           2,
           1,
           3,
           7,
           7,
           2,
           2,
           2,
           5,
           1,
           2,
           10,
           5,
           6,
           6,
           5,
           5,
           4,
           4,
           5,
           5,
           6,
           7,
           2,
           5,
           8,
           12,
           6,
           7,
           2,
           6,
           6,
           1,
           3,
           6,
           6,
           2,
           7,
           4
          ],
          "sizemode": "area",
          "sizeref": 0.0904,
          "symbol": "circle"
         },
         "mode": "markers",
         "name": "Volcanic activity",
         "orientation": "h",
         "showlegend": true,
         "type": "scatter",
         "x": [
          1900,
          1902,
          1903,
          1906,
          1909,
          1911,
          1914,
          1919,
          1926,
          1929,
          1930,
          1931,
          1937,
          1943,
          1944,
          1945,
          1946,
          1948,
          1949,
          1950,
          1951,
          1952,
          1953,
          1954,
          1956,
          1957,
          1960,
          1963,
          1964,
          1965,
          1966,
          1968,
          1969,
          1971,
          1973,
          1975,
          1976,
          1977,
          1978,
          1979,
          1980,
          1981,
          1982,
          1983,
          1984,
          1985,
          1986,
          1987,
          1988,
          1989,
          1990,
          1991,
          1992,
          1993,
          1994,
          1995,
          1996,
          1997,
          1998,
          1999,
          2000,
          2001,
          2002,
          2003,
          2004,
          2005,
          2006,
          2007,
          2008,
          2009,
          2010,
          2011,
          2012,
          2013,
          2014,
          2015,
          2017,
          2018,
          2019
         ],
         "xaxis": "x",
         "y": [
          "Volcanic activity",
          "Volcanic activity",
          "Volcanic activity",
          "Volcanic activity",
          "Volcanic activity",
          "Volcanic activity",
          "Volcanic activity",
          "Volcanic activity",
          "Volcanic activity",
          "Volcanic activity",
          "Volcanic activity",
          "Volcanic activity",
          "Volcanic activity",
          "Volcanic activity",
          "Volcanic activity",
          "Volcanic activity",
          "Volcanic activity",
          "Volcanic activity",
          "Volcanic activity",
          "Volcanic activity",
          "Volcanic activity",
          "Volcanic activity",
          "Volcanic activity",
          "Volcanic activity",
          "Volcanic activity",
          "Volcanic activity",
          "Volcanic activity",
          "Volcanic activity",
          "Volcanic activity",
          "Volcanic activity",
          "Volcanic activity",
          "Volcanic activity",
          "Volcanic activity",
          "Volcanic activity",
          "Volcanic activity",
          "Volcanic activity",
          "Volcanic activity",
          "Volcanic activity",
          "Volcanic activity",
          "Volcanic activity",
          "Volcanic activity",
          "Volcanic activity",
          "Volcanic activity",
          "Volcanic activity",
          "Volcanic activity",
          "Volcanic activity",
          "Volcanic activity",
          "Volcanic activity",
          "Volcanic activity",
          "Volcanic activity",
          "Volcanic activity",
          "Volcanic activity",
          "Volcanic activity",
          "Volcanic activity",
          "Volcanic activity",
          "Volcanic activity",
          "Volcanic activity",
          "Volcanic activity",
          "Volcanic activity",
          "Volcanic activity",
          "Volcanic activity",
          "Volcanic activity",
          "Volcanic activity",
          "Volcanic activity",
          "Volcanic activity",
          "Volcanic activity",
          "Volcanic activity",
          "Volcanic activity",
          "Volcanic activity",
          "Volcanic activity",
          "Volcanic activity",
          "Volcanic activity",
          "Volcanic activity",
          "Volcanic activity",
          "Volcanic activity",
          "Volcanic activity",
          "Volcanic activity",
          "Volcanic activity",
          "Volcanic activity"
         ],
         "yaxis": "y"
        },
        {
         "hovertemplate": "<b>%{hovertext}</b><br><br>Entity=%{y}<br>Year=%{x}<br>Disasters=%{marker.size}<extra></extra>",
         "hovertext": [
          "Wildfire",
          "Wildfire",
          "Wildfire",
          "Wildfire",
          "Wildfire",
          "Wildfire",
          "Wildfire",
          "Wildfire",
          "Wildfire",
          "Wildfire",
          "Wildfire",
          "Wildfire",
          "Wildfire",
          "Wildfire",
          "Wildfire",
          "Wildfire",
          "Wildfire",
          "Wildfire",
          "Wildfire",
          "Wildfire",
          "Wildfire",
          "Wildfire",
          "Wildfire",
          "Wildfire",
          "Wildfire",
          "Wildfire",
          "Wildfire",
          "Wildfire",
          "Wildfire",
          "Wildfire",
          "Wildfire",
          "Wildfire",
          "Wildfire",
          "Wildfire",
          "Wildfire",
          "Wildfire",
          "Wildfire",
          "Wildfire",
          "Wildfire",
          "Wildfire",
          "Wildfire",
          "Wildfire",
          "Wildfire",
          "Wildfire",
          "Wildfire",
          "Wildfire",
          "Wildfire",
          "Wildfire",
          "Wildfire",
          "Wildfire",
          "Wildfire",
          "Wildfire",
          "Wildfire",
          "Wildfire",
          "Wildfire",
          "Wildfire",
          "Wildfire",
          "Wildfire",
          "Wildfire",
          "Wildfire",
          "Wildfire",
          "Wildfire",
          "Wildfire"
         ],
         "legendgroup": "Wildfire",
         "marker": {
          "color": "#FECB52",
          "size": [
           1,
           1,
           1,
           1,
           1,
           2,
           1,
           1,
           1,
           1,
           1,
           2,
           3,
           2,
           3,
           2,
           3,
           3,
           3,
           2,
           1,
           2,
           3,
           4,
           4,
           4,
           3,
           12,
           7,
           13,
           6,
           8,
           3,
           4,
           8,
           8,
           2,
           13,
           7,
           5,
           16,
           18,
           22,
           30,
           14,
           22,
           14,
           8,
           13,
           9,
           18,
           5,
           9,
           7,
           8,
           6,
           10,
           4,
           12,
           10,
           13,
           10,
           13
          ],
          "sizemode": "area",
          "sizeref": 0.0904,
          "symbol": "circle"
         },
         "mode": "markers",
         "name": "Wildfire",
         "orientation": "h",
         "showlegend": true,
         "type": "scatter",
         "x": [
          1911,
          1918,
          1922,
          1929,
          1939,
          1944,
          1947,
          1949,
          1956,
          1965,
          1966,
          1967,
          1968,
          1969,
          1970,
          1971,
          1972,
          1973,
          1974,
          1975,
          1976,
          1977,
          1978,
          1979,
          1980,
          1981,
          1982,
          1983,
          1984,
          1985,
          1986,
          1987,
          1989,
          1990,
          1991,
          1992,
          1993,
          1994,
          1995,
          1996,
          1997,
          1998,
          1999,
          2000,
          2001,
          2002,
          2003,
          2004,
          2005,
          2006,
          2007,
          2008,
          2009,
          2010,
          2011,
          2012,
          2013,
          2014,
          2015,
          2016,
          2017,
          2018,
          2019
         ],
         "xaxis": "x",
         "y": [
          "Wildfire",
          "Wildfire",
          "Wildfire",
          "Wildfire",
          "Wildfire",
          "Wildfire",
          "Wildfire",
          "Wildfire",
          "Wildfire",
          "Wildfire",
          "Wildfire",
          "Wildfire",
          "Wildfire",
          "Wildfire",
          "Wildfire",
          "Wildfire",
          "Wildfire",
          "Wildfire",
          "Wildfire",
          "Wildfire",
          "Wildfire",
          "Wildfire",
          "Wildfire",
          "Wildfire",
          "Wildfire",
          "Wildfire",
          "Wildfire",
          "Wildfire",
          "Wildfire",
          "Wildfire",
          "Wildfire",
          "Wildfire",
          "Wildfire",
          "Wildfire",
          "Wildfire",
          "Wildfire",
          "Wildfire",
          "Wildfire",
          "Wildfire",
          "Wildfire",
          "Wildfire",
          "Wildfire",
          "Wildfire",
          "Wildfire",
          "Wildfire",
          "Wildfire",
          "Wildfire",
          "Wildfire",
          "Wildfire",
          "Wildfire",
          "Wildfire",
          "Wildfire",
          "Wildfire",
          "Wildfire",
          "Wildfire",
          "Wildfire",
          "Wildfire",
          "Wildfire",
          "Wildfire",
          "Wildfire",
          "Wildfire",
          "Wildfire",
          "Wildfire"
         ],
         "yaxis": "y"
        }
       ],
       "layout": {
        "legend": {
         "itemsizing": "constant",
         "title": {
          "text": "Entity"
         },
         "tracegroupgap": 0
        },
        "template": {
         "data": {
          "bar": [
           {
            "error_x": {
             "color": "#2a3f5f"
            },
            "error_y": {
             "color": "#2a3f5f"
            },
            "marker": {
             "line": {
              "color": "#E5ECF6",
              "width": 0.5
             },
             "pattern": {
              "fillmode": "overlay",
              "size": 10,
              "solidity": 0.2
             }
            },
            "type": "bar"
           }
          ],
          "barpolar": [
           {
            "marker": {
             "line": {
              "color": "#E5ECF6",
              "width": 0.5
             },
             "pattern": {
              "fillmode": "overlay",
              "size": 10,
              "solidity": 0.2
             }
            },
            "type": "barpolar"
           }
          ],
          "carpet": [
           {
            "aaxis": {
             "endlinecolor": "#2a3f5f",
             "gridcolor": "white",
             "linecolor": "white",
             "minorgridcolor": "white",
             "startlinecolor": "#2a3f5f"
            },
            "baxis": {
             "endlinecolor": "#2a3f5f",
             "gridcolor": "white",
             "linecolor": "white",
             "minorgridcolor": "white",
             "startlinecolor": "#2a3f5f"
            },
            "type": "carpet"
           }
          ],
          "choropleth": [
           {
            "colorbar": {
             "outlinewidth": 0,
             "ticks": ""
            },
            "type": "choropleth"
           }
          ],
          "contour": [
           {
            "colorbar": {
             "outlinewidth": 0,
             "ticks": ""
            },
            "colorscale": [
             [
              0,
              "#0d0887"
             ],
             [
              0.1111111111111111,
              "#46039f"
             ],
             [
              0.2222222222222222,
              "#7201a8"
             ],
             [
              0.3333333333333333,
              "#9c179e"
             ],
             [
              0.4444444444444444,
              "#bd3786"
             ],
             [
              0.5555555555555556,
              "#d8576b"
             ],
             [
              0.6666666666666666,
              "#ed7953"
             ],
             [
              0.7777777777777778,
              "#fb9f3a"
             ],
             [
              0.8888888888888888,
              "#fdca26"
             ],
             [
              1,
              "#f0f921"
             ]
            ],
            "type": "contour"
           }
          ],
          "contourcarpet": [
           {
            "colorbar": {
             "outlinewidth": 0,
             "ticks": ""
            },
            "type": "contourcarpet"
           }
          ],
          "heatmap": [
           {
            "colorbar": {
             "outlinewidth": 0,
             "ticks": ""
            },
            "colorscale": [
             [
              0,
              "#0d0887"
             ],
             [
              0.1111111111111111,
              "#46039f"
             ],
             [
              0.2222222222222222,
              "#7201a8"
             ],
             [
              0.3333333333333333,
              "#9c179e"
             ],
             [
              0.4444444444444444,
              "#bd3786"
             ],
             [
              0.5555555555555556,
              "#d8576b"
             ],
             [
              0.6666666666666666,
              "#ed7953"
             ],
             [
              0.7777777777777778,
              "#fb9f3a"
             ],
             [
              0.8888888888888888,
              "#fdca26"
             ],
             [
              1,
              "#f0f921"
             ]
            ],
            "type": "heatmap"
           }
          ],
          "heatmapgl": [
           {
            "colorbar": {
             "outlinewidth": 0,
             "ticks": ""
            },
            "colorscale": [
             [
              0,
              "#0d0887"
             ],
             [
              0.1111111111111111,
              "#46039f"
             ],
             [
              0.2222222222222222,
              "#7201a8"
             ],
             [
              0.3333333333333333,
              "#9c179e"
             ],
             [
              0.4444444444444444,
              "#bd3786"
             ],
             [
              0.5555555555555556,
              "#d8576b"
             ],
             [
              0.6666666666666666,
              "#ed7953"
             ],
             [
              0.7777777777777778,
              "#fb9f3a"
             ],
             [
              0.8888888888888888,
              "#fdca26"
             ],
             [
              1,
              "#f0f921"
             ]
            ],
            "type": "heatmapgl"
           }
          ],
          "histogram": [
           {
            "marker": {
             "pattern": {
              "fillmode": "overlay",
              "size": 10,
              "solidity": 0.2
             }
            },
            "type": "histogram"
           }
          ],
          "histogram2d": [
           {
            "colorbar": {
             "outlinewidth": 0,
             "ticks": ""
            },
            "colorscale": [
             [
              0,
              "#0d0887"
             ],
             [
              0.1111111111111111,
              "#46039f"
             ],
             [
              0.2222222222222222,
              "#7201a8"
             ],
             [
              0.3333333333333333,
              "#9c179e"
             ],
             [
              0.4444444444444444,
              "#bd3786"
             ],
             [
              0.5555555555555556,
              "#d8576b"
             ],
             [
              0.6666666666666666,
              "#ed7953"
             ],
             [
              0.7777777777777778,
              "#fb9f3a"
             ],
             [
              0.8888888888888888,
              "#fdca26"
             ],
             [
              1,
              "#f0f921"
             ]
            ],
            "type": "histogram2d"
           }
          ],
          "histogram2dcontour": [
           {
            "colorbar": {
             "outlinewidth": 0,
             "ticks": ""
            },
            "colorscale": [
             [
              0,
              "#0d0887"
             ],
             [
              0.1111111111111111,
              "#46039f"
             ],
             [
              0.2222222222222222,
              "#7201a8"
             ],
             [
              0.3333333333333333,
              "#9c179e"
             ],
             [
              0.4444444444444444,
              "#bd3786"
             ],
             [
              0.5555555555555556,
              "#d8576b"
             ],
             [
              0.6666666666666666,
              "#ed7953"
             ],
             [
              0.7777777777777778,
              "#fb9f3a"
             ],
             [
              0.8888888888888888,
              "#fdca26"
             ],
             [
              1,
              "#f0f921"
             ]
            ],
            "type": "histogram2dcontour"
           }
          ],
          "mesh3d": [
           {
            "colorbar": {
             "outlinewidth": 0,
             "ticks": ""
            },
            "type": "mesh3d"
           }
          ],
          "parcoords": [
           {
            "line": {
             "colorbar": {
              "outlinewidth": 0,
              "ticks": ""
             }
            },
            "type": "parcoords"
           }
          ],
          "pie": [
           {
            "automargin": true,
            "type": "pie"
           }
          ],
          "scatter": [
           {
            "marker": {
             "colorbar": {
              "outlinewidth": 0,
              "ticks": ""
             }
            },
            "type": "scatter"
           }
          ],
          "scatter3d": [
           {
            "line": {
             "colorbar": {
              "outlinewidth": 0,
              "ticks": ""
             }
            },
            "marker": {
             "colorbar": {
              "outlinewidth": 0,
              "ticks": ""
             }
            },
            "type": "scatter3d"
           }
          ],
          "scattercarpet": [
           {
            "marker": {
             "colorbar": {
              "outlinewidth": 0,
              "ticks": ""
             }
            },
            "type": "scattercarpet"
           }
          ],
          "scattergeo": [
           {
            "marker": {
             "colorbar": {
              "outlinewidth": 0,
              "ticks": ""
             }
            },
            "type": "scattergeo"
           }
          ],
          "scattergl": [
           {
            "marker": {
             "colorbar": {
              "outlinewidth": 0,
              "ticks": ""
             }
            },
            "type": "scattergl"
           }
          ],
          "scattermapbox": [
           {
            "marker": {
             "colorbar": {
              "outlinewidth": 0,
              "ticks": ""
             }
            },
            "type": "scattermapbox"
           }
          ],
          "scatterpolar": [
           {
            "marker": {
             "colorbar": {
              "outlinewidth": 0,
              "ticks": ""
             }
            },
            "type": "scatterpolar"
           }
          ],
          "scatterpolargl": [
           {
            "marker": {
             "colorbar": {
              "outlinewidth": 0,
              "ticks": ""
             }
            },
            "type": "scatterpolargl"
           }
          ],
          "scatterternary": [
           {
            "marker": {
             "colorbar": {
              "outlinewidth": 0,
              "ticks": ""
             }
            },
            "type": "scatterternary"
           }
          ],
          "surface": [
           {
            "colorbar": {
             "outlinewidth": 0,
             "ticks": ""
            },
            "colorscale": [
             [
              0,
              "#0d0887"
             ],
             [
              0.1111111111111111,
              "#46039f"
             ],
             [
              0.2222222222222222,
              "#7201a8"
             ],
             [
              0.3333333333333333,
              "#9c179e"
             ],
             [
              0.4444444444444444,
              "#bd3786"
             ],
             [
              0.5555555555555556,
              "#d8576b"
             ],
             [
              0.6666666666666666,
              "#ed7953"
             ],
             [
              0.7777777777777778,
              "#fb9f3a"
             ],
             [
              0.8888888888888888,
              "#fdca26"
             ],
             [
              1,
              "#f0f921"
             ]
            ],
            "type": "surface"
           }
          ],
          "table": [
           {
            "cells": {
             "fill": {
              "color": "#EBF0F8"
             },
             "line": {
              "color": "white"
             }
            },
            "header": {
             "fill": {
              "color": "#C8D4E3"
             },
             "line": {
              "color": "white"
             }
            },
            "type": "table"
           }
          ]
         },
         "layout": {
          "annotationdefaults": {
           "arrowcolor": "#2a3f5f",
           "arrowhead": 0,
           "arrowwidth": 1
          },
          "autotypenumbers": "strict",
          "coloraxis": {
           "colorbar": {
            "outlinewidth": 0,
            "ticks": ""
           }
          },
          "colorscale": {
           "diverging": [
            [
             0,
             "#8e0152"
            ],
            [
             0.1,
             "#c51b7d"
            ],
            [
             0.2,
             "#de77ae"
            ],
            [
             0.3,
             "#f1b6da"
            ],
            [
             0.4,
             "#fde0ef"
            ],
            [
             0.5,
             "#f7f7f7"
            ],
            [
             0.6,
             "#e6f5d0"
            ],
            [
             0.7,
             "#b8e186"
            ],
            [
             0.8,
             "#7fbc41"
            ],
            [
             0.9,
             "#4d9221"
            ],
            [
             1,
             "#276419"
            ]
           ],
           "sequential": [
            [
             0,
             "#0d0887"
            ],
            [
             0.1111111111111111,
             "#46039f"
            ],
            [
             0.2222222222222222,
             "#7201a8"
            ],
            [
             0.3333333333333333,
             "#9c179e"
            ],
            [
             0.4444444444444444,
             "#bd3786"
            ],
            [
             0.5555555555555556,
             "#d8576b"
            ],
            [
             0.6666666666666666,
             "#ed7953"
            ],
            [
             0.7777777777777778,
             "#fb9f3a"
            ],
            [
             0.8888888888888888,
             "#fdca26"
            ],
            [
             1,
             "#f0f921"
            ]
           ],
           "sequentialminus": [
            [
             0,
             "#0d0887"
            ],
            [
             0.1111111111111111,
             "#46039f"
            ],
            [
             0.2222222222222222,
             "#7201a8"
            ],
            [
             0.3333333333333333,
             "#9c179e"
            ],
            [
             0.4444444444444444,
             "#bd3786"
            ],
            [
             0.5555555555555556,
             "#d8576b"
            ],
            [
             0.6666666666666666,
             "#ed7953"
            ],
            [
             0.7777777777777778,
             "#fb9f3a"
            ],
            [
             0.8888888888888888,
             "#fdca26"
            ],
            [
             1,
             "#f0f921"
            ]
           ]
          },
          "colorway": [
           "#636efa",
           "#EF553B",
           "#00cc96",
           "#ab63fa",
           "#FFA15A",
           "#19d3f3",
           "#FF6692",
           "#B6E880",
           "#FF97FF",
           "#FECB52"
          ],
          "font": {
           "color": "#2a3f5f"
          },
          "geo": {
           "bgcolor": "white",
           "lakecolor": "white",
           "landcolor": "#E5ECF6",
           "showlakes": true,
           "showland": true,
           "subunitcolor": "white"
          },
          "hoverlabel": {
           "align": "left"
          },
          "hovermode": "closest",
          "mapbox": {
           "style": "light"
          },
          "paper_bgcolor": "white",
          "plot_bgcolor": "#E5ECF6",
          "polar": {
           "angularaxis": {
            "gridcolor": "white",
            "linecolor": "white",
            "ticks": ""
           },
           "bgcolor": "#E5ECF6",
           "radialaxis": {
            "gridcolor": "white",
            "linecolor": "white",
            "ticks": ""
           }
          },
          "scene": {
           "xaxis": {
            "backgroundcolor": "#E5ECF6",
            "gridcolor": "white",
            "gridwidth": 2,
            "linecolor": "white",
            "showbackground": true,
            "ticks": "",
            "zerolinecolor": "white"
           },
           "yaxis": {
            "backgroundcolor": "#E5ECF6",
            "gridcolor": "white",
            "gridwidth": 2,
            "linecolor": "white",
            "showbackground": true,
            "ticks": "",
            "zerolinecolor": "white"
           },
           "zaxis": {
            "backgroundcolor": "#E5ECF6",
            "gridcolor": "white",
            "gridwidth": 2,
            "linecolor": "white",
            "showbackground": true,
            "ticks": "",
            "zerolinecolor": "white"
           }
          },
          "shapedefaults": {
           "line": {
            "color": "#2a3f5f"
           }
          },
          "ternary": {
           "aaxis": {
            "gridcolor": "white",
            "linecolor": "white",
            "ticks": ""
           },
           "baxis": {
            "gridcolor": "white",
            "linecolor": "white",
            "ticks": ""
           },
           "bgcolor": "#E5ECF6",
           "caxis": {
            "gridcolor": "white",
            "linecolor": "white",
            "ticks": ""
           }
          },
          "title": {
           "x": 0.05
          },
          "xaxis": {
           "automargin": true,
           "gridcolor": "white",
           "linecolor": "white",
           "ticks": "",
           "title": {
            "standoff": 15
           },
           "zerolinecolor": "white",
           "zerolinewidth": 2
          },
          "yaxis": {
           "automargin": true,
           "gridcolor": "white",
           "linecolor": "white",
           "ticks": "",
           "title": {
            "standoff": 15
           },
           "zerolinecolor": "white",
           "zerolinewidth": 2
          }
         }
        },
        "title": {
         "text": "자연재해 종류와 그에 따른 빈도수(1900~2019)"
        },
        "xaxis": {
         "anchor": "y",
         "domain": [
          0,
          1
         ],
         "title": {
          "text": "Year"
         }
        },
        "yaxis": {
         "anchor": "x",
         "categoryarray": [
          "Wildfire",
          "Volcanic activity",
          "Mass movement (dry)",
          "Landslide",
          "Impact",
          "Flood",
          "Extreme weather",
          "Extreme temperature",
          "Earthquake",
          "Drought"
         ],
         "categoryorder": "array",
         "domain": [
          0,
          1
         ],
         "title": {
          "text": "Entity"
         }
        }
       }
      },
      "text/html": [
       "<div>                            <div id=\"4ebe958a-d2b5-411a-89f2-3ee6ff574d08\" class=\"plotly-graph-div\" style=\"height:525px; width:100%;\"></div>            <script type=\"text/javascript\">                require([\"plotly\"], function(Plotly) {                    window.PLOTLYENV=window.PLOTLYENV || {};                                    if (document.getElementById(\"4ebe958a-d2b5-411a-89f2-3ee6ff574d08\")) {                    Plotly.newPlot(                        \"4ebe958a-d2b5-411a-89f2-3ee6ff574d08\",                        [{\"hovertemplate\":\"<b>%{hovertext}</b><br><br>Entity=%{y}<br>Year=%{x}<br>Disasters=%{marker.size}<extra></extra>\",\"hovertext\":[\"Drought\",\"Drought\",\"Drought\",\"Drought\",\"Drought\",\"Drought\",\"Drought\",\"Drought\",\"Drought\",\"Drought\",\"Drought\",\"Drought\",\"Drought\",\"Drought\",\"Drought\",\"Drought\",\"Drought\",\"Drought\",\"Drought\",\"Drought\",\"Drought\",\"Drought\",\"Drought\",\"Drought\",\"Drought\",\"Drought\",\"Drought\",\"Drought\",\"Drought\",\"Drought\",\"Drought\",\"Drought\",\"Drought\",\"Drought\",\"Drought\",\"Drought\",\"Drought\",\"Drought\",\"Drought\",\"Drought\",\"Drought\",\"Drought\",\"Drought\",\"Drought\",\"Drought\",\"Drought\",\"Drought\",\"Drought\",\"Drought\",\"Drought\",\"Drought\",\"Drought\",\"Drought\",\"Drought\",\"Drought\",\"Drought\",\"Drought\",\"Drought\",\"Drought\",\"Drought\",\"Drought\",\"Drought\",\"Drought\",\"Drought\",\"Drought\",\"Drought\",\"Drought\",\"Drought\",\"Drought\",\"Drought\",\"Drought\",\"Drought\",\"Drought\",\"Drought\"],\"legendgroup\":\"Drought\",\"marker\":{\"color\":\"#636efa\",\"size\":[2,1,1,9,1,2,1,1,1,1,9,1,1,1,1,1,1,1,7,7,9,5,7,10,2,7,7,2,4,1,6,16,9,11,14,13,13,32,8,3,4,15,17,7,12,18,12,9,13,6,6,18,20,23,27,22,25,14,11,20,9,11,16,18,17,17,21,9,18,28,15,7,13,15],\"sizemode\":\"area\",\"sizeref\":0.0904,\"symbol\":\"circle\"},\"mode\":\"markers\",\"name\":\"Drought\",\"orientation\":\"h\",\"showlegend\":true,\"type\":\"scatter\",\"x\":[1900,1903,1906,1910,1919,1920,1921,1928,1931,1933,1940,1942,1943,1946,1947,1960,1961,1963,1964,1965,1966,1967,1968,1969,1970,1971,1972,1973,1974,1975,1976,1977,1978,1979,1980,1981,1982,1983,1984,1985,1986,1987,1988,1989,1990,1991,1992,1993,1994,1995,1996,1997,1998,1999,2000,2001,2002,2003,2004,2005,2006,2007,2008,2009,2010,2011,2012,2013,2014,2015,2016,2017,2018,2019],\"xaxis\":\"x\",\"y\":[\"Drought\",\"Drought\",\"Drought\",\"Drought\",\"Drought\",\"Drought\",\"Drought\",\"Drought\",\"Drought\",\"Drought\",\"Drought\",\"Drought\",\"Drought\",\"Drought\",\"Drought\",\"Drought\",\"Drought\",\"Drought\",\"Drought\",\"Drought\",\"Drought\",\"Drought\",\"Drought\",\"Drought\",\"Drought\",\"Drought\",\"Drought\",\"Drought\",\"Drought\",\"Drought\",\"Drought\",\"Drought\",\"Drought\",\"Drought\",\"Drought\",\"Drought\",\"Drought\",\"Drought\",\"Drought\",\"Drought\",\"Drought\",\"Drought\",\"Drought\",\"Drought\",\"Drought\",\"Drought\",\"Drought\",\"Drought\",\"Drought\",\"Drought\",\"Drought\",\"Drought\",\"Drought\",\"Drought\",\"Drought\",\"Drought\",\"Drought\",\"Drought\",\"Drought\",\"Drought\",\"Drought\",\"Drought\",\"Drought\",\"Drought\",\"Drought\",\"Drought\",\"Drought\",\"Drought\",\"Drought\",\"Drought\",\"Drought\",\"Drought\",\"Drought\",\"Drought\"],\"yaxis\":\"y\"},{\"hovertemplate\":\"<b>%{hovertext}</b><br><br>Entity=%{y}<br>Year=%{x}<br>Disasters=%{marker.size}<extra></extra>\",\"hovertext\":[\"Earthquake\",\"Earthquake\",\"Earthquake\",\"Earthquake\",\"Earthquake\",\"Earthquake\",\"Earthquake\",\"Earthquake\",\"Earthquake\",\"Earthquake\",\"Earthquake\",\"Earthquake\",\"Earthquake\",\"Earthquake\",\"Earthquake\",\"Earthquake\",\"Earthquake\",\"Earthquake\",\"Earthquake\",\"Earthquake\",\"Earthquake\",\"Earthquake\",\"Earthquake\",\"Earthquake\",\"Earthquake\",\"Earthquake\",\"Earthquake\",\"Earthquake\",\"Earthquake\",\"Earthquake\",\"Earthquake\",\"Earthquake\",\"Earthquake\",\"Earthquake\",\"Earthquake\",\"Earthquake\",\"Earthquake\",\"Earthquake\",\"Earthquake\",\"Earthquake\",\"Earthquake\",\"Earthquake\",\"Earthquake\",\"Earthquake\",\"Earthquake\",\"Earthquake\",\"Earthquake\",\"Earthquake\",\"Earthquake\",\"Earthquake\",\"Earthquake\",\"Earthquake\",\"Earthquake\",\"Earthquake\",\"Earthquake\",\"Earthquake\",\"Earthquake\",\"Earthquake\",\"Earthquake\",\"Earthquake\",\"Earthquake\",\"Earthquake\",\"Earthquake\",\"Earthquake\",\"Earthquake\",\"Earthquake\",\"Earthquake\",\"Earthquake\",\"Earthquake\",\"Earthquake\",\"Earthquake\",\"Earthquake\",\"Earthquake\",\"Earthquake\",\"Earthquake\",\"Earthquake\",\"Earthquake\",\"Earthquake\",\"Earthquake\",\"Earthquake\",\"Earthquake\",\"Earthquake\",\"Earthquake\",\"Earthquake\",\"Earthquake\",\"Earthquake\",\"Earthquake\",\"Earthquake\",\"Earthquake\",\"Earthquake\",\"Earthquake\",\"Earthquake\",\"Earthquake\",\"Earthquake\",\"Earthquake\",\"Earthquake\",\"Earthquake\",\"Earthquake\",\"Earthquake\",\"Earthquake\",\"Earthquake\",\"Earthquake\",\"Earthquake\",\"Earthquake\",\"Earthquake\",\"Earthquake\",\"Earthquake\",\"Earthquake\",\"Earthquake\",\"Earthquake\",\"Earthquake\",\"Earthquake\",\"Earthquake\",\"Earthquake\",\"Earthquake\",\"Earthquake\"],\"legendgroup\":\"Earthquake\",\"marker\":{\"color\":\"#EF553B\",\"size\":[2,3,1,1,2,10,5,3,3,3,2,4,4,3,1,3,5,3,1,2,5,2,2,1,6,7,2,7,4,2,4,4,3,2,2,6,4,2,5,5,4,4,8,2,5,6,4,3,8,7,5,4,6,8,4,3,9,2,3,3,7,7,11,10,14,8,11,5,5,4,4,4,20,14,9,25,24,17,18,25,13,22,21,19,18,19,43,29,25,20,25,26,13,23,30,33,30,25,37,40,42,25,24,21,23,22,24,30,27,29,26,23,30,19,20,32],\"sizemode\":\"area\",\"sizeref\":0.0904,\"symbol\":\"circle\"},\"mode\":\"markers\",\"name\":\"Earthquake\",\"orientation\":\"h\",\"showlegend\":true,\"type\":\"scatter\",\"x\":[1901,1902,1903,1904,1905,1906,1907,1908,1909,1910,1912,1913,1914,1915,1916,1917,1918,1920,1921,1922,1923,1924,1925,1926,1927,1928,1929,1930,1931,1932,1933,1934,1935,1936,1938,1939,1940,1941,1942,1943,1944,1945,1946,1947,1948,1949,1950,1951,1952,1953,1954,1955,1956,1957,1958,1959,1960,1961,1962,1963,1964,1965,1966,1967,1968,1969,1970,1971,1972,1973,1974,1975,1976,1977,1978,1979,1980,1981,1982,1983,1984,1985,1986,1987,1988,1989,1990,1991,1992,1993,1994,1995,1996,1997,1998,1999,2000,2001,2002,2003,2004,2005,2006,2007,2008,2009,2010,2011,2012,2013,2014,2015,2016,2017,2018,2019],\"xaxis\":\"x\",\"y\":[\"Earthquake\",\"Earthquake\",\"Earthquake\",\"Earthquake\",\"Earthquake\",\"Earthquake\",\"Earthquake\",\"Earthquake\",\"Earthquake\",\"Earthquake\",\"Earthquake\",\"Earthquake\",\"Earthquake\",\"Earthquake\",\"Earthquake\",\"Earthquake\",\"Earthquake\",\"Earthquake\",\"Earthquake\",\"Earthquake\",\"Earthquake\",\"Earthquake\",\"Earthquake\",\"Earthquake\",\"Earthquake\",\"Earthquake\",\"Earthquake\",\"Earthquake\",\"Earthquake\",\"Earthquake\",\"Earthquake\",\"Earthquake\",\"Earthquake\",\"Earthquake\",\"Earthquake\",\"Earthquake\",\"Earthquake\",\"Earthquake\",\"Earthquake\",\"Earthquake\",\"Earthquake\",\"Earthquake\",\"Earthquake\",\"Earthquake\",\"Earthquake\",\"Earthquake\",\"Earthquake\",\"Earthquake\",\"Earthquake\",\"Earthquake\",\"Earthquake\",\"Earthquake\",\"Earthquake\",\"Earthquake\",\"Earthquake\",\"Earthquake\",\"Earthquake\",\"Earthquake\",\"Earthquake\",\"Earthquake\",\"Earthquake\",\"Earthquake\",\"Earthquake\",\"Earthquake\",\"Earthquake\",\"Earthquake\",\"Earthquake\",\"Earthquake\",\"Earthquake\",\"Earthquake\",\"Earthquake\",\"Earthquake\",\"Earthquake\",\"Earthquake\",\"Earthquake\",\"Earthquake\",\"Earthquake\",\"Earthquake\",\"Earthquake\",\"Earthquake\",\"Earthquake\",\"Earthquake\",\"Earthquake\",\"Earthquake\",\"Earthquake\",\"Earthquake\",\"Earthquake\",\"Earthquake\",\"Earthquake\",\"Earthquake\",\"Earthquake\",\"Earthquake\",\"Earthquake\",\"Earthquake\",\"Earthquake\",\"Earthquake\",\"Earthquake\",\"Earthquake\",\"Earthquake\",\"Earthquake\",\"Earthquake\",\"Earthquake\",\"Earthquake\",\"Earthquake\",\"Earthquake\",\"Earthquake\",\"Earthquake\",\"Earthquake\",\"Earthquake\",\"Earthquake\",\"Earthquake\",\"Earthquake\",\"Earthquake\",\"Earthquake\",\"Earthquake\",\"Earthquake\"],\"yaxis\":\"y\"},{\"hovertemplate\":\"<b>%{hovertext}</b><br><br>Entity=%{y}<br>Year=%{x}<br>Disasters=%{marker.size}<extra></extra>\",\"hovertext\":[\"Extreme temperature\",\"Extreme temperature\",\"Extreme temperature\",\"Extreme temperature\",\"Extreme temperature\",\"Extreme temperature\",\"Extreme temperature\",\"Extreme temperature\",\"Extreme temperature\",\"Extreme temperature\",\"Extreme temperature\",\"Extreme temperature\",\"Extreme temperature\",\"Extreme temperature\",\"Extreme temperature\",\"Extreme temperature\",\"Extreme temperature\",\"Extreme temperature\",\"Extreme temperature\",\"Extreme temperature\",\"Extreme temperature\",\"Extreme temperature\",\"Extreme temperature\",\"Extreme temperature\",\"Extreme temperature\",\"Extreme temperature\",\"Extreme temperature\",\"Extreme temperature\",\"Extreme temperature\",\"Extreme temperature\",\"Extreme temperature\",\"Extreme temperature\",\"Extreme temperature\",\"Extreme temperature\",\"Extreme temperature\",\"Extreme temperature\",\"Extreme temperature\",\"Extreme temperature\",\"Extreme temperature\",\"Extreme temperature\",\"Extreme temperature\",\"Extreme temperature\",\"Extreme temperature\",\"Extreme temperature\",\"Extreme temperature\",\"Extreme temperature\",\"Extreme temperature\",\"Extreme temperature\",\"Extreme temperature\",\"Extreme temperature\",\"Extreme temperature\",\"Extreme temperature\",\"Extreme temperature\",\"Extreme temperature\",\"Extreme temperature\",\"Extreme temperature\",\"Extreme temperature\",\"Extreme temperature\"],\"legendgroup\":\"Extreme temperature\",\"marker\":{\"color\":\"#00cc96\",\"size\":[2,2,3,1,2,1,1,2,1,2,2,1,2,3,3,1,1,4,3,2,3,2,1,8,2,6,6,5,13,8,7,4,9,13,5,13,12,8,31,23,15,25,16,30,24,25,10,25,29,16,51,14,17,12,12,11,25,20],\"sizemode\":\"area\",\"sizeref\":0.0904,\"symbol\":\"circle\"},\"mode\":\"markers\",\"name\":\"Extreme temperature\",\"orientation\":\"h\",\"showlegend\":true,\"type\":\"scatter\",\"x\":[1936,1951,1953,1955,1958,1961,1962,1963,1965,1966,1968,1971,1972,1973,1975,1977,1978,1979,1980,1981,1982,1983,1984,1985,1986,1987,1988,1989,1990,1991,1992,1993,1994,1995,1996,1997,1998,1999,2000,2001,2002,2003,2004,2005,2006,2007,2008,2009,2010,2011,2012,2013,2014,2015,2016,2017,2018,2019],\"xaxis\":\"x\",\"y\":[\"Extreme temperature\",\"Extreme temperature\",\"Extreme temperature\",\"Extreme temperature\",\"Extreme temperature\",\"Extreme temperature\",\"Extreme temperature\",\"Extreme temperature\",\"Extreme temperature\",\"Extreme temperature\",\"Extreme temperature\",\"Extreme temperature\",\"Extreme temperature\",\"Extreme temperature\",\"Extreme temperature\",\"Extreme temperature\",\"Extreme temperature\",\"Extreme temperature\",\"Extreme temperature\",\"Extreme temperature\",\"Extreme temperature\",\"Extreme temperature\",\"Extreme temperature\",\"Extreme temperature\",\"Extreme temperature\",\"Extreme temperature\",\"Extreme temperature\",\"Extreme temperature\",\"Extreme temperature\",\"Extreme temperature\",\"Extreme temperature\",\"Extreme temperature\",\"Extreme temperature\",\"Extreme temperature\",\"Extreme temperature\",\"Extreme temperature\",\"Extreme temperature\",\"Extreme temperature\",\"Extreme temperature\",\"Extreme temperature\",\"Extreme temperature\",\"Extreme temperature\",\"Extreme temperature\",\"Extreme temperature\",\"Extreme temperature\",\"Extreme temperature\",\"Extreme temperature\",\"Extreme temperature\",\"Extreme temperature\",\"Extreme temperature\",\"Extreme temperature\",\"Extreme temperature\",\"Extreme temperature\",\"Extreme temperature\",\"Extreme temperature\",\"Extreme temperature\",\"Extreme temperature\",\"Extreme temperature\"],\"yaxis\":\"y\"},{\"hovertemplate\":\"<b>%{hovertext}</b><br><br>Entity=%{y}<br>Year=%{x}<br>Disasters=%{marker.size}<extra></extra>\",\"hovertext\":[\"Extreme weather\",\"Extreme weather\",\"Extreme weather\",\"Extreme weather\",\"Extreme weather\",\"Extreme weather\",\"Extreme weather\",\"Extreme weather\",\"Extreme weather\",\"Extreme weather\",\"Extreme weather\",\"Extreme weather\",\"Extreme weather\",\"Extreme weather\",\"Extreme weather\",\"Extreme weather\",\"Extreme weather\",\"Extreme weather\",\"Extreme weather\",\"Extreme weather\",\"Extreme weather\",\"Extreme weather\",\"Extreme weather\",\"Extreme weather\",\"Extreme weather\",\"Extreme weather\",\"Extreme weather\",\"Extreme weather\",\"Extreme weather\",\"Extreme weather\",\"Extreme weather\",\"Extreme weather\",\"Extreme weather\",\"Extreme weather\",\"Extreme weather\",\"Extreme weather\",\"Extreme weather\",\"Extreme weather\",\"Extreme weather\",\"Extreme weather\",\"Extreme weather\",\"Extreme weather\",\"Extreme weather\",\"Extreme weather\",\"Extreme weather\",\"Extreme weather\",\"Extreme weather\",\"Extreme weather\",\"Extreme weather\",\"Extreme weather\",\"Extreme weather\",\"Extreme weather\",\"Extreme weather\",\"Extreme weather\",\"Extreme weather\",\"Extreme weather\",\"Extreme weather\",\"Extreme weather\",\"Extreme weather\",\"Extreme weather\",\"Extreme weather\",\"Extreme weather\",\"Extreme weather\",\"Extreme weather\",\"Extreme weather\",\"Extreme weather\",\"Extreme weather\",\"Extreme weather\",\"Extreme weather\",\"Extreme weather\",\"Extreme weather\",\"Extreme weather\",\"Extreme weather\",\"Extreme weather\",\"Extreme weather\",\"Extreme weather\",\"Extreme weather\",\"Extreme weather\",\"Extreme weather\",\"Extreme weather\",\"Extreme weather\",\"Extreme weather\",\"Extreme weather\",\"Extreme weather\",\"Extreme weather\",\"Extreme weather\",\"Extreme weather\",\"Extreme weather\",\"Extreme weather\",\"Extreme weather\",\"Extreme weather\",\"Extreme weather\",\"Extreme weather\",\"Extreme weather\",\"Extreme weather\",\"Extreme weather\",\"Extreme weather\",\"Extreme weather\",\"Extreme weather\",\"Extreme weather\",\"Extreme weather\",\"Extreme weather\",\"Extreme weather\",\"Extreme weather\",\"Extreme weather\",\"Extreme weather\",\"Extreme weather\",\"Extreme weather\",\"Extreme weather\",\"Extreme weather\",\"Extreme weather\",\"Extreme weather\",\"Extreme weather\",\"Extreme weather\",\"Extreme weather\",\"Extreme weather\"],\"legendgroup\":\"Extreme weather\",\"marker\":{\"color\":\"#ab63fa\",\"size\":[1,1,2,1,1,3,5,1,2,5,1,1,2,1,2,1,2,1,2,6,2,3,7,4,7,2,4,4,5,3,4,7,5,3,2,2,3,2,3,3,5,7,5,7,10,8,7,11,10,11,10,19,14,9,13,16,20,14,13,21,22,19,28,25,25,25,24,22,26,22,28,28,36,32,42,31,42,50,52,59,57,51,56,58,60,73,137,66,76,108,81,81,77,79,88,106,102,105,122,86,124,130,76,105,111,87,94,84,90,105,99,118,84,85,84,85],\"sizemode\":\"area\",\"sizeref\":0.0904,\"symbol\":\"circle\"},\"mode\":\"markers\",\"name\":\"Extreme weather\",\"orientation\":\"h\",\"showlegend\":true,\"type\":\"scatter\",\"x\":[1900,1902,1903,1904,1905,1906,1909,1910,1911,1912,1913,1914,1915,1916,1917,1918,1919,1920,1922,1923,1924,1925,1926,1927,1928,1929,1930,1931,1932,1933,1934,1935,1936,1937,1938,1939,1940,1941,1942,1943,1944,1945,1946,1947,1948,1949,1950,1951,1952,1953,1954,1955,1956,1957,1958,1959,1960,1961,1962,1963,1964,1965,1966,1967,1968,1969,1970,1971,1972,1973,1974,1975,1976,1977,1978,1979,1980,1981,1982,1983,1984,1985,1986,1987,1988,1989,1990,1991,1992,1993,1994,1995,1996,1997,1998,1999,2000,2001,2002,2003,2004,2005,2006,2007,2008,2009,2010,2011,2012,2013,2014,2015,2016,2017,2018,2019],\"xaxis\":\"x\",\"y\":[\"Extreme weather\",\"Extreme weather\",\"Extreme weather\",\"Extreme weather\",\"Extreme weather\",\"Extreme weather\",\"Extreme weather\",\"Extreme weather\",\"Extreme weather\",\"Extreme weather\",\"Extreme weather\",\"Extreme weather\",\"Extreme weather\",\"Extreme weather\",\"Extreme weather\",\"Extreme weather\",\"Extreme weather\",\"Extreme weather\",\"Extreme weather\",\"Extreme weather\",\"Extreme weather\",\"Extreme weather\",\"Extreme weather\",\"Extreme weather\",\"Extreme weather\",\"Extreme weather\",\"Extreme weather\",\"Extreme weather\",\"Extreme weather\",\"Extreme weather\",\"Extreme weather\",\"Extreme weather\",\"Extreme weather\",\"Extreme weather\",\"Extreme weather\",\"Extreme weather\",\"Extreme weather\",\"Extreme weather\",\"Extreme weather\",\"Extreme weather\",\"Extreme weather\",\"Extreme weather\",\"Extreme weather\",\"Extreme weather\",\"Extreme weather\",\"Extreme weather\",\"Extreme weather\",\"Extreme weather\",\"Extreme weather\",\"Extreme weather\",\"Extreme weather\",\"Extreme weather\",\"Extreme weather\",\"Extreme weather\",\"Extreme weather\",\"Extreme weather\",\"Extreme weather\",\"Extreme weather\",\"Extreme weather\",\"Extreme weather\",\"Extreme weather\",\"Extreme weather\",\"Extreme weather\",\"Extreme weather\",\"Extreme weather\",\"Extreme weather\",\"Extreme weather\",\"Extreme weather\",\"Extreme weather\",\"Extreme weather\",\"Extreme weather\",\"Extreme weather\",\"Extreme weather\",\"Extreme weather\",\"Extreme weather\",\"Extreme weather\",\"Extreme weather\",\"Extreme weather\",\"Extreme weather\",\"Extreme weather\",\"Extreme weather\",\"Extreme weather\",\"Extreme weather\",\"Extreme weather\",\"Extreme weather\",\"Extreme weather\",\"Extreme weather\",\"Extreme weather\",\"Extreme weather\",\"Extreme weather\",\"Extreme weather\",\"Extreme weather\",\"Extreme weather\",\"Extreme weather\",\"Extreme weather\",\"Extreme weather\",\"Extreme weather\",\"Extreme weather\",\"Extreme weather\",\"Extreme weather\",\"Extreme weather\",\"Extreme weather\",\"Extreme weather\",\"Extreme weather\",\"Extreme weather\",\"Extreme weather\",\"Extreme weather\",\"Extreme weather\",\"Extreme weather\",\"Extreme weather\",\"Extreme weather\",\"Extreme weather\",\"Extreme weather\",\"Extreme weather\",\"Extreme weather\",\"Extreme weather\"],\"yaxis\":\"y\"},{\"hovertemplate\":\"<b>%{hovertext}</b><br><br>Entity=%{y}<br>Year=%{x}<br>Disasters=%{marker.size}<extra></extra>\",\"hovertext\":[\"Flood\",\"Flood\",\"Flood\",\"Flood\",\"Flood\",\"Flood\",\"Flood\",\"Flood\",\"Flood\",\"Flood\",\"Flood\",\"Flood\",\"Flood\",\"Flood\",\"Flood\",\"Flood\",\"Flood\",\"Flood\",\"Flood\",\"Flood\",\"Flood\",\"Flood\",\"Flood\",\"Flood\",\"Flood\",\"Flood\",\"Flood\",\"Flood\",\"Flood\",\"Flood\",\"Flood\",\"Flood\",\"Flood\",\"Flood\",\"Flood\",\"Flood\",\"Flood\",\"Flood\",\"Flood\",\"Flood\",\"Flood\",\"Flood\",\"Flood\",\"Flood\",\"Flood\",\"Flood\",\"Flood\",\"Flood\",\"Flood\",\"Flood\",\"Flood\",\"Flood\",\"Flood\",\"Flood\",\"Flood\",\"Flood\",\"Flood\",\"Flood\",\"Flood\",\"Flood\",\"Flood\",\"Flood\",\"Flood\",\"Flood\",\"Flood\",\"Flood\",\"Flood\",\"Flood\",\"Flood\",\"Flood\",\"Flood\",\"Flood\",\"Flood\",\"Flood\",\"Flood\",\"Flood\",\"Flood\",\"Flood\",\"Flood\",\"Flood\",\"Flood\",\"Flood\",\"Flood\",\"Flood\",\"Flood\",\"Flood\",\"Flood\",\"Flood\",\"Flood\",\"Flood\",\"Flood\",\"Flood\",\"Flood\",\"Flood\",\"Flood\",\"Flood\"],\"legendgroup\":\"Flood\",\"marker\":{\"color\":\"#FFA15A\",\"size\":[1,2,2,1,1,1,1,1,1,1,4,2,2,1,1,2,1,1,2,2,2,1,2,1,5,2,10,7,4,12,9,3,9,11,3,13,7,8,8,8,22,19,23,26,20,14,31,15,15,20,19,17,17,48,47,34,39,43,48,49,47,58,50,68,76,46,60,77,59,84,88,94,92,95,94,122,157,157,172,158,128,193,226,218,165,151,184,156,136,149,135,160,161,114,109,170],\"sizemode\":\"area\",\"sizeref\":0.0904,\"symbol\":\"circle\"},\"mode\":\"markers\",\"name\":\"Flood\",\"orientation\":\"h\",\"showlegend\":true,\"type\":\"scatter\",\"x\":[1900,1903,1906,1909,1910,1911,1915,1917,1920,1925,1926,1927,1928,1930,1931,1933,1935,1936,1937,1938,1939,1940,1943,1947,1948,1949,1950,1951,1952,1953,1954,1955,1956,1957,1958,1959,1960,1961,1962,1963,1964,1965,1966,1967,1968,1969,1970,1971,1972,1973,1974,1975,1976,1977,1978,1979,1980,1981,1982,1983,1984,1985,1986,1987,1988,1989,1990,1991,1992,1993,1994,1995,1996,1997,1998,1999,2000,2001,2002,2003,2004,2005,2006,2007,2008,2009,2010,2011,2012,2013,2014,2015,2016,2017,2018,2019],\"xaxis\":\"x\",\"y\":[\"Flood\",\"Flood\",\"Flood\",\"Flood\",\"Flood\",\"Flood\",\"Flood\",\"Flood\",\"Flood\",\"Flood\",\"Flood\",\"Flood\",\"Flood\",\"Flood\",\"Flood\",\"Flood\",\"Flood\",\"Flood\",\"Flood\",\"Flood\",\"Flood\",\"Flood\",\"Flood\",\"Flood\",\"Flood\",\"Flood\",\"Flood\",\"Flood\",\"Flood\",\"Flood\",\"Flood\",\"Flood\",\"Flood\",\"Flood\",\"Flood\",\"Flood\",\"Flood\",\"Flood\",\"Flood\",\"Flood\",\"Flood\",\"Flood\",\"Flood\",\"Flood\",\"Flood\",\"Flood\",\"Flood\",\"Flood\",\"Flood\",\"Flood\",\"Flood\",\"Flood\",\"Flood\",\"Flood\",\"Flood\",\"Flood\",\"Flood\",\"Flood\",\"Flood\",\"Flood\",\"Flood\",\"Flood\",\"Flood\",\"Flood\",\"Flood\",\"Flood\",\"Flood\",\"Flood\",\"Flood\",\"Flood\",\"Flood\",\"Flood\",\"Flood\",\"Flood\",\"Flood\",\"Flood\",\"Flood\",\"Flood\",\"Flood\",\"Flood\",\"Flood\",\"Flood\",\"Flood\",\"Flood\",\"Flood\",\"Flood\",\"Flood\",\"Flood\",\"Flood\",\"Flood\",\"Flood\",\"Flood\",\"Flood\",\"Flood\",\"Flood\",\"Flood\"],\"yaxis\":\"y\"},{\"hovertemplate\":\"<b>%{hovertext}</b><br><br>Entity=%{y}<br>Year=%{x}<br>Disasters=%{marker.size}<extra></extra>\",\"hovertext\":[\"Impact\"],\"legendgroup\":\"Impact\",\"marker\":{\"color\":\"#19d3f3\",\"size\":[1],\"sizemode\":\"area\",\"sizeref\":0.0904,\"symbol\":\"circle\"},\"mode\":\"markers\",\"name\":\"Impact\",\"orientation\":\"h\",\"showlegend\":true,\"type\":\"scatter\",\"x\":[2013],\"xaxis\":\"x\",\"y\":[\"Impact\"],\"yaxis\":\"y\"},{\"hovertemplate\":\"<b>%{hovertext}</b><br><br>Entity=%{y}<br>Year=%{x}<br>Disasters=%{marker.size}<extra></extra>\",\"hovertext\":[\"Landslide\",\"Landslide\",\"Landslide\",\"Landslide\",\"Landslide\",\"Landslide\",\"Landslide\",\"Landslide\",\"Landslide\",\"Landslide\",\"Landslide\",\"Landslide\",\"Landslide\",\"Landslide\",\"Landslide\",\"Landslide\",\"Landslide\",\"Landslide\",\"Landslide\",\"Landslide\",\"Landslide\",\"Landslide\",\"Landslide\",\"Landslide\",\"Landslide\",\"Landslide\",\"Landslide\",\"Landslide\",\"Landslide\",\"Landslide\",\"Landslide\",\"Landslide\",\"Landslide\",\"Landslide\",\"Landslide\",\"Landslide\",\"Landslide\",\"Landslide\",\"Landslide\",\"Landslide\",\"Landslide\",\"Landslide\",\"Landslide\",\"Landslide\",\"Landslide\",\"Landslide\",\"Landslide\",\"Landslide\",\"Landslide\",\"Landslide\",\"Landslide\",\"Landslide\",\"Landslide\",\"Landslide\",\"Landslide\",\"Landslide\",\"Landslide\",\"Landslide\",\"Landslide\",\"Landslide\",\"Landslide\",\"Landslide\",\"Landslide\",\"Landslide\",\"Landslide\",\"Landslide\",\"Landslide\",\"Landslide\",\"Landslide\",\"Landslide\",\"Landslide\",\"Landslide\",\"Landslide\",\"Landslide\",\"Landslide\",\"Landslide\",\"Landslide\",\"Landslide\",\"Landslide\",\"Landslide\",\"Landslide\"],\"legendgroup\":\"Landslide\",\"marker\":{\"color\":\"#FF6692\",\"size\":[1,1,1,2,1,1,1,1,1,1,1,2,1,1,1,1,8,2,5,1,1,2,2,2,2,1,5,4,2,4,1,5,5,5,5,10,5,6,3,2,7,4,8,11,15,6,6,9,13,15,15,4,9,7,22,11,16,24,13,22,18,28,24,20,21,15,13,20,10,12,29,32,17,13,11,15,20,13,25,13,22],\"sizemode\":\"area\",\"sizeref\":0.0904,\"symbol\":\"circle\"},\"mode\":\"markers\",\"name\":\"Landslide\",\"orientation\":\"h\",\"showlegend\":true,\"type\":\"scatter\",\"x\":[1909,1922,1923,1926,1930,1931,1932,1934,1936,1938,1941,1948,1949,1950,1951,1952,1954,1955,1956,1958,1959,1960,1961,1962,1963,1964,1965,1966,1967,1968,1969,1970,1971,1972,1973,1974,1975,1976,1977,1978,1979,1980,1981,1982,1983,1984,1985,1986,1987,1988,1989,1990,1991,1992,1993,1994,1995,1996,1997,1998,1999,2000,2001,2002,2003,2004,2005,2006,2007,2008,2009,2010,2011,2012,2013,2014,2015,2016,2017,2018,2019],\"xaxis\":\"x\",\"y\":[\"Landslide\",\"Landslide\",\"Landslide\",\"Landslide\",\"Landslide\",\"Landslide\",\"Landslide\",\"Landslide\",\"Landslide\",\"Landslide\",\"Landslide\",\"Landslide\",\"Landslide\",\"Landslide\",\"Landslide\",\"Landslide\",\"Landslide\",\"Landslide\",\"Landslide\",\"Landslide\",\"Landslide\",\"Landslide\",\"Landslide\",\"Landslide\",\"Landslide\",\"Landslide\",\"Landslide\",\"Landslide\",\"Landslide\",\"Landslide\",\"Landslide\",\"Landslide\",\"Landslide\",\"Landslide\",\"Landslide\",\"Landslide\",\"Landslide\",\"Landslide\",\"Landslide\",\"Landslide\",\"Landslide\",\"Landslide\",\"Landslide\",\"Landslide\",\"Landslide\",\"Landslide\",\"Landslide\",\"Landslide\",\"Landslide\",\"Landslide\",\"Landslide\",\"Landslide\",\"Landslide\",\"Landslide\",\"Landslide\",\"Landslide\",\"Landslide\",\"Landslide\",\"Landslide\",\"Landslide\",\"Landslide\",\"Landslide\",\"Landslide\",\"Landslide\",\"Landslide\",\"Landslide\",\"Landslide\",\"Landslide\",\"Landslide\",\"Landslide\",\"Landslide\",\"Landslide\",\"Landslide\",\"Landslide\",\"Landslide\",\"Landslide\",\"Landslide\",\"Landslide\",\"Landslide\",\"Landslide\",\"Landslide\"],\"yaxis\":\"y\"},{\"hovertemplate\":\"<b>%{hovertext}</b><br><br>Entity=%{y}<br>Year=%{x}<br>Disasters=%{marker.size}<extra></extra>\",\"hovertext\":[\"Mass movement (dry)\",\"Mass movement (dry)\",\"Mass movement (dry)\",\"Mass movement (dry)\",\"Mass movement (dry)\",\"Mass movement (dry)\",\"Mass movement (dry)\",\"Mass movement (dry)\",\"Mass movement (dry)\",\"Mass movement (dry)\",\"Mass movement (dry)\",\"Mass movement (dry)\",\"Mass movement (dry)\",\"Mass movement (dry)\",\"Mass movement (dry)\",\"Mass movement (dry)\",\"Mass movement (dry)\",\"Mass movement (dry)\",\"Mass movement (dry)\",\"Mass movement (dry)\",\"Mass movement (dry)\",\"Mass movement (dry)\",\"Mass movement (dry)\",\"Mass movement (dry)\",\"Mass movement (dry)\",\"Mass movement (dry)\",\"Mass movement (dry)\",\"Mass movement (dry)\",\"Mass movement (dry)\",\"Mass movement (dry)\",\"Mass movement (dry)\",\"Mass movement (dry)\",\"Mass movement (dry)\"],\"legendgroup\":\"Mass movement (dry)\",\"marker\":{\"color\":\"#B6E880\",\"size\":[1,1,1,1,1,1,1,1,1,1,1,1,1,2,4,2,2,3,3,3,3,5,5,1,1,1,1,3,1,1,1,1,1],\"sizemode\":\"area\",\"sizeref\":0.0904,\"symbol\":\"circle\"},\"mode\":\"markers\",\"name\":\"Mass movement (dry)\",\"orientation\":\"h\",\"showlegend\":true,\"type\":\"scatter\",\"x\":[1903,1905,1908,1910,1915,1937,1955,1962,1963,1965,1970,1971,1980,1982,1983,1985,1987,1988,1989,1990,1991,1992,1993,2000,2002,2004,2006,2008,2009,2012,2013,2015,2018],\"xaxis\":\"x\",\"y\":[\"Mass movement (dry)\",\"Mass movement (dry)\",\"Mass movement (dry)\",\"Mass movement (dry)\",\"Mass movement (dry)\",\"Mass movement (dry)\",\"Mass movement (dry)\",\"Mass movement (dry)\",\"Mass movement (dry)\",\"Mass movement (dry)\",\"Mass movement (dry)\",\"Mass movement (dry)\",\"Mass movement (dry)\",\"Mass movement (dry)\",\"Mass movement (dry)\",\"Mass movement (dry)\",\"Mass movement (dry)\",\"Mass movement (dry)\",\"Mass movement (dry)\",\"Mass movement (dry)\",\"Mass movement (dry)\",\"Mass movement (dry)\",\"Mass movement (dry)\",\"Mass movement (dry)\",\"Mass movement (dry)\",\"Mass movement (dry)\",\"Mass movement (dry)\",\"Mass movement (dry)\",\"Mass movement (dry)\",\"Mass movement (dry)\",\"Mass movement (dry)\",\"Mass movement (dry)\",\"Mass movement (dry)\"],\"yaxis\":\"y\"},{\"hovertemplate\":\"<b>%{hovertext}</b><br><br>Entity=%{y}<br>Year=%{x}<br>Disasters=%{marker.size}<extra></extra>\",\"hovertext\":[\"Volcanic activity\",\"Volcanic activity\",\"Volcanic activity\",\"Volcanic activity\",\"Volcanic activity\",\"Volcanic activity\",\"Volcanic activity\",\"Volcanic activity\",\"Volcanic activity\",\"Volcanic activity\",\"Volcanic activity\",\"Volcanic activity\",\"Volcanic activity\",\"Volcanic activity\",\"Volcanic activity\",\"Volcanic activity\",\"Volcanic activity\",\"Volcanic activity\",\"Volcanic activity\",\"Volcanic activity\",\"Volcanic activity\",\"Volcanic activity\",\"Volcanic activity\",\"Volcanic activity\",\"Volcanic activity\",\"Volcanic activity\",\"Volcanic activity\",\"Volcanic activity\",\"Volcanic activity\",\"Volcanic activity\",\"Volcanic activity\",\"Volcanic activity\",\"Volcanic activity\",\"Volcanic activity\",\"Volcanic activity\",\"Volcanic activity\",\"Volcanic activity\",\"Volcanic activity\",\"Volcanic activity\",\"Volcanic activity\",\"Volcanic activity\",\"Volcanic activity\",\"Volcanic activity\",\"Volcanic activity\",\"Volcanic activity\",\"Volcanic activity\",\"Volcanic activity\",\"Volcanic activity\",\"Volcanic activity\",\"Volcanic activity\",\"Volcanic activity\",\"Volcanic activity\",\"Volcanic activity\",\"Volcanic activity\",\"Volcanic activity\",\"Volcanic activity\",\"Volcanic activity\",\"Volcanic activity\",\"Volcanic activity\",\"Volcanic activity\",\"Volcanic activity\",\"Volcanic activity\",\"Volcanic activity\",\"Volcanic activity\",\"Volcanic activity\",\"Volcanic activity\",\"Volcanic activity\",\"Volcanic activity\",\"Volcanic activity\",\"Volcanic activity\",\"Volcanic activity\",\"Volcanic activity\",\"Volcanic activity\",\"Volcanic activity\",\"Volcanic activity\",\"Volcanic activity\",\"Volcanic activity\",\"Volcanic activity\",\"Volcanic activity\"],\"legendgroup\":\"Volcanic activity\",\"marker\":{\"color\":\"#FF97FF\",\"size\":[1,5,1,1,1,1,1,1,1,1,1,1,1,1,1,1,1,1,2,1,3,1,1,1,1,1,1,3,1,1,2,2,2,3,1,3,5,5,2,4,2,1,3,7,7,2,2,2,5,1,2,10,5,6,6,5,5,4,4,5,5,6,7,2,5,8,12,6,7,2,6,6,1,3,6,6,2,7,4],\"sizemode\":\"area\",\"sizeref\":0.0904,\"symbol\":\"circle\"},\"mode\":\"markers\",\"name\":\"Volcanic activity\",\"orientation\":\"h\",\"showlegend\":true,\"type\":\"scatter\",\"x\":[1900,1902,1903,1906,1909,1911,1914,1919,1926,1929,1930,1931,1937,1943,1944,1945,1946,1948,1949,1950,1951,1952,1953,1954,1956,1957,1960,1963,1964,1965,1966,1968,1969,1971,1973,1975,1976,1977,1978,1979,1980,1981,1982,1983,1984,1985,1986,1987,1988,1989,1990,1991,1992,1993,1994,1995,1996,1997,1998,1999,2000,2001,2002,2003,2004,2005,2006,2007,2008,2009,2010,2011,2012,2013,2014,2015,2017,2018,2019],\"xaxis\":\"x\",\"y\":[\"Volcanic activity\",\"Volcanic activity\",\"Volcanic activity\",\"Volcanic activity\",\"Volcanic activity\",\"Volcanic activity\",\"Volcanic activity\",\"Volcanic activity\",\"Volcanic activity\",\"Volcanic activity\",\"Volcanic activity\",\"Volcanic activity\",\"Volcanic activity\",\"Volcanic activity\",\"Volcanic activity\",\"Volcanic activity\",\"Volcanic activity\",\"Volcanic activity\",\"Volcanic activity\",\"Volcanic activity\",\"Volcanic activity\",\"Volcanic activity\",\"Volcanic activity\",\"Volcanic activity\",\"Volcanic activity\",\"Volcanic activity\",\"Volcanic activity\",\"Volcanic activity\",\"Volcanic activity\",\"Volcanic activity\",\"Volcanic activity\",\"Volcanic activity\",\"Volcanic activity\",\"Volcanic activity\",\"Volcanic activity\",\"Volcanic activity\",\"Volcanic activity\",\"Volcanic activity\",\"Volcanic activity\",\"Volcanic activity\",\"Volcanic activity\",\"Volcanic activity\",\"Volcanic activity\",\"Volcanic activity\",\"Volcanic activity\",\"Volcanic activity\",\"Volcanic activity\",\"Volcanic activity\",\"Volcanic activity\",\"Volcanic activity\",\"Volcanic activity\",\"Volcanic activity\",\"Volcanic activity\",\"Volcanic activity\",\"Volcanic activity\",\"Volcanic activity\",\"Volcanic activity\",\"Volcanic activity\",\"Volcanic activity\",\"Volcanic activity\",\"Volcanic activity\",\"Volcanic activity\",\"Volcanic activity\",\"Volcanic activity\",\"Volcanic activity\",\"Volcanic activity\",\"Volcanic activity\",\"Volcanic activity\",\"Volcanic activity\",\"Volcanic activity\",\"Volcanic activity\",\"Volcanic activity\",\"Volcanic activity\",\"Volcanic activity\",\"Volcanic activity\",\"Volcanic activity\",\"Volcanic activity\",\"Volcanic activity\",\"Volcanic activity\"],\"yaxis\":\"y\"},{\"hovertemplate\":\"<b>%{hovertext}</b><br><br>Entity=%{y}<br>Year=%{x}<br>Disasters=%{marker.size}<extra></extra>\",\"hovertext\":[\"Wildfire\",\"Wildfire\",\"Wildfire\",\"Wildfire\",\"Wildfire\",\"Wildfire\",\"Wildfire\",\"Wildfire\",\"Wildfire\",\"Wildfire\",\"Wildfire\",\"Wildfire\",\"Wildfire\",\"Wildfire\",\"Wildfire\",\"Wildfire\",\"Wildfire\",\"Wildfire\",\"Wildfire\",\"Wildfire\",\"Wildfire\",\"Wildfire\",\"Wildfire\",\"Wildfire\",\"Wildfire\",\"Wildfire\",\"Wildfire\",\"Wildfire\",\"Wildfire\",\"Wildfire\",\"Wildfire\",\"Wildfire\",\"Wildfire\",\"Wildfire\",\"Wildfire\",\"Wildfire\",\"Wildfire\",\"Wildfire\",\"Wildfire\",\"Wildfire\",\"Wildfire\",\"Wildfire\",\"Wildfire\",\"Wildfire\",\"Wildfire\",\"Wildfire\",\"Wildfire\",\"Wildfire\",\"Wildfire\",\"Wildfire\",\"Wildfire\",\"Wildfire\",\"Wildfire\",\"Wildfire\",\"Wildfire\",\"Wildfire\",\"Wildfire\",\"Wildfire\",\"Wildfire\",\"Wildfire\",\"Wildfire\",\"Wildfire\",\"Wildfire\"],\"legendgroup\":\"Wildfire\",\"marker\":{\"color\":\"#FECB52\",\"size\":[1,1,1,1,1,2,1,1,1,1,1,2,3,2,3,2,3,3,3,2,1,2,3,4,4,4,3,12,7,13,6,8,3,4,8,8,2,13,7,5,16,18,22,30,14,22,14,8,13,9,18,5,9,7,8,6,10,4,12,10,13,10,13],\"sizemode\":\"area\",\"sizeref\":0.0904,\"symbol\":\"circle\"},\"mode\":\"markers\",\"name\":\"Wildfire\",\"orientation\":\"h\",\"showlegend\":true,\"type\":\"scatter\",\"x\":[1911,1918,1922,1929,1939,1944,1947,1949,1956,1965,1966,1967,1968,1969,1970,1971,1972,1973,1974,1975,1976,1977,1978,1979,1980,1981,1982,1983,1984,1985,1986,1987,1989,1990,1991,1992,1993,1994,1995,1996,1997,1998,1999,2000,2001,2002,2003,2004,2005,2006,2007,2008,2009,2010,2011,2012,2013,2014,2015,2016,2017,2018,2019],\"xaxis\":\"x\",\"y\":[\"Wildfire\",\"Wildfire\",\"Wildfire\",\"Wildfire\",\"Wildfire\",\"Wildfire\",\"Wildfire\",\"Wildfire\",\"Wildfire\",\"Wildfire\",\"Wildfire\",\"Wildfire\",\"Wildfire\",\"Wildfire\",\"Wildfire\",\"Wildfire\",\"Wildfire\",\"Wildfire\",\"Wildfire\",\"Wildfire\",\"Wildfire\",\"Wildfire\",\"Wildfire\",\"Wildfire\",\"Wildfire\",\"Wildfire\",\"Wildfire\",\"Wildfire\",\"Wildfire\",\"Wildfire\",\"Wildfire\",\"Wildfire\",\"Wildfire\",\"Wildfire\",\"Wildfire\",\"Wildfire\",\"Wildfire\",\"Wildfire\",\"Wildfire\",\"Wildfire\",\"Wildfire\",\"Wildfire\",\"Wildfire\",\"Wildfire\",\"Wildfire\",\"Wildfire\",\"Wildfire\",\"Wildfire\",\"Wildfire\",\"Wildfire\",\"Wildfire\",\"Wildfire\",\"Wildfire\",\"Wildfire\",\"Wildfire\",\"Wildfire\",\"Wildfire\",\"Wildfire\",\"Wildfire\",\"Wildfire\",\"Wildfire\",\"Wildfire\",\"Wildfire\"],\"yaxis\":\"y\"}],                        {\"legend\":{\"itemsizing\":\"constant\",\"title\":{\"text\":\"Entity\"},\"tracegroupgap\":0},\"template\":{\"data\":{\"bar\":[{\"error_x\":{\"color\":\"#2a3f5f\"},\"error_y\":{\"color\":\"#2a3f5f\"},\"marker\":{\"line\":{\"color\":\"#E5ECF6\",\"width\":0.5},\"pattern\":{\"fillmode\":\"overlay\",\"size\":10,\"solidity\":0.2}},\"type\":\"bar\"}],\"barpolar\":[{\"marker\":{\"line\":{\"color\":\"#E5ECF6\",\"width\":0.5},\"pattern\":{\"fillmode\":\"overlay\",\"size\":10,\"solidity\":0.2}},\"type\":\"barpolar\"}],\"carpet\":[{\"aaxis\":{\"endlinecolor\":\"#2a3f5f\",\"gridcolor\":\"white\",\"linecolor\":\"white\",\"minorgridcolor\":\"white\",\"startlinecolor\":\"#2a3f5f\"},\"baxis\":{\"endlinecolor\":\"#2a3f5f\",\"gridcolor\":\"white\",\"linecolor\":\"white\",\"minorgridcolor\":\"white\",\"startlinecolor\":\"#2a3f5f\"},\"type\":\"carpet\"}],\"choropleth\":[{\"colorbar\":{\"outlinewidth\":0,\"ticks\":\"\"},\"type\":\"choropleth\"}],\"contour\":[{\"colorbar\":{\"outlinewidth\":0,\"ticks\":\"\"},\"colorscale\":[[0.0,\"#0d0887\"],[0.1111111111111111,\"#46039f\"],[0.2222222222222222,\"#7201a8\"],[0.3333333333333333,\"#9c179e\"],[0.4444444444444444,\"#bd3786\"],[0.5555555555555556,\"#d8576b\"],[0.6666666666666666,\"#ed7953\"],[0.7777777777777778,\"#fb9f3a\"],[0.8888888888888888,\"#fdca26\"],[1.0,\"#f0f921\"]],\"type\":\"contour\"}],\"contourcarpet\":[{\"colorbar\":{\"outlinewidth\":0,\"ticks\":\"\"},\"type\":\"contourcarpet\"}],\"heatmap\":[{\"colorbar\":{\"outlinewidth\":0,\"ticks\":\"\"},\"colorscale\":[[0.0,\"#0d0887\"],[0.1111111111111111,\"#46039f\"],[0.2222222222222222,\"#7201a8\"],[0.3333333333333333,\"#9c179e\"],[0.4444444444444444,\"#bd3786\"],[0.5555555555555556,\"#d8576b\"],[0.6666666666666666,\"#ed7953\"],[0.7777777777777778,\"#fb9f3a\"],[0.8888888888888888,\"#fdca26\"],[1.0,\"#f0f921\"]],\"type\":\"heatmap\"}],\"heatmapgl\":[{\"colorbar\":{\"outlinewidth\":0,\"ticks\":\"\"},\"colorscale\":[[0.0,\"#0d0887\"],[0.1111111111111111,\"#46039f\"],[0.2222222222222222,\"#7201a8\"],[0.3333333333333333,\"#9c179e\"],[0.4444444444444444,\"#bd3786\"],[0.5555555555555556,\"#d8576b\"],[0.6666666666666666,\"#ed7953\"],[0.7777777777777778,\"#fb9f3a\"],[0.8888888888888888,\"#fdca26\"],[1.0,\"#f0f921\"]],\"type\":\"heatmapgl\"}],\"histogram\":[{\"marker\":{\"pattern\":{\"fillmode\":\"overlay\",\"size\":10,\"solidity\":0.2}},\"type\":\"histogram\"}],\"histogram2d\":[{\"colorbar\":{\"outlinewidth\":0,\"ticks\":\"\"},\"colorscale\":[[0.0,\"#0d0887\"],[0.1111111111111111,\"#46039f\"],[0.2222222222222222,\"#7201a8\"],[0.3333333333333333,\"#9c179e\"],[0.4444444444444444,\"#bd3786\"],[0.5555555555555556,\"#d8576b\"],[0.6666666666666666,\"#ed7953\"],[0.7777777777777778,\"#fb9f3a\"],[0.8888888888888888,\"#fdca26\"],[1.0,\"#f0f921\"]],\"type\":\"histogram2d\"}],\"histogram2dcontour\":[{\"colorbar\":{\"outlinewidth\":0,\"ticks\":\"\"},\"colorscale\":[[0.0,\"#0d0887\"],[0.1111111111111111,\"#46039f\"],[0.2222222222222222,\"#7201a8\"],[0.3333333333333333,\"#9c179e\"],[0.4444444444444444,\"#bd3786\"],[0.5555555555555556,\"#d8576b\"],[0.6666666666666666,\"#ed7953\"],[0.7777777777777778,\"#fb9f3a\"],[0.8888888888888888,\"#fdca26\"],[1.0,\"#f0f921\"]],\"type\":\"histogram2dcontour\"}],\"mesh3d\":[{\"colorbar\":{\"outlinewidth\":0,\"ticks\":\"\"},\"type\":\"mesh3d\"}],\"parcoords\":[{\"line\":{\"colorbar\":{\"outlinewidth\":0,\"ticks\":\"\"}},\"type\":\"parcoords\"}],\"pie\":[{\"automargin\":true,\"type\":\"pie\"}],\"scatter\":[{\"marker\":{\"colorbar\":{\"outlinewidth\":0,\"ticks\":\"\"}},\"type\":\"scatter\"}],\"scatter3d\":[{\"line\":{\"colorbar\":{\"outlinewidth\":0,\"ticks\":\"\"}},\"marker\":{\"colorbar\":{\"outlinewidth\":0,\"ticks\":\"\"}},\"type\":\"scatter3d\"}],\"scattercarpet\":[{\"marker\":{\"colorbar\":{\"outlinewidth\":0,\"ticks\":\"\"}},\"type\":\"scattercarpet\"}],\"scattergeo\":[{\"marker\":{\"colorbar\":{\"outlinewidth\":0,\"ticks\":\"\"}},\"type\":\"scattergeo\"}],\"scattergl\":[{\"marker\":{\"colorbar\":{\"outlinewidth\":0,\"ticks\":\"\"}},\"type\":\"scattergl\"}],\"scattermapbox\":[{\"marker\":{\"colorbar\":{\"outlinewidth\":0,\"ticks\":\"\"}},\"type\":\"scattermapbox\"}],\"scatterpolar\":[{\"marker\":{\"colorbar\":{\"outlinewidth\":0,\"ticks\":\"\"}},\"type\":\"scatterpolar\"}],\"scatterpolargl\":[{\"marker\":{\"colorbar\":{\"outlinewidth\":0,\"ticks\":\"\"}},\"type\":\"scatterpolargl\"}],\"scatterternary\":[{\"marker\":{\"colorbar\":{\"outlinewidth\":0,\"ticks\":\"\"}},\"type\":\"scatterternary\"}],\"surface\":[{\"colorbar\":{\"outlinewidth\":0,\"ticks\":\"\"},\"colorscale\":[[0.0,\"#0d0887\"],[0.1111111111111111,\"#46039f\"],[0.2222222222222222,\"#7201a8\"],[0.3333333333333333,\"#9c179e\"],[0.4444444444444444,\"#bd3786\"],[0.5555555555555556,\"#d8576b\"],[0.6666666666666666,\"#ed7953\"],[0.7777777777777778,\"#fb9f3a\"],[0.8888888888888888,\"#fdca26\"],[1.0,\"#f0f921\"]],\"type\":\"surface\"}],\"table\":[{\"cells\":{\"fill\":{\"color\":\"#EBF0F8\"},\"line\":{\"color\":\"white\"}},\"header\":{\"fill\":{\"color\":\"#C8D4E3\"},\"line\":{\"color\":\"white\"}},\"type\":\"table\"}]},\"layout\":{\"annotationdefaults\":{\"arrowcolor\":\"#2a3f5f\",\"arrowhead\":0,\"arrowwidth\":1},\"autotypenumbers\":\"strict\",\"coloraxis\":{\"colorbar\":{\"outlinewidth\":0,\"ticks\":\"\"}},\"colorscale\":{\"diverging\":[[0,\"#8e0152\"],[0.1,\"#c51b7d\"],[0.2,\"#de77ae\"],[0.3,\"#f1b6da\"],[0.4,\"#fde0ef\"],[0.5,\"#f7f7f7\"],[0.6,\"#e6f5d0\"],[0.7,\"#b8e186\"],[0.8,\"#7fbc41\"],[0.9,\"#4d9221\"],[1,\"#276419\"]],\"sequential\":[[0.0,\"#0d0887\"],[0.1111111111111111,\"#46039f\"],[0.2222222222222222,\"#7201a8\"],[0.3333333333333333,\"#9c179e\"],[0.4444444444444444,\"#bd3786\"],[0.5555555555555556,\"#d8576b\"],[0.6666666666666666,\"#ed7953\"],[0.7777777777777778,\"#fb9f3a\"],[0.8888888888888888,\"#fdca26\"],[1.0,\"#f0f921\"]],\"sequentialminus\":[[0.0,\"#0d0887\"],[0.1111111111111111,\"#46039f\"],[0.2222222222222222,\"#7201a8\"],[0.3333333333333333,\"#9c179e\"],[0.4444444444444444,\"#bd3786\"],[0.5555555555555556,\"#d8576b\"],[0.6666666666666666,\"#ed7953\"],[0.7777777777777778,\"#fb9f3a\"],[0.8888888888888888,\"#fdca26\"],[1.0,\"#f0f921\"]]},\"colorway\":[\"#636efa\",\"#EF553B\",\"#00cc96\",\"#ab63fa\",\"#FFA15A\",\"#19d3f3\",\"#FF6692\",\"#B6E880\",\"#FF97FF\",\"#FECB52\"],\"font\":{\"color\":\"#2a3f5f\"},\"geo\":{\"bgcolor\":\"white\",\"lakecolor\":\"white\",\"landcolor\":\"#E5ECF6\",\"showlakes\":true,\"showland\":true,\"subunitcolor\":\"white\"},\"hoverlabel\":{\"align\":\"left\"},\"hovermode\":\"closest\",\"mapbox\":{\"style\":\"light\"},\"paper_bgcolor\":\"white\",\"plot_bgcolor\":\"#E5ECF6\",\"polar\":{\"angularaxis\":{\"gridcolor\":\"white\",\"linecolor\":\"white\",\"ticks\":\"\"},\"bgcolor\":\"#E5ECF6\",\"radialaxis\":{\"gridcolor\":\"white\",\"linecolor\":\"white\",\"ticks\":\"\"}},\"scene\":{\"xaxis\":{\"backgroundcolor\":\"#E5ECF6\",\"gridcolor\":\"white\",\"gridwidth\":2,\"linecolor\":\"white\",\"showbackground\":true,\"ticks\":\"\",\"zerolinecolor\":\"white\"},\"yaxis\":{\"backgroundcolor\":\"#E5ECF6\",\"gridcolor\":\"white\",\"gridwidth\":2,\"linecolor\":\"white\",\"showbackground\":true,\"ticks\":\"\",\"zerolinecolor\":\"white\"},\"zaxis\":{\"backgroundcolor\":\"#E5ECF6\",\"gridcolor\":\"white\",\"gridwidth\":2,\"linecolor\":\"white\",\"showbackground\":true,\"ticks\":\"\",\"zerolinecolor\":\"white\"}},\"shapedefaults\":{\"line\":{\"color\":\"#2a3f5f\"}},\"ternary\":{\"aaxis\":{\"gridcolor\":\"white\",\"linecolor\":\"white\",\"ticks\":\"\"},\"baxis\":{\"gridcolor\":\"white\",\"linecolor\":\"white\",\"ticks\":\"\"},\"bgcolor\":\"#E5ECF6\",\"caxis\":{\"gridcolor\":\"white\",\"linecolor\":\"white\",\"ticks\":\"\"}},\"title\":{\"x\":0.05},\"xaxis\":{\"automargin\":true,\"gridcolor\":\"white\",\"linecolor\":\"white\",\"ticks\":\"\",\"title\":{\"standoff\":15},\"zerolinecolor\":\"white\",\"zerolinewidth\":2},\"yaxis\":{\"automargin\":true,\"gridcolor\":\"white\",\"linecolor\":\"white\",\"ticks\":\"\",\"title\":{\"standoff\":15},\"zerolinecolor\":\"white\",\"zerolinewidth\":2}}},\"title\":{\"text\":\"\\uc790\\uc5f0\\uc7ac\\ud574 \\uc885\\ub958\\uc640 \\uadf8\\uc5d0 \\ub530\\ub978 \\ube48\\ub3c4\\uc218(1900~2019)\"},\"xaxis\":{\"anchor\":\"y\",\"domain\":[0.0,1.0],\"title\":{\"text\":\"Year\"}},\"yaxis\":{\"anchor\":\"x\",\"categoryarray\":[\"Wildfire\",\"Volcanic activity\",\"Mass movement (dry)\",\"Landslide\",\"Impact\",\"Flood\",\"Extreme weather\",\"Extreme temperature\",\"Earthquake\",\"Drought\"],\"categoryorder\":\"array\",\"domain\":[0.0,1.0],\"title\":{\"text\":\"Entity\"}}},                        {\"responsive\": true}                    ).then(function(){\n",
       "                            \n",
       "var gd = document.getElementById('4ebe958a-d2b5-411a-89f2-3ee6ff574d08');\n",
       "var x = new MutationObserver(function (mutations, observer) {{\n",
       "        var display = window.getComputedStyle(gd).display;\n",
       "        if (!display || display === 'none') {{\n",
       "            console.log([gd, 'removed!']);\n",
       "            Plotly.purge(gd);\n",
       "            observer.disconnect();\n",
       "        }}\n",
       "}});\n",
       "\n",
       "// Listen for the removal of the full notebook cells\n",
       "var notebookContainer = gd.closest('#notebook-container');\n",
       "if (notebookContainer) {{\n",
       "    x.observe(notebookContainer, {childList: true});\n",
       "}}\n",
       "\n",
       "// Listen for the clearing of the current output cell\n",
       "var outputEl = gd.closest('.output');\n",
       "if (outputEl) {{\n",
       "    x.observe(outputEl, {childList: true});\n",
       "}}\n",
       "\n",
       "                        })                };                });            </script>        </div>"
      ]
     },
     "metadata": {},
     "output_type": "display_data"
    },
    {
     "data": {
      "text/plain": [
       "<Figure size 2520x2160 with 0 Axes>"
      ]
     },
     "metadata": {},
     "output_type": "display_data"
    }
   ],
   "source": [
    "fig = px.scatter(d1, x='Year', y='Entity', color='Entity', hover_name='Entity', size='Disasters', size_max=50,\n",
    "                title=\"자연재해 종류와 그에 따른 빈도수(1900~2019)\")\n",
    "fig.show()"
   ]
  },
  {
   "cell_type": "code",
   "execution_count": 19,
   "metadata": {},
   "outputs": [
    {
     "data": {
      "application/vnd.plotly.v1+json": {
       "config": {
        "plotlyServerURL": "https://plot.ly"
       },
       "data": [
        {
         "hovertemplate": "<b>%{hovertext}</b><br><br>Entity=Drought<br>Year=%{x}<br>Disasters=%{y}<extra></extra>",
         "hovertext": [
          "Drought",
          "Drought",
          "Drought",
          "Drought",
          "Drought",
          "Drought",
          "Drought",
          "Drought",
          "Drought",
          "Drought",
          "Drought",
          "Drought",
          "Drought",
          "Drought",
          "Drought",
          "Drought",
          "Drought",
          "Drought",
          "Drought",
          "Drought",
          "Drought",
          "Drought",
          "Drought",
          "Drought",
          "Drought",
          "Drought",
          "Drought",
          "Drought",
          "Drought",
          "Drought",
          "Drought",
          "Drought",
          "Drought",
          "Drought",
          "Drought",
          "Drought",
          "Drought",
          "Drought",
          "Drought",
          "Drought",
          "Drought",
          "Drought",
          "Drought",
          "Drought",
          "Drought",
          "Drought",
          "Drought",
          "Drought",
          "Drought",
          "Drought",
          "Drought",
          "Drought",
          "Drought",
          "Drought",
          "Drought",
          "Drought",
          "Drought",
          "Drought",
          "Drought",
          "Drought",
          "Drought",
          "Drought",
          "Drought",
          "Drought",
          "Drought",
          "Drought",
          "Drought",
          "Drought",
          "Drought",
          "Drought",
          "Drought",
          "Drought",
          "Drought",
          "Drought"
         ],
         "legendgroup": "Drought",
         "line": {
          "color": "#636efa",
          "dash": "solid"
         },
         "mode": "lines",
         "name": "Drought",
         "orientation": "v",
         "showlegend": true,
         "type": "scatter",
         "x": [
          1900,
          1903,
          1906,
          1910,
          1919,
          1920,
          1921,
          1928,
          1931,
          1933,
          1940,
          1942,
          1943,
          1946,
          1947,
          1960,
          1961,
          1963,
          1964,
          1965,
          1966,
          1967,
          1968,
          1969,
          1970,
          1971,
          1972,
          1973,
          1974,
          1975,
          1976,
          1977,
          1978,
          1979,
          1980,
          1981,
          1982,
          1983,
          1984,
          1985,
          1986,
          1987,
          1988,
          1989,
          1990,
          1991,
          1992,
          1993,
          1994,
          1995,
          1996,
          1997,
          1998,
          1999,
          2000,
          2001,
          2002,
          2003,
          2004,
          2005,
          2006,
          2007,
          2008,
          2009,
          2010,
          2011,
          2012,
          2013,
          2014,
          2015,
          2016,
          2017,
          2018,
          2019
         ],
         "xaxis": "x",
         "y": [
          2,
          1,
          1,
          9,
          1,
          2,
          1,
          1,
          1,
          1,
          9,
          1,
          1,
          1,
          1,
          1,
          1,
          1,
          7,
          7,
          9,
          5,
          7,
          10,
          2,
          7,
          7,
          2,
          4,
          1,
          6,
          16,
          9,
          11,
          14,
          13,
          13,
          32,
          8,
          3,
          4,
          15,
          17,
          7,
          12,
          18,
          12,
          9,
          13,
          6,
          6,
          18,
          20,
          23,
          27,
          22,
          25,
          14,
          11,
          20,
          9,
          11,
          16,
          18,
          17,
          17,
          21,
          9,
          18,
          28,
          15,
          7,
          13,
          15
         ],
         "yaxis": "y"
        },
        {
         "hovertemplate": "<b>%{hovertext}</b><br><br>Entity=Earthquake<br>Year=%{x}<br>Disasters=%{y}<extra></extra>",
         "hovertext": [
          "Earthquake",
          "Earthquake",
          "Earthquake",
          "Earthquake",
          "Earthquake",
          "Earthquake",
          "Earthquake",
          "Earthquake",
          "Earthquake",
          "Earthquake",
          "Earthquake",
          "Earthquake",
          "Earthquake",
          "Earthquake",
          "Earthquake",
          "Earthquake",
          "Earthquake",
          "Earthquake",
          "Earthquake",
          "Earthquake",
          "Earthquake",
          "Earthquake",
          "Earthquake",
          "Earthquake",
          "Earthquake",
          "Earthquake",
          "Earthquake",
          "Earthquake",
          "Earthquake",
          "Earthquake",
          "Earthquake",
          "Earthquake",
          "Earthquake",
          "Earthquake",
          "Earthquake",
          "Earthquake",
          "Earthquake",
          "Earthquake",
          "Earthquake",
          "Earthquake",
          "Earthquake",
          "Earthquake",
          "Earthquake",
          "Earthquake",
          "Earthquake",
          "Earthquake",
          "Earthquake",
          "Earthquake",
          "Earthquake",
          "Earthquake",
          "Earthquake",
          "Earthquake",
          "Earthquake",
          "Earthquake",
          "Earthquake",
          "Earthquake",
          "Earthquake",
          "Earthquake",
          "Earthquake",
          "Earthquake",
          "Earthquake",
          "Earthquake",
          "Earthquake",
          "Earthquake",
          "Earthquake",
          "Earthquake",
          "Earthquake",
          "Earthquake",
          "Earthquake",
          "Earthquake",
          "Earthquake",
          "Earthquake",
          "Earthquake",
          "Earthquake",
          "Earthquake",
          "Earthquake",
          "Earthquake",
          "Earthquake",
          "Earthquake",
          "Earthquake",
          "Earthquake",
          "Earthquake",
          "Earthquake",
          "Earthquake",
          "Earthquake",
          "Earthquake",
          "Earthquake",
          "Earthquake",
          "Earthquake",
          "Earthquake",
          "Earthquake",
          "Earthquake",
          "Earthquake",
          "Earthquake",
          "Earthquake",
          "Earthquake",
          "Earthquake",
          "Earthquake",
          "Earthquake",
          "Earthquake",
          "Earthquake",
          "Earthquake",
          "Earthquake",
          "Earthquake",
          "Earthquake",
          "Earthquake",
          "Earthquake",
          "Earthquake",
          "Earthquake",
          "Earthquake",
          "Earthquake",
          "Earthquake",
          "Earthquake",
          "Earthquake",
          "Earthquake",
          "Earthquake"
         ],
         "legendgroup": "Earthquake",
         "line": {
          "color": "#EF553B",
          "dash": "solid"
         },
         "mode": "lines",
         "name": "Earthquake",
         "orientation": "v",
         "showlegend": true,
         "type": "scatter",
         "x": [
          1901,
          1902,
          1903,
          1904,
          1905,
          1906,
          1907,
          1908,
          1909,
          1910,
          1912,
          1913,
          1914,
          1915,
          1916,
          1917,
          1918,
          1920,
          1921,
          1922,
          1923,
          1924,
          1925,
          1926,
          1927,
          1928,
          1929,
          1930,
          1931,
          1932,
          1933,
          1934,
          1935,
          1936,
          1938,
          1939,
          1940,
          1941,
          1942,
          1943,
          1944,
          1945,
          1946,
          1947,
          1948,
          1949,
          1950,
          1951,
          1952,
          1953,
          1954,
          1955,
          1956,
          1957,
          1958,
          1959,
          1960,
          1961,
          1962,
          1963,
          1964,
          1965,
          1966,
          1967,
          1968,
          1969,
          1970,
          1971,
          1972,
          1973,
          1974,
          1975,
          1976,
          1977,
          1978,
          1979,
          1980,
          1981,
          1982,
          1983,
          1984,
          1985,
          1986,
          1987,
          1988,
          1989,
          1990,
          1991,
          1992,
          1993,
          1994,
          1995,
          1996,
          1997,
          1998,
          1999,
          2000,
          2001,
          2002,
          2003,
          2004,
          2005,
          2006,
          2007,
          2008,
          2009,
          2010,
          2011,
          2012,
          2013,
          2014,
          2015,
          2016,
          2017,
          2018,
          2019
         ],
         "xaxis": "x",
         "y": [
          2,
          3,
          1,
          1,
          2,
          10,
          5,
          3,
          3,
          3,
          2,
          4,
          4,
          3,
          1,
          3,
          5,
          3,
          1,
          2,
          5,
          2,
          2,
          1,
          6,
          7,
          2,
          7,
          4,
          2,
          4,
          4,
          3,
          2,
          2,
          6,
          4,
          2,
          5,
          5,
          4,
          4,
          8,
          2,
          5,
          6,
          4,
          3,
          8,
          7,
          5,
          4,
          6,
          8,
          4,
          3,
          9,
          2,
          3,
          3,
          7,
          7,
          11,
          10,
          14,
          8,
          11,
          5,
          5,
          4,
          4,
          4,
          20,
          14,
          9,
          25,
          24,
          17,
          18,
          25,
          13,
          22,
          21,
          19,
          18,
          19,
          43,
          29,
          25,
          20,
          25,
          26,
          13,
          23,
          30,
          33,
          30,
          25,
          37,
          40,
          42,
          25,
          24,
          21,
          23,
          22,
          24,
          30,
          27,
          29,
          26,
          23,
          30,
          19,
          20,
          32
         ],
         "yaxis": "y"
        },
        {
         "hovertemplate": "<b>%{hovertext}</b><br><br>Entity=Extreme temperature<br>Year=%{x}<br>Disasters=%{y}<extra></extra>",
         "hovertext": [
          "Extreme temperature",
          "Extreme temperature",
          "Extreme temperature",
          "Extreme temperature",
          "Extreme temperature",
          "Extreme temperature",
          "Extreme temperature",
          "Extreme temperature",
          "Extreme temperature",
          "Extreme temperature",
          "Extreme temperature",
          "Extreme temperature",
          "Extreme temperature",
          "Extreme temperature",
          "Extreme temperature",
          "Extreme temperature",
          "Extreme temperature",
          "Extreme temperature",
          "Extreme temperature",
          "Extreme temperature",
          "Extreme temperature",
          "Extreme temperature",
          "Extreme temperature",
          "Extreme temperature",
          "Extreme temperature",
          "Extreme temperature",
          "Extreme temperature",
          "Extreme temperature",
          "Extreme temperature",
          "Extreme temperature",
          "Extreme temperature",
          "Extreme temperature",
          "Extreme temperature",
          "Extreme temperature",
          "Extreme temperature",
          "Extreme temperature",
          "Extreme temperature",
          "Extreme temperature",
          "Extreme temperature",
          "Extreme temperature",
          "Extreme temperature",
          "Extreme temperature",
          "Extreme temperature",
          "Extreme temperature",
          "Extreme temperature",
          "Extreme temperature",
          "Extreme temperature",
          "Extreme temperature",
          "Extreme temperature",
          "Extreme temperature",
          "Extreme temperature",
          "Extreme temperature",
          "Extreme temperature",
          "Extreme temperature",
          "Extreme temperature",
          "Extreme temperature",
          "Extreme temperature",
          "Extreme temperature"
         ],
         "legendgroup": "Extreme temperature",
         "line": {
          "color": "#00cc96",
          "dash": "solid"
         },
         "mode": "lines",
         "name": "Extreme temperature",
         "orientation": "v",
         "showlegend": true,
         "type": "scatter",
         "x": [
          1936,
          1951,
          1953,
          1955,
          1958,
          1961,
          1962,
          1963,
          1965,
          1966,
          1968,
          1971,
          1972,
          1973,
          1975,
          1977,
          1978,
          1979,
          1980,
          1981,
          1982,
          1983,
          1984,
          1985,
          1986,
          1987,
          1988,
          1989,
          1990,
          1991,
          1992,
          1993,
          1994,
          1995,
          1996,
          1997,
          1998,
          1999,
          2000,
          2001,
          2002,
          2003,
          2004,
          2005,
          2006,
          2007,
          2008,
          2009,
          2010,
          2011,
          2012,
          2013,
          2014,
          2015,
          2016,
          2017,
          2018,
          2019
         ],
         "xaxis": "x",
         "y": [
          2,
          2,
          3,
          1,
          2,
          1,
          1,
          2,
          1,
          2,
          2,
          1,
          2,
          3,
          3,
          1,
          1,
          4,
          3,
          2,
          3,
          2,
          1,
          8,
          2,
          6,
          6,
          5,
          13,
          8,
          7,
          4,
          9,
          13,
          5,
          13,
          12,
          8,
          31,
          23,
          15,
          25,
          16,
          30,
          24,
          25,
          10,
          25,
          29,
          16,
          51,
          14,
          17,
          12,
          12,
          11,
          25,
          20
         ],
         "yaxis": "y"
        },
        {
         "hovertemplate": "<b>%{hovertext}</b><br><br>Entity=Extreme weather<br>Year=%{x}<br>Disasters=%{y}<extra></extra>",
         "hovertext": [
          "Extreme weather",
          "Extreme weather",
          "Extreme weather",
          "Extreme weather",
          "Extreme weather",
          "Extreme weather",
          "Extreme weather",
          "Extreme weather",
          "Extreme weather",
          "Extreme weather",
          "Extreme weather",
          "Extreme weather",
          "Extreme weather",
          "Extreme weather",
          "Extreme weather",
          "Extreme weather",
          "Extreme weather",
          "Extreme weather",
          "Extreme weather",
          "Extreme weather",
          "Extreme weather",
          "Extreme weather",
          "Extreme weather",
          "Extreme weather",
          "Extreme weather",
          "Extreme weather",
          "Extreme weather",
          "Extreme weather",
          "Extreme weather",
          "Extreme weather",
          "Extreme weather",
          "Extreme weather",
          "Extreme weather",
          "Extreme weather",
          "Extreme weather",
          "Extreme weather",
          "Extreme weather",
          "Extreme weather",
          "Extreme weather",
          "Extreme weather",
          "Extreme weather",
          "Extreme weather",
          "Extreme weather",
          "Extreme weather",
          "Extreme weather",
          "Extreme weather",
          "Extreme weather",
          "Extreme weather",
          "Extreme weather",
          "Extreme weather",
          "Extreme weather",
          "Extreme weather",
          "Extreme weather",
          "Extreme weather",
          "Extreme weather",
          "Extreme weather",
          "Extreme weather",
          "Extreme weather",
          "Extreme weather",
          "Extreme weather",
          "Extreme weather",
          "Extreme weather",
          "Extreme weather",
          "Extreme weather",
          "Extreme weather",
          "Extreme weather",
          "Extreme weather",
          "Extreme weather",
          "Extreme weather",
          "Extreme weather",
          "Extreme weather",
          "Extreme weather",
          "Extreme weather",
          "Extreme weather",
          "Extreme weather",
          "Extreme weather",
          "Extreme weather",
          "Extreme weather",
          "Extreme weather",
          "Extreme weather",
          "Extreme weather",
          "Extreme weather",
          "Extreme weather",
          "Extreme weather",
          "Extreme weather",
          "Extreme weather",
          "Extreme weather",
          "Extreme weather",
          "Extreme weather",
          "Extreme weather",
          "Extreme weather",
          "Extreme weather",
          "Extreme weather",
          "Extreme weather",
          "Extreme weather",
          "Extreme weather",
          "Extreme weather",
          "Extreme weather",
          "Extreme weather",
          "Extreme weather",
          "Extreme weather",
          "Extreme weather",
          "Extreme weather",
          "Extreme weather",
          "Extreme weather",
          "Extreme weather",
          "Extreme weather",
          "Extreme weather",
          "Extreme weather",
          "Extreme weather",
          "Extreme weather",
          "Extreme weather",
          "Extreme weather",
          "Extreme weather",
          "Extreme weather",
          "Extreme weather"
         ],
         "legendgroup": "Extreme weather",
         "line": {
          "color": "#ab63fa",
          "dash": "solid"
         },
         "mode": "lines",
         "name": "Extreme weather",
         "orientation": "v",
         "showlegend": true,
         "type": "scatter",
         "x": [
          1900,
          1902,
          1903,
          1904,
          1905,
          1906,
          1909,
          1910,
          1911,
          1912,
          1913,
          1914,
          1915,
          1916,
          1917,
          1918,
          1919,
          1920,
          1922,
          1923,
          1924,
          1925,
          1926,
          1927,
          1928,
          1929,
          1930,
          1931,
          1932,
          1933,
          1934,
          1935,
          1936,
          1937,
          1938,
          1939,
          1940,
          1941,
          1942,
          1943,
          1944,
          1945,
          1946,
          1947,
          1948,
          1949,
          1950,
          1951,
          1952,
          1953,
          1954,
          1955,
          1956,
          1957,
          1958,
          1959,
          1960,
          1961,
          1962,
          1963,
          1964,
          1965,
          1966,
          1967,
          1968,
          1969,
          1970,
          1971,
          1972,
          1973,
          1974,
          1975,
          1976,
          1977,
          1978,
          1979,
          1980,
          1981,
          1982,
          1983,
          1984,
          1985,
          1986,
          1987,
          1988,
          1989,
          1990,
          1991,
          1992,
          1993,
          1994,
          1995,
          1996,
          1997,
          1998,
          1999,
          2000,
          2001,
          2002,
          2003,
          2004,
          2005,
          2006,
          2007,
          2008,
          2009,
          2010,
          2011,
          2012,
          2013,
          2014,
          2015,
          2016,
          2017,
          2018,
          2019
         ],
         "xaxis": "x",
         "y": [
          1,
          1,
          2,
          1,
          1,
          3,
          5,
          1,
          2,
          5,
          1,
          1,
          2,
          1,
          2,
          1,
          2,
          1,
          2,
          6,
          2,
          3,
          7,
          4,
          7,
          2,
          4,
          4,
          5,
          3,
          4,
          7,
          5,
          3,
          2,
          2,
          3,
          2,
          3,
          3,
          5,
          7,
          5,
          7,
          10,
          8,
          7,
          11,
          10,
          11,
          10,
          19,
          14,
          9,
          13,
          16,
          20,
          14,
          13,
          21,
          22,
          19,
          28,
          25,
          25,
          25,
          24,
          22,
          26,
          22,
          28,
          28,
          36,
          32,
          42,
          31,
          42,
          50,
          52,
          59,
          57,
          51,
          56,
          58,
          60,
          73,
          137,
          66,
          76,
          108,
          81,
          81,
          77,
          79,
          88,
          106,
          102,
          105,
          122,
          86,
          124,
          130,
          76,
          105,
          111,
          87,
          94,
          84,
          90,
          105,
          99,
          118,
          84,
          85,
          84,
          85
         ],
         "yaxis": "y"
        },
        {
         "hovertemplate": "<b>%{hovertext}</b><br><br>Entity=Flood<br>Year=%{x}<br>Disasters=%{y}<extra></extra>",
         "hovertext": [
          "Flood",
          "Flood",
          "Flood",
          "Flood",
          "Flood",
          "Flood",
          "Flood",
          "Flood",
          "Flood",
          "Flood",
          "Flood",
          "Flood",
          "Flood",
          "Flood",
          "Flood",
          "Flood",
          "Flood",
          "Flood",
          "Flood",
          "Flood",
          "Flood",
          "Flood",
          "Flood",
          "Flood",
          "Flood",
          "Flood",
          "Flood",
          "Flood",
          "Flood",
          "Flood",
          "Flood",
          "Flood",
          "Flood",
          "Flood",
          "Flood",
          "Flood",
          "Flood",
          "Flood",
          "Flood",
          "Flood",
          "Flood",
          "Flood",
          "Flood",
          "Flood",
          "Flood",
          "Flood",
          "Flood",
          "Flood",
          "Flood",
          "Flood",
          "Flood",
          "Flood",
          "Flood",
          "Flood",
          "Flood",
          "Flood",
          "Flood",
          "Flood",
          "Flood",
          "Flood",
          "Flood",
          "Flood",
          "Flood",
          "Flood",
          "Flood",
          "Flood",
          "Flood",
          "Flood",
          "Flood",
          "Flood",
          "Flood",
          "Flood",
          "Flood",
          "Flood",
          "Flood",
          "Flood",
          "Flood",
          "Flood",
          "Flood",
          "Flood",
          "Flood",
          "Flood",
          "Flood",
          "Flood",
          "Flood",
          "Flood",
          "Flood",
          "Flood",
          "Flood",
          "Flood",
          "Flood",
          "Flood",
          "Flood",
          "Flood",
          "Flood",
          "Flood"
         ],
         "legendgroup": "Flood",
         "line": {
          "color": "#FFA15A",
          "dash": "solid"
         },
         "mode": "lines",
         "name": "Flood",
         "orientation": "v",
         "showlegend": true,
         "type": "scatter",
         "x": [
          1900,
          1903,
          1906,
          1909,
          1910,
          1911,
          1915,
          1917,
          1920,
          1925,
          1926,
          1927,
          1928,
          1930,
          1931,
          1933,
          1935,
          1936,
          1937,
          1938,
          1939,
          1940,
          1943,
          1947,
          1948,
          1949,
          1950,
          1951,
          1952,
          1953,
          1954,
          1955,
          1956,
          1957,
          1958,
          1959,
          1960,
          1961,
          1962,
          1963,
          1964,
          1965,
          1966,
          1967,
          1968,
          1969,
          1970,
          1971,
          1972,
          1973,
          1974,
          1975,
          1976,
          1977,
          1978,
          1979,
          1980,
          1981,
          1982,
          1983,
          1984,
          1985,
          1986,
          1987,
          1988,
          1989,
          1990,
          1991,
          1992,
          1993,
          1994,
          1995,
          1996,
          1997,
          1998,
          1999,
          2000,
          2001,
          2002,
          2003,
          2004,
          2005,
          2006,
          2007,
          2008,
          2009,
          2010,
          2011,
          2012,
          2013,
          2014,
          2015,
          2016,
          2017,
          2018,
          2019
         ],
         "xaxis": "x",
         "y": [
          1,
          2,
          2,
          1,
          1,
          1,
          1,
          1,
          1,
          1,
          4,
          2,
          2,
          1,
          1,
          2,
          1,
          1,
          2,
          2,
          2,
          1,
          2,
          1,
          5,
          2,
          10,
          7,
          4,
          12,
          9,
          3,
          9,
          11,
          3,
          13,
          7,
          8,
          8,
          8,
          22,
          19,
          23,
          26,
          20,
          14,
          31,
          15,
          15,
          20,
          19,
          17,
          17,
          48,
          47,
          34,
          39,
          43,
          48,
          49,
          47,
          58,
          50,
          68,
          76,
          46,
          60,
          77,
          59,
          84,
          88,
          94,
          92,
          95,
          94,
          122,
          157,
          157,
          172,
          158,
          128,
          193,
          226,
          218,
          165,
          151,
          184,
          156,
          136,
          149,
          135,
          160,
          161,
          114,
          109,
          170
         ],
         "yaxis": "y"
        },
        {
         "hovertemplate": "<b>%{hovertext}</b><br><br>Entity=Impact<br>Year=%{x}<br>Disasters=%{y}<extra></extra>",
         "hovertext": [
          "Impact"
         ],
         "legendgroup": "Impact",
         "line": {
          "color": "#19d3f3",
          "dash": "solid"
         },
         "mode": "lines",
         "name": "Impact",
         "orientation": "v",
         "showlegend": true,
         "type": "scatter",
         "x": [
          2013
         ],
         "xaxis": "x",
         "y": [
          1
         ],
         "yaxis": "y"
        },
        {
         "hovertemplate": "<b>%{hovertext}</b><br><br>Entity=Landslide<br>Year=%{x}<br>Disasters=%{y}<extra></extra>",
         "hovertext": [
          "Landslide",
          "Landslide",
          "Landslide",
          "Landslide",
          "Landslide",
          "Landslide",
          "Landslide",
          "Landslide",
          "Landslide",
          "Landslide",
          "Landslide",
          "Landslide",
          "Landslide",
          "Landslide",
          "Landslide",
          "Landslide",
          "Landslide",
          "Landslide",
          "Landslide",
          "Landslide",
          "Landslide",
          "Landslide",
          "Landslide",
          "Landslide",
          "Landslide",
          "Landslide",
          "Landslide",
          "Landslide",
          "Landslide",
          "Landslide",
          "Landslide",
          "Landslide",
          "Landslide",
          "Landslide",
          "Landslide",
          "Landslide",
          "Landslide",
          "Landslide",
          "Landslide",
          "Landslide",
          "Landslide",
          "Landslide",
          "Landslide",
          "Landslide",
          "Landslide",
          "Landslide",
          "Landslide",
          "Landslide",
          "Landslide",
          "Landslide",
          "Landslide",
          "Landslide",
          "Landslide",
          "Landslide",
          "Landslide",
          "Landslide",
          "Landslide",
          "Landslide",
          "Landslide",
          "Landslide",
          "Landslide",
          "Landslide",
          "Landslide",
          "Landslide",
          "Landslide",
          "Landslide",
          "Landslide",
          "Landslide",
          "Landslide",
          "Landslide",
          "Landslide",
          "Landslide",
          "Landslide",
          "Landslide",
          "Landslide",
          "Landslide",
          "Landslide",
          "Landslide",
          "Landslide",
          "Landslide",
          "Landslide"
         ],
         "legendgroup": "Landslide",
         "line": {
          "color": "#FF6692",
          "dash": "solid"
         },
         "mode": "lines",
         "name": "Landslide",
         "orientation": "v",
         "showlegend": true,
         "type": "scatter",
         "x": [
          1909,
          1922,
          1923,
          1926,
          1930,
          1931,
          1932,
          1934,
          1936,
          1938,
          1941,
          1948,
          1949,
          1950,
          1951,
          1952,
          1954,
          1955,
          1956,
          1958,
          1959,
          1960,
          1961,
          1962,
          1963,
          1964,
          1965,
          1966,
          1967,
          1968,
          1969,
          1970,
          1971,
          1972,
          1973,
          1974,
          1975,
          1976,
          1977,
          1978,
          1979,
          1980,
          1981,
          1982,
          1983,
          1984,
          1985,
          1986,
          1987,
          1988,
          1989,
          1990,
          1991,
          1992,
          1993,
          1994,
          1995,
          1996,
          1997,
          1998,
          1999,
          2000,
          2001,
          2002,
          2003,
          2004,
          2005,
          2006,
          2007,
          2008,
          2009,
          2010,
          2011,
          2012,
          2013,
          2014,
          2015,
          2016,
          2017,
          2018,
          2019
         ],
         "xaxis": "x",
         "y": [
          1,
          1,
          1,
          2,
          1,
          1,
          1,
          1,
          1,
          1,
          1,
          2,
          1,
          1,
          1,
          1,
          8,
          2,
          5,
          1,
          1,
          2,
          2,
          2,
          2,
          1,
          5,
          4,
          2,
          4,
          1,
          5,
          5,
          5,
          5,
          10,
          5,
          6,
          3,
          2,
          7,
          4,
          8,
          11,
          15,
          6,
          6,
          9,
          13,
          15,
          15,
          4,
          9,
          7,
          22,
          11,
          16,
          24,
          13,
          22,
          18,
          28,
          24,
          20,
          21,
          15,
          13,
          20,
          10,
          12,
          29,
          32,
          17,
          13,
          11,
          15,
          20,
          13,
          25,
          13,
          22
         ],
         "yaxis": "y"
        },
        {
         "hovertemplate": "<b>%{hovertext}</b><br><br>Entity=Mass movement (dry)<br>Year=%{x}<br>Disasters=%{y}<extra></extra>",
         "hovertext": [
          "Mass movement (dry)",
          "Mass movement (dry)",
          "Mass movement (dry)",
          "Mass movement (dry)",
          "Mass movement (dry)",
          "Mass movement (dry)",
          "Mass movement (dry)",
          "Mass movement (dry)",
          "Mass movement (dry)",
          "Mass movement (dry)",
          "Mass movement (dry)",
          "Mass movement (dry)",
          "Mass movement (dry)",
          "Mass movement (dry)",
          "Mass movement (dry)",
          "Mass movement (dry)",
          "Mass movement (dry)",
          "Mass movement (dry)",
          "Mass movement (dry)",
          "Mass movement (dry)",
          "Mass movement (dry)",
          "Mass movement (dry)",
          "Mass movement (dry)",
          "Mass movement (dry)",
          "Mass movement (dry)",
          "Mass movement (dry)",
          "Mass movement (dry)",
          "Mass movement (dry)",
          "Mass movement (dry)",
          "Mass movement (dry)",
          "Mass movement (dry)",
          "Mass movement (dry)",
          "Mass movement (dry)"
         ],
         "legendgroup": "Mass movement (dry)",
         "line": {
          "color": "#B6E880",
          "dash": "solid"
         },
         "mode": "lines",
         "name": "Mass movement (dry)",
         "orientation": "v",
         "showlegend": true,
         "type": "scatter",
         "x": [
          1903,
          1905,
          1908,
          1910,
          1915,
          1937,
          1955,
          1962,
          1963,
          1965,
          1970,
          1971,
          1980,
          1982,
          1983,
          1985,
          1987,
          1988,
          1989,
          1990,
          1991,
          1992,
          1993,
          2000,
          2002,
          2004,
          2006,
          2008,
          2009,
          2012,
          2013,
          2015,
          2018
         ],
         "xaxis": "x",
         "y": [
          1,
          1,
          1,
          1,
          1,
          1,
          1,
          1,
          1,
          1,
          1,
          1,
          1,
          2,
          4,
          2,
          2,
          3,
          3,
          3,
          3,
          5,
          5,
          1,
          1,
          1,
          1,
          3,
          1,
          1,
          1,
          1,
          1
         ],
         "yaxis": "y"
        },
        {
         "hovertemplate": "<b>%{hovertext}</b><br><br>Entity=Volcanic activity<br>Year=%{x}<br>Disasters=%{y}<extra></extra>",
         "hovertext": [
          "Volcanic activity",
          "Volcanic activity",
          "Volcanic activity",
          "Volcanic activity",
          "Volcanic activity",
          "Volcanic activity",
          "Volcanic activity",
          "Volcanic activity",
          "Volcanic activity",
          "Volcanic activity",
          "Volcanic activity",
          "Volcanic activity",
          "Volcanic activity",
          "Volcanic activity",
          "Volcanic activity",
          "Volcanic activity",
          "Volcanic activity",
          "Volcanic activity",
          "Volcanic activity",
          "Volcanic activity",
          "Volcanic activity",
          "Volcanic activity",
          "Volcanic activity",
          "Volcanic activity",
          "Volcanic activity",
          "Volcanic activity",
          "Volcanic activity",
          "Volcanic activity",
          "Volcanic activity",
          "Volcanic activity",
          "Volcanic activity",
          "Volcanic activity",
          "Volcanic activity",
          "Volcanic activity",
          "Volcanic activity",
          "Volcanic activity",
          "Volcanic activity",
          "Volcanic activity",
          "Volcanic activity",
          "Volcanic activity",
          "Volcanic activity",
          "Volcanic activity",
          "Volcanic activity",
          "Volcanic activity",
          "Volcanic activity",
          "Volcanic activity",
          "Volcanic activity",
          "Volcanic activity",
          "Volcanic activity",
          "Volcanic activity",
          "Volcanic activity",
          "Volcanic activity",
          "Volcanic activity",
          "Volcanic activity",
          "Volcanic activity",
          "Volcanic activity",
          "Volcanic activity",
          "Volcanic activity",
          "Volcanic activity",
          "Volcanic activity",
          "Volcanic activity",
          "Volcanic activity",
          "Volcanic activity",
          "Volcanic activity",
          "Volcanic activity",
          "Volcanic activity",
          "Volcanic activity",
          "Volcanic activity",
          "Volcanic activity",
          "Volcanic activity",
          "Volcanic activity",
          "Volcanic activity",
          "Volcanic activity",
          "Volcanic activity",
          "Volcanic activity",
          "Volcanic activity",
          "Volcanic activity",
          "Volcanic activity",
          "Volcanic activity"
         ],
         "legendgroup": "Volcanic activity",
         "line": {
          "color": "#FF97FF",
          "dash": "solid"
         },
         "mode": "lines",
         "name": "Volcanic activity",
         "orientation": "v",
         "showlegend": true,
         "type": "scatter",
         "x": [
          1900,
          1902,
          1903,
          1906,
          1909,
          1911,
          1914,
          1919,
          1926,
          1929,
          1930,
          1931,
          1937,
          1943,
          1944,
          1945,
          1946,
          1948,
          1949,
          1950,
          1951,
          1952,
          1953,
          1954,
          1956,
          1957,
          1960,
          1963,
          1964,
          1965,
          1966,
          1968,
          1969,
          1971,
          1973,
          1975,
          1976,
          1977,
          1978,
          1979,
          1980,
          1981,
          1982,
          1983,
          1984,
          1985,
          1986,
          1987,
          1988,
          1989,
          1990,
          1991,
          1992,
          1993,
          1994,
          1995,
          1996,
          1997,
          1998,
          1999,
          2000,
          2001,
          2002,
          2003,
          2004,
          2005,
          2006,
          2007,
          2008,
          2009,
          2010,
          2011,
          2012,
          2013,
          2014,
          2015,
          2017,
          2018,
          2019
         ],
         "xaxis": "x",
         "y": [
          1,
          5,
          1,
          1,
          1,
          1,
          1,
          1,
          1,
          1,
          1,
          1,
          1,
          1,
          1,
          1,
          1,
          1,
          2,
          1,
          3,
          1,
          1,
          1,
          1,
          1,
          1,
          3,
          1,
          1,
          2,
          2,
          2,
          3,
          1,
          3,
          5,
          5,
          2,
          4,
          2,
          1,
          3,
          7,
          7,
          2,
          2,
          2,
          5,
          1,
          2,
          10,
          5,
          6,
          6,
          5,
          5,
          4,
          4,
          5,
          5,
          6,
          7,
          2,
          5,
          8,
          12,
          6,
          7,
          2,
          6,
          6,
          1,
          3,
          6,
          6,
          2,
          7,
          4
         ],
         "yaxis": "y"
        },
        {
         "hovertemplate": "<b>%{hovertext}</b><br><br>Entity=Wildfire<br>Year=%{x}<br>Disasters=%{y}<extra></extra>",
         "hovertext": [
          "Wildfire",
          "Wildfire",
          "Wildfire",
          "Wildfire",
          "Wildfire",
          "Wildfire",
          "Wildfire",
          "Wildfire",
          "Wildfire",
          "Wildfire",
          "Wildfire",
          "Wildfire",
          "Wildfire",
          "Wildfire",
          "Wildfire",
          "Wildfire",
          "Wildfire",
          "Wildfire",
          "Wildfire",
          "Wildfire",
          "Wildfire",
          "Wildfire",
          "Wildfire",
          "Wildfire",
          "Wildfire",
          "Wildfire",
          "Wildfire",
          "Wildfire",
          "Wildfire",
          "Wildfire",
          "Wildfire",
          "Wildfire",
          "Wildfire",
          "Wildfire",
          "Wildfire",
          "Wildfire",
          "Wildfire",
          "Wildfire",
          "Wildfire",
          "Wildfire",
          "Wildfire",
          "Wildfire",
          "Wildfire",
          "Wildfire",
          "Wildfire",
          "Wildfire",
          "Wildfire",
          "Wildfire",
          "Wildfire",
          "Wildfire",
          "Wildfire",
          "Wildfire",
          "Wildfire",
          "Wildfire",
          "Wildfire",
          "Wildfire",
          "Wildfire",
          "Wildfire",
          "Wildfire",
          "Wildfire",
          "Wildfire",
          "Wildfire",
          "Wildfire"
         ],
         "legendgroup": "Wildfire",
         "line": {
          "color": "#FECB52",
          "dash": "solid"
         },
         "mode": "lines",
         "name": "Wildfire",
         "orientation": "v",
         "showlegend": true,
         "type": "scatter",
         "x": [
          1911,
          1918,
          1922,
          1929,
          1939,
          1944,
          1947,
          1949,
          1956,
          1965,
          1966,
          1967,
          1968,
          1969,
          1970,
          1971,
          1972,
          1973,
          1974,
          1975,
          1976,
          1977,
          1978,
          1979,
          1980,
          1981,
          1982,
          1983,
          1984,
          1985,
          1986,
          1987,
          1989,
          1990,
          1991,
          1992,
          1993,
          1994,
          1995,
          1996,
          1997,
          1998,
          1999,
          2000,
          2001,
          2002,
          2003,
          2004,
          2005,
          2006,
          2007,
          2008,
          2009,
          2010,
          2011,
          2012,
          2013,
          2014,
          2015,
          2016,
          2017,
          2018,
          2019
         ],
         "xaxis": "x",
         "y": [
          1,
          1,
          1,
          1,
          1,
          2,
          1,
          1,
          1,
          1,
          1,
          2,
          3,
          2,
          3,
          2,
          3,
          3,
          3,
          2,
          1,
          2,
          3,
          4,
          4,
          4,
          3,
          12,
          7,
          13,
          6,
          8,
          3,
          4,
          8,
          8,
          2,
          13,
          7,
          5,
          16,
          18,
          22,
          30,
          14,
          22,
          14,
          8,
          13,
          9,
          18,
          5,
          9,
          7,
          8,
          6,
          10,
          4,
          12,
          10,
          13,
          10,
          13
         ],
         "yaxis": "y"
        }
       ],
       "layout": {
        "legend": {
         "title": {
          "text": "Entity"
         },
         "tracegroupgap": 0
        },
        "template": {
         "data": {
          "bar": [
           {
            "error_x": {
             "color": "#2a3f5f"
            },
            "error_y": {
             "color": "#2a3f5f"
            },
            "marker": {
             "line": {
              "color": "#E5ECF6",
              "width": 0.5
             },
             "pattern": {
              "fillmode": "overlay",
              "size": 10,
              "solidity": 0.2
             }
            },
            "type": "bar"
           }
          ],
          "barpolar": [
           {
            "marker": {
             "line": {
              "color": "#E5ECF6",
              "width": 0.5
             },
             "pattern": {
              "fillmode": "overlay",
              "size": 10,
              "solidity": 0.2
             }
            },
            "type": "barpolar"
           }
          ],
          "carpet": [
           {
            "aaxis": {
             "endlinecolor": "#2a3f5f",
             "gridcolor": "white",
             "linecolor": "white",
             "minorgridcolor": "white",
             "startlinecolor": "#2a3f5f"
            },
            "baxis": {
             "endlinecolor": "#2a3f5f",
             "gridcolor": "white",
             "linecolor": "white",
             "minorgridcolor": "white",
             "startlinecolor": "#2a3f5f"
            },
            "type": "carpet"
           }
          ],
          "choropleth": [
           {
            "colorbar": {
             "outlinewidth": 0,
             "ticks": ""
            },
            "type": "choropleth"
           }
          ],
          "contour": [
           {
            "colorbar": {
             "outlinewidth": 0,
             "ticks": ""
            },
            "colorscale": [
             [
              0,
              "#0d0887"
             ],
             [
              0.1111111111111111,
              "#46039f"
             ],
             [
              0.2222222222222222,
              "#7201a8"
             ],
             [
              0.3333333333333333,
              "#9c179e"
             ],
             [
              0.4444444444444444,
              "#bd3786"
             ],
             [
              0.5555555555555556,
              "#d8576b"
             ],
             [
              0.6666666666666666,
              "#ed7953"
             ],
             [
              0.7777777777777778,
              "#fb9f3a"
             ],
             [
              0.8888888888888888,
              "#fdca26"
             ],
             [
              1,
              "#f0f921"
             ]
            ],
            "type": "contour"
           }
          ],
          "contourcarpet": [
           {
            "colorbar": {
             "outlinewidth": 0,
             "ticks": ""
            },
            "type": "contourcarpet"
           }
          ],
          "heatmap": [
           {
            "colorbar": {
             "outlinewidth": 0,
             "ticks": ""
            },
            "colorscale": [
             [
              0,
              "#0d0887"
             ],
             [
              0.1111111111111111,
              "#46039f"
             ],
             [
              0.2222222222222222,
              "#7201a8"
             ],
             [
              0.3333333333333333,
              "#9c179e"
             ],
             [
              0.4444444444444444,
              "#bd3786"
             ],
             [
              0.5555555555555556,
              "#d8576b"
             ],
             [
              0.6666666666666666,
              "#ed7953"
             ],
             [
              0.7777777777777778,
              "#fb9f3a"
             ],
             [
              0.8888888888888888,
              "#fdca26"
             ],
             [
              1,
              "#f0f921"
             ]
            ],
            "type": "heatmap"
           }
          ],
          "heatmapgl": [
           {
            "colorbar": {
             "outlinewidth": 0,
             "ticks": ""
            },
            "colorscale": [
             [
              0,
              "#0d0887"
             ],
             [
              0.1111111111111111,
              "#46039f"
             ],
             [
              0.2222222222222222,
              "#7201a8"
             ],
             [
              0.3333333333333333,
              "#9c179e"
             ],
             [
              0.4444444444444444,
              "#bd3786"
             ],
             [
              0.5555555555555556,
              "#d8576b"
             ],
             [
              0.6666666666666666,
              "#ed7953"
             ],
             [
              0.7777777777777778,
              "#fb9f3a"
             ],
             [
              0.8888888888888888,
              "#fdca26"
             ],
             [
              1,
              "#f0f921"
             ]
            ],
            "type": "heatmapgl"
           }
          ],
          "histogram": [
           {
            "marker": {
             "pattern": {
              "fillmode": "overlay",
              "size": 10,
              "solidity": 0.2
             }
            },
            "type": "histogram"
           }
          ],
          "histogram2d": [
           {
            "colorbar": {
             "outlinewidth": 0,
             "ticks": ""
            },
            "colorscale": [
             [
              0,
              "#0d0887"
             ],
             [
              0.1111111111111111,
              "#46039f"
             ],
             [
              0.2222222222222222,
              "#7201a8"
             ],
             [
              0.3333333333333333,
              "#9c179e"
             ],
             [
              0.4444444444444444,
              "#bd3786"
             ],
             [
              0.5555555555555556,
              "#d8576b"
             ],
             [
              0.6666666666666666,
              "#ed7953"
             ],
             [
              0.7777777777777778,
              "#fb9f3a"
             ],
             [
              0.8888888888888888,
              "#fdca26"
             ],
             [
              1,
              "#f0f921"
             ]
            ],
            "type": "histogram2d"
           }
          ],
          "histogram2dcontour": [
           {
            "colorbar": {
             "outlinewidth": 0,
             "ticks": ""
            },
            "colorscale": [
             [
              0,
              "#0d0887"
             ],
             [
              0.1111111111111111,
              "#46039f"
             ],
             [
              0.2222222222222222,
              "#7201a8"
             ],
             [
              0.3333333333333333,
              "#9c179e"
             ],
             [
              0.4444444444444444,
              "#bd3786"
             ],
             [
              0.5555555555555556,
              "#d8576b"
             ],
             [
              0.6666666666666666,
              "#ed7953"
             ],
             [
              0.7777777777777778,
              "#fb9f3a"
             ],
             [
              0.8888888888888888,
              "#fdca26"
             ],
             [
              1,
              "#f0f921"
             ]
            ],
            "type": "histogram2dcontour"
           }
          ],
          "mesh3d": [
           {
            "colorbar": {
             "outlinewidth": 0,
             "ticks": ""
            },
            "type": "mesh3d"
           }
          ],
          "parcoords": [
           {
            "line": {
             "colorbar": {
              "outlinewidth": 0,
              "ticks": ""
             }
            },
            "type": "parcoords"
           }
          ],
          "pie": [
           {
            "automargin": true,
            "type": "pie"
           }
          ],
          "scatter": [
           {
            "marker": {
             "colorbar": {
              "outlinewidth": 0,
              "ticks": ""
             }
            },
            "type": "scatter"
           }
          ],
          "scatter3d": [
           {
            "line": {
             "colorbar": {
              "outlinewidth": 0,
              "ticks": ""
             }
            },
            "marker": {
             "colorbar": {
              "outlinewidth": 0,
              "ticks": ""
             }
            },
            "type": "scatter3d"
           }
          ],
          "scattercarpet": [
           {
            "marker": {
             "colorbar": {
              "outlinewidth": 0,
              "ticks": ""
             }
            },
            "type": "scattercarpet"
           }
          ],
          "scattergeo": [
           {
            "marker": {
             "colorbar": {
              "outlinewidth": 0,
              "ticks": ""
             }
            },
            "type": "scattergeo"
           }
          ],
          "scattergl": [
           {
            "marker": {
             "colorbar": {
              "outlinewidth": 0,
              "ticks": ""
             }
            },
            "type": "scattergl"
           }
          ],
          "scattermapbox": [
           {
            "marker": {
             "colorbar": {
              "outlinewidth": 0,
              "ticks": ""
             }
            },
            "type": "scattermapbox"
           }
          ],
          "scatterpolar": [
           {
            "marker": {
             "colorbar": {
              "outlinewidth": 0,
              "ticks": ""
             }
            },
            "type": "scatterpolar"
           }
          ],
          "scatterpolargl": [
           {
            "marker": {
             "colorbar": {
              "outlinewidth": 0,
              "ticks": ""
             }
            },
            "type": "scatterpolargl"
           }
          ],
          "scatterternary": [
           {
            "marker": {
             "colorbar": {
              "outlinewidth": 0,
              "ticks": ""
             }
            },
            "type": "scatterternary"
           }
          ],
          "surface": [
           {
            "colorbar": {
             "outlinewidth": 0,
             "ticks": ""
            },
            "colorscale": [
             [
              0,
              "#0d0887"
             ],
             [
              0.1111111111111111,
              "#46039f"
             ],
             [
              0.2222222222222222,
              "#7201a8"
             ],
             [
              0.3333333333333333,
              "#9c179e"
             ],
             [
              0.4444444444444444,
              "#bd3786"
             ],
             [
              0.5555555555555556,
              "#d8576b"
             ],
             [
              0.6666666666666666,
              "#ed7953"
             ],
             [
              0.7777777777777778,
              "#fb9f3a"
             ],
             [
              0.8888888888888888,
              "#fdca26"
             ],
             [
              1,
              "#f0f921"
             ]
            ],
            "type": "surface"
           }
          ],
          "table": [
           {
            "cells": {
             "fill": {
              "color": "#EBF0F8"
             },
             "line": {
              "color": "white"
             }
            },
            "header": {
             "fill": {
              "color": "#C8D4E3"
             },
             "line": {
              "color": "white"
             }
            },
            "type": "table"
           }
          ]
         },
         "layout": {
          "annotationdefaults": {
           "arrowcolor": "#2a3f5f",
           "arrowhead": 0,
           "arrowwidth": 1
          },
          "autotypenumbers": "strict",
          "coloraxis": {
           "colorbar": {
            "outlinewidth": 0,
            "ticks": ""
           }
          },
          "colorscale": {
           "diverging": [
            [
             0,
             "#8e0152"
            ],
            [
             0.1,
             "#c51b7d"
            ],
            [
             0.2,
             "#de77ae"
            ],
            [
             0.3,
             "#f1b6da"
            ],
            [
             0.4,
             "#fde0ef"
            ],
            [
             0.5,
             "#f7f7f7"
            ],
            [
             0.6,
             "#e6f5d0"
            ],
            [
             0.7,
             "#b8e186"
            ],
            [
             0.8,
             "#7fbc41"
            ],
            [
             0.9,
             "#4d9221"
            ],
            [
             1,
             "#276419"
            ]
           ],
           "sequential": [
            [
             0,
             "#0d0887"
            ],
            [
             0.1111111111111111,
             "#46039f"
            ],
            [
             0.2222222222222222,
             "#7201a8"
            ],
            [
             0.3333333333333333,
             "#9c179e"
            ],
            [
             0.4444444444444444,
             "#bd3786"
            ],
            [
             0.5555555555555556,
             "#d8576b"
            ],
            [
             0.6666666666666666,
             "#ed7953"
            ],
            [
             0.7777777777777778,
             "#fb9f3a"
            ],
            [
             0.8888888888888888,
             "#fdca26"
            ],
            [
             1,
             "#f0f921"
            ]
           ],
           "sequentialminus": [
            [
             0,
             "#0d0887"
            ],
            [
             0.1111111111111111,
             "#46039f"
            ],
            [
             0.2222222222222222,
             "#7201a8"
            ],
            [
             0.3333333333333333,
             "#9c179e"
            ],
            [
             0.4444444444444444,
             "#bd3786"
            ],
            [
             0.5555555555555556,
             "#d8576b"
            ],
            [
             0.6666666666666666,
             "#ed7953"
            ],
            [
             0.7777777777777778,
             "#fb9f3a"
            ],
            [
             0.8888888888888888,
             "#fdca26"
            ],
            [
             1,
             "#f0f921"
            ]
           ]
          },
          "colorway": [
           "#636efa",
           "#EF553B",
           "#00cc96",
           "#ab63fa",
           "#FFA15A",
           "#19d3f3",
           "#FF6692",
           "#B6E880",
           "#FF97FF",
           "#FECB52"
          ],
          "font": {
           "color": "#2a3f5f"
          },
          "geo": {
           "bgcolor": "white",
           "lakecolor": "white",
           "landcolor": "#E5ECF6",
           "showlakes": true,
           "showland": true,
           "subunitcolor": "white"
          },
          "hoverlabel": {
           "align": "left"
          },
          "hovermode": "closest",
          "mapbox": {
           "style": "light"
          },
          "paper_bgcolor": "white",
          "plot_bgcolor": "#E5ECF6",
          "polar": {
           "angularaxis": {
            "gridcolor": "white",
            "linecolor": "white",
            "ticks": ""
           },
           "bgcolor": "#E5ECF6",
           "radialaxis": {
            "gridcolor": "white",
            "linecolor": "white",
            "ticks": ""
           }
          },
          "scene": {
           "xaxis": {
            "backgroundcolor": "#E5ECF6",
            "gridcolor": "white",
            "gridwidth": 2,
            "linecolor": "white",
            "showbackground": true,
            "ticks": "",
            "zerolinecolor": "white"
           },
           "yaxis": {
            "backgroundcolor": "#E5ECF6",
            "gridcolor": "white",
            "gridwidth": 2,
            "linecolor": "white",
            "showbackground": true,
            "ticks": "",
            "zerolinecolor": "white"
           },
           "zaxis": {
            "backgroundcolor": "#E5ECF6",
            "gridcolor": "white",
            "gridwidth": 2,
            "linecolor": "white",
            "showbackground": true,
            "ticks": "",
            "zerolinecolor": "white"
           }
          },
          "shapedefaults": {
           "line": {
            "color": "#2a3f5f"
           }
          },
          "ternary": {
           "aaxis": {
            "gridcolor": "white",
            "linecolor": "white",
            "ticks": ""
           },
           "baxis": {
            "gridcolor": "white",
            "linecolor": "white",
            "ticks": ""
           },
           "bgcolor": "#E5ECF6",
           "caxis": {
            "gridcolor": "white",
            "linecolor": "white",
            "ticks": ""
           }
          },
          "title": {
           "x": 0.05
          },
          "xaxis": {
           "automargin": true,
           "gridcolor": "white",
           "linecolor": "white",
           "ticks": "",
           "title": {
            "standoff": 15
           },
           "zerolinecolor": "white",
           "zerolinewidth": 2
          },
          "yaxis": {
           "automargin": true,
           "gridcolor": "white",
           "linecolor": "white",
           "ticks": "",
           "title": {
            "standoff": 15
           },
           "zerolinecolor": "white",
           "zerolinewidth": 2
          }
         }
        },
        "title": {
         "text": "자연재해 종류와 그에 따른 빈도수(1900~2019)"
        },
        "xaxis": {
         "anchor": "y",
         "domain": [
          0,
          1
         ],
         "title": {
          "text": "Year"
         }
        },
        "yaxis": {
         "anchor": "x",
         "domain": [
          0,
          1
         ],
         "title": {
          "text": "Disasters"
         }
        }
       }
      },
      "text/html": [
       "<div>                            <div id=\"65ca01c3-0d3b-46cc-9eb3-dc5298d50960\" class=\"plotly-graph-div\" style=\"height:525px; width:100%;\"></div>            <script type=\"text/javascript\">                require([\"plotly\"], function(Plotly) {                    window.PLOTLYENV=window.PLOTLYENV || {};                                    if (document.getElementById(\"65ca01c3-0d3b-46cc-9eb3-dc5298d50960\")) {                    Plotly.newPlot(                        \"65ca01c3-0d3b-46cc-9eb3-dc5298d50960\",                        [{\"hovertemplate\":\"<b>%{hovertext}</b><br><br>Entity=Drought<br>Year=%{x}<br>Disasters=%{y}<extra></extra>\",\"hovertext\":[\"Drought\",\"Drought\",\"Drought\",\"Drought\",\"Drought\",\"Drought\",\"Drought\",\"Drought\",\"Drought\",\"Drought\",\"Drought\",\"Drought\",\"Drought\",\"Drought\",\"Drought\",\"Drought\",\"Drought\",\"Drought\",\"Drought\",\"Drought\",\"Drought\",\"Drought\",\"Drought\",\"Drought\",\"Drought\",\"Drought\",\"Drought\",\"Drought\",\"Drought\",\"Drought\",\"Drought\",\"Drought\",\"Drought\",\"Drought\",\"Drought\",\"Drought\",\"Drought\",\"Drought\",\"Drought\",\"Drought\",\"Drought\",\"Drought\",\"Drought\",\"Drought\",\"Drought\",\"Drought\",\"Drought\",\"Drought\",\"Drought\",\"Drought\",\"Drought\",\"Drought\",\"Drought\",\"Drought\",\"Drought\",\"Drought\",\"Drought\",\"Drought\",\"Drought\",\"Drought\",\"Drought\",\"Drought\",\"Drought\",\"Drought\",\"Drought\",\"Drought\",\"Drought\",\"Drought\",\"Drought\",\"Drought\",\"Drought\",\"Drought\",\"Drought\",\"Drought\"],\"legendgroup\":\"Drought\",\"line\":{\"color\":\"#636efa\",\"dash\":\"solid\"},\"mode\":\"lines\",\"name\":\"Drought\",\"orientation\":\"v\",\"showlegend\":true,\"type\":\"scatter\",\"x\":[1900,1903,1906,1910,1919,1920,1921,1928,1931,1933,1940,1942,1943,1946,1947,1960,1961,1963,1964,1965,1966,1967,1968,1969,1970,1971,1972,1973,1974,1975,1976,1977,1978,1979,1980,1981,1982,1983,1984,1985,1986,1987,1988,1989,1990,1991,1992,1993,1994,1995,1996,1997,1998,1999,2000,2001,2002,2003,2004,2005,2006,2007,2008,2009,2010,2011,2012,2013,2014,2015,2016,2017,2018,2019],\"xaxis\":\"x\",\"y\":[2,1,1,9,1,2,1,1,1,1,9,1,1,1,1,1,1,1,7,7,9,5,7,10,2,7,7,2,4,1,6,16,9,11,14,13,13,32,8,3,4,15,17,7,12,18,12,9,13,6,6,18,20,23,27,22,25,14,11,20,9,11,16,18,17,17,21,9,18,28,15,7,13,15],\"yaxis\":\"y\"},{\"hovertemplate\":\"<b>%{hovertext}</b><br><br>Entity=Earthquake<br>Year=%{x}<br>Disasters=%{y}<extra></extra>\",\"hovertext\":[\"Earthquake\",\"Earthquake\",\"Earthquake\",\"Earthquake\",\"Earthquake\",\"Earthquake\",\"Earthquake\",\"Earthquake\",\"Earthquake\",\"Earthquake\",\"Earthquake\",\"Earthquake\",\"Earthquake\",\"Earthquake\",\"Earthquake\",\"Earthquake\",\"Earthquake\",\"Earthquake\",\"Earthquake\",\"Earthquake\",\"Earthquake\",\"Earthquake\",\"Earthquake\",\"Earthquake\",\"Earthquake\",\"Earthquake\",\"Earthquake\",\"Earthquake\",\"Earthquake\",\"Earthquake\",\"Earthquake\",\"Earthquake\",\"Earthquake\",\"Earthquake\",\"Earthquake\",\"Earthquake\",\"Earthquake\",\"Earthquake\",\"Earthquake\",\"Earthquake\",\"Earthquake\",\"Earthquake\",\"Earthquake\",\"Earthquake\",\"Earthquake\",\"Earthquake\",\"Earthquake\",\"Earthquake\",\"Earthquake\",\"Earthquake\",\"Earthquake\",\"Earthquake\",\"Earthquake\",\"Earthquake\",\"Earthquake\",\"Earthquake\",\"Earthquake\",\"Earthquake\",\"Earthquake\",\"Earthquake\",\"Earthquake\",\"Earthquake\",\"Earthquake\",\"Earthquake\",\"Earthquake\",\"Earthquake\",\"Earthquake\",\"Earthquake\",\"Earthquake\",\"Earthquake\",\"Earthquake\",\"Earthquake\",\"Earthquake\",\"Earthquake\",\"Earthquake\",\"Earthquake\",\"Earthquake\",\"Earthquake\",\"Earthquake\",\"Earthquake\",\"Earthquake\",\"Earthquake\",\"Earthquake\",\"Earthquake\",\"Earthquake\",\"Earthquake\",\"Earthquake\",\"Earthquake\",\"Earthquake\",\"Earthquake\",\"Earthquake\",\"Earthquake\",\"Earthquake\",\"Earthquake\",\"Earthquake\",\"Earthquake\",\"Earthquake\",\"Earthquake\",\"Earthquake\",\"Earthquake\",\"Earthquake\",\"Earthquake\",\"Earthquake\",\"Earthquake\",\"Earthquake\",\"Earthquake\",\"Earthquake\",\"Earthquake\",\"Earthquake\",\"Earthquake\",\"Earthquake\",\"Earthquake\",\"Earthquake\",\"Earthquake\",\"Earthquake\",\"Earthquake\"],\"legendgroup\":\"Earthquake\",\"line\":{\"color\":\"#EF553B\",\"dash\":\"solid\"},\"mode\":\"lines\",\"name\":\"Earthquake\",\"orientation\":\"v\",\"showlegend\":true,\"type\":\"scatter\",\"x\":[1901,1902,1903,1904,1905,1906,1907,1908,1909,1910,1912,1913,1914,1915,1916,1917,1918,1920,1921,1922,1923,1924,1925,1926,1927,1928,1929,1930,1931,1932,1933,1934,1935,1936,1938,1939,1940,1941,1942,1943,1944,1945,1946,1947,1948,1949,1950,1951,1952,1953,1954,1955,1956,1957,1958,1959,1960,1961,1962,1963,1964,1965,1966,1967,1968,1969,1970,1971,1972,1973,1974,1975,1976,1977,1978,1979,1980,1981,1982,1983,1984,1985,1986,1987,1988,1989,1990,1991,1992,1993,1994,1995,1996,1997,1998,1999,2000,2001,2002,2003,2004,2005,2006,2007,2008,2009,2010,2011,2012,2013,2014,2015,2016,2017,2018,2019],\"xaxis\":\"x\",\"y\":[2,3,1,1,2,10,5,3,3,3,2,4,4,3,1,3,5,3,1,2,5,2,2,1,6,7,2,7,4,2,4,4,3,2,2,6,4,2,5,5,4,4,8,2,5,6,4,3,8,7,5,4,6,8,4,3,9,2,3,3,7,7,11,10,14,8,11,5,5,4,4,4,20,14,9,25,24,17,18,25,13,22,21,19,18,19,43,29,25,20,25,26,13,23,30,33,30,25,37,40,42,25,24,21,23,22,24,30,27,29,26,23,30,19,20,32],\"yaxis\":\"y\"},{\"hovertemplate\":\"<b>%{hovertext}</b><br><br>Entity=Extreme temperature<br>Year=%{x}<br>Disasters=%{y}<extra></extra>\",\"hovertext\":[\"Extreme temperature\",\"Extreme temperature\",\"Extreme temperature\",\"Extreme temperature\",\"Extreme temperature\",\"Extreme temperature\",\"Extreme temperature\",\"Extreme temperature\",\"Extreme temperature\",\"Extreme temperature\",\"Extreme temperature\",\"Extreme temperature\",\"Extreme temperature\",\"Extreme temperature\",\"Extreme temperature\",\"Extreme temperature\",\"Extreme temperature\",\"Extreme temperature\",\"Extreme temperature\",\"Extreme temperature\",\"Extreme temperature\",\"Extreme temperature\",\"Extreme temperature\",\"Extreme temperature\",\"Extreme temperature\",\"Extreme temperature\",\"Extreme temperature\",\"Extreme temperature\",\"Extreme temperature\",\"Extreme temperature\",\"Extreme temperature\",\"Extreme temperature\",\"Extreme temperature\",\"Extreme temperature\",\"Extreme temperature\",\"Extreme temperature\",\"Extreme temperature\",\"Extreme temperature\",\"Extreme temperature\",\"Extreme temperature\",\"Extreme temperature\",\"Extreme temperature\",\"Extreme temperature\",\"Extreme temperature\",\"Extreme temperature\",\"Extreme temperature\",\"Extreme temperature\",\"Extreme temperature\",\"Extreme temperature\",\"Extreme temperature\",\"Extreme temperature\",\"Extreme temperature\",\"Extreme temperature\",\"Extreme temperature\",\"Extreme temperature\",\"Extreme temperature\",\"Extreme temperature\",\"Extreme temperature\"],\"legendgroup\":\"Extreme temperature\",\"line\":{\"color\":\"#00cc96\",\"dash\":\"solid\"},\"mode\":\"lines\",\"name\":\"Extreme temperature\",\"orientation\":\"v\",\"showlegend\":true,\"type\":\"scatter\",\"x\":[1936,1951,1953,1955,1958,1961,1962,1963,1965,1966,1968,1971,1972,1973,1975,1977,1978,1979,1980,1981,1982,1983,1984,1985,1986,1987,1988,1989,1990,1991,1992,1993,1994,1995,1996,1997,1998,1999,2000,2001,2002,2003,2004,2005,2006,2007,2008,2009,2010,2011,2012,2013,2014,2015,2016,2017,2018,2019],\"xaxis\":\"x\",\"y\":[2,2,3,1,2,1,1,2,1,2,2,1,2,3,3,1,1,4,3,2,3,2,1,8,2,6,6,5,13,8,7,4,9,13,5,13,12,8,31,23,15,25,16,30,24,25,10,25,29,16,51,14,17,12,12,11,25,20],\"yaxis\":\"y\"},{\"hovertemplate\":\"<b>%{hovertext}</b><br><br>Entity=Extreme weather<br>Year=%{x}<br>Disasters=%{y}<extra></extra>\",\"hovertext\":[\"Extreme weather\",\"Extreme weather\",\"Extreme weather\",\"Extreme weather\",\"Extreme weather\",\"Extreme weather\",\"Extreme weather\",\"Extreme weather\",\"Extreme weather\",\"Extreme weather\",\"Extreme weather\",\"Extreme weather\",\"Extreme weather\",\"Extreme weather\",\"Extreme weather\",\"Extreme weather\",\"Extreme weather\",\"Extreme weather\",\"Extreme weather\",\"Extreme weather\",\"Extreme weather\",\"Extreme weather\",\"Extreme weather\",\"Extreme weather\",\"Extreme weather\",\"Extreme weather\",\"Extreme weather\",\"Extreme weather\",\"Extreme weather\",\"Extreme weather\",\"Extreme weather\",\"Extreme weather\",\"Extreme weather\",\"Extreme weather\",\"Extreme weather\",\"Extreme weather\",\"Extreme weather\",\"Extreme weather\",\"Extreme weather\",\"Extreme weather\",\"Extreme weather\",\"Extreme weather\",\"Extreme weather\",\"Extreme weather\",\"Extreme weather\",\"Extreme weather\",\"Extreme weather\",\"Extreme weather\",\"Extreme weather\",\"Extreme weather\",\"Extreme weather\",\"Extreme weather\",\"Extreme weather\",\"Extreme weather\",\"Extreme weather\",\"Extreme weather\",\"Extreme weather\",\"Extreme weather\",\"Extreme weather\",\"Extreme weather\",\"Extreme weather\",\"Extreme weather\",\"Extreme weather\",\"Extreme weather\",\"Extreme weather\",\"Extreme weather\",\"Extreme weather\",\"Extreme weather\",\"Extreme weather\",\"Extreme weather\",\"Extreme weather\",\"Extreme weather\",\"Extreme weather\",\"Extreme weather\",\"Extreme weather\",\"Extreme weather\",\"Extreme weather\",\"Extreme weather\",\"Extreme weather\",\"Extreme weather\",\"Extreme weather\",\"Extreme weather\",\"Extreme weather\",\"Extreme weather\",\"Extreme weather\",\"Extreme weather\",\"Extreme weather\",\"Extreme weather\",\"Extreme weather\",\"Extreme weather\",\"Extreme weather\",\"Extreme weather\",\"Extreme weather\",\"Extreme weather\",\"Extreme weather\",\"Extreme weather\",\"Extreme weather\",\"Extreme weather\",\"Extreme weather\",\"Extreme weather\",\"Extreme weather\",\"Extreme weather\",\"Extreme weather\",\"Extreme weather\",\"Extreme weather\",\"Extreme weather\",\"Extreme weather\",\"Extreme weather\",\"Extreme weather\",\"Extreme weather\",\"Extreme weather\",\"Extreme weather\",\"Extreme weather\",\"Extreme weather\",\"Extreme weather\",\"Extreme weather\"],\"legendgroup\":\"Extreme weather\",\"line\":{\"color\":\"#ab63fa\",\"dash\":\"solid\"},\"mode\":\"lines\",\"name\":\"Extreme weather\",\"orientation\":\"v\",\"showlegend\":true,\"type\":\"scatter\",\"x\":[1900,1902,1903,1904,1905,1906,1909,1910,1911,1912,1913,1914,1915,1916,1917,1918,1919,1920,1922,1923,1924,1925,1926,1927,1928,1929,1930,1931,1932,1933,1934,1935,1936,1937,1938,1939,1940,1941,1942,1943,1944,1945,1946,1947,1948,1949,1950,1951,1952,1953,1954,1955,1956,1957,1958,1959,1960,1961,1962,1963,1964,1965,1966,1967,1968,1969,1970,1971,1972,1973,1974,1975,1976,1977,1978,1979,1980,1981,1982,1983,1984,1985,1986,1987,1988,1989,1990,1991,1992,1993,1994,1995,1996,1997,1998,1999,2000,2001,2002,2003,2004,2005,2006,2007,2008,2009,2010,2011,2012,2013,2014,2015,2016,2017,2018,2019],\"xaxis\":\"x\",\"y\":[1,1,2,1,1,3,5,1,2,5,1,1,2,1,2,1,2,1,2,6,2,3,7,4,7,2,4,4,5,3,4,7,5,3,2,2,3,2,3,3,5,7,5,7,10,8,7,11,10,11,10,19,14,9,13,16,20,14,13,21,22,19,28,25,25,25,24,22,26,22,28,28,36,32,42,31,42,50,52,59,57,51,56,58,60,73,137,66,76,108,81,81,77,79,88,106,102,105,122,86,124,130,76,105,111,87,94,84,90,105,99,118,84,85,84,85],\"yaxis\":\"y\"},{\"hovertemplate\":\"<b>%{hovertext}</b><br><br>Entity=Flood<br>Year=%{x}<br>Disasters=%{y}<extra></extra>\",\"hovertext\":[\"Flood\",\"Flood\",\"Flood\",\"Flood\",\"Flood\",\"Flood\",\"Flood\",\"Flood\",\"Flood\",\"Flood\",\"Flood\",\"Flood\",\"Flood\",\"Flood\",\"Flood\",\"Flood\",\"Flood\",\"Flood\",\"Flood\",\"Flood\",\"Flood\",\"Flood\",\"Flood\",\"Flood\",\"Flood\",\"Flood\",\"Flood\",\"Flood\",\"Flood\",\"Flood\",\"Flood\",\"Flood\",\"Flood\",\"Flood\",\"Flood\",\"Flood\",\"Flood\",\"Flood\",\"Flood\",\"Flood\",\"Flood\",\"Flood\",\"Flood\",\"Flood\",\"Flood\",\"Flood\",\"Flood\",\"Flood\",\"Flood\",\"Flood\",\"Flood\",\"Flood\",\"Flood\",\"Flood\",\"Flood\",\"Flood\",\"Flood\",\"Flood\",\"Flood\",\"Flood\",\"Flood\",\"Flood\",\"Flood\",\"Flood\",\"Flood\",\"Flood\",\"Flood\",\"Flood\",\"Flood\",\"Flood\",\"Flood\",\"Flood\",\"Flood\",\"Flood\",\"Flood\",\"Flood\",\"Flood\",\"Flood\",\"Flood\",\"Flood\",\"Flood\",\"Flood\",\"Flood\",\"Flood\",\"Flood\",\"Flood\",\"Flood\",\"Flood\",\"Flood\",\"Flood\",\"Flood\",\"Flood\",\"Flood\",\"Flood\",\"Flood\",\"Flood\"],\"legendgroup\":\"Flood\",\"line\":{\"color\":\"#FFA15A\",\"dash\":\"solid\"},\"mode\":\"lines\",\"name\":\"Flood\",\"orientation\":\"v\",\"showlegend\":true,\"type\":\"scatter\",\"x\":[1900,1903,1906,1909,1910,1911,1915,1917,1920,1925,1926,1927,1928,1930,1931,1933,1935,1936,1937,1938,1939,1940,1943,1947,1948,1949,1950,1951,1952,1953,1954,1955,1956,1957,1958,1959,1960,1961,1962,1963,1964,1965,1966,1967,1968,1969,1970,1971,1972,1973,1974,1975,1976,1977,1978,1979,1980,1981,1982,1983,1984,1985,1986,1987,1988,1989,1990,1991,1992,1993,1994,1995,1996,1997,1998,1999,2000,2001,2002,2003,2004,2005,2006,2007,2008,2009,2010,2011,2012,2013,2014,2015,2016,2017,2018,2019],\"xaxis\":\"x\",\"y\":[1,2,2,1,1,1,1,1,1,1,4,2,2,1,1,2,1,1,2,2,2,1,2,1,5,2,10,7,4,12,9,3,9,11,3,13,7,8,8,8,22,19,23,26,20,14,31,15,15,20,19,17,17,48,47,34,39,43,48,49,47,58,50,68,76,46,60,77,59,84,88,94,92,95,94,122,157,157,172,158,128,193,226,218,165,151,184,156,136,149,135,160,161,114,109,170],\"yaxis\":\"y\"},{\"hovertemplate\":\"<b>%{hovertext}</b><br><br>Entity=Impact<br>Year=%{x}<br>Disasters=%{y}<extra></extra>\",\"hovertext\":[\"Impact\"],\"legendgroup\":\"Impact\",\"line\":{\"color\":\"#19d3f3\",\"dash\":\"solid\"},\"mode\":\"lines\",\"name\":\"Impact\",\"orientation\":\"v\",\"showlegend\":true,\"type\":\"scatter\",\"x\":[2013],\"xaxis\":\"x\",\"y\":[1],\"yaxis\":\"y\"},{\"hovertemplate\":\"<b>%{hovertext}</b><br><br>Entity=Landslide<br>Year=%{x}<br>Disasters=%{y}<extra></extra>\",\"hovertext\":[\"Landslide\",\"Landslide\",\"Landslide\",\"Landslide\",\"Landslide\",\"Landslide\",\"Landslide\",\"Landslide\",\"Landslide\",\"Landslide\",\"Landslide\",\"Landslide\",\"Landslide\",\"Landslide\",\"Landslide\",\"Landslide\",\"Landslide\",\"Landslide\",\"Landslide\",\"Landslide\",\"Landslide\",\"Landslide\",\"Landslide\",\"Landslide\",\"Landslide\",\"Landslide\",\"Landslide\",\"Landslide\",\"Landslide\",\"Landslide\",\"Landslide\",\"Landslide\",\"Landslide\",\"Landslide\",\"Landslide\",\"Landslide\",\"Landslide\",\"Landslide\",\"Landslide\",\"Landslide\",\"Landslide\",\"Landslide\",\"Landslide\",\"Landslide\",\"Landslide\",\"Landslide\",\"Landslide\",\"Landslide\",\"Landslide\",\"Landslide\",\"Landslide\",\"Landslide\",\"Landslide\",\"Landslide\",\"Landslide\",\"Landslide\",\"Landslide\",\"Landslide\",\"Landslide\",\"Landslide\",\"Landslide\",\"Landslide\",\"Landslide\",\"Landslide\",\"Landslide\",\"Landslide\",\"Landslide\",\"Landslide\",\"Landslide\",\"Landslide\",\"Landslide\",\"Landslide\",\"Landslide\",\"Landslide\",\"Landslide\",\"Landslide\",\"Landslide\",\"Landslide\",\"Landslide\",\"Landslide\",\"Landslide\"],\"legendgroup\":\"Landslide\",\"line\":{\"color\":\"#FF6692\",\"dash\":\"solid\"},\"mode\":\"lines\",\"name\":\"Landslide\",\"orientation\":\"v\",\"showlegend\":true,\"type\":\"scatter\",\"x\":[1909,1922,1923,1926,1930,1931,1932,1934,1936,1938,1941,1948,1949,1950,1951,1952,1954,1955,1956,1958,1959,1960,1961,1962,1963,1964,1965,1966,1967,1968,1969,1970,1971,1972,1973,1974,1975,1976,1977,1978,1979,1980,1981,1982,1983,1984,1985,1986,1987,1988,1989,1990,1991,1992,1993,1994,1995,1996,1997,1998,1999,2000,2001,2002,2003,2004,2005,2006,2007,2008,2009,2010,2011,2012,2013,2014,2015,2016,2017,2018,2019],\"xaxis\":\"x\",\"y\":[1,1,1,2,1,1,1,1,1,1,1,2,1,1,1,1,8,2,5,1,1,2,2,2,2,1,5,4,2,4,1,5,5,5,5,10,5,6,3,2,7,4,8,11,15,6,6,9,13,15,15,4,9,7,22,11,16,24,13,22,18,28,24,20,21,15,13,20,10,12,29,32,17,13,11,15,20,13,25,13,22],\"yaxis\":\"y\"},{\"hovertemplate\":\"<b>%{hovertext}</b><br><br>Entity=Mass movement (dry)<br>Year=%{x}<br>Disasters=%{y}<extra></extra>\",\"hovertext\":[\"Mass movement (dry)\",\"Mass movement (dry)\",\"Mass movement (dry)\",\"Mass movement (dry)\",\"Mass movement (dry)\",\"Mass movement (dry)\",\"Mass movement (dry)\",\"Mass movement (dry)\",\"Mass movement (dry)\",\"Mass movement (dry)\",\"Mass movement (dry)\",\"Mass movement (dry)\",\"Mass movement (dry)\",\"Mass movement (dry)\",\"Mass movement (dry)\",\"Mass movement (dry)\",\"Mass movement (dry)\",\"Mass movement (dry)\",\"Mass movement (dry)\",\"Mass movement (dry)\",\"Mass movement (dry)\",\"Mass movement (dry)\",\"Mass movement (dry)\",\"Mass movement (dry)\",\"Mass movement (dry)\",\"Mass movement (dry)\",\"Mass movement (dry)\",\"Mass movement (dry)\",\"Mass movement (dry)\",\"Mass movement (dry)\",\"Mass movement (dry)\",\"Mass movement (dry)\",\"Mass movement (dry)\"],\"legendgroup\":\"Mass movement (dry)\",\"line\":{\"color\":\"#B6E880\",\"dash\":\"solid\"},\"mode\":\"lines\",\"name\":\"Mass movement (dry)\",\"orientation\":\"v\",\"showlegend\":true,\"type\":\"scatter\",\"x\":[1903,1905,1908,1910,1915,1937,1955,1962,1963,1965,1970,1971,1980,1982,1983,1985,1987,1988,1989,1990,1991,1992,1993,2000,2002,2004,2006,2008,2009,2012,2013,2015,2018],\"xaxis\":\"x\",\"y\":[1,1,1,1,1,1,1,1,1,1,1,1,1,2,4,2,2,3,3,3,3,5,5,1,1,1,1,3,1,1,1,1,1],\"yaxis\":\"y\"},{\"hovertemplate\":\"<b>%{hovertext}</b><br><br>Entity=Volcanic activity<br>Year=%{x}<br>Disasters=%{y}<extra></extra>\",\"hovertext\":[\"Volcanic activity\",\"Volcanic activity\",\"Volcanic activity\",\"Volcanic activity\",\"Volcanic activity\",\"Volcanic activity\",\"Volcanic activity\",\"Volcanic activity\",\"Volcanic activity\",\"Volcanic activity\",\"Volcanic activity\",\"Volcanic activity\",\"Volcanic activity\",\"Volcanic activity\",\"Volcanic activity\",\"Volcanic activity\",\"Volcanic activity\",\"Volcanic activity\",\"Volcanic activity\",\"Volcanic activity\",\"Volcanic activity\",\"Volcanic activity\",\"Volcanic activity\",\"Volcanic activity\",\"Volcanic activity\",\"Volcanic activity\",\"Volcanic activity\",\"Volcanic activity\",\"Volcanic activity\",\"Volcanic activity\",\"Volcanic activity\",\"Volcanic activity\",\"Volcanic activity\",\"Volcanic activity\",\"Volcanic activity\",\"Volcanic activity\",\"Volcanic activity\",\"Volcanic activity\",\"Volcanic activity\",\"Volcanic activity\",\"Volcanic activity\",\"Volcanic activity\",\"Volcanic activity\",\"Volcanic activity\",\"Volcanic activity\",\"Volcanic activity\",\"Volcanic activity\",\"Volcanic activity\",\"Volcanic activity\",\"Volcanic activity\",\"Volcanic activity\",\"Volcanic activity\",\"Volcanic activity\",\"Volcanic activity\",\"Volcanic activity\",\"Volcanic activity\",\"Volcanic activity\",\"Volcanic activity\",\"Volcanic activity\",\"Volcanic activity\",\"Volcanic activity\",\"Volcanic activity\",\"Volcanic activity\",\"Volcanic activity\",\"Volcanic activity\",\"Volcanic activity\",\"Volcanic activity\",\"Volcanic activity\",\"Volcanic activity\",\"Volcanic activity\",\"Volcanic activity\",\"Volcanic activity\",\"Volcanic activity\",\"Volcanic activity\",\"Volcanic activity\",\"Volcanic activity\",\"Volcanic activity\",\"Volcanic activity\",\"Volcanic activity\"],\"legendgroup\":\"Volcanic activity\",\"line\":{\"color\":\"#FF97FF\",\"dash\":\"solid\"},\"mode\":\"lines\",\"name\":\"Volcanic activity\",\"orientation\":\"v\",\"showlegend\":true,\"type\":\"scatter\",\"x\":[1900,1902,1903,1906,1909,1911,1914,1919,1926,1929,1930,1931,1937,1943,1944,1945,1946,1948,1949,1950,1951,1952,1953,1954,1956,1957,1960,1963,1964,1965,1966,1968,1969,1971,1973,1975,1976,1977,1978,1979,1980,1981,1982,1983,1984,1985,1986,1987,1988,1989,1990,1991,1992,1993,1994,1995,1996,1997,1998,1999,2000,2001,2002,2003,2004,2005,2006,2007,2008,2009,2010,2011,2012,2013,2014,2015,2017,2018,2019],\"xaxis\":\"x\",\"y\":[1,5,1,1,1,1,1,1,1,1,1,1,1,1,1,1,1,1,2,1,3,1,1,1,1,1,1,3,1,1,2,2,2,3,1,3,5,5,2,4,2,1,3,7,7,2,2,2,5,1,2,10,5,6,6,5,5,4,4,5,5,6,7,2,5,8,12,6,7,2,6,6,1,3,6,6,2,7,4],\"yaxis\":\"y\"},{\"hovertemplate\":\"<b>%{hovertext}</b><br><br>Entity=Wildfire<br>Year=%{x}<br>Disasters=%{y}<extra></extra>\",\"hovertext\":[\"Wildfire\",\"Wildfire\",\"Wildfire\",\"Wildfire\",\"Wildfire\",\"Wildfire\",\"Wildfire\",\"Wildfire\",\"Wildfire\",\"Wildfire\",\"Wildfire\",\"Wildfire\",\"Wildfire\",\"Wildfire\",\"Wildfire\",\"Wildfire\",\"Wildfire\",\"Wildfire\",\"Wildfire\",\"Wildfire\",\"Wildfire\",\"Wildfire\",\"Wildfire\",\"Wildfire\",\"Wildfire\",\"Wildfire\",\"Wildfire\",\"Wildfire\",\"Wildfire\",\"Wildfire\",\"Wildfire\",\"Wildfire\",\"Wildfire\",\"Wildfire\",\"Wildfire\",\"Wildfire\",\"Wildfire\",\"Wildfire\",\"Wildfire\",\"Wildfire\",\"Wildfire\",\"Wildfire\",\"Wildfire\",\"Wildfire\",\"Wildfire\",\"Wildfire\",\"Wildfire\",\"Wildfire\",\"Wildfire\",\"Wildfire\",\"Wildfire\",\"Wildfire\",\"Wildfire\",\"Wildfire\",\"Wildfire\",\"Wildfire\",\"Wildfire\",\"Wildfire\",\"Wildfire\",\"Wildfire\",\"Wildfire\",\"Wildfire\",\"Wildfire\"],\"legendgroup\":\"Wildfire\",\"line\":{\"color\":\"#FECB52\",\"dash\":\"solid\"},\"mode\":\"lines\",\"name\":\"Wildfire\",\"orientation\":\"v\",\"showlegend\":true,\"type\":\"scatter\",\"x\":[1911,1918,1922,1929,1939,1944,1947,1949,1956,1965,1966,1967,1968,1969,1970,1971,1972,1973,1974,1975,1976,1977,1978,1979,1980,1981,1982,1983,1984,1985,1986,1987,1989,1990,1991,1992,1993,1994,1995,1996,1997,1998,1999,2000,2001,2002,2003,2004,2005,2006,2007,2008,2009,2010,2011,2012,2013,2014,2015,2016,2017,2018,2019],\"xaxis\":\"x\",\"y\":[1,1,1,1,1,2,1,1,1,1,1,2,3,2,3,2,3,3,3,2,1,2,3,4,4,4,3,12,7,13,6,8,3,4,8,8,2,13,7,5,16,18,22,30,14,22,14,8,13,9,18,5,9,7,8,6,10,4,12,10,13,10,13],\"yaxis\":\"y\"}],                        {\"legend\":{\"title\":{\"text\":\"Entity\"},\"tracegroupgap\":0},\"template\":{\"data\":{\"bar\":[{\"error_x\":{\"color\":\"#2a3f5f\"},\"error_y\":{\"color\":\"#2a3f5f\"},\"marker\":{\"line\":{\"color\":\"#E5ECF6\",\"width\":0.5},\"pattern\":{\"fillmode\":\"overlay\",\"size\":10,\"solidity\":0.2}},\"type\":\"bar\"}],\"barpolar\":[{\"marker\":{\"line\":{\"color\":\"#E5ECF6\",\"width\":0.5},\"pattern\":{\"fillmode\":\"overlay\",\"size\":10,\"solidity\":0.2}},\"type\":\"barpolar\"}],\"carpet\":[{\"aaxis\":{\"endlinecolor\":\"#2a3f5f\",\"gridcolor\":\"white\",\"linecolor\":\"white\",\"minorgridcolor\":\"white\",\"startlinecolor\":\"#2a3f5f\"},\"baxis\":{\"endlinecolor\":\"#2a3f5f\",\"gridcolor\":\"white\",\"linecolor\":\"white\",\"minorgridcolor\":\"white\",\"startlinecolor\":\"#2a3f5f\"},\"type\":\"carpet\"}],\"choropleth\":[{\"colorbar\":{\"outlinewidth\":0,\"ticks\":\"\"},\"type\":\"choropleth\"}],\"contour\":[{\"colorbar\":{\"outlinewidth\":0,\"ticks\":\"\"},\"colorscale\":[[0.0,\"#0d0887\"],[0.1111111111111111,\"#46039f\"],[0.2222222222222222,\"#7201a8\"],[0.3333333333333333,\"#9c179e\"],[0.4444444444444444,\"#bd3786\"],[0.5555555555555556,\"#d8576b\"],[0.6666666666666666,\"#ed7953\"],[0.7777777777777778,\"#fb9f3a\"],[0.8888888888888888,\"#fdca26\"],[1.0,\"#f0f921\"]],\"type\":\"contour\"}],\"contourcarpet\":[{\"colorbar\":{\"outlinewidth\":0,\"ticks\":\"\"},\"type\":\"contourcarpet\"}],\"heatmap\":[{\"colorbar\":{\"outlinewidth\":0,\"ticks\":\"\"},\"colorscale\":[[0.0,\"#0d0887\"],[0.1111111111111111,\"#46039f\"],[0.2222222222222222,\"#7201a8\"],[0.3333333333333333,\"#9c179e\"],[0.4444444444444444,\"#bd3786\"],[0.5555555555555556,\"#d8576b\"],[0.6666666666666666,\"#ed7953\"],[0.7777777777777778,\"#fb9f3a\"],[0.8888888888888888,\"#fdca26\"],[1.0,\"#f0f921\"]],\"type\":\"heatmap\"}],\"heatmapgl\":[{\"colorbar\":{\"outlinewidth\":0,\"ticks\":\"\"},\"colorscale\":[[0.0,\"#0d0887\"],[0.1111111111111111,\"#46039f\"],[0.2222222222222222,\"#7201a8\"],[0.3333333333333333,\"#9c179e\"],[0.4444444444444444,\"#bd3786\"],[0.5555555555555556,\"#d8576b\"],[0.6666666666666666,\"#ed7953\"],[0.7777777777777778,\"#fb9f3a\"],[0.8888888888888888,\"#fdca26\"],[1.0,\"#f0f921\"]],\"type\":\"heatmapgl\"}],\"histogram\":[{\"marker\":{\"pattern\":{\"fillmode\":\"overlay\",\"size\":10,\"solidity\":0.2}},\"type\":\"histogram\"}],\"histogram2d\":[{\"colorbar\":{\"outlinewidth\":0,\"ticks\":\"\"},\"colorscale\":[[0.0,\"#0d0887\"],[0.1111111111111111,\"#46039f\"],[0.2222222222222222,\"#7201a8\"],[0.3333333333333333,\"#9c179e\"],[0.4444444444444444,\"#bd3786\"],[0.5555555555555556,\"#d8576b\"],[0.6666666666666666,\"#ed7953\"],[0.7777777777777778,\"#fb9f3a\"],[0.8888888888888888,\"#fdca26\"],[1.0,\"#f0f921\"]],\"type\":\"histogram2d\"}],\"histogram2dcontour\":[{\"colorbar\":{\"outlinewidth\":0,\"ticks\":\"\"},\"colorscale\":[[0.0,\"#0d0887\"],[0.1111111111111111,\"#46039f\"],[0.2222222222222222,\"#7201a8\"],[0.3333333333333333,\"#9c179e\"],[0.4444444444444444,\"#bd3786\"],[0.5555555555555556,\"#d8576b\"],[0.6666666666666666,\"#ed7953\"],[0.7777777777777778,\"#fb9f3a\"],[0.8888888888888888,\"#fdca26\"],[1.0,\"#f0f921\"]],\"type\":\"histogram2dcontour\"}],\"mesh3d\":[{\"colorbar\":{\"outlinewidth\":0,\"ticks\":\"\"},\"type\":\"mesh3d\"}],\"parcoords\":[{\"line\":{\"colorbar\":{\"outlinewidth\":0,\"ticks\":\"\"}},\"type\":\"parcoords\"}],\"pie\":[{\"automargin\":true,\"type\":\"pie\"}],\"scatter\":[{\"marker\":{\"colorbar\":{\"outlinewidth\":0,\"ticks\":\"\"}},\"type\":\"scatter\"}],\"scatter3d\":[{\"line\":{\"colorbar\":{\"outlinewidth\":0,\"ticks\":\"\"}},\"marker\":{\"colorbar\":{\"outlinewidth\":0,\"ticks\":\"\"}},\"type\":\"scatter3d\"}],\"scattercarpet\":[{\"marker\":{\"colorbar\":{\"outlinewidth\":0,\"ticks\":\"\"}},\"type\":\"scattercarpet\"}],\"scattergeo\":[{\"marker\":{\"colorbar\":{\"outlinewidth\":0,\"ticks\":\"\"}},\"type\":\"scattergeo\"}],\"scattergl\":[{\"marker\":{\"colorbar\":{\"outlinewidth\":0,\"ticks\":\"\"}},\"type\":\"scattergl\"}],\"scattermapbox\":[{\"marker\":{\"colorbar\":{\"outlinewidth\":0,\"ticks\":\"\"}},\"type\":\"scattermapbox\"}],\"scatterpolar\":[{\"marker\":{\"colorbar\":{\"outlinewidth\":0,\"ticks\":\"\"}},\"type\":\"scatterpolar\"}],\"scatterpolargl\":[{\"marker\":{\"colorbar\":{\"outlinewidth\":0,\"ticks\":\"\"}},\"type\":\"scatterpolargl\"}],\"scatterternary\":[{\"marker\":{\"colorbar\":{\"outlinewidth\":0,\"ticks\":\"\"}},\"type\":\"scatterternary\"}],\"surface\":[{\"colorbar\":{\"outlinewidth\":0,\"ticks\":\"\"},\"colorscale\":[[0.0,\"#0d0887\"],[0.1111111111111111,\"#46039f\"],[0.2222222222222222,\"#7201a8\"],[0.3333333333333333,\"#9c179e\"],[0.4444444444444444,\"#bd3786\"],[0.5555555555555556,\"#d8576b\"],[0.6666666666666666,\"#ed7953\"],[0.7777777777777778,\"#fb9f3a\"],[0.8888888888888888,\"#fdca26\"],[1.0,\"#f0f921\"]],\"type\":\"surface\"}],\"table\":[{\"cells\":{\"fill\":{\"color\":\"#EBF0F8\"},\"line\":{\"color\":\"white\"}},\"header\":{\"fill\":{\"color\":\"#C8D4E3\"},\"line\":{\"color\":\"white\"}},\"type\":\"table\"}]},\"layout\":{\"annotationdefaults\":{\"arrowcolor\":\"#2a3f5f\",\"arrowhead\":0,\"arrowwidth\":1},\"autotypenumbers\":\"strict\",\"coloraxis\":{\"colorbar\":{\"outlinewidth\":0,\"ticks\":\"\"}},\"colorscale\":{\"diverging\":[[0,\"#8e0152\"],[0.1,\"#c51b7d\"],[0.2,\"#de77ae\"],[0.3,\"#f1b6da\"],[0.4,\"#fde0ef\"],[0.5,\"#f7f7f7\"],[0.6,\"#e6f5d0\"],[0.7,\"#b8e186\"],[0.8,\"#7fbc41\"],[0.9,\"#4d9221\"],[1,\"#276419\"]],\"sequential\":[[0.0,\"#0d0887\"],[0.1111111111111111,\"#46039f\"],[0.2222222222222222,\"#7201a8\"],[0.3333333333333333,\"#9c179e\"],[0.4444444444444444,\"#bd3786\"],[0.5555555555555556,\"#d8576b\"],[0.6666666666666666,\"#ed7953\"],[0.7777777777777778,\"#fb9f3a\"],[0.8888888888888888,\"#fdca26\"],[1.0,\"#f0f921\"]],\"sequentialminus\":[[0.0,\"#0d0887\"],[0.1111111111111111,\"#46039f\"],[0.2222222222222222,\"#7201a8\"],[0.3333333333333333,\"#9c179e\"],[0.4444444444444444,\"#bd3786\"],[0.5555555555555556,\"#d8576b\"],[0.6666666666666666,\"#ed7953\"],[0.7777777777777778,\"#fb9f3a\"],[0.8888888888888888,\"#fdca26\"],[1.0,\"#f0f921\"]]},\"colorway\":[\"#636efa\",\"#EF553B\",\"#00cc96\",\"#ab63fa\",\"#FFA15A\",\"#19d3f3\",\"#FF6692\",\"#B6E880\",\"#FF97FF\",\"#FECB52\"],\"font\":{\"color\":\"#2a3f5f\"},\"geo\":{\"bgcolor\":\"white\",\"lakecolor\":\"white\",\"landcolor\":\"#E5ECF6\",\"showlakes\":true,\"showland\":true,\"subunitcolor\":\"white\"},\"hoverlabel\":{\"align\":\"left\"},\"hovermode\":\"closest\",\"mapbox\":{\"style\":\"light\"},\"paper_bgcolor\":\"white\",\"plot_bgcolor\":\"#E5ECF6\",\"polar\":{\"angularaxis\":{\"gridcolor\":\"white\",\"linecolor\":\"white\",\"ticks\":\"\"},\"bgcolor\":\"#E5ECF6\",\"radialaxis\":{\"gridcolor\":\"white\",\"linecolor\":\"white\",\"ticks\":\"\"}},\"scene\":{\"xaxis\":{\"backgroundcolor\":\"#E5ECF6\",\"gridcolor\":\"white\",\"gridwidth\":2,\"linecolor\":\"white\",\"showbackground\":true,\"ticks\":\"\",\"zerolinecolor\":\"white\"},\"yaxis\":{\"backgroundcolor\":\"#E5ECF6\",\"gridcolor\":\"white\",\"gridwidth\":2,\"linecolor\":\"white\",\"showbackground\":true,\"ticks\":\"\",\"zerolinecolor\":\"white\"},\"zaxis\":{\"backgroundcolor\":\"#E5ECF6\",\"gridcolor\":\"white\",\"gridwidth\":2,\"linecolor\":\"white\",\"showbackground\":true,\"ticks\":\"\",\"zerolinecolor\":\"white\"}},\"shapedefaults\":{\"line\":{\"color\":\"#2a3f5f\"}},\"ternary\":{\"aaxis\":{\"gridcolor\":\"white\",\"linecolor\":\"white\",\"ticks\":\"\"},\"baxis\":{\"gridcolor\":\"white\",\"linecolor\":\"white\",\"ticks\":\"\"},\"bgcolor\":\"#E5ECF6\",\"caxis\":{\"gridcolor\":\"white\",\"linecolor\":\"white\",\"ticks\":\"\"}},\"title\":{\"x\":0.05},\"xaxis\":{\"automargin\":true,\"gridcolor\":\"white\",\"linecolor\":\"white\",\"ticks\":\"\",\"title\":{\"standoff\":15},\"zerolinecolor\":\"white\",\"zerolinewidth\":2},\"yaxis\":{\"automargin\":true,\"gridcolor\":\"white\",\"linecolor\":\"white\",\"ticks\":\"\",\"title\":{\"standoff\":15},\"zerolinecolor\":\"white\",\"zerolinewidth\":2}}},\"title\":{\"text\":\"\\uc790\\uc5f0\\uc7ac\\ud574 \\uc885\\ub958\\uc640 \\uadf8\\uc5d0 \\ub530\\ub978 \\ube48\\ub3c4\\uc218(1900~2019)\"},\"xaxis\":{\"anchor\":\"y\",\"domain\":[0.0,1.0],\"title\":{\"text\":\"Year\"}},\"yaxis\":{\"anchor\":\"x\",\"domain\":[0.0,1.0],\"title\":{\"text\":\"Disasters\"}}},                        {\"responsive\": true}                    ).then(function(){\n",
       "                            \n",
       "var gd = document.getElementById('65ca01c3-0d3b-46cc-9eb3-dc5298d50960');\n",
       "var x = new MutationObserver(function (mutations, observer) {{\n",
       "        var display = window.getComputedStyle(gd).display;\n",
       "        if (!display || display === 'none') {{\n",
       "            console.log([gd, 'removed!']);\n",
       "            Plotly.purge(gd);\n",
       "            observer.disconnect();\n",
       "        }}\n",
       "}});\n",
       "\n",
       "// Listen for the removal of the full notebook cells\n",
       "var notebookContainer = gd.closest('#notebook-container');\n",
       "if (notebookContainer) {{\n",
       "    x.observe(notebookContainer, {childList: true});\n",
       "}}\n",
       "\n",
       "// Listen for the clearing of the current output cell\n",
       "var outputEl = gd.closest('.output');\n",
       "if (outputEl) {{\n",
       "    x.observe(outputEl, {childList: true});\n",
       "}}\n",
       "\n",
       "                        })                };                });            </script>        </div>"
      ]
     },
     "metadata": {},
     "output_type": "display_data"
    }
   ],
   "source": [
    "fig = px.line(d1, x='Year', y='Disasters', color='Entity', hover_name='Entity',\n",
    "             title=\"자연재해 종류와 그에 따른 빈도수(1900~2019)\")\n",
    "fig.show()"
   ]
  }
 ],
 "metadata": {
  "kernelspec": {
   "display_name": "Python 3",
   "language": "python",
   "name": "python3"
  },
  "language_info": {
   "codemirror_mode": {
    "name": "ipython",
    "version": 3
   },
   "file_extension": ".py",
   "mimetype": "text/x-python",
   "name": "python",
   "nbconvert_exporter": "python",
   "pygments_lexer": "ipython3",
   "version": "3.8.5"
  }
 },
 "nbformat": 4,
 "nbformat_minor": 4
}
