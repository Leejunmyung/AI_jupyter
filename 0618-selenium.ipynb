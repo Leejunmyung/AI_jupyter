{
 "cells": [
  {
   "cell_type": "code",
   "execution_count": 9,
   "metadata": {},
   "outputs": [
    {
     "data": {
      "text/plain": [
       "<selenium.webdriver.chrome.webdriver.WebDriver (session=\"d63aa49045b747a5aa627aba3b13aa21\")>"
      ]
     },
     "execution_count": 9,
     "metadata": {},
     "output_type": "execute_result"
    }
   ],
   "source": [
    "from selenium import webdriver\n",
    "driver = webdriver.Chrome('chromedriver')\n",
    "driver\n"
   ]
  },
  {
   "cell_type": "code",
   "execution_count": 7,
   "metadata": {},
   "outputs": [],
   "source": [
    "#/html/body/div/div/div/div/div[4]/div[4]/a"
   ]
  },
  {
   "cell_type": "code",
   "execution_count": 17,
   "metadata": {},
   "outputs": [],
   "source": [
    "url='https://ldjwj.github.io/00_SBA01_BigData/05_HTML/idx_lec_list'\n",
    "driver.get(url)"
   ]
  },
  {
   "cell_type": "code",
   "execution_count": 19,
   "metadata": {},
   "outputs": [
    {
     "data": {
      "text/plain": [
       "<selenium.webdriver.remote.webelement.WebElement (session=\"d63aa49045b747a5aa627aba3b13aa21\", element=\"3878027f-8931-4710-8279-3b8d45183b25\")>"
      ]
     },
     "execution_count": 19,
     "metadata": {},
     "output_type": "execute_result"
    }
   ],
   "source": [
    "sel_link1 = driver.find_element_by_xpath('/html/body/div/div/div/div/div[3]/div[4]/a')\n",
    "sel_link1"
   ]
  },
  {
   "cell_type": "code",
   "execution_count": 20,
   "metadata": {},
   "outputs": [
    {
     "data": {
      "text/plain": [
       "'Link'"
      ]
     },
     "execution_count": 20,
     "metadata": {},
     "output_type": "execute_result"
    }
   ],
   "source": [
    "sel_link1.text"
   ]
  },
  {
   "cell_type": "code",
   "execution_count": 21,
   "metadata": {},
   "outputs": [
    {
     "data": {
      "text/plain": [
       "'a'"
      ]
     },
     "execution_count": 21,
     "metadata": {},
     "output_type": "execute_result"
    }
   ],
   "source": [
    "sel_link1.tag_name"
   ]
  },
  {
   "cell_type": "code",
   "execution_count": 24,
   "metadata": {},
   "outputs": [],
   "source": [
    "sel_link1.click()"
   ]
  },
  {
   "cell_type": "code",
   "execution_count": 30,
   "metadata": {
    "scrolled": true
   },
   "outputs": [
    {
     "data": {
      "text/plain": [
       "''"
      ]
     },
     "execution_count": 30,
     "metadata": {},
     "output_type": "execute_result"
    }
   ],
   "source": [
    "sel_link2 = driver.find_element_by_tag_name('title')\n",
    "sel_link2.text"
   ]
  },
  {
   "cell_type": "code",
   "execution_count": 31,
   "metadata": {},
   "outputs": [],
   "source": [
    "url='https://pythonstart.github.io/web/'\n",
    "driver.get(url)"
   ]
  },
  {
   "cell_type": "code",
   "execution_count": 32,
   "metadata": {},
   "outputs": [
    {
     "data": {
      "text/plain": [
       "'10. 랭킹 정보 가져오기(웹 크롤링)'"
      ]
     },
     "execution_count": 32,
     "metadata": {},
     "output_type": "execute_result"
    }
   ],
   "source": [
    "sel_link3 = driver.find_element_by_id('rank')\n",
    "sel_link3.text"
   ]
  },
  {
   "cell_type": "code",
   "execution_count": 35,
   "metadata": {},
   "outputs": [
    {
     "name": "stdout",
     "output_type": "stream",
     "text": [
      "a 01. 제목 가져오기(title)\n",
      "a 02. 텍스트 가져오기(p)\n",
      "a 03. 링크 가져오기(a)\n",
      "a 04. 이미지 정보 가져오기(img)\n",
      "a 05. 리스트 정보 가져오기(ul,ol)\n",
      "a 06. id를 활용한 정보 획득\n",
      "a 07. class를 활용한 정보 획득\n",
      "a 08. 하나의 이미지 다운로드\n",
      "a 09. 여러개의 이미지 다운로드\n",
      "a 10. 랭킹 정보 가져오기(웹 크롤링)\n"
     ]
    }
   ],
   "source": [
    "sel_a_all = driver.find_elements_by_tag_name('a')\n",
    "for one in sel_a_all:\n",
    "    print(one.tag_name, one.text)"
   ]
  },
  {
   "cell_type": "code",
   "execution_count": 37,
   "metadata": {},
   "outputs": [
    {
     "data": {
      "text/plain": [
       "'01. 제목 가져오기(title)'"
      ]
     },
     "execution_count": 37,
     "metadata": {},
     "output_type": "execute_result"
    }
   ],
   "source": [
    "sel_link4 = driver.find_element_by_link_text('01. 제목 가져오기(title)')\n",
    "sel_link4.text"
   ]
  },
  {
   "cell_type": "code",
   "execution_count": 39,
   "metadata": {},
   "outputs": [
    {
     "name": "stdout",
     "output_type": "stream",
     "text": [
      "01. 제목 가져오기(title)\n",
      "02. 텍스트 가져오기(p)\n",
      "03. 링크 가져오기(a)\n",
      "04. 이미지 정보 가져오기(img)\n",
      "05. 리스트 정보 가져오기(ul,ol)\n",
      "06. id를 활용한 정보 획득\n",
      "07. class를 활용한 정보 획득\n",
      "08. 하나의 이미지 다운로드\n",
      "09. 여러개의 이미지 다운로드\n",
      "10. 랭킹 정보 가져오기(웹 크롤링)\n"
     ]
    }
   ],
   "source": [
    "sel_css = driver.find_elements_by_css_selector('body > ul >  a')\n",
    "\n",
    "for i in sel_css:\n",
    "    print(i.text)"
   ]
  },
  {
   "cell_type": "code",
   "execution_count": 40,
   "metadata": {},
   "outputs": [
    {
     "name": "stdout",
     "output_type": "stream",
     "text": [
      "01. 제목 가져오기(title)\n",
      "02. 텍스트 가져오기(p)\n",
      "03. 링크 가져오기(a)\n",
      "04. 이미지 정보 가져오기(img)\n",
      "05. 리스트 정보 가져오기(ul,ol)\n",
      "10. 랭킹 정보 가져오기(웹 크롤링)\n"
     ]
    }
   ],
   "source": [
    "sel_p = driver.find_elements_by_partial_link_text('가져오기')\n",
    "\n",
    "for i in sel_p:\n",
    "    print(i.text)"
   ]
  },
  {
   "cell_type": "code",
   "execution_count": 43,
   "metadata": {},
   "outputs": [],
   "source": [
    "url='https://ldjwj.github.io/00_SBA01_BigData/05_HTML/idx_lec_list'\n",
    "driver.get(url)"
   ]
  },
  {
   "cell_type": "code",
   "execution_count": 44,
   "metadata": {},
   "outputs": [],
   "source": [
    "sel_content = driver.find_elements_by_partial_link_text('통계')\n",
    "\n",
    "for i in sel_content:\n",
    "    print(i.text)\n",
    "/html/body/div/div/div/div/div[2]\n",
    "/html/body/div/div/div/div/div[2]/div[4]/a"
   ]
  },
  {
   "cell_type": "code",
   "execution_count": 84,
   "metadata": {
    "scrolled": true
   },
   "outputs": [
    {
     "name": "stdout",
     "output_type": "stream",
     "text": [
      "   https://github.com/LDJWJ/RBasic/tree/master/01_RClass\n",
      "R 기본 및 R 기본 활용(전수업 내용) STAT_BASIC_00 R 기본 전체(전 수업 링크) https://github.com/LDJWJ/RBasic/tree/master/01_RClass\n",
      "통계기본 STAT_BASIC_01 통계기본이해하기(1) https://github.com/LDJWJ/RBasic/tree/master/01_RClass\n",
      "통계기본 STAT_BASIC_02 가설검정이해(1) https://github.com/LDJWJ/RBasic/tree/master/01_RClass\n",
      "통계기본 STAT_LAB_01 통계기본이해_실습(1)-통계가설검정 https://github.com/LDJWJ/RBasic/tree/master/01_RClass\n",
      "통계기본 STAT_LAB_01 통계기본이해_실습(1)-통계가설검정 https://github.com/LDJWJ/RBasic/tree/master/01_RClass\n",
      "통계기본 STAT_BASIC_03 회귀분석이해(1) https://github.com/LDJWJ/RBasic/tree/master/01_RClass\n",
      "통계기본 STAT_LAB_02 첫번째 모델 만들기 https://github.com/LDJWJ/RBasic/tree/master/01_RClass\n",
      "통계기본 STAT_LAB_03 회귀 모델 실습(1)-mtcars https://github.com/LDJWJ/RBasic/tree/master/01_RClass\n",
      "통계기본 STAT_LAB_04 회귀 모델 실습(2)-Boston 집값 예측 https://github.com/LDJWJ/RBasic/tree/master/01_RClass\n",
      "통계기본 STAT_LAB_05 회귀 모델 실습(3) - 캐글 데이터-집값 예측 https://github.com/LDJWJ/RBasic/tree/master/01_RClass\n",
      "통계기본 STAT_LAB_06 로지스틱 회귀 모델 실습(1) - 인디언 암 예측 https://github.com/LDJWJ/RBasic/tree/master/01_RClass\n",
      "통계기본 STAT_BASIC_04 의사결정트리 기본 이해(1) https://github.com/LDJWJ/RBasic/tree/master/01_RClass\n",
      "통계기본 STAT_LAB_07 의사결정트리 실습(1) https://github.com/LDJWJ/RBasic/tree/master/01_RClass\n",
      "통계기본 STAT_LAB_08 의사결정트리 실습(2) https://github.com/LDJWJ/RBasic/tree/master/01_RClass\n",
      "통계기본 STAT_LAB_EDA_01 데이터 탐색 - Boston 집값 https://github.com/LDJWJ/RBasic/tree/master/01_RClass\n",
      "R_LevelUp R_TM_01 텍스트 마이닝 시작하기 https://github.com/LDJWJ/RBasic/tree/master/01_RClass\n",
      "R_LevelUp R_TM_LAB_01 KoNLP를 패키지를 활용한 텍스트 분석(1) https://github.com/LDJWJ/RBasic/tree/master/01_RClass\n",
      "R_LevelUp R_TM_LAB_02 텍스트 감정 분석(1) https://github.com/LDJWJ/RBasic/tree/master/01_RClass\n",
      "R_LevelUp R_TM_LAB_03 TFIDF 이해하기(1) https://github.com/LDJWJ/RBasic/tree/master/01_RClass\n",
      "R_LevelUp R_MYSQL_LAB_01 R과 MySQL 연동 환경 만들기 https://github.com/LDJWJ/RBasic/tree/master/01_RClass\n",
      "R_LevelUp R_MYSQL_LAB_02 R과 MySQL 연동 실습하기 https://github.com/LDJWJ/RBasic/tree/master/01_RClass\n",
      "R_LevelUp R_DATAVIS_LAB_01 데이터 시각화 기본(1) https://github.com/LDJWJ/RBasic/tree/master/01_RClass\n",
      "R_LevelUp R_DATAVIS_LAB_02 데이터 시각화 기본(2) https://github.com/LDJWJ/RBasic/tree/master/01_RClass\n",
      "R_LevelUp R_DATAVIS_LAB_03 데이터 시각화 기본(3) https://github.com/LDJWJ/RBasic/tree/master/01_RClass\n",
      "R_LevelUp R_DATAVIS_LAB_04 데이터 시각화 기본(4) https://github.com/LDJWJ/RBasic/tree/master/01_RClass\n",
      "R_LevelUp R_DATAVIS_LAB_05 데이터 시각화 활용(5) https://github.com/LDJWJ/RBasic/tree/master/01_RClass\n",
      "R_LevelUp R_DATAVIS_LAB_06 데이터 시각화 참고자료(1) https://github.com/LDJWJ/RBasic/tree/master/01_RClass\n",
      "R_LevelUp R_DATAVIS_LAB_07 데이터 시각화 참고자료(2) https://github.com/LDJWJ/RBasic/tree/master/01_RClass\n"
     ]
    }
   ],
   "source": [
    "sel_link5 = driver.find_elements_by_xpath('/html/body/div/div/div/div/div')\n",
    "for i in sel_link5:\n",
    "    one = i.find_element_by_xpath('div[1]')\n",
    "    two = i.find_element_by_xpath('div[2]')\n",
    "    three = i.find_element_by_xpath('div[3]')\n",
    "    link = i.find_element_by_xpath('//a[@href]')\n",
    "    print(one.text,two.text,three.text,link.get_attribute('href'))"
   ]
  },
  {
   "cell_type": "code",
   "execution_count": 77,
   "metadata": {},
   "outputs": [
    {
     "name": "stdout",
     "output_type": "stream",
     "text": [
      "https://github.com/LDJWJ/RBasic/tree/master/01_RClass\n",
      "https://ldjwj.github.io/00_SBA01_BigData/05_HTML/01_RClass/Stat01_01_Basic_Summary_v12.pdf\n",
      "https://ldjwj.github.io/00_SBA01_BigData/05_HTML/01_RClass/Stat01_02_Hypo_v10.pdf\n",
      "https://ldjwj.github.io/00_SBA01_BigData/05_HTML/01_RClass/stat01_Lab02_ttest_v11.html\n",
      "https://ldjwj.github.io/00_SBA01_BigData/05_HTML/01_RClass/stat01_Lab02_v10.html\n",
      "https://ldjwj.github.io/00_SBA01_BigData/05_HTML/01_RClass/Stat02_Regression_v10.pdf\n",
      "https://ldjwj.github.io/00_SBA01_BigData/05_HTML/01_RClass/stat02_Lab01_lm_firstmodel.html\n",
      "https://ldjwj.github.io/00_SBA01_BigData/05_HTML/01_RClass/stat02_Lab02_lm_mtcars.html\n",
      "https://ldjwj.github.io/00_SBA01_BigData/05_HTML/01_RClass/stat02_Lab03_lm_housing.html\n",
      "https://ldjwj.github.io/00_SBA01_BigData/05_HTML/01_RClass/stat02_Lab04_lm_house_adv.html\n",
      "https://ldjwj.github.io/00_SBA01_BigData/05_HTML/01_RClass/stat03_Lab05_logit_indian.html\n",
      "https://ldjwj.github.io/00_SBA01_BigData/05_HTML/01_RClass/stat04_decisiontree_v11.pdf\n",
      "https://ldjwj.github.io/00_SBA01_BigData/05_HTML/01_RClass/stat04_Lab01_tree_titanic.html\n",
      "https://ldjwj.github.io/00_SBA01_BigData/05_HTML/01_RClass/stat04_Lab02_tree_titanic.html\n",
      "https://ldjwj.github.io/00_SBA01_BigData/05_HTML/01_RClass/stat02_Lab03_eda_housing.html\n",
      "https://ldjwj.github.io/00_SBA01_BigData/05_HTML/01_RClass/R_LV_Up08_TextMining.html\n",
      "https://ldjwj.github.io/00_SBA01_BigData/05_HTML/01_RClass/TM_Lab01_KoNLP.html\n",
      "https://ldjwj.github.io/00_SBA01_BigData/05_HTML/01_RClass/TM_LAB06_sentiment.html\n",
      "https://ldjwj.github.io/00_SBA01_BigData/05_HTML/01_RClass/TM_Lab02_tfidf01.html\n",
      "https://ldjwj.github.io/00_SBA01_BigData/05_HTML/01_RClass/R_MYSQL_01_1909.pdf\n",
      "https://ldjwj.github.io/00_SBA01_BigData/05_HTML/01_RClass/R_LV_Up_MySQL01.html\n",
      "https://ldjwj.github.io/00_SBA01_BigData/05_HTML/01_RClass/B01_dataVis0418.pdf\n",
      "https://ldjwj.github.io/00_SBA01_BigData/05_HTML/01_RClass/B01_plot_basic.pdf\n",
      "https://ldjwj.github.io/00_SBA01_BigData/05_HTML/01_RClass/B02_ggplot2_jitter.pdf\n",
      "https://ldjwj.github.io/00_SBA01_BigData/05_HTML/01_RClass/B03_ggplot2_custom.pdf\n",
      "https://ldjwj.github.io/00_SBA01_BigData/05_HTML/01_RClass/DataVis_R_Lab07_networkAna01.r\n",
      "https://ldjwj.github.io/00_SBA01_BigData/05_HTML/01_RClass/G01_Graph_0601.r\n",
      "https://ldjwj.github.io/00_SBA01_BigData/05_HTML/01_RClass/G02_Graph_0601.r\n",
      "https://colorlib.com/wp/template/responsive-table-v2/\n"
     ]
    }
   ],
   "source": [
    "sel_link6 = driver.find_elements_by_xpath('//a[@href]')\n",
    "for i in sel_link6:\n",
    "    print(i.get_attribute('href'))"
   ]
  },
  {
   "cell_type": "code",
   "execution_count": 85,
   "metadata": {},
   "outputs": [],
   "source": [
    "from bs4 import BeautifulSoup"
   ]
  },
  {
   "cell_type": "code",
   "execution_count": 121,
   "metadata": {},
   "outputs": [],
   "source": [
    "url='https://pythonstart.github.io/web/'\n",
    "driver.get(url)"
   ]
  },
  {
   "cell_type": "code",
   "execution_count": 108,
   "metadata": {},
   "outputs": [
    {
     "name": "stdout",
     "output_type": "stream",
     "text": [
      "./01.html\n",
      "./02.html\n",
      "./03.html\n",
      "https://pythonstart.github.io/web/04.html\n",
      "./05.html\n",
      "./06.html\n",
      "./07.html\n",
      "./08.html\n",
      "https://pythonstart.github.io/web/09.html\n",
      "./10.html\n"
     ]
    }
   ],
   "source": [
    "page = driver.page_source\n",
    "soup = BeautifulSoup(page,'html.parser')\n",
    "all_p = soup.select('body > ul > a')\n",
    "for i in all_p:\n",
    "    print(i['href'])\n",
    "    "
   ]
  },
  {
   "cell_type": "code",
   "execution_count": 122,
   "metadata": {},
   "outputs": [],
   "source": [
    "sel_get = driver.find_element_by_xpath('/html/body/ul/a[3]')\n",
    "sel_get.click()"
   ]
  },
  {
   "cell_type": "code",
   "execution_count": 124,
   "metadata": {},
   "outputs": [],
   "source": [
    "url='https://pythonstart.github.io/web/03.html'\n",
    "driver.get(url)"
   ]
  },
  {
   "cell_type": "code",
   "execution_count": 126,
   "metadata": {},
   "outputs": [
    {
     "name": "stdout",
     "output_type": "stream",
     "text": [
      "네이버 https://www.naver.com/\n",
      "구글 https://www.google.co.kr/\n",
      "마이크로 소프트 https://www.microsoft.com/ko-kr\n",
      "카카오 https://www.kakaocorp.com/\n"
     ]
    }
   ],
   "source": [
    "sel_h = driver.find_elements_by_xpath('//a[@href]')\n",
    "for i in sel_h:\n",
    "    print(i.text,i.get_attribute('href'))"
   ]
  },
  {
   "cell_type": "code",
   "execution_count": null,
   "metadata": {},
   "outputs": [],
   "source": [
    "sel_link5 = driver.find_elements_by_xpath('/html/body/div/div/div/div/div')\n",
    "for i in sel_link5:\n",
    "    one = i.find_element_by_xpath('div[1]')\n",
    "    two = i.find_element_by_xpath('div[2]')\n",
    "    three = i.find_element_by_xpath('div[3]')\n",
    "    link = i.find_element_by_xpath('//a[@href]')\n",
    "    print(one.text,two.text,three.text,link.get_attribute('href'))"
   ]
  }
 ],
 "metadata": {
  "kernelspec": {
   "display_name": "Python 3",
   "language": "python",
   "name": "python3"
  },
  "language_info": {
   "codemirror_mode": {
    "name": "ipython",
    "version": 3
   },
   "file_extension": ".py",
   "mimetype": "text/x-python",
   "name": "python",
   "nbconvert_exporter": "python",
   "pygments_lexer": "ipython3",
   "version": "3.8.3"
  }
 },
 "nbformat": 4,
 "nbformat_minor": 4
}
