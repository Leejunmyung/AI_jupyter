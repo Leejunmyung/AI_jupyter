{
 "cells": [
  {
   "cell_type": "code",
   "execution_count": 1,
   "metadata": {},
   "outputs": [],
   "source": [
    "from bs4 import BeautifulSoup\n",
    "from urllib.request import urlopen"
   ]
  },
  {
   "cell_type": "code",
   "execution_count": 2,
   "metadata": {},
   "outputs": [
    {
     "data": {
      "text/plain": [
       "<html><body><p>test</p></body></html>"
      ]
     },
     "execution_count": 2,
     "metadata": {},
     "output_type": "execute_result"
    }
   ],
   "source": [
    "html = '<p>test</p>'\n",
    "soup = BeautifulSoup(html, 'lxml')\n",
    "soup"
   ]
  },
  {
   "cell_type": "code",
   "execution_count": 3,
   "metadata": {},
   "outputs": [
    {
     "data": {
      "text/plain": [
       "<html><head></head><body><p>test</p></body></html>"
      ]
     },
     "execution_count": 3,
     "metadata": {},
     "output_type": "execute_result"
    }
   ],
   "source": [
    "html = '<p>test</p>'\n",
    "soup = BeautifulSoup(html, 'html5lib')\n",
    "soup"
   ]
  },
  {
   "cell_type": "code",
   "execution_count": 4,
   "metadata": {},
   "outputs": [
    {
     "data": {
      "text/plain": [
       "<p>test</p>"
      ]
     },
     "execution_count": 4,
     "metadata": {},
     "output_type": "execute_result"
    }
   ],
   "source": [
    "html = '<p>test</p>'\n",
    "soup = BeautifulSoup(html, 'html.parser')\n",
    "soup"
   ]
  },
  {
   "cell_type": "code",
   "execution_count": 63,
   "metadata": {},
   "outputs": [],
   "source": [
    "from bs4 import BeautifulSoup\n",
    "\n",
    "html = \"\"\"\n",
    "<html>\n",
    "<head>\n",
    "    <title> test site </title>\n",
    "</head>\n",
    "<body>\n",
    "    <a href=\"https://www.google.com\">구글</a>\n",
    "    <div>\n",
    "        <p class='class1' align=\"left\">test3</p>\n",
    "        <p class='class1'>test2</p>\n",
    "    </div>\n",
    "    <div>\n",
    "        <p id='p1'>오늘의 주가지수 1500</p>\n",
    "        <p class='class4'>test3</p>\n",
    "        <span class='class3'>span tag text</span>\n",
    "        <a href=\"https://www.naver.com/\">네이버</a>\n",
    "        <a href=\"https://www.daum.com/\">다음</a>\n",
    "    </div>\n",
    "</body>\n",
    "</html>\n",
    "\"\"\""
   ]
  },
  {
   "cell_type": "code",
   "execution_count": 64,
   "metadata": {},
   "outputs": [
    {
     "data": {
      "text/plain": [
       "\n",
       "<html>\n",
       "<head>\n",
       "<title> test site </title>\n",
       "</head>\n",
       "<body>\n",
       "<a href=\"https://www.google.com\">구글</a>\n",
       "<div>\n",
       "<p align=\"left\" class=\"class1\">test3</p>\n",
       "<p class=\"class1\">test2</p>\n",
       "</div>\n",
       "<div>\n",
       "<p id=\"p1\">오늘의 주가지수 1500</p>\n",
       "<p class=\"class4\">test3</p>\n",
       "<span class=\"class3\">span tag text</span>\n",
       "<a href=\"https://www.naver.com/\">네이버</a>\n",
       "<a href=\"https://www.daum.com/\">다음</a>\n",
       "</div>\n",
       "</body>\n",
       "</html>"
      ]
     },
     "execution_count": 64,
     "metadata": {},
     "output_type": "execute_result"
    }
   ],
   "source": [
    "soup = BeautifulSoup(html, 'html.parser')\n",
    "soup"
   ]
  },
  {
   "cell_type": "code",
   "execution_count": 33,
   "metadata": {},
   "outputs": [
    {
     "data": {
      "text/plain": [
       "<p class=\"hi\">test11</p>"
      ]
     },
     "execution_count": 33,
     "metadata": {},
     "output_type": "execute_result"
    }
   ],
   "source": [
    "test1 = soup.find_all('p')\n",
    "pcome = soup.select_one('p')\n",
    "scome = soup.select_one('span').text\n",
    "shead = soup.select('head')\n",
    "pcome"
   ]
  },
  {
   "cell_type": "code",
   "execution_count": 56,
   "metadata": {},
   "outputs": [
    {
     "data": {
      "text/plain": [
       "[<p align=\"left\" class=\"class1\">test3</p>, <p class=\"class1\">test2</p>]"
      ]
     },
     "execution_count": 56,
     "metadata": {},
     "output_type": "execute_result"
    }
   ],
   "source": [
    "test2 = soup.select('div#two > p')\n",
    "test3 = soup.select('div#one > p')\n",
    "test3"
   ]
  },
  {
   "cell_type": "code",
   "execution_count": 59,
   "metadata": {},
   "outputs": [],
   "source": [
    "div1 = soup.find_all('div')[0]"
   ]
  },
  {
   "cell_type": "code",
   "execution_count": 61,
   "metadata": {},
   "outputs": [
    {
     "data": {
      "text/plain": [
       "[<p align=\"left\" class=\"class1\">test3</p>, <p class=\"class1\">test2</p>]"
      ]
     },
     "execution_count": 61,
     "metadata": {},
     "output_type": "execute_result"
    }
   ],
   "source": [
    "div2 = div1.find_all('p')\n",
    "div2"
   ]
  },
  {
   "cell_type": "code",
   "execution_count": 62,
   "metadata": {},
   "outputs": [
    {
     "data": {
      "text/plain": [
       "<p align=\"left\" class=\"class1\">test3</p>"
      ]
     },
     "execution_count": 62,
     "metadata": {},
     "output_type": "execute_result"
    }
   ],
   "source": [
    "div2[0]"
   ]
  },
  {
   "cell_type": "code",
   "execution_count": 83,
   "metadata": {},
   "outputs": [
    {
     "name": "stdout",
     "output_type": "stream",
     "text": [
      "https://www.google.com\n",
      "https://www.naver.com/\n",
      "https://www.daum.com/\n"
     ]
    }
   ],
   "source": [
    "a = soup.find_all('a')\n",
    "for h in a:\n",
    "    print(h['href'])\n"
   ]
  },
  {
   "cell_type": "code",
   "execution_count": 84,
   "metadata": {},
   "outputs": [
    {
     "data": {
      "text/plain": [
       "<list_iterator at 0x227e36bf6d0>"
      ]
     },
     "execution_count": 84,
     "metadata": {},
     "output_type": "execute_result"
    }
   ],
   "source": [
    "soup.children"
   ]
  },
  {
   "cell_type": "code",
   "execution_count": 88,
   "metadata": {
    "scrolled": true
   },
   "outputs": [
    {
     "data": {
      "text/plain": [
       "['\\n',\n",
       " <html>\n",
       " <head>\n",
       " <title> test site </title>\n",
       " </head>\n",
       " <body>\n",
       " <a href=\"https://www.google.com\">구글</a>\n",
       " <div>\n",
       " <p align=\"left\" class=\"class1\">test3</p>\n",
       " <p class=\"class1\">test2</p>\n",
       " </div>\n",
       " <div>\n",
       " <p id=\"p1\">오늘의 주가지수 1500</p>\n",
       " <p class=\"class4\">test3</p>\n",
       " <span class=\"class3\">span tag text</span>\n",
       " <a href=\"https://www.naver.com/\">네이버</a>\n",
       " <a href=\"https://www.daum.com/\">다음</a>\n",
       " </div>\n",
       " </body>\n",
       " </html>,\n",
       " '\\n']"
      ]
     },
     "execution_count": 88,
     "metadata": {},
     "output_type": "execute_result"
    }
   ],
   "source": [
    "childlist = list(soup.children)\n",
    "childlist"
   ]
  },
  {
   "cell_type": "code",
   "execution_count": 104,
   "metadata": {},
   "outputs": [
    {
     "data": {
      "text/plain": [
       "<body>\n",
       "<a href=\"https://www.google.com\">구글</a>\n",
       "<div>\n",
       "<p align=\"left\" class=\"class1\">test3</p>\n",
       "<p class=\"class1\">test2</p>\n",
       "</div>\n",
       "<div>\n",
       "<p id=\"p1\">오늘의 주가지수 1500</p>\n",
       "<p class=\"class4\">test3</p>\n",
       "<span class=\"class3\">span tag text</span>\n",
       "<a href=\"https://www.naver.com/\">네이버</a>\n",
       "<a href=\"https://www.daum.com/\">다음</a>\n",
       "</div>\n",
       "</body>"
      ]
     },
     "execution_count": 104,
     "metadata": {},
     "output_type": "execute_result"
    }
   ],
   "source": [
    "tmp = list(childlist[1].children)[3]\n",
    "tmp"
   ]
  },
  {
   "cell_type": "code",
   "execution_count": 109,
   "metadata": {},
   "outputs": [
    {
     "data": {
      "text/plain": [
       "<span class=\"class3\">span tag text</span>"
      ]
     },
     "execution_count": 109,
     "metadata": {},
     "output_type": "execute_result"
    }
   ],
   "source": [
    "div2 = soup.find_all('div')[1]\n",
    "list(div2.children)\n",
    "div2_span = list(div2.children)[5]\n",
    "div2_span"
   ]
  },
  {
   "cell_type": "code",
   "execution_count": 116,
   "metadata": {},
   "outputs": [
    {
     "name": "stdout",
     "output_type": "stream",
     "text": [
      "test3\n",
      "test2\n",
      "오늘의 주가지수 1500\n",
      "test3\n"
     ]
    }
   ],
   "source": [
    "wow = soup.find_all('p')\n",
    "for i in wow:\n",
    "    print(i.text)"
   ]
  },
  {
   "cell_type": "code",
   "execution_count": 121,
   "metadata": {},
   "outputs": [
    {
     "name": "stdout",
     "output_type": "stream",
     "text": [
      "구글 https://www.google.com\n",
      "네이버 https://www.naver.com/\n",
      "다음 https://www.daum.com/\n"
     ]
    }
   ],
   "source": [
    "com = []\n",
    "urls = []\n",
    "wow2 = soup.find_all('a')\n",
    "for i in wow2:\n",
    "    print(i.text, i['href'])\n",
    "    com.append(i.text)\n",
    "    urls.append(i['href'])"
   ]
  },
  {
   "cell_type": "code",
   "execution_count": 120,
   "metadata": {},
   "outputs": [],
   "source": [
    "import pandas as pd"
   ]
  },
  {
   "cell_type": "code",
   "execution_count": 123,
   "metadata": {},
   "outputs": [
    {
     "data": {
      "text/html": [
       "<div>\n",
       "<style scoped>\n",
       "    .dataframe tbody tr th:only-of-type {\n",
       "        vertical-align: middle;\n",
       "    }\n",
       "\n",
       "    .dataframe tbody tr th {\n",
       "        vertical-align: top;\n",
       "    }\n",
       "\n",
       "    .dataframe thead th {\n",
       "        text-align: right;\n",
       "    }\n",
       "</style>\n",
       "<table border=\"1\" class=\"dataframe\">\n",
       "  <thead>\n",
       "    <tr style=\"text-align: right;\">\n",
       "      <th></th>\n",
       "      <th>회사명</th>\n",
       "      <th>웹사이트</th>\n",
       "    </tr>\n",
       "  </thead>\n",
       "  <tbody>\n",
       "    <tr>\n",
       "      <th>0</th>\n",
       "      <td>구글</td>\n",
       "      <td>https://www.google.com</td>\n",
       "    </tr>\n",
       "    <tr>\n",
       "      <th>1</th>\n",
       "      <td>네이버</td>\n",
       "      <td>https://www.naver.com/</td>\n",
       "    </tr>\n",
       "    <tr>\n",
       "      <th>2</th>\n",
       "      <td>다음</td>\n",
       "      <td>https://www.daum.com/</td>\n",
       "    </tr>\n",
       "  </tbody>\n",
       "</table>\n",
       "</div>"
      ],
      "text/plain": [
       "   회사명                    웹사이트\n",
       "0   구글  https://www.google.com\n",
       "1  네이버  https://www.naver.com/\n",
       "2   다음   https://www.daum.com/"
      ]
     },
     "execution_count": 123,
     "metadata": {},
     "output_type": "execute_result"
    }
   ],
   "source": [
    "dat = {'회사명':com, '웹사이트':urls}\n",
    "dat = pd.DataFrame(dat)\n",
    "dat"
   ]
  },
  {
   "cell_type": "code",
   "execution_count": 125,
   "metadata": {},
   "outputs": [
    {
     "name": "stdout",
     "output_type": "stream",
     "text": [
      "C:\\Users\\wnsau\n"
     ]
    }
   ],
   "source": [
    "dat.to_csv('회사명과웹사이트.csv', index=False)\n",
    "\n",
    "import os\n",
    "print(os.getcwd())"
   ]
  },
  {
   "cell_type": "code",
   "execution_count": 132,
   "metadata": {},
   "outputs": [
    {
     "name": "stdout",
     "output_type": "stream",
     "text": [
      "./01.html\n",
      "./02.html\n",
      "./03.html\n",
      "https://pythonstart.github.io/web/04.html\n",
      "./05.html\n",
      "./06.html\n",
      "./07.html\n",
      "./08.html\n",
      "https://pythonstart.github.io/web/09.html\n",
      "./10.html\n"
     ]
    }
   ],
   "source": [
    "import requests\n",
    "data = requests.get('https://ldjwj.github.io/00_PYTHON_LEVELUP_CLASS/web_class/index.html')\n",
    "soup = BeautifulSoup(data.text, 'html.parser')\n",
    "links = soup.select('body > ul > a')\n",
    "for link in links:\n",
    "    print(link['href'])"
   ]
  },
  {
   "cell_type": "code",
   "execution_count": 135,
   "metadata": {},
   "outputs": [
    {
     "data": {
      "text/plain": [
       "<title>국내증시 : 네이버 금융</title>"
      ]
     },
     "execution_count": 135,
     "metadata": {},
     "output_type": "execute_result"
    }
   ],
   "source": [
    "from urllib.request import urlopen\n",
    "from bs4 import BeautifulSoup\n",
    "url = \"https://finance.naver.com/sise/\"\n",
    "page = urlopen(url)\n",
    "page\n",
    "soup = BeautifulSoup(page, \"html.parser\")\n",
    "soup.title"
   ]
  },
  {
   "cell_type": "code",
   "execution_count": 136,
   "metadata": {},
   "outputs": [
    {
     "name": "stdout",
     "output_type": "stream",
     "text": [
      "3,276.26 999.15 436.53\n"
     ]
    }
   ],
   "source": [
    "Kospi = soup.find(\"span\", id=\"KOSPI_now\").text\n",
    "Kosdaq = soup.find(\"span\", id=\"KOSDAQ_now\").text\n",
    "Kospi200 = soup.find(\"span\", id=\"KPI200_now\").text\n",
    "print(Kospi, Kosdaq, Kospi200)"
   ]
  },
  {
   "cell_type": "code",
   "execution_count": 218,
   "metadata": {},
   "outputs": [
    {
     "name": "stdout",
     "output_type": "stream",
     "text": [
      "쌍방울\n",
      "삼성전자\n",
      "한전산업\n",
      "HMM\n",
      "카카오\n",
      "두산중공업\n",
      "NAVER\n",
      "대원전선\n",
      "셀트리온\n",
      "가비아\n"
     ]
    }
   ],
   "source": [
    "data = requests.get('https://finance.naver.com/sise/')\n",
    "soup = BeautifulSoup(data.text, 'html.parser')\n",
    "likes = soup.select('#contentarea > div.box_top_submain2 > div.rgt> #popularItemList > li')\n",
    "rank = 1\n",
    "for like in likes:\n",
    "    a = like.select_one('a')\n",
    "    if a is not None:\n",
    "        title = a.text\n",
    "        updown = like.select_one('span').text\n",
    "        print(rank,title,updown)\n",
    "        rank += 1"
   ]
  },
  {
   "cell_type": "code",
   "execution_count": 192,
   "metadata": {},
   "outputs": [],
   "source": [
    "data = requests.get('https://finance.naver.com/sise/')\n",
    "soup = BeautifulSoup(data.text, 'html.parser')\n",
    "majors = soup.select('#contentarea > div.box_top_submain2 > div.rgt> ul.lst_major > li')\n",
    "result1 = []\n",
    "result2 = []\n",
    "for major in majors:\n",
    "    b = major.select_one('a')\n",
    "    if b is not None:\n",
    "        title2 = b.text\n",
    "        updown2 = major.select_one('span').text\n",
    "        \n",
    "        print(result1,result2)"
   ]
  },
  {
   "cell_type": "code",
   "execution_count": 179,
   "metadata": {},
   "outputs": [
    {
     "data": {
      "text/html": [
       "<div>\n",
       "<style scoped>\n",
       "    .dataframe tbody tr th:only-of-type {\n",
       "        vertical-align: middle;\n",
       "    }\n",
       "\n",
       "    .dataframe tbody tr th {\n",
       "        vertical-align: top;\n",
       "    }\n",
       "\n",
       "    .dataframe thead th {\n",
       "        text-align: right;\n",
       "    }\n",
       "</style>\n",
       "<table border=\"1\" class=\"dataframe\">\n",
       "  <thead>\n",
       "    <tr style=\"text-align: right;\">\n",
       "      <th></th>\n",
       "      <th>회사명</th>\n",
       "      <th>지수</th>\n",
       "    </tr>\n",
       "  </thead>\n",
       "  <tbody>\n",
       "    <tr>\n",
       "      <th>0</th>\n",
       "      <td>다우산업</td>\n",
       "      <td>34,299.33</td>\n",
       "    </tr>\n",
       "    <tr>\n",
       "      <th>1</th>\n",
       "      <td>나스닥</td>\n",
       "      <td>14,072.86</td>\n",
       "    </tr>\n",
       "    <tr>\n",
       "      <th>2</th>\n",
       "      <td>홍콩H</td>\n",
       "      <td>10,586.56</td>\n",
       "    </tr>\n",
       "    <tr>\n",
       "      <th>3</th>\n",
       "      <td>상해종합</td>\n",
       "      <td>3,524.85</td>\n",
       "    </tr>\n",
       "    <tr>\n",
       "      <th>4</th>\n",
       "      <td>니케이225</td>\n",
       "      <td>29,291.01</td>\n",
       "    </tr>\n",
       "  </tbody>\n",
       "</table>\n",
       "</div>"
      ],
      "text/plain": [
       "       회사명         지수\n",
       "0     다우산업  34,299.33\n",
       "1      나스닥  14,072.86\n",
       "2      홍콩H  10,586.56\n",
       "3     상해종합   3,524.85\n",
       "4   니케이225  29,291.01"
      ]
     },
     "execution_count": 179,
     "metadata": {},
     "output_type": "execute_result"
    }
   ],
   "source": [
    "dat = {'회사명':result1, '지수':result2}\n",
    "dat = pd.DataFrame(dat)\n",
    "dat"
   ]
  },
  {
   "cell_type": "code",
   "execution_count": 180,
   "metadata": {},
   "outputs": [
    {
     "name": "stdout",
     "output_type": "stream",
     "text": [
      "C:\\Users\\wnsau\n"
     ]
    }
   ],
   "source": [
    "dat.to_csv('주요해외지수.csv', index=False)\n",
    "\n",
    "import os\n",
    "print(os.getcwd())"
   ]
  },
  {
   "cell_type": "code",
   "execution_count": 251,
   "metadata": {},
   "outputs": [
    {
     "name": "stdout",
     "output_type": "stream",
     "text": [
      "1 대원전선우 860,445\n",
      "2 지더블유바이텍 373,914\n",
      "3 자연과환경 48,692,956\n",
      "4 가비아 12,452,113\n",
      "5 광진윈텍 1,233,708\n",
      "6 한전산업 36,451,207\n",
      "7 엘에이티 209\n"
     ]
    }
   ],
   "source": [
    "data = requests.get('https://finance.naver.com/sise/')\n",
    "soup = BeautifulSoup(data.text, 'html.parser')\n",
    "uppers = soup.select('#contentarea > div.box_type_l > #siselist_tab_0 > tr')\n",
    "rank = 1\n",
    "for upper in uppers:\n",
    "    b = upper.select_one('td > a ')\n",
    "    c = upper.select_one('td.number:nth-child(8)')\n",
    "    try:\n",
    "        print(rank,b.text,c.text)         \n",
    "    except Exception as e:\n",
    "        continue\n",
    "    rank += 1"
   ]
  },
  {
   "cell_type": "code",
   "execution_count": null,
   "metadata": {},
   "outputs": [],
   "source": []
  }
 ],
 "metadata": {
  "kernelspec": {
   "display_name": "Python 3",
   "language": "python",
   "name": "python3"
  },
  "language_info": {
   "codemirror_mode": {
    "name": "ipython",
    "version": 3
   },
   "file_extension": ".py",
   "mimetype": "text/x-python",
   "name": "python",
   "nbconvert_exporter": "python",
   "pygments_lexer": "ipython3",
   "version": "3.8.3"
  }
 },
 "nbformat": 4,
 "nbformat_minor": 4
}
