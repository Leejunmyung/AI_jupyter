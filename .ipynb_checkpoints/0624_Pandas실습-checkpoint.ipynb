{
 "cells": [
  {
   "cell_type": "code",
   "execution_count": 1,
   "metadata": {},
   "outputs": [
    {
     "name": "stdout",
     "output_type": "stream",
     "text": [
      "banana\n",
      "apple\n",
      "candy\n",
      "['apple', 'candy']\n"
     ]
    }
   ],
   "source": [
    "myfood = ['banana', 'apple', 'candy']\n",
    "print(myfood[0])\n",
    "print(myfood[1])\n",
    "print(myfood[2])\n",
    "print(myfood[1:3])  # 첫번째 두번째 가져오기"
   ]
  },
  {
   "cell_type": "code",
   "execution_count": 2,
   "metadata": {},
   "outputs": [
    {
     "name": "stdout",
     "output_type": "stream",
     "text": [
      "banana\n",
      "apple\n",
      "candy\n"
     ]
    }
   ],
   "source": [
    "for item in myfood:\n",
    "  print(item) "
   ]
  },
  {
   "cell_type": "code",
   "execution_count": 6,
   "metadata": {},
   "outputs": [
    {
     "name": "stdout",
     "output_type": "stream",
     "text": [
      "셋\n",
      "둘\n",
      "['a', 'b', 'c']\n"
     ]
    }
   ],
   "source": [
    "dict1 = {'one':'하나', 'two':\"둘\", 'three':'셋'}\n",
    "dict2 = {1:\"하나\", 2:\"둘\", 3:\"셋\"}\n",
    "dict3 = {'col1':[1,2,3], 'col2':['a','b','c']}\n",
    "print(dict1[\"three\"])\n",
    "print(dict2[2])\n",
    "print(dict3['col2'])"
   ]
  },
  {
   "cell_type": "code",
   "execution_count": 7,
   "metadata": {},
   "outputs": [],
   "source": [
    "import pandas as pd\n",
    "import seaborn as sns\n",
    "from pandas import Series, DataFrame"
   ]
  },
  {
   "cell_type": "code",
   "execution_count": 8,
   "metadata": {},
   "outputs": [
    {
     "name": "stdout",
     "output_type": "stream",
     "text": [
      "0     1000\n",
      "1    14000\n",
      "2     3000\n",
      "3     3000\n",
      "4     1000\n",
      "dtype: int64\n",
      "자료형 확인 :  <class 'pandas.core.series.Series'>\n"
     ]
    }
   ],
   "source": [
    "score = Series( [1000, 14000, 3000, 3000, 1000] )  \n",
    "print(score) \n",
    "print(\"자료형 확인 : \", type(score))"
   ]
  },
  {
   "cell_type": "code",
   "execution_count": 9,
   "metadata": {},
   "outputs": [
    {
     "name": "stdout",
     "output_type": "stream",
     "text": [
      "RangeIndex(start=0, stop=5, step=1)\n",
      "[0, 1, 2, 3, 4]\n",
      "[ 1000 14000  3000  3000  1000]\n",
      "int64\n"
     ]
    }
   ],
   "source": [
    "## Series 인덱스 확인\n",
    "print(score.index) \n",
    "# 인덱스를 리스트 자료형으로 변경 후, 확인하기\n",
    "print(list(score.index))   \n",
    "## Series 값 확인\n",
    "print(score.values) \n",
    "## Series 값 자료형 확인\n",
    "print(score.dtype) "
   ]
  },
  {
   "cell_type": "code",
   "execution_count": 12,
   "metadata": {},
   "outputs": [
    {
     "data": {
      "text/plain": [
       "0     1000\n",
       "1    14000\n",
       "2     3000\n",
       "3     3000\n",
       "4     1000\n",
       "dtype: int64"
      ]
     },
     "execution_count": 12,
     "metadata": {},
     "output_type": "execute_result"
    }
   ],
   "source": [
    "score"
   ]
  },
  {
   "cell_type": "code",
   "execution_count": 13,
   "metadata": {},
   "outputs": [
    {
     "name": "stdout",
     "output_type": "stream",
     "text": [
      "2019-05-01     1000\n",
      "2019-05-02    14000\n",
      "2019-05-03     3000\n",
      "dtype: int64\n"
     ]
    }
   ],
   "source": [
    "### 인덱스(index) 속성 이용 \n",
    "score = Series( [1000, 14000, 3000], \n",
    "               index = ['2019-05-01', '2019-05-02', '2019-05-03'] )  \n",
    "print(score)"
   ]
  },
  {
   "cell_type": "code",
   "execution_count": 14,
   "metadata": {},
   "outputs": [
    {
     "data": {
      "text/plain": [
       "2019-05-01     1000\n",
       "2019-05-02    14000\n",
       "2019-05-03     3000\n",
       "dtype: int64"
      ]
     },
     "execution_count": 14,
     "metadata": {},
     "output_type": "execute_result"
    }
   ],
   "source": [
    "score"
   ]
  },
  {
   "cell_type": "code",
   "execution_count": 15,
   "metadata": {},
   "outputs": [
    {
     "data": {
      "text/plain": [
       "mon    스테이크\n",
       "tue     돈가스\n",
       "wed      냉면\n",
       "tur      보쌈\n",
       "fri     파스타\n",
       "dtype: object"
      ]
     },
     "execution_count": 15,
     "metadata": {},
     "output_type": "execute_result"
    }
   ],
   "source": [
    "my_food = Series(['스테이크','돈가스','냉면','보쌈','파스타'], index=['mon','tue','wed','tur','fri'])\n",
    "my_food"
   ]
  },
  {
   "cell_type": "code",
   "execution_count": 16,
   "metadata": {},
   "outputs": [
    {
     "name": "stdout",
     "output_type": "stream",
     "text": [
      "mon\n",
      "tue\n",
      "wed\n",
      "tur\n",
      "fri\n"
     ]
    }
   ],
   "source": [
    "for i in my_food.index:\n",
    "    print(i)"
   ]
  },
  {
   "cell_type": "code",
   "execution_count": 17,
   "metadata": {},
   "outputs": [
    {
     "name": "stdout",
     "output_type": "stream",
     "text": [
      "스테이크\n"
     ]
    }
   ],
   "source": [
    "print(my_food['mon'])"
   ]
  },
  {
   "cell_type": "code",
   "execution_count": 19,
   "metadata": {},
   "outputs": [
    {
     "name": "stdout",
     "output_type": "stream",
     "text": [
      "mon    스테이크\n",
      "tue     돈가스\n",
      "wed      냉면\n",
      "tur      보쌈\n",
      "dtype: object\n"
     ]
    }
   ],
   "source": [
    "print(my_food['mon':'tur'])"
   ]
  },
  {
   "cell_type": "code",
   "execution_count": 20,
   "metadata": {},
   "outputs": [
    {
     "name": "stdout",
     "output_type": "stream",
     "text": [
      "mon    스테이크\n",
      "tue     돈가스\n",
      "wed      냉면\n",
      "tur      보쌈\n",
      "dtype: object\n"
     ]
    }
   ],
   "source": [
    "print(my_food[0:4])"
   ]
  },
  {
   "cell_type": "code",
   "execution_count": 23,
   "metadata": {},
   "outputs": [
    {
     "data": {
      "text/plain": [
       "'냉면'"
      ]
     },
     "execution_count": 23,
     "metadata": {},
     "output_type": "execute_result"
    }
   ],
   "source": [
    "my_food.iloc[2]"
   ]
  },
  {
   "cell_type": "code",
   "execution_count": 26,
   "metadata": {},
   "outputs": [
    {
     "data": {
      "text/plain": [
       "'보쌈'"
      ]
     },
     "execution_count": 26,
     "metadata": {},
     "output_type": "execute_result"
    }
   ],
   "source": [
    "my_food.loc['tur']"
   ]
  },
  {
   "cell_type": "code",
   "execution_count": 27,
   "metadata": {},
   "outputs": [
    {
     "data": {
      "text/plain": [
       "array(['스테이크', '돈가스', '냉면', '보쌈', '파스타'], dtype=object)"
      ]
     },
     "execution_count": 27,
     "metadata": {},
     "output_type": "execute_result"
    }
   ],
   "source": [
    "my_food.values"
   ]
  },
  {
   "cell_type": "code",
   "execution_count": 28,
   "metadata": {},
   "outputs": [
    {
     "data": {
      "text/plain": [
       "Index(['mon', 'tue', 'wed', 'tur', 'fri'], dtype='object')"
      ]
     },
     "execution_count": 28,
     "metadata": {},
     "output_type": "execute_result"
    }
   ],
   "source": [
    "my_food.index"
   ]
  },
  {
   "cell_type": "code",
   "execution_count": 43,
   "metadata": {},
   "outputs": [
    {
     "data": {
      "text/html": [
       "<div>\n",
       "<style scoped>\n",
       "    .dataframe tbody tr th:only-of-type {\n",
       "        vertical-align: middle;\n",
       "    }\n",
       "\n",
       "    .dataframe tbody tr th {\n",
       "        vertical-align: top;\n",
       "    }\n",
       "\n",
       "    .dataframe thead th {\n",
       "        text-align: right;\n",
       "    }\n",
       "</style>\n",
       "<table border=\"1\" class=\"dataframe\">\n",
       "  <thead>\n",
       "    <tr style=\"text-align: right;\">\n",
       "      <th></th>\n",
       "      <th>col1</th>\n",
       "      <th>col2</th>\n",
       "      <th>col3</th>\n",
       "    </tr>\n",
       "  </thead>\n",
       "  <tbody>\n",
       "    <tr>\n",
       "      <th>2021-06-21</th>\n",
       "      <td>1</td>\n",
       "      <td>10</td>\n",
       "      <td>A</td>\n",
       "    </tr>\n",
       "    <tr>\n",
       "      <th>2021-06-22</th>\n",
       "      <td>2</td>\n",
       "      <td>20</td>\n",
       "      <td>B</td>\n",
       "    </tr>\n",
       "    <tr>\n",
       "      <th>2021-06-23</th>\n",
       "      <td>3</td>\n",
       "      <td>30</td>\n",
       "      <td>C</td>\n",
       "    </tr>\n",
       "    <tr>\n",
       "      <th>2021-06-24</th>\n",
       "      <td>4</td>\n",
       "      <td>40</td>\n",
       "      <td>D</td>\n",
       "    </tr>\n",
       "  </tbody>\n",
       "</table>\n",
       "</div>"
      ],
      "text/plain": [
       "            col1  col2 col3\n",
       "2021-06-21     1    10    A\n",
       "2021-06-22     2    20    B\n",
       "2021-06-23     3    30    C\n",
       "2021-06-24     4    40    D"
      ]
     },
     "execution_count": 43,
     "metadata": {},
     "output_type": "execute_result"
    }
   ],
   "source": [
    "dat = { 'col1' : [1,2,3,4],\n",
    "        'col2' : [10,20,30,40],\n",
    "        'col3' : ['A', 'B', 'C', 'D'] }\n",
    "df = DataFrame(dat, index=idx)\n",
    "df"
   ]
  },
  {
   "cell_type": "code",
   "execution_count": 42,
   "metadata": {},
   "outputs": [
    {
     "data": {
      "text/plain": [
       "DatetimeIndex(['2021-06-21', '2021-06-22', '2021-06-23', '2021-06-24'], dtype='datetime64[ns]', freq='D')"
      ]
     },
     "execution_count": 42,
     "metadata": {},
     "output_type": "execute_result"
    }
   ],
   "source": [
    "idx = pd.date_range(start=\"2021-06-21\", end=\"2021-06-24\")\n",
    "idx"
   ]
  },
  {
   "cell_type": "code",
   "execution_count": 38,
   "metadata": {},
   "outputs": [
    {
     "data": {
      "text/plain": [
       "DatetimeIndex(['2021-06-21', '2021-06-22', '2021-06-23', '2021-06-24',\n",
       "               '2021-06-25'],\n",
       "              dtype='datetime64[ns]', freq='D')"
      ]
     },
     "execution_count": 38,
     "metadata": {},
     "output_type": "execute_result"
    }
   ],
   "source": [
    "idx = pd.date_range(start=\"2021-06-21\", end=\"2021-06-25\")\n",
    "idx"
   ]
  },
  {
   "cell_type": "code",
   "execution_count": 48,
   "metadata": {},
   "outputs": [
    {
     "data": {
      "text/html": [
       "<div>\n",
       "<style scoped>\n",
       "    .dataframe tbody tr th:only-of-type {\n",
       "        vertical-align: middle;\n",
       "    }\n",
       "\n",
       "    .dataframe tbody tr th {\n",
       "        vertical-align: top;\n",
       "    }\n",
       "\n",
       "    .dataframe thead th {\n",
       "        text-align: right;\n",
       "    }\n",
       "</style>\n",
       "<table border=\"1\" class=\"dataframe\">\n",
       "  <thead>\n",
       "    <tr style=\"text-align: right;\">\n",
       "      <th></th>\n",
       "      <th>toto</th>\n",
       "      <th>apple</th>\n",
       "      <th>gildong</th>\n",
       "      <th>catanddog</th>\n",
       "    </tr>\n",
       "  </thead>\n",
       "  <tbody>\n",
       "    <tr>\n",
       "      <th>0</th>\n",
       "      <td>1500</td>\n",
       "      <td>4000</td>\n",
       "      <td>2000</td>\n",
       "      <td>7000</td>\n",
       "    </tr>\n",
       "    <tr>\n",
       "      <th>1</th>\n",
       "      <td>3000</td>\n",
       "      <td>5000</td>\n",
       "      <td>2500</td>\n",
       "      <td>5000</td>\n",
       "    </tr>\n",
       "    <tr>\n",
       "      <th>2</th>\n",
       "      <td>5000</td>\n",
       "      <td>6000</td>\n",
       "      <td>3000</td>\n",
       "      <td>3000</td>\n",
       "    </tr>\n",
       "    <tr>\n",
       "      <th>3</th>\n",
       "      <td>7000</td>\n",
       "      <td>5500</td>\n",
       "      <td>4000</td>\n",
       "      <td>5000</td>\n",
       "    </tr>\n",
       "    <tr>\n",
       "      <th>4</th>\n",
       "      <td>5500</td>\n",
       "      <td>4500</td>\n",
       "      <td>3000</td>\n",
       "      <td>4000</td>\n",
       "    </tr>\n",
       "  </tbody>\n",
       "</table>\n",
       "</div>"
      ],
      "text/plain": [
       "   toto  apple  gildong  catanddog\n",
       "0  1500   4000     2000       7000\n",
       "1  3000   5000     2500       5000\n",
       "2  5000   6000     3000       3000\n",
       "3  7000   5500     4000       5000\n",
       "4  5500   4500     3000       4000"
      ]
     },
     "execution_count": 48,
     "metadata": {},
     "output_type": "execute_result"
    }
   ],
   "source": [
    "from pandas import DataFrame\n",
    "team_score = { \"toto\":[1500,3000,5000,7000,5500],\n",
    "              \"apple\":[4000,5000,6000,5500,4500],\n",
    "              \"gildong\":[2000,2500,3000,4000,3000],\n",
    "              \"catanddog\":[7000,5000,3000,5000,4000]}\n",
    "team_df = DataFrame(team_score)\n",
    "team_df"
   ]
  },
  {
   "cell_type": "code",
   "execution_count": 51,
   "metadata": {},
   "outputs": [
    {
     "data": {
      "text/html": [
       "<div>\n",
       "<style scoped>\n",
       "    .dataframe tbody tr th:only-of-type {\n",
       "        vertical-align: middle;\n",
       "    }\n",
       "\n",
       "    .dataframe tbody tr th {\n",
       "        vertical-align: top;\n",
       "    }\n",
       "\n",
       "    .dataframe thead th {\n",
       "        text-align: right;\n",
       "    }\n",
       "</style>\n",
       "<table border=\"1\" class=\"dataframe\">\n",
       "  <thead>\n",
       "    <tr style=\"text-align: right;\">\n",
       "      <th></th>\n",
       "      <th>catanddog</th>\n",
       "      <th>toto</th>\n",
       "      <th>apple</th>\n",
       "      <th>gildong</th>\n",
       "    </tr>\n",
       "  </thead>\n",
       "  <tbody>\n",
       "    <tr>\n",
       "      <th>19-05-01</th>\n",
       "      <td>7000</td>\n",
       "      <td>1500</td>\n",
       "      <td>4000</td>\n",
       "      <td>2000</td>\n",
       "    </tr>\n",
       "    <tr>\n",
       "      <th>19-05-02</th>\n",
       "      <td>5000</td>\n",
       "      <td>3000</td>\n",
       "      <td>5000</td>\n",
       "      <td>2500</td>\n",
       "    </tr>\n",
       "    <tr>\n",
       "      <th>19-05-03</th>\n",
       "      <td>3000</td>\n",
       "      <td>5000</td>\n",
       "      <td>6000</td>\n",
       "      <td>3000</td>\n",
       "    </tr>\n",
       "    <tr>\n",
       "      <th>19-05-04</th>\n",
       "      <td>5000</td>\n",
       "      <td>7000</td>\n",
       "      <td>5500</td>\n",
       "      <td>4000</td>\n",
       "    </tr>\n",
       "    <tr>\n",
       "      <th>19-05-05</th>\n",
       "      <td>4000</td>\n",
       "      <td>5500</td>\n",
       "      <td>4500</td>\n",
       "      <td>3000</td>\n",
       "    </tr>\n",
       "  </tbody>\n",
       "</table>\n",
       "</div>"
      ],
      "text/plain": [
       "          catanddog  toto  apple  gildong\n",
       "19-05-01       7000  1500   4000     2000\n",
       "19-05-02       5000  3000   5000     2500\n",
       "19-05-03       3000  5000   6000     3000\n",
       "19-05-04       5000  7000   5500     4000\n",
       "19-05-05       4000  5500   4500     3000"
      ]
     },
     "execution_count": 51,
     "metadata": {},
     "output_type": "execute_result"
    }
   ],
   "source": [
    "date = ['19-05-01','19-05-02', '19-05-03', '19-05-04', '19-05-05']\n",
    "team_df = DataFrame(team_score,\n",
    "                   columns=['catanddog', 'toto', 'apple', 'gildong'],\n",
    "                   index=date)\n",
    "team_df"
   ]
  },
  {
   "cell_type": "code",
   "execution_count": 52,
   "metadata": {},
   "outputs": [
    {
     "data": {
      "text/plain": [
       "19-05-01    1500\n",
       "19-05-02    3000\n",
       "19-05-03    5000\n",
       "19-05-04    7000\n",
       "19-05-05    5500\n",
       "Name: toto, dtype: int64"
      ]
     },
     "execution_count": 52,
     "metadata": {},
     "output_type": "execute_result"
    }
   ],
   "source": [
    "team_df['toto']"
   ]
  },
  {
   "cell_type": "code",
   "execution_count": 53,
   "metadata": {},
   "outputs": [
    {
     "data": {
      "text/html": [
       "<div>\n",
       "<style scoped>\n",
       "    .dataframe tbody tr th:only-of-type {\n",
       "        vertical-align: middle;\n",
       "    }\n",
       "\n",
       "    .dataframe tbody tr th {\n",
       "        vertical-align: top;\n",
       "    }\n",
       "\n",
       "    .dataframe thead th {\n",
       "        text-align: right;\n",
       "    }\n",
       "</style>\n",
       "<table border=\"1\" class=\"dataframe\">\n",
       "  <thead>\n",
       "    <tr style=\"text-align: right;\">\n",
       "      <th></th>\n",
       "      <th>toto</th>\n",
       "      <th>gildong</th>\n",
       "    </tr>\n",
       "  </thead>\n",
       "  <tbody>\n",
       "    <tr>\n",
       "      <th>19-05-01</th>\n",
       "      <td>1500</td>\n",
       "      <td>2000</td>\n",
       "    </tr>\n",
       "    <tr>\n",
       "      <th>19-05-02</th>\n",
       "      <td>3000</td>\n",
       "      <td>2500</td>\n",
       "    </tr>\n",
       "    <tr>\n",
       "      <th>19-05-03</th>\n",
       "      <td>5000</td>\n",
       "      <td>3000</td>\n",
       "    </tr>\n",
       "    <tr>\n",
       "      <th>19-05-04</th>\n",
       "      <td>7000</td>\n",
       "      <td>4000</td>\n",
       "    </tr>\n",
       "    <tr>\n",
       "      <th>19-05-05</th>\n",
       "      <td>5500</td>\n",
       "      <td>3000</td>\n",
       "    </tr>\n",
       "  </tbody>\n",
       "</table>\n",
       "</div>"
      ],
      "text/plain": [
       "          toto  gildong\n",
       "19-05-01  1500     2000\n",
       "19-05-02  3000     2500\n",
       "19-05-03  5000     3000\n",
       "19-05-04  7000     4000\n",
       "19-05-05  5500     3000"
      ]
     },
     "execution_count": 53,
     "metadata": {},
     "output_type": "execute_result"
    }
   ],
   "source": [
    "team_df[['toto','gildong']]"
   ]
  },
  {
   "cell_type": "code",
   "execution_count": 54,
   "metadata": {},
   "outputs": [
    {
     "name": "stdout",
     "output_type": "stream",
     "text": [
      "catanddog    5000\n",
      "toto         3000\n",
      "apple        5000\n",
      "gildong      2500\n",
      "Name: 19-05-02, dtype: int64\n"
     ]
    }
   ],
   "source": [
    "print(team_df.loc['19-05-02'])"
   ]
  },
  {
   "cell_type": "code",
   "execution_count": 55,
   "metadata": {},
   "outputs": [
    {
     "name": "stdout",
     "output_type": "stream",
     "text": [
      "catanddog    5000\n",
      "toto         3000\n",
      "apple        5000\n",
      "gildong      2500\n",
      "Name: 19-05-02, dtype: int64\n",
      "-----------\n",
      "          catanddog  toto  apple  gildong\n",
      "19-05-02       5000  3000   5000     2500\n",
      "19-05-03       3000  5000   6000     3000\n",
      "-----------\n",
      "          catanddog  toto  apple  gildong\n",
      "19-05-02       5000  3000   5000     2500\n",
      "19-05-03       3000  5000   6000     3000\n",
      "19-05-04       5000  7000   5500     4000\n",
      "19-05-05       4000  5500   4500     3000\n"
     ]
    }
   ],
   "source": [
    "print(team_df.loc[ '19-05-02' ] ) # 19-05-02 일\n",
    "print(\"-----------\")\n",
    "print(team_df.loc[ ['19-05-02', '19-05-03'] ]) # 5월 2일, 3일\n",
    "print(\"-----------\")\n",
    "print(team_df.loc[ '19-05-02': ]) # 5월 2일 이후 전체 데이터 가져오기"
   ]
  },
  {
   "cell_type": "code",
   "execution_count": 56,
   "metadata": {},
   "outputs": [
    {
     "name": "stdout",
     "output_type": "stream",
     "text": [
      "Index(['catanddog', 'toto', 'apple', 'gildong'], dtype='object')\n",
      "-----\n",
      "19-05-01    1500\n",
      "19-05-02    3000\n",
      "19-05-03    5000\n",
      "19-05-04    7000\n",
      "19-05-05    5500\n",
      "Name: toto, dtype: int64\n",
      "-----\n",
      "          toto  gildong\n",
      "19-05-01  1500     2000\n",
      "19-05-02  3000     2500\n",
      "19-05-03  5000     3000\n",
      "19-05-04  7000     4000\n",
      "19-05-05  5500     3000\n",
      "-----\n",
      "          toto  apple  gildong\n",
      "19-05-01  1500   4000     2000\n",
      "19-05-02  3000   5000     2500\n",
      "19-05-03  5000   6000     3000\n",
      "19-05-04  7000   5500     4000\n",
      "19-05-05  5500   4500     3000\n"
     ]
    }
   ],
   "source": [
    "## 컬럼명 확인\n",
    "print(team_df.columns)\n",
    "print(\"-----\")\n",
    "print(team_df.loc[:, 'toto']) # 전체행, toto팀\n",
    "print(\"-----\")\n",
    "print(team_df.loc[:, ['toto', 'gildong'] ]) # 전체행, toto, gildong팀\n",
    "print(\"-----\")\n",
    "print(team_df.loc[:, 'toto': ]) # 전체행, toto 부터 끝까지"
   ]
  },
  {
   "cell_type": "code",
   "execution_count": 57,
   "metadata": {},
   "outputs": [
    {
     "name": "stdout",
     "output_type": "stream",
     "text": [
      "catanddog    7000\n",
      "toto         1500\n",
      "apple        4000\n",
      "gildong      2000\n",
      "Name: 19-05-01, dtype: int64\n",
      "------\n",
      "          catanddog  toto  apple  gildong\n",
      "19-05-01       7000  1500   4000     2000\n",
      "19-05-02       5000  3000   5000     2500\n",
      "------\n",
      "          catanddog  toto  apple  gildong\n",
      "19-05-01       7000  1500   4000     2000\n",
      "19-05-02       5000  3000   5000     2500\n",
      "19-05-03       3000  5000   6000     3000\n",
      "------\n",
      "          catanddog  toto  apple  gildong\n",
      "19-05-01       7000  1500   4000     2000\n",
      "19-05-02       5000  3000   5000     2500\n",
      "19-05-03       3000  5000   6000     3000\n"
     ]
    }
   ],
   "source": [
    "print(team_df.iloc[0]) # 첫번째 행 접근\n",
    "print(\"------\")\n",
    "print(team_df.iloc[ [0,1] ]) # 첫번째 두번째 행 접근\n",
    "print(\"------\")\n",
    "print(team_df.iloc[ 0:3:1] ) # 첫번째부터 세번째 행 접근\n",
    "print(\"------\")\n",
    "range_num = list(range(0,3,1))\n",
    "print(team_df.iloc[ range_num ] ) # 첫번째부터 세번째 행 접근"
   ]
  },
  {
   "cell_type": "code",
   "execution_count": 58,
   "metadata": {},
   "outputs": [
    {
     "name": "stdout",
     "output_type": "stream",
     "text": [
      "19-05-01    7000\n",
      "19-05-02    5000\n",
      "19-05-03    3000\n",
      "19-05-04    5000\n",
      "19-05-05    4000\n",
      "Name: catanddog, dtype: int64\n",
      "------\n",
      "          catanddog  toto\n",
      "19-05-01       7000  1500\n",
      "19-05-02       5000  3000\n",
      "19-05-03       3000  5000\n",
      "19-05-04       5000  7000\n",
      "19-05-05       4000  5500\n",
      "------\n",
      "          catanddog  toto  apple\n",
      "19-05-01       7000  1500   4000\n",
      "19-05-02       5000  3000   5000\n",
      "19-05-03       3000  5000   6000\n",
      "19-05-04       5000  7000   5500\n",
      "19-05-05       4000  5500   4500\n",
      "------\n",
      "          catanddog  toto  apple\n",
      "19-05-01       7000  1500   4000\n",
      "19-05-02       5000  3000   5000\n",
      "19-05-03       3000  5000   6000\n",
      "19-05-04       5000  7000   5500\n",
      "19-05-05       4000  5500   4500\n"
     ]
    }
   ],
   "source": [
    "print(team_df.iloc[:, 0]) # 첫번째 열 접근\n",
    "print(\"------\")\n",
    "print(team_df.iloc[:, [0,1] ]) # 첫번째 두번째 열 접근\n",
    "print(\"------\")\n",
    "print(team_df.iloc[:, 0:3:1] ) # 첫번째부터 세번째 열 접근\n",
    "print(\"------\")\n",
    "range_num = list(range(0,3,1))\n",
    "print(team_df.iloc[:, range_num ] ) # 첫번째부터 세번째 열 접근"
   ]
  },
  {
   "cell_type": "code",
   "execution_count": 59,
   "metadata": {},
   "outputs": [
    {
     "name": "stdout",
     "output_type": "stream",
     "text": [
      "catanddog    24000\n",
      "toto         22000\n",
      "apple        25000\n",
      "gildong      14500\n",
      "dtype: int64\n",
      "----\n",
      "catanddog    4800.0\n",
      "toto         4400.0\n",
      "apple        5000.0\n",
      "gildong      2900.0\n",
      "dtype: float64\n",
      "----\n"
     ]
    }
   ],
   "source": [
    "print(team_df.sum() )  # 열의 합계\n",
    "print(\"----\")\n",
    "print(team_df.mean() ) # 열의 평균\n",
    "print(\"----\")"
   ]
  },
  {
   "cell_type": "code",
   "execution_count": 60,
   "metadata": {},
   "outputs": [
    {
     "data": {
      "text/html": [
       "<div>\n",
       "<style scoped>\n",
       "    .dataframe tbody tr th:only-of-type {\n",
       "        vertical-align: middle;\n",
       "    }\n",
       "\n",
       "    .dataframe tbody tr th {\n",
       "        vertical-align: top;\n",
       "    }\n",
       "\n",
       "    .dataframe thead th {\n",
       "        text-align: right;\n",
       "    }\n",
       "</style>\n",
       "<table border=\"1\" class=\"dataframe\">\n",
       "  <thead>\n",
       "    <tr style=\"text-align: right;\">\n",
       "      <th></th>\n",
       "      <th>catanddog</th>\n",
       "      <th>toto</th>\n",
       "      <th>apple</th>\n",
       "      <th>gildong</th>\n",
       "    </tr>\n",
       "  </thead>\n",
       "  <tbody>\n",
       "    <tr>\n",
       "      <th>19-05-01</th>\n",
       "      <td>7000</td>\n",
       "      <td>1500</td>\n",
       "      <td>4000</td>\n",
       "      <td>2000</td>\n",
       "    </tr>\n",
       "    <tr>\n",
       "      <th>19-05-02</th>\n",
       "      <td>5000</td>\n",
       "      <td>3000</td>\n",
       "      <td>5000</td>\n",
       "      <td>2500</td>\n",
       "    </tr>\n",
       "    <tr>\n",
       "      <th>19-05-03</th>\n",
       "      <td>3000</td>\n",
       "      <td>5000</td>\n",
       "      <td>6000</td>\n",
       "      <td>3000</td>\n",
       "    </tr>\n",
       "    <tr>\n",
       "      <th>19-05-04</th>\n",
       "      <td>5000</td>\n",
       "      <td>7000</td>\n",
       "      <td>5500</td>\n",
       "      <td>4000</td>\n",
       "    </tr>\n",
       "    <tr>\n",
       "      <th>19-05-05</th>\n",
       "      <td>4000</td>\n",
       "      <td>5500</td>\n",
       "      <td>4500</td>\n",
       "      <td>3000</td>\n",
       "    </tr>\n",
       "  </tbody>\n",
       "</table>\n",
       "</div>"
      ],
      "text/plain": [
       "          catanddog  toto  apple  gildong\n",
       "19-05-01       7000  1500   4000     2000\n",
       "19-05-02       5000  3000   5000     2500\n",
       "19-05-03       3000  5000   6000     3000\n",
       "19-05-04       5000  7000   5500     4000\n",
       "19-05-05       4000  5500   4500     3000"
      ]
     },
     "execution_count": 60,
     "metadata": {},
     "output_type": "execute_result"
    }
   ],
   "source": [
    "team_df"
   ]
  },
  {
   "cell_type": "code",
   "execution_count": 61,
   "metadata": {},
   "outputs": [
    {
     "data": {
      "text/html": [
       "<div>\n",
       "<style scoped>\n",
       "    .dataframe tbody tr th:only-of-type {\n",
       "        vertical-align: middle;\n",
       "    }\n",
       "\n",
       "    .dataframe tbody tr th {\n",
       "        vertical-align: top;\n",
       "    }\n",
       "\n",
       "    .dataframe thead th {\n",
       "        text-align: right;\n",
       "    }\n",
       "</style>\n",
       "<table border=\"1\" class=\"dataframe\">\n",
       "  <thead>\n",
       "    <tr style=\"text-align: right;\">\n",
       "      <th></th>\n",
       "      <th>catanddog</th>\n",
       "      <th>toto</th>\n",
       "      <th>apple</th>\n",
       "      <th>gildong</th>\n",
       "      <th>rowsum</th>\n",
       "    </tr>\n",
       "  </thead>\n",
       "  <tbody>\n",
       "    <tr>\n",
       "      <th>19-05-01</th>\n",
       "      <td>7000</td>\n",
       "      <td>1500</td>\n",
       "      <td>4000</td>\n",
       "      <td>2000</td>\n",
       "      <td>14500</td>\n",
       "    </tr>\n",
       "    <tr>\n",
       "      <th>19-05-02</th>\n",
       "      <td>5000</td>\n",
       "      <td>3000</td>\n",
       "      <td>5000</td>\n",
       "      <td>2500</td>\n",
       "      <td>15500</td>\n",
       "    </tr>\n",
       "    <tr>\n",
       "      <th>19-05-03</th>\n",
       "      <td>3000</td>\n",
       "      <td>5000</td>\n",
       "      <td>6000</td>\n",
       "      <td>3000</td>\n",
       "      <td>17000</td>\n",
       "    </tr>\n",
       "    <tr>\n",
       "      <th>19-05-04</th>\n",
       "      <td>5000</td>\n",
       "      <td>7000</td>\n",
       "      <td>5500</td>\n",
       "      <td>4000</td>\n",
       "      <td>21500</td>\n",
       "    </tr>\n",
       "    <tr>\n",
       "      <th>19-05-05</th>\n",
       "      <td>4000</td>\n",
       "      <td>5500</td>\n",
       "      <td>4500</td>\n",
       "      <td>3000</td>\n",
       "      <td>17000</td>\n",
       "    </tr>\n",
       "  </tbody>\n",
       "</table>\n",
       "</div>"
      ],
      "text/plain": [
       "          catanddog  toto  apple  gildong  rowsum\n",
       "19-05-01       7000  1500   4000     2000   14500\n",
       "19-05-02       5000  3000   5000     2500   15500\n",
       "19-05-03       3000  5000   6000     3000   17000\n",
       "19-05-04       5000  7000   5500     4000   21500\n",
       "19-05-05       4000  5500   4500     3000   17000"
      ]
     },
     "execution_count": 61,
     "metadata": {},
     "output_type": "execute_result"
    }
   ],
   "source": [
    "team_df[\"rowsum\"] = team_df.sum(axis=1)\n",
    "team_df"
   ]
  },
  {
   "cell_type": "code",
   "execution_count": 65,
   "metadata": {},
   "outputs": [
    {
     "data": {
      "text/plain": [
       "19-05-04    21500\n",
       "19-05-05    17000\n",
       "19-05-03    17000\n",
       "19-05-02    15500\n",
       "19-05-01    14500\n",
       "Name: rowsum, dtype: int64"
      ]
     },
     "execution_count": 65,
     "metadata": {},
     "output_type": "execute_result"
    }
   ],
   "source": [
    "team_df['rowsum'].sort_values(ascending=False)"
   ]
  },
  {
   "cell_type": "code",
   "execution_count": 66,
   "metadata": {},
   "outputs": [
    {
     "data": {
      "text/html": [
       "<div>\n",
       "<style scoped>\n",
       "    .dataframe tbody tr th:only-of-type {\n",
       "        vertical-align: middle;\n",
       "    }\n",
       "\n",
       "    .dataframe tbody tr th {\n",
       "        vertical-align: top;\n",
       "    }\n",
       "\n",
       "    .dataframe thead th {\n",
       "        text-align: right;\n",
       "    }\n",
       "</style>\n",
       "<table border=\"1\" class=\"dataframe\">\n",
       "  <thead>\n",
       "    <tr style=\"text-align: right;\">\n",
       "      <th></th>\n",
       "      <th>현재가</th>\n",
       "      <th>전일비</th>\n",
       "      <th>등락률</th>\n",
       "      <th>거래량</th>\n",
       "    </tr>\n",
       "  </thead>\n",
       "  <tbody>\n",
       "    <tr>\n",
       "      <th>0</th>\n",
       "      <td>993</td>\n",
       "      <td>229</td>\n",
       "      <td>27</td>\n",
       "      <td>4600</td>\n",
       "    </tr>\n",
       "    <tr>\n",
       "      <th>1</th>\n",
       "      <td>9490</td>\n",
       "      <td>2190</td>\n",
       "      <td>30</td>\n",
       "      <td>1900</td>\n",
       "    </tr>\n",
       "    <tr>\n",
       "      <th>2</th>\n",
       "      <td>9990</td>\n",
       "      <td>2300</td>\n",
       "      <td>29</td>\n",
       "      <td>3157</td>\n",
       "    </tr>\n",
       "    <tr>\n",
       "      <th>3</th>\n",
       "      <td>4500</td>\n",
       "      <td>635</td>\n",
       "      <td>14</td>\n",
       "      <td>7231</td>\n",
       "    </tr>\n",
       "  </tbody>\n",
       "</table>\n",
       "</div>"
      ],
      "text/plain": [
       "    현재가   전일비  등락률   거래량\n",
       "0   993   229   27  4600\n",
       "1  9490  2190   30  1900\n",
       "2  9990  2300   29  3157\n",
       "3  4500   635   14  7231"
      ]
     },
     "execution_count": 66,
     "metadata": {},
     "output_type": "execute_result"
    }
   ],
   "source": [
    "team_score = {\n",
    "              \"현재가\":[993,9490,9990,4500],\n",
    "              \"전일비\":[229,2190,2300,635],\n",
    "              \"등락률\":[27,30,29,14],\n",
    "              \"거래량\":[4600,1900,3157,7231],}\n",
    "team_df = DataFrame(team_score)\n",
    "team_df"
   ]
  },
  {
   "cell_type": "code",
   "execution_count": 68,
   "metadata": {},
   "outputs": [
    {
     "data": {
      "text/html": [
       "<div>\n",
       "<style scoped>\n",
       "    .dataframe tbody tr th:only-of-type {\n",
       "        vertical-align: middle;\n",
       "    }\n",
       "\n",
       "    .dataframe tbody tr th {\n",
       "        vertical-align: top;\n",
       "    }\n",
       "\n",
       "    .dataframe thead th {\n",
       "        text-align: right;\n",
       "    }\n",
       "</style>\n",
       "<table border=\"1\" class=\"dataframe\">\n",
       "  <thead>\n",
       "    <tr style=\"text-align: right;\">\n",
       "      <th></th>\n",
       "      <th>현재가</th>\n",
       "      <th>전일비</th>\n",
       "      <th>등락률</th>\n",
       "      <th>거래량</th>\n",
       "    </tr>\n",
       "  </thead>\n",
       "  <tbody>\n",
       "    <tr>\n",
       "      <th>솔고바이오</th>\n",
       "      <td>993</td>\n",
       "      <td>229</td>\n",
       "      <td>27</td>\n",
       "      <td>4600</td>\n",
       "    </tr>\n",
       "    <tr>\n",
       "      <th>한세엠케이</th>\n",
       "      <td>9490</td>\n",
       "      <td>2190</td>\n",
       "      <td>30</td>\n",
       "      <td>1900</td>\n",
       "    </tr>\n",
       "    <tr>\n",
       "      <th>네오오토</th>\n",
       "      <td>9990</td>\n",
       "      <td>2300</td>\n",
       "      <td>29</td>\n",
       "      <td>3157</td>\n",
       "    </tr>\n",
       "    <tr>\n",
       "      <th>엄지하우스</th>\n",
       "      <td>4500</td>\n",
       "      <td>635</td>\n",
       "      <td>14</td>\n",
       "      <td>7231</td>\n",
       "    </tr>\n",
       "  </tbody>\n",
       "</table>\n",
       "</div>"
      ],
      "text/plain": [
       "        현재가   전일비  등락률   거래량\n",
       "솔고바이오   993   229   27  4600\n",
       "한세엠케이  9490  2190   30  1900\n",
       "네오오토   9990  2300   29  3157\n",
       "엄지하우스  4500   635   14  7231"
      ]
     },
     "execution_count": 68,
     "metadata": {},
     "output_type": "execute_result"
    }
   ],
   "source": [
    "date = ['솔고바이오','한세엠케이', '네오오토', '엄지하우스']\n",
    "team_df = DataFrame(team_score,\n",
    "                   columns=['현재가', '전일비', '등락률', '거래량'],\n",
    "                   index=date)\n",
    "team_df"
   ]
  },
  {
   "cell_type": "code",
   "execution_count": 72,
   "metadata": {},
   "outputs": [
    {
     "data": {
      "text/html": [
       "<div>\n",
       "<style scoped>\n",
       "    .dataframe tbody tr th:only-of-type {\n",
       "        vertical-align: middle;\n",
       "    }\n",
       "\n",
       "    .dataframe tbody tr th {\n",
       "        vertical-align: top;\n",
       "    }\n",
       "\n",
       "    .dataframe thead th {\n",
       "        text-align: right;\n",
       "    }\n",
       "</style>\n",
       "<table border=\"1\" class=\"dataframe\">\n",
       "  <thead>\n",
       "    <tr style=\"text-align: right;\">\n",
       "      <th></th>\n",
       "      <th>현재가</th>\n",
       "      <th>전일비</th>\n",
       "      <th>등락률</th>\n",
       "      <th>거래량</th>\n",
       "    </tr>\n",
       "  </thead>\n",
       "  <tbody>\n",
       "    <tr>\n",
       "      <th>한세엠케이</th>\n",
       "      <td>9490</td>\n",
       "      <td>2190</td>\n",
       "      <td>30</td>\n",
       "      <td>1900</td>\n",
       "    </tr>\n",
       "    <tr>\n",
       "      <th>네오오토</th>\n",
       "      <td>9990</td>\n",
       "      <td>2300</td>\n",
       "      <td>29</td>\n",
       "      <td>3157</td>\n",
       "    </tr>\n",
       "  </tbody>\n",
       "</table>\n",
       "</div>"
      ],
      "text/plain": [
       "        현재가   전일비  등락률   거래량\n",
       "한세엠케이  9490  2190   30  1900\n",
       "네오오토   9990  2300   29  3157"
      ]
     },
     "execution_count": 72,
     "metadata": {},
     "output_type": "execute_result"
    }
   ],
   "source": [
    "team_df.loc[['한세엠케이','네오오토']]"
   ]
  },
  {
   "cell_type": "code",
   "execution_count": 73,
   "metadata": {},
   "outputs": [
    {
     "data": {
      "text/plain": [
       "현재가    4500\n",
       "전일비     635\n",
       "등락률      14\n",
       "거래량    7231\n",
       "Name: 엄지하우스, dtype: int64"
      ]
     },
     "execution_count": 73,
     "metadata": {},
     "output_type": "execute_result"
    }
   ],
   "source": [
    "team_df.loc['엄지하우스']"
   ]
  },
  {
   "cell_type": "code",
   "execution_count": 74,
   "metadata": {},
   "outputs": [
    {
     "data": {
      "text/html": [
       "<div>\n",
       "<style scoped>\n",
       "    .dataframe tbody tr th:only-of-type {\n",
       "        vertical-align: middle;\n",
       "    }\n",
       "\n",
       "    .dataframe tbody tr th {\n",
       "        vertical-align: top;\n",
       "    }\n",
       "\n",
       "    .dataframe thead th {\n",
       "        text-align: right;\n",
       "    }\n",
       "</style>\n",
       "<table border=\"1\" class=\"dataframe\">\n",
       "  <thead>\n",
       "    <tr style=\"text-align: right;\">\n",
       "      <th></th>\n",
       "      <th>전일비</th>\n",
       "      <th>등락률</th>\n",
       "    </tr>\n",
       "  </thead>\n",
       "  <tbody>\n",
       "    <tr>\n",
       "      <th>한세엠케이</th>\n",
       "      <td>2190</td>\n",
       "      <td>30</td>\n",
       "    </tr>\n",
       "    <tr>\n",
       "      <th>네오오토</th>\n",
       "      <td>2300</td>\n",
       "      <td>29</td>\n",
       "    </tr>\n",
       "  </tbody>\n",
       "</table>\n",
       "</div>"
      ],
      "text/plain": [
       "        전일비  등락률\n",
       "한세엠케이  2190   30\n",
       "네오오토   2300   29"
      ]
     },
     "execution_count": 74,
     "metadata": {},
     "output_type": "execute_result"
    }
   ],
   "source": [
    "team_df.loc[['한세엠케이','네오오토'],['전일비','등락률']]"
   ]
  },
  {
   "cell_type": "code",
   "execution_count": null,
   "metadata": {},
   "outputs": [],
   "source": []
  }
 ],
 "metadata": {
  "kernelspec": {
   "display_name": "Python 3",
   "language": "python",
   "name": "python3"
  },
  "language_info": {
   "codemirror_mode": {
    "name": "ipython",
    "version": 3
   },
   "file_extension": ".py",
   "mimetype": "text/x-python",
   "name": "python",
   "nbconvert_exporter": "python",
   "pygments_lexer": "ipython3",
   "version": "3.8.3"
  }
 },
 "nbformat": 4,
 "nbformat_minor": 4
}
