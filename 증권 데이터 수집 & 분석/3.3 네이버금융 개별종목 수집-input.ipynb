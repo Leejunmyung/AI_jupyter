{
 "cells": [
  {
   "cell_type": "markdown",
   "metadata": {
    "id": "pOdYzjmEAGhg"
   },
   "source": [
    "[![Open In Colab](https://colab.research.google.com/assets/colab-badge.svg)](https://colab.research.google.com/github/corazzon/finance-data-analysis/blob/main/3.3%20%EB%84%A4%EC%9D%B4%EB%B2%84%EA%B8%88%EC%9C%B5%20%EA%B0%9C%EB%B3%84%EC%A2%85%EB%AA%A9%20%EC%88%98%EC%A7%91-input.ipynb)\n",
    "\n",
    "\n",
    "## 네이버 금융 개별종목 수집\n",
    "* FinanceDataReader를 통해 수집했던 데이터를 네이버 증권 웹 페이지를 통해 직접 수집합니다.\n",
    "\n",
    "\n",
    "### Keyword\n",
    "\n",
    "* html 파일 읽어오기\n",
    "    * pd.read_html(url, encoding=\"cp949\")\n",
    "\n",
    "* 결측 데이터 제거하기(axis 0:행, 1:열)\n",
    "    * table[0].dropna()\n",
    "\n",
    "* 데이터 프레임 합치기\n",
    "    * pd.concat([df1, df2, df3])\n",
    "\n",
    "* 중복데이터 제거\n",
    "    * df.drop_duplicates()\n",
    "\n",
    "* 과학적 기수법\n",
    "    * 1.210000e+02 => 121\n",
    "\n",
    "* 날짜 column의 첫 row값 확인\n",
    "    * date = df.iloc[0][\"날짜\"]\n",
    "\n",
    "* 파일로 저장하기 \n",
    "    * df.to_csv(file_name, index=False)\n",
    "\n",
    "* 파일 읽어오기\n",
    "    * pd.read_csv(file_name)"
   ]
  },
  {
   "cell_type": "markdown",
   "metadata": {
    "id": "-lIn4AdJTMkA"
   },
   "source": [
    "## 수집할 페이지 보기\n",
    "\n",
    "* 네이버 금융 국내증시 : https://finance.naver.com/sise/\n",
    "* 2020년 주요 상장종목\n",
    "    * 빅히트 : https://finance.naver.com/item/main.nhn?code=352820\n",
    "    * 카카오게임즈 : https://finance.naver.com/item/main.nhn?code=293490\n",
    "    * SK바이오팜 : https://finance.naver.com/item/main.nhn?code=326030"
   ]
  },
  {
   "cell_type": "markdown",
   "metadata": {},
   "source": [
    "## 라이브러리 로드"
   ]
  },
  {
   "cell_type": "code",
   "execution_count": 2,
   "metadata": {
    "id": "6Mm8vuymTMkA"
   },
   "outputs": [],
   "source": [
    "# 라이브러리 로드\n",
    "import pandas as pd\n",
    "import numpy as np"
   ]
  },
  {
   "cell_type": "markdown",
   "metadata": {},
   "source": [
    "## 수집할 URL 정하기"
   ]
  },
  {
   "cell_type": "code",
   "execution_count": 3,
   "metadata": {
    "id": "QzZJoAvoTMkA"
   },
   "outputs": [],
   "source": [
    "# 종목번호와 상장사 이름을 item_code와 item_name으로 설정\n",
    "# item_code = \"352820\"\n",
    "# item_name = \"하이브\"\n",
    "\n",
    "item_code = \"326030\"\n",
    "item_name = \"SK바이오팜\"\n",
    "\n",
    "# 종목 URL 만들기\n",
    "\n",
    "url = 'https://finance.naver.com/item/sise_day.nhn?code=005930&page=5'"
   ]
  },
  {
   "cell_type": "markdown",
   "metadata": {},
   "source": [
    "## requests를 통한 HTTP 요청\n",
    "* [Requests: HTTP for Humans™ — Requests documentation](https://requests.readthedocs.io/en/master/)\n",
    "* [Quickstart — Requests documentation # custom-headers](https://requests.readthedocs.io/en/latest/user/quickstart/#custom-headers)"
   ]
  },
  {
   "cell_type": "code",
   "execution_count": 4,
   "metadata": {},
   "outputs": [
    {
     "data": {
      "text/plain": [
       "'\\n<html lang=\"ko\">\\n<head>\\n<meta http-equiv=\"Content-Type\" content=\"text/html; charset=euc-kr\">\\n<title>네이버 금융</title>\\n\\n<link rel=\"stylesheet\" type=\"text/css\" href=\"https://ssl.pstatic.net/imgstock/static.pc/20210721200146/css/newstock.css\">\\n<link rel=\"stylesheet\" type=\"text/css\" href=\"https://ssl.pstatic.net/imgstock/static.pc/20210721200146/css/common.css\">\\n<link rel=\"stylesheet\" type=\"text/css\" href=\"https://ssl.pstatic.net/imgstock/static.pc/20210721200146/css/layout.css\">\\n<link rel=\"stylesheet\" type=\"text/css\" href=\"https://ssl.pstatic.net/imgstock/static.pc/20210721200146/css/main.css\">\\n<link rel=\"stylesheet\" type=\"text/css\" href=\"https://ssl.pstatic.net/imgstock/static.pc/20210721200146/css/newstock2.css\">\\n<link rel=\"stylesheet\" type=\"text/css\" href=\"https://ssl.pstatic.net/imgstock/static.pc/20210721200146/css/newstock3.css\">\\n<link rel=\"stylesheet\" type=\"text/css\" href=\"https://ssl.pstatic.net/imgstock/static.pc/20210721200146/css/world.css\">\\n</head>\\n<body>\\n<script language=\"JavaScript\">\\nfunction mouseOver(obj){\\n  obj.style.backgroundColor=\"#f6f4e5\";\\n}\\nfunction mouseOut(obj){\\n  obj.style.backgroundColor=\"#ffffff\";\\n}\\n</script>\\n\\t\\t\\t\\t<h4 class=\"tlline2\"><strong><span class=\"red03\">일별</span>시세</strong></h4>\\t\\t\\t\\n\\t\\t\\t\\t<table cellspacing=\"0\" class=\"type2\">\\n\\t\\t\\t\\t<tr>\\n\\t\\t\\t\\t<th>날짜</th>\\n\\t\\t\\t\\t<th>종가</th>\\n\\t\\t\\t\\t<th>전일비</th>\\n\\t\\t\\t\\t<th>시가</th>\\n\\t\\t\\t\\t<th>고가</th>\\n\\t\\t\\t\\t<th>저가</th>\\n\\t\\t\\t\\t<th>거래량</th>\\n\\t\\t\\t\\t</tr>\\n\\t\\t\\t\\t<tr>\\n\\t\\t\\t\\t<td colspan=\"7\" height=\"8\"></td>\\n\\t\\t\\t\\t</tr>\\n\\n\\n\\t\\n\\t\\n\\t\\n\\t\\t\\n\\t\\t\\t\\n\\t\\t\\t\\t\\n\\t\\t\\t\\t\\t<tr onMouseOver=\"mouseOver(this)\" onMouseOut=\"mouseOut(this)\">\\n\\t\\t\\t\\t\\t<td align=\"center\"><span class=\"tah p10 gray03\">2021.06.02</span></td>\\n\\t\\t\\t\\t\\t<td class=\"num\"><span class=\"tah p11\">80,800</span></td>\\n\\t\\t\\t\\t\\t<td class=\"num\">\\n\\t\\t\\t\\t<img src=\"https://ssl.pstatic.net/imgstock/images/images4/ico_up.gif\" width=\"7\" height=\"6\" style=\"margin-right:4px;\" alt=\"상승\"><span class=\"tah p11 red02\">\\n\\t\\t\\t\\t200\\n\\t\\t\\t\\t</span>\\n\\t\\t\\t</td>\\n\\t\\t\\t\\t\\t<td class=\"num\"><span class=\"tah p11\">80,400</span></td>\\n\\t\\t\\t\\t\\t<td class=\"num\"><span class=\"tah p11\">81,400</span></td>\\n\\t\\t\\t\\t\\t<td class=\"num\"><span class=\"tah p11\">80,300</span></td>\\n\\t\\t\\t\\t\\t<td class=\"num\"><span class=\"tah p11\">16,414,644</span></td>\\n\\t\\t\\t\\t\\t</tr>\\n\\t\\t\\t\\t\\n\\t\\t\\t\\t\\n\\t\\t\\t\\n\\t\\t\\t\\n\\t\\t\\t\\n\\t\\t\\t\\n\\t\\t\\t\\n\\t\\n\\t\\t\\n\\t\\t\\t\\n\\t\\t\\t\\t\\n\\t\\t\\t\\t\\t<tr onMouseOver=\"mouseOver(this)\" onMouseOut=\"mouseOut(this)\">\\n\\t\\t\\t\\t\\t<td align=\"center\"><span class=\"tah p10 gray03\">2021.06.01</span></td>\\n\\t\\t\\t\\t\\t<td class=\"num\"><span class=\"tah p11\">80,600</span></td>\\n\\t\\t\\t\\t\\t<td class=\"num\">\\n\\t\\t\\t\\t<img src=\"https://ssl.pstatic.net/imgstock/images/images4/ico_up.gif\" width=\"7\" height=\"6\" style=\"margin-right:4px;\" alt=\"상승\"><span class=\"tah p11 red02\">\\n\\t\\t\\t\\t100\\n\\t\\t\\t\\t</span>\\n\\t\\t\\t</td>\\n\\t\\t\\t\\t\\t<td class=\"num\"><span class=\"tah p11\">80,500</span></td>\\n\\t\\t\\t\\t\\t<td class=\"num\"><span class=\"tah p11\">81,300</span></td>\\n\\t\\t\\t\\t\\t<td class=\"num\"><span class=\"tah p11\">80,100</span></td>\\n\\t\\t\\t\\t\\t<td class=\"num\"><span class=\"tah p11\">14,058,401</span></td>\\n\\t\\t\\t\\t\\t</tr>\\n\\t\\t\\t\\t\\n\\t\\t\\t\\t\\n\\t\\t\\t\\n\\t\\t\\t\\n\\t\\t\\t\\n\\t\\t\\t\\n\\t\\t\\t\\n\\t\\n\\t\\t\\n\\t\\t\\t\\n\\t\\t\\t\\t\\n\\t\\t\\t\\t\\t<tr onMouseOver=\"mouseOver(this)\" onMouseOut=\"mouseOut(this)\">\\n\\t\\t\\t\\t\\t<td align=\"center\"><span class=\"tah p10 gray03\">2021.05.31</span></td>\\n\\t\\t\\t\\t\\t<td class=\"num\"><span class=\"tah p11\">80,500</span></td>\\n\\t\\t\\t\\t\\t<td class=\"num\">\\n\\t\\t\\t\\t<img src=\"https://ssl.pstatic.net/imgstock/images/images4/ico_up.gif\" width=\"7\" height=\"6\" style=\"margin-right:4px;\" alt=\"상승\"><span class=\"tah p11 red02\">\\n\\t\\t\\t\\t400\\n\\t\\t\\t\\t</span>\\n\\t\\t\\t</td>\\n\\t\\t\\t\\t\\t<td class=\"num\"><span class=\"tah p11\">80,300</span></td>\\n\\t\\t\\t\\t\\t<td class=\"num\"><span class=\"tah p11\">80,600</span></td>\\n\\t\\t\\t\\t\\t<td class=\"num\"><span class=\"tah p11\">79,600</span></td>\\n\\t\\t\\t\\t\\t<td class=\"num\"><span class=\"tah p11\">13,321,324</span></td>\\n\\t\\t\\t\\t\\t</tr>\\n\\t\\t\\t\\t\\n\\t\\t\\t\\t\\n\\t\\t\\t\\n\\t\\t\\t\\n\\t\\t\\t\\n\\t\\t\\t\\n\\t\\t\\t\\n\\t\\n\\t\\t\\n\\t\\t\\t\\n\\t\\t\\t\\t\\n\\t\\t\\t\\t\\t<tr onMouseOver=\"mouseOver(this)\" onMouseOut=\"mouseOut(this)\">\\n\\t\\t\\t\\t\\t<td align=\"center\"><span class=\"tah p10 gray03\">2021.05.28</span></td>\\n\\t\\t\\t\\t\\t<td class=\"num\"><span class=\"tah p11\">80,100</span></td>\\n\\t\\t\\t\\t\\t<td class=\"num\">\\n\\t\\t\\t\\t<img src=\"https://ssl.pstatic.net/imgstock/images/images4/ico_up.gif\" width=\"7\" height=\"6\" style=\"margin-right:4px;\" alt=\"상승\"><span class=\"tah p11 red02\">\\n\\t\\t\\t\\t500\\n\\t\\t\\t\\t</span>\\n\\t\\t\\t</td>\\n\\t\\t\\t\\t\\t<td class=\"num\"><span class=\"tah p11\">79,800</span></td>\\n\\t\\t\\t\\t\\t<td class=\"num\"><span class=\"tah p11\">80,400</span></td>\\n\\t\\t\\t\\t\\t<td class=\"num\"><span class=\"tah p11\">79,400</span></td>\\n\\t\\t\\t\\t\\t<td class=\"num\"><span class=\"tah p11\">12,360,199</span></td>\\n\\t\\t\\t\\t\\t</tr>\\n\\t\\t\\t\\t\\n\\t\\t\\t\\t\\n\\t\\t\\t\\n\\t\\t\\t\\n\\t\\t\\t\\n\\t\\t\\t\\n\\t\\t\\t\\n\\t\\n\\t\\t\\n\\t\\t\\t\\n\\t\\t\\t\\t\\n\\t\\t\\t\\t\\t<tr onMouseOver=\"mouseOver(this)\" onMouseOut=\"mouseOut(this)\">\\n\\t\\t\\t\\t\\t<td align=\"center\"><span class=\"tah p10 gray03\">2021.05.27</span></td>\\n\\t\\t\\t\\t\\t<td class=\"num\"><span class=\"tah p11\">79,600</span></td>\\n\\t\\t\\t\\t\\t<td class=\"num\">\\n\\t\\t\\t\\t<img src=\"https://ssl.pstatic.net/imgstock/images/images4/ico_down.gif\" width=\"7\" height=\"6\" style=\"margin-right:4px;\" alt=\"하락\"><span class=\"tah p11 nv01\">\\n\\t\\t\\t\\t200\\n\\t\\t\\t\\t</span>\\n\\t\\t\\t</td>\\n\\t\\t\\t\\t\\t<td class=\"num\"><span class=\"tah p11\">80,000</span></td>\\n\\t\\t\\t\\t\\t<td class=\"num\"><span class=\"tah p11\">80,000</span></td>\\n\\t\\t\\t\\t\\t<td class=\"num\"><span class=\"tah p11\">79,100</span></td>\\n\\t\\t\\t\\t\\t<td class=\"num\"><span class=\"tah p11\">23,198,510</span></td>\\n\\t\\t\\t\\t\\t</tr>\\n\\t\\t\\t\\t\\n\\t\\t\\t\\t\\n\\t\\t\\t\\n\\t\\t\\t\\n\\t\\t\\t\\n\\t\\t\\t\\n\\t\\t\\t\\t<tr>\\n\\t\\t\\t\\t<td colspan=\"7\" height=\"8\"></td>\\n\\t\\t\\t\\t</tr>\\n\\t\\t\\t\\t<tr>\\n\\t\\t\\t\\t<td colspan=\"7\" height=\"1\" bgcolor=\"#e1e1e1\"></td>\\n\\t\\t\\t\\t</tr>\\n\\t\\t\\t\\t<tr>\\n\\t\\t\\t\\t<td colspan=\"7\" height=\"8\"></td>\\n\\t\\t\\t\\t</tr>\\n\\t\\t\\t\\n\\t\\t\\t\\n\\t\\n\\t\\t\\n\\t\\t\\t\\n\\t\\t\\t\\t\\n\\t\\t\\t\\t\\t<tr onMouseOver=\"mouseOver(this)\" onMouseOut=\"mouseOut(this)\">\\n\\t\\t\\t\\t\\t<td align=\"center\"><span class=\"tah p10 gray03\">2021.05.26</span></td>\\n\\t\\t\\t\\t\\t<td class=\"num\"><span class=\"tah p11\">79,800</span></td>\\n\\t\\t\\t\\t\\t<td class=\"num\">\\n\\t\\t\\t\\t<img src=\"https://ssl.pstatic.net/imgstock/images/images4/ico_down.gif\" width=\"7\" height=\"6\" style=\"margin-right:4px;\" alt=\"하락\"><span class=\"tah p11 nv01\">\\n\\t\\t\\t\\t100\\n\\t\\t\\t\\t</span>\\n\\t\\t\\t</td>\\n\\t\\t\\t\\t\\t<td class=\"num\"><span class=\"tah p11\">80,400</span></td>\\n\\t\\t\\t\\t\\t<td class=\"num\"><span class=\"tah p11\">80,500</span></td>\\n\\t\\t\\t\\t\\t<td class=\"num\"><span class=\"tah p11\">79,700</span></td>\\n\\t\\t\\t\\t\\t<td class=\"num\"><span class=\"tah p11\">11,984,359</span></td>\\n\\t\\t\\t\\t\\t</tr>\\n\\t\\t\\t\\t\\n\\t\\t\\t\\t\\n\\t\\t\\t\\n\\t\\t\\t\\n\\t\\t\\t\\n\\t\\t\\t\\n\\t\\t\\t\\n\\t\\n\\t\\t\\n\\t\\t\\t\\n\\t\\t\\t\\t\\n\\t\\t\\t\\t\\t<tr onMouseOver=\"mouseOver(this)\" onMouseOut=\"mouseOut(this)\">\\n\\t\\t\\t\\t\\t<td align=\"center\"><span class=\"tah p10 gray03\">2021.05.25</span></td>\\n\\t\\t\\t\\t\\t<td class=\"num\"><span class=\"tah p11\">79,900</span></td>\\n\\t\\t\\t\\t\\t<td class=\"num\">\\n\\t\\t\\t\\t<img src=\"https://ssl.pstatic.net/imgstock/images/images4/ico_up.gif\" width=\"7\" height=\"6\" style=\"margin-right:4px;\" alt=\"상승\"><span class=\"tah p11 red02\">\\n\\t\\t\\t\\t200\\n\\t\\t\\t\\t</span>\\n\\t\\t\\t</td>\\n\\t\\t\\t\\t\\t<td class=\"num\"><span class=\"tah p11\">80,000</span></td>\\n\\t\\t\\t\\t\\t<td class=\"num\"><span class=\"tah p11\">80,400</span></td>\\n\\t\\t\\t\\t\\t<td class=\"num\"><span class=\"tah p11\">79,800</span></td>\\n\\t\\t\\t\\t\\t<td class=\"num\"><span class=\"tah p11\">13,628,942</span></td>\\n\\t\\t\\t\\t\\t</tr>\\n\\t\\t\\t\\t\\n\\t\\t\\t\\t\\n\\t\\t\\t\\n\\t\\t\\t\\n\\t\\t\\t\\n\\t\\t\\t\\n\\t\\t\\t\\n\\t\\n\\t\\t\\n\\t\\t\\t\\n\\t\\t\\t\\t\\n\\t\\t\\t\\t\\t<tr onMouseOver=\"mouseOver(this)\" onMouseOut=\"mouseOut(this)\">\\n\\t\\t\\t\\t\\t<td align=\"center\"><span class=\"tah p10 gray03\">2021.05.24</span></td>\\n\\t\\t\\t\\t\\t<td class=\"num\"><span class=\"tah p11\">79,700</span></td>\\n\\t\\t\\t\\t\\t<td class=\"num\">\\n\\t\\t\\t\\t<img src=\"https://ssl.pstatic.net/imgstock/images/images4/ico_down.gif\" width=\"7\" height=\"6\" style=\"margin-right:4px;\" alt=\"하락\"><span class=\"tah p11 nv01\">\\n\\t\\t\\t\\t400\\n\\t\\t\\t\\t</span>\\n\\t\\t\\t</td>\\n\\t\\t\\t\\t\\t<td class=\"num\"><span class=\"tah p11\">80,100</span></td>\\n\\t\\t\\t\\t\\t<td class=\"num\"><span class=\"tah p11\">80,400</span></td>\\n\\t\\t\\t\\t\\t<td class=\"num\"><span class=\"tah p11\">79,500</span></td>\\n\\t\\t\\t\\t\\t<td class=\"num\"><span class=\"tah p11\">13,398,666</span></td>\\n\\t\\t\\t\\t\\t</tr>\\n\\t\\t\\t\\t\\n\\t\\t\\t\\t\\n\\t\\t\\t\\n\\t\\t\\t\\n\\t\\t\\t\\n\\t\\t\\t\\n\\t\\t\\t\\n\\t\\n\\t\\t\\n\\t\\t\\t\\n\\t\\t\\t\\t\\n\\t\\t\\t\\t\\t<tr onMouseOver=\"mouseOver(this)\" onMouseOut=\"mouseOut(this)\">\\n\\t\\t\\t\\t\\t<td align=\"center\"><span class=\"tah p10 gray03\">2021.05.21</span></td>\\n\\t\\t\\t\\t\\t<td class=\"num\"><span class=\"tah p11\">80,100</span></td>\\n\\t\\t\\t\\t\\t<td class=\"num\">\\n\\t\\t\\t\\t<img src=\"https://ssl.pstatic.net/imgstock/images/images4/ico_up.gif\" width=\"7\" height=\"6\" style=\"margin-right:4px;\" alt=\"상승\"><span class=\"tah p11 red02\">\\n\\t\\t\\t\\t600\\n\\t\\t\\t\\t</span>\\n\\t\\t\\t</td>\\n\\t\\t\\t\\t\\t<td class=\"num\"><span class=\"tah p11\">80,100</span></td>\\n\\t\\t\\t\\t\\t<td class=\"num\"><span class=\"tah p11\">81,500</span></td>\\n\\t\\t\\t\\t\\t<td class=\"num\"><span class=\"tah p11\">79,800</span></td>\\n\\t\\t\\t\\t\\t<td class=\"num\"><span class=\"tah p11\">20,961,714</span></td>\\n\\t\\t\\t\\t\\t</tr>\\n\\t\\t\\t\\t\\n\\t\\t\\t\\t\\n\\t\\t\\t\\n\\t\\t\\t\\n\\t\\t\\t\\n\\t\\t\\t\\n\\t\\t\\t\\n\\t\\n\\t\\t\\n\\t\\t\\t\\n\\t\\t\\t\\t\\n\\t\\t\\t\\t\\t<tr onMouseOver=\"mouseOver(this)\" onMouseOut=\"mouseOut(this)\">\\n\\t\\t\\t\\t\\t<td align=\"center\"><span class=\"tah p10 gray03\">2021.05.20</span></td>\\n\\t\\t\\t\\t\\t<td class=\"num\"><span class=\"tah p11\">79,500</span></td>\\n\\t\\t\\t\\t\\t<td class=\"num\">\\n\\t\\t\\t\\t<img src=\"https://ssl.pstatic.net/imgstock/images/images4/ico_down.gif\" width=\"7\" height=\"6\" style=\"margin-right:4px;\" alt=\"하락\"><span class=\"tah p11 nv01\">\\n\\t\\t\\t\\t100\\n\\t\\t\\t\\t</span>\\n\\t\\t\\t</td>\\n\\t\\t\\t\\t\\t<td class=\"num\"><span class=\"tah p11\">79,400</span></td>\\n\\t\\t\\t\\t\\t<td class=\"num\"><span class=\"tah p11\">79,700</span></td>\\n\\t\\t\\t\\t\\t<td class=\"num\"><span class=\"tah p11\">79,100</span></td>\\n\\t\\t\\t\\t\\t<td class=\"num\"><span class=\"tah p11\">16,541,828</span></td>\\n\\t\\t\\t\\t\\t</tr>\\n\\t\\t\\t\\t\\n\\t\\t\\t\\t\\n\\t\\t\\t\\n\\t\\t\\t\\n\\t\\t\\t\\n\\t\\t\\t\\n\\t\\t\\t\\n\\t\\n\\t\\t\\n\\t\\n\\n\\t\\t\\t\\t<tr>\\n\\t\\t\\t\\t<td colspan=\"7\" height=\"8\"></td>\\n\\t\\t\\t\\t</tr>\\n\\t\\t\\t\\t</table>\\n\\t\\t\\t\\t<!--- 페이지 네비게이션 시작--->\\n\\t\\t\\t\\t<table summary=\"페이지 네비게이션 리스트\" class=\"Nnavi\" align=\"center\">\\n\\t\\t\\t\\t<caption>페이지 네비게이션</caption>\\n\\t\\t\\t\\t<tr>\\t\\t\\n\\t\\t\\t\\n\\t\\t\\t\\t<td class=\"pgLL\">\\n\\t\\t\\t\\t<a href=\"/item/sise_day.nhn?code=005930&amp;page=1\"  >\\n\\t\\t\\t\\t<img src=\"https://ssl.pstatic.net/static/n/cmn/bu_pgarLL.gif\" width=\"7\" height=\"5\" alt=\"\">맨앞\\n\\t\\t\\t\\t</a>\\n\\t\\t\\t\\t</td>\\n\\n                \\n                <td>\\n\\t\\t\\t\\t<a href=\"/item/sise_day.nhn?code=005930&amp;page=1\"  >1</a>\\n\\t\\t\\t\\t</td>\\n<td>\\n\\t\\t\\t\\t<a href=\"/item/sise_day.nhn?code=005930&amp;page=2\"  >2</a>\\n\\t\\t\\t\\t</td>\\n<td>\\n\\t\\t\\t\\t<a href=\"/item/sise_day.nhn?code=005930&amp;page=3\"  >3</a>\\n\\t\\t\\t\\t</td>\\n<td>\\n\\t\\t\\t\\t<a href=\"/item/sise_day.nhn?code=005930&amp;page=4\"  >4</a>\\n\\t\\t\\t\\t</td>\\n<td class=\"on\">\\n\\t\\t\\t\\t<a href=\"/item/sise_day.nhn?code=005930&amp;page=5\"  >5</a>\\n\\t\\t\\t\\t</td>\\n<td>\\n\\t\\t\\t\\t<a href=\"/item/sise_day.nhn?code=005930&amp;page=6\"  >6</a>\\n\\t\\t\\t\\t</td>\\n<td>\\n\\t\\t\\t\\t<a href=\"/item/sise_day.nhn?code=005930&amp;page=7\"  >7</a>\\n\\t\\t\\t\\t</td>\\n<td>\\n\\t\\t\\t\\t<a href=\"/item/sise_day.nhn?code=005930&amp;page=8\"  >8</a>\\n\\t\\t\\t\\t</td>\\n<td>\\n\\t\\t\\t\\t<a href=\"/item/sise_day.nhn?code=005930&amp;page=9\"  >9</a>\\n\\t\\t\\t\\t</td>\\n<td>\\n\\t\\t\\t\\t<a href=\"/item/sise_day.nhn?code=005930&amp;page=10\"  >10</a>\\n\\t\\t\\t\\t</td>\\n\\n                <td class=\"pgR\">\\n\\t\\t\\t\\t<a href=\"/item/sise_day.nhn?code=005930&amp;page=11\"  >\\n\\t\\t\\t\\t다음<img src=\"https://ssl.pstatic.net/static/n/cmn/bu_pgarR.gif\" width=\"3\" height=\"5\" alt=\"\" border=\"0\">\\n\\t\\t\\t\\t</a>\\n\\t\\t\\t\\t</td>\\n\\n                <td class=\"pgRR\">\\n\\t\\t\\t\\t<a href=\"/item/sise_day.nhn?code=005930&amp;page=631\"  >맨뒤\\n\\t\\t\\t\\t<img src=\"https://ssl.pstatic.net/static/n/cmn/bu_pgarRR.gif\" width=\"8\" height=\"5\" alt=\"\" border=\"0\">\\n\\t\\t\\t\\t</a>\\n\\t\\t\\t\\t</td>\\n\\n            \\n\\t\\t\\t\\t</tr>\\n\\t\\t\\t\\t</table>\\n\\t\\t\\t\\t<!--- 페이지 네비게이션 끝--->\\n\\n\\n\\t<script type=\"text/javascript\" src=\"https://ssl.pstatic.net/imgstock/static.pc/20210721200146/js/jindo.min.ns.1.5.3.euckr.js\"></script>\\n\\t<script type=\"text/javascript\" src=\"https://ssl.pstatic.net/imgstock/static.pc/20210721200146/js/lcslog.js\"></script>\\n\\t<script type=\"text/javascript\">\\n        ;(function(){\\n            var eventType = \"onpageshow\" in window ? \"pageshow\" : \"load\";\\n            jindo.$Fn(function(){\\n                lcs_do();\\n            }).attach(window, eventType);\\n        })();\\n\\t</script>\\n\\n</body>'"
      ]
     },
     "execution_count": 4,
     "metadata": {},
     "output_type": "execute_result"
    }
   ],
   "source": [
    "import requests\n",
    "headers={ 'user-agent':'Mozilla/5.0 (Windows NT 10.0; Win64; x64) AppleWebKit/537.36 (KHTML, like Gecko) Chrome/91.0.4472.164 Safari/537.36'}\n",
    "response = requests.get(url,headers=headers)\n",
    "response.text"
   ]
  },
  {
   "cell_type": "markdown",
   "metadata": {},
   "source": [
    "## BeautifulSoup 을 통한 table 태그 찾기\n",
    "\n",
    "* [Beautiful Soup Documentation — Beautiful Soup 4.9.0 documentation](https://www.crummy.com/software/BeautifulSoup/bs4/doc/)"
   ]
  },
  {
   "cell_type": "code",
   "execution_count": 5,
   "metadata": {},
   "outputs": [],
   "source": [
    "from bs4 import BeautifulSoup as bs\n",
    "import bs4\n",
    "soup = bs(response.text,'lxml')"
   ]
  },
  {
   "cell_type": "code",
   "execution_count": 6,
   "metadata": {},
   "outputs": [
    {
     "data": {
      "text/plain": [
       "2"
      ]
     },
     "execution_count": 6,
     "metadata": {},
     "output_type": "execute_result"
    }
   ],
   "source": [
    "tables = soup.select('table')\n",
    "len(tables)"
   ]
  },
  {
   "cell_type": "markdown",
   "metadata": {},
   "source": [
    "## pandas 코드 한 줄로 데이터 수집하기"
   ]
  },
  {
   "cell_type": "code",
   "execution_count": 7,
   "metadata": {
    "id": "T3e0Jt0mTMkA",
    "scrolled": true
   },
   "outputs": [
    {
     "data": {
      "text/plain": [
       "[            날짜       종가    전일비       시가       고가       저가         거래량\n",
       " 0          NaN      NaN    NaN      NaN      NaN      NaN         NaN\n",
       " 1   2021.06.02  80800.0  200.0  80400.0  81400.0  80300.0  16414644.0\n",
       " 2   2021.06.01  80600.0  100.0  80500.0  81300.0  80100.0  14058401.0\n",
       " 3   2021.05.31  80500.0  400.0  80300.0  80600.0  79600.0  13321324.0\n",
       " 4   2021.05.28  80100.0  500.0  79800.0  80400.0  79400.0  12360199.0\n",
       " 5   2021.05.27  79600.0  200.0  80000.0  80000.0  79100.0  23198510.0\n",
       " 6          NaN      NaN    NaN      NaN      NaN      NaN         NaN\n",
       " 7          NaN      NaN    NaN      NaN      NaN      NaN         NaN\n",
       " 8          NaN      NaN    NaN      NaN      NaN      NaN         NaN\n",
       " 9   2021.05.26  79800.0  100.0  80400.0  80500.0  79700.0  11984359.0\n",
       " 10  2021.05.25  79900.0  200.0  80000.0  80400.0  79800.0  13628942.0\n",
       " 11  2021.05.24  79700.0  400.0  80100.0  80400.0  79500.0  13398666.0\n",
       " 12  2021.05.21  80100.0  600.0  80100.0  81500.0  79800.0  20961714.0\n",
       " 13  2021.05.20  79500.0  100.0  79400.0  79700.0  79100.0  16541828.0\n",
       " 14         NaN      NaN    NaN      NaN      NaN      NaN         NaN,\n",
       "    0   1   2   3   4   5   6   7   8   9   10  11  12\n",
       " 0  맨앞   1   2   3   4   5   6   7   8   9  10  다음  맨뒤]"
      ]
     },
     "execution_count": 7,
     "metadata": {},
     "output_type": "execute_result"
    }
   ],
   "source": [
    "# read_html을 이용하여 url의 page내의 값을 DataFrame으로 받아옵니다.\n",
    "# cp949는 한글 인코딩을 위해 사용합니다. 기본 인코딩 설정은 utf-8 이며, \n",
    "# 네이버의 일별 시세는 cp949 인코딩으로 불러올 수 있습니다.\n",
    "# 데이터를 로드 했을 때 한글 인코딩이 깨진다면 대부분 cp949 로 불러올 수 있습니다.\n",
    "# table\n",
    "table = pd.read_html(str(tables))\n",
    "table"
   ]
  },
  {
   "cell_type": "code",
   "execution_count": 8,
   "metadata": {
    "id": "GQ_LCYp0TMkA"
   },
   "outputs": [
    {
     "data": {
      "text/html": [
       "<div>\n",
       "<style scoped>\n",
       "    .dataframe tbody tr th:only-of-type {\n",
       "        vertical-align: middle;\n",
       "    }\n",
       "\n",
       "    .dataframe tbody tr th {\n",
       "        vertical-align: top;\n",
       "    }\n",
       "\n",
       "    .dataframe thead th {\n",
       "        text-align: right;\n",
       "    }\n",
       "</style>\n",
       "<table border=\"1\" class=\"dataframe\">\n",
       "  <thead>\n",
       "    <tr style=\"text-align: right;\">\n",
       "      <th></th>\n",
       "      <th>날짜</th>\n",
       "      <th>종가</th>\n",
       "      <th>전일비</th>\n",
       "      <th>시가</th>\n",
       "      <th>고가</th>\n",
       "      <th>저가</th>\n",
       "      <th>거래량</th>\n",
       "    </tr>\n",
       "  </thead>\n",
       "  <tbody>\n",
       "    <tr>\n",
       "      <th>0</th>\n",
       "      <td>NaN</td>\n",
       "      <td>NaN</td>\n",
       "      <td>NaN</td>\n",
       "      <td>NaN</td>\n",
       "      <td>NaN</td>\n",
       "      <td>NaN</td>\n",
       "      <td>NaN</td>\n",
       "    </tr>\n",
       "    <tr>\n",
       "      <th>1</th>\n",
       "      <td>2021.06.02</td>\n",
       "      <td>80800.0</td>\n",
       "      <td>200.0</td>\n",
       "      <td>80400.0</td>\n",
       "      <td>81400.0</td>\n",
       "      <td>80300.0</td>\n",
       "      <td>16414644.0</td>\n",
       "    </tr>\n",
       "    <tr>\n",
       "      <th>2</th>\n",
       "      <td>2021.06.01</td>\n",
       "      <td>80600.0</td>\n",
       "      <td>100.0</td>\n",
       "      <td>80500.0</td>\n",
       "      <td>81300.0</td>\n",
       "      <td>80100.0</td>\n",
       "      <td>14058401.0</td>\n",
       "    </tr>\n",
       "    <tr>\n",
       "      <th>3</th>\n",
       "      <td>2021.05.31</td>\n",
       "      <td>80500.0</td>\n",
       "      <td>400.0</td>\n",
       "      <td>80300.0</td>\n",
       "      <td>80600.0</td>\n",
       "      <td>79600.0</td>\n",
       "      <td>13321324.0</td>\n",
       "    </tr>\n",
       "    <tr>\n",
       "      <th>4</th>\n",
       "      <td>2021.05.28</td>\n",
       "      <td>80100.0</td>\n",
       "      <td>500.0</td>\n",
       "      <td>79800.0</td>\n",
       "      <td>80400.0</td>\n",
       "      <td>79400.0</td>\n",
       "      <td>12360199.0</td>\n",
       "    </tr>\n",
       "    <tr>\n",
       "      <th>5</th>\n",
       "      <td>2021.05.27</td>\n",
       "      <td>79600.0</td>\n",
       "      <td>200.0</td>\n",
       "      <td>80000.0</td>\n",
       "      <td>80000.0</td>\n",
       "      <td>79100.0</td>\n",
       "      <td>23198510.0</td>\n",
       "    </tr>\n",
       "    <tr>\n",
       "      <th>6</th>\n",
       "      <td>NaN</td>\n",
       "      <td>NaN</td>\n",
       "      <td>NaN</td>\n",
       "      <td>NaN</td>\n",
       "      <td>NaN</td>\n",
       "      <td>NaN</td>\n",
       "      <td>NaN</td>\n",
       "    </tr>\n",
       "    <tr>\n",
       "      <th>7</th>\n",
       "      <td>NaN</td>\n",
       "      <td>NaN</td>\n",
       "      <td>NaN</td>\n",
       "      <td>NaN</td>\n",
       "      <td>NaN</td>\n",
       "      <td>NaN</td>\n",
       "      <td>NaN</td>\n",
       "    </tr>\n",
       "    <tr>\n",
       "      <th>8</th>\n",
       "      <td>NaN</td>\n",
       "      <td>NaN</td>\n",
       "      <td>NaN</td>\n",
       "      <td>NaN</td>\n",
       "      <td>NaN</td>\n",
       "      <td>NaN</td>\n",
       "      <td>NaN</td>\n",
       "    </tr>\n",
       "    <tr>\n",
       "      <th>9</th>\n",
       "      <td>2021.05.26</td>\n",
       "      <td>79800.0</td>\n",
       "      <td>100.0</td>\n",
       "      <td>80400.0</td>\n",
       "      <td>80500.0</td>\n",
       "      <td>79700.0</td>\n",
       "      <td>11984359.0</td>\n",
       "    </tr>\n",
       "    <tr>\n",
       "      <th>10</th>\n",
       "      <td>2021.05.25</td>\n",
       "      <td>79900.0</td>\n",
       "      <td>200.0</td>\n",
       "      <td>80000.0</td>\n",
       "      <td>80400.0</td>\n",
       "      <td>79800.0</td>\n",
       "      <td>13628942.0</td>\n",
       "    </tr>\n",
       "    <tr>\n",
       "      <th>11</th>\n",
       "      <td>2021.05.24</td>\n",
       "      <td>79700.0</td>\n",
       "      <td>400.0</td>\n",
       "      <td>80100.0</td>\n",
       "      <td>80400.0</td>\n",
       "      <td>79500.0</td>\n",
       "      <td>13398666.0</td>\n",
       "    </tr>\n",
       "    <tr>\n",
       "      <th>12</th>\n",
       "      <td>2021.05.21</td>\n",
       "      <td>80100.0</td>\n",
       "      <td>600.0</td>\n",
       "      <td>80100.0</td>\n",
       "      <td>81500.0</td>\n",
       "      <td>79800.0</td>\n",
       "      <td>20961714.0</td>\n",
       "    </tr>\n",
       "    <tr>\n",
       "      <th>13</th>\n",
       "      <td>2021.05.20</td>\n",
       "      <td>79500.0</td>\n",
       "      <td>100.0</td>\n",
       "      <td>79400.0</td>\n",
       "      <td>79700.0</td>\n",
       "      <td>79100.0</td>\n",
       "      <td>16541828.0</td>\n",
       "    </tr>\n",
       "    <tr>\n",
       "      <th>14</th>\n",
       "      <td>NaN</td>\n",
       "      <td>NaN</td>\n",
       "      <td>NaN</td>\n",
       "      <td>NaN</td>\n",
       "      <td>NaN</td>\n",
       "      <td>NaN</td>\n",
       "      <td>NaN</td>\n",
       "    </tr>\n",
       "  </tbody>\n",
       "</table>\n",
       "</div>"
      ],
      "text/plain": [
       "            날짜       종가    전일비       시가       고가       저가         거래량\n",
       "0          NaN      NaN    NaN      NaN      NaN      NaN         NaN\n",
       "1   2021.06.02  80800.0  200.0  80400.0  81400.0  80300.0  16414644.0\n",
       "2   2021.06.01  80600.0  100.0  80500.0  81300.0  80100.0  14058401.0\n",
       "3   2021.05.31  80500.0  400.0  80300.0  80600.0  79600.0  13321324.0\n",
       "4   2021.05.28  80100.0  500.0  79800.0  80400.0  79400.0  12360199.0\n",
       "5   2021.05.27  79600.0  200.0  80000.0  80000.0  79100.0  23198510.0\n",
       "6          NaN      NaN    NaN      NaN      NaN      NaN         NaN\n",
       "7          NaN      NaN    NaN      NaN      NaN      NaN         NaN\n",
       "8          NaN      NaN    NaN      NaN      NaN      NaN         NaN\n",
       "9   2021.05.26  79800.0  100.0  80400.0  80500.0  79700.0  11984359.0\n",
       "10  2021.05.25  79900.0  200.0  80000.0  80400.0  79800.0  13628942.0\n",
       "11  2021.05.24  79700.0  400.0  80100.0  80400.0  79500.0  13398666.0\n",
       "12  2021.05.21  80100.0  600.0  80100.0  81500.0  79800.0  20961714.0\n",
       "13  2021.05.20  79500.0  100.0  79400.0  79700.0  79100.0  16541828.0\n",
       "14         NaN      NaN    NaN      NaN      NaN      NaN         NaN"
      ]
     },
     "execution_count": 8,
     "metadata": {},
     "output_type": "execute_result"
    }
   ],
   "source": [
    "# table[0]와 table[1]을 확인하여 보면 table[0]에 필요한 데이터들이 있습니다.\n",
    "table[0]"
   ]
  },
  {
   "cell_type": "code",
   "execution_count": 9,
   "metadata": {
    "id": "0gI1rNUbTMkA"
   },
   "outputs": [
    {
     "data": {
      "text/html": [
       "<div>\n",
       "<style scoped>\n",
       "    .dataframe tbody tr th:only-of-type {\n",
       "        vertical-align: middle;\n",
       "    }\n",
       "\n",
       "    .dataframe tbody tr th {\n",
       "        vertical-align: top;\n",
       "    }\n",
       "\n",
       "    .dataframe thead th {\n",
       "        text-align: right;\n",
       "    }\n",
       "</style>\n",
       "<table border=\"1\" class=\"dataframe\">\n",
       "  <thead>\n",
       "    <tr style=\"text-align: right;\">\n",
       "      <th></th>\n",
       "      <th>날짜</th>\n",
       "      <th>종가</th>\n",
       "      <th>전일비</th>\n",
       "      <th>시가</th>\n",
       "      <th>고가</th>\n",
       "      <th>저가</th>\n",
       "      <th>거래량</th>\n",
       "    </tr>\n",
       "  </thead>\n",
       "  <tbody>\n",
       "    <tr>\n",
       "      <th>1</th>\n",
       "      <td>2021.06.02</td>\n",
       "      <td>80800.0</td>\n",
       "      <td>200.0</td>\n",
       "      <td>80400.0</td>\n",
       "      <td>81400.0</td>\n",
       "      <td>80300.0</td>\n",
       "      <td>16414644.0</td>\n",
       "    </tr>\n",
       "    <tr>\n",
       "      <th>2</th>\n",
       "      <td>2021.06.01</td>\n",
       "      <td>80600.0</td>\n",
       "      <td>100.0</td>\n",
       "      <td>80500.0</td>\n",
       "      <td>81300.0</td>\n",
       "      <td>80100.0</td>\n",
       "      <td>14058401.0</td>\n",
       "    </tr>\n",
       "    <tr>\n",
       "      <th>3</th>\n",
       "      <td>2021.05.31</td>\n",
       "      <td>80500.0</td>\n",
       "      <td>400.0</td>\n",
       "      <td>80300.0</td>\n",
       "      <td>80600.0</td>\n",
       "      <td>79600.0</td>\n",
       "      <td>13321324.0</td>\n",
       "    </tr>\n",
       "    <tr>\n",
       "      <th>4</th>\n",
       "      <td>2021.05.28</td>\n",
       "      <td>80100.0</td>\n",
       "      <td>500.0</td>\n",
       "      <td>79800.0</td>\n",
       "      <td>80400.0</td>\n",
       "      <td>79400.0</td>\n",
       "      <td>12360199.0</td>\n",
       "    </tr>\n",
       "    <tr>\n",
       "      <th>5</th>\n",
       "      <td>2021.05.27</td>\n",
       "      <td>79600.0</td>\n",
       "      <td>200.0</td>\n",
       "      <td>80000.0</td>\n",
       "      <td>80000.0</td>\n",
       "      <td>79100.0</td>\n",
       "      <td>23198510.0</td>\n",
       "    </tr>\n",
       "    <tr>\n",
       "      <th>9</th>\n",
       "      <td>2021.05.26</td>\n",
       "      <td>79800.0</td>\n",
       "      <td>100.0</td>\n",
       "      <td>80400.0</td>\n",
       "      <td>80500.0</td>\n",
       "      <td>79700.0</td>\n",
       "      <td>11984359.0</td>\n",
       "    </tr>\n",
       "    <tr>\n",
       "      <th>10</th>\n",
       "      <td>2021.05.25</td>\n",
       "      <td>79900.0</td>\n",
       "      <td>200.0</td>\n",
       "      <td>80000.0</td>\n",
       "      <td>80400.0</td>\n",
       "      <td>79800.0</td>\n",
       "      <td>13628942.0</td>\n",
       "    </tr>\n",
       "    <tr>\n",
       "      <th>11</th>\n",
       "      <td>2021.05.24</td>\n",
       "      <td>79700.0</td>\n",
       "      <td>400.0</td>\n",
       "      <td>80100.0</td>\n",
       "      <td>80400.0</td>\n",
       "      <td>79500.0</td>\n",
       "      <td>13398666.0</td>\n",
       "    </tr>\n",
       "    <tr>\n",
       "      <th>12</th>\n",
       "      <td>2021.05.21</td>\n",
       "      <td>80100.0</td>\n",
       "      <td>600.0</td>\n",
       "      <td>80100.0</td>\n",
       "      <td>81500.0</td>\n",
       "      <td>79800.0</td>\n",
       "      <td>20961714.0</td>\n",
       "    </tr>\n",
       "    <tr>\n",
       "      <th>13</th>\n",
       "      <td>2021.05.20</td>\n",
       "      <td>79500.0</td>\n",
       "      <td>100.0</td>\n",
       "      <td>79400.0</td>\n",
       "      <td>79700.0</td>\n",
       "      <td>79100.0</td>\n",
       "      <td>16541828.0</td>\n",
       "    </tr>\n",
       "  </tbody>\n",
       "</table>\n",
       "</div>"
      ],
      "text/plain": [
       "            날짜       종가    전일비       시가       고가       저가         거래량\n",
       "1   2021.06.02  80800.0  200.0  80400.0  81400.0  80300.0  16414644.0\n",
       "2   2021.06.01  80600.0  100.0  80500.0  81300.0  80100.0  14058401.0\n",
       "3   2021.05.31  80500.0  400.0  80300.0  80600.0  79600.0  13321324.0\n",
       "4   2021.05.28  80100.0  500.0  79800.0  80400.0  79400.0  12360199.0\n",
       "5   2021.05.27  79600.0  200.0  80000.0  80000.0  79100.0  23198510.0\n",
       "9   2021.05.26  79800.0  100.0  80400.0  80500.0  79700.0  11984359.0\n",
       "10  2021.05.25  79900.0  200.0  80000.0  80400.0  79800.0  13628942.0\n",
       "11  2021.05.24  79700.0  400.0  80100.0  80400.0  79500.0  13398666.0\n",
       "12  2021.05.21  80100.0  600.0  80100.0  81500.0  79800.0  20961714.0\n",
       "13  2021.05.20  79500.0  100.0  79400.0  79700.0  79100.0  16541828.0"
      ]
     },
     "execution_count": 9,
     "metadata": {},
     "output_type": "execute_result"
    }
   ],
   "source": [
    "# dropna를 통해 결측치가 들어있는 row를 제거합니다.\n",
    "# temp\n",
    "temp = table[0].dropna()\n",
    "temp"
   ]
  },
  {
   "cell_type": "markdown",
   "metadata": {
    "id": "CKhsb94wTMkA"
   },
   "source": [
    "## 페이지별 데이터 수집 함수 만들기"
   ]
  },
  {
   "cell_type": "code",
   "execution_count": 10,
   "metadata": {
    "id": "gJugcyoiTMkA"
   },
   "outputs": [],
   "source": [
    "# 종목 번호를 이용해 page에 따라 데이터를 읽어오는 함수\n",
    "# \"\"\" 는 이 두개 사이의 행들은 주석 처리되며, 함수의 docstring 으로 사용됩니다.\n",
    "\n",
    "def get_day_list(item_code, page_no):\n",
    "    \"\"\"\n",
    "    일자별 시세를 페이지별로 수집\n",
    "    \"\"\" \n",
    "    url = f'https://finance.naver.com/item/sise_day.nhn?code={item_code}&page={page_no}'\n",
    "    headers={ 'user-agent':'Mozilla/5.0 (Windows NT 10.0; Win64; x64) AppleWebKit/537.36 (KHTML, like Gecko) Chrome/91.0.4472.164 Safari/537.36'}\n",
    "    response = requests.get(url,headers=headers)\n",
    "    soup = bs(response.text,'lxml')\n",
    "    tables = soup.select('table')\n",
    "    table = pd.read_html(str(tables))\n",
    "    temp = table[0].dropna()\n",
    "    return temp\n",
    "    "
   ]
  },
  {
   "cell_type": "code",
   "execution_count": 11,
   "metadata": {
    "id": "evjinapgTMkA"
   },
   "outputs": [
    {
     "data": {
      "text/html": [
       "<div>\n",
       "<style scoped>\n",
       "    .dataframe tbody tr th:only-of-type {\n",
       "        vertical-align: middle;\n",
       "    }\n",
       "\n",
       "    .dataframe tbody tr th {\n",
       "        vertical-align: top;\n",
       "    }\n",
       "\n",
       "    .dataframe thead th {\n",
       "        text-align: right;\n",
       "    }\n",
       "</style>\n",
       "<table border=\"1\" class=\"dataframe\">\n",
       "  <thead>\n",
       "    <tr style=\"text-align: right;\">\n",
       "      <th></th>\n",
       "      <th>날짜</th>\n",
       "      <th>종가</th>\n",
       "      <th>전일비</th>\n",
       "      <th>시가</th>\n",
       "      <th>고가</th>\n",
       "      <th>저가</th>\n",
       "      <th>거래량</th>\n",
       "    </tr>\n",
       "  </thead>\n",
       "  <tbody>\n",
       "    <tr>\n",
       "      <th>1</th>\n",
       "      <td>2021.07.28</td>\n",
       "      <td>122000.0</td>\n",
       "      <td>0.0</td>\n",
       "      <td>121500.0</td>\n",
       "      <td>122000.0</td>\n",
       "      <td>121000.0</td>\n",
       "      <td>6746.0</td>\n",
       "    </tr>\n",
       "    <tr>\n",
       "      <th>2</th>\n",
       "      <td>2021.07.27</td>\n",
       "      <td>122000.0</td>\n",
       "      <td>1500.0</td>\n",
       "      <td>121000.0</td>\n",
       "      <td>122500.0</td>\n",
       "      <td>120500.0</td>\n",
       "      <td>146705.0</td>\n",
       "    </tr>\n",
       "    <tr>\n",
       "      <th>3</th>\n",
       "      <td>2021.07.26</td>\n",
       "      <td>120500.0</td>\n",
       "      <td>1500.0</td>\n",
       "      <td>122500.0</td>\n",
       "      <td>123000.0</td>\n",
       "      <td>120000.0</td>\n",
       "      <td>221231.0</td>\n",
       "    </tr>\n",
       "    <tr>\n",
       "      <th>4</th>\n",
       "      <td>2021.07.23</td>\n",
       "      <td>122000.0</td>\n",
       "      <td>2000.0</td>\n",
       "      <td>124000.0</td>\n",
       "      <td>125000.0</td>\n",
       "      <td>122000.0</td>\n",
       "      <td>235444.0</td>\n",
       "    </tr>\n",
       "    <tr>\n",
       "      <th>5</th>\n",
       "      <td>2021.07.22</td>\n",
       "      <td>124000.0</td>\n",
       "      <td>1000.0</td>\n",
       "      <td>125000.0</td>\n",
       "      <td>125000.0</td>\n",
       "      <td>123000.0</td>\n",
       "      <td>155904.0</td>\n",
       "    </tr>\n",
       "    <tr>\n",
       "      <th>9</th>\n",
       "      <td>2021.07.21</td>\n",
       "      <td>125000.0</td>\n",
       "      <td>500.0</td>\n",
       "      <td>125500.0</td>\n",
       "      <td>127000.0</td>\n",
       "      <td>124000.0</td>\n",
       "      <td>194282.0</td>\n",
       "    </tr>\n",
       "    <tr>\n",
       "      <th>10</th>\n",
       "      <td>2021.07.20</td>\n",
       "      <td>124500.0</td>\n",
       "      <td>1000.0</td>\n",
       "      <td>123500.0</td>\n",
       "      <td>125500.0</td>\n",
       "      <td>123000.0</td>\n",
       "      <td>198884.0</td>\n",
       "    </tr>\n",
       "    <tr>\n",
       "      <th>11</th>\n",
       "      <td>2021.07.19</td>\n",
       "      <td>125500.0</td>\n",
       "      <td>0.0</td>\n",
       "      <td>124000.0</td>\n",
       "      <td>127000.0</td>\n",
       "      <td>123000.0</td>\n",
       "      <td>216944.0</td>\n",
       "    </tr>\n",
       "    <tr>\n",
       "      <th>12</th>\n",
       "      <td>2021.07.16</td>\n",
       "      <td>125500.0</td>\n",
       "      <td>3000.0</td>\n",
       "      <td>127500.0</td>\n",
       "      <td>128500.0</td>\n",
       "      <td>125500.0</td>\n",
       "      <td>327694.0</td>\n",
       "    </tr>\n",
       "    <tr>\n",
       "      <th>13</th>\n",
       "      <td>2021.07.15</td>\n",
       "      <td>128500.0</td>\n",
       "      <td>2000.0</td>\n",
       "      <td>130500.0</td>\n",
       "      <td>131500.0</td>\n",
       "      <td>128000.0</td>\n",
       "      <td>228926.0</td>\n",
       "    </tr>\n",
       "  </tbody>\n",
       "</table>\n",
       "</div>"
      ],
      "text/plain": [
       "            날짜        종가     전일비        시가        고가        저가       거래량\n",
       "1   2021.07.28  122000.0     0.0  121500.0  122000.0  121000.0    6746.0\n",
       "2   2021.07.27  122000.0  1500.0  121000.0  122500.0  120500.0  146705.0\n",
       "3   2021.07.26  120500.0  1500.0  122500.0  123000.0  120000.0  221231.0\n",
       "4   2021.07.23  122000.0  2000.0  124000.0  125000.0  122000.0  235444.0\n",
       "5   2021.07.22  124000.0  1000.0  125000.0  125000.0  123000.0  155904.0\n",
       "9   2021.07.21  125000.0   500.0  125500.0  127000.0  124000.0  194282.0\n",
       "10  2021.07.20  124500.0  1000.0  123500.0  125500.0  123000.0  198884.0\n",
       "11  2021.07.19  125500.0     0.0  124000.0  127000.0  123000.0  216944.0\n",
       "12  2021.07.16  125500.0  3000.0  127500.0  128500.0  125500.0  327694.0\n",
       "13  2021.07.15  128500.0  2000.0  130500.0  131500.0  128000.0  228926.0"
      ]
     },
     "execution_count": 11,
     "metadata": {},
     "output_type": "execute_result"
    }
   ],
   "source": [
    "# 함수가 잘 만들어졌는지 확인하기\n",
    "item_code = 326030\n",
    "page_no = 1\n",
    "get_day_list(item_code, page_no)"
   ]
  },
  {
   "cell_type": "markdown",
   "metadata": {
    "id": "uuaac8XTTMkA"
   },
   "source": [
    "## 반복문을 통한 전체 일자 데이터 수집하기\n",
    "* (주의) 기간이 긴 데이터를 수집할때는 서버에 부담을 주지 않기 위해 time.sleep()값을 주세요."
   ]
  },
  {
   "cell_type": "code",
   "execution_count": 13,
   "metadata": {
    "id": "EQs1C6C_TMkA"
   },
   "outputs": [
    {
     "data": {
      "text/plain": [
       "[            날짜        종가     전일비        시가        고가        저가       거래량\n",
       " 1   2021.07.28  122000.0     0.0  121500.0  122000.0  121000.0    6746.0\n",
       " 2   2021.07.27  122000.0  1500.0  121000.0  122500.0  120500.0  146705.0\n",
       " 3   2021.07.26  120500.0  1500.0  122500.0  123000.0  120000.0  221231.0\n",
       " 4   2021.07.23  122000.0  2000.0  124000.0  125000.0  122000.0  235444.0\n",
       " 5   2021.07.22  124000.0  1000.0  125000.0  125000.0  123000.0  155904.0\n",
       " 9   2021.07.21  125000.0   500.0  125500.0  127000.0  124000.0  194282.0\n",
       " 10  2021.07.20  124500.0  1000.0  123500.0  125500.0  123000.0  198884.0\n",
       " 11  2021.07.19  125500.0     0.0  124000.0  127000.0  123000.0  216944.0\n",
       " 12  2021.07.16  125500.0  3000.0  127500.0  128500.0  125500.0  327694.0\n",
       " 13  2021.07.15  128500.0  2000.0  130500.0  131500.0  128000.0  228926.0,\n",
       "             날짜        종가     전일비        시가        고가        저가        거래량\n",
       " 1   2021.07.14  130500.0  2000.0  132500.0  132500.0  129500.0   214600.0\n",
       " 2   2021.07.13  132500.0  5000.0  129000.0  133000.0  128000.0   354269.0\n",
       " 3   2021.07.12  127500.0   500.0  128500.0  128500.0  126500.0   181619.0\n",
       " 4   2021.07.09  128000.0  2000.0  129000.0  130000.0  125000.0   425244.0\n",
       " 5   2021.07.08  130000.0   500.0  129500.0  135000.0  129500.0   570279.0\n",
       " 9   2021.07.07  129500.0  2000.0  131500.0  132000.0  128500.0   308334.0\n",
       " 10  2021.07.06  131500.0   500.0  133000.0  133000.0  129500.0   302620.0\n",
       " 11  2021.07.05  132000.0  3000.0  134500.0  137500.0  132000.0   645056.0\n",
       " 12  2021.07.02  135000.0  7000.0  129000.0  135000.0  127000.0  1121805.0\n",
       " 13  2021.07.01  128000.0  5000.0  123000.0  128500.0  122000.0   588182.0,\n",
       "             날짜        종가     전일비        시가        고가        저가       거래량\n",
       " 1   2021.06.30  123000.0  2000.0  125000.0  125500.0  123000.0  231375.0\n",
       " 2   2021.06.29  125000.0  2000.0  123500.0  126000.0  123000.0  316209.0\n",
       " 3   2021.06.28  123000.0  1000.0  122000.0  124500.0  121000.0  250417.0\n",
       " 4   2021.06.25  122000.0     0.0  122500.0  123000.0  121000.0  207002.0\n",
       " 5   2021.06.24  122000.0   500.0  121500.0  123000.0  121000.0  225303.0\n",
       " 9   2021.06.23  121500.0   500.0  121000.0  123000.0  119500.0  257022.0\n",
       " 10  2021.06.22  121000.0  2500.0  125000.0  125500.0  120500.0  442181.0\n",
       " 11  2021.06.21  123500.0  4000.0  127500.0  128500.0  123000.0  446269.0\n",
       " 12  2021.06.18  127500.0  1000.0  127000.0  127500.0  124500.0  423591.0\n",
       " 13  2021.06.17  126500.0  3000.0  123500.0  128000.0  123000.0  740335.0,\n",
       "             날짜        종가     전일비        시가        고가        저가        거래량\n",
       " 1   2021.06.16  123500.0  4500.0  119500.0  124000.0  119000.0   564885.0\n",
       " 2   2021.06.15  119000.0     0.0  118500.0  120500.0  117000.0   346677.0\n",
       " 3   2021.06.14  119000.0  2500.0  122000.0  122500.0  119000.0   354305.0\n",
       " 4   2021.06.11  121500.0   500.0  121000.0  122000.0  118500.0   363126.0\n",
       " 5   2021.06.10  121000.0  2000.0  118000.0  122000.0  117500.0   721843.0\n",
       " 9   2021.06.09  119000.0  1000.0  120500.0  121000.0  116500.0   562473.0\n",
       " 10  2021.06.08  120000.0  6000.0  114500.0  120500.0  114000.0  1184944.0\n",
       " 11  2021.06.07  114000.0   500.0  114000.0  114500.0  112500.0   194269.0\n",
       " 12  2021.06.04  113500.0   500.0  112500.0  113500.0  111500.0   201488.0\n",
       " 13  2021.06.03  113000.0   500.0  113000.0  114000.0  112000.0   220038.0,\n",
       "             날짜        종가     전일비        시가        고가        저가       거래량\n",
       " 1   2021.06.02  112500.0   500.0  112000.0  113500.0  111500.0  201131.0\n",
       " 2   2021.06.01  112000.0  1500.0  113500.0  115000.0  112000.0  221321.0\n",
       " 3   2021.05.31  113500.0   500.0  112500.0  113500.0  111000.0  195806.0\n",
       " 4   2021.05.28  113000.0  1000.0  113500.0  113500.0  111500.0  230342.0\n",
       " 5   2021.05.27  114000.0  3500.0  110500.0  114000.0  108000.0  418439.0\n",
       " 9   2021.05.26  110500.0  2000.0  113000.0  113000.0  110500.0  186569.0\n",
       " 10  2021.05.25  112500.0  1500.0  111500.0  113500.0  110500.0  186693.0\n",
       " 11  2021.05.24  111000.0  1500.0  113000.0  113500.0  109000.0  260775.0\n",
       " 12  2021.05.21  112500.0   500.0  114500.0  114500.0  111500.0  185480.0\n",
       " 13  2021.05.20  113000.0     0.0  113000.0  114000.0  111500.0  198742.0,\n",
       "             날짜        종가     전일비        시가        고가        저가       거래량\n",
       " 1   2021.05.18  113000.0  2000.0  112000.0  113000.0  110500.0  223112.0\n",
       " 2   2021.05.17  111000.0   500.0  111500.0  114000.0  110000.0  352455.0\n",
       " 3   2021.05.14  110500.0  2500.0  108500.0  112000.0  108500.0  225513.0\n",
       " 4   2021.05.13  108000.0   500.0  106500.0  109000.0  105000.0  303192.0\n",
       " 5   2021.05.12  107500.0  1000.0  108000.0  114500.0  107000.0  860584.0\n",
       " 9   2021.05.11  106500.0  3000.0  109000.0  109000.0  106000.0  210598.0\n",
       " 10  2021.05.10  109500.0  1500.0  108500.0  110000.0  107500.0  212041.0\n",
       " 11  2021.05.07  108000.0  2000.0  106500.0  108500.0  106000.0  174741.0\n",
       " 12  2021.05.06  106000.0  1500.0  104000.0  107500.0  103500.0  264179.0\n",
       " 13  2021.05.04  104500.0   500.0  103500.0  105500.0  102500.0  445119.0,\n",
       "             날짜        종가     전일비        시가        고가        저가       거래량\n",
       " 1   2021.05.03  105000.0  4000.0  109000.0  109500.0  104500.0  390931.0\n",
       " 2   2021.04.30  109000.0  2500.0  111500.0  111500.0  108500.0  264892.0\n",
       " 3   2021.04.29  111500.0  3500.0  115000.0  115000.0  111000.0  315054.0\n",
       " 4   2021.04.28  115000.0   500.0  114500.0  115500.0  112000.0  305629.0\n",
       " 5   2021.04.27  114500.0  3000.0  118000.0  118500.0  114000.0  334035.0\n",
       " 9   2021.04.26  117500.0  1000.0  119500.0  120000.0  117000.0  338233.0\n",
       " 10  2021.04.23  118500.0  1000.0  116000.0  119000.0  115500.0  283501.0\n",
       " 11  2021.04.22  117500.0  2500.0  120500.0  121000.0  117000.0  383676.0\n",
       " 12  2021.04.21  120000.0  1000.0  118500.0  121000.0  117500.0  654108.0\n",
       " 13  2021.04.20  119000.0  5500.0  114500.0  119500.0  114000.0  727766.0,\n",
       "             날짜        종가     전일비        시가        고가        저가       거래량\n",
       " 1   2021.04.19  113500.0  2000.0  111000.0  115500.0  110500.0  622540.0\n",
       " 2   2021.04.16  111500.0   500.0  112500.0  113500.0  111000.0  242747.0\n",
       " 3   2021.04.15  112000.0   500.0  112000.0  112000.0  109000.0  292030.0\n",
       " 4   2021.04.14  111500.0  2500.0  114500.0  115000.0  111000.0  389050.0\n",
       " 5   2021.04.13  114000.0  4000.0  111000.0  115500.0  111000.0  906936.0\n",
       " 9   2021.04.12  110000.0  1000.0  110000.0  110500.0  107000.0  374629.0\n",
       " 10  2021.04.09  109000.0  3500.0  106500.0  109500.0  105500.0  645787.0\n",
       " 11  2021.04.08  105500.0  3000.0  102500.0  107000.0  101500.0  609482.0\n",
       " 12  2021.04.07  102500.0   500.0  101500.0  103000.0  101000.0  252175.0\n",
       " 13  2021.04.06  102000.0  1500.0  104000.0  104500.0  101000.0  346579.0,\n",
       "             날짜        종가     전일비        시가        고가        저가       거래량\n",
       " 1   2021.04.05  103500.0  1500.0  105500.0  106000.0  103000.0  217828.0\n",
       " 2   2021.04.02  105000.0   500.0  105000.0  106000.0  104000.0  315577.0\n",
       " 3   2021.04.01  104500.0  1500.0  103500.0  105000.0  102000.0  285824.0\n",
       " 4   2021.03.31  103000.0  1000.0  108000.0  109000.0  102500.0  675835.0\n",
       " 5   2021.03.30  104000.0  3000.0  101500.0  104500.0  100500.0  395848.0\n",
       " 9   2021.03.29  101000.0  3000.0  104500.0  104500.0  100000.0  523105.0\n",
       " 10  2021.03.26  104000.0   500.0  105000.0  105000.0  102000.0  300995.0\n",
       " 11  2021.03.25  104500.0  2000.0  106000.0  106000.0  104000.0  328715.0\n",
       " 12  2021.03.24  106500.0  1500.0  105500.0  107000.0  105000.0  232456.0\n",
       " 13  2021.03.23  105000.0     0.0  106000.0  107500.0  104500.0  290725.0]"
      ]
     },
     "execution_count": 13,
     "metadata": {},
     "output_type": "execute_result"
    }
   ],
   "source": [
    "import time\n",
    "# web page 시작번호\n",
    "page_no = 1\n",
    "# 데이터를 저장할 빈 변수 선언\n",
    "item_list = []\n",
    "for i in range(1,10):\n",
    "    temp = get_day_list(item_code,i)\n",
    "    item_list.append(temp)\n",
    "item_list"
   ]
  },
  {
   "cell_type": "code",
   "execution_count": 53,
   "metadata": {},
   "outputs": [
    {
     "name": "stdout",
     "output_type": "stream",
     "text": [
      "5\n",
      "10\n",
      "15\n",
      "20\n"
     ]
    }
   ],
   "source": [
    "item_code = \"352820\"\n",
    "item_name = \"하이브\"\n",
    "\n",
    "item_list = []\n",
    "start_no = 1\n",
    "end_no = 10\n",
    "\n",
    "page_no = start_no\n",
    "\n",
    "while True:\n",
    "    \n",
    "  \n",
    "    temp = get_day_list(item_code, page_no)\n",
    "    \n",
    "    \n",
    "    if page_no > 1:\n",
    "        pre_date = item_list[-1]['날짜'].tolist()[0]\n",
    "        now_date = temp['날짜'].tolist()[0]\n",
    "        if pre_date == now_date:\n",
    "            break\n",
    "            \n",
    "    item_list.append(temp)\n",
    "    \n",
    "    #서버에 부담을 주지 않기 위해 시간차를 두고 가져온다\n",
    "    random_time = np.random.uniform(0.1, 0.5)\n",
    "    time.sleep(random_time)\n",
    "    \n",
    "    page_no = page_no + 1\n",
    "    \n",
    "    # 5페이지 단위로 현재 몇 페이지인지를 출력\n",
    "    if page_no % 5 == 0:\n",
    "        print(page_no)\n",
    "        \n",
    "    # 일별시세는 10개씩 행이 있기 때문에 행이 10개보다 적으면 마지막 페이지로 보고 break\n",
    "    if temp.shape[0] != 10:\n",
    "        break"
   ]
  },
  {
   "cell_type": "markdown",
   "metadata": {
    "id": "iEFBJv5XTMkA"
   },
   "source": [
    "## 수집한 데이터 하나의 데이터프레임으로 합치기\n",
    "\n",
    "<img src=\"https://pandas.pydata.org/docs/_images/merging_concat_basic.png\">\n",
    "\n",
    "* [Merge, join, concatenate and compare documentation](https://pandas.pydata.org/docs/user_guide/merging.html#merge-join-concatenate-and-compare)"
   ]
  },
  {
   "cell_type": "code",
   "execution_count": 20,
   "metadata": {
    "id": "mUcxeTMFTMkA"
   },
   "outputs": [],
   "source": [
    "# DataFrame들이 list의 형태로 저장된 것을 concat을 이용하여 합치면서 하나의 DataFrame으로 만듭니다.\n",
    "df = pd.concat(item_list)"
   ]
  },
  {
   "cell_type": "markdown",
   "metadata": {},
   "source": [
    "<img src=\"https://pandas.pydata.org/docs/_images/08_concat_row.svg\">"
   ]
  },
  {
   "cell_type": "code",
   "execution_count": 21,
   "metadata": {
    "id": "Ep3NWfM-TMkA"
   },
   "outputs": [
    {
     "data": {
      "text/html": [
       "<div>\n",
       "<style scoped>\n",
       "    .dataframe tbody tr th:only-of-type {\n",
       "        vertical-align: middle;\n",
       "    }\n",
       "\n",
       "    .dataframe tbody tr th {\n",
       "        vertical-align: top;\n",
       "    }\n",
       "\n",
       "    .dataframe thead th {\n",
       "        text-align: right;\n",
       "    }\n",
       "</style>\n",
       "<table border=\"1\" class=\"dataframe\">\n",
       "  <thead>\n",
       "    <tr style=\"text-align: right;\">\n",
       "      <th></th>\n",
       "      <th>날짜</th>\n",
       "      <th>종가</th>\n",
       "      <th>전일비</th>\n",
       "      <th>시가</th>\n",
       "      <th>고가</th>\n",
       "      <th>저가</th>\n",
       "      <th>거래량</th>\n",
       "    </tr>\n",
       "  </thead>\n",
       "  <tbody>\n",
       "    <tr>\n",
       "      <th>1</th>\n",
       "      <td>2021.07.28</td>\n",
       "      <td>122000.0</td>\n",
       "      <td>0.0</td>\n",
       "      <td>121500.0</td>\n",
       "      <td>122000.0</td>\n",
       "      <td>121000.0</td>\n",
       "      <td>6746.0</td>\n",
       "    </tr>\n",
       "    <tr>\n",
       "      <th>2</th>\n",
       "      <td>2021.07.27</td>\n",
       "      <td>122000.0</td>\n",
       "      <td>1500.0</td>\n",
       "      <td>121000.0</td>\n",
       "      <td>122500.0</td>\n",
       "      <td>120500.0</td>\n",
       "      <td>146705.0</td>\n",
       "    </tr>\n",
       "    <tr>\n",
       "      <th>3</th>\n",
       "      <td>2021.07.26</td>\n",
       "      <td>120500.0</td>\n",
       "      <td>1500.0</td>\n",
       "      <td>122500.0</td>\n",
       "      <td>123000.0</td>\n",
       "      <td>120000.0</td>\n",
       "      <td>221231.0</td>\n",
       "    </tr>\n",
       "    <tr>\n",
       "      <th>4</th>\n",
       "      <td>2021.07.23</td>\n",
       "      <td>122000.0</td>\n",
       "      <td>2000.0</td>\n",
       "      <td>124000.0</td>\n",
       "      <td>125000.0</td>\n",
       "      <td>122000.0</td>\n",
       "      <td>235444.0</td>\n",
       "    </tr>\n",
       "    <tr>\n",
       "      <th>5</th>\n",
       "      <td>2021.07.22</td>\n",
       "      <td>124000.0</td>\n",
       "      <td>1000.0</td>\n",
       "      <td>125000.0</td>\n",
       "      <td>125000.0</td>\n",
       "      <td>123000.0</td>\n",
       "      <td>155904.0</td>\n",
       "    </tr>\n",
       "  </tbody>\n",
       "</table>\n",
       "</div>"
      ],
      "text/plain": [
       "           날짜        종가     전일비        시가        고가        저가       거래량\n",
       "1  2021.07.28  122000.0     0.0  121500.0  122000.0  121000.0    6746.0\n",
       "2  2021.07.27  122000.0  1500.0  121000.0  122500.0  120500.0  146705.0\n",
       "3  2021.07.26  120500.0  1500.0  122500.0  123000.0  120000.0  221231.0\n",
       "4  2021.07.23  122000.0  2000.0  124000.0  125000.0  122000.0  235444.0\n",
       "5  2021.07.22  124000.0  1000.0  125000.0  125000.0  123000.0  155904.0"
      ]
     },
     "execution_count": 21,
     "metadata": {},
     "output_type": "execute_result"
    }
   ],
   "source": [
    "# head와 tail로 데이터의 일부를 가져와서 봅니다.\n",
    "df.head()"
   ]
  },
  {
   "cell_type": "code",
   "execution_count": 22,
   "metadata": {
    "id": "hHcKUo8iTMkA"
   },
   "outputs": [
    {
     "data": {
      "text/html": [
       "<div>\n",
       "<style scoped>\n",
       "    .dataframe tbody tr th:only-of-type {\n",
       "        vertical-align: middle;\n",
       "    }\n",
       "\n",
       "    .dataframe tbody tr th {\n",
       "        vertical-align: top;\n",
       "    }\n",
       "\n",
       "    .dataframe thead th {\n",
       "        text-align: right;\n",
       "    }\n",
       "</style>\n",
       "<table border=\"1\" class=\"dataframe\">\n",
       "  <thead>\n",
       "    <tr style=\"text-align: right;\">\n",
       "      <th></th>\n",
       "      <th>날짜</th>\n",
       "      <th>종가</th>\n",
       "      <th>전일비</th>\n",
       "      <th>시가</th>\n",
       "      <th>고가</th>\n",
       "      <th>저가</th>\n",
       "      <th>거래량</th>\n",
       "    </tr>\n",
       "  </thead>\n",
       "  <tbody>\n",
       "    <tr>\n",
       "      <th>3</th>\n",
       "      <td>2020.10.21</td>\n",
       "      <td>179000.0</td>\n",
       "      <td>3500.0</td>\n",
       "      <td>180500.0</td>\n",
       "      <td>185500.0</td>\n",
       "      <td>177000.0</td>\n",
       "      <td>1658643.0</td>\n",
       "    </tr>\n",
       "    <tr>\n",
       "      <th>4</th>\n",
       "      <td>2020.10.20</td>\n",
       "      <td>182500.0</td>\n",
       "      <td>6500.0</td>\n",
       "      <td>190000.0</td>\n",
       "      <td>193500.0</td>\n",
       "      <td>176000.0</td>\n",
       "      <td>1811616.0</td>\n",
       "    </tr>\n",
       "    <tr>\n",
       "      <th>5</th>\n",
       "      <td>2020.10.19</td>\n",
       "      <td>189000.0</td>\n",
       "      <td>11500.0</td>\n",
       "      <td>198500.0</td>\n",
       "      <td>202500.0</td>\n",
       "      <td>187000.0</td>\n",
       "      <td>1977996.0</td>\n",
       "    </tr>\n",
       "    <tr>\n",
       "      <th>9</th>\n",
       "      <td>2020.10.16</td>\n",
       "      <td>200500.0</td>\n",
       "      <td>57500.0</td>\n",
       "      <td>253000.0</td>\n",
       "      <td>253000.0</td>\n",
       "      <td>199000.0</td>\n",
       "      <td>4504395.0</td>\n",
       "    </tr>\n",
       "    <tr>\n",
       "      <th>10</th>\n",
       "      <td>2020.10.15</td>\n",
       "      <td>258000.0</td>\n",
       "      <td>12000.0</td>\n",
       "      <td>270000.0</td>\n",
       "      <td>351000.0</td>\n",
       "      <td>253500.0</td>\n",
       "      <td>6557212.0</td>\n",
       "    </tr>\n",
       "  </tbody>\n",
       "</table>\n",
       "</div>"
      ],
      "text/plain": [
       "            날짜        종가      전일비        시가        고가        저가        거래량\n",
       "3   2020.10.21  179000.0   3500.0  180500.0  185500.0  177000.0  1658643.0\n",
       "4   2020.10.20  182500.0   6500.0  190000.0  193500.0  176000.0  1811616.0\n",
       "5   2020.10.19  189000.0  11500.0  198500.0  202500.0  187000.0  1977996.0\n",
       "9   2020.10.16  200500.0  57500.0  253000.0  253000.0  199000.0  4504395.0\n",
       "10  2020.10.15  258000.0  12000.0  270000.0  351000.0  253500.0  6557212.0"
      ]
     },
     "execution_count": 22,
     "metadata": {},
     "output_type": "execute_result"
    }
   ],
   "source": [
    "df.tail()"
   ]
  },
  {
   "cell_type": "markdown",
   "metadata": {
    "id": "DdML6w8yTMkA"
   },
   "source": [
    "## 데이터프레임에 종목코드와 종목명을 추가하기\n",
    "* 파생변수 만들기"
   ]
  },
  {
   "cell_type": "code",
   "execution_count": 23,
   "metadata": {
    "id": "-yIDnlZHTMkA"
   },
   "outputs": [],
   "source": [
    "# '종목코드'와 '종목명' column을 추가하면서 각각 item_code와 item_name 값을 입력합니다.\n",
    "df[\"종목코드\"] = item_code\n",
    "df[\"종목명\"] = item_name"
   ]
  },
  {
   "cell_type": "code",
   "execution_count": 24,
   "metadata": {
    "id": "bwDA0C4PTMkA"
   },
   "outputs": [
    {
     "data": {
      "text/html": [
       "<div>\n",
       "<style scoped>\n",
       "    .dataframe tbody tr th:only-of-type {\n",
       "        vertical-align: middle;\n",
       "    }\n",
       "\n",
       "    .dataframe tbody tr th {\n",
       "        vertical-align: top;\n",
       "    }\n",
       "\n",
       "    .dataframe thead th {\n",
       "        text-align: right;\n",
       "    }\n",
       "</style>\n",
       "<table border=\"1\" class=\"dataframe\">\n",
       "  <thead>\n",
       "    <tr style=\"text-align: right;\">\n",
       "      <th></th>\n",
       "      <th>날짜</th>\n",
       "      <th>종가</th>\n",
       "      <th>전일비</th>\n",
       "      <th>시가</th>\n",
       "      <th>고가</th>\n",
       "      <th>저가</th>\n",
       "      <th>거래량</th>\n",
       "      <th>종목코드</th>\n",
       "      <th>종목명</th>\n",
       "    </tr>\n",
       "  </thead>\n",
       "  <tbody>\n",
       "    <tr>\n",
       "      <th>1</th>\n",
       "      <td>2021.07.28</td>\n",
       "      <td>122000.0</td>\n",
       "      <td>0.0</td>\n",
       "      <td>121500.0</td>\n",
       "      <td>122000.0</td>\n",
       "      <td>121000.0</td>\n",
       "      <td>6746.0</td>\n",
       "      <td>352820</td>\n",
       "      <td>하이브</td>\n",
       "    </tr>\n",
       "    <tr>\n",
       "      <th>2</th>\n",
       "      <td>2021.07.27</td>\n",
       "      <td>122000.0</td>\n",
       "      <td>1500.0</td>\n",
       "      <td>121000.0</td>\n",
       "      <td>122500.0</td>\n",
       "      <td>120500.0</td>\n",
       "      <td>146705.0</td>\n",
       "      <td>352820</td>\n",
       "      <td>하이브</td>\n",
       "    </tr>\n",
       "  </tbody>\n",
       "</table>\n",
       "</div>"
      ],
      "text/plain": [
       "           날짜        종가     전일비        시가        고가        저가       거래량  \\\n",
       "1  2021.07.28  122000.0     0.0  121500.0  122000.0  121000.0    6746.0   \n",
       "2  2021.07.27  122000.0  1500.0  121000.0  122500.0  120500.0  146705.0   \n",
       "\n",
       "     종목코드  종목명  \n",
       "1  352820  하이브  \n",
       "2  352820  하이브  "
      ]
     },
     "execution_count": 24,
     "metadata": {},
     "output_type": "execute_result"
    }
   ],
   "source": [
    "df.head(2)"
   ]
  },
  {
   "cell_type": "markdown",
   "metadata": {
    "id": "3RlnKPE1TMkA"
   },
   "source": [
    "## 컬럼 순서 변경하기"
   ]
  },
  {
   "cell_type": "code",
   "execution_count": 25,
   "metadata": {
    "id": "JblNSbuRTMkA"
   },
   "outputs": [
    {
     "data": {
      "text/plain": [
       "Index(['날짜', '종가', '전일비', '시가', '고가', '저가', '거래량', '종목코드', '종목명'], dtype='object')"
      ]
     },
     "execution_count": 25,
     "metadata": {},
     "output_type": "execute_result"
    }
   ],
   "source": [
    "# DataFrame에서 column 들의 이름을 순서를 조정하여 column순서를 변경할 수 있습니다.\n",
    "df.columns"
   ]
  },
  {
   "cell_type": "code",
   "execution_count": 26,
   "metadata": {},
   "outputs": [
    {
     "data": {
      "text/html": [
       "<div>\n",
       "<style scoped>\n",
       "    .dataframe tbody tr th:only-of-type {\n",
       "        vertical-align: middle;\n",
       "    }\n",
       "\n",
       "    .dataframe tbody tr th {\n",
       "        vertical-align: top;\n",
       "    }\n",
       "\n",
       "    .dataframe thead th {\n",
       "        text-align: right;\n",
       "    }\n",
       "</style>\n",
       "<table border=\"1\" class=\"dataframe\">\n",
       "  <thead>\n",
       "    <tr style=\"text-align: right;\">\n",
       "      <th></th>\n",
       "      <th>종목코드</th>\n",
       "      <th>종목명</th>\n",
       "      <th>날짜</th>\n",
       "      <th>종가</th>\n",
       "      <th>전일비</th>\n",
       "      <th>시가</th>\n",
       "      <th>고가</th>\n",
       "      <th>저가</th>\n",
       "      <th>거래량</th>\n",
       "    </tr>\n",
       "  </thead>\n",
       "  <tbody>\n",
       "    <tr>\n",
       "      <th>1</th>\n",
       "      <td>352820</td>\n",
       "      <td>하이브</td>\n",
       "      <td>2021.07.28</td>\n",
       "      <td>122000.0</td>\n",
       "      <td>0.0</td>\n",
       "      <td>121500.0</td>\n",
       "      <td>122000.0</td>\n",
       "      <td>121000.0</td>\n",
       "      <td>6746.0</td>\n",
       "    </tr>\n",
       "    <tr>\n",
       "      <th>2</th>\n",
       "      <td>352820</td>\n",
       "      <td>하이브</td>\n",
       "      <td>2021.07.27</td>\n",
       "      <td>122000.0</td>\n",
       "      <td>1500.0</td>\n",
       "      <td>121000.0</td>\n",
       "      <td>122500.0</td>\n",
       "      <td>120500.0</td>\n",
       "      <td>146705.0</td>\n",
       "    </tr>\n",
       "    <tr>\n",
       "      <th>3</th>\n",
       "      <td>352820</td>\n",
       "      <td>하이브</td>\n",
       "      <td>2021.07.26</td>\n",
       "      <td>120500.0</td>\n",
       "      <td>1500.0</td>\n",
       "      <td>122500.0</td>\n",
       "      <td>123000.0</td>\n",
       "      <td>120000.0</td>\n",
       "      <td>221231.0</td>\n",
       "    </tr>\n",
       "    <tr>\n",
       "      <th>4</th>\n",
       "      <td>352820</td>\n",
       "      <td>하이브</td>\n",
       "      <td>2021.07.23</td>\n",
       "      <td>122000.0</td>\n",
       "      <td>2000.0</td>\n",
       "      <td>124000.0</td>\n",
       "      <td>125000.0</td>\n",
       "      <td>122000.0</td>\n",
       "      <td>235444.0</td>\n",
       "    </tr>\n",
       "    <tr>\n",
       "      <th>5</th>\n",
       "      <td>352820</td>\n",
       "      <td>하이브</td>\n",
       "      <td>2021.07.22</td>\n",
       "      <td>124000.0</td>\n",
       "      <td>1000.0</td>\n",
       "      <td>125000.0</td>\n",
       "      <td>125000.0</td>\n",
       "      <td>123000.0</td>\n",
       "      <td>155904.0</td>\n",
       "    </tr>\n",
       "    <tr>\n",
       "      <th>...</th>\n",
       "      <td>...</td>\n",
       "      <td>...</td>\n",
       "      <td>...</td>\n",
       "      <td>...</td>\n",
       "      <td>...</td>\n",
       "      <td>...</td>\n",
       "      <td>...</td>\n",
       "      <td>...</td>\n",
       "      <td>...</td>\n",
       "    </tr>\n",
       "    <tr>\n",
       "      <th>3</th>\n",
       "      <td>352820</td>\n",
       "      <td>하이브</td>\n",
       "      <td>2020.10.21</td>\n",
       "      <td>179000.0</td>\n",
       "      <td>3500.0</td>\n",
       "      <td>180500.0</td>\n",
       "      <td>185500.0</td>\n",
       "      <td>177000.0</td>\n",
       "      <td>1658643.0</td>\n",
       "    </tr>\n",
       "    <tr>\n",
       "      <th>4</th>\n",
       "      <td>352820</td>\n",
       "      <td>하이브</td>\n",
       "      <td>2020.10.20</td>\n",
       "      <td>182500.0</td>\n",
       "      <td>6500.0</td>\n",
       "      <td>190000.0</td>\n",
       "      <td>193500.0</td>\n",
       "      <td>176000.0</td>\n",
       "      <td>1811616.0</td>\n",
       "    </tr>\n",
       "    <tr>\n",
       "      <th>5</th>\n",
       "      <td>352820</td>\n",
       "      <td>하이브</td>\n",
       "      <td>2020.10.19</td>\n",
       "      <td>189000.0</td>\n",
       "      <td>11500.0</td>\n",
       "      <td>198500.0</td>\n",
       "      <td>202500.0</td>\n",
       "      <td>187000.0</td>\n",
       "      <td>1977996.0</td>\n",
       "    </tr>\n",
       "    <tr>\n",
       "      <th>9</th>\n",
       "      <td>352820</td>\n",
       "      <td>하이브</td>\n",
       "      <td>2020.10.16</td>\n",
       "      <td>200500.0</td>\n",
       "      <td>57500.0</td>\n",
       "      <td>253000.0</td>\n",
       "      <td>253000.0</td>\n",
       "      <td>199000.0</td>\n",
       "      <td>4504395.0</td>\n",
       "    </tr>\n",
       "    <tr>\n",
       "      <th>10</th>\n",
       "      <td>352820</td>\n",
       "      <td>하이브</td>\n",
       "      <td>2020.10.15</td>\n",
       "      <td>258000.0</td>\n",
       "      <td>12000.0</td>\n",
       "      <td>270000.0</td>\n",
       "      <td>351000.0</td>\n",
       "      <td>253500.0</td>\n",
       "      <td>6557212.0</td>\n",
       "    </tr>\n",
       "  </tbody>\n",
       "</table>\n",
       "<p>888 rows × 9 columns</p>\n",
       "</div>"
      ],
      "text/plain": [
       "      종목코드  종목명          날짜        종가      전일비        시가        고가        저가  \\\n",
       "1   352820  하이브  2021.07.28  122000.0      0.0  121500.0  122000.0  121000.0   \n",
       "2   352820  하이브  2021.07.27  122000.0   1500.0  121000.0  122500.0  120500.0   \n",
       "3   352820  하이브  2021.07.26  120500.0   1500.0  122500.0  123000.0  120000.0   \n",
       "4   352820  하이브  2021.07.23  122000.0   2000.0  124000.0  125000.0  122000.0   \n",
       "5   352820  하이브  2021.07.22  124000.0   1000.0  125000.0  125000.0  123000.0   \n",
       "..     ...  ...         ...       ...      ...       ...       ...       ...   \n",
       "3   352820  하이브  2020.10.21  179000.0   3500.0  180500.0  185500.0  177000.0   \n",
       "4   352820  하이브  2020.10.20  182500.0   6500.0  190000.0  193500.0  176000.0   \n",
       "5   352820  하이브  2020.10.19  189000.0  11500.0  198500.0  202500.0  187000.0   \n",
       "9   352820  하이브  2020.10.16  200500.0  57500.0  253000.0  253000.0  199000.0   \n",
       "10  352820  하이브  2020.10.15  258000.0  12000.0  270000.0  351000.0  253500.0   \n",
       "\n",
       "          거래량  \n",
       "1      6746.0  \n",
       "2    146705.0  \n",
       "3    221231.0  \n",
       "4    235444.0  \n",
       "5    155904.0  \n",
       "..        ...  \n",
       "3   1658643.0  \n",
       "4   1811616.0  \n",
       "5   1977996.0  \n",
       "9   4504395.0  \n",
       "10  6557212.0  \n",
       "\n",
       "[888 rows x 9 columns]"
      ]
     },
     "execution_count": 26,
     "metadata": {},
     "output_type": "execute_result"
    }
   ],
   "source": [
    "cols = ['종목코드', '종목명', '날짜', '종가', '전일비', '시가', '고가', '저가', '거래량']\n",
    "df[cols]"
   ]
  },
  {
   "cell_type": "markdown",
   "metadata": {
    "id": "_-SXjeiSTMkA"
   },
   "source": [
    "## 중복데이터 제거하기\n",
    "* drop_duplicates 를 통해 중복된 데이터가 있다면 제거합니다."
   ]
  },
  {
   "cell_type": "code",
   "execution_count": null,
   "metadata": {
    "id": "F0VZGMNRTMkA"
   },
   "outputs": [],
   "source": [
    "# drop_duplicates : row들 끼리 data를 비교하여 같은 값이 있으면 row중 하나를 삭제\n",
    "# df.shape를 전/후로 출력하여 삭제된 row가 있는지 확인\n"
   ]
  },
  {
   "cell_type": "markdown",
   "metadata": {
    "id": "viEbEi4iTMkB"
   },
   "source": [
    "## 기술통계값 구하기"
   ]
  },
  {
   "cell_type": "code",
   "execution_count": null,
   "metadata": {
    "id": "Q-gV-QPPTMkB"
   },
   "outputs": [],
   "source": [
    "# describe는 기본적으로 수치데이터에 대한 기술통계값을 구하게 됩니다.\n"
   ]
  },
  {
   "cell_type": "markdown",
   "metadata": {},
   "source": [
    "* 참고 : E notation\n",
    "[과학적 기수법 - 위키백과, 우리 모두의 백과사전](https://ko.wikipedia.org/wiki/%EA%B3%BC%ED%95%99%EC%A0%81_%EA%B8%B0%EC%88%98%EB%B2%95)\n",
    "\n",
    "과학적 기수법, 과학적 표기법(scientific notation, scientific form, standard index form, standard form)은 너무 크거나 너무 작은 숫자들을 십진법으로 편하게 작성하여 표현하는 방법이다. 과학자, 수학자, 공학자들이 공통적으로 사용하는데, 부분적인 이유는 특정한 산술을 단순화시켜 주기 때문이다. 과학 계산기에서는 \"SCI\" 디스플레이 모드라는 이름으로 알려져 있다."
   ]
  },
  {
   "cell_type": "code",
   "execution_count": 35,
   "metadata": {},
   "outputs": [],
   "source": [
    "# 거래량의 과학적 기수법 읽기\n"
   ]
  },
  {
   "cell_type": "markdown",
   "metadata": {
    "id": "Ql0phnyuTMkB"
   },
   "source": [
    "## 최근 날짜 구해서 파일명 만들기"
   ]
  },
  {
   "cell_type": "code",
   "execution_count": 34,
   "metadata": {
    "id": "_dyLUpVVTMkB"
   },
   "outputs": [
    {
     "data": {
      "text/plain": [
       "'2021.07.28'"
      ]
     },
     "execution_count": 34,
     "metadata": {},
     "output_type": "execute_result"
    }
   ],
   "source": [
    "# 날짜 column의 첫 row값 확인\n",
    "date = df.iloc[0,0]\n",
    "date\n"
   ]
  },
  {
   "cell_type": "code",
   "execution_count": 37,
   "metadata": {
    "id": "teInPugvTMkB"
   },
   "outputs": [
    {
     "data": {
      "text/plain": [
       "'하이브_352820_2021.07.28.csv'"
      ]
     },
     "execution_count": 37,
     "metadata": {},
     "output_type": "execute_result"
    }
   ],
   "source": [
    "# 종목명, 종목코드, 날짜를 이름으로 하는 csv 파일명 만들기\n",
    "# file_name\n",
    "file_name = f\"{item_name}_{item_code}_{date}.csv\"\n",
    "file_name"
   ]
  },
  {
   "cell_type": "markdown",
   "metadata": {
    "id": "1LXe-dutTMkB"
   },
   "source": [
    "## 파일로 저장하기"
   ]
  },
  {
   "cell_type": "code",
   "execution_count": 38,
   "metadata": {
    "id": "dBRXOwIxTMkB"
   },
   "outputs": [],
   "source": [
    "# 파일로 저장하기 \n",
    "# index=False 로 데이터프레임의 기본 index 는 저장하지 않도록 합니다.\n",
    "df.to_csv(file_name, index=False)"
   ]
  },
  {
   "cell_type": "code",
   "execution_count": 39,
   "metadata": {
    "id": "EEfm9Yk9TMkB"
   },
   "outputs": [
    {
     "data": {
      "text/html": [
       "<div>\n",
       "<style scoped>\n",
       "    .dataframe tbody tr th:only-of-type {\n",
       "        vertical-align: middle;\n",
       "    }\n",
       "\n",
       "    .dataframe tbody tr th {\n",
       "        vertical-align: top;\n",
       "    }\n",
       "\n",
       "    .dataframe thead th {\n",
       "        text-align: right;\n",
       "    }\n",
       "</style>\n",
       "<table border=\"1\" class=\"dataframe\">\n",
       "  <thead>\n",
       "    <tr style=\"text-align: right;\">\n",
       "      <th></th>\n",
       "      <th>날짜</th>\n",
       "      <th>종가</th>\n",
       "      <th>전일비</th>\n",
       "      <th>시가</th>\n",
       "      <th>고가</th>\n",
       "      <th>저가</th>\n",
       "      <th>거래량</th>\n",
       "      <th>종목코드</th>\n",
       "      <th>종목명</th>\n",
       "    </tr>\n",
       "  </thead>\n",
       "  <tbody>\n",
       "    <tr>\n",
       "      <th>0</th>\n",
       "      <td>2021.07.28</td>\n",
       "      <td>122000.0</td>\n",
       "      <td>0.0</td>\n",
       "      <td>121500.0</td>\n",
       "      <td>122000.0</td>\n",
       "      <td>121000.0</td>\n",
       "      <td>6746.0</td>\n",
       "      <td>352820</td>\n",
       "      <td>하이브</td>\n",
       "    </tr>\n",
       "    <tr>\n",
       "      <th>1</th>\n",
       "      <td>2021.07.27</td>\n",
       "      <td>122000.0</td>\n",
       "      <td>1500.0</td>\n",
       "      <td>121000.0</td>\n",
       "      <td>122500.0</td>\n",
       "      <td>120500.0</td>\n",
       "      <td>146705.0</td>\n",
       "      <td>352820</td>\n",
       "      <td>하이브</td>\n",
       "    </tr>\n",
       "    <tr>\n",
       "      <th>2</th>\n",
       "      <td>2021.07.26</td>\n",
       "      <td>120500.0</td>\n",
       "      <td>1500.0</td>\n",
       "      <td>122500.0</td>\n",
       "      <td>123000.0</td>\n",
       "      <td>120000.0</td>\n",
       "      <td>221231.0</td>\n",
       "      <td>352820</td>\n",
       "      <td>하이브</td>\n",
       "    </tr>\n",
       "    <tr>\n",
       "      <th>3</th>\n",
       "      <td>2021.07.23</td>\n",
       "      <td>122000.0</td>\n",
       "      <td>2000.0</td>\n",
       "      <td>124000.0</td>\n",
       "      <td>125000.0</td>\n",
       "      <td>122000.0</td>\n",
       "      <td>235444.0</td>\n",
       "      <td>352820</td>\n",
       "      <td>하이브</td>\n",
       "    </tr>\n",
       "    <tr>\n",
       "      <th>4</th>\n",
       "      <td>2021.07.22</td>\n",
       "      <td>124000.0</td>\n",
       "      <td>1000.0</td>\n",
       "      <td>125000.0</td>\n",
       "      <td>125000.0</td>\n",
       "      <td>123000.0</td>\n",
       "      <td>155904.0</td>\n",
       "      <td>352820</td>\n",
       "      <td>하이브</td>\n",
       "    </tr>\n",
       "    <tr>\n",
       "      <th>...</th>\n",
       "      <td>...</td>\n",
       "      <td>...</td>\n",
       "      <td>...</td>\n",
       "      <td>...</td>\n",
       "      <td>...</td>\n",
       "      <td>...</td>\n",
       "      <td>...</td>\n",
       "      <td>...</td>\n",
       "      <td>...</td>\n",
       "    </tr>\n",
       "    <tr>\n",
       "      <th>883</th>\n",
       "      <td>2020.10.21</td>\n",
       "      <td>179000.0</td>\n",
       "      <td>3500.0</td>\n",
       "      <td>180500.0</td>\n",
       "      <td>185500.0</td>\n",
       "      <td>177000.0</td>\n",
       "      <td>1658643.0</td>\n",
       "      <td>352820</td>\n",
       "      <td>하이브</td>\n",
       "    </tr>\n",
       "    <tr>\n",
       "      <th>884</th>\n",
       "      <td>2020.10.20</td>\n",
       "      <td>182500.0</td>\n",
       "      <td>6500.0</td>\n",
       "      <td>190000.0</td>\n",
       "      <td>193500.0</td>\n",
       "      <td>176000.0</td>\n",
       "      <td>1811616.0</td>\n",
       "      <td>352820</td>\n",
       "      <td>하이브</td>\n",
       "    </tr>\n",
       "    <tr>\n",
       "      <th>885</th>\n",
       "      <td>2020.10.19</td>\n",
       "      <td>189000.0</td>\n",
       "      <td>11500.0</td>\n",
       "      <td>198500.0</td>\n",
       "      <td>202500.0</td>\n",
       "      <td>187000.0</td>\n",
       "      <td>1977996.0</td>\n",
       "      <td>352820</td>\n",
       "      <td>하이브</td>\n",
       "    </tr>\n",
       "    <tr>\n",
       "      <th>886</th>\n",
       "      <td>2020.10.16</td>\n",
       "      <td>200500.0</td>\n",
       "      <td>57500.0</td>\n",
       "      <td>253000.0</td>\n",
       "      <td>253000.0</td>\n",
       "      <td>199000.0</td>\n",
       "      <td>4504395.0</td>\n",
       "      <td>352820</td>\n",
       "      <td>하이브</td>\n",
       "    </tr>\n",
       "    <tr>\n",
       "      <th>887</th>\n",
       "      <td>2020.10.15</td>\n",
       "      <td>258000.0</td>\n",
       "      <td>12000.0</td>\n",
       "      <td>270000.0</td>\n",
       "      <td>351000.0</td>\n",
       "      <td>253500.0</td>\n",
       "      <td>6557212.0</td>\n",
       "      <td>352820</td>\n",
       "      <td>하이브</td>\n",
       "    </tr>\n",
       "  </tbody>\n",
       "</table>\n",
       "<p>888 rows × 9 columns</p>\n",
       "</div>"
      ],
      "text/plain": [
       "             날짜        종가      전일비        시가        고가        저가        거래량  \\\n",
       "0    2021.07.28  122000.0      0.0  121500.0  122000.0  121000.0     6746.0   \n",
       "1    2021.07.27  122000.0   1500.0  121000.0  122500.0  120500.0   146705.0   \n",
       "2    2021.07.26  120500.0   1500.0  122500.0  123000.0  120000.0   221231.0   \n",
       "3    2021.07.23  122000.0   2000.0  124000.0  125000.0  122000.0   235444.0   \n",
       "4    2021.07.22  124000.0   1000.0  125000.0  125000.0  123000.0   155904.0   \n",
       "..          ...       ...      ...       ...       ...       ...        ...   \n",
       "883  2020.10.21  179000.0   3500.0  180500.0  185500.0  177000.0  1658643.0   \n",
       "884  2020.10.20  182500.0   6500.0  190000.0  193500.0  176000.0  1811616.0   \n",
       "885  2020.10.19  189000.0  11500.0  198500.0  202500.0  187000.0  1977996.0   \n",
       "886  2020.10.16  200500.0  57500.0  253000.0  253000.0  199000.0  4504395.0   \n",
       "887  2020.10.15  258000.0  12000.0  270000.0  351000.0  253500.0  6557212.0   \n",
       "\n",
       "       종목코드  종목명  \n",
       "0    352820  하이브  \n",
       "1    352820  하이브  \n",
       "2    352820  하이브  \n",
       "3    352820  하이브  \n",
       "4    352820  하이브  \n",
       "..      ...  ...  \n",
       "883  352820  하이브  \n",
       "884  352820  하이브  \n",
       "885  352820  하이브  \n",
       "886  352820  하이브  \n",
       "887  352820  하이브  \n",
       "\n",
       "[888 rows x 9 columns]"
      ]
     },
     "execution_count": 39,
     "metadata": {},
     "output_type": "execute_result"
    }
   ],
   "source": [
    "# 제대로 저장되었는지 파일을 읽어서 확인합니다.\n",
    "pd.read_csv(file_name)"
   ]
  },
  {
   "cell_type": "markdown",
   "metadata": {},
   "source": [
    "## 전체 과정을 하나의 함수로 만들기"
   ]
  },
  {
   "cell_type": "code",
   "execution_count": 54,
   "metadata": {},
   "outputs": [],
   "source": [
    "from tqdm import tqdm\n",
    "def get_item_list(item_code, item_name):\n",
    "    \"\"\"\n",
    "    일별 시세를 수집하는 함수\n",
    "    \"\"\"\n",
    "    # 페이지별 결과를 받을 리스트를 초기화\n",
    "    item_list = []\n",
    "    \n",
    "    #페이지 번호 초기화\n",
    "    page_no = 1\n",
    "    \n",
    "    while True:\n",
    "        \n",
    "        # 수집함수\n",
    "        temp = get_day_list(item_code, page_no)\n",
    "    \n",
    "        # 두번째 페이지부터 확인\n",
    "        if page_no > 1:\n",
    "            pre_date = item_list[-1]['날짜'].tolist()[0]\n",
    "            now_date = temp['날짜'].tolist()[0]\n",
    "            if pre_date == now_date:\n",
    "                break\n",
    "            \n",
    "        item_list.append(temp)\n",
    "    \n",
    "        #서버에 부담을 주지 않기 위해 시간차를 두고 가져온다\n",
    "        random_time = np.random.uniform(0.1, 0.5)\n",
    "        time.sleep(random_time)\n",
    "    \n",
    "        page_no = page_no + 1\n",
    "    \n",
    "        # 5페이지 단위로 현재 몇 페이지인지를 출력\n",
    "        if page_no % 5 == 0:\n",
    "            print(page_no)\n",
    "    # 전처리\n",
    "    df = pd.concat(item_list)\n",
    "    df['종목코드'] = item_code\n",
    "    df['종목명'] = item_name\n",
    "    cols = ['종목코드', '종목명', '날짜', '종가', '전일비', '시가', '고가', '저가', '거래량']\n",
    "    df = df[cols].copy()\n",
    "    \n",
    "    date = df.iloc[0,0]\n",
    "    file_name = f\"{item_name}_{item_code}_{date}.csv\"\n",
    "    df.to_csv(file_name, index=False)\n",
    "    return True"
   ]
  },
  {
   "cell_type": "code",
   "execution_count": 55,
   "metadata": {},
   "outputs": [
    {
     "name": "stdout",
     "output_type": "stream",
     "text": [
      "5\n",
      "10\n",
      "15\n",
      "20\n",
      "25\n"
     ]
    },
    {
     "data": {
      "text/plain": [
       "True"
      ]
     },
     "execution_count": 55,
     "metadata": {},
     "output_type": "execute_result"
    }
   ],
   "source": [
    "# item_code = \"352820\"\n",
    "# item_name = \"하이브\"\n",
    "# 빅히트의 사명이 하이브로 변경되었습니다.\n",
    "\n",
    "item_code = \"326030\"\n",
    "item_name = \"SK바이오팜\"\n",
    "get_item_list(item_code, item_name)"
   ]
  },
  {
   "cell_type": "markdown",
   "metadata": {},
   "source": [
    "## 내가 만든 함수의 기능과 소스코드가 궁금하다면?"
   ]
  },
  {
   "cell_type": "code",
   "execution_count": null,
   "metadata": {},
   "outputs": [],
   "source": [
    "# 도움말 보기\n",
    "# get_item_list?\n"
   ]
  },
  {
   "cell_type": "code",
   "execution_count": null,
   "metadata": {},
   "outputs": [],
   "source": [
    "# 소스코드 보기\n",
    "# get_item_list??\n"
   ]
  },
  {
   "cell_type": "code",
   "execution_count": null,
   "metadata": {},
   "outputs": [],
   "source": []
  }
 ],
 "metadata": {
  "colab": {
   "collapsed_sections": [],
   "name": "3. 네이버금융 개별종목 수집.ipynb",
   "provenance": [],
   "toc_visible": true
  },
  "kernelspec": {
   "display_name": "Python 3",
   "language": "python",
   "name": "python3"
  },
  "language_info": {
   "codemirror_mode": {
    "name": "ipython",
    "version": 3
   },
   "file_extension": ".py",
   "mimetype": "text/x-python",
   "name": "python",
   "nbconvert_exporter": "python",
   "pygments_lexer": "ipython3",
   "version": "3.8.3"
  },
  "toc": {
   "base_numbering": 1,
   "nav_menu": {},
   "number_sections": true,
   "sideBar": true,
   "skip_h1_title": false,
   "title_cell": "Table of Contents",
   "title_sidebar": "Contents",
   "toc_cell": false,
   "toc_position": {
    "height": "calc(100% - 180px)",
    "left": "10px",
    "top": "150px",
    "width": "204.797px"
   },
   "toc_section_display": true,
   "toc_window_display": true
  },
  "varInspector": {
   "cols": {
    "lenName": 16,
    "lenType": 16,
    "lenVar": 40
   },
   "kernels_config": {
    "python": {
     "delete_cmd_postfix": "",
     "delete_cmd_prefix": "del ",
     "library": "var_list.py",
     "varRefreshCmd": "print(var_dic_list())"
    },
    "r": {
     "delete_cmd_postfix": ") ",
     "delete_cmd_prefix": "rm(",
     "library": "var_list.r",
     "varRefreshCmd": "cat(var_dic_list()) "
    }
   },
   "types_to_exclude": [
    "module",
    "function",
    "builtin_function_or_method",
    "instance",
    "_Feature"
   ],
   "window_display": false
  }
 },
 "nbformat": 4,
 "nbformat_minor": 1
}
