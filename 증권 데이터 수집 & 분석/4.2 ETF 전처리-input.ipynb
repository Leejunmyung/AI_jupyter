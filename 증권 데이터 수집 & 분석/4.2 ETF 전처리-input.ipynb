{
 "cells": [
  {
   "cell_type": "markdown",
   "metadata": {
    "id": "t3V7lAmnBYko"
   },
   "source": [
    "[![Open In Colab](https://colab.research.google.com/assets/colab-badge.svg)](https://colab.research.google.com/github/corazzon/finance-data-analysis/blob/main/4.2%20ETF%20%EC%A0%84%EC%B2%98%EB%A6%AC-input.ipynb)\n",
    "\n",
    "* [ETF : 네이버 금융](https://finance.naver.com/sise/etf.nhn) 에서 수집한 데이터를 전처리 합니다.\n",
    "* keyword\n",
    "    * rename column\n",
    "    * .map(lambda x : x)\n",
    "    * text data\n",
    "        * str.contains()\n",
    "        * str.replace()\n",
    "        * str.split(\"구분자\", expand=True)\n",
    "        * str[:]\n",
    "\n",
    "## 데이터 로드와 요약"
   ]
  },
  {
   "cell_type": "code",
   "execution_count": 4,
   "metadata": {
    "id": "sUwAAMjsBYko"
   },
   "outputs": [],
   "source": [
    "# 데이터 분석을 위한 pandas, 수치계산을 위한 numpy라이브러리를 로드합니다.\n",
    "import pandas as pd\n",
    "import numpy as np"
   ]
  },
  {
   "cell_type": "code",
   "execution_count": 21,
   "metadata": {},
   "outputs": [
    {
     "data": {
      "text/plain": [
       "'etf_2021_07_28_raw.csv'"
      ]
     },
     "execution_count": 21,
     "metadata": {},
     "output_type": "execute_result"
    }
   ],
   "source": [
    "# 이전 실습에서 저장한 파일명을 file_name에 적어주세요.\n",
    "file_name = \"etf_2021_07_28_raw.csv\"\n",
    "file_name"
   ]
  },
  {
   "cell_type": "code",
   "execution_count": 22,
   "metadata": {
    "id": "cyivYjVFBYkp"
   },
   "outputs": [
    {
     "data": {
      "text/plain": [
       "(489, 12)"
      ]
     },
     "execution_count": 22,
     "metadata": {},
     "output_type": "execute_result"
    }
   ],
   "source": [
    "# 이전 수업에서 수집해서 저장해둔 csv 파일을 읽어옵니다.\n",
    "# itemcode 숫자 앞의 0 이 지워진다면 dtype={\"itemcode\": np.object} 로 타입을 지정해 주면 문자형태로 읽어옵니다.\n",
    "# df\n",
    "df = pd.read_csv(file_name, dtype={'itemcode':np.object})\n",
    "df.shape"
   ]
  },
  {
   "cell_type": "code",
   "execution_count": 24,
   "metadata": {
    "id": "VgCji4_wBYkp"
   },
   "outputs": [
    {
     "data": {
      "text/html": [
       "<div>\n",
       "<style scoped>\n",
       "    .dataframe tbody tr th:only-of-type {\n",
       "        vertical-align: middle;\n",
       "    }\n",
       "\n",
       "    .dataframe tbody tr th {\n",
       "        vertical-align: top;\n",
       "    }\n",
       "\n",
       "    .dataframe thead th {\n",
       "        text-align: right;\n",
       "    }\n",
       "</style>\n",
       "<table border=\"1\" class=\"dataframe\">\n",
       "  <thead>\n",
       "    <tr style=\"text-align: right;\">\n",
       "      <th></th>\n",
       "      <th>itemcode</th>\n",
       "      <th>etfTabCode</th>\n",
       "      <th>itemname</th>\n",
       "      <th>nowVal</th>\n",
       "      <th>risefall</th>\n",
       "      <th>changeVal</th>\n",
       "      <th>changeRate</th>\n",
       "      <th>nav</th>\n",
       "      <th>threeMonthEarnRate</th>\n",
       "      <th>quant</th>\n",
       "      <th>amonut</th>\n",
       "      <th>marketSum</th>\n",
       "    </tr>\n",
       "  </thead>\n",
       "  <tbody>\n",
       "    <tr>\n",
       "      <th>0</th>\n",
       "      <td>069500</td>\n",
       "      <td>1</td>\n",
       "      <td>KODEX 200</td>\n",
       "      <td>43005</td>\n",
       "      <td>2</td>\n",
       "      <td>130</td>\n",
       "      <td>0.30</td>\n",
       "      <td>43027.0</td>\n",
       "      <td>-0.7363</td>\n",
       "      <td>2409683</td>\n",
       "      <td>103245</td>\n",
       "      <td>41672</td>\n",
       "    </tr>\n",
       "    <tr>\n",
       "      <th>1</th>\n",
       "      <td>153130</td>\n",
       "      <td>6</td>\n",
       "      <td>KODEX 단기채권</td>\n",
       "      <td>102845</td>\n",
       "      <td>3</td>\n",
       "      <td>0</td>\n",
       "      <td>0.00</td>\n",
       "      <td>102846.0</td>\n",
       "      <td>0.0340</td>\n",
       "      <td>16993</td>\n",
       "      <td>1747</td>\n",
       "      <td>24206</td>\n",
       "    </tr>\n",
       "    <tr>\n",
       "      <th>2</th>\n",
       "      <td>252670</td>\n",
       "      <td>3</td>\n",
       "      <td>KODEX 200선물인버스2X</td>\n",
       "      <td>1930</td>\n",
       "      <td>5</td>\n",
       "      <td>-10</td>\n",
       "      <td>-0.52</td>\n",
       "      <td>1930.0</td>\n",
       "      <td>0.0000</td>\n",
       "      <td>208047261</td>\n",
       "      <td>403732</td>\n",
       "      <td>22070</td>\n",
       "    </tr>\n",
       "    <tr>\n",
       "      <th>3</th>\n",
       "      <td>102110</td>\n",
       "      <td>1</td>\n",
       "      <td>TIGER 200</td>\n",
       "      <td>43020</td>\n",
       "      <td>2</td>\n",
       "      <td>85</td>\n",
       "      <td>0.20</td>\n",
       "      <td>43060.0</td>\n",
       "      <td>-0.7054</td>\n",
       "      <td>917304</td>\n",
       "      <td>39354</td>\n",
       "      <td>21575</td>\n",
       "    </tr>\n",
       "    <tr>\n",
       "      <th>4</th>\n",
       "      <td>102780</td>\n",
       "      <td>2</td>\n",
       "      <td>KODEX 삼성그룹</td>\n",
       "      <td>10570</td>\n",
       "      <td>2</td>\n",
       "      <td>35</td>\n",
       "      <td>0.33</td>\n",
       "      <td>10594.0</td>\n",
       "      <td>3.2033</td>\n",
       "      <td>254361</td>\n",
       "      <td>2680</td>\n",
       "      <td>18180</td>\n",
       "    </tr>\n",
       "  </tbody>\n",
       "</table>\n",
       "</div>"
      ],
      "text/plain": [
       "  itemcode  etfTabCode          itemname  nowVal  risefall  changeVal  \\\n",
       "0   069500           1         KODEX 200   43005         2        130   \n",
       "1   153130           6        KODEX 단기채권  102845         3          0   \n",
       "2   252670           3  KODEX 200선물인버스2X    1930         5        -10   \n",
       "3   102110           1         TIGER 200   43020         2         85   \n",
       "4   102780           2        KODEX 삼성그룹   10570         2         35   \n",
       "\n",
       "   changeRate       nav  threeMonthEarnRate      quant  amonut  marketSum  \n",
       "0        0.30   43027.0             -0.7363    2409683  103245      41672  \n",
       "1        0.00  102846.0              0.0340      16993    1747      24206  \n",
       "2       -0.52    1930.0              0.0000  208047261  403732      22070  \n",
       "3        0.20   43060.0             -0.7054     917304   39354      21575  \n",
       "4        0.33   10594.0              3.2033     254361    2680      18180  "
      ]
     },
     "execution_count": 24,
     "metadata": {},
     "output_type": "execute_result"
    }
   ],
   "source": [
    "# 인덱스 번호 상단 5개의 데이터를 가져옵니다.\n",
    "# 데이터를 잘 읽어왔는지 확인합니다.\n",
    "df.head(5)"
   ]
  },
  {
   "cell_type": "code",
   "execution_count": 25,
   "metadata": {
    "id": "sFWU55-NBYkp"
   },
   "outputs": [
    {
     "data": {
      "text/html": [
       "<div>\n",
       "<style scoped>\n",
       "    .dataframe tbody tr th:only-of-type {\n",
       "        vertical-align: middle;\n",
       "    }\n",
       "\n",
       "    .dataframe tbody tr th {\n",
       "        vertical-align: top;\n",
       "    }\n",
       "\n",
       "    .dataframe thead th {\n",
       "        text-align: right;\n",
       "    }\n",
       "</style>\n",
       "<table border=\"1\" class=\"dataframe\">\n",
       "  <thead>\n",
       "    <tr style=\"text-align: right;\">\n",
       "      <th></th>\n",
       "      <th>itemcode</th>\n",
       "      <th>etfTabCode</th>\n",
       "      <th>itemname</th>\n",
       "      <th>nowVal</th>\n",
       "      <th>risefall</th>\n",
       "      <th>changeVal</th>\n",
       "      <th>changeRate</th>\n",
       "      <th>nav</th>\n",
       "      <th>threeMonthEarnRate</th>\n",
       "      <th>quant</th>\n",
       "      <th>amonut</th>\n",
       "      <th>marketSum</th>\n",
       "    </tr>\n",
       "  </thead>\n",
       "  <tbody>\n",
       "    <tr>\n",
       "      <th>484</th>\n",
       "      <td>267500</td>\n",
       "      <td>4</td>\n",
       "      <td>KBSTAR 미국장기국채선물인버스2X(합성 H)</td>\n",
       "      <td>5790</td>\n",
       "      <td>5</td>\n",
       "      <td>-60</td>\n",
       "      <td>-1.03</td>\n",
       "      <td>NaN</td>\n",
       "      <td>-11.8976</td>\n",
       "      <td>6161</td>\n",
       "      <td>35</td>\n",
       "      <td>26</td>\n",
       "    </tr>\n",
       "    <tr>\n",
       "      <th>485</th>\n",
       "      <td>287330</td>\n",
       "      <td>2</td>\n",
       "      <td>KBSTAR 200생활소비재</td>\n",
       "      <td>8880</td>\n",
       "      <td>2</td>\n",
       "      <td>30</td>\n",
       "      <td>0.34</td>\n",
       "      <td>8890.0</td>\n",
       "      <td>-1.7213</td>\n",
       "      <td>2235</td>\n",
       "      <td>19</td>\n",
       "      <td>21</td>\n",
       "    </tr>\n",
       "    <tr>\n",
       "      <th>486</th>\n",
       "      <td>334700</td>\n",
       "      <td>5</td>\n",
       "      <td>KBSTAR 팔라듐선물인버스(H)</td>\n",
       "      <td>4545</td>\n",
       "      <td>2</td>\n",
       "      <td>75</td>\n",
       "      <td>1.68</td>\n",
       "      <td>NaN</td>\n",
       "      <td>5.1764</td>\n",
       "      <td>1855</td>\n",
       "      <td>8</td>\n",
       "      <td>18</td>\n",
       "    </tr>\n",
       "    <tr>\n",
       "      <th>487</th>\n",
       "      <td>287310</td>\n",
       "      <td>2</td>\n",
       "      <td>KBSTAR 200경기소비재</td>\n",
       "      <td>11835</td>\n",
       "      <td>5</td>\n",
       "      <td>-80</td>\n",
       "      <td>-0.67</td>\n",
       "      <td>11871.0</td>\n",
       "      <td>3.1691</td>\n",
       "      <td>323</td>\n",
       "      <td>3</td>\n",
       "      <td>17</td>\n",
       "    </tr>\n",
       "    <tr>\n",
       "      <th>488</th>\n",
       "      <td>287320</td>\n",
       "      <td>2</td>\n",
       "      <td>KBSTAR 200산업재</td>\n",
       "      <td>13370</td>\n",
       "      <td>2</td>\n",
       "      <td>30</td>\n",
       "      <td>0.22</td>\n",
       "      <td>13371.0</td>\n",
       "      <td>9.1653</td>\n",
       "      <td>3382</td>\n",
       "      <td>45</td>\n",
       "      <td>16</td>\n",
       "    </tr>\n",
       "  </tbody>\n",
       "</table>\n",
       "</div>"
      ],
      "text/plain": [
       "    itemcode  etfTabCode                    itemname  nowVal  risefall  \\\n",
       "484   267500           4  KBSTAR 미국장기국채선물인버스2X(합성 H)    5790         5   \n",
       "485   287330           2             KBSTAR 200생활소비재    8880         2   \n",
       "486   334700           5          KBSTAR 팔라듐선물인버스(H)    4545         2   \n",
       "487   287310           2             KBSTAR 200경기소비재   11835         5   \n",
       "488   287320           2               KBSTAR 200산업재   13370         2   \n",
       "\n",
       "     changeVal  changeRate      nav  threeMonthEarnRate  quant  amonut  \\\n",
       "484        -60       -1.03      NaN            -11.8976   6161      35   \n",
       "485         30        0.34   8890.0             -1.7213   2235      19   \n",
       "486         75        1.68      NaN              5.1764   1855       8   \n",
       "487        -80       -0.67  11871.0              3.1691    323       3   \n",
       "488         30        0.22  13371.0              9.1653   3382      45   \n",
       "\n",
       "     marketSum  \n",
       "484         26  \n",
       "485         21  \n",
       "486         18  \n",
       "487         17  \n",
       "488         16  "
      ]
     },
     "execution_count": 25,
     "metadata": {},
     "output_type": "execute_result"
    }
   ],
   "source": [
    "# 인덱스 하단의 5개 데이터를 가져옵니다.\n",
    "# 데이터를 잘 읽어왔는지 확인합니다.\n",
    "df.tail(5)"
   ]
  },
  {
   "cell_type": "code",
   "execution_count": 26,
   "metadata": {
    "id": "LxSJgh3rBYkq",
    "scrolled": true
   },
   "outputs": [
    {
     "name": "stdout",
     "output_type": "stream",
     "text": [
      "<class 'pandas.core.frame.DataFrame'>\n",
      "RangeIndex: 489 entries, 0 to 488\n",
      "Data columns (total 12 columns):\n",
      " #   Column              Non-Null Count  Dtype  \n",
      "---  ------              --------------  -----  \n",
      " 0   itemcode            489 non-null    object \n",
      " 1   etfTabCode          489 non-null    int64  \n",
      " 2   itemname            489 non-null    object \n",
      " 3   nowVal              489 non-null    int64  \n",
      " 4   risefall            489 non-null    int64  \n",
      " 5   changeVal           489 non-null    int64  \n",
      " 6   changeRate          489 non-null    float64\n",
      " 7   nav                 348 non-null    float64\n",
      " 8   threeMonthEarnRate  467 non-null    float64\n",
      " 9   quant               489 non-null    int64  \n",
      " 10  amonut              489 non-null    int64  \n",
      " 11  marketSum           489 non-null    int64  \n",
      "dtypes: float64(3), int64(7), object(2)\n",
      "memory usage: 46.0+ KB\n"
     ]
    }
   ],
   "source": [
    "# info를 통해서 각 column들의 데이터타입과 결측치, 메모리 사용량 등을 볼 수 있습니다.\n",
    "df.info()"
   ]
  },
  {
   "cell_type": "markdown",
   "metadata": {},
   "source": [
    "* 웹사이트의 ETF 정보와 비교하며 어떤 컬럼이 어떤 값인지 확인합니다. \n",
    "* https://finance.naver.com/sise/etf.nhn "
   ]
  },
  {
   "cell_type": "code",
   "execution_count": 27,
   "metadata": {
    "id": "cdS2JB71BYkq"
   },
   "outputs": [
    {
     "data": {
      "text/html": [
       "<div>\n",
       "<style scoped>\n",
       "    .dataframe tbody tr th:only-of-type {\n",
       "        vertical-align: middle;\n",
       "    }\n",
       "\n",
       "    .dataframe tbody tr th {\n",
       "        vertical-align: top;\n",
       "    }\n",
       "\n",
       "    .dataframe thead th {\n",
       "        text-align: right;\n",
       "    }\n",
       "</style>\n",
       "<table border=\"1\" class=\"dataframe\">\n",
       "  <thead>\n",
       "    <tr style=\"text-align: right;\">\n",
       "      <th></th>\n",
       "      <th>itemcode</th>\n",
       "      <th>etfTabCode</th>\n",
       "      <th>itemname</th>\n",
       "      <th>nowVal</th>\n",
       "      <th>risefall</th>\n",
       "      <th>changeVal</th>\n",
       "      <th>changeRate</th>\n",
       "      <th>nav</th>\n",
       "      <th>threeMonthEarnRate</th>\n",
       "      <th>quant</th>\n",
       "      <th>amonut</th>\n",
       "      <th>marketSum</th>\n",
       "    </tr>\n",
       "  </thead>\n",
       "  <tbody>\n",
       "    <tr>\n",
       "      <th>2</th>\n",
       "      <td>252670</td>\n",
       "      <td>3</td>\n",
       "      <td>KODEX 200선물인버스2X</td>\n",
       "      <td>1930</td>\n",
       "      <td>5</td>\n",
       "      <td>-10</td>\n",
       "      <td>-0.52</td>\n",
       "      <td>1930.0</td>\n",
       "      <td>0.0000</td>\n",
       "      <td>208047261</td>\n",
       "      <td>403732</td>\n",
       "      <td>22070</td>\n",
       "    </tr>\n",
       "    <tr>\n",
       "      <th>29</th>\n",
       "      <td>251340</td>\n",
       "      <td>3</td>\n",
       "      <td>KODEX 코스닥150선물인버스</td>\n",
       "      <td>4370</td>\n",
       "      <td>2</td>\n",
       "      <td>60</td>\n",
       "      <td>1.39</td>\n",
       "      <td>4369.0</td>\n",
       "      <td>-2.4887</td>\n",
       "      <td>38236111</td>\n",
       "      <td>166267</td>\n",
       "      <td>5012</td>\n",
       "    </tr>\n",
       "    <tr>\n",
       "      <th>14</th>\n",
       "      <td>114800</td>\n",
       "      <td>3</td>\n",
       "      <td>KODEX 인버스</td>\n",
       "      <td>3765</td>\n",
       "      <td>5</td>\n",
       "      <td>-5</td>\n",
       "      <td>-0.13</td>\n",
       "      <td>3765.0</td>\n",
       "      <td>0.1328</td>\n",
       "      <td>32299879</td>\n",
       "      <td>121963</td>\n",
       "      <td>10659</td>\n",
       "    </tr>\n",
       "    <tr>\n",
       "      <th>6</th>\n",
       "      <td>122630</td>\n",
       "      <td>3</td>\n",
       "      <td>KODEX 레버리지</td>\n",
       "      <td>27990</td>\n",
       "      <td>2</td>\n",
       "      <td>125</td>\n",
       "      <td>0.45</td>\n",
       "      <td>28203.0</td>\n",
       "      <td>-2.2281</td>\n",
       "      <td>13289425</td>\n",
       "      <td>369506</td>\n",
       "      <td>13995</td>\n",
       "    </tr>\n",
       "    <tr>\n",
       "      <th>10</th>\n",
       "      <td>371460</td>\n",
       "      <td>4</td>\n",
       "      <td>TIGER 차이나전기차SOLACTIVE</td>\n",
       "      <td>15635</td>\n",
       "      <td>5</td>\n",
       "      <td>-365</td>\n",
       "      <td>-2.28</td>\n",
       "      <td>NaN</td>\n",
       "      <td>48.0795</td>\n",
       "      <td>9662619</td>\n",
       "      <td>150205</td>\n",
       "      <td>11833</td>\n",
       "    </tr>\n",
       "    <tr>\n",
       "      <th>...</th>\n",
       "      <td>...</td>\n",
       "      <td>...</td>\n",
       "      <td>...</td>\n",
       "      <td>...</td>\n",
       "      <td>...</td>\n",
       "      <td>...</td>\n",
       "      <td>...</td>\n",
       "      <td>...</td>\n",
       "      <td>...</td>\n",
       "      <td>...</td>\n",
       "      <td>...</td>\n",
       "      <td>...</td>\n",
       "    </tr>\n",
       "    <tr>\n",
       "      <th>183</th>\n",
       "      <td>363570</td>\n",
       "      <td>6</td>\n",
       "      <td>KODEX 장기종합채권(AA-이상)액티브KAP</td>\n",
       "      <td>97855</td>\n",
       "      <td>3</td>\n",
       "      <td>0</td>\n",
       "      <td>0.00</td>\n",
       "      <td>98037.0</td>\n",
       "      <td>2.1344</td>\n",
       "      <td>0</td>\n",
       "      <td>0</td>\n",
       "      <td>320</td>\n",
       "    </tr>\n",
       "    <tr>\n",
       "      <th>438</th>\n",
       "      <td>302180</td>\n",
       "      <td>6</td>\n",
       "      <td>TIGER 국채선물10년인버스</td>\n",
       "      <td>47645</td>\n",
       "      <td>3</td>\n",
       "      <td>0</td>\n",
       "      <td>0.00</td>\n",
       "      <td>47564.0</td>\n",
       "      <td>-2.0356</td>\n",
       "      <td>0</td>\n",
       "      <td>0</td>\n",
       "      <td>57</td>\n",
       "    </tr>\n",
       "    <tr>\n",
       "      <th>450</th>\n",
       "      <td>292770</td>\n",
       "      <td>6</td>\n",
       "      <td>KODEX 국채선물3년인버스</td>\n",
       "      <td>49770</td>\n",
       "      <td>3</td>\n",
       "      <td>0</td>\n",
       "      <td>0.00</td>\n",
       "      <td>49813.0</td>\n",
       "      <td>0.1408</td>\n",
       "      <td>0</td>\n",
       "      <td>0</td>\n",
       "      <td>51</td>\n",
       "    </tr>\n",
       "    <tr>\n",
       "      <th>453</th>\n",
       "      <td>299080</td>\n",
       "      <td>6</td>\n",
       "      <td>KINDEX 국채선물3년인버스</td>\n",
       "      <td>99560</td>\n",
       "      <td>3</td>\n",
       "      <td>0</td>\n",
       "      <td>0.00</td>\n",
       "      <td>99614.0</td>\n",
       "      <td>0.2365</td>\n",
       "      <td>0</td>\n",
       "      <td>0</td>\n",
       "      <td>50</td>\n",
       "    </tr>\n",
       "    <tr>\n",
       "      <th>461</th>\n",
       "      <td>299070</td>\n",
       "      <td>6</td>\n",
       "      <td>KINDEX 국채선물10년인버스</td>\n",
       "      <td>94010</td>\n",
       "      <td>3</td>\n",
       "      <td>0</td>\n",
       "      <td>0.00</td>\n",
       "      <td>93839.0</td>\n",
       "      <td>-1.9555</td>\n",
       "      <td>0</td>\n",
       "      <td>0</td>\n",
       "      <td>47</td>\n",
       "    </tr>\n",
       "  </tbody>\n",
       "</table>\n",
       "<p>489 rows × 12 columns</p>\n",
       "</div>"
      ],
      "text/plain": [
       "    itemcode  etfTabCode                   itemname  nowVal  risefall  \\\n",
       "2     252670           3           KODEX 200선물인버스2X    1930         5   \n",
       "29    251340           3          KODEX 코스닥150선물인버스    4370         2   \n",
       "14    114800           3                  KODEX 인버스    3765         5   \n",
       "6     122630           3                 KODEX 레버리지   27990         2   \n",
       "10    371460           4      TIGER 차이나전기차SOLACTIVE   15635         5   \n",
       "..       ...         ...                        ...     ...       ...   \n",
       "183   363570           6  KODEX 장기종합채권(AA-이상)액티브KAP   97855         3   \n",
       "438   302180           6           TIGER 국채선물10년인버스   47645         3   \n",
       "450   292770           6            KODEX 국채선물3년인버스   49770         3   \n",
       "453   299080           6           KINDEX 국채선물3년인버스   99560         3   \n",
       "461   299070           6          KINDEX 국채선물10년인버스   94010         3   \n",
       "\n",
       "     changeVal  changeRate      nav  threeMonthEarnRate      quant  amonut  \\\n",
       "2          -10       -0.52   1930.0              0.0000  208047261  403732   \n",
       "29          60        1.39   4369.0             -2.4887   38236111  166267   \n",
       "14          -5       -0.13   3765.0              0.1328   32299879  121963   \n",
       "6          125        0.45  28203.0             -2.2281   13289425  369506   \n",
       "10        -365       -2.28      NaN             48.0795    9662619  150205   \n",
       "..         ...         ...      ...                 ...        ...     ...   \n",
       "183          0        0.00  98037.0              2.1344          0       0   \n",
       "438          0        0.00  47564.0             -2.0356          0       0   \n",
       "450          0        0.00  49813.0              0.1408          0       0   \n",
       "453          0        0.00  99614.0              0.2365          0       0   \n",
       "461          0        0.00  93839.0             -1.9555          0       0   \n",
       "\n",
       "     marketSum  \n",
       "2        22070  \n",
       "29        5012  \n",
       "14       10659  \n",
       "6        13995  \n",
       "10       11833  \n",
       "..         ...  \n",
       "183        320  \n",
       "438         57  \n",
       "450         51  \n",
       "453         50  \n",
       "461         47  \n",
       "\n",
       "[489 rows x 12 columns]"
      ]
     },
     "execution_count": 27,
     "metadata": {},
     "output_type": "execute_result"
    }
   ],
   "source": [
    "# https://finance.naver.com/sise/etf.nhn 에서 값을 비교해보면 quant는 거래량임을 알 수 있습니다.\n",
    "# 거래량(quant) 기준으로 내림차순으로 정렬하여 상위 10개의 데이터를 봅니다.\n",
    "df.sort_values('quant', ascending=False)"
   ]
  },
  {
   "cell_type": "code",
   "execution_count": 28,
   "metadata": {
    "id": "_65UmaWzBYkq"
   },
   "outputs": [
    {
     "data": {
      "text/plain": [
       "array([1, 6, 3, 2, 4, 7, 5], dtype=int64)"
      ]
     },
     "execution_count": 28,
     "metadata": {},
     "output_type": "execute_result"
    }
   ],
   "source": [
    "# etfTabCode column의 데이터 구성을 살펴봅니다.\n",
    "# 추후 알게되겠지만 etfTabCode는 해당 사이트에서 \n",
    "# 전체(0), 국내 시장지수(1), 국내 업종/테마(2), 국내 파생(3) ~\n",
    "# 해외 주식(4), 원자재(5), 채권(6), 기타(7)로 자료가 구분되어 있습니다.\n",
    "df['etfTabCode'].unique()"
   ]
  },
  {
   "cell_type": "code",
   "execution_count": 32,
   "metadata": {
    "id": "k61c2Hr1BYkq"
   },
   "outputs": [
    {
     "data": {
      "text/html": [
       "<div>\n",
       "<style scoped>\n",
       "    .dataframe tbody tr th:only-of-type {\n",
       "        vertical-align: middle;\n",
       "    }\n",
       "\n",
       "    .dataframe tbody tr th {\n",
       "        vertical-align: top;\n",
       "    }\n",
       "\n",
       "    .dataframe thead th {\n",
       "        text-align: right;\n",
       "    }\n",
       "</style>\n",
       "<table border=\"1\" class=\"dataframe\">\n",
       "  <thead>\n",
       "    <tr style=\"text-align: right;\">\n",
       "      <th></th>\n",
       "      <th>itemcode</th>\n",
       "      <th>etfTabCode</th>\n",
       "      <th>itemname</th>\n",
       "      <th>nowVal</th>\n",
       "      <th>risefall</th>\n",
       "      <th>changeVal</th>\n",
       "      <th>changeRate</th>\n",
       "      <th>nav</th>\n",
       "      <th>threeMonthEarnRate</th>\n",
       "      <th>quant</th>\n",
       "      <th>amonut</th>\n",
       "      <th>marketSum</th>\n",
       "    </tr>\n",
       "  </thead>\n",
       "  <tbody>\n",
       "    <tr>\n",
       "      <th>0</th>\n",
       "      <td>069500</td>\n",
       "      <td>1</td>\n",
       "      <td>KODEX 200</td>\n",
       "      <td>43005</td>\n",
       "      <td>2</td>\n",
       "      <td>130</td>\n",
       "      <td>0.30</td>\n",
       "      <td>43027.0</td>\n",
       "      <td>-0.7363</td>\n",
       "      <td>2409683</td>\n",
       "      <td>103245</td>\n",
       "      <td>41672</td>\n",
       "    </tr>\n",
       "    <tr>\n",
       "      <th>3</th>\n",
       "      <td>102110</td>\n",
       "      <td>1</td>\n",
       "      <td>TIGER 200</td>\n",
       "      <td>43020</td>\n",
       "      <td>2</td>\n",
       "      <td>85</td>\n",
       "      <td>0.20</td>\n",
       "      <td>43060.0</td>\n",
       "      <td>-0.7054</td>\n",
       "      <td>917304</td>\n",
       "      <td>39354</td>\n",
       "      <td>21575</td>\n",
       "    </tr>\n",
       "    <tr>\n",
       "      <th>8</th>\n",
       "      <td>278530</td>\n",
       "      <td>1</td>\n",
       "      <td>KODEX 200TR</td>\n",
       "      <td>14065</td>\n",
       "      <td>2</td>\n",
       "      <td>50</td>\n",
       "      <td>0.36</td>\n",
       "      <td>14072.0</td>\n",
       "      <td>-0.8490</td>\n",
       "      <td>24819</td>\n",
       "      <td>347</td>\n",
       "      <td>12743</td>\n",
       "    </tr>\n",
       "    <tr>\n",
       "      <th>11</th>\n",
       "      <td>278540</td>\n",
       "      <td>1</td>\n",
       "      <td>KODEX MSCI Korea TR</td>\n",
       "      <td>13735</td>\n",
       "      <td>5</td>\n",
       "      <td>-5</td>\n",
       "      <td>-0.04</td>\n",
       "      <td>13771.0</td>\n",
       "      <td>-1.7168</td>\n",
       "      <td>264815</td>\n",
       "      <td>3627</td>\n",
       "      <td>11469</td>\n",
       "    </tr>\n",
       "    <tr>\n",
       "      <th>12</th>\n",
       "      <td>148020</td>\n",
       "      <td>1</td>\n",
       "      <td>KBSTAR 200</td>\n",
       "      <td>43080</td>\n",
       "      <td>2</td>\n",
       "      <td>130</td>\n",
       "      <td>0.30</td>\n",
       "      <td>43100.0</td>\n",
       "      <td>-0.6776</td>\n",
       "      <td>30555</td>\n",
       "      <td>1311</td>\n",
       "      <td>10705</td>\n",
       "    </tr>\n",
       "    <tr>\n",
       "      <th>...</th>\n",
       "      <td>...</td>\n",
       "      <td>...</td>\n",
       "      <td>...</td>\n",
       "      <td>...</td>\n",
       "      <td>...</td>\n",
       "      <td>...</td>\n",
       "      <td>...</td>\n",
       "      <td>...</td>\n",
       "      <td>...</td>\n",
       "      <td>...</td>\n",
       "      <td>...</td>\n",
       "      <td>...</td>\n",
       "    </tr>\n",
       "    <tr>\n",
       "      <th>386</th>\n",
       "      <td>252650</td>\n",
       "      <td>1</td>\n",
       "      <td>KODEX 200동일가중</td>\n",
       "      <td>13190</td>\n",
       "      <td>5</td>\n",
       "      <td>-60</td>\n",
       "      <td>-0.45</td>\n",
       "      <td>13242.0</td>\n",
       "      <td>3.6046</td>\n",
       "      <td>3</td>\n",
       "      <td>0</td>\n",
       "      <td>79</td>\n",
       "    </tr>\n",
       "    <tr>\n",
       "      <th>397</th>\n",
       "      <td>391670</td>\n",
       "      <td>1</td>\n",
       "      <td>HK 베스트일레븐액티브</td>\n",
       "      <td>9795</td>\n",
       "      <td>3</td>\n",
       "      <td>0</td>\n",
       "      <td>0.00</td>\n",
       "      <td>9796.0</td>\n",
       "      <td>NaN</td>\n",
       "      <td>2652</td>\n",
       "      <td>25</td>\n",
       "      <td>73</td>\n",
       "    </tr>\n",
       "    <tr>\n",
       "      <th>398</th>\n",
       "      <td>391680</td>\n",
       "      <td>1</td>\n",
       "      <td>HK 하이볼액티브</td>\n",
       "      <td>9760</td>\n",
       "      <td>5</td>\n",
       "      <td>-10</td>\n",
       "      <td>-0.10</td>\n",
       "      <td>9774.0</td>\n",
       "      <td>NaN</td>\n",
       "      <td>3499</td>\n",
       "      <td>34</td>\n",
       "      <td>73</td>\n",
       "    </tr>\n",
       "    <tr>\n",
       "      <th>458</th>\n",
       "      <td>295820</td>\n",
       "      <td>1</td>\n",
       "      <td>ARIRANG 200동일가중</td>\n",
       "      <td>12175</td>\n",
       "      <td>5</td>\n",
       "      <td>-10</td>\n",
       "      <td>-0.08</td>\n",
       "      <td>12171.0</td>\n",
       "      <td>3.4555</td>\n",
       "      <td>225</td>\n",
       "      <td>2</td>\n",
       "      <td>49</td>\n",
       "    </tr>\n",
       "    <tr>\n",
       "      <th>463</th>\n",
       "      <td>275750</td>\n",
       "      <td>1</td>\n",
       "      <td>KBSTAR 코스닥150선물인버스</td>\n",
       "      <td>4610</td>\n",
       "      <td>2</td>\n",
       "      <td>65</td>\n",
       "      <td>1.43</td>\n",
       "      <td>4607.0</td>\n",
       "      <td>-2.6767</td>\n",
       "      <td>11366</td>\n",
       "      <td>52</td>\n",
       "      <td>46</td>\n",
       "    </tr>\n",
       "  </tbody>\n",
       "</table>\n",
       "<p>65 rows × 12 columns</p>\n",
       "</div>"
      ],
      "text/plain": [
       "    itemcode  etfTabCode             itemname  nowVal  risefall  changeVal  \\\n",
       "0     069500           1            KODEX 200   43005         2        130   \n",
       "3     102110           1            TIGER 200   43020         2         85   \n",
       "8     278530           1          KODEX 200TR   14065         2         50   \n",
       "11    278540           1  KODEX MSCI Korea TR   13735         5         -5   \n",
       "12    148020           1           KBSTAR 200   43080         2        130   \n",
       "..       ...         ...                  ...     ...       ...        ...   \n",
       "386   252650           1        KODEX 200동일가중   13190         5        -60   \n",
       "397   391670           1         HK 베스트일레븐액티브    9795         3          0   \n",
       "398   391680           1            HK 하이볼액티브    9760         5        -10   \n",
       "458   295820           1      ARIRANG 200동일가중   12175         5        -10   \n",
       "463   275750           1   KBSTAR 코스닥150선물인버스    4610         2         65   \n",
       "\n",
       "     changeRate      nav  threeMonthEarnRate    quant  amonut  marketSum  \n",
       "0          0.30  43027.0             -0.7363  2409683  103245      41672  \n",
       "3          0.20  43060.0             -0.7054   917304   39354      21575  \n",
       "8          0.36  14072.0             -0.8490    24819     347      12743  \n",
       "11        -0.04  13771.0             -1.7168   264815    3627      11469  \n",
       "12         0.30  43100.0             -0.6776    30555    1311      10705  \n",
       "..          ...      ...                 ...      ...     ...        ...  \n",
       "386       -0.45  13242.0              3.6046        3       0         79  \n",
       "397        0.00   9796.0                 NaN     2652      25         73  \n",
       "398       -0.10   9774.0                 NaN     3499      34         73  \n",
       "458       -0.08  12171.0              3.4555      225       2         49  \n",
       "463        1.43   4607.0             -2.6767    11366      52         46  \n",
       "\n",
       "[65 rows x 12 columns]"
      ]
     },
     "execution_count": 32,
     "metadata": {},
     "output_type": "execute_result"
    }
   ],
   "source": [
    "# pandas 의 boolean Indexing을 사용해서\n",
    "# 국내 시장지수(etfTabCode == 1)의 데이터들만 확인하여 봅니다.\n",
    "# 조건문의 결과가 Index와  True, False 로 나오기 때문에 boolean Indexing 이라 부릅니다.\n",
    "df[df['etfTabCode']==1]"
   ]
  },
  {
   "cell_type": "markdown",
   "metadata": {
    "id": "SAp8CMEYNw8H"
   },
   "source": [
    "## 데이터 전처리\n",
    "### etfTabName 만들기"
   ]
  },
  {
   "cell_type": "code",
   "execution_count": 36,
   "metadata": {
    "id": "8YTSMwXgBYkq"
   },
   "outputs": [
    {
     "data": {
      "text/plain": [
       "'전체\\n국내 시장지수\\n국내 업종/테마\\n국내 파생\\n해외 주식\\n원자재\\n채권\\n기타'"
      ]
     },
     "execution_count": 36,
     "metadata": {},
     "output_type": "execute_result"
    }
   ],
   "source": [
    "# etf name을 구분하기 위한 list를 만듭니다.\n",
    "# \"\"\" 를 이용해 \\n을 포함하는 string을 만들고 split으로 나누어서 list를 간편히 만들수 있습니다.\n",
    "etfcode = \"\"\"전체\n",
    "국내 시장지수\n",
    "국내 업종/테마\n",
    "국내 파생\n",
    "해외 주식\n",
    "원자재\n",
    "채권\n",
    "기타\"\"\"\n",
    "etfcode"
   ]
  },
  {
   "cell_type": "code",
   "execution_count": 37,
   "metadata": {
    "id": "H7AFA9ftBYkq"
   },
   "outputs": [
    {
     "data": {
      "text/plain": [
       "['전체', '국내', '시장지수', '국내', '업종/테마', '국내', '파생', '해외', '주식', '원자재', '채권', '기타']"
      ]
     },
     "execution_count": 37,
     "metadata": {},
     "output_type": "execute_result"
    }
   ],
   "source": [
    "# split으로 나누어 list형 데이터를 만듭니다.\n",
    "# etf_tab_name\n",
    "etf_tab_name = etfcode.split()\n",
    "etf_tab_name"
   ]
  },
  {
   "cell_type": "code",
   "execution_count": 39,
   "metadata": {},
   "outputs": [],
   "source": [
    "def find_etf_tab_name(no):\n",
    "    return etf_tab_name[no]"
   ]
  },
  {
   "cell_type": "code",
   "execution_count": 40,
   "metadata": {},
   "outputs": [
    {
     "data": {
      "text/plain": [
       "'시장지수'"
      ]
     },
     "execution_count": 40,
     "metadata": {},
     "output_type": "execute_result"
    }
   ],
   "source": [
    "find_etf_tab_name(2)"
   ]
  },
  {
   "cell_type": "code",
   "execution_count": 42,
   "metadata": {
    "id": "LrmLD2j0BYkq"
   },
   "outputs": [],
   "source": [
    "# etfTabName 이름이 직관적이지 않기 때문에 한글로 변경해 줍니다.\n",
    "# map과 lambda 함수를 이용하여 eftTabCode column들의 각 cell의 내용에 따라\n",
    "# etf_tab_name list의 원소값에 따라 이름을 만들어 주고 etfTabName 이라는 새로운 컬럼을 생성합니다.\n",
    "# 즉 etfTabCode 숫자 -> list의 원소 인덱스로 한글 이름을 매핑해 줍니다. -> etfTabName에 한글로 저장\n",
    "# df[\"etfTabName\"]\n",
    "df['etfTabName'] = df['etfTabCode'].map(find_etf_tab_name)"
   ]
  },
  {
   "cell_type": "code",
   "execution_count": 43,
   "metadata": {
    "id": "ked6jOdgBYkq"
   },
   "outputs": [
    {
     "data": {
      "text/html": [
       "<div>\n",
       "<style scoped>\n",
       "    .dataframe tbody tr th:only-of-type {\n",
       "        vertical-align: middle;\n",
       "    }\n",
       "\n",
       "    .dataframe tbody tr th {\n",
       "        vertical-align: top;\n",
       "    }\n",
       "\n",
       "    .dataframe thead th {\n",
       "        text-align: right;\n",
       "    }\n",
       "</style>\n",
       "<table border=\"1\" class=\"dataframe\">\n",
       "  <thead>\n",
       "    <tr style=\"text-align: right;\">\n",
       "      <th></th>\n",
       "      <th>itemcode</th>\n",
       "      <th>etfTabCode</th>\n",
       "      <th>itemname</th>\n",
       "      <th>nowVal</th>\n",
       "      <th>risefall</th>\n",
       "      <th>changeVal</th>\n",
       "      <th>changeRate</th>\n",
       "      <th>nav</th>\n",
       "      <th>threeMonthEarnRate</th>\n",
       "      <th>quant</th>\n",
       "      <th>amonut</th>\n",
       "      <th>marketSum</th>\n",
       "      <th>etfTabName</th>\n",
       "    </tr>\n",
       "  </thead>\n",
       "  <tbody>\n",
       "    <tr>\n",
       "      <th>0</th>\n",
       "      <td>069500</td>\n",
       "      <td>1</td>\n",
       "      <td>KODEX 200</td>\n",
       "      <td>43005</td>\n",
       "      <td>2</td>\n",
       "      <td>130</td>\n",
       "      <td>0.30</td>\n",
       "      <td>43027.0</td>\n",
       "      <td>-0.7363</td>\n",
       "      <td>2409683</td>\n",
       "      <td>103245</td>\n",
       "      <td>41672</td>\n",
       "      <td>국내</td>\n",
       "    </tr>\n",
       "    <tr>\n",
       "      <th>1</th>\n",
       "      <td>153130</td>\n",
       "      <td>6</td>\n",
       "      <td>KODEX 단기채권</td>\n",
       "      <td>102845</td>\n",
       "      <td>3</td>\n",
       "      <td>0</td>\n",
       "      <td>0.00</td>\n",
       "      <td>102846.0</td>\n",
       "      <td>0.0340</td>\n",
       "      <td>16993</td>\n",
       "      <td>1747</td>\n",
       "      <td>24206</td>\n",
       "      <td>파생</td>\n",
       "    </tr>\n",
       "    <tr>\n",
       "      <th>2</th>\n",
       "      <td>252670</td>\n",
       "      <td>3</td>\n",
       "      <td>KODEX 200선물인버스2X</td>\n",
       "      <td>1930</td>\n",
       "      <td>5</td>\n",
       "      <td>-10</td>\n",
       "      <td>-0.52</td>\n",
       "      <td>1930.0</td>\n",
       "      <td>0.0000</td>\n",
       "      <td>208047261</td>\n",
       "      <td>403732</td>\n",
       "      <td>22070</td>\n",
       "      <td>국내</td>\n",
       "    </tr>\n",
       "  </tbody>\n",
       "</table>\n",
       "</div>"
      ],
      "text/plain": [
       "  itemcode  etfTabCode          itemname  nowVal  risefall  changeVal  \\\n",
       "0   069500           1         KODEX 200   43005         2        130   \n",
       "1   153130           6        KODEX 단기채권  102845         3          0   \n",
       "2   252670           3  KODEX 200선물인버스2X    1930         5        -10   \n",
       "\n",
       "   changeRate       nav  threeMonthEarnRate      quant  amonut  marketSum  \\\n",
       "0        0.30   43027.0             -0.7363    2409683  103245      41672   \n",
       "1        0.00  102846.0              0.0340      16993    1747      24206   \n",
       "2       -0.52    1930.0              0.0000  208047261  403732      22070   \n",
       "\n",
       "  etfTabName  \n",
       "0         국내  \n",
       "1         파생  \n",
       "2         국내  "
      ]
     },
     "execution_count": 43,
     "metadata": {},
     "output_type": "execute_result"
    }
   ],
   "source": [
    "# etfTabName column이 제대로 만들어졌는지 확인합니다.\n",
    "df.head(3)"
   ]
  },
  {
   "cell_type": "markdown",
   "metadata": {},
   "source": [
    "* map : \n",
    "    * Series에서만 사용가능\n",
    "    * [Essential basic functionality — pandas documentation](https://pandas.pydata.org/docs/user_guide/basics.html?#applying-elementwise-functions)\n",
    "\n",
    "* apply :\n",
    "    * Series와 DataFrame 둘 다 사용가능\n",
    "    * [Essential basic functionality — pandas documentation](https://pandas.pydata.org/docs/user_guide/basics.html?#row-or-column-wise-function-application)"
   ]
  },
  {
   "cell_type": "markdown",
   "metadata": {},
   "source": [
    "### 컬럼명 변경하기"
   ]
  },
  {
   "cell_type": "code",
   "execution_count": null,
   "metadata": {},
   "outputs": [],
   "source": [
    "\"\"\"종목명\n",
    "현재가\n",
    "전일비\n",
    "등락률\n",
    "NAV\n",
    "3개월수익률\n",
    "거래량\n",
    "거래대금(백만)\n",
    "시가총액(억)\n",
    "\"\"\""
   ]
  },
  {
   "cell_type": "code",
   "execution_count": 49,
   "metadata": {
    "id": "hmI_1aqBBYkq"
   },
   "outputs": [
    {
     "data": {
      "text/plain": [
       "['itemcode',\n",
       " 'etfTabCode',\n",
       " 'itemname',\n",
       " 'nowVal',\n",
       " 'risefall',\n",
       " 'changeVal',\n",
       " 'changeRate',\n",
       " 'nav',\n",
       " 'threeMonthEarnRate',\n",
       " 'quant',\n",
       " 'amonut',\n",
       " 'marketSum',\n",
       " 'etfTabName']"
      ]
     },
     "execution_count": 49,
     "metadata": {},
     "output_type": "execute_result"
    }
   ],
   "source": [
    "# DataFrame df의 column 이름을 list로 만들어서 cols 라는 변수에 담습니다.\n",
    "# cols\n",
    "cols = ['itemcode', 'etfTabCode', 'itemname', 'nowVal', 'risefall', 'changeVal',\n",
    "       'changeRate', 'nav', 'threeMonthEarnRate', 'quant', 'amonut',\n",
    "       'marketSum', 'etfTabName']\n",
    "cols"
   ]
  },
  {
   "cell_type": "code",
   "execution_count": 50,
   "metadata": {
    "id": "1TF4kMp1BYkq"
   },
   "outputs": [
    {
     "data": {
      "text/plain": [
       "['종목코드',\n",
       " '탭코드',\n",
       " '종목명',\n",
       " '현재가',\n",
       " '등락구분',\n",
       " '전일비',\n",
       " '등락률',\n",
       " '순자산가치(NAV)',\n",
       " '3개월수익률',\n",
       " '거래량',\n",
       " '거래대금(백만)',\n",
       " '시가총액(억)',\n",
       " '유형']"
      ]
     },
     "execution_count": 50,
     "metadata": {},
     "output_type": "execute_result"
    }
   ],
   "source": [
    "# 영어로 되어있는 column 이름을 한글로 바꾸기 위한 list를 만듭니다.\n",
    "# 빠진 column이 있는지 리스트와 길이를 확인합니다.\n",
    "col_name = \"\"\"종목코드\n",
    "탭코드\n",
    "종목명\n",
    "현재가\n",
    "등락구분\n",
    "전일비\n",
    "등락률\n",
    "순자산가치(NAV)\n",
    "3개월수익률\n",
    "거래량\n",
    "거래대금(백만)\n",
    "시가총액(억)\n",
    "유형\"\"\"\n",
    "col_name_list = col_name.split()\n",
    "col_name_list\n"
   ]
  },
  {
   "cell_type": "code",
   "execution_count": 51,
   "metadata": {
    "id": "3N22l3f6BYkr"
   },
   "outputs": [
    {
     "data": {
      "text/plain": [
       "{'itemcode': '종목코드',\n",
       " 'etfTabCode': '탭코드',\n",
       " 'itemname': '종목명',\n",
       " 'nowVal': '현재가',\n",
       " 'risefall': '등락구분',\n",
       " 'changeVal': '전일비',\n",
       " 'changeRate': '등락률',\n",
       " 'nav': '순자산가치(NAV)',\n",
       " 'threeMonthEarnRate': '3개월수익률',\n",
       " 'quant': '거래량',\n",
       " 'amonut': '거래대금(백만)',\n",
       " 'marketSum': '시가총액(억)',\n",
       " 'etfTabName': '유형'}"
      ]
     },
     "execution_count": 51,
     "metadata": {},
     "output_type": "execute_result"
    }
   ],
   "source": [
    "# 컬럼 영문명과 한글명을 딕셔너리 형태로 만들어 비교해 볼 수도 있습니다.\n",
    "# 하지만 좀 더 간단하게 여기에서는 리스트 값을 그대로 컬럼에 넣어주는 방법을 사용할거에요.\n",
    "# 딕셔너리로 키-값 쌍을 만들어 컬럼의 키와 값이 잘 매치되었는지 확인해 봅니다.\n",
    "dict(zip(cols, col_name_list))"
   ]
  },
  {
   "cell_type": "code",
   "execution_count": 53,
   "metadata": {
    "id": "ieQ9S3L-BYkr"
   },
   "outputs": [
    {
     "data": {
      "text/html": [
       "<div>\n",
       "<style scoped>\n",
       "    .dataframe tbody tr th:only-of-type {\n",
       "        vertical-align: middle;\n",
       "    }\n",
       "\n",
       "    .dataframe tbody tr th {\n",
       "        vertical-align: top;\n",
       "    }\n",
       "\n",
       "    .dataframe thead th {\n",
       "        text-align: right;\n",
       "    }\n",
       "</style>\n",
       "<table border=\"1\" class=\"dataframe\">\n",
       "  <thead>\n",
       "    <tr style=\"text-align: right;\">\n",
       "      <th></th>\n",
       "      <th>종목코드</th>\n",
       "      <th>탭코드</th>\n",
       "      <th>종목명</th>\n",
       "      <th>현재가</th>\n",
       "      <th>등락구분</th>\n",
       "      <th>전일비</th>\n",
       "      <th>등락률</th>\n",
       "      <th>순자산가치(NAV)</th>\n",
       "      <th>3개월수익률</th>\n",
       "      <th>거래량</th>\n",
       "      <th>거래대금(백만)</th>\n",
       "      <th>시가총액(억)</th>\n",
       "      <th>유형</th>\n",
       "    </tr>\n",
       "  </thead>\n",
       "  <tbody>\n",
       "    <tr>\n",
       "      <th>0</th>\n",
       "      <td>069500</td>\n",
       "      <td>1</td>\n",
       "      <td>KODEX 200</td>\n",
       "      <td>43005</td>\n",
       "      <td>2</td>\n",
       "      <td>130</td>\n",
       "      <td>0.3</td>\n",
       "      <td>43027.0</td>\n",
       "      <td>-0.7363</td>\n",
       "      <td>2409683</td>\n",
       "      <td>103245</td>\n",
       "      <td>41672</td>\n",
       "      <td>국내</td>\n",
       "    </tr>\n",
       "    <tr>\n",
       "      <th>1</th>\n",
       "      <td>153130</td>\n",
       "      <td>6</td>\n",
       "      <td>KODEX 단기채권</td>\n",
       "      <td>102845</td>\n",
       "      <td>3</td>\n",
       "      <td>0</td>\n",
       "      <td>0.0</td>\n",
       "      <td>102846.0</td>\n",
       "      <td>0.0340</td>\n",
       "      <td>16993</td>\n",
       "      <td>1747</td>\n",
       "      <td>24206</td>\n",
       "      <td>파생</td>\n",
       "    </tr>\n",
       "  </tbody>\n",
       "</table>\n",
       "</div>"
      ],
      "text/plain": [
       "     종목코드  탭코드         종목명     현재가  등락구분  전일비  등락률  순자산가치(NAV)  3개월수익률  \\\n",
       "0  069500    1   KODEX 200   43005     2  130  0.3     43027.0 -0.7363   \n",
       "1  153130    6  KODEX 단기채권  102845     3    0  0.0    102846.0  0.0340   \n",
       "\n",
       "       거래량  거래대금(백만)  시가총액(억)  유형  \n",
       "0  2409683    103245    41672  국내  \n",
       "1    16993      1747    24206  파생  "
      ]
     },
     "execution_count": 53,
     "metadata": {},
     "output_type": "execute_result"
    }
   ],
   "source": [
    "# 기존의 데이터프레임 컬럼명에 위에서 만든 컬럼명을 할당연산자로 대입해 주면 컬럼명이 변경됩니다.\n",
    "# 컬럼 변경 후 한글로 컬럼명이 잘 변경되었는지 확인해 봅니다.\n",
    "df.columns = col_name_list\n",
    "df.head(2)"
   ]
  },
  {
   "cell_type": "markdown",
   "metadata": {},
   "source": [
    "### 파생변수 만들기\n",
    "* 브랜드, 인버스, 레버리지, 환헤지H 변수 만들기\n",
    "* [Working with text data — pandas documentation](https://pandas.pydata.org/docs/user_guide/text.html)"
   ]
  },
  {
   "cell_type": "code",
   "execution_count": 55,
   "metadata": {
    "id": "F-8P7v-3BYkr",
    "scrolled": true
   },
   "outputs": [
    {
     "data": {
      "text/html": [
       "<div>\n",
       "<style scoped>\n",
       "    .dataframe tbody tr th:only-of-type {\n",
       "        vertical-align: middle;\n",
       "    }\n",
       "\n",
       "    .dataframe tbody tr th {\n",
       "        vertical-align: top;\n",
       "    }\n",
       "\n",
       "    .dataframe thead th {\n",
       "        text-align: right;\n",
       "    }\n",
       "</style>\n",
       "<table border=\"1\" class=\"dataframe\">\n",
       "  <thead>\n",
       "    <tr style=\"text-align: right;\">\n",
       "      <th></th>\n",
       "      <th>종목코드</th>\n",
       "      <th>탭코드</th>\n",
       "      <th>종목명</th>\n",
       "      <th>현재가</th>\n",
       "      <th>등락구분</th>\n",
       "      <th>전일비</th>\n",
       "      <th>등락률</th>\n",
       "      <th>순자산가치(NAV)</th>\n",
       "      <th>3개월수익률</th>\n",
       "      <th>거래량</th>\n",
       "      <th>거래대금(백만)</th>\n",
       "      <th>시가총액(억)</th>\n",
       "      <th>유형</th>\n",
       "      <th>인버스</th>\n",
       "    </tr>\n",
       "  </thead>\n",
       "  <tbody>\n",
       "    <tr>\n",
       "      <th>0</th>\n",
       "      <td>069500</td>\n",
       "      <td>1</td>\n",
       "      <td>KODEX 200</td>\n",
       "      <td>43005</td>\n",
       "      <td>2</td>\n",
       "      <td>130</td>\n",
       "      <td>0.3</td>\n",
       "      <td>43027.0</td>\n",
       "      <td>-0.7363</td>\n",
       "      <td>2409683</td>\n",
       "      <td>103245</td>\n",
       "      <td>41672</td>\n",
       "      <td>국내</td>\n",
       "      <td>KODEX</td>\n",
       "    </tr>\n",
       "  </tbody>\n",
       "</table>\n",
       "</div>"
      ],
      "text/plain": [
       "     종목코드  탭코드        종목명    현재가  등락구분  전일비  등락률  순자산가치(NAV)  3개월수익률      거래량  \\\n",
       "0  069500    1  KODEX 200  43005     2  130  0.3     43027.0 -0.7363  2409683   \n",
       "\n",
       "   거래대금(백만)  시가총액(억)  유형    인버스  \n",
       "0    103245    41672  국내  KODEX  "
      ]
     },
     "execution_count": 55,
     "metadata": {},
     "output_type": "execute_result"
    }
   ],
   "source": [
    "# 종목명 column의 데이터를 space(\" \")를 이용해 나누고 제일 앞부분[0]을 새로운 column을 만들어 저장하고 확인합니다.\n",
    "# expand = True 옵션을 사용하면 문자열을 나눈 값을 인덱스 순서대로 가져와서 사용할 수 있습니다.\n",
    "# df[\"브랜드\"]\n",
    "df['인버스'] = df['종목명'].str.split(expand=True)[0]\n",
    "df.head(1)"
   ]
  },
  {
   "cell_type": "code",
   "execution_count": null,
   "metadata": {},
   "outputs": [],
   "source": []
  },
  {
   "cell_type": "markdown",
   "metadata": {
    "id": "d0YQdJoABYkr"
   },
   "source": [
    "* 종목명 column의 내용중이 '인버스'라는 단어가 있으면 새로운 column '인버스'에 True 값이 들어가게 됩니다.\n",
    "* contains는 bool type을 반환하기 때문에 새로운 column에는 True나 False가 들어가게 됩니다.\n",
    "* 마찬가지로 '레버리지'와 '환헤지H'에 대해서도 동일하게 만들어 줍니다. \n",
    "* H라는 단어가 종목명에 들어갈 수도 있기 때문에 H뒤에 닫는 소괄호\")\"까지 확인합니다.\n",
    "* 소괄호는 정규표현식에서 의미를 가지는 문자이기 때문에 문자 그대로 읽어오기 위해서는 \"\\\"로 전처리가 필요합니다."
   ]
  },
  {
   "cell_type": "code",
   "execution_count": 57,
   "metadata": {
    "id": "d0YQdJoABYkr"
   },
   "outputs": [
    {
     "data": {
      "text/html": [
       "<div>\n",
       "<style scoped>\n",
       "    .dataframe tbody tr th:only-of-type {\n",
       "        vertical-align: middle;\n",
       "    }\n",
       "\n",
       "    .dataframe tbody tr th {\n",
       "        vertical-align: top;\n",
       "    }\n",
       "\n",
       "    .dataframe thead th {\n",
       "        text-align: right;\n",
       "    }\n",
       "</style>\n",
       "<table border=\"1\" class=\"dataframe\">\n",
       "  <thead>\n",
       "    <tr style=\"text-align: right;\">\n",
       "      <th></th>\n",
       "      <th>종목코드</th>\n",
       "      <th>탭코드</th>\n",
       "      <th>종목명</th>\n",
       "      <th>현재가</th>\n",
       "      <th>등락구분</th>\n",
       "      <th>전일비</th>\n",
       "      <th>등락률</th>\n",
       "      <th>순자산가치(NAV)</th>\n",
       "      <th>3개월수익률</th>\n",
       "      <th>거래량</th>\n",
       "      <th>거래대금(백만)</th>\n",
       "      <th>시가총액(억)</th>\n",
       "      <th>유형</th>\n",
       "      <th>인버스</th>\n",
       "    </tr>\n",
       "  </thead>\n",
       "  <tbody>\n",
       "    <tr>\n",
       "      <th>0</th>\n",
       "      <td>069500</td>\n",
       "      <td>1</td>\n",
       "      <td>KODEX 200</td>\n",
       "      <td>43005</td>\n",
       "      <td>2</td>\n",
       "      <td>130</td>\n",
       "      <td>0.3</td>\n",
       "      <td>43027.0</td>\n",
       "      <td>-0.7363</td>\n",
       "      <td>2409683</td>\n",
       "      <td>103245</td>\n",
       "      <td>41672</td>\n",
       "      <td>국내</td>\n",
       "      <td>False</td>\n",
       "    </tr>\n",
       "  </tbody>\n",
       "</table>\n",
       "</div>"
      ],
      "text/plain": [
       "     종목코드  탭코드        종목명    현재가  등락구분  전일비  등락률  순자산가치(NAV)  3개월수익률      거래량  \\\n",
       "0  069500    1  KODEX 200  43005     2  130  0.3     43027.0 -0.7363  2409683   \n",
       "\n",
       "   거래대금(백만)  시가총액(억)  유형    인버스  \n",
       "0    103245    41672  국내  False  "
      ]
     },
     "execution_count": 57,
     "metadata": {},
     "output_type": "execute_result"
    }
   ],
   "source": [
    "# 인버스ETF는 지수가 하락하면 오히려 수익률이 오르도록 설계된 상품입니다.\n",
    "# df[\"인버스\"]\n",
    "df['인버스'] = df['종목명'].str.contains('인버스')\n",
    "df.head(1)"
   ]
  },
  {
   "cell_type": "markdown",
   "metadata": {},
   "source": [
    "레버리지(leverage)는 타인의 자본을 지렛대처럼 이용하여 자기 자본의 이익률을 높이는 것이다. 고정비용이 있을 때 매출액의 변화가 기업의 손익에 미치는 영향을 분석하는 데에 쓰인다. 이는 고정영업비용과 고정재무비용의 부담정도에 따라 기업에게 귀속되는 최종적인 주당이익에 어떤 영향을 미치는지 분석할 수 있게 한다.\n",
    "\n",
    "* 출처 : [레버리지 - 위키백과, 우리 모두의 백과사전](https://ko.wikipedia.org/wiki/%EB%A0%88%EB%B2%84%EB%A6%AC%EC%A7%80)"
   ]
  },
  {
   "cell_type": "code",
   "execution_count": null,
   "metadata": {
    "id": "d0YQdJoABYkr"
   },
   "outputs": [],
   "source": [
    "# df[\"레버리지\"]\n",
    "df['레버리지'] = df['종목명'].str.contains('레버리지')\n",
    "df['레버리지'] = "
   ]
  },
  {
   "cell_type": "markdown",
   "metadata": {},
   "source": [
    "헤지(hedge)란 환율, 금리 또는 다른 자산에 대한 투자등을 통해 보유하고 있는 위험자산의 가격변동을 제거하는 것을 말한다. 즉, 확정되지 않은 자산을 확정된 자산으로 편입하는 과정이라 할 수 있으며, 주로 선물 옵션과 같은 파생상품을 이용한다. 이를 통해 체계적 위험을 제거할 수 있다.\n",
    "\n",
    "부(wealth)를 결정하는 변수값의 변화와 관계없이 항상 일정한 부를 유지하게 하는 헤지를 완전헤지라고 하고, 그렇지 못한 것을 불완전헤지라고 한다.\n",
    "* 출처 : [헤지 - 위키백과, 우리 모두의 백과사전](https://ko.wikipedia.org/wiki/%ED%97%A4%EC%A7%80)"
   ]
  },
  {
   "cell_type": "code",
   "execution_count": 60,
   "metadata": {
    "id": "d0YQdJoABYkr"
   },
   "outputs": [
    {
     "data": {
      "text/plain": [
       "0      False\n",
       "1      False\n",
       "2      False\n",
       "3      False\n",
       "4      False\n",
       "       ...  \n",
       "484    False\n",
       "485    False\n",
       "486     True\n",
       "487    False\n",
       "488    False\n",
       "Name: 종목명, Length: 489, dtype: bool"
      ]
     },
     "execution_count": 60,
     "metadata": {},
     "output_type": "execute_result"
    }
   ],
   "source": [
    "# (H)의 의미는 환율변동 위험을 막기 위해 Hedge를 한다는 뜻입니다.\n",
    "# df[\"환헤지H\"]\n",
    "df['종목명'].str.contains('\\(H')"
   ]
  },
  {
   "cell_type": "markdown",
   "metadata": {},
   "source": [
    "### 전처리가 잘 되었는지 확인하기"
   ]
  },
  {
   "cell_type": "code",
   "execution_count": null,
   "metadata": {},
   "outputs": [],
   "source": [
    "# 등락구분에 있는 값의 빈도수를 세어봅니다.\n"
   ]
  },
  {
   "cell_type": "code",
   "execution_count": null,
   "metadata": {
    "id": "MCaYBOfYBYkr"
   },
   "outputs": [],
   "source": [
    "# 전체적으로 데이터 전처리가 끝났다면 info를 통해 데이터 요약정보 보기\n"
   ]
  },
  {
   "cell_type": "markdown",
   "metadata": {},
   "source": [
    "## 파일로 저장하기"
   ]
  },
  {
   "cell_type": "code",
   "execution_count": 61,
   "metadata": {},
   "outputs": [
    {
     "data": {
      "text/plain": [
       "'etf_2021_07_28.csv'"
      ]
     },
     "execution_count": 61,
     "metadata": {},
     "output_type": "execute_result"
    }
   ],
   "source": [
    "# 기존에 불러왔던 파일명에서 _raw를 제거하고 새로운 파일명으로 저장합니다.\n",
    "# save_file_name \n",
    "save_file_name = file_name.replace('_raw',\"\")\n",
    "save_file_name"
   ]
  },
  {
   "cell_type": "code",
   "execution_count": null,
   "metadata": {
    "id": "WTKYc0eBBYkt"
   },
   "outputs": [],
   "source": [
    "# pandas의 to_csv로 파일을 저장합니다.\n",
    "# index=False로 인덱스값은 저장하지 않습니다.\n",
    "df.to_csv(save_file_name,index=False)"
   ]
  },
  {
   "cell_type": "code",
   "execution_count": null,
   "metadata": {},
   "outputs": [],
   "source": [
    "# 저장한 파일을 읽어와서 제대로 저장되었는지 확인합니다.\n",
    "# 또, 종목코드는 그냥 읽어오면 숫자 맨 앞의 0이 생략될 수 있으니 object 타입으로 불러옵니다.\n"
   ]
  },
  {
   "cell_type": "code",
   "execution_count": null,
   "metadata": {},
   "outputs": [],
   "source": []
  }
 ],
 "metadata": {
  "colab": {
   "collapsed_sections": [],
   "name": "8. naver-etf-eda.ipynb",
   "provenance": [],
   "toc_visible": true
  },
  "kernelspec": {
   "display_name": "Python 3",
   "language": "python",
   "name": "python3"
  },
  "language_info": {
   "codemirror_mode": {
    "name": "ipython",
    "version": 3
   },
   "file_extension": ".py",
   "mimetype": "text/x-python",
   "name": "python",
   "nbconvert_exporter": "python",
   "pygments_lexer": "ipython3",
   "version": "3.8.3"
  },
  "toc": {
   "base_numbering": 1,
   "nav_menu": {},
   "number_sections": true,
   "sideBar": true,
   "skip_h1_title": false,
   "title_cell": "Table of Contents",
   "title_sidebar": "Contents",
   "toc_cell": false,
   "toc_position": {
    "height": "calc(100% - 180px)",
    "left": "10px",
    "top": "150px",
    "width": "202px"
   },
   "toc_section_display": true,
   "toc_window_display": true
  },
  "varInspector": {
   "cols": {
    "lenName": 16,
    "lenType": 16,
    "lenVar": 40
   },
   "kernels_config": {
    "python": {
     "delete_cmd_postfix": "",
     "delete_cmd_prefix": "del ",
     "library": "var_list.py",
     "varRefreshCmd": "print(var_dic_list())"
    },
    "r": {
     "delete_cmd_postfix": ") ",
     "delete_cmd_prefix": "rm(",
     "library": "var_list.r",
     "varRefreshCmd": "cat(var_dic_list()) "
    }
   },
   "types_to_exclude": [
    "module",
    "function",
    "builtin_function_or_method",
    "instance",
    "_Feature"
   ],
   "window_display": false
  }
 },
 "nbformat": 4,
 "nbformat_minor": 1
}
