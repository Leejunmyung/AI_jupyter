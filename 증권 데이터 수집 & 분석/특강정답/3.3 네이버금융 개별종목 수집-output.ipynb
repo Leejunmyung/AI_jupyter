{
 "cells": [
  {
   "cell_type": "markdown",
   "metadata": {
    "id": "pOdYzjmEAGhg"
   },
   "source": [
    "[![Open In Colab](https://colab.research.google.com/assets/colab-badge.svg)](https://colab.research.google.com/github/corazzon/finance-data-analysis/blob/main/3.3%20%EB%84%A4%EC%9D%B4%EB%B2%84%EA%B8%88%EC%9C%B5%20%EA%B0%9C%EB%B3%84%EC%A2%85%EB%AA%A9%20%EC%88%98%EC%A7%91-input.ipynb)\n",
    "\n",
    "\n",
    "## 네이버 금융 개별종목 수집\n",
    "* FinanceDataReader를 통해 수집했던 데이터를 네이버 증권 웹 페이지를 통해 직접 수집합니다.\n",
    "\n",
    "\n",
    "### Keyword\n",
    "\n",
    "* html 파일 읽어오기\n",
    "    * pd.read_html(url, encoding=\"cp949\")\n",
    "\n",
    "* 결측 데이터 제거하기(axis 0:행, 1:열)\n",
    "    * table[0].dropna()\n",
    "\n",
    "* 데이터 프레임 합치기\n",
    "    * pd.concat([df1, df2, df3])\n",
    "\n",
    "* 중복데이터 제거\n",
    "    * df.drop_duplicates()\n",
    "\n",
    "* 과학적 기수법\n",
    "    * 1.210000e+02 => 121\n",
    "\n",
    "* 날짜 column의 첫 row값 확인\n",
    "    * date = df.iloc[0][\"날짜\"]\n",
    "\n",
    "* 파일로 저장하기 \n",
    "    * df.to_csv(file_name, index=False)\n",
    "\n",
    "* 파일 읽어오기\n",
    "    * pd.read_csv(file_name)"
   ]
  },
  {
   "cell_type": "markdown",
   "metadata": {
    "id": "-lIn4AdJTMkA"
   },
   "source": [
    "## 수집할 페이지 보기\n",
    "\n",
    "* 네이버 금융 국내증시 : https://finance.naver.com/sise/\n",
    "* 2020년 주요 상장종목\n",
    "    * 빅히트 : https://finance.naver.com/item/main.nhn?code=352820\n",
    "    * 카카오게임즈 : https://finance.naver.com/item/main.nhn?code=293490\n",
    "    * SK바이오팜 : https://finance.naver.com/item/main.nhn?code=326030"
   ]
  },
  {
   "cell_type": "markdown",
   "metadata": {},
   "source": [
    "## 라이브러리 로드"
   ]
  },
  {
   "cell_type": "code",
   "execution_count": 1,
   "metadata": {
    "id": "6Mm8vuymTMkA"
   },
   "outputs": [],
   "source": [
    "# 라이브러리 로드\n",
    "import pandas as pd\n",
    "import numpy as np"
   ]
  },
  {
   "cell_type": "markdown",
   "metadata": {},
   "source": [
    "## 수집할 URL 정하기"
   ]
  },
  {
   "cell_type": "code",
   "execution_count": 2,
   "metadata": {
    "id": "QzZJoAvoTMkA"
   },
   "outputs": [],
   "source": [
    "# 종목번호와 상장사 이름을 item_code와 item_name으로 설정\n",
    "# item_code = \"352820\"\n",
    "# item_name = \"하이브\"\n",
    "\n",
    "item_code = \"326030\"\n",
    "item_name = \"SK바이오팜\"\n",
    "\n",
    "# 종목 URL 만들기\n",
    "# url = \"https://finance.naver.com/item/sise.nhn?code=005930\"\n",
    "url = \"https://finance.naver.com/item/sise_day.nhn?code=005930&page=10\""
   ]
  },
  {
   "cell_type": "markdown",
   "metadata": {},
   "source": [
    "## requests를 통한 HTTP 요청\n",
    "* [Requests: HTTP for Humans™ — Requests documentation](https://requests.readthedocs.io/en/master/)\n",
    "* [Quickstart — Requests documentation # custom-headers](https://requests.readthedocs.io/en/latest/user/quickstart/#custom-headers)"
   ]
  },
  {
   "cell_type": "code",
   "execution_count": 3,
   "metadata": {},
   "outputs": [],
   "source": [
    "import requests"
   ]
  },
  {
   "cell_type": "code",
   "execution_count": 4,
   "metadata": {},
   "outputs": [
    {
     "name": "stdout",
     "output_type": "stream",
     "text": [
      "<class 'dict'>\n"
     ]
    },
    {
     "data": {
      "text/plain": [
       "{'user-agent': 'Mozilla/5.0 (Macintosh; Intel Mac OS X 10_15_7) AppleWebKit/537.36 (KHTML, like Gecko) Chrome/92.0.4515.107 Safari/537.36'}"
      ]
     },
     "execution_count": 4,
     "metadata": {},
     "output_type": "execute_result"
    }
   ],
   "source": [
    "headers = {\"user-agent\": \"Mozilla/5.0 (Macintosh; Intel Mac OS X 10_15_7) AppleWebKit/537.36 (KHTML, like Gecko) Chrome/92.0.4515.107 Safari/537.36\"}\n",
    "print(type(headers))\n",
    "headers"
   ]
  },
  {
   "cell_type": "code",
   "execution_count": 5,
   "metadata": {},
   "outputs": [],
   "source": [
    "reponse = requests.get(url, headers=headers)\n",
    "# reponse.text"
   ]
  },
  {
   "cell_type": "markdown",
   "metadata": {},
   "source": [
    "## BeautifulSoup 을 통한 table 태그 찾기\n",
    "\n",
    "* [Beautiful Soup Documentation — Beautiful Soup 4.9.0 documentation](https://www.crummy.com/software/BeautifulSoup/bs4/doc/)"
   ]
  },
  {
   "cell_type": "code",
   "execution_count": 6,
   "metadata": {},
   "outputs": [],
   "source": [
    "from bs4 import BeautifulSoup as bs\n",
    "\n",
    "html = bs(reponse.text, \"lxml\")"
   ]
  },
  {
   "cell_type": "code",
   "execution_count": 7,
   "metadata": {},
   "outputs": [
    {
     "data": {
      "text/plain": [
       "2"
      ]
     },
     "execution_count": 7,
     "metadata": {},
     "output_type": "execute_result"
    }
   ],
   "source": [
    "tables = html.select(\"table\")\n",
    "len(tables)"
   ]
  },
  {
   "cell_type": "markdown",
   "metadata": {},
   "source": [
    "## pandas 코드 한 줄로 데이터 수집하기"
   ]
  },
  {
   "cell_type": "code",
   "execution_count": 8,
   "metadata": {},
   "outputs": [
    {
     "name": "stdout",
     "output_type": "stream",
     "text": [
      "https://finance.naver.com/item/sise_day.nhn?code=005930&page=10\n"
     ]
    }
   ],
   "source": [
    "print(url)"
   ]
  },
  {
   "cell_type": "code",
   "execution_count": 9,
   "metadata": {
    "id": "T3e0Jt0mTMkA"
   },
   "outputs": [
    {
     "data": {
      "text/plain": [
       "[            날짜       종가     전일비       시가       고가       저가         거래량\n",
       " 0          NaN      NaN     NaN      NaN      NaN      NaN         NaN\n",
       " 1   2021.03.22  82000.0   100.0  82000.0  82300.0  81700.0  12670506.0\n",
       " 2   2021.03.19  81900.0  1000.0  82100.0  82500.0  81800.0  15869700.0\n",
       " 3   2021.03.18  82900.0   600.0  82800.0  83800.0  82600.0  18585244.0\n",
       " 4   2021.03.17  82300.0   500.0  82800.0  82900.0  82000.0  11625146.0\n",
       " 5   2021.03.16  82800.0  1000.0  82200.0  83000.0  82100.0  12293537.0\n",
       " 6          NaN      NaN     NaN      NaN      NaN      NaN         NaN\n",
       " 7          NaN      NaN     NaN      NaN      NaN      NaN         NaN\n",
       " 8          NaN      NaN     NaN      NaN      NaN      NaN         NaN\n",
       " 9   2021.03.15  81800.0  1000.0  82800.0  82900.0  81800.0  13735798.0\n",
       " 10  2021.03.12  82800.0   800.0  83100.0  83500.0  82400.0  13530573.0\n",
       " 11  2021.03.11  82000.0  1100.0  81000.0  82500.0  81000.0  23818297.0\n",
       " 12  2021.03.10  80900.0   500.0  82400.0  82500.0  80700.0  20038422.0\n",
       " 13  2021.03.09  81400.0   600.0  81400.0  81900.0  80600.0  25420764.0\n",
       " 14         NaN      NaN     NaN      NaN      NaN      NaN         NaN,\n",
       "    0   1   2   3   4   5   6   7   8   9   10  11  12\n",
       " 0  맨앞   1   2   3   4   5   6   7   8   9  10  다음  맨뒤]"
      ]
     },
     "execution_count": 9,
     "metadata": {},
     "output_type": "execute_result"
    }
   ],
   "source": [
    "# read_html을 이용하여 url의 page내의 값을 DataFrame으로 받아옵니다.\n",
    "# cp949는 한글 인코딩을 위해 사용합니다. 기본 인코딩 설정은 utf-8 이며, \n",
    "# 네이버의 일별 시세는 cp949 인코딩으로 불러올 수 있습니다.\n",
    "# 데이터를 로드 했을 때 한글 인코딩이 깨진다면 대부분 cp949 로 불러올 수 있습니다.\n",
    "# table\n",
    "\n",
    "table = pd.read_html(str(tables))\n",
    "table"
   ]
  },
  {
   "cell_type": "code",
   "execution_count": 10,
   "metadata": {
    "id": "GQ_LCYp0TMkA"
   },
   "outputs": [
    {
     "data": {
      "text/html": [
       "<div>\n",
       "<style scoped>\n",
       "    .dataframe tbody tr th:only-of-type {\n",
       "        vertical-align: middle;\n",
       "    }\n",
       "\n",
       "    .dataframe tbody tr th {\n",
       "        vertical-align: top;\n",
       "    }\n",
       "\n",
       "    .dataframe thead th {\n",
       "        text-align: right;\n",
       "    }\n",
       "</style>\n",
       "<table border=\"1\" class=\"dataframe\">\n",
       "  <thead>\n",
       "    <tr style=\"text-align: right;\">\n",
       "      <th></th>\n",
       "      <th>0</th>\n",
       "      <th>1</th>\n",
       "      <th>2</th>\n",
       "      <th>3</th>\n",
       "      <th>4</th>\n",
       "      <th>5</th>\n",
       "      <th>6</th>\n",
       "      <th>7</th>\n",
       "      <th>8</th>\n",
       "      <th>9</th>\n",
       "      <th>10</th>\n",
       "      <th>11</th>\n",
       "      <th>12</th>\n",
       "    </tr>\n",
       "  </thead>\n",
       "  <tbody>\n",
       "    <tr>\n",
       "      <th>0</th>\n",
       "      <td>맨앞</td>\n",
       "      <td>1</td>\n",
       "      <td>2</td>\n",
       "      <td>3</td>\n",
       "      <td>4</td>\n",
       "      <td>5</td>\n",
       "      <td>6</td>\n",
       "      <td>7</td>\n",
       "      <td>8</td>\n",
       "      <td>9</td>\n",
       "      <td>10</td>\n",
       "      <td>다음</td>\n",
       "      <td>맨뒤</td>\n",
       "    </tr>\n",
       "  </tbody>\n",
       "</table>\n",
       "</div>"
      ],
      "text/plain": [
       "   0   1   2   3   4   5   6   7   8   9   10  11  12\n",
       "0  맨앞   1   2   3   4   5   6   7   8   9  10  다음  맨뒤"
      ]
     },
     "execution_count": 10,
     "metadata": {},
     "output_type": "execute_result"
    }
   ],
   "source": [
    "# table[0]와 table[1]을 확인하여 보면 table[0]에 필요한 데이터들이 있습니다.\n",
    "table[1]"
   ]
  },
  {
   "cell_type": "code",
   "execution_count": 11,
   "metadata": {
    "id": "0gI1rNUbTMkA"
   },
   "outputs": [
    {
     "data": {
      "text/html": [
       "<div>\n",
       "<style scoped>\n",
       "    .dataframe tbody tr th:only-of-type {\n",
       "        vertical-align: middle;\n",
       "    }\n",
       "\n",
       "    .dataframe tbody tr th {\n",
       "        vertical-align: top;\n",
       "    }\n",
       "\n",
       "    .dataframe thead th {\n",
       "        text-align: right;\n",
       "    }\n",
       "</style>\n",
       "<table border=\"1\" class=\"dataframe\">\n",
       "  <thead>\n",
       "    <tr style=\"text-align: right;\">\n",
       "      <th></th>\n",
       "      <th>날짜</th>\n",
       "      <th>종가</th>\n",
       "      <th>전일비</th>\n",
       "      <th>시가</th>\n",
       "      <th>고가</th>\n",
       "      <th>저가</th>\n",
       "      <th>거래량</th>\n",
       "    </tr>\n",
       "  </thead>\n",
       "  <tbody>\n",
       "    <tr>\n",
       "      <th>1</th>\n",
       "      <td>2021.03.22</td>\n",
       "      <td>82000.0</td>\n",
       "      <td>100.0</td>\n",
       "      <td>82000.0</td>\n",
       "      <td>82300.0</td>\n",
       "      <td>81700.0</td>\n",
       "      <td>12670506.0</td>\n",
       "    </tr>\n",
       "    <tr>\n",
       "      <th>2</th>\n",
       "      <td>2021.03.19</td>\n",
       "      <td>81900.0</td>\n",
       "      <td>1000.0</td>\n",
       "      <td>82100.0</td>\n",
       "      <td>82500.0</td>\n",
       "      <td>81800.0</td>\n",
       "      <td>15869700.0</td>\n",
       "    </tr>\n",
       "    <tr>\n",
       "      <th>3</th>\n",
       "      <td>2021.03.18</td>\n",
       "      <td>82900.0</td>\n",
       "      <td>600.0</td>\n",
       "      <td>82800.0</td>\n",
       "      <td>83800.0</td>\n",
       "      <td>82600.0</td>\n",
       "      <td>18585244.0</td>\n",
       "    </tr>\n",
       "    <tr>\n",
       "      <th>4</th>\n",
       "      <td>2021.03.17</td>\n",
       "      <td>82300.0</td>\n",
       "      <td>500.0</td>\n",
       "      <td>82800.0</td>\n",
       "      <td>82900.0</td>\n",
       "      <td>82000.0</td>\n",
       "      <td>11625146.0</td>\n",
       "    </tr>\n",
       "    <tr>\n",
       "      <th>5</th>\n",
       "      <td>2021.03.16</td>\n",
       "      <td>82800.0</td>\n",
       "      <td>1000.0</td>\n",
       "      <td>82200.0</td>\n",
       "      <td>83000.0</td>\n",
       "      <td>82100.0</td>\n",
       "      <td>12293537.0</td>\n",
       "    </tr>\n",
       "    <tr>\n",
       "      <th>9</th>\n",
       "      <td>2021.03.15</td>\n",
       "      <td>81800.0</td>\n",
       "      <td>1000.0</td>\n",
       "      <td>82800.0</td>\n",
       "      <td>82900.0</td>\n",
       "      <td>81800.0</td>\n",
       "      <td>13735798.0</td>\n",
       "    </tr>\n",
       "    <tr>\n",
       "      <th>10</th>\n",
       "      <td>2021.03.12</td>\n",
       "      <td>82800.0</td>\n",
       "      <td>800.0</td>\n",
       "      <td>83100.0</td>\n",
       "      <td>83500.0</td>\n",
       "      <td>82400.0</td>\n",
       "      <td>13530573.0</td>\n",
       "    </tr>\n",
       "    <tr>\n",
       "      <th>11</th>\n",
       "      <td>2021.03.11</td>\n",
       "      <td>82000.0</td>\n",
       "      <td>1100.0</td>\n",
       "      <td>81000.0</td>\n",
       "      <td>82500.0</td>\n",
       "      <td>81000.0</td>\n",
       "      <td>23818297.0</td>\n",
       "    </tr>\n",
       "    <tr>\n",
       "      <th>12</th>\n",
       "      <td>2021.03.10</td>\n",
       "      <td>80900.0</td>\n",
       "      <td>500.0</td>\n",
       "      <td>82400.0</td>\n",
       "      <td>82500.0</td>\n",
       "      <td>80700.0</td>\n",
       "      <td>20038422.0</td>\n",
       "    </tr>\n",
       "    <tr>\n",
       "      <th>13</th>\n",
       "      <td>2021.03.09</td>\n",
       "      <td>81400.0</td>\n",
       "      <td>600.0</td>\n",
       "      <td>81400.0</td>\n",
       "      <td>81900.0</td>\n",
       "      <td>80600.0</td>\n",
       "      <td>25420764.0</td>\n",
       "    </tr>\n",
       "  </tbody>\n",
       "</table>\n",
       "</div>"
      ],
      "text/plain": [
       "            날짜       종가     전일비       시가       고가       저가         거래량\n",
       "1   2021.03.22  82000.0   100.0  82000.0  82300.0  81700.0  12670506.0\n",
       "2   2021.03.19  81900.0  1000.0  82100.0  82500.0  81800.0  15869700.0\n",
       "3   2021.03.18  82900.0   600.0  82800.0  83800.0  82600.0  18585244.0\n",
       "4   2021.03.17  82300.0   500.0  82800.0  82900.0  82000.0  11625146.0\n",
       "5   2021.03.16  82800.0  1000.0  82200.0  83000.0  82100.0  12293537.0\n",
       "9   2021.03.15  81800.0  1000.0  82800.0  82900.0  81800.0  13735798.0\n",
       "10  2021.03.12  82800.0   800.0  83100.0  83500.0  82400.0  13530573.0\n",
       "11  2021.03.11  82000.0  1100.0  81000.0  82500.0  81000.0  23818297.0\n",
       "12  2021.03.10  80900.0   500.0  82400.0  82500.0  80700.0  20038422.0\n",
       "13  2021.03.09  81400.0   600.0  81400.0  81900.0  80600.0  25420764.0"
      ]
     },
     "execution_count": 11,
     "metadata": {},
     "output_type": "execute_result"
    }
   ],
   "source": [
    "# dropna를 통해 결측치가 들어있는 row를 제거합니다.\n",
    "temp = table[0].dropna()\n",
    "temp"
   ]
  },
  {
   "cell_type": "markdown",
   "metadata": {
    "id": "CKhsb94wTMkA"
   },
   "source": [
    "## 페이지별 데이터 수집 함수 만들기"
   ]
  },
  {
   "cell_type": "code",
   "execution_count": 12,
   "metadata": {},
   "outputs": [
    {
     "name": "stdout",
     "output_type": "stream",
     "text": [
      "https://finance.naver.com/item/sise_day.nhn?code=005930&page=10\n"
     ]
    }
   ],
   "source": [
    "print(url)"
   ]
  },
  {
   "cell_type": "code",
   "execution_count": 13,
   "metadata": {},
   "outputs": [
    {
     "data": {
      "text/plain": [
       "{'user-agent': 'Mozilla/5.0 (Macintosh; Intel Mac OS X 10_15_7) AppleWebKit/537.36 (KHTML, like Gecko) Chrome/92.0.4515.107 Safari/537.36'}"
      ]
     },
     "execution_count": 13,
     "metadata": {},
     "output_type": "execute_result"
    }
   ],
   "source": [
    "headers"
   ]
  },
  {
   "cell_type": "code",
   "execution_count": 103,
   "metadata": {
    "id": "gJugcyoiTMkA"
   },
   "outputs": [],
   "source": [
    "# 종목 번호를 이용해 page에 따라 데이터를 읽어오는 함수\n",
    "# \"\"\" 는 이 두개 사이의 행들은 주석 처리되며, 함수의 docstring 으로 사용됩니다.\n",
    "\n",
    "def get_day_list(item_code, page_no):\n",
    "    \"\"\"\n",
    "    일자별 시세를 페이지별로 수집\n",
    "    \"\"\" \n",
    "    url = f\"https://finance.naver.com/item/sise_day.nhn?code={item_code}&page={page_no}\"\n",
    "    headers = {'user-agent': 'Mozilla/5.0 (Windows NT 10.0; Win64; x64) AppleWebKit/537.36 (KHTML, like Gecko) Chrome/91.0.4472.164 Safari/537.36'}\n",
    "    response = requests.get(url, headers=headers)\n",
    "    html = bs(response.text, \"lxml\")\n",
    "    tables = html.select(\"table\")\n",
    "    table = pd.read_html(str(tables))\n",
    "    df_page = table[0].dropna()\n",
    "    return df_page"
   ]
  },
  {
   "cell_type": "code",
   "execution_count": 15,
   "metadata": {
    "id": "evjinapgTMkA",
    "scrolled": true
   },
   "outputs": [
    {
     "name": "stdout",
     "output_type": "stream",
     "text": [
      "https://finance.naver.com/item/sise_day.nhn?code=068270&page=300\n"
     ]
    },
    {
     "data": {
      "text/html": [
       "<div>\n",
       "<style scoped>\n",
       "    .dataframe tbody tr th:only-of-type {\n",
       "        vertical-align: middle;\n",
       "    }\n",
       "\n",
       "    .dataframe tbody tr th {\n",
       "        vertical-align: top;\n",
       "    }\n",
       "\n",
       "    .dataframe thead th {\n",
       "        text-align: right;\n",
       "    }\n",
       "</style>\n",
       "<table border=\"1\" class=\"dataframe\">\n",
       "  <thead>\n",
       "    <tr style=\"text-align: right;\">\n",
       "      <th></th>\n",
       "      <th>날짜</th>\n",
       "      <th>종가</th>\n",
       "      <th>전일비</th>\n",
       "      <th>시가</th>\n",
       "      <th>고가</th>\n",
       "      <th>저가</th>\n",
       "      <th>거래량</th>\n",
       "    </tr>\n",
       "  </thead>\n",
       "  <tbody>\n",
       "    <tr>\n",
       "      <th>1</th>\n",
       "      <td>2009.06.24</td>\n",
       "      <td>16950.0</td>\n",
       "      <td>400.0</td>\n",
       "      <td>17450.0</td>\n",
       "      <td>17450.0</td>\n",
       "      <td>16200.0</td>\n",
       "      <td>1023682.0</td>\n",
       "    </tr>\n",
       "    <tr>\n",
       "      <th>2</th>\n",
       "      <td>2009.06.23</td>\n",
       "      <td>17350.0</td>\n",
       "      <td>500.0</td>\n",
       "      <td>17600.0</td>\n",
       "      <td>17700.0</td>\n",
       "      <td>17150.0</td>\n",
       "      <td>916680.0</td>\n",
       "    </tr>\n",
       "    <tr>\n",
       "      <th>3</th>\n",
       "      <td>2009.06.22</td>\n",
       "      <td>17850.0</td>\n",
       "      <td>100.0</td>\n",
       "      <td>17750.0</td>\n",
       "      <td>18100.0</td>\n",
       "      <td>17650.0</td>\n",
       "      <td>737032.0</td>\n",
       "    </tr>\n",
       "    <tr>\n",
       "      <th>4</th>\n",
       "      <td>2009.06.19</td>\n",
       "      <td>17750.0</td>\n",
       "      <td>200.0</td>\n",
       "      <td>17800.0</td>\n",
       "      <td>18250.0</td>\n",
       "      <td>17500.0</td>\n",
       "      <td>1191738.0</td>\n",
       "    </tr>\n",
       "    <tr>\n",
       "      <th>5</th>\n",
       "      <td>2009.06.18</td>\n",
       "      <td>17550.0</td>\n",
       "      <td>50.0</td>\n",
       "      <td>17900.0</td>\n",
       "      <td>18300.0</td>\n",
       "      <td>17450.0</td>\n",
       "      <td>1625660.0</td>\n",
       "    </tr>\n",
       "    <tr>\n",
       "      <th>9</th>\n",
       "      <td>2009.06.17</td>\n",
       "      <td>17500.0</td>\n",
       "      <td>500.0</td>\n",
       "      <td>17900.0</td>\n",
       "      <td>17950.0</td>\n",
       "      <td>17400.0</td>\n",
       "      <td>1033343.0</td>\n",
       "    </tr>\n",
       "    <tr>\n",
       "      <th>10</th>\n",
       "      <td>2009.06.16</td>\n",
       "      <td>18000.0</td>\n",
       "      <td>250.0</td>\n",
       "      <td>17900.0</td>\n",
       "      <td>18200.0</td>\n",
       "      <td>17850.0</td>\n",
       "      <td>747423.0</td>\n",
       "    </tr>\n",
       "    <tr>\n",
       "      <th>11</th>\n",
       "      <td>2009.06.15</td>\n",
       "      <td>18250.0</td>\n",
       "      <td>500.0</td>\n",
       "      <td>18800.0</td>\n",
       "      <td>18850.0</td>\n",
       "      <td>18200.0</td>\n",
       "      <td>678174.0</td>\n",
       "    </tr>\n",
       "    <tr>\n",
       "      <th>12</th>\n",
       "      <td>2009.06.12</td>\n",
       "      <td>18750.0</td>\n",
       "      <td>100.0</td>\n",
       "      <td>18900.0</td>\n",
       "      <td>19050.0</td>\n",
       "      <td>18550.0</td>\n",
       "      <td>815065.0</td>\n",
       "    </tr>\n",
       "    <tr>\n",
       "      <th>13</th>\n",
       "      <td>2009.06.11</td>\n",
       "      <td>18850.0</td>\n",
       "      <td>400.0</td>\n",
       "      <td>18300.0</td>\n",
       "      <td>19000.0</td>\n",
       "      <td>18200.0</td>\n",
       "      <td>1288496.0</td>\n",
       "    </tr>\n",
       "  </tbody>\n",
       "</table>\n",
       "</div>"
      ],
      "text/plain": [
       "            날짜       종가    전일비       시가       고가       저가        거래량\n",
       "1   2009.06.24  16950.0  400.0  17450.0  17450.0  16200.0  1023682.0\n",
       "2   2009.06.23  17350.0  500.0  17600.0  17700.0  17150.0   916680.0\n",
       "3   2009.06.22  17850.0  100.0  17750.0  18100.0  17650.0   737032.0\n",
       "4   2009.06.19  17750.0  200.0  17800.0  18250.0  17500.0  1191738.0\n",
       "5   2009.06.18  17550.0   50.0  17900.0  18300.0  17450.0  1625660.0\n",
       "9   2009.06.17  17500.0  500.0  17900.0  17950.0  17400.0  1033343.0\n",
       "10  2009.06.16  18000.0  250.0  17900.0  18200.0  17850.0   747423.0\n",
       "11  2009.06.15  18250.0  500.0  18800.0  18850.0  18200.0   678174.0\n",
       "12  2009.06.12  18750.0  100.0  18900.0  19050.0  18550.0   815065.0\n",
       "13  2009.06.11  18850.0  400.0  18300.0  19000.0  18200.0  1288496.0"
      ]
     },
     "execution_count": 15,
     "metadata": {},
     "output_type": "execute_result"
    }
   ],
   "source": [
    "# 함수가 잘 만들어졌는지 확인하기\n",
    "page_no = 300\n",
    "item_code = \"068270\"\n",
    "get_day_list(item_code, page_no)"
   ]
  },
  {
   "cell_type": "code",
   "execution_count": 25,
   "metadata": {},
   "outputs": [],
   "source": [
    "def find_day_news(item_code, page_num):\n",
    "    \"\"\"\n",
    "    일자별 종목 뉴스 수집\n",
    "    \"\"\"\n",
    "    url = f\"https://finance.naver.com/item/news_news.nhn?code={item_code}&page={page_num}&sm=title_entity_id.basic&clusterId=\"\n",
    "    headers = {\"User-Agent\" : \"Mozilla/5.0 (Windows NT 10.0; Win64; x64) AppleWebKit/537.36 (KHTML, like Gecko) Chrome/92.0.4515.107 Safari/537.36\"}\n",
    "    response = requests.get(url, headers = headers)\n",
    "    html = bs(response.text, \"lxml\")\n",
    "    tables = html.select(\"table\")\n",
    "    table = pd.read_html(str(tables))\n",
    "    news_page = table[0]\n",
    "    news_page_result = news_page[~news_page.get(\"제목\").str.contains(\"연관기사\")]\n",
    "    return news_page_result\n"
   ]
  },
  {
   "cell_type": "code",
   "execution_count": null,
   "metadata": {
    "scrolled": true
   },
   "outputs": [],
   "source": [
    "find_day_news(item_code, page_num=1)"
   ]
  },
  {
   "cell_type": "code",
   "execution_count": 27,
   "metadata": {},
   "outputs": [],
   "source": [
    "### 종목 토론 수집\n",
    "def get_day_debate(item_code, page_num):\n",
    "    \"\"\"\n",
    "    종목 토론 수집\n",
    "    \"\"\"\n",
    "    url = f\"https://finance.naver.com/item/board.nhn?code=005930&page={page_num}\"\n",
    "    headers = {\"user-agent\": \"Mozilla/5.0 (Windows NT 10.0; Win64; x64) AppleWebKit/537.36 (KHTML, like Gecko) Chrome/92.0.4515.107 Safari/537.36\"}\n",
    "    response = requests.get(url, headers = headers)\n",
    "    html = bs(response.text, \"lxml\")\n",
    "    tables = html.select(\"table\")\n",
    "    table = pd.read_html(str(tables))\n",
    "    table_page = table[1]\n",
    "    df_debate = table_page.iloc[:,:6]\n",
    "    debate_page_result = df_debate.dropna()\n",
    "    return debate_page_result"
   ]
  },
  {
   "cell_type": "code",
   "execution_count": null,
   "metadata": {
    "scrolled": true
   },
   "outputs": [],
   "source": [
    "get_day_debate(item_code, page_num=1)"
   ]
  },
  {
   "cell_type": "markdown",
   "metadata": {
    "id": "uuaac8XTTMkA"
   },
   "source": [
    "## 반복문을 통한 전체 일자 데이터 수집하기\n",
    "* (주의) 기간이 긴 데이터를 수집할때는 서버에 부담을 주지 않기 위해 time.sleep()값을 주세요."
   ]
  },
  {
   "cell_type": "code",
   "execution_count": 34,
   "metadata": {},
   "outputs": [
    {
     "name": "stdout",
     "output_type": "stream",
     "text": [
      "1\n",
      "2\n"
     ]
    }
   ],
   "source": [
    "print(1)\n",
    "time.sleep(0.1)\n",
    "print(2)"
   ]
  },
  {
   "cell_type": "code",
   "execution_count": 35,
   "metadata": {},
   "outputs": [
    {
     "data": {
      "text/plain": [
       "'068270'"
      ]
     },
     "execution_count": 35,
     "metadata": {},
     "output_type": "execute_result"
    }
   ],
   "source": [
    "item_code"
   ]
  },
  {
   "cell_type": "code",
   "execution_count": 36,
   "metadata": {},
   "outputs": [
    {
     "data": {
      "text/plain": [
       "'https://finance.naver.com/item/sise_day.nhn?code=005930&page=10'"
      ]
     },
     "execution_count": 36,
     "metadata": {},
     "output_type": "execute_result"
    }
   ],
   "source": [
    "url"
   ]
  },
  {
   "cell_type": "code",
   "execution_count": 43,
   "metadata": {
    "id": "EQs1C6C_TMkA"
   },
   "outputs": [
    {
     "name": "stderr",
     "output_type": "stream",
     "text": [
      "100%|██████████| 10/10 [00:01<00:00,  8.42it/s]\n"
     ]
    }
   ],
   "source": [
    "import time\n",
    "from tqdm import trange\n",
    "# web page 시작번호\n",
    "start_no = 1\n",
    "end_no = 10\n",
    "\n",
    "# 데이터를 저장할 빈 변수 선언\n",
    "item_list = []\n",
    "for page_no in trange(start_no, end_no+1):\n",
    "    temp = get_day_list(item_code, page_no)\n",
    "    item_list.append(temp)\n",
    "\n",
    "# item_list"
   ]
  },
  {
   "cell_type": "code",
   "execution_count": 66,
   "metadata": {},
   "outputs": [
    {
     "data": {
      "text/plain": [
       "7"
      ]
     },
     "execution_count": 66,
     "metadata": {},
     "output_type": "execute_result"
    }
   ],
   "source": [
    "page_no = 28\n",
    "get_day_list(item_code, page_no).shape[0]"
   ]
  },
  {
   "cell_type": "code",
   "execution_count": 109,
   "metadata": {},
   "outputs": [
    {
     "data": {
      "text/html": [
       "<div>\n",
       "<style scoped>\n",
       "    .dataframe tbody tr th:only-of-type {\n",
       "        vertical-align: middle;\n",
       "    }\n",
       "\n",
       "    .dataframe tbody tr th {\n",
       "        vertical-align: top;\n",
       "    }\n",
       "\n",
       "    .dataframe thead th {\n",
       "        text-align: right;\n",
       "    }\n",
       "</style>\n",
       "<table border=\"1\" class=\"dataframe\">\n",
       "  <thead>\n",
       "    <tr style=\"text-align: right;\">\n",
       "      <th></th>\n",
       "      <th>날짜</th>\n",
       "      <th>종가</th>\n",
       "      <th>전일비</th>\n",
       "      <th>시가</th>\n",
       "      <th>고가</th>\n",
       "      <th>저가</th>\n",
       "      <th>거래량</th>\n",
       "    </tr>\n",
       "  </thead>\n",
       "  <tbody>\n",
       "    <tr>\n",
       "      <th>9</th>\n",
       "      <td>2020.10.16</td>\n",
       "      <td>200500.0</td>\n",
       "      <td>57500.0</td>\n",
       "      <td>253000.0</td>\n",
       "      <td>253000.0</td>\n",
       "      <td>199000.0</td>\n",
       "      <td>4504395.0</td>\n",
       "    </tr>\n",
       "    <tr>\n",
       "      <th>10</th>\n",
       "      <td>2020.10.15</td>\n",
       "      <td>258000.0</td>\n",
       "      <td>12000.0</td>\n",
       "      <td>270000.0</td>\n",
       "      <td>351000.0</td>\n",
       "      <td>253500.0</td>\n",
       "      <td>6557212.0</td>\n",
       "    </tr>\n",
       "  </tbody>\n",
       "</table>\n",
       "</div>"
      ],
      "text/plain": [
       "            날짜        종가      전일비        시가        고가        저가        거래량\n",
       "9   2020.10.16  200500.0  57500.0  253000.0  253000.0  199000.0  4504395.0\n",
       "10  2020.10.15  258000.0  12000.0  270000.0  351000.0  253500.0  6557212.0"
      ]
     },
     "execution_count": 109,
     "metadata": {},
     "output_type": "execute_result"
    }
   ],
   "source": [
    "temp = get_day_list(item_code, page_no)\n",
    "temp.tail(2)"
   ]
  },
  {
   "cell_type": "code",
   "execution_count": 111,
   "metadata": {},
   "outputs": [
    {
     "data": {
      "text/plain": [
       "'2020.10.15'"
      ]
     },
     "execution_count": 111,
     "metadata": {},
     "output_type": "execute_result"
    }
   ],
   "source": []
  },
  {
   "cell_type": "code",
   "execution_count": 116,
   "metadata": {},
   "outputs": [
    {
     "name": "stdout",
     "output_type": "stream",
     "text": [
      "5\n",
      "10\n",
      "15\n",
      "20\n"
     ]
    }
   ],
   "source": [
    "# item_code = \"326030\"\n",
    "# item_name = \"SK바이오팜\"\n",
    "\n",
    "item_code = \"352820\"\n",
    "item_name = \"하이브\"\n",
    "\n",
    "# 페이지별 결과를 받을 리스트를 초기화\n",
    "item_list = []\n",
    "\n",
    "# while\n",
    "page_no = 1\n",
    "\n",
    "while True:\n",
    "    # 수집함수\n",
    "    temp = get_day_list(item_code, page_no)\n",
    "    \n",
    "    # 두번쨰 페이지부터 확인\n",
    "    if page_no > 1 :\n",
    "        pre_date = item_list[-1]['날짜'].tolist()[0]\n",
    "        now_date = temp['날짜'].tolist()[0]\n",
    "        if pre_date == now_date :\n",
    "            break\n",
    "            \n",
    "    item_list.append(temp)\n",
    "    \n",
    "    # 서버에 부담을 주지 않기 위해 시간차를 두고 가져옵니다.\n",
    "    random_time = np.random.uniform(0.1, 0.5)\n",
    "    time.sleep(random_time)\n",
    "    \n",
    "    # 페이지 번호를 하나씩 증가 시키고\n",
    "    page_no = page_no + 1\n",
    "    \n",
    "    # 5페이지 단위로 현재 몇 페이지인지를 출력\n",
    "    if page_no % 5 == 0:\n",
    "        print(page_no)\n",
    "    \n",
    "    # 일별시세는 10개씩 행이 있기 때문에 행이 10개보다 적으면 마지막 페이지로 보고 break \n",
    "#     if temp.shape[0] != 10 :\n",
    "#         break"
   ]
  },
  {
   "cell_type": "code",
   "execution_count": 117,
   "metadata": {},
   "outputs": [
    {
     "data": {
      "text/plain": [
       "[            날짜        종가     전일비        시가        고가        저가       거래량\n",
       " 1   2021.07.28  302500.0  4000.0  299000.0  303500.0  297500.0   61555.0\n",
       " 2   2021.07.27  298500.0   500.0  301000.0  302000.0  296500.0  129698.0\n",
       " 3   2021.07.26  299000.0  4000.0  305000.0  307000.0  298500.0  170632.0\n",
       " 4   2021.07.23  303000.0  1500.0  300500.0  306500.0  299000.0  196806.0\n",
       " 5   2021.07.22  301500.0  3000.0  301500.0  306500.0  298500.0  254160.0\n",
       " 9   2021.07.21  298500.0  7500.0  311000.0  312000.0  296500.0  388660.0\n",
       " 10  2021.07.20  306000.0  9000.0  311500.0  318500.0  299000.0  484428.0\n",
       " 11  2021.07.19  315000.0  2500.0  317000.0  317500.0  310500.0  209873.0\n",
       " 12  2021.07.16  317500.0  2000.0  319000.0  319000.0  314500.0  227008.0\n",
       " 13  2021.07.15  319500.0   500.0  320000.0  322000.0  315500.0  238471.0,\n",
       "             날짜        종가      전일비        시가        고가        저가       거래량\n",
       " 1   2021.07.14  319000.0  10000.0  312000.0  323000.0  309000.0  530995.0\n",
       " 2   2021.07.13  309000.0   2000.0  306500.0  315000.0  306000.0  407290.0\n",
       " 3   2021.07.12  307000.0   1000.0  310000.0  314500.0  302500.0  387814.0\n",
       " 4   2021.07.09  308000.0  14000.0  291500.0  310000.0  289000.0  667038.0\n",
       " 5   2021.07.08  294000.0   3500.0  298500.0  301500.0  290000.0  374006.0\n",
       " 9   2021.07.07  297500.0   4500.0  303000.0  304000.0  297000.0  371676.0\n",
       " 10  2021.07.06  302000.0   4500.0  307500.0  308500.0  300500.0  321244.0\n",
       " 11  2021.07.05  306500.0   3500.0  306000.0  315000.0  303000.0  438374.0\n",
       " 12  2021.07.02  303000.0   1000.0  302000.0  305500.0  296500.0  654721.0\n",
       " 13  2021.07.01  302000.0   9500.0  293500.0  304500.0  292500.0  734474.0,\n",
       "             날짜        종가      전일비        시가        고가        저가        거래량\n",
       " 1   2021.06.30  292500.0   3500.0  290500.0  298500.0  289000.0  1002404.0\n",
       " 2   2021.06.29  289000.0  23000.0  288500.0  294500.0  286500.0  4827044.0\n",
       " 3   2021.06.28  312000.0   2000.0  310500.0  317000.0  307500.0   331362.0\n",
       " 4   2021.06.25  314000.0   8000.0  326000.0  326500.0  312000.0   354850.0\n",
       " 5   2021.06.24  322000.0    500.0  326000.0  329500.0  317500.0   375522.0\n",
       " 9   2021.06.23  321500.0   3000.0  334500.0  337000.0  318500.0   687701.0\n",
       " 10  2021.06.22  324500.0  16500.0  311000.0  324500.0  311000.0   607966.0\n",
       " 11  2021.06.21  308000.0   5000.0  313000.0  321000.0  299500.0   556480.0\n",
       " 12  2021.06.18  313000.0  16000.0  298500.0  326500.0  297500.0  1630734.0\n",
       " 13  2021.06.17  297000.0   5000.0  292000.0  301000.0  289000.0   567305.0,\n",
       "             날짜        종가      전일비        시가        고가        저가       거래량\n",
       " 1   2021.06.16  292000.0   3000.0  290500.0  298000.0  287000.0  478261.0\n",
       " 2   2021.06.15  289000.0   7000.0  285000.0  293000.0  279500.0  461455.0\n",
       " 3   2021.06.14  282000.0   6500.0  277000.0  286000.0  276500.0  502504.0\n",
       " 4   2021.06.11  275500.0   3000.0  272500.0  277500.0  271500.0  324529.0\n",
       " 5   2021.06.10  272500.0  10500.0  262000.0  279000.0  261500.0  946188.0\n",
       " 9   2021.06.09  262000.0   3000.0  265000.0  265000.0  261000.0  166528.0\n",
       " 10  2021.06.08  265000.0    500.0  265000.0  267000.0  263500.0  153360.0\n",
       " 11  2021.06.07  265500.0    500.0  267000.0  268000.0  261000.0  153686.0\n",
       " 12  2021.06.04  266000.0   3500.0  268500.0  269000.0  260000.0  284503.0\n",
       " 13  2021.06.03  269500.0   6000.0  264000.0  274000.0  262500.0  410640.0,\n",
       "             날짜        종가     전일비        시가        고가        저가        거래량\n",
       " 1   2021.06.02  263500.0  2500.0  263000.0  266500.0  261500.0   204841.0\n",
       " 2   2021.06.01  261000.0  4000.0  266000.0  266500.0  258000.0   183347.0\n",
       " 3   2021.05.31  265000.0  4000.0  263500.0  267000.0  261500.0   225074.0\n",
       " 4   2021.05.28  261000.0  8000.0  255000.0  263000.0  254500.0   285689.0\n",
       " 5   2021.05.27  253000.0  6000.0  259500.0  260000.0  252000.0  1175231.0\n",
       " 9   2021.05.26  259000.0  1500.0  261500.0  264000.0  256500.0   257975.0\n",
       " 10  2021.05.25  260500.0  3000.0  265000.0  266000.0  255000.0   307669.0\n",
       " 11  2021.05.24  263500.0  2000.0  263000.0  272000.0  261000.0   543930.0\n",
       " 12  2021.05.21  261500.0  4500.0  268000.0  272000.0  257500.0   357864.0\n",
       " 13  2021.05.20  266000.0  5500.0  261000.0  266000.0  255000.0   342100.0,\n",
       "             날짜        종가      전일비        시가        고가        저가       거래량\n",
       " 1   2021.05.18  260500.0  12000.0  250000.0  260500.0  249000.0  395521.0\n",
       " 2   2021.05.17  248500.0   6000.0  242500.0  248500.0  242500.0  143607.0\n",
       " 3   2021.05.14  242500.0   2000.0  245000.0  245000.0  241000.0  149565.0\n",
       " 4   2021.05.13  240500.0   5500.0  242000.0  246000.0  238000.0  248997.0\n",
       " 5   2021.05.12  246000.0  13000.0  259000.0  264000.0  244500.0  382142.0\n",
       " 9   2021.05.11  259000.0    500.0  258000.0  261000.0  253500.0  195611.0\n",
       " 10  2021.05.10  258500.0   6000.0  255500.0  262000.0  253500.0  257309.0\n",
       " 11  2021.05.07  252500.0   1500.0  253500.0  256000.0  249000.0  193831.0\n",
       " 12  2021.05.06  251000.0  11500.0  240000.0  251000.0  237000.0  264248.0\n",
       " 13  2021.05.04  239500.0   3000.0  237000.0  240500.0  234000.0  196353.0,\n",
       "             날짜        종가      전일비        시가        고가        저가       거래량\n",
       " 1   2021.05.03  236500.0   6500.0  243000.0  245000.0  234000.0  195301.0\n",
       " 2   2021.04.30  243000.0    500.0  244500.0  249000.0  240000.0  183616.0\n",
       " 3   2021.04.29  243500.0    500.0  247000.0  247500.0  242000.0  176278.0\n",
       " 4   2021.04.28  244000.0  12000.0  257000.0  258500.0  242000.0  412618.0\n",
       " 5   2021.04.27  256000.0   3000.0  260000.0  264500.0  255000.0  234760.0\n",
       " 9   2021.04.26  259000.0    500.0  260000.0  262500.0  255500.0  216884.0\n",
       " 10  2021.04.23  258500.0   3500.0  256000.0  261500.0  251500.0  285699.0\n",
       " 11  2021.04.22  255000.0  13000.0  246000.0  256000.0  245500.0  446672.0\n",
       " 12  2021.04.21  242000.0      0.0  242000.0  246500.0  241000.0  231381.0\n",
       " 13  2021.04.20  242000.0    500.0  241000.0  247500.0  239500.0  215412.0,\n",
       "             날짜        종가      전일비        시가        고가        저가        거래량\n",
       " 1   2021.04.19  241500.0   7500.0  250000.0  254000.0  240500.0   347666.0\n",
       " 2   2021.04.16  249000.0   1500.0  253500.0  255500.0  242500.0   440679.0\n",
       " 3   2021.04.15  250000.0  14500.0  227500.0  255000.0  227500.0  1256775.0\n",
       " 4   2021.04.14  235500.0  17000.0  241500.0  247000.0  232000.0  1019699.0\n",
       " 5   2021.04.13  252500.0      0.0  255500.0  258500.0  251500.0   320695.0\n",
       " 9   2021.04.12  252500.0   5500.0  256000.0  262500.0  250000.0   458542.0\n",
       " 10  2021.04.09  258000.0   9000.0  268000.0  272000.0  257000.0   510218.0\n",
       " 11  2021.04.08  267000.0   9000.0  278000.0  285000.0  265000.0   633549.0\n",
       " 12  2021.04.07  276000.0  17000.0  262000.0  279500.0  256500.0  1032090.0\n",
       " 13  2021.04.06  259000.0  11000.0  253000.0  264500.0  251500.0   922890.0,\n",
       "             날짜        종가      전일비        시가        고가        저가        거래량\n",
       " 1   2021.04.05  248000.0   5000.0  255000.0  265000.0  243500.0  1677346.0\n",
       " 2   2021.04.02  243000.0   4000.0  240000.0  243500.0  234000.0   586848.0\n",
       " 3   2021.04.01  239000.0   4000.0  246000.0  247000.0  234000.0   281903.0\n",
       " 4   2021.03.31  243000.0    500.0  245000.0  251000.0  241000.0   276932.0\n",
       " 5   2021.03.30  242500.0   6000.0  238000.0  248500.0  237000.0   359390.0\n",
       " 9   2021.03.29  236500.0   5500.0  243500.0  243500.0  234000.0   225213.0\n",
       " 10  2021.03.26  242000.0   6500.0  237000.0  243000.0  229000.0   396518.0\n",
       " 11  2021.03.25  235500.0  16500.0  219000.0  235500.0  218500.0   306749.0\n",
       " 12  2021.03.24  219000.0   3000.0  221000.0  225500.0  216000.0   144804.0\n",
       " 13  2021.03.23  222000.0   8000.0  232000.0  234500.0  220000.0   182932.0,\n",
       "             날짜        종가      전일비        시가        고가        저가       거래량\n",
       " 1   2021.03.22  230000.0   4000.0  227500.0  234500.0  226500.0  202809.0\n",
       " 2   2021.03.19  226000.0   8000.0  228500.0  231500.0  223000.0  211070.0\n",
       " 3   2021.03.18  234000.0   3000.0  232000.0  235500.0  230000.0  255292.0\n",
       " 4   2021.03.17  231000.0  12000.0  220000.0  234000.0  220000.0  387484.0\n",
       " 5   2021.03.16  219000.0   1000.0  221000.0  223000.0  216000.0  181446.0\n",
       " 9   2021.03.15  218000.0  10000.0  220000.0  226500.0  214000.0  355512.0\n",
       " 10  2021.03.12  228000.0  16500.0  215000.0  228500.0  214500.0  461596.0\n",
       " 11  2021.03.11  211500.0  18500.0  194500.0  213500.0  193000.0  446049.0\n",
       " 12  2021.03.10  193000.0   7000.0  203500.0  204000.0  192500.0  215289.0\n",
       " 13  2021.03.09  200000.0   8000.0  209500.0  211000.0  197000.0  303435.0,\n",
       "             날짜        종가      전일비        시가        고가        저가       거래량\n",
       " 1   2021.03.08  208000.0    500.0  209500.0  215500.0  206000.0  283093.0\n",
       " 2   2021.03.05  207500.0   5500.0  209500.0  210000.0  204500.0  166537.0\n",
       " 3   2021.03.04  213000.0    500.0  209500.0  217000.0  209000.0  235437.0\n",
       " 4   2021.03.03  212500.0   5500.0  210000.0  214500.0  208000.0  726953.0\n",
       " 5   2021.03.02  207000.0    500.0  213000.0  216500.0  206000.0  176498.0\n",
       " 9   2021.02.26  206500.0   5500.0  202500.0  209000.0  200500.0  274114.0\n",
       " 10  2021.02.25  212000.0   1000.0  215000.0  216500.0  205000.0  385862.0\n",
       " 11  2021.02.24  211000.0  17500.0  234500.0  239500.0  210000.0  572749.0\n",
       " 12  2021.02.23  228500.0   1500.0  227500.0  234500.0  221000.0  209046.0\n",
       " 13  2021.02.22  227000.0   7500.0  236000.0  236500.0  226500.0  225597.0,\n",
       "             날짜        종가      전일비        시가        고가        저가       거래량\n",
       " 1   2021.02.19  234500.0   7000.0  242500.0  246000.0  229000.0  342692.0\n",
       " 2   2021.02.18  241500.0   7500.0  255000.0  259000.0  239500.0  436416.0\n",
       " 3   2021.02.17  249000.0   1000.0  247500.0  255000.0  242000.0  393721.0\n",
       " 4   2021.02.16  248000.0  21500.0  228000.0  256500.0  227500.0  935265.0\n",
       " 5   2021.02.15  226500.0   5000.0  233000.0  237000.0  226000.0  306380.0\n",
       " 9   2021.02.10  231500.0    500.0  232000.0  241000.0  230500.0  389109.0\n",
       " 10  2021.02.09  231000.0  14500.0  242000.0  242500.0  230000.0  583871.0\n",
       " 11  2021.02.08  245500.0   2500.0  247000.0  251500.0  243000.0  327089.0\n",
       " 12  2021.02.05  243000.0   1500.0  243500.0  249500.0  237500.0  400509.0\n",
       " 13  2021.02.04  241500.0   9000.0  234000.0  247000.0  228500.0  861501.0,\n",
       "             날짜        종가      전일비        시가        고가        저가        거래량\n",
       " 1   2021.02.03  232500.0      0.0  231500.0  241000.0  225500.0   545274.0\n",
       " 2   2021.02.02  232500.0  15000.0  219000.0  242500.0  213500.0  1363038.0\n",
       " 3   2021.02.01  217500.0  13000.0  204500.0  217500.0  199000.0   608089.0\n",
       " 4   2021.01.29  204500.0  15500.0  222000.0  222000.0  200500.0   773127.0\n",
       " 5   2021.01.28  220000.0  12500.0  213000.0  225000.0  208500.0  1653828.0\n",
       " 9   2021.01.27  207500.0   3000.0  208000.0  221500.0  206500.0  1003201.0\n",
       " 10  2021.01.26  210500.0   7000.0  203500.0  219000.0  194500.0   906368.0\n",
       " 11  2021.01.25  203500.0  11000.0  202000.0  217000.0  197500.0  1884652.0\n",
       " 12  2021.01.22  192500.0  19500.0  173000.0  198000.0  171500.0  2251812.0\n",
       " 13  2021.01.21  173000.0   3000.0  178000.0  178000.0  173000.0   242491.0,\n",
       "             날짜        종가      전일비        시가        고가        저가        거래량\n",
       " 1   2021.01.20  176000.0   2500.0  174000.0  177000.0  169000.0   423998.0\n",
       " 2   2021.01.19  173500.0   8000.0  168000.0  174500.0  167000.0   459733.0\n",
       " 3   2021.01.18  165500.0   8500.0  156000.0  168500.0  154500.0   630687.0\n",
       " 4   2021.01.15  157000.0   9000.0  161000.0  162500.0  157000.0   689611.0\n",
       " 5   2021.01.14  166000.0   2500.0  166500.0  170500.0  163500.0   341487.0\n",
       " 9   2021.01.13  168500.0  15000.0  153500.0  180000.0  153000.0  2079262.0\n",
       " 10  2021.01.12  153500.0   1000.0  154500.0  157000.0  150000.0   202504.0\n",
       " 11  2021.01.11  154500.0   6000.0  162000.0  162500.0  154000.0   253932.0\n",
       " 12  2021.01.08  160500.0   3500.0  158000.0  162000.0  155000.0   285332.0\n",
       " 13  2021.01.07  157000.0   1500.0  158500.0  159500.0  157000.0   139860.0,\n",
       "             날짜        종가     전일비        시가        고가        저가       거래량\n",
       " 1   2021.01.06  158500.0     0.0  160000.0  161000.0  157500.0  148194.0\n",
       " 2   2021.01.05  158500.0   500.0  157000.0  159000.0  155500.0  168962.0\n",
       " 3   2021.01.04  158000.0  2000.0  160000.0  160500.0  156000.0  152926.0\n",
       " 4   2020.12.30  160000.0  1500.0  158500.0  161000.0  157500.0  117495.0\n",
       " 5   2020.12.29  158500.0  2000.0  156500.0  160500.0  155000.0  110675.0\n",
       " 9   2020.12.28  156500.0  1500.0  158500.0  159000.0  155000.0  115532.0\n",
       " 10  2020.12.24  158000.0  5000.0  153000.0  158500.0  151500.0  132612.0\n",
       " 11  2020.12.23  153000.0  1500.0  154500.0  158000.0  152500.0  149781.0\n",
       " 12  2020.12.22  154500.0  4000.0  157500.0  158500.0  154000.0  166164.0\n",
       " 13  2020.12.21  158500.0  3500.0  162000.0  162000.0  157000.0  161286.0,\n",
       "             날짜        종가      전일비        시가        고가        저가        거래량\n",
       " 1   2020.12.18  162000.0    500.0  162500.0  164000.0  160500.0   162232.0\n",
       " 2   2020.12.17  161500.0  11500.0  169000.0  169000.0  160500.0  1122966.0\n",
       " 3   2020.12.16  173000.0   1000.0  173000.0  174000.0  171000.0    97010.0\n",
       " 4   2020.12.15  172000.0   3500.0  175500.0  175500.0  170500.0   152204.0\n",
       " 5   2020.12.14  175500.0   5000.0  179500.0  179500.0  175000.0   197662.0\n",
       " 9   2020.12.11  180500.0   1000.0  182000.0  182000.0  179000.0   143946.0\n",
       " 10  2020.12.10  181500.0   1500.0  179000.0  181500.0  177000.0   388533.0\n",
       " 11  2020.12.09  180000.0   2000.0  183000.0  183000.0  180000.0   156872.0\n",
       " 12  2020.12.08  182000.0   1500.0  180000.0  183500.0  177000.0   203373.0\n",
       " 13  2020.12.07  180500.0   7000.0  188500.0  188500.0  180000.0   254368.0,\n",
       "             날짜        종가     전일비        시가        고가        저가       거래량\n",
       " 1   2020.12.04  187500.0  2000.0  189000.0  189500.0  185000.0  258344.0\n",
       " 2   2020.12.03  189500.0  7500.0  183500.0  190500.0  182000.0  666358.0\n",
       " 3   2020.12.02  182000.0  1000.0  183000.0  183000.0  180000.0  195743.0\n",
       " 4   2020.12.01  181000.0  1500.0  182500.0  185000.0  179500.0  328175.0\n",
       " 5   2020.11.30  179500.0  1500.0  178000.0  181000.0  176500.0  177706.0\n",
       " 9   2020.11.27  178000.0  2000.0  178000.0  178500.0  175000.0  128351.0\n",
       " 10  2020.11.26  176000.0  2000.0  177000.0  181500.0  175000.0  343663.0\n",
       " 11  2020.11.25  174000.0  7000.0  183500.0  184500.0  172500.0  441052.0\n",
       " 12  2020.11.24  181000.0  1000.0  181000.0  181500.0  174000.0  387623.0\n",
       " 13  2020.11.23  180000.0  4500.0  185000.0  186000.0  178000.0  404421.0,\n",
       "             날짜        종가      전일비        시가        고가        저가        거래량\n",
       " 1   2020.11.20  184500.0   4500.0  182000.0  193000.0  178000.0   822190.0\n",
       " 2   2020.11.19  180000.0   1500.0  181500.0  182500.0  176000.0   287615.0\n",
       " 3   2020.11.18  181500.0   2000.0  181500.0  185500.0  178000.0   418979.0\n",
       " 4   2020.11.17  179500.0   8000.0  169000.0  183000.0  165500.0   925185.0\n",
       " 5   2020.11.16  171500.0  11500.0  155500.0  172000.0  154500.0  1162127.0\n",
       " 9   2020.11.13  160000.0   2500.0  156500.0  162500.0  156000.0   224605.0\n",
       " 10  2020.11.12  157500.0   6500.0  164000.0  164000.0  156000.0   326268.0\n",
       " 11  2020.11.11  164000.0   4000.0  170500.0  172000.0  163000.0   295999.0\n",
       " 12  2020.11.10  168000.0   5000.0  168500.0  171500.0  166500.0   491183.0\n",
       " 13  2020.11.09  163000.0   1000.0  164000.0  169500.0  161000.0   429226.0,\n",
       "             날짜        종가      전일비        시가        고가        저가        거래량\n",
       " 1   2020.11.06  162000.0   2000.0  164500.0  166000.0  159500.0   413106.0\n",
       " 2   2020.11.05  164000.0  15000.0  150500.0  173000.0  150000.0  1565701.0\n",
       " 3   2020.11.04  149000.0   3000.0  153500.0  153500.0  147000.0   329773.0\n",
       " 4   2020.11.03  152000.0   8500.0  144500.0  152000.0  144500.0   689435.0\n",
       " 5   2020.11.02  143500.0   1500.0  142500.0  146500.0  141000.0   412881.0\n",
       " 9   2020.10.30  142000.0  15000.0  149000.0  151500.0  142000.0  1142310.0\n",
       " 10  2020.10.29  157000.0   1500.0  155500.0  161500.0  154500.0   518248.0\n",
       " 11  2020.10.28  158500.0   4000.0  161500.0  163500.0  157500.0   581195.0\n",
       " 12  2020.10.27  162500.0   6500.0  154500.0  166000.0  152500.0  1118487.0\n",
       " 13  2020.10.26  156000.0  16500.0  173000.0  173500.0  156000.0   987951.0,\n",
       "             날짜        종가      전일비        시가        고가        저가        거래량\n",
       " 1   2020.10.23  172500.0   7500.0  183000.0  184000.0  171500.0   905547.0\n",
       " 2   2020.10.22  180000.0   1000.0  176500.0  185000.0  175500.0  1193994.0\n",
       " 3   2020.10.21  179000.0   3500.0  180500.0  185500.0  177000.0  1658643.0\n",
       " 4   2020.10.20  182500.0   6500.0  190000.0  193500.0  176000.0  1811616.0\n",
       " 5   2020.10.19  189000.0  11500.0  198500.0  202500.0  187000.0  1977996.0\n",
       " 9   2020.10.16  200500.0  57500.0  253000.0  253000.0  199000.0  4504395.0\n",
       " 10  2020.10.15  258000.0  12000.0  270000.0  351000.0  253500.0  6557212.0]"
      ]
     },
     "execution_count": 117,
     "metadata": {},
     "output_type": "execute_result"
    }
   ],
   "source": [
    "item_list"
   ]
  },
  {
   "cell_type": "markdown",
   "metadata": {
    "id": "iEFBJv5XTMkA"
   },
   "source": [
    "## 수집한 데이터 하나의 데이터프레임으로 합치기\n",
    "\n",
    "<img src=\"https://pandas.pydata.org/docs/_images/merging_concat_basic.png\">\n",
    "\n",
    "* [Merge, join, concatenate and compare documentation](https://pandas.pydata.org/docs/user_guide/merging.html#merge-join-concatenate-and-compare)"
   ]
  },
  {
   "cell_type": "code",
   "execution_count": 118,
   "metadata": {
    "id": "mUcxeTMFTMkA"
   },
   "outputs": [],
   "source": [
    "# DataFrame들이 list의 형태로 저장된 것을 concat을 이용하여 합치면서 하나의 DataFrame으로 만듭니다.\n",
    "df = pd.concat(item_list)"
   ]
  },
  {
   "cell_type": "markdown",
   "metadata": {},
   "source": [
    "<img src=\"https://pandas.pydata.org/docs/_images/08_concat_row.svg\">"
   ]
  },
  {
   "cell_type": "code",
   "execution_count": 119,
   "metadata": {
    "id": "Ep3NWfM-TMkA"
   },
   "outputs": [
    {
     "data": {
      "text/html": [
       "<div>\n",
       "<style scoped>\n",
       "    .dataframe tbody tr th:only-of-type {\n",
       "        vertical-align: middle;\n",
       "    }\n",
       "\n",
       "    .dataframe tbody tr th {\n",
       "        vertical-align: top;\n",
       "    }\n",
       "\n",
       "    .dataframe thead th {\n",
       "        text-align: right;\n",
       "    }\n",
       "</style>\n",
       "<table border=\"1\" class=\"dataframe\">\n",
       "  <thead>\n",
       "    <tr style=\"text-align: right;\">\n",
       "      <th></th>\n",
       "      <th>날짜</th>\n",
       "      <th>종가</th>\n",
       "      <th>전일비</th>\n",
       "      <th>시가</th>\n",
       "      <th>고가</th>\n",
       "      <th>저가</th>\n",
       "      <th>거래량</th>\n",
       "    </tr>\n",
       "  </thead>\n",
       "  <tbody>\n",
       "    <tr>\n",
       "      <th>1</th>\n",
       "      <td>2021.07.28</td>\n",
       "      <td>302500.0</td>\n",
       "      <td>4000.0</td>\n",
       "      <td>299000.0</td>\n",
       "      <td>303500.0</td>\n",
       "      <td>297500.0</td>\n",
       "      <td>61555.0</td>\n",
       "    </tr>\n",
       "    <tr>\n",
       "      <th>2</th>\n",
       "      <td>2021.07.27</td>\n",
       "      <td>298500.0</td>\n",
       "      <td>500.0</td>\n",
       "      <td>301000.0</td>\n",
       "      <td>302000.0</td>\n",
       "      <td>296500.0</td>\n",
       "      <td>129698.0</td>\n",
       "    </tr>\n",
       "    <tr>\n",
       "      <th>3</th>\n",
       "      <td>2021.07.26</td>\n",
       "      <td>299000.0</td>\n",
       "      <td>4000.0</td>\n",
       "      <td>305000.0</td>\n",
       "      <td>307000.0</td>\n",
       "      <td>298500.0</td>\n",
       "      <td>170632.0</td>\n",
       "    </tr>\n",
       "    <tr>\n",
       "      <th>4</th>\n",
       "      <td>2021.07.23</td>\n",
       "      <td>303000.0</td>\n",
       "      <td>1500.0</td>\n",
       "      <td>300500.0</td>\n",
       "      <td>306500.0</td>\n",
       "      <td>299000.0</td>\n",
       "      <td>196806.0</td>\n",
       "    </tr>\n",
       "    <tr>\n",
       "      <th>5</th>\n",
       "      <td>2021.07.22</td>\n",
       "      <td>301500.0</td>\n",
       "      <td>3000.0</td>\n",
       "      <td>301500.0</td>\n",
       "      <td>306500.0</td>\n",
       "      <td>298500.0</td>\n",
       "      <td>254160.0</td>\n",
       "    </tr>\n",
       "  </tbody>\n",
       "</table>\n",
       "</div>"
      ],
      "text/plain": [
       "           날짜        종가     전일비        시가        고가        저가       거래량\n",
       "1  2021.07.28  302500.0  4000.0  299000.0  303500.0  297500.0   61555.0\n",
       "2  2021.07.27  298500.0   500.0  301000.0  302000.0  296500.0  129698.0\n",
       "3  2021.07.26  299000.0  4000.0  305000.0  307000.0  298500.0  170632.0\n",
       "4  2021.07.23  303000.0  1500.0  300500.0  306500.0  299000.0  196806.0\n",
       "5  2021.07.22  301500.0  3000.0  301500.0  306500.0  298500.0  254160.0"
      ]
     },
     "execution_count": 119,
     "metadata": {},
     "output_type": "execute_result"
    }
   ],
   "source": [
    "# head와 tail로 데이터의 일부를 가져와서 봅니다.\n",
    "df.head()"
   ]
  },
  {
   "cell_type": "code",
   "execution_count": 120,
   "metadata": {
    "id": "hHcKUo8iTMkA"
   },
   "outputs": [
    {
     "data": {
      "text/html": [
       "<div>\n",
       "<style scoped>\n",
       "    .dataframe tbody tr th:only-of-type {\n",
       "        vertical-align: middle;\n",
       "    }\n",
       "\n",
       "    .dataframe tbody tr th {\n",
       "        vertical-align: top;\n",
       "    }\n",
       "\n",
       "    .dataframe thead th {\n",
       "        text-align: right;\n",
       "    }\n",
       "</style>\n",
       "<table border=\"1\" class=\"dataframe\">\n",
       "  <thead>\n",
       "    <tr style=\"text-align: right;\">\n",
       "      <th></th>\n",
       "      <th>날짜</th>\n",
       "      <th>종가</th>\n",
       "      <th>전일비</th>\n",
       "      <th>시가</th>\n",
       "      <th>고가</th>\n",
       "      <th>저가</th>\n",
       "      <th>거래량</th>\n",
       "    </tr>\n",
       "  </thead>\n",
       "  <tbody>\n",
       "    <tr>\n",
       "      <th>3</th>\n",
       "      <td>2020.10.21</td>\n",
       "      <td>179000.0</td>\n",
       "      <td>3500.0</td>\n",
       "      <td>180500.0</td>\n",
       "      <td>185500.0</td>\n",
       "      <td>177000.0</td>\n",
       "      <td>1658643.0</td>\n",
       "    </tr>\n",
       "    <tr>\n",
       "      <th>4</th>\n",
       "      <td>2020.10.20</td>\n",
       "      <td>182500.0</td>\n",
       "      <td>6500.0</td>\n",
       "      <td>190000.0</td>\n",
       "      <td>193500.0</td>\n",
       "      <td>176000.0</td>\n",
       "      <td>1811616.0</td>\n",
       "    </tr>\n",
       "    <tr>\n",
       "      <th>5</th>\n",
       "      <td>2020.10.19</td>\n",
       "      <td>189000.0</td>\n",
       "      <td>11500.0</td>\n",
       "      <td>198500.0</td>\n",
       "      <td>202500.0</td>\n",
       "      <td>187000.0</td>\n",
       "      <td>1977996.0</td>\n",
       "    </tr>\n",
       "    <tr>\n",
       "      <th>9</th>\n",
       "      <td>2020.10.16</td>\n",
       "      <td>200500.0</td>\n",
       "      <td>57500.0</td>\n",
       "      <td>253000.0</td>\n",
       "      <td>253000.0</td>\n",
       "      <td>199000.0</td>\n",
       "      <td>4504395.0</td>\n",
       "    </tr>\n",
       "    <tr>\n",
       "      <th>10</th>\n",
       "      <td>2020.10.15</td>\n",
       "      <td>258000.0</td>\n",
       "      <td>12000.0</td>\n",
       "      <td>270000.0</td>\n",
       "      <td>351000.0</td>\n",
       "      <td>253500.0</td>\n",
       "      <td>6557212.0</td>\n",
       "    </tr>\n",
       "  </tbody>\n",
       "</table>\n",
       "</div>"
      ],
      "text/plain": [
       "            날짜        종가      전일비        시가        고가        저가        거래량\n",
       "3   2020.10.21  179000.0   3500.0  180500.0  185500.0  177000.0  1658643.0\n",
       "4   2020.10.20  182500.0   6500.0  190000.0  193500.0  176000.0  1811616.0\n",
       "5   2020.10.19  189000.0  11500.0  198500.0  202500.0  187000.0  1977996.0\n",
       "9   2020.10.16  200500.0  57500.0  253000.0  253000.0  199000.0  4504395.0\n",
       "10  2020.10.15  258000.0  12000.0  270000.0  351000.0  253500.0  6557212.0"
      ]
     },
     "execution_count": 120,
     "metadata": {},
     "output_type": "execute_result"
    }
   ],
   "source": [
    "df.tail()"
   ]
  },
  {
   "cell_type": "markdown",
   "metadata": {
    "id": "DdML6w8yTMkA"
   },
   "source": [
    "## 데이터프레임에 종목코드와 종목명을 추가하기\n",
    "* 파생변수 만들기"
   ]
  },
  {
   "cell_type": "code",
   "execution_count": 121,
   "metadata": {
    "id": "-yIDnlZHTMkA"
   },
   "outputs": [],
   "source": [
    "# '종목코드'와 '종목명' column을 추가하면서 각각 item_code와 item_name 값을 입력합니다.\n",
    "df[\"종목코드\"] = item_code\n",
    "df[\"종목명\"] = item_name"
   ]
  },
  {
   "cell_type": "code",
   "execution_count": 122,
   "metadata": {
    "id": "bwDA0C4PTMkA"
   },
   "outputs": [
    {
     "data": {
      "text/html": [
       "<div>\n",
       "<style scoped>\n",
       "    .dataframe tbody tr th:only-of-type {\n",
       "        vertical-align: middle;\n",
       "    }\n",
       "\n",
       "    .dataframe tbody tr th {\n",
       "        vertical-align: top;\n",
       "    }\n",
       "\n",
       "    .dataframe thead th {\n",
       "        text-align: right;\n",
       "    }\n",
       "</style>\n",
       "<table border=\"1\" class=\"dataframe\">\n",
       "  <thead>\n",
       "    <tr style=\"text-align: right;\">\n",
       "      <th></th>\n",
       "      <th>날짜</th>\n",
       "      <th>종가</th>\n",
       "      <th>전일비</th>\n",
       "      <th>시가</th>\n",
       "      <th>고가</th>\n",
       "      <th>저가</th>\n",
       "      <th>거래량</th>\n",
       "      <th>종목코드</th>\n",
       "      <th>종목명</th>\n",
       "    </tr>\n",
       "  </thead>\n",
       "  <tbody>\n",
       "    <tr>\n",
       "      <th>1</th>\n",
       "      <td>2021.07.28</td>\n",
       "      <td>302500.0</td>\n",
       "      <td>4000.0</td>\n",
       "      <td>299000.0</td>\n",
       "      <td>303500.0</td>\n",
       "      <td>297500.0</td>\n",
       "      <td>61555.0</td>\n",
       "      <td>352820</td>\n",
       "      <td>하이브</td>\n",
       "    </tr>\n",
       "    <tr>\n",
       "      <th>2</th>\n",
       "      <td>2021.07.27</td>\n",
       "      <td>298500.0</td>\n",
       "      <td>500.0</td>\n",
       "      <td>301000.0</td>\n",
       "      <td>302000.0</td>\n",
       "      <td>296500.0</td>\n",
       "      <td>129698.0</td>\n",
       "      <td>352820</td>\n",
       "      <td>하이브</td>\n",
       "    </tr>\n",
       "  </tbody>\n",
       "</table>\n",
       "</div>"
      ],
      "text/plain": [
       "           날짜        종가     전일비        시가        고가        저가       거래량  \\\n",
       "1  2021.07.28  302500.0  4000.0  299000.0  303500.0  297500.0   61555.0   \n",
       "2  2021.07.27  298500.0   500.0  301000.0  302000.0  296500.0  129698.0   \n",
       "\n",
       "     종목코드  종목명  \n",
       "1  352820  하이브  \n",
       "2  352820  하이브  "
      ]
     },
     "execution_count": 122,
     "metadata": {},
     "output_type": "execute_result"
    }
   ],
   "source": [
    "df.head(2)"
   ]
  },
  {
   "cell_type": "markdown",
   "metadata": {
    "id": "3RlnKPE1TMkA"
   },
   "source": [
    "## 컬럼 순서 변경하기"
   ]
  },
  {
   "cell_type": "code",
   "execution_count": 142,
   "metadata": {
    "id": "JblNSbuRTMkA"
   },
   "outputs": [
    {
     "data": {
      "text/plain": [
       "Index(['종목코드', '종목명', '날짜', '종가', '전일비', '시가', '고가', '저가', '거래량'], dtype='object')"
      ]
     },
     "execution_count": 142,
     "metadata": {},
     "output_type": "execute_result"
    }
   ],
   "source": [
    "# DataFrame에서 column 들의 이름을 순서를 조정하여 column순서를 변경할 수 있습니다.\n",
    "df.columns"
   ]
  },
  {
   "cell_type": "code",
   "execution_count": 143,
   "metadata": {},
   "outputs": [
    {
     "data": {
      "text/html": [
       "<div>\n",
       "<style scoped>\n",
       "    .dataframe tbody tr th:only-of-type {\n",
       "        vertical-align: middle;\n",
       "    }\n",
       "\n",
       "    .dataframe tbody tr th {\n",
       "        vertical-align: top;\n",
       "    }\n",
       "\n",
       "    .dataframe thead th {\n",
       "        text-align: right;\n",
       "    }\n",
       "</style>\n",
       "<table border=\"1\" class=\"dataframe\">\n",
       "  <thead>\n",
       "    <tr style=\"text-align: right;\">\n",
       "      <th></th>\n",
       "      <th>종목코드</th>\n",
       "      <th>종목명</th>\n",
       "      <th>날짜</th>\n",
       "      <th>종가</th>\n",
       "      <th>전일비</th>\n",
       "      <th>시가</th>\n",
       "      <th>고가</th>\n",
       "      <th>저가</th>\n",
       "      <th>거래량</th>\n",
       "    </tr>\n",
       "  </thead>\n",
       "  <tbody>\n",
       "    <tr>\n",
       "      <th>1</th>\n",
       "      <td>352820</td>\n",
       "      <td>하이브</td>\n",
       "      <td>2021.07.28</td>\n",
       "      <td>302500.0</td>\n",
       "      <td>4000.0</td>\n",
       "      <td>299000.0</td>\n",
       "      <td>303500.0</td>\n",
       "      <td>297500.0</td>\n",
       "      <td>61555.0</td>\n",
       "    </tr>\n",
       "    <tr>\n",
       "      <th>2</th>\n",
       "      <td>352820</td>\n",
       "      <td>하이브</td>\n",
       "      <td>2021.07.27</td>\n",
       "      <td>298500.0</td>\n",
       "      <td>500.0</td>\n",
       "      <td>301000.0</td>\n",
       "      <td>302000.0</td>\n",
       "      <td>296500.0</td>\n",
       "      <td>129698.0</td>\n",
       "    </tr>\n",
       "  </tbody>\n",
       "</table>\n",
       "</div>"
      ],
      "text/plain": [
       "     종목코드  종목명          날짜        종가     전일비        시가        고가        저가  \\\n",
       "1  352820  하이브  2021.07.28  302500.0  4000.0  299000.0  303500.0  297500.0   \n",
       "2  352820  하이브  2021.07.27  298500.0   500.0  301000.0  302000.0  296500.0   \n",
       "\n",
       "        거래량  \n",
       "1   61555.0  \n",
       "2  129698.0  "
      ]
     },
     "execution_count": 143,
     "metadata": {},
     "output_type": "execute_result"
    }
   ],
   "source": [
    "cols = ['종목코드', '종목명', '날짜', '종가', '전일비', '시가', '고가', '저가', '거래량']\n",
    "df = df[cols]\n",
    "df.head(2)"
   ]
  },
  {
   "cell_type": "markdown",
   "metadata": {
    "id": "_-SXjeiSTMkA"
   },
   "source": [
    "## 중복데이터 제거하기\n",
    "* drop_duplicates 를 통해 중복된 데이터가 있다면 제거합니다."
   ]
  },
  {
   "cell_type": "code",
   "execution_count": 126,
   "metadata": {
    "id": "F0VZGMNRTMkA"
   },
   "outputs": [
    {
     "name": "stdout",
     "output_type": "stream",
     "text": [
      "(197, 9)\n"
     ]
    },
    {
     "data": {
      "text/plain": [
       "(197, 9)"
      ]
     },
     "execution_count": 126,
     "metadata": {},
     "output_type": "execute_result"
    }
   ],
   "source": [
    "# drop_duplicates : row들 끼리 data를 비교하여 같은 값이 있으면 row중 하나를 삭제\n",
    "# df.shape를 전/후로 출력하여 삭제된 row가 있는지 확인\n",
    "print(df.shape)\n",
    "df = df.drop_duplicates()\n",
    "df.shape"
   ]
  },
  {
   "cell_type": "markdown",
   "metadata": {
    "id": "viEbEi4iTMkB"
   },
   "source": [
    "## 기술통계값 구하기"
   ]
  },
  {
   "cell_type": "code",
   "execution_count": 127,
   "metadata": {
    "id": "Q-gV-QPPTMkB"
   },
   "outputs": [
    {
     "data": {
      "text/html": [
       "<div>\n",
       "<style scoped>\n",
       "    .dataframe tbody tr th:only-of-type {\n",
       "        vertical-align: middle;\n",
       "    }\n",
       "\n",
       "    .dataframe tbody tr th {\n",
       "        vertical-align: top;\n",
       "    }\n",
       "\n",
       "    .dataframe thead th {\n",
       "        text-align: right;\n",
       "    }\n",
       "</style>\n",
       "<table border=\"1\" class=\"dataframe\">\n",
       "  <thead>\n",
       "    <tr style=\"text-align: right;\">\n",
       "      <th></th>\n",
       "      <th>종가</th>\n",
       "      <th>전일비</th>\n",
       "      <th>시가</th>\n",
       "      <th>고가</th>\n",
       "      <th>저가</th>\n",
       "      <th>거래량</th>\n",
       "    </tr>\n",
       "  </thead>\n",
       "  <tbody>\n",
       "    <tr>\n",
       "      <th>count</th>\n",
       "      <td>197.000000</td>\n",
       "      <td>197.000000</td>\n",
       "      <td>197.000000</td>\n",
       "      <td>197.000000</td>\n",
       "      <td>197.000000</td>\n",
       "      <td>1.970000e+02</td>\n",
       "    </tr>\n",
       "    <tr>\n",
       "      <th>mean</th>\n",
       "      <td>226573.604061</td>\n",
       "      <td>5954.314721</td>\n",
       "      <td>227015.228426</td>\n",
       "      <td>233012.690355</td>\n",
       "      <td>221573.604061</td>\n",
       "      <td>5.570544e+05</td>\n",
       "    </tr>\n",
       "    <tr>\n",
       "      <th>std</th>\n",
       "      <td>50458.797232</td>\n",
       "      <td>6206.517654</td>\n",
       "      <td>50565.650109</td>\n",
       "      <td>51781.118923</td>\n",
       "      <td>49821.425128</td>\n",
       "      <td>7.281001e+05</td>\n",
       "    </tr>\n",
       "    <tr>\n",
       "      <th>min</th>\n",
       "      <td>142000.000000</td>\n",
       "      <td>0.000000</td>\n",
       "      <td>142500.000000</td>\n",
       "      <td>146500.000000</td>\n",
       "      <td>141000.000000</td>\n",
       "      <td>6.155500e+04</td>\n",
       "    </tr>\n",
       "    <tr>\n",
       "      <th>25%</th>\n",
       "      <td>180000.000000</td>\n",
       "      <td>1500.000000</td>\n",
       "      <td>180000.000000</td>\n",
       "      <td>183000.000000</td>\n",
       "      <td>175500.000000</td>\n",
       "      <td>2.154120e+05</td>\n",
       "    </tr>\n",
       "    <tr>\n",
       "      <th>50%</th>\n",
       "      <td>232500.000000</td>\n",
       "      <td>4000.000000</td>\n",
       "      <td>232000.000000</td>\n",
       "      <td>241000.000000</td>\n",
       "      <td>226500.000000</td>\n",
       "      <td>3.555120e+05</td>\n",
       "    </tr>\n",
       "    <tr>\n",
       "      <th>75%</th>\n",
       "      <td>260500.000000</td>\n",
       "      <td>8000.000000</td>\n",
       "      <td>262000.000000</td>\n",
       "      <td>266000.000000</td>\n",
       "      <td>255500.000000</td>\n",
       "      <td>5.811950e+05</td>\n",
       "    </tr>\n",
       "    <tr>\n",
       "      <th>max</th>\n",
       "      <td>324500.000000</td>\n",
       "      <td>57500.000000</td>\n",
       "      <td>334500.000000</td>\n",
       "      <td>351000.000000</td>\n",
       "      <td>318500.000000</td>\n",
       "      <td>6.557212e+06</td>\n",
       "    </tr>\n",
       "  </tbody>\n",
       "</table>\n",
       "</div>"
      ],
      "text/plain": [
       "                  종가           전일비             시가             고가  \\\n",
       "count     197.000000    197.000000     197.000000     197.000000   \n",
       "mean   226573.604061   5954.314721  227015.228426  233012.690355   \n",
       "std     50458.797232   6206.517654   50565.650109   51781.118923   \n",
       "min    142000.000000      0.000000  142500.000000  146500.000000   \n",
       "25%    180000.000000   1500.000000  180000.000000  183000.000000   \n",
       "50%    232500.000000   4000.000000  232000.000000  241000.000000   \n",
       "75%    260500.000000   8000.000000  262000.000000  266000.000000   \n",
       "max    324500.000000  57500.000000  334500.000000  351000.000000   \n",
       "\n",
       "                  저가           거래량  \n",
       "count     197.000000  1.970000e+02  \n",
       "mean   221573.604061  5.570544e+05  \n",
       "std     49821.425128  7.281001e+05  \n",
       "min    141000.000000  6.155500e+04  \n",
       "25%    175500.000000  2.154120e+05  \n",
       "50%    226500.000000  3.555120e+05  \n",
       "75%    255500.000000  5.811950e+05  \n",
       "max    318500.000000  6.557212e+06  "
      ]
     },
     "execution_count": 127,
     "metadata": {},
     "output_type": "execute_result"
    }
   ],
   "source": [
    "# describe는 기본적으로 수치데이터에 대한 기술통계값을 구하게 됩니다.\n",
    "df.describe()"
   ]
  },
  {
   "cell_type": "markdown",
   "metadata": {},
   "source": [
    "* 참고 : E notation\n",
    "[과학적 기수법 - 위키백과, 우리 모두의 백과사전](https://ko.wikipedia.org/wiki/%EA%B3%BC%ED%95%99%EC%A0%81_%EA%B8%B0%EC%88%98%EB%B2%95)\n",
    "\n",
    "과학적 기수법, 과학적 표기법(scientific notation, scientific form, standard index form, standard form)은 너무 크거나 너무 작은 숫자들을 십진법으로 편하게 작성하여 표현하는 방법이다. 과학자, 수학자, 공학자들이 공통적으로 사용하는데, 부분적인 이유는 특정한 산술을 단순화시켜 주기 때문이다. 과학 계산기에서는 \"SCI\" 디스플레이 모드라는 이름으로 알려져 있다."
   ]
  },
  {
   "cell_type": "code",
   "execution_count": 128,
   "metadata": {},
   "outputs": [
    {
     "data": {
      "text/plain": [
       "61555.0"
      ]
     },
     "execution_count": 128,
     "metadata": {},
     "output_type": "execute_result"
    }
   ],
   "source": [
    "# 거래량의 과학적 기수법 읽기\n",
    "6.155500e+04"
   ]
  },
  {
   "cell_type": "markdown",
   "metadata": {
    "id": "Ql0phnyuTMkB"
   },
   "source": [
    "## 최근 날짜 구해서 파일명 만들기"
   ]
  },
  {
   "cell_type": "code",
   "execution_count": 141,
   "metadata": {},
   "outputs": [
    {
     "data": {
      "text/html": [
       "<div>\n",
       "<style scoped>\n",
       "    .dataframe tbody tr th:only-of-type {\n",
       "        vertical-align: middle;\n",
       "    }\n",
       "\n",
       "    .dataframe tbody tr th {\n",
       "        vertical-align: top;\n",
       "    }\n",
       "\n",
       "    .dataframe thead th {\n",
       "        text-align: right;\n",
       "    }\n",
       "</style>\n",
       "<table border=\"1\" class=\"dataframe\">\n",
       "  <thead>\n",
       "    <tr style=\"text-align: right;\">\n",
       "      <th></th>\n",
       "      <th>종목코드</th>\n",
       "      <th>종목명</th>\n",
       "      <th>날짜</th>\n",
       "      <th>종가</th>\n",
       "      <th>전일비</th>\n",
       "      <th>시가</th>\n",
       "      <th>고가</th>\n",
       "      <th>저가</th>\n",
       "      <th>거래량</th>\n",
       "    </tr>\n",
       "  </thead>\n",
       "  <tbody>\n",
       "    <tr>\n",
       "      <th>1</th>\n",
       "      <td>352820</td>\n",
       "      <td>하이브</td>\n",
       "      <td>2021.07.28</td>\n",
       "      <td>302500.0</td>\n",
       "      <td>4000.0</td>\n",
       "      <td>299000.0</td>\n",
       "      <td>303500.0</td>\n",
       "      <td>297500.0</td>\n",
       "      <td>61555.0</td>\n",
       "    </tr>\n",
       "  </tbody>\n",
       "</table>\n",
       "</div>"
      ],
      "text/plain": [
       "     종목코드  종목명          날짜        종가     전일비        시가        고가        저가  \\\n",
       "1  352820  하이브  2021.07.28  302500.0  4000.0  299000.0  303500.0  297500.0   \n",
       "\n",
       "       거래량  \n",
       "1  61555.0  "
      ]
     },
     "execution_count": 141,
     "metadata": {},
     "output_type": "execute_result"
    }
   ],
   "source": [
    "df.head(1)"
   ]
  },
  {
   "cell_type": "code",
   "execution_count": 135,
   "metadata": {
    "id": "_dyLUpVVTMkB"
   },
   "outputs": [
    {
     "data": {
      "text/plain": [
       "'2021.07.28'"
      ]
     },
     "execution_count": 135,
     "metadata": {},
     "output_type": "execute_result"
    }
   ],
   "source": [
    "# 날짜 column의 첫 row값 확인\n",
    "date = df.iloc[0, 2]\n",
    "date"
   ]
  },
  {
   "cell_type": "code",
   "execution_count": 139,
   "metadata": {
    "id": "teInPugvTMkB"
   },
   "outputs": [
    {
     "data": {
      "text/plain": [
       "'하이브_352820_2021.07.28.csv'"
      ]
     },
     "execution_count": 139,
     "metadata": {},
     "output_type": "execute_result"
    }
   ],
   "source": [
    "# 종목명, 종목코드, 날짜를 이름으로 하는 csv 파일명 만들기\n",
    "file_name = f\"{item_name}_{item_code}_{date}.csv\"\n",
    "file_name"
   ]
  },
  {
   "cell_type": "markdown",
   "metadata": {
    "id": "1LXe-dutTMkB"
   },
   "source": [
    "## 파일로 저장하기"
   ]
  },
  {
   "cell_type": "code",
   "execution_count": 146,
   "metadata": {
    "id": "dBRXOwIxTMkB"
   },
   "outputs": [],
   "source": [
    "# 파일로 저장하기 \n",
    "# index=False 로 데이터프레임의 기본 index 는 저장하지 않도록 합니다.\n",
    "df.to_csv(file_name, index=False)"
   ]
  },
  {
   "cell_type": "code",
   "execution_count": 147,
   "metadata": {
    "id": "EEfm9Yk9TMkB"
   },
   "outputs": [
    {
     "data": {
      "text/html": [
       "<div>\n",
       "<style scoped>\n",
       "    .dataframe tbody tr th:only-of-type {\n",
       "        vertical-align: middle;\n",
       "    }\n",
       "\n",
       "    .dataframe tbody tr th {\n",
       "        vertical-align: top;\n",
       "    }\n",
       "\n",
       "    .dataframe thead th {\n",
       "        text-align: right;\n",
       "    }\n",
       "</style>\n",
       "<table border=\"1\" class=\"dataframe\">\n",
       "  <thead>\n",
       "    <tr style=\"text-align: right;\">\n",
       "      <th></th>\n",
       "      <th>종목코드</th>\n",
       "      <th>종목명</th>\n",
       "      <th>날짜</th>\n",
       "      <th>종가</th>\n",
       "      <th>전일비</th>\n",
       "      <th>시가</th>\n",
       "      <th>고가</th>\n",
       "      <th>저가</th>\n",
       "      <th>거래량</th>\n",
       "    </tr>\n",
       "  </thead>\n",
       "  <tbody>\n",
       "    <tr>\n",
       "      <th>0</th>\n",
       "      <td>352820</td>\n",
       "      <td>하이브</td>\n",
       "      <td>2021.07.28</td>\n",
       "      <td>302500.0</td>\n",
       "      <td>4000.0</td>\n",
       "      <td>299000.0</td>\n",
       "      <td>303500.0</td>\n",
       "      <td>297500.0</td>\n",
       "      <td>61555.0</td>\n",
       "    </tr>\n",
       "    <tr>\n",
       "      <th>1</th>\n",
       "      <td>352820</td>\n",
       "      <td>하이브</td>\n",
       "      <td>2021.07.27</td>\n",
       "      <td>298500.0</td>\n",
       "      <td>500.0</td>\n",
       "      <td>301000.0</td>\n",
       "      <td>302000.0</td>\n",
       "      <td>296500.0</td>\n",
       "      <td>129698.0</td>\n",
       "    </tr>\n",
       "    <tr>\n",
       "      <th>2</th>\n",
       "      <td>352820</td>\n",
       "      <td>하이브</td>\n",
       "      <td>2021.07.26</td>\n",
       "      <td>299000.0</td>\n",
       "      <td>4000.0</td>\n",
       "      <td>305000.0</td>\n",
       "      <td>307000.0</td>\n",
       "      <td>298500.0</td>\n",
       "      <td>170632.0</td>\n",
       "    </tr>\n",
       "    <tr>\n",
       "      <th>3</th>\n",
       "      <td>352820</td>\n",
       "      <td>하이브</td>\n",
       "      <td>2021.07.23</td>\n",
       "      <td>303000.0</td>\n",
       "      <td>1500.0</td>\n",
       "      <td>300500.0</td>\n",
       "      <td>306500.0</td>\n",
       "      <td>299000.0</td>\n",
       "      <td>196806.0</td>\n",
       "    </tr>\n",
       "    <tr>\n",
       "      <th>4</th>\n",
       "      <td>352820</td>\n",
       "      <td>하이브</td>\n",
       "      <td>2021.07.22</td>\n",
       "      <td>301500.0</td>\n",
       "      <td>3000.0</td>\n",
       "      <td>301500.0</td>\n",
       "      <td>306500.0</td>\n",
       "      <td>298500.0</td>\n",
       "      <td>254160.0</td>\n",
       "    </tr>\n",
       "    <tr>\n",
       "      <th>...</th>\n",
       "      <td>...</td>\n",
       "      <td>...</td>\n",
       "      <td>...</td>\n",
       "      <td>...</td>\n",
       "      <td>...</td>\n",
       "      <td>...</td>\n",
       "      <td>...</td>\n",
       "      <td>...</td>\n",
       "      <td>...</td>\n",
       "    </tr>\n",
       "    <tr>\n",
       "      <th>192</th>\n",
       "      <td>352820</td>\n",
       "      <td>하이브</td>\n",
       "      <td>2020.10.21</td>\n",
       "      <td>179000.0</td>\n",
       "      <td>3500.0</td>\n",
       "      <td>180500.0</td>\n",
       "      <td>185500.0</td>\n",
       "      <td>177000.0</td>\n",
       "      <td>1658643.0</td>\n",
       "    </tr>\n",
       "    <tr>\n",
       "      <th>193</th>\n",
       "      <td>352820</td>\n",
       "      <td>하이브</td>\n",
       "      <td>2020.10.20</td>\n",
       "      <td>182500.0</td>\n",
       "      <td>6500.0</td>\n",
       "      <td>190000.0</td>\n",
       "      <td>193500.0</td>\n",
       "      <td>176000.0</td>\n",
       "      <td>1811616.0</td>\n",
       "    </tr>\n",
       "    <tr>\n",
       "      <th>194</th>\n",
       "      <td>352820</td>\n",
       "      <td>하이브</td>\n",
       "      <td>2020.10.19</td>\n",
       "      <td>189000.0</td>\n",
       "      <td>11500.0</td>\n",
       "      <td>198500.0</td>\n",
       "      <td>202500.0</td>\n",
       "      <td>187000.0</td>\n",
       "      <td>1977996.0</td>\n",
       "    </tr>\n",
       "    <tr>\n",
       "      <th>195</th>\n",
       "      <td>352820</td>\n",
       "      <td>하이브</td>\n",
       "      <td>2020.10.16</td>\n",
       "      <td>200500.0</td>\n",
       "      <td>57500.0</td>\n",
       "      <td>253000.0</td>\n",
       "      <td>253000.0</td>\n",
       "      <td>199000.0</td>\n",
       "      <td>4504395.0</td>\n",
       "    </tr>\n",
       "    <tr>\n",
       "      <th>196</th>\n",
       "      <td>352820</td>\n",
       "      <td>하이브</td>\n",
       "      <td>2020.10.15</td>\n",
       "      <td>258000.0</td>\n",
       "      <td>12000.0</td>\n",
       "      <td>270000.0</td>\n",
       "      <td>351000.0</td>\n",
       "      <td>253500.0</td>\n",
       "      <td>6557212.0</td>\n",
       "    </tr>\n",
       "  </tbody>\n",
       "</table>\n",
       "<p>197 rows × 9 columns</p>\n",
       "</div>"
      ],
      "text/plain": [
       "       종목코드  종목명          날짜        종가      전일비        시가        고가        저가  \\\n",
       "0    352820  하이브  2021.07.28  302500.0   4000.0  299000.0  303500.0  297500.0   \n",
       "1    352820  하이브  2021.07.27  298500.0    500.0  301000.0  302000.0  296500.0   \n",
       "2    352820  하이브  2021.07.26  299000.0   4000.0  305000.0  307000.0  298500.0   \n",
       "3    352820  하이브  2021.07.23  303000.0   1500.0  300500.0  306500.0  299000.0   \n",
       "4    352820  하이브  2021.07.22  301500.0   3000.0  301500.0  306500.0  298500.0   \n",
       "..      ...  ...         ...       ...      ...       ...       ...       ...   \n",
       "192  352820  하이브  2020.10.21  179000.0   3500.0  180500.0  185500.0  177000.0   \n",
       "193  352820  하이브  2020.10.20  182500.0   6500.0  190000.0  193500.0  176000.0   \n",
       "194  352820  하이브  2020.10.19  189000.0  11500.0  198500.0  202500.0  187000.0   \n",
       "195  352820  하이브  2020.10.16  200500.0  57500.0  253000.0  253000.0  199000.0   \n",
       "196  352820  하이브  2020.10.15  258000.0  12000.0  270000.0  351000.0  253500.0   \n",
       "\n",
       "           거래량  \n",
       "0      61555.0  \n",
       "1     129698.0  \n",
       "2     170632.0  \n",
       "3     196806.0  \n",
       "4     254160.0  \n",
       "..         ...  \n",
       "192  1658643.0  \n",
       "193  1811616.0  \n",
       "194  1977996.0  \n",
       "195  4504395.0  \n",
       "196  6557212.0  \n",
       "\n",
       "[197 rows x 9 columns]"
      ]
     },
     "execution_count": 147,
     "metadata": {},
     "output_type": "execute_result"
    }
   ],
   "source": [
    "# 제대로 저장되었는지 파일을 읽어서 확인합니다.\n",
    "pd.read_csv(file_name)"
   ]
  },
  {
   "cell_type": "markdown",
   "metadata": {},
   "source": [
    "## 전체 과정을 하나의 함수로 만들기"
   ]
  },
  {
   "cell_type": "code",
   "execution_count": 149,
   "metadata": {},
   "outputs": [],
   "source": [
    "def get_item_list(item_code, item_name):\n",
    "    \"\"\"\n",
    "    일별 시세를 수집하는 함수\n",
    "    \"\"\"\n",
    "    \n",
    "    # 페이지별 결과를 받을 리스트를 초기화\n",
    "    item_list = []\n",
    "\n",
    "    # 페이지 번호 초기화\n",
    "    page_no = 1\n",
    "\n",
    "    while True:\n",
    "        # 수집함수\n",
    "        temp = get_day_list(item_code, page_no)\n",
    "\n",
    "        # 두번쨰 페이지부터 확인\n",
    "        if page_no > 1 :\n",
    "            pre_date = item_list[-1]['날짜'].tolist()[0]\n",
    "            now_date = temp['날짜'].tolist()[0]\n",
    "            if pre_date == now_date :\n",
    "                break\n",
    "\n",
    "        item_list.append(temp)\n",
    "\n",
    "        # 서버에 부담을 주지 않기 위해 시간차를 두고 가져옵니다.\n",
    "        random_time = np.random.uniform(0.1, 0.5)\n",
    "        time.sleep(random_time)\n",
    "\n",
    "        # 페이지 번호를 하나씩 증가 시키고\n",
    "        page_no = page_no + 1\n",
    "\n",
    "        # 5페이지 단위로 현재 몇 페이지인지를 출력\n",
    "        if page_no % 5 == 0:\n",
    "            print(page_no)\n",
    "\n",
    "    # 전처리\n",
    "    df = pd.concat(item_list)\n",
    "    df[\"종목코드\"] = item_code\n",
    "    df[\"종목명\"] = item_name\n",
    "    cols = ['종목코드', '종목명', '날짜', '종가', '전일비', '시가', '고가', '저가', '거래량']\n",
    "    df = df[cols].copy()\n",
    "    \n",
    "    # 파일저장\n",
    "    date = df.iloc[0, 2]\n",
    "    file_name = f\"{item_name}_{item_code}_{date}.csv\"\n",
    "    df.to_csv(file_name, index=False)\n",
    "    return True"
   ]
  },
  {
   "cell_type": "code",
   "execution_count": 150,
   "metadata": {},
   "outputs": [
    {
     "name": "stdout",
     "output_type": "stream",
     "text": [
      "5\n",
      "10\n",
      "15\n",
      "20\n"
     ]
    },
    {
     "data": {
      "text/plain": [
       "True"
      ]
     },
     "execution_count": 150,
     "metadata": {},
     "output_type": "execute_result"
    }
   ],
   "source": [
    "# item_code = \"352820\"\n",
    "# item_name = \"하이브\"\n",
    "# 빅히트의 사명이 하이브로 변경되었습니다.\n",
    "\n",
    "# item_code = \"326030\"\n",
    "# item_name = \"SK바이오팜\"\n",
    "item_code = \"293490\"\n",
    "item_name = \"카카오게임즈\"\n",
    "get_item_list(item_code, item_name)"
   ]
  },
  {
   "cell_type": "markdown",
   "metadata": {},
   "source": [
    "## 내가 만든 함수의 기능과 소스코드가 궁금하다면?"
   ]
  },
  {
   "cell_type": "code",
   "execution_count": 151,
   "metadata": {},
   "outputs": [],
   "source": [
    "# 도움말 보기\n",
    "# get_item_list?"
   ]
  },
  {
   "cell_type": "code",
   "execution_count": 152,
   "metadata": {},
   "outputs": [],
   "source": [
    "# 소스코드 보기\n",
    "# get_item_list??\n"
   ]
  },
  {
   "cell_type": "code",
   "execution_count": null,
   "metadata": {},
   "outputs": [],
   "source": []
  }
 ],
 "metadata": {
  "colab": {
   "collapsed_sections": [],
   "name": "3. 네이버금융 개별종목 수집.ipynb",
   "provenance": [],
   "toc_visible": true
  },
  "kernelspec": {
   "display_name": "Python 3",
   "language": "python",
   "name": "python3"
  },
  "language_info": {
   "codemirror_mode": {
    "name": "ipython",
    "version": 3
   },
   "file_extension": ".py",
   "mimetype": "text/x-python",
   "name": "python",
   "nbconvert_exporter": "python",
   "pygments_lexer": "ipython3",
   "version": "3.7.6"
  },
  "toc": {
   "base_numbering": 1,
   "nav_menu": {},
   "number_sections": true,
   "sideBar": true,
   "skip_h1_title": false,
   "title_cell": "Table of Contents",
   "title_sidebar": "Contents",
   "toc_cell": false,
   "toc_position": {
    "height": "calc(100% - 180px)",
    "left": "10px",
    "top": "150px",
    "width": "204.797px"
   },
   "toc_section_display": true,
   "toc_window_display": true
  },
  "varInspector": {
   "cols": {
    "lenName": 16,
    "lenType": 16,
    "lenVar": 40
   },
   "kernels_config": {
    "python": {
     "delete_cmd_postfix": "",
     "delete_cmd_prefix": "del ",
     "library": "var_list.py",
     "varRefreshCmd": "print(var_dic_list())"
    },
    "r": {
     "delete_cmd_postfix": ") ",
     "delete_cmd_prefix": "rm(",
     "library": "var_list.r",
     "varRefreshCmd": "cat(var_dic_list()) "
    }
   },
   "types_to_exclude": [
    "module",
    "function",
    "builtin_function_or_method",
    "instance",
    "_Feature"
   ],
   "window_display": false
  }
 },
 "nbformat": 4,
 "nbformat_minor": 1
}
