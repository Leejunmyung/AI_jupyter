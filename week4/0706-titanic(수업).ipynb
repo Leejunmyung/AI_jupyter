{
 "cells": [
  {
   "cell_type": "code",
   "execution_count": null,
   "metadata": {
    "_cell_guid": "b1076dfc-b9ad-4769-8c92-a6c4dae69d19",
    "_uuid": "8f2839f25d086af736a60e9eeb907d3b93b6e0e5",
    "execution": {
     "iopub.execute_input": "2021-07-06T03:48:37.682031Z",
     "iopub.status.busy": "2021-07-06T03:48:37.68165Z",
     "iopub.status.idle": "2021-07-06T03:48:37.6947Z",
     "shell.execute_reply": "2021-07-06T03:48:37.693852Z",
     "shell.execute_reply.started": "2021-07-06T03:48:37.681943Z"
    }
   },
   "outputs": [],
   "source": [
    "import numpy as np # linear algebra\n",
    "import pandas as pd # data processing, CSV file I/O (e.g. pd.read_csv)\n",
    "\n",
    "import os\n",
    "for dirname, _, filenames in os.walk('/kaggle/input'):\n",
    "    for filename in filenames:\n",
    "        print(os.path.join(dirname, filename))"
   ]
  },
  {
   "cell_type": "code",
   "execution_count": null,
   "metadata": {
    "execution": {
     "iopub.execute_input": "2021-07-06T04:33:11.821279Z",
     "iopub.status.busy": "2021-07-06T04:33:11.820754Z",
     "iopub.status.idle": "2021-07-06T04:33:11.846357Z",
     "shell.execute_reply": "2021-07-06T04:33:11.845429Z",
     "shell.execute_reply.started": "2021-07-06T04:33:11.82122Z"
    }
   },
   "outputs": [],
   "source": [
    "train = pd.read_csv(\"/kaggle/input/titanic/train.csv\")\n",
    "test = pd.read_csv(\"/kaggle/input/titanic/test.csv\")\n",
    "sub = pd.read_csv(\"/kaggle/input/titanic/gender_submission.csv\")\n",
    "\n",
    "train.shape, test.shape, sub.shape"
   ]
  },
  {
   "cell_type": "code",
   "execution_count": null,
   "metadata": {
    "execution": {
     "iopub.execute_input": "2021-07-06T04:33:12.732399Z",
     "iopub.status.busy": "2021-07-06T04:33:12.731918Z",
     "iopub.status.idle": "2021-07-06T04:33:12.737433Z",
     "shell.execute_reply": "2021-07-06T04:33:12.736644Z",
     "shell.execute_reply.started": "2021-07-06T04:33:12.732367Z"
    }
   },
   "outputs": [],
   "source": [
    "train.columns"
   ]
  },
  {
   "cell_type": "code",
   "execution_count": null,
   "metadata": {
    "execution": {
     "iopub.execute_input": "2021-07-06T04:33:12.871504Z",
     "iopub.status.busy": "2021-07-06T04:33:12.870902Z",
     "iopub.status.idle": "2021-07-06T04:33:12.878591Z",
     "shell.execute_reply": "2021-07-06T04:33:12.87767Z",
     "shell.execute_reply.started": "2021-07-06T04:33:12.871455Z"
    }
   },
   "outputs": [],
   "source": [
    "test.columns"
   ]
  },
  {
   "cell_type": "code",
   "execution_count": null,
   "metadata": {
    "execution": {
     "iopub.execute_input": "2021-07-06T04:33:13.104979Z",
     "iopub.status.busy": "2021-07-06T04:33:13.104638Z",
     "iopub.status.idle": "2021-07-06T04:33:13.110883Z",
     "shell.execute_reply": "2021-07-06T04:33:13.109652Z",
     "shell.execute_reply.started": "2021-07-06T04:33:13.104948Z"
    }
   },
   "outputs": [],
   "source": [
    "import pandas as pd\n",
    "import seaborn as sns\n",
    "import matplotlib.pyplot as plt\n",
    "\n",
    "print(\"pandas 버전 \", pd.__version__) \n",
    "print(\"seaborn 버전 \", sns.__version__) "
   ]
  },
  {
   "cell_type": "code",
   "execution_count": null,
   "metadata": {
    "execution": {
     "iopub.execute_input": "2021-07-06T04:33:13.575085Z",
     "iopub.status.busy": "2021-07-06T04:33:13.57475Z",
     "iopub.status.idle": "2021-07-06T04:33:13.581586Z",
     "shell.execute_reply": "2021-07-06T04:33:13.580787Z",
     "shell.execute_reply.started": "2021-07-06T04:33:13.575054Z"
    }
   },
   "outputs": [],
   "source": [
    "anscombe = sns.load_dataset('anscombe')"
   ]
  },
  {
   "cell_type": "code",
   "execution_count": null,
   "metadata": {
    "execution": {
     "iopub.execute_input": "2021-07-06T04:33:13.842126Z",
     "iopub.status.busy": "2021-07-06T04:33:13.84179Z",
     "iopub.status.idle": "2021-07-06T04:33:13.852692Z",
     "shell.execute_reply": "2021-07-06T04:33:13.85189Z",
     "shell.execute_reply.started": "2021-07-06T04:33:13.842097Z"
    }
   },
   "outputs": [],
   "source": [
    "anscombe.head()"
   ]
  },
  {
   "cell_type": "code",
   "execution_count": null,
   "metadata": {
    "execution": {
     "iopub.execute_input": "2021-07-06T04:33:14.096383Z",
     "iopub.status.busy": "2021-07-06T04:33:14.095856Z",
     "iopub.status.idle": "2021-07-06T04:33:14.110094Z",
     "shell.execute_reply": "2021-07-06T04:33:14.109247Z",
     "shell.execute_reply.started": "2021-07-06T04:33:14.096337Z"
    }
   },
   "outputs": [],
   "source": [
    "anscombe.info()"
   ]
  },
  {
   "cell_type": "code",
   "execution_count": null,
   "metadata": {
    "execution": {
     "iopub.execute_input": "2021-07-06T04:33:14.497427Z",
     "iopub.status.busy": "2021-07-06T04:33:14.496908Z",
     "iopub.status.idle": "2021-07-06T04:33:14.504977Z",
     "shell.execute_reply": "2021-07-06T04:33:14.50428Z",
     "shell.execute_reply.started": "2021-07-06T04:33:14.497378Z"
    }
   },
   "outputs": [],
   "source": [
    "anscombe.count()"
   ]
  },
  {
   "cell_type": "code",
   "execution_count": null,
   "metadata": {
    "execution": {
     "iopub.execute_input": "2021-07-06T04:33:14.897377Z",
     "iopub.status.busy": "2021-07-06T04:33:14.897001Z",
     "iopub.status.idle": "2021-07-06T04:33:14.904414Z",
     "shell.execute_reply": "2021-07-06T04:33:14.903449Z",
     "shell.execute_reply.started": "2021-07-06T04:33:14.897321Z"
    }
   },
   "outputs": [],
   "source": [
    "anscombe.dataset.value_counts()"
   ]
  },
  {
   "cell_type": "code",
   "execution_count": null,
   "metadata": {
    "execution": {
     "iopub.execute_input": "2021-07-06T04:33:15.193713Z",
     "iopub.status.busy": "2021-07-06T04:33:15.193334Z",
     "iopub.status.idle": "2021-07-06T04:33:15.19969Z",
     "shell.execute_reply": "2021-07-06T04:33:15.198689Z",
     "shell.execute_reply.started": "2021-07-06T04:33:15.193678Z"
    }
   },
   "outputs": [],
   "source": [
    "anscombe.dataset.unique()"
   ]
  },
  {
   "cell_type": "code",
   "execution_count": null,
   "metadata": {
    "execution": {
     "iopub.execute_input": "2021-07-06T04:33:15.518798Z",
     "iopub.status.busy": "2021-07-06T04:33:15.518479Z",
     "iopub.status.idle": "2021-07-06T04:33:15.667203Z",
     "shell.execute_reply": "2021-07-06T04:33:15.666592Z",
     "shell.execute_reply.started": "2021-07-06T04:33:15.51877Z"
    }
   },
   "outputs": [],
   "source": [
    "# 수치형으로 그래프\n",
    "# 두 특징(feature) 상관관계 - 산점도\n",
    "# 수치형 feature의 데이터의 분포를 보고 싶다 - 히스토그램. \n",
    "plt.hist(anscombe['x'])"
   ]
  },
  {
   "cell_type": "code",
   "execution_count": null,
   "metadata": {
    "execution": {
     "iopub.execute_input": "2021-07-06T04:33:15.862121Z",
     "iopub.status.busy": "2021-07-06T04:33:15.861633Z",
     "iopub.status.idle": "2021-07-06T04:33:15.986837Z",
     "shell.execute_reply": "2021-07-06T04:33:15.98595Z",
     "shell.execute_reply.started": "2021-07-06T04:33:15.862088Z"
    }
   },
   "outputs": [],
   "source": [
    "plt.hist(anscombe['y'])"
   ]
  },
  {
   "cell_type": "code",
   "execution_count": null,
   "metadata": {
    "execution": {
     "iopub.execute_input": "2021-07-06T04:33:16.126465Z",
     "iopub.status.busy": "2021-07-06T04:33:16.126078Z",
     "iopub.status.idle": "2021-07-06T04:33:16.917509Z",
     "shell.execute_reply": "2021-07-06T04:33:16.916471Z",
     "shell.execute_reply.started": "2021-07-06T04:33:16.126429Z"
    }
   },
   "outputs": [],
   "source": [
    "anscomb_plot = sns.lmplot(x = 'x', y='y', data=anscombe, hue='dataset')"
   ]
  },
  {
   "cell_type": "code",
   "execution_count": null,
   "metadata": {
    "execution": {
     "iopub.execute_input": "2021-07-06T04:33:16.919238Z",
     "iopub.status.busy": "2021-07-06T04:33:16.918968Z",
     "iopub.status.idle": "2021-07-06T04:33:16.9339Z",
     "shell.execute_reply": "2021-07-06T04:33:16.932877Z",
     "shell.execute_reply.started": "2021-07-06T04:33:16.919211Z"
    }
   },
   "outputs": [],
   "source": [
    "train.head(3)"
   ]
  },
  {
   "cell_type": "code",
   "execution_count": null,
   "metadata": {
    "execution": {
     "iopub.execute_input": "2021-07-06T04:33:16.936127Z",
     "iopub.status.busy": "2021-07-06T04:33:16.935725Z",
     "iopub.status.idle": "2021-07-06T04:33:16.952678Z",
     "shell.execute_reply": "2021-07-06T04:33:16.951861Z",
     "shell.execute_reply.started": "2021-07-06T04:33:16.936085Z"
    }
   },
   "outputs": [],
   "source": [
    "test.head(3)"
   ]
  },
  {
   "cell_type": "code",
   "execution_count": null,
   "metadata": {
    "execution": {
     "iopub.execute_input": "2021-07-06T04:33:17.067903Z",
     "iopub.status.busy": "2021-07-06T04:33:17.067347Z",
     "iopub.status.idle": "2021-07-06T04:33:17.635774Z",
     "shell.execute_reply": "2021-07-06T04:33:17.634988Z",
     "shell.execute_reply.started": "2021-07-06T04:33:17.067868Z"
    }
   },
   "outputs": [],
   "source": [
    "### 실습 1-4 Age, Fare lmplot을 그려보자. 생존자(생존, 사망) \n",
    "### urlopen error [Errno -3] Temporary failure in name resolution\n",
    "titanic_plot = sns.lmplot(x='Age', y='Fare', data=train, hue='Survived')"
   ]
  },
  {
   "cell_type": "code",
   "execution_count": null,
   "metadata": {
    "execution": {
     "iopub.execute_input": "2021-07-06T04:33:20.659721Z",
     "iopub.status.busy": "2021-07-06T04:33:20.659172Z",
     "iopub.status.idle": "2021-07-06T04:33:20.676903Z",
     "shell.execute_reply": "2021-07-06T04:33:20.675986Z",
     "shell.execute_reply.started": "2021-07-06T04:33:20.659687Z"
    }
   },
   "outputs": [],
   "source": [
    "outlier_dat = train.loc[train['Fare'] >= 400, : ]\n",
    "outlier_dat"
   ]
  },
  {
   "cell_type": "code",
   "execution_count": null,
   "metadata": {
    "execution": {
     "iopub.execute_input": "2021-07-06T04:33:21.134154Z",
     "iopub.status.busy": "2021-07-06T04:33:21.133817Z",
     "iopub.status.idle": "2021-07-06T04:33:21.432311Z",
     "shell.execute_reply": "2021-07-06T04:33:21.431404Z",
     "shell.execute_reply.started": "2021-07-06T04:33:21.134126Z"
    }
   },
   "outputs": [],
   "source": [
    "### Cabin이 값이 없는 친구들의 Pclass는 어떠할까?\n",
    "Cabin_Na = train.loc[train['Cabin'].isna(), :]\n",
    "sns.barplot(x='Pclass', y='Fare', hue='Survived', data=Cabin_Na)"
   ]
  },
  {
   "cell_type": "code",
   "execution_count": null,
   "metadata": {
    "execution": {
     "iopub.execute_input": "2021-07-06T04:33:21.772426Z",
     "iopub.status.busy": "2021-07-06T04:33:21.772084Z",
     "iopub.status.idle": "2021-07-06T04:33:22.055357Z",
     "shell.execute_reply": "2021-07-06T04:33:22.054234Z",
     "shell.execute_reply.started": "2021-07-06T04:33:21.772395Z"
    }
   },
   "outputs": [],
   "source": [
    "### Cabin이 값이 있는 친구들의 Pclass는 어떠할까?\n",
    "Cabin_NotNa = train.loc[train['Cabin'].notna(), :]\n",
    "sns.barplot(x='Pclass', y='Fare', hue='Survived', data=Cabin_NotNa)"
   ]
  },
  {
   "cell_type": "code",
   "execution_count": null,
   "metadata": {
    "execution": {
     "iopub.execute_input": "2021-07-06T04:33:22.308489Z",
     "iopub.status.busy": "2021-07-06T04:33:22.308138Z",
     "iopub.status.idle": "2021-07-06T04:33:22.618881Z",
     "shell.execute_reply": "2021-07-06T04:33:22.617781Z",
     "shell.execute_reply.started": "2021-07-06T04:33:22.308459Z"
    }
   },
   "outputs": [],
   "source": [
    "### Cabin이 값이 없는 친구들의 Pclass는 어떠할까?\n",
    "Cabin_Na = train.loc[train['Cabin'].isna(), :]\n",
    "sns.barplot(x='Pclass', y='SibSp', hue='Survived', data=Cabin_Na)"
   ]
  },
  {
   "cell_type": "code",
   "execution_count": null,
   "metadata": {
    "execution": {
     "iopub.execute_input": "2021-07-06T04:33:23.491937Z",
     "iopub.status.busy": "2021-07-06T04:33:23.491586Z",
     "iopub.status.idle": "2021-07-06T04:33:23.500737Z",
     "shell.execute_reply": "2021-07-06T04:33:23.499794Z",
     "shell.execute_reply.started": "2021-07-06T04:33:23.491905Z"
    }
   },
   "outputs": [],
   "source": [
    "train.columns"
   ]
  },
  {
   "cell_type": "code",
   "execution_count": null,
   "metadata": {
    "execution": {
     "iopub.execute_input": "2021-07-06T04:33:24.101238Z",
     "iopub.status.busy": "2021-07-06T04:33:24.100909Z",
     "iopub.status.idle": "2021-07-06T04:33:25.521138Z",
     "shell.execute_reply": "2021-07-06T04:33:25.520196Z",
     "shell.execute_reply.started": "2021-07-06T04:33:24.101208Z"
    }
   },
   "outputs": [],
   "source": [
    "titanic_plot = sns.lmplot(x='Age', y='Parch', data=train, \n",
    "                           hue='Survived',\n",
    "                           col='Pclass', col_wrap=3)"
   ]
  },
  {
   "cell_type": "code",
   "execution_count": null,
   "metadata": {
    "execution": {
     "iopub.execute_input": "2021-07-06T04:33:25.523077Z",
     "iopub.status.busy": "2021-07-06T04:33:25.522809Z",
     "iopub.status.idle": "2021-07-06T04:33:25.528791Z",
     "shell.execute_reply": "2021-07-06T04:33:25.527708Z",
     "shell.execute_reply.started": "2021-07-06T04:33:25.52305Z"
    }
   },
   "outputs": [],
   "source": [
    "### 특징(feature) 생성 아이디어 1. 3등급인데, 나이가 40-50대 다 사망.\n",
    "train.columns"
   ]
  },
  {
   "cell_type": "code",
   "execution_count": null,
   "metadata": {
    "execution": {
     "iopub.execute_input": "2021-07-06T04:33:26.130162Z",
     "iopub.status.busy": "2021-07-06T04:33:26.12984Z",
     "iopub.status.idle": "2021-07-06T04:33:26.137659Z",
     "shell.execute_reply": "2021-07-06T04:33:26.136446Z",
     "shell.execute_reply.started": "2021-07-06T04:33:26.130132Z"
    }
   },
   "outputs": [],
   "source": [
    "## FamilySize = Parch + SibSp + 1\n",
    "train['FamilySize'] = train['Parch'] + train['SibSp'] + 1\n",
    "test['FamilySize'] = test['Parch'] + test['SibSp'] + 1"
   ]
  },
  {
   "cell_type": "code",
   "execution_count": null,
   "metadata": {
    "execution": {
     "iopub.execute_input": "2021-07-06T04:33:26.874069Z",
     "iopub.status.busy": "2021-07-06T04:33:26.873742Z",
     "iopub.status.idle": "2021-07-06T04:33:26.888539Z",
     "shell.execute_reply": "2021-07-06T04:33:26.88755Z",
     "shell.execute_reply.started": "2021-07-06T04:33:26.87404Z"
    }
   },
   "outputs": [],
   "source": [
    "train.info()"
   ]
  },
  {
   "cell_type": "code",
   "execution_count": null,
   "metadata": {
    "execution": {
     "iopub.execute_input": "2021-07-06T04:33:27.783487Z",
     "iopub.status.busy": "2021-07-06T04:33:27.783131Z",
     "iopub.status.idle": "2021-07-06T04:33:29.123652Z",
     "shell.execute_reply": "2021-07-06T04:33:29.122583Z",
     "shell.execute_reply.started": "2021-07-06T04:33:27.783455Z"
    }
   },
   "outputs": [],
   "source": [
    "titanic_plot = sns.lmplot(x='Age', y='FamilySize', data=train, \n",
    "                           hue='Survived',\n",
    "                           col='Pclass', col_wrap=3)"
   ]
  },
  {
   "cell_type": "code",
   "execution_count": null,
   "metadata": {
    "execution": {
     "iopub.execute_input": "2021-07-06T04:33:29.125664Z",
     "iopub.status.busy": "2021-07-06T04:33:29.125381Z",
     "iopub.status.idle": "2021-07-06T04:33:30.436602Z",
     "shell.execute_reply": "2021-07-06T04:33:30.435517Z",
     "shell.execute_reply.started": "2021-07-06T04:33:29.125634Z"
    }
   },
   "outputs": [],
   "source": [
    "facet = sns.FacetGrid(train, col='Pclass', row='Sex', hue='Survived')\n",
    "facet = facet.map(plt.scatter, 'Age', 'Fare')\n",
    "facet = facet.add_legend()"
   ]
  },
  {
   "cell_type": "code",
   "execution_count": null,
   "metadata": {
    "execution": {
     "iopub.execute_input": "2021-07-06T04:33:30.438281Z",
     "iopub.status.busy": "2021-07-06T04:33:30.438018Z",
     "iopub.status.idle": "2021-07-06T04:33:30.44756Z",
     "shell.execute_reply": "2021-07-06T04:33:30.446624Z",
     "shell.execute_reply.started": "2021-07-06T04:33:30.438255Z"
    }
   },
   "outputs": [],
   "source": [
    "train['Age'].describe()"
   ]
  },
  {
   "cell_type": "code",
   "execution_count": null,
   "metadata": {
    "execution": {
     "iopub.execute_input": "2021-07-06T04:33:30.44914Z",
     "iopub.status.busy": "2021-07-06T04:33:30.448864Z",
     "iopub.status.idle": "2021-07-06T04:33:30.647909Z",
     "shell.execute_reply": "2021-07-06T04:33:30.647179Z",
     "shell.execute_reply.started": "2021-07-06T04:33:30.449114Z"
    }
   },
   "outputs": [],
   "source": [
    "sns.barplot(train.Pclass, train.Age)"
   ]
  },
  {
   "cell_type": "code",
   "execution_count": null,
   "metadata": {
    "execution": {
     "iopub.execute_input": "2021-07-06T04:33:30.649462Z",
     "iopub.status.busy": "2021-07-06T04:33:30.649045Z",
     "iopub.status.idle": "2021-07-06T04:33:32.7329Z",
     "shell.execute_reply": "2021-07-06T04:33:32.731834Z",
     "shell.execute_reply.started": "2021-07-06T04:33:30.64942Z"
    }
   },
   "outputs": [],
   "source": [
    "plt.bar(train.Pclass, train.Age)"
   ]
  },
  {
   "cell_type": "code",
   "execution_count": null,
   "metadata": {
    "execution": {
     "iopub.execute_input": "2021-07-06T04:33:32.735113Z",
     "iopub.status.busy": "2021-07-06T04:33:32.734734Z",
     "iopub.status.idle": "2021-07-06T04:33:32.749277Z",
     "shell.execute_reply": "2021-07-06T04:33:32.748324Z",
     "shell.execute_reply.started": "2021-07-06T04:33:32.735071Z"
    }
   },
   "outputs": [],
   "source": [
    "train.info()"
   ]
  },
  {
   "cell_type": "code",
   "execution_count": null,
   "metadata": {
    "execution": {
     "iopub.execute_input": "2021-07-06T04:33:32.751345Z",
     "iopub.status.busy": "2021-07-06T04:33:32.75093Z",
     "iopub.status.idle": "2021-07-06T04:33:34.696038Z",
     "shell.execute_reply": "2021-07-06T04:33:34.695088Z",
     "shell.execute_reply.started": "2021-07-06T04:33:32.751286Z"
    }
   },
   "outputs": [],
   "source": [
    "facet = sns.FacetGrid(train, col='Pclass', row='Sex', hue='Survived')\n",
    "facet = facet.map(sns.barplot, 'Parch', 'Age')\n",
    "facet = facet.add_legend()"
   ]
  },
  {
   "cell_type": "code",
   "execution_count": null,
   "metadata": {
    "execution": {
     "iopub.execute_input": "2021-07-06T04:33:34.697446Z",
     "iopub.status.busy": "2021-07-06T04:33:34.697179Z",
     "iopub.status.idle": "2021-07-06T04:33:36.01954Z",
     "shell.execute_reply": "2021-07-06T04:33:36.018602Z",
     "shell.execute_reply.started": "2021-07-06T04:33:34.69742Z"
    }
   },
   "outputs": [],
   "source": [
    "facet = sns.FacetGrid(train, col='Pclass', row='Sex', hue='Survived')\n",
    "facet = facet.map(plt.hist, 'Age')\n",
    "facet = facet.add_legend()\n",
    "# Pclass가 2-3등급은 전연령대에 걸쳐 남성은 사망률이 높다."
   ]
  },
  {
   "cell_type": "code",
   "execution_count": null,
   "metadata": {
    "execution": {
     "iopub.execute_input": "2021-07-06T04:33:36.021266Z",
     "iopub.status.busy": "2021-07-06T04:33:36.020976Z",
     "iopub.status.idle": "2021-07-06T04:33:36.327348Z",
     "shell.execute_reply": "2021-07-06T04:33:36.326409Z",
     "shell.execute_reply.started": "2021-07-06T04:33:36.021237Z"
    }
   },
   "outputs": [],
   "source": [
    "male_Pclass1 = train.loc[ (train['Sex']=='male') & (train['Pclass']==1), :  ]\n",
    "sns.barplot(x='Parch', y='Age', hue='Survived', data=male_Pclass1)"
   ]
  },
  {
   "cell_type": "markdown",
   "metadata": {},
   "source": [
    "### 결측치 처리"
   ]
  },
  {
   "cell_type": "code",
   "execution_count": null,
   "metadata": {
    "execution": {
     "iopub.execute_input": "2021-07-06T04:33:36.329074Z",
     "iopub.status.busy": "2021-07-06T04:33:36.328784Z",
     "iopub.status.idle": "2021-07-06T04:33:36.334595Z",
     "shell.execute_reply": "2021-07-06T04:33:36.333713Z",
     "shell.execute_reply.started": "2021-07-06T04:33:36.329045Z"
    }
   },
   "outputs": [],
   "source": [
    "train.shape, test.shape"
   ]
  },
  {
   "cell_type": "code",
   "execution_count": null,
   "metadata": {
    "execution": {
     "iopub.execute_input": "2021-07-06T04:33:36.721816Z",
     "iopub.status.busy": "2021-07-06T04:33:36.721435Z",
     "iopub.status.idle": "2021-07-06T04:33:36.752501Z",
     "shell.execute_reply": "2021-07-06T04:33:36.751645Z",
     "shell.execute_reply.started": "2021-07-06T04:33:36.721782Z"
    }
   },
   "outputs": [],
   "source": [
    "all_df = pd.concat( [train, test], join='inner', ignore_index=True)\n",
    "\n",
    "all_df"
   ]
  },
  {
   "cell_type": "code",
   "execution_count": null,
   "metadata": {
    "execution": {
     "iopub.execute_input": "2021-07-06T04:33:37.797056Z",
     "iopub.status.busy": "2021-07-06T04:33:37.796722Z",
     "iopub.status.idle": "2021-07-06T04:33:37.811844Z",
     "shell.execute_reply": "2021-07-06T04:33:37.810549Z",
     "shell.execute_reply.started": "2021-07-06T04:33:37.797025Z"
    }
   },
   "outputs": [],
   "source": [
    "all_df.info()"
   ]
  },
  {
   "cell_type": "code",
   "execution_count": null,
   "metadata": {
    "execution": {
     "iopub.execute_input": "2021-07-06T04:33:38.881782Z",
     "iopub.status.busy": "2021-07-06T04:33:38.881453Z",
     "iopub.status.idle": "2021-07-06T04:33:38.889696Z",
     "shell.execute_reply": "2021-07-06T04:33:38.88858Z",
     "shell.execute_reply.started": "2021-07-06T04:33:38.881754Z"
    }
   },
   "outputs": [],
   "source": [
    "### 결측치 처리 (요금-Fare), 정박항(Embarked)\n",
    "all_df.Embarked.value_counts()"
   ]
  },
  {
   "cell_type": "code",
   "execution_count": null,
   "metadata": {
    "execution": {
     "iopub.execute_input": "2021-07-06T04:33:41.111247Z",
     "iopub.status.busy": "2021-07-06T04:33:41.110918Z",
     "iopub.status.idle": "2021-07-06T04:33:41.123333Z",
     "shell.execute_reply": "2021-07-06T04:33:41.122516Z",
     "shell.execute_reply.started": "2021-07-06T04:33:41.111217Z"
    }
   },
   "outputs": [],
   "source": [
    "all_df['Embarked'] = all_df['Embarked'].fillna('S')\n",
    "all_df['Fare'] = all_df['Fare'].fillna( all_df.Fare.mean() )\n",
    "\n",
    "all_df.isnull().sum()"
   ]
  },
  {
   "cell_type": "code",
   "execution_count": null,
   "metadata": {
    "execution": {
     "iopub.execute_input": "2021-07-06T04:33:42.249734Z",
     "iopub.status.busy": "2021-07-06T04:33:42.249394Z",
     "iopub.status.idle": "2021-07-06T04:33:42.255456Z",
     "shell.execute_reply": "2021-07-06T04:33:42.254506Z",
     "shell.execute_reply.started": "2021-07-06T04:33:42.249701Z"
    }
   },
   "outputs": [],
   "source": [
    "all_df.columns"
   ]
  },
  {
   "cell_type": "markdown",
   "metadata": {},
   "source": [
    "### 실습 3-2 Name을 이용해서 Title 특징 만들고, Cabin_bool 만들기"
   ]
  },
  {
   "cell_type": "code",
   "execution_count": null,
   "metadata": {
    "execution": {
     "iopub.execute_input": "2021-07-06T04:33:44.631635Z",
     "iopub.status.busy": "2021-07-06T04:33:44.631258Z",
     "iopub.status.idle": "2021-07-06T04:33:44.642178Z",
     "shell.execute_reply": "2021-07-06T04:33:44.64111Z",
     "shell.execute_reply.started": "2021-07-06T04:33:44.631601Z"
    }
   },
   "outputs": [],
   "source": [
    "all_df['Title'] = all_df.Name.str.extract(\" ([A-Za-z]+)\\.\", expand=False)\n",
    "all_df['Title']"
   ]
  },
  {
   "cell_type": "code",
   "execution_count": null,
   "metadata": {
    "execution": {
     "iopub.execute_input": "2021-07-06T04:33:45.419416Z",
     "iopub.status.busy": "2021-07-06T04:33:45.419058Z",
     "iopub.status.idle": "2021-07-06T04:33:45.425844Z",
     "shell.execute_reply": "2021-07-06T04:33:45.424807Z",
     "shell.execute_reply.started": "2021-07-06T04:33:45.419382Z"
    }
   },
   "outputs": [],
   "source": [
    "all_df['Title'].unique()"
   ]
  },
  {
   "cell_type": "code",
   "execution_count": null,
   "metadata": {
    "execution": {
     "iopub.execute_input": "2021-07-06T04:33:46.170703Z",
     "iopub.status.busy": "2021-07-06T04:33:46.170355Z",
     "iopub.status.idle": "2021-07-06T04:33:46.181082Z",
     "shell.execute_reply": "2021-07-06T04:33:46.180084Z",
     "shell.execute_reply.started": "2021-07-06T04:33:46.170673Z"
    }
   },
   "outputs": [],
   "source": [
    "all_df['Title'] = all_df['Title'].replace(['Don', 'Rev', 'Dr', 'Major', 'Lady','Sir',\n",
    "                                              'Col', 'Capt', 'Countess', 'Jonkheer', 'Dona'], \"Rare\")\n",
    "all_df['Title'] = all_df['Title'].replace('Mme', \"Mrs\")\n",
    "all_df['Title'] = all_df['Title'].replace('Mlle',\"Miss\")\n",
    "all_df['Title'] = all_df['Title'].replace('Ms', \"Miss\")"
   ]
  },
  {
   "cell_type": "code",
   "execution_count": null,
   "metadata": {
    "execution": {
     "iopub.execute_input": "2021-07-06T04:33:46.785709Z",
     "iopub.status.busy": "2021-07-06T04:33:46.785354Z",
     "iopub.status.idle": "2021-07-06T04:33:46.793687Z",
     "shell.execute_reply": "2021-07-06T04:33:46.792625Z",
     "shell.execute_reply.started": "2021-07-06T04:33:46.785676Z"
    }
   },
   "outputs": [],
   "source": [
    "all_df['Title'].value_counts()"
   ]
  },
  {
   "cell_type": "code",
   "execution_count": null,
   "metadata": {
    "execution": {
     "iopub.execute_input": "2021-07-06T04:33:47.519209Z",
     "iopub.status.busy": "2021-07-06T04:33:47.518876Z",
     "iopub.status.idle": "2021-07-06T04:33:47.539467Z",
     "shell.execute_reply": "2021-07-06T04:33:47.538499Z",
     "shell.execute_reply.started": "2021-07-06T04:33:47.51918Z"
    }
   },
   "outputs": [],
   "source": [
    "all_df.loc[all_df['Cabin'].isna(), \"Cabin_bool\"] = 1 \n",
    "all_df.loc[~all_df['Cabin'].isna(), \"Cabin_bool\"] = 0 \n",
    "all_df.head()"
   ]
  },
  {
   "cell_type": "markdown",
   "metadata": {
    "execution": {
     "iopub.execute_input": "2021-07-06T02:34:45.602406Z",
     "iopub.status.busy": "2021-07-06T02:34:45.602026Z",
     "iopub.status.idle": "2021-07-06T02:34:45.607056Z",
     "shell.execute_reply": "2021-07-06T02:34:45.605732Z",
     "shell.execute_reply.started": "2021-07-06T02:34:45.602374Z"
    }
   },
   "source": [
    "### 실습 3-3 LabelEncoding해보기"
   ]
  },
  {
   "cell_type": "code",
   "execution_count": null,
   "metadata": {
    "execution": {
     "iopub.execute_input": "2021-07-06T04:33:56.424107Z",
     "iopub.status.busy": "2021-07-06T04:33:56.423759Z",
     "iopub.status.idle": "2021-07-06T04:33:56.430186Z",
     "shell.execute_reply": "2021-07-06T04:33:56.429411Z",
     "shell.execute_reply.started": "2021-07-06T04:33:56.424073Z"
    }
   },
   "outputs": [],
   "source": [
    "all_df.Embarked.unique()"
   ]
  },
  {
   "cell_type": "code",
   "execution_count": null,
   "metadata": {
    "execution": {
     "iopub.execute_input": "2021-07-06T04:33:58.103269Z",
     "iopub.status.busy": "2021-07-06T04:33:58.102942Z",
     "iopub.status.idle": "2021-07-06T04:33:58.12608Z",
     "shell.execute_reply": "2021-07-06T04:33:58.125089Z",
     "shell.execute_reply.started": "2021-07-06T04:33:58.10324Z"
    }
   },
   "outputs": [],
   "source": [
    "# sex, Title, Embarked\n",
    "sex_dic = {\"male\":0, \"female\":1}\n",
    "all_df['Sex'] = all_df['Sex'].map(sex_dic)\n",
    "\n",
    "Title_dic = {\"Mr\":0, \"Mrs\":1, \"Miss\":2, \"Master\":3, \"Rare\":4}\n",
    "all_df['Title'] = all_df['Title'].map(Title_dic)\n",
    "\n",
    "Em_dic = {\"S\":0, \"C\":1, \"Q\":2}\n",
    "all_df['Embarked'] = all_df['Embarked'].map(Em_dic)\n",
    "\n",
    "all_df.head()"
   ]
  },
  {
   "cell_type": "code",
   "execution_count": null,
   "metadata": {
    "execution": {
     "iopub.execute_input": "2021-07-06T04:34:03.287826Z",
     "iopub.status.busy": "2021-07-06T04:34:03.287493Z",
     "iopub.status.idle": "2021-07-06T04:34:03.294861Z",
     "shell.execute_reply": "2021-07-06T04:34:03.293815Z",
     "shell.execute_reply.started": "2021-07-06T04:34:03.287798Z"
    }
   },
   "outputs": [],
   "source": [
    "all_df.Cabin.unique()"
   ]
  },
  {
   "cell_type": "code",
   "execution_count": null,
   "metadata": {
    "execution": {
     "iopub.execute_input": "2021-07-06T04:35:26.129751Z",
     "iopub.status.busy": "2021-07-06T04:35:26.129412Z",
     "iopub.status.idle": "2021-07-06T04:35:26.155376Z",
     "shell.execute_reply": "2021-07-06T04:35:26.154163Z",
     "shell.execute_reply.started": "2021-07-06T04:35:26.129721Z"
    }
   },
   "outputs": [],
   "source": [
    "all_df.loc[ all_df['Cabin'].isna(), 'Cabin_First'] = 'Z'\n",
    "all_df.loc[ all_df['Cabin'].notna(), 'Cabin_First'] = all_df['Cabin'].str.slice(0,1)\n",
    "print( all_df.Cabin_First.value_counts() )\n",
    "\n",
    "all_df.head(2)"
   ]
  },
  {
   "cell_type": "code",
   "execution_count": null,
   "metadata": {
    "execution": {
     "iopub.execute_input": "2021-07-06T04:35:27.904108Z",
     "iopub.status.busy": "2021-07-06T04:35:27.90378Z",
     "iopub.status.idle": "2021-07-06T04:35:28.075314Z",
     "shell.execute_reply": "2021-07-06T04:35:28.074359Z",
     "shell.execute_reply.started": "2021-07-06T04:35:27.904077Z"
    }
   },
   "outputs": [],
   "source": [
    "tmp = all_df['Cabin_First'].value_counts()\n",
    "tmp.plot(kind='pie', autopct='%1.2f%%', figsize=(15,10))"
   ]
  },
  {
   "cell_type": "code",
   "execution_count": null,
   "metadata": {
    "execution": {
     "iopub.execute_input": "2021-07-06T04:35:28.823899Z",
     "iopub.status.busy": "2021-07-06T04:35:28.823566Z",
     "iopub.status.idle": "2021-07-06T04:35:28.846359Z",
     "shell.execute_reply": "2021-07-06T04:35:28.845498Z",
     "shell.execute_reply.started": "2021-07-06T04:35:28.823871Z"
    }
   },
   "outputs": [],
   "source": [
    "all_df['Cabin_First'] = all_df['Cabin_First'].replace(['G','T'],\"Rare\")\n",
    "print(all_df['Cabin_First'].unique())\n",
    "Cabin_First_dic = {\"A\":0, \"B\":1, \"C\":2, \"D\":3, \"E\":4, \"F\":5, \"Z\":6, \"Rare\":7}\n",
    "all_df['Cabin_First'] = all_df['Cabin_First'].map(Cabin_First_dic)\n",
    "print(all_df['Cabin_First'].unique())\n",
    "all_df.head()"
   ]
  },
  {
   "cell_type": "code",
   "execution_count": null,
   "metadata": {
    "execution": {
     "iopub.execute_input": "2021-07-06T04:35:34.465452Z",
     "iopub.status.busy": "2021-07-06T04:35:34.465088Z",
     "iopub.status.idle": "2021-07-06T04:35:34.471546Z",
     "shell.execute_reply": "2021-07-06T04:35:34.470632Z",
     "shell.execute_reply.started": "2021-07-06T04:35:34.46542Z"
    }
   },
   "outputs": [],
   "source": [
    "all_df['Cabin_First'].unique()"
   ]
  },
  {
   "cell_type": "code",
   "execution_count": null,
   "metadata": {
    "execution": {
     "iopub.execute_input": "2021-07-06T04:35:36.106356Z",
     "iopub.status.busy": "2021-07-06T04:35:36.105985Z",
     "iopub.status.idle": "2021-07-06T04:35:36.113696Z",
     "shell.execute_reply": "2021-07-06T04:35:36.11274Z",
     "shell.execute_reply.started": "2021-07-06T04:35:36.106325Z"
    }
   },
   "outputs": [],
   "source": [
    "all_df.Title.value_counts()"
   ]
  },
  {
   "cell_type": "code",
   "execution_count": null,
   "metadata": {
    "execution": {
     "iopub.execute_input": "2021-07-06T04:35:38.727974Z",
     "iopub.status.busy": "2021-07-06T04:35:38.727622Z",
     "iopub.status.idle": "2021-07-06T04:35:38.739955Z",
     "shell.execute_reply": "2021-07-06T04:35:38.738828Z",
     "shell.execute_reply.started": "2021-07-06T04:35:38.727942Z"
    }
   },
   "outputs": [],
   "source": [
    "mean_gr = all_df.groupby('Title').mean()['Age']\n",
    "print(mean_gr[1])\n",
    "mean_gr"
   ]
  },
  {
   "cell_type": "code",
   "execution_count": null,
   "metadata": {
    "execution": {
     "iopub.execute_input": "2021-07-06T04:35:39.918774Z",
     "iopub.status.busy": "2021-07-06T04:35:39.918463Z",
     "iopub.status.idle": "2021-07-06T04:35:39.931273Z",
     "shell.execute_reply": "2021-07-06T04:35:39.930379Z",
     "shell.execute_reply.started": "2021-07-06T04:35:39.918746Z"
    }
   },
   "outputs": [],
   "source": [
    "# Title_dic = {\"Mr\":0, \"Mrs\":1, \"Miss\":2, \"Master\":3, \"Rare\":4}\n",
    "\n",
    "# Mr Age 평균 처리 \n",
    "all_df.loc[ (all_df['Age'].isna() ) & (all_df['Title']==0), 'Age'] = mean_gr[0]\n",
    "all_df.loc[ (all_df['Age'].isna() ) & (all_df['Title']==1), 'Age'] = mean_gr[1]\n",
    "all_df.loc[ (all_df['Age'].isna() ) & (all_df['Title']==2), 'Age'] = mean_gr[2]\n",
    "all_df.loc[ (all_df['Age'].isna() ) & (all_df['Title']==3), 'Age'] = mean_gr[3]\n",
    "all_df.loc[ (all_df['Age'].isna() ) & (all_df['Title']==4), 'Age'] = mean_gr[4]"
   ]
  },
  {
   "cell_type": "code",
   "execution_count": null,
   "metadata": {
    "execution": {
     "iopub.execute_input": "2021-07-06T04:35:40.886808Z",
     "iopub.status.busy": "2021-07-06T04:35:40.88648Z",
     "iopub.status.idle": "2021-07-06T04:35:40.895118Z",
     "shell.execute_reply": "2021-07-06T04:35:40.894224Z",
     "shell.execute_reply.started": "2021-07-06T04:35:40.886779Z"
    }
   },
   "outputs": [],
   "source": [
    "all_df.isnull().sum()"
   ]
  },
  {
   "cell_type": "code",
   "execution_count": null,
   "metadata": {
    "execution": {
     "iopub.execute_input": "2021-07-06T04:35:42.814087Z",
     "iopub.status.busy": "2021-07-06T04:35:42.81376Z",
     "iopub.status.idle": "2021-07-06T04:35:42.832917Z",
     "shell.execute_reply": "2021-07-06T04:35:42.831971Z",
     "shell.execute_reply.started": "2021-07-06T04:35:42.814059Z"
    }
   },
   "outputs": [],
   "source": [
    "## Fare에 qcut\n",
    "all_df['Fare_qcut'] = pd.qcut(all_df['Fare'], 5, labels=False)\n",
    "all_df.head()"
   ]
  },
  {
   "cell_type": "code",
   "execution_count": null,
   "metadata": {
    "execution": {
     "iopub.execute_input": "2021-07-06T04:35:46.295644Z",
     "iopub.status.busy": "2021-07-06T04:35:46.295326Z",
     "iopub.status.idle": "2021-07-06T04:35:46.303291Z",
     "shell.execute_reply": "2021-07-06T04:35:46.302278Z",
     "shell.execute_reply.started": "2021-07-06T04:35:46.295615Z"
    }
   },
   "outputs": [],
   "source": [
    "### train, test를 나누고, train에 survived를 붙여주기\n",
    "print(train.shape, test.shape)\n",
    "\n",
    "train_df = all_df.iloc[0:891, :]\n",
    "test_df = all_df.iloc[891:, :]\n",
    "train_df.shape, test_df.shape"
   ]
  },
  {
   "cell_type": "code",
   "execution_count": null,
   "metadata": {
    "execution": {
     "iopub.execute_input": "2021-07-06T04:35:47.259252Z",
     "iopub.status.busy": "2021-07-06T04:35:47.258913Z",
     "iopub.status.idle": "2021-07-06T04:35:47.284376Z",
     "shell.execute_reply": "2021-07-06T04:35:47.282608Z",
     "shell.execute_reply.started": "2021-07-06T04:35:47.25922Z"
    }
   },
   "outputs": [],
   "source": [
    "# train_df = pd.concat([train_df, train['Survived'] ], axis=1)\n",
    "train_df['Survived'] = train['Survived']\n",
    "train_df.head()"
   ]
  },
  {
   "cell_type": "code",
   "execution_count": null,
   "metadata": {
    "execution": {
     "iopub.execute_input": "2021-07-06T04:35:48.428333Z",
     "iopub.status.busy": "2021-07-06T04:35:48.427972Z",
     "iopub.status.idle": "2021-07-06T04:35:48.453847Z",
     "shell.execute_reply": "2021-07-06T04:35:48.452868Z",
     "shell.execute_reply.started": "2021-07-06T04:35:48.428283Z"
    }
   },
   "outputs": [],
   "source": [
    "train_df.corr()"
   ]
  },
  {
   "cell_type": "code",
   "execution_count": null,
   "metadata": {
    "execution": {
     "iopub.execute_input": "2021-07-06T04:35:49.593041Z",
     "iopub.status.busy": "2021-07-06T04:35:49.592664Z",
     "iopub.status.idle": "2021-07-06T04:35:49.603721Z",
     "shell.execute_reply": "2021-07-06T04:35:49.602922Z",
     "shell.execute_reply.started": "2021-07-06T04:35:49.59301Z"
    }
   },
   "outputs": [],
   "source": [
    "train_df.isnull().sum(), test_df.isnull().sum()"
   ]
  },
  {
   "cell_type": "code",
   "execution_count": null,
   "metadata": {
    "execution": {
     "iopub.execute_input": "2021-07-06T04:35:51.260997Z",
     "iopub.status.busy": "2021-07-06T04:35:51.260667Z",
     "iopub.status.idle": "2021-07-06T04:35:51.268454Z",
     "shell.execute_reply": "2021-07-06T04:35:51.267426Z",
     "shell.execute_reply.started": "2021-07-06T04:35:51.260967Z"
    }
   },
   "outputs": [],
   "source": [
    "sel = ['Pclass', 'Sex', 'Fare_qcut', 'Embarked', 'Title', 'Cabin_bool', 'Cabin_First']\n",
    "\n",
    "# 학습에 사용될 데이터 준비 X_train, y_train\n",
    "X_train = train_df[sel]\n",
    "y_train = train_df['Survived']\n",
    "X_test = test_df[sel]"
   ]
  },
  {
   "cell_type": "code",
   "execution_count": null,
   "metadata": {
    "execution": {
     "iopub.execute_input": "2021-07-06T04:35:53.016253Z",
     "iopub.status.busy": "2021-07-06T04:35:53.015902Z",
     "iopub.status.idle": "2021-07-06T04:35:53.023697Z",
     "shell.execute_reply": "2021-07-06T04:35:53.022755Z",
     "shell.execute_reply.started": "2021-07-06T04:35:53.016219Z"
    }
   },
   "outputs": [],
   "source": [
    "train_df.Cabin_First.unique()"
   ]
  },
  {
   "cell_type": "code",
   "execution_count": null,
   "metadata": {
    "execution": {
     "iopub.execute_input": "2021-07-06T04:35:54.867254Z",
     "iopub.status.busy": "2021-07-06T04:35:54.866945Z",
     "iopub.status.idle": "2021-07-06T04:35:54.884331Z",
     "shell.execute_reply": "2021-07-06T04:35:54.883396Z",
     "shell.execute_reply.started": "2021-07-06T04:35:54.867226Z"
    }
   },
   "outputs": [],
   "source": [
    "train_df.info()"
   ]
  },
  {
   "cell_type": "code",
   "execution_count": null,
   "metadata": {
    "execution": {
     "iopub.execute_input": "2021-07-06T04:35:56.714941Z",
     "iopub.status.busy": "2021-07-06T04:35:56.714583Z",
     "iopub.status.idle": "2021-07-06T04:35:56.896785Z",
     "shell.execute_reply": "2021-07-06T04:35:56.895869Z",
     "shell.execute_reply.started": "2021-07-06T04:35:56.714906Z"
    }
   },
   "outputs": [],
   "source": [
    "from sklearn.ensemble import RandomForestClassifier\n",
    "model = RandomForestClassifier()\n",
    "model.fit(X_train, y_train)\n",
    "pred = model.predict(X_test)\n",
    "\n",
    "sub['Survived'] = pred\n",
    "sub.to_csv(\"first0706_rf01.csv\", index=False)"
   ]
  },
  {
   "cell_type": "code",
   "execution_count": null,
   "metadata": {
    "execution": {
     "iopub.execute_input": "2021-07-06T04:36:05.230994Z",
     "iopub.status.busy": "2021-07-06T04:36:05.230658Z",
     "iopub.status.idle": "2021-07-06T04:36:05.234795Z",
     "shell.execute_reply": "2021-07-06T04:36:05.23415Z",
     "shell.execute_reply.started": "2021-07-06T04:36:05.230964Z"
    }
   },
   "outputs": [],
   "source": [
    "### 특징(feature) 생성 아이디어 2. FamilySize가 5이상인 경우는 거의 사망률이 높다.(전영역)\n",
    "### 특징(feature) 생성 아이디어 4. 1등급인데, Parch값이 4인 친구들은 사망률이 높다.\n",
    "\n",
    "### 특징(feature) 생성 아이디어 1. 3등급인데, 나이가 40-50대 다 사망.\n",
    "### 특징(feature) 생성 아이디어 3. 2등급의 남성이 많이 사망률이ㅁ 높다.\n",
    "   #* 왜? ---\n",
    "### 특징(feature) 생성 아이디어 5. Pclass가 2-3등급은 전연령대에 걸쳐 남성은 사망률이 높다."
   ]
  },
  {
   "cell_type": "code",
   "execution_count": null,
   "metadata": {},
   "outputs": [],
   "source": []
  }
 ],
 "metadata": {
  "kernelspec": {
   "display_name": "Python 3",
   "language": "python",
   "name": "python3"
  },
  "language_info": {
   "codemirror_mode": {
    "name": "ipython",
    "version": 3
   },
   "file_extension": ".py",
   "mimetype": "text/x-python",
   "name": "python",
   "nbconvert_exporter": "python",
   "pygments_lexer": "ipython3",
   "version": "3.8.3"
  }
 },
 "nbformat": 4,
 "nbformat_minor": 4
}
